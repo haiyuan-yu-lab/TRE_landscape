{
 "cells": [
  {
   "cell_type": "code",
   "execution_count": 46,
   "id": "9954c050-6105-4753-9eb8-e231f6577524",
   "metadata": {
    "execution": {
     "iopub.execute_input": "2025-09-18T19:13:26.623626Z",
     "iopub.status.busy": "2025-09-18T19:13:26.623096Z",
     "iopub.status.idle": "2025-09-18T19:13:44.835432Z",
     "shell.execute_reply": "2025-09-18T19:13:44.834665Z",
     "shell.execute_reply.started": "2025-09-18T19:13:26.623596Z"
    }
   },
   "outputs": [],
   "source": [
    "import matplotlib\n",
    "import matplotlib.pyplot as plt\n",
    "import pandas as pd\n",
    "from biodatatools.utils.common import json_load\n",
    "from biodata.delimited import DelimitedReader, DelimitedWriter\n",
    "import sys\n",
    "import itertools\n",
    "import glob\n",
    "import pybedtools\n",
    "import os\n",
    "import numpy as np\n",
    "from collections import defaultdict\n",
    "import seaborn as sns\n",
    "import pickle\n",
    "from mphelper import ProcessWrapPool\n",
    "from Bio import SeqIO\n",
    "import matplotlib.image as mpimg\n",
    "from pathlib import Path\n",
    "import logomaker"
   ]
  },
  {
   "cell_type": "code",
   "execution_count": 2,
   "id": "ad00a6f4-0a5d-4f5f-af9b-dc6b66c4c0ff",
   "metadata": {
    "execution": {
     "iopub.execute_input": "2025-09-18T18:27:46.847344Z",
     "iopub.status.busy": "2025-09-18T18:27:46.846981Z",
     "iopub.status.idle": "2025-09-18T18:27:46.866361Z",
     "shell.execute_reply": "2025-09-18T18:27:46.865795Z",
     "shell.execute_reply.started": "2025-09-18T18:27:46.847318Z"
    }
   },
   "outputs": [],
   "source": [
    "font_dir = Path.cwd().parent / \"font\"\n",
    "for font in [\"Arial.ttf\", \"Arial_Bold.ttf\"]:\n",
    "    matplotlib.font_manager.fontManager.addfont(font_dir / font)\n",
    "matplotlib.rcParams[\"font.family\"] = \"Arial\"\n",
    "bfontsize = 12\n",
    "sfontsize = 9"
   ]
  },
  {
   "cell_type": "code",
   "execution_count": 3,
   "id": "293b1177-8136-472e-8f83-235ce1bd9774",
   "metadata": {
    "execution": {
     "iopub.execute_input": "2025-09-18T18:27:47.022372Z",
     "iopub.status.busy": "2025-09-18T18:27:47.021956Z",
     "iopub.status.idle": "2025-09-18T18:28:35.732366Z",
     "shell.execute_reply": "2025-09-18T18:28:35.731668Z",
     "shell.execute_reply.started": "2025-09-18T18:27:47.022344Z"
    }
   },
   "outputs": [],
   "source": [
    "PROJECT_DIR_d = \"/home/yc2553/projects/HEA/databases/\"\n",
    "PROJECT_DIR_o = \"/home/yc2553/projects/HEA/output/\"\n",
    "PROJECT_DIR_s = \"/fs/cbsuhy02/storage/yc2553/yc2553/projects/3.Human_atlas/procapnet/\"\n",
    "PROJECT_DIR_r = \"/fs/cbsuhy02/storage/yc2553/yc2553/projects/TRE_directionality/resources/\""
   ]
  },
  {
   "cell_type": "code",
   "execution_count": 28,
   "id": "3af95976-bec4-4b62-9c89-3c368eea099a",
   "metadata": {
    "execution": {
     "iopub.execute_input": "2025-09-18T19:07:01.491541Z",
     "iopub.status.busy": "2025-09-18T19:07:01.490816Z",
     "iopub.status.idle": "2025-09-18T19:07:01.496502Z",
     "shell.execute_reply": "2025-09-18T19:07:01.495737Z",
     "shell.execute_reply.started": "2025-09-18T19:07:01.491480Z"
    }
   },
   "outputs": [],
   "source": [
    "sys.path.append(f\"{PROJECT_DIR_s}2_train_models/\")\n",
    "from data_loading import extract_observed_profiles, one_hot_encode\n",
    "sys.path.append(f\"{PROJECT_DIR_s}5_modisco/\")\n",
    "from modiscolite_utils import load_modisco_results"
   ]
  },
  {
   "cell_type": "markdown",
   "id": "f08ce968-52fa-41c3-8b9b-b6ad8cf75bce",
   "metadata": {},
   "source": [
    "# Observed patterns"
   ]
  },
  {
   "cell_type": "code",
   "execution_count": 17,
   "id": "3be5a10c-c038-42a0-b683-f27f99deab85",
   "metadata": {
    "execution": {
     "iopub.execute_input": "2025-09-18T18:58:19.027641Z",
     "iopub.status.busy": "2025-09-18T18:58:19.026228Z",
     "iopub.status.idle": "2025-09-18T18:58:19.037426Z",
     "shell.execute_reply": "2025-09-18T18:58:19.036406Z",
     "shell.execute_reply.started": "2025-09-18T18:58:19.027577Z"
    }
   },
   "outputs": [],
   "source": [
    "groups = json_load(f\"{PROJECT_DIR_d}PROcap/metainfo/samples.json\")\n",
    "folders = glob.glob(f\"{PROJECT_DIR_o}procapnet/deepshap_out/*\")\n",
    "samples = [folder.split(\"/\")[-1] for folder in folders if folder.split(\"/\")[-1] in groups[\"normal_tissues\"]]"
   ]
  },
  {
   "cell_type": "code",
   "execution_count": 18,
   "id": "1a7206ce-ef75-4785-a783-96e0adcd0e25",
   "metadata": {
    "execution": {
     "iopub.execute_input": "2025-09-18T18:58:19.358128Z",
     "iopub.status.busy": "2025-09-18T18:58:19.356962Z",
     "iopub.status.idle": "2025-09-18T18:58:36.984629Z",
     "shell.execute_reply": "2025-09-18T18:58:36.983658Z",
     "shell.execute_reply.started": "2025-09-18T18:58:19.358066Z"
    }
   },
   "outputs": [],
   "source": [
    "labels = json_load(f\"{PROJECT_DIR_d}PROcap/metainfo/classifications.json\")"
   ]
  },
  {
   "cell_type": "code",
   "execution_count": 19,
   "id": "c6fc5e16-69a3-4eaf-b863-9e7e9d960c49",
   "metadata": {
    "execution": {
     "iopub.execute_input": "2025-09-18T18:58:36.986586Z",
     "iopub.status.busy": "2025-09-18T18:58:36.986165Z",
     "iopub.status.idle": "2025-09-18T18:58:38.340267Z",
     "shell.execute_reply": "2025-09-18T18:58:38.339271Z",
     "shell.execute_reply.started": "2025-09-18T18:58:36.986550Z"
    }
   },
   "outputs": [],
   "source": [
    "inputfile = f\"{PROJECT_DIR_o}procapnet/modisco_out/all_motifs.json\"\n",
    "with open(inputfile, \"rb\") as f:\n",
    "    motifs = pickle.load(f)"
   ]
  },
  {
   "cell_type": "code",
   "execution_count": 20,
   "id": "fc168c5b-e999-4a24-9c51-8ee6d1c49ec9",
   "metadata": {
    "execution": {
     "iopub.execute_input": "2025-09-18T18:58:38.341803Z",
     "iopub.status.busy": "2025-09-18T18:58:38.341349Z",
     "iopub.status.idle": "2025-09-18T18:58:39.596948Z",
     "shell.execute_reply": "2025-09-18T18:58:39.595870Z",
     "shell.execute_reply.started": "2025-09-18T18:58:38.341745Z"
    }
   },
   "outputs": [],
   "source": [
    "model_type = \"strand_merged_umap\"\n",
    "tasks = [\"counts\", \"profile\"]"
   ]
  },
  {
   "cell_type": "code",
   "execution_count": 21,
   "id": "e61668f8-be5a-44f3-8002-f44a43d3830e",
   "metadata": {
    "execution": {
     "iopub.execute_input": "2025-09-18T18:58:39.599187Z",
     "iopub.status.busy": "2025-09-18T18:58:39.598725Z",
     "iopub.status.idle": "2025-09-18T18:59:59.377306Z",
     "shell.execute_reply": "2025-09-18T18:59:59.375668Z",
     "shell.execute_reply.started": "2025-09-18T18:58:39.599148Z"
    }
   },
   "outputs": [],
   "source": [
    "df_motifs = {}\n",
    "for s, task in itertools.product(samples, tasks):\n",
    "    df_motifs[(s, task)] = pd.read_table(f\"{PROJECT_DIR_o}procapnet/finemo/{s}/{task}/hits_with_motif_names.bed\")"
   ]
  },
  {
   "cell_type": "code",
   "execution_count": 68,
   "id": "ea739d23-c16a-43f6-8ff3-c88d17a25ad0",
   "metadata": {
    "execution": {
     "iopub.execute_input": "2025-09-18T21:07:56.967209Z",
     "iopub.status.busy": "2025-09-18T21:07:56.966723Z",
     "iopub.status.idle": "2025-09-18T21:07:56.972990Z",
     "shell.execute_reply": "2025-09-18T21:07:56.972163Z",
     "shell.execute_reply.started": "2025-09-18T21:07:56.967175Z"
    }
   },
   "outputs": [],
   "source": [
    "# Get motif instances for each motif\n",
    "# If a motif instance found in multiple peaks, select the one with the highest \"hit_importance\"\n",
    "# Note for the same motif, different models may output different fwd/rev patterns; will fix it in later sections\n",
    "\n",
    "def get_motif_pos(s, task):\n",
    "    df = df_motifs[(s, task)].dropna()\n",
    "    for motif in set(df[\"motif\"]):\n",
    "        df2 = df[df[\"motif\"]==motif]\n",
    "        df2_filtered = df2.loc[df2.groupby(['#chr', 'start', 'end'])['hit_importance'].idxmax()]\n",
    "        outputfile = f\"{PROJECT_DIR_o}procapnet/instances/{s}_{task}_{motif}.bed\"\n",
    "        with DelimitedWriter(outputfile) as dw:\n",
    "            for _, row in df2_filtered.iterrows():\n",
    "                dw.write([row['#chr'], row['start'], row['end'], row['strand']])"
   ]
  },
  {
   "cell_type": "code",
   "execution_count": 69,
   "id": "3749da38-befa-4067-b767-c644ccae8ee0",
   "metadata": {
    "execution": {
     "iopub.execute_input": "2025-09-18T21:07:57.693986Z",
     "iopub.status.busy": "2025-09-18T21:07:57.693185Z",
     "iopub.status.idle": "2025-09-18T21:08:21.364098Z",
     "shell.execute_reply": "2025-09-18T21:08:21.362794Z",
     "shell.execute_reply.started": "2025-09-18T21:07:57.693928Z"
    }
   },
   "outputs": [],
   "source": [
    "pwpool = ProcessWrapPool(10)\n",
    "\t\t\n",
    "for s, task in df_motifs:\n",
    "\tpwpool.run(get_motif_pos, args=[s, task])"
   ]
  },
  {
   "cell_type": "code",
   "execution_count": 51,
   "id": "933d507f-66f0-4cad-87a6-00a33ffc8ecf",
   "metadata": {
    "execution": {
     "iopub.execute_input": "2025-09-18T17:04:01.391866Z",
     "iopub.status.busy": "2025-09-18T17:04:01.391245Z",
     "iopub.status.idle": "2025-09-18T17:04:01.396564Z",
     "shell.execute_reply": "2025-09-18T17:04:01.395602Z",
     "shell.execute_reply.started": "2025-09-18T17:04:01.391816Z"
    },
    "scrolled": true
   },
   "outputs": [],
   "source": [
    "len(pwpool.finished_tasks)"
   ]
  },
  {
   "cell_type": "code",
   "execution_count": 27,
   "id": "cbc55906-c131-4076-b5d5-169962b639bf",
   "metadata": {
    "execution": {
     "iopub.execute_input": "2025-07-16T03:09:16.171905Z",
     "iopub.status.busy": "2025-07-16T03:09:16.171534Z",
     "iopub.status.idle": "2025-07-16T03:09:16.175016Z",
     "shell.execute_reply": "2025-07-16T03:09:16.174428Z",
     "shell.execute_reply.started": "2025-07-16T03:09:16.171883Z"
    }
   },
   "outputs": [],
   "source": [
    "pwpool.close()"
   ]
  },
  {
   "cell_type": "code",
   "execution_count": 29,
   "id": "17bb67ee-2eae-41aa-8e32-577ed4cca3db",
   "metadata": {
    "execution": {
     "iopub.execute_input": "2025-09-18T19:07:33.795427Z",
     "iopub.status.busy": "2025-09-18T19:07:33.794707Z",
     "iopub.status.idle": "2025-09-18T19:07:33.803025Z",
     "shell.execute_reply": "2025-09-18T19:07:33.802167Z",
     "shell.execute_reply.started": "2025-09-18T19:07:33.795377Z"
    }
   },
   "outputs": [],
   "source": [
    "def get_matrix(bed_file, data, tss, rev):\n",
    "    strands = [i.fields[-1] for i in pybedtools.BedTool(bed_file)]\n",
    "    results = []\n",
    "    for n in range(len(strands)):\n",
    "        # Flip the prediction to be on the same orientation as the motif\n",
    "        if (strands[n] == \"-\" and rev == False) or (strands[n] == \"+\" and rev == True):\n",
    "            data[n] = data[n][::-1, ::-1]\n",
    "        \n",
    "        if tss == \"fwd\":\n",
    "            values = list(data[n][0])\n",
    "        else:\n",
    "            # set negative values for reverse strand\n",
    "            values = [-v for v in data[n][1]]\n",
    "        results.append(values)\n",
    "    df = pd.DataFrame(results)\n",
    "    return df"
   ]
  },
  {
   "cell_type": "code",
   "execution_count": 127,
   "id": "f8e46280-4f42-4f85-98ab-3763b2f49efe",
   "metadata": {
    "execution": {
     "iopub.execute_input": "2025-09-22T18:12:25.345724Z",
     "iopub.status.busy": "2025-09-22T18:12:25.345298Z",
     "iopub.status.idle": "2025-09-22T18:12:25.352926Z",
     "shell.execute_reply": "2025-09-22T18:12:25.352200Z",
     "shell.execute_reply.started": "2025-09-22T18:12:25.345697Z"
    }
   },
   "outputs": [],
   "source": [
    "def generate_individual_obs_metaplot(s, df, ax, title=True, legend=True, xlabel=True, ylabel=None, ylims=None):\n",
    "\tsns.lineplot(data=df, x=\"Position\", y=\"Feature\", \n",
    "\t\t\t\t\t estimator=np.mean, errorbar=None,\n",
    "\t\t\t\t\t hue=\"Label\", hue_order=tss_types, palette=[\"#fb8072\", \"#80b1d3\"], \n",
    "\t\t\t\t\t ax=ax)\n",
    "\tax.spines[[\"right\", \"top\"]].set_visible(False)\n",
    "\tax.spines['left'].set_position(('outward', 10))\n",
    "\tax.spines['bottom'].set_position(('outward', 10))\n",
    "\tax.axhline(y=0, ls=\"--\", c=\"grey\")\n",
    "\t\n",
    "\tif title:\n",
    "\t\tax.set_title(title, fontsize=bfontsize, pad=5)\n",
    "\tif legend:\n",
    "\t\tax.legend(fontsize=sfontsize ,frameon=False)\n",
    "\telse:\n",
    "\t\tax.legend([], [], frameon=False)\n",
    "\t\t\n",
    "\tif ylabel:\n",
    "\t\tax.set_ylabel(ylabel, fontsize=bfontsize)\n",
    "\telse:\n",
    "\t\tax.set_ylabel(\"\")\n",
    "\tif ylims:\n",
    "\t\tax.set_ylim(ylims)\n",
    "\n",
    "\tax.set_xlim([0,400])\n",
    "\tax.set_xticks([0,100,200,300,400])\n",
    "\tif xlabel:\n",
    "\t\tax.set_xticklabels([\"-200\", \"-100\", \"0\", \"100\", \"200\"])\n",
    "\t\tax.set_xlabel(\"Distance to motif (bp)\", fontsize=bfontsize)\n",
    "\telse:\n",
    "\t\tax.set_xticklabels([])\n",
    "\t\tax.set_xlabel(\"\")\n",
    "\t\n",
    "\tax.tick_params(labelsize=sfontsize)"
   ]
  },
  {
   "cell_type": "code",
   "execution_count": 101,
   "id": "a786763e-8194-4169-8e1e-eddb3b96a8a7",
   "metadata": {
    "execution": {
     "iopub.execute_input": "2025-09-18T23:57:32.798972Z",
     "iopub.status.busy": "2025-09-18T23:57:32.798516Z",
     "iopub.status.idle": "2025-09-18T23:57:32.804687Z",
     "shell.execute_reply": "2025-09-18T23:57:32.803987Z",
     "shell.execute_reply.started": "2025-09-18T23:57:32.798944Z"
    }
   },
   "outputs": [],
   "source": [
    "def generate_obs_metaplots(motif, df_metaplots, outputfile):\n",
    "    fig, axes = plt.subplots(len(df_metaplots), 1, figsize=(4, len(df_metaplots)*2))\n",
    "\n",
    "    for s in df_metaplots:\n",
    "        if len(df_metaplots) == 1:\n",
    "            ax = axes\n",
    "        else:\n",
    "            row = list(df_metaplots).index(s)\n",
    "            ax = axes[row]\n",
    "\n",
    "        title = motif if len(df_metaplots) == 1 or row == 0 else False\n",
    "        legend = True if len(df_metaplots) == 1 or row == 0 else False\n",
    "        xlabel = True if len(df_metaplots) == 1 or row == len(df_metaplots)-1 else False\n",
    "        generate_individual_obs_metaplot(s, df_metaplots[s], ax, title, legend, xlabel, s)\n",
    "    \n",
    "    plt.savefig(outputfile, bbox_inches=\"tight\")"
   ]
  },
  {
   "cell_type": "code",
   "execution_count": 104,
   "id": "c417dfa6-b6a1-458c-82da-ba44d48c61ba",
   "metadata": {
    "execution": {
     "iopub.execute_input": "2025-09-18T23:57:53.624244Z",
     "iopub.status.busy": "2025-09-18T23:57:53.623475Z",
     "iopub.status.idle": "2025-09-18T23:57:53.631981Z",
     "shell.execute_reply": "2025-09-18T23:57:53.631076Z",
     "shell.execute_reply.started": "2025-09-18T23:57:53.624196Z"
    }
   },
   "outputs": [],
   "source": [
    "def obs_profiles_across_samples(task, motif, samples, outputfile):\n",
    "\tdf_metaplots = {}\n",
    "\tfor s in samples:\n",
    "\t\t# Get observed profiles\n",
    "\t\tbed = f\"{PROJECT_DIR_o}procapnet/instances/{s}_{task}_{motif}.bed\"\n",
    "\t\tobs_profs = extract_observed_profiles(bws[s][0],\n",
    "\t\t\t\t\t\t\t\t\t\t\tbws[s][1],\n",
    "\t\t\t\t\t\t\t\t\t\t\tbed,\n",
    "\t\t\t\t\t\t\t\t\t\t\tout_window=400)\n",
    "\t\trev = True if motif in revs[task] and s in revs[task][motif] else False\n",
    "\t\t# Combine two strands\n",
    "\t\tdfs = []\n",
    "\t\tfor tss in tss_types:\n",
    "\t\t\tdf_features = get_matrix(bed, obs_profs, tss, rev)\n",
    "\t\t\tdf_reformat = pd.melt(df_features,\n",
    "\t\t\t\t\t\t\t\t  id_vars=None,\n",
    "\t\t\t\t\t\t\t\t  value_vars=list(df_features.columns),\n",
    "\t\t\t\t\t\t\t\t  var_name=\"Position\",\n",
    "\t\t\t\t\t\t\t\t  value_name=\"Feature\"\n",
    "\t\t\t\t\t\t\t\t  )\n",
    "\t\t\tdf_reformat[\"Label\"] = tss\n",
    "\t\t\tdfs.append(df_reformat)\n",
    "\t\tdf_metaplots[s] = pd.concat(dfs).reset_index(drop=True)\n",
    "\t\n",
    "\t# Generate metaplots for observed profiles\n",
    "\tgenerate_obs_metaplots(motif, df_metaplots, outputfile)"
   ]
  },
  {
   "cell_type": "code",
   "execution_count": 33,
   "id": "03b40466-1305-491c-8825-cf347c25e0ee",
   "metadata": {
    "execution": {
     "iopub.execute_input": "2025-09-18T19:07:57.572114Z",
     "iopub.status.busy": "2025-09-18T19:07:57.571847Z",
     "iopub.status.idle": "2025-09-18T19:07:58.493381Z",
     "shell.execute_reply": "2025-09-18T19:07:58.492305Z",
     "shell.execute_reply.started": "2025-09-18T19:07:57.572091Z"
    }
   },
   "outputs": [],
   "source": [
    "bws = json_load(f\"{PROJECT_DIR_d}PROcap/metainfo/sample_bws.json\")"
   ]
  },
  {
   "cell_type": "code",
   "execution_count": 39,
   "id": "aea59ab3-c0f4-4778-b25e-aa831e2e7a4d",
   "metadata": {
    "execution": {
     "iopub.execute_input": "2025-09-18T19:10:50.010017Z",
     "iopub.status.busy": "2025-09-18T19:10:50.009325Z",
     "iopub.status.idle": "2025-09-18T19:10:50.015754Z",
     "shell.execute_reply": "2025-09-18T19:10:50.015013Z",
     "shell.execute_reply.started": "2025-09-18T19:10:50.009974Z"
    }
   },
   "outputs": [],
   "source": [
    "revs = {\"counts\": {\"CREB\": [samples[n] for n in [1,2,3,6,7,8,11,14]],\n",
    "                    \"MEF2\": [\"EN23\", \"GT22\"],\n",
    "                    \"SRF\": [\"GT22\"],\n",
    "                    \"ZNF384\": [\"EN6\", \"EN3\", \"GT22\", \"EN4\", \"GT24\"],\n",
    "                    \"YY1\": [\"EN6\", \"EN23\"]\n",
    "                    }\n",
    "       }"
   ]
  },
  {
   "cell_type": "code",
   "execution_count": null,
   "id": "83fcdaab-7342-4f42-be8a-381f10e475d9",
   "metadata": {},
   "outputs": [],
   "source": [
    "tss_types = [\"fwd\", \"rev\"]"
   ]
  },
  {
   "cell_type": "code",
   "execution_count": 92,
   "id": "ef2a1db1-f47a-441d-ac79-125ebd626fd4",
   "metadata": {
    "execution": {
     "iopub.execute_input": "2025-09-18T23:44:23.478836Z",
     "iopub.status.busy": "2025-09-18T23:44:23.477899Z",
     "iopub.status.idle": "2025-09-18T23:44:23.486147Z",
     "shell.execute_reply": "2025-09-18T23:44:23.485268Z",
     "shell.execute_reply.started": "2025-09-18T23:44:23.478791Z"
    }
   },
   "outputs": [
    {
     "name": "stdout",
     "output_type": "stream",
     "text": [
      "counts 25\n",
      "profile 24\n"
     ]
    }
   ],
   "source": [
    "motif_types = defaultdict(set)\n",
    "for k in motifs:\n",
    "    motif_types[k[1]] |= set(motifs[k])\n",
    "for k in motif_types:\n",
    "    print(k, len(motif_types[k]))"
   ]
  },
  {
   "cell_type": "code",
   "execution_count": 132,
   "id": "4ea65b00-1752-4c58-b98b-cab9ea9586d8",
   "metadata": {
    "execution": {
     "iopub.execute_input": "2025-09-22T19:44:05.692435Z",
     "iopub.status.busy": "2025-09-22T19:44:05.691039Z",
     "iopub.status.idle": "2025-09-22T19:44:06.591183Z",
     "shell.execute_reply": "2025-09-22T19:44:06.589909Z",
     "shell.execute_reply.started": "2025-09-22T19:44:05.692363Z"
    }
   },
   "outputs": [],
   "source": [
    "task = \"counts\"\n",
    "motif_samples = {}\n",
    "for motif in motif_types[task]:\n",
    "\tmotif_samples[(task, motif)] = [s for s in samples if os.path.exists(f\"{PROJECT_DIR_o}procapnet/instances/{s}_{task}_{motif}.bed\")]"
   ]
  },
  {
   "cell_type": "code",
   "execution_count": 106,
   "id": "d9fb5ac0-f6c4-4d68-bac7-1ec3bc686729",
   "metadata": {
    "execution": {
     "iopub.execute_input": "2025-09-19T00:07:55.414902Z",
     "iopub.status.busy": "2025-09-19T00:07:55.414403Z",
     "iopub.status.idle": "2025-09-19T00:07:55.419051Z",
     "shell.execute_reply": "2025-09-19T00:07:55.418249Z",
     "shell.execute_reply.started": "2025-09-19T00:07:55.414870Z"
    },
    "scrolled": true
   },
   "outputs": [],
   "source": [
    "pwpool = ProcessWrapPool(10)\n",
    "\n",
    "for motif in motif_types[task]:\n",
    "\toutputfile = f\"{PROJECT_DIR_o}procapnet/temp/{task}_{motif}.pdf\"\n",
    "\tpwpool.run(obs_profiles_across_samples, args=[task, motif, motif_samples[(task, motif)], outputfile])"
   ]
  },
  {
   "cell_type": "code",
   "execution_count": 51,
   "id": "35cd6ab8-477f-4475-a01a-7e3a0e02f4c1",
   "metadata": {
    "execution": {
     "iopub.execute_input": "2025-09-18T17:04:01.391866Z",
     "iopub.status.busy": "2025-09-18T17:04:01.391245Z",
     "iopub.status.idle": "2025-09-18T17:04:01.396564Z",
     "shell.execute_reply": "2025-09-18T17:04:01.395602Z",
     "shell.execute_reply.started": "2025-09-18T17:04:01.391816Z"
    },
    "scrolled": true
   },
   "outputs": [],
   "source": [
    "len(pwpool.finished_tasks)"
   ]
  },
  {
   "cell_type": "code",
   "execution_count": 27,
   "id": "762bfcba-dc97-458f-b7ae-0bdc5dedca9b",
   "metadata": {
    "execution": {
     "iopub.execute_input": "2025-07-16T03:09:16.171905Z",
     "iopub.status.busy": "2025-07-16T03:09:16.171534Z",
     "iopub.status.idle": "2025-07-16T03:09:16.175016Z",
     "shell.execute_reply": "2025-07-16T03:09:16.174428Z",
     "shell.execute_reply.started": "2025-07-16T03:09:16.171883Z"
    }
   },
   "outputs": [],
   "source": [
    "pwpool.close()"
   ]
  },
  {
   "cell_type": "markdown",
   "id": "150963b3-9e6e-4f2a-a6d7-ca50255cf56a",
   "metadata": {},
   "source": [
    "# In silico mutagensis"
   ]
  },
  {
   "cell_type": "markdown",
   "id": "4feb5f74-6c2e-4461-a731-e919b4adac93",
   "metadata": {},
   "source": [
    "## Run prediction"
   ]
  },
  {
   "cell_type": "code",
   "execution_count": 12,
   "id": "211c9726-ba19-488a-85da-57dc16f2b5ef",
   "metadata": {
    "execution": {
     "iopub.execute_input": "2025-09-18T18:41:56.212630Z",
     "iopub.status.busy": "2025-09-18T18:41:56.211667Z",
     "iopub.status.idle": "2025-09-18T18:41:56.216704Z",
     "shell.execute_reply": "2025-09-18T18:41:56.215934Z",
     "shell.execute_reply.started": "2025-09-18T18:41:56.212578Z"
    }
   },
   "outputs": [],
   "source": [
    "mut_types = [\"wt\", \"mt\"]"
   ]
  },
  {
   "cell_type": "code",
   "execution_count": 131,
   "id": "c8833e72-aa6e-479d-988f-6935833c7870",
   "metadata": {
    "execution": {
     "iopub.execute_input": "2025-09-22T19:38:10.499797Z",
     "iopub.status.busy": "2025-09-22T19:38:10.498655Z",
     "iopub.status.idle": "2025-09-22T19:38:36.319438Z",
     "shell.execute_reply": "2025-09-22T19:38:36.315311Z",
     "shell.execute_reply.started": "2025-09-22T19:38:10.499720Z"
    }
   },
   "outputs": [],
   "source": [
    "inputfile = f\"{PROJECT_DIR_r}genomes/human/GRCh38_no_alt_analysis_set_GCA_000001405.15.fasta\"\n",
    "with open(inputfile, \"r\") as f:\n",
    "    fdict = SeqIO.to_dict(SeqIO.parse(f, \"fasta\"))"
   ]
  },
  {
   "cell_type": "code",
   "execution_count": 167,
   "id": "4cf9c7c2-de68-4229-8c8a-71d22e2d106d",
   "metadata": {
    "execution": {
     "iopub.execute_input": "2025-09-22T21:06:35.113616Z",
     "iopub.status.busy": "2025-09-22T21:06:35.112982Z",
     "iopub.status.idle": "2025-09-22T21:06:35.718124Z",
     "shell.execute_reply": "2025-09-22T21:06:35.717258Z",
     "shell.execute_reply.started": "2025-09-22T21:06:35.113563Z"
    }
   },
   "outputs": [],
   "source": [
    "# Centered on motif\n",
    "\n",
    "for motif in motif_types[task]:\n",
    "\tfor s, t in itertools.product(motif_samples[(task, motif)], mut_types):\n",
    "\t\tb = pybedtools.BedTool(f\"{PROJECT_DIR_o}procapnet/instances/{s}_{task}_{motif}.bed\")\n",
    "\t\tseqs = []\n",
    "\t\tfor i in b:\n",
    "\t\t\tchrom, m_start, m_end = i.fields[:3]\n",
    "\t\t\tm_start, m_end = int(m_start), int(m_end)\n",
    "\t\t\tcenter = (m_start+m_end)//2\n",
    "\t\t\twt_seq = fdict[chrom][center-500:center+500].seq.upper()\n",
    "\t\t\twt_seq = one_hot_encode(wt_seq)\n",
    "\t\t\tif t == \"wt\":\n",
    "\t\t\t\tseqs.append(wt_seq.T)\n",
    "\t\t\telse:\n",
    "\t\t\t\t# in-silico deletion: replace motif instance with [0,0,0,0]\n",
    "\t\t\t\tmt_seq = wt_seq\n",
    "\t\t\t\tfor i in range(500-(center-m_start), 500+(center-m_start)):\n",
    "\t\t\t\t\tmt_seq[i] = [0,0,0,0]\n",
    "\t\t\t\tseqs.append(mt_seq.T)\n",
    "\t\tseqs = np.array(seqs)\n",
    "\t\toutputfile = f\"{PROJECT_DIR_o}procapnet/motif_prediction/{s}_{task}_{motif}_{t}.npy\"\n",
    "\t\tnp.save(outputfile, seqs)"
   ]
  },
  {
   "cell_type": "code",
   "execution_count": 171,
   "id": "cfbd7766-9d54-46ba-8b1d-a0eb2311d74d",
   "metadata": {
    "execution": {
     "iopub.execute_input": "2025-09-22T21:07:31.089421Z",
     "iopub.status.busy": "2025-09-22T21:07:31.081161Z",
     "iopub.status.idle": "2025-09-22T21:07:31.109204Z",
     "shell.execute_reply": "2025-09-22T21:07:31.107805Z",
     "shell.execute_reply.started": "2025-09-22T21:07:31.089300Z"
    },
    "scrolled": true
   },
   "outputs": [],
   "source": [
    "script = f\"{PROJECT_DIR_s}slurm/predict.sh\"\n",
    "model_type = \"strand_merged_umap\"\n",
    "for motif in motif_types[task]:\n",
    "\tfor s, t in itertools.product(motif_samples[(task, motif)], mut_types):\n",
    "\t\tinputfile = f\"{PROJECT_DIR_o}procapnet/motif_prediction/{s}_{task}_{motif}_{t}.npy\"\n",
    "\t\tcommands = [\"bash\", script,\n",
    "\t\t\t\t\ts,\n",
    "\t\t\t\t\tmodel_type,\n",
    "\t\t\t\t\tf\"{PROJECT_DIR_o}procapnet/\",\n",
    "\t\t\t\t\tinputfile,\n",
    "\t\t\t\t\tf\"{PROJECT_DIR_o}procapnet/motif_prediction/{s}_{task}_{motif}_{t}.\",\n",
    "\t\t\t\t\tstr(mut_types.index(t))\n",
    "\t\t\t\t\t]\n",
    "\t\tprint(\" \".join(commands))"
   ]
  },
  {
   "cell_type": "markdown",
   "id": "0a88354e-42ac-45ec-91a6-d56957051583",
   "metadata": {},
   "source": [
    "## Predicted profiles"
   ]
  },
  {
   "cell_type": "code",
   "execution_count": 34,
   "id": "34c5dade-363e-4a26-9cc0-dbf003221e77",
   "metadata": {
    "execution": {
     "iopub.execute_input": "2025-09-18T19:07:58.494664Z",
     "iopub.status.busy": "2025-09-18T19:07:58.494340Z",
     "iopub.status.idle": "2025-09-18T19:07:59.886460Z",
     "shell.execute_reply": "2025-09-18T19:07:59.885398Z",
     "shell.execute_reply.started": "2025-09-18T19:07:58.494641Z"
    }
   },
   "outputs": [],
   "source": [
    "def get_scaled_profiles(s, task, motif, t):\n",
    "    f1 = f\"{PROJECT_DIR_o}procapnet/motif_prediction/{s}_{task}_{motif}_{t}.pred_counts.npy\"\n",
    "    f2 = f\"{PROJECT_DIR_o}procapnet/motif_prediction/{s}_{task}_{motif}_{t}.pred_profiles.npy\"\n",
    "    pred_counts = np.load(f1)\n",
    "    pred_profiles = np.load(f2)\n",
    "    scaled_pred_profiles = pred_profiles * np.exp(pred_counts)[..., None]\n",
    "    return scaled_pred_profiles"
   ]
  },
  {
   "cell_type": "code",
   "execution_count": 128,
   "id": "1a6f5783-1789-47de-a7db-fb590d67d80c",
   "metadata": {
    "execution": {
     "iopub.execute_input": "2025-09-22T18:12:30.311241Z",
     "iopub.status.busy": "2025-09-22T18:12:30.310833Z",
     "iopub.status.idle": "2025-09-22T18:12:30.320632Z",
     "shell.execute_reply": "2025-09-22T18:12:30.319910Z",
     "shell.execute_reply.started": "2025-09-22T18:12:30.311216Z"
    }
   },
   "outputs": [],
   "source": [
    "def generate_individual_pred_metaplot(s, df, ax, title=True, legend=True, xlabel=True, ylabel=None, legend_loc=\"right\", ylims=None):\n",
    "\thue_order = [f\"{tss} ({mut})\" for tss, mut in itertools.product(tss_types, mut_types)]\n",
    "\tpalette = [\"#fb8072\", \"#a50f15\", \"#80b1d3\", \"#08519c\"]\n",
    "\t\n",
    "\tsns.lineplot(data=df, x=\"Position\", y=\"Feature\", \n",
    "\t\t\t\t\t estimator=np.mean, errorbar=None,\n",
    "\t\t\t\t\t hue=\"Label\", hue_order=hue_order, palette=palette, \n",
    "\t\t\t\t\t ax=ax)\n",
    "\t\n",
    "\tax.spines[[\"right\", \"top\"]].set_visible(False)\n",
    "\tax.spines['left'].set_position(('outward', 10))\n",
    "\tax.spines['bottom'].set_position(('outward', 10))\n",
    "\tax.axhline(y=0, ls=\"--\", c=\"grey\")\n",
    "\t\n",
    "\tif title:\n",
    "\t\tax.set_title(title, fontsize=bfontsize, pad=5)\n",
    "\tif legend:\n",
    "\t\tif legend_loc == \"right\":\n",
    "\t\t\tax.legend(fontsize=sfontsize, loc=\"upper left\", bbox_to_anchor=(1.02,1), frameon=False)\n",
    "\t\telse:\n",
    "\t\t\tax.legend(fontsize=sfontsize, loc=\"lower center\", bbox_to_anchor=(1.1,-0.8), ncols=4, frameon=False)\n",
    "\telse:\n",
    "\t\tax.legend([], [], frameon=False)\n",
    "\t\n",
    "\tif ylabel:\n",
    "\t\tax.set_ylabel(ylabel, fontsize=bfontsize)\n",
    "\telse:\n",
    "\t\tax.set_ylabel(\"\")\n",
    "\tif ylims:\n",
    "\t\tax.set_ylim(ylims)\n",
    "\n",
    "\tax.set_xlim([50,450])\n",
    "\tax.set_xticks([50,150,250,350,450])\n",
    "\tif xlabel:\n",
    "\t\tax.set_xticklabels([\"-200\", \"-100\", \"0\", \"100\", \"200\"])\n",
    "\t\tax.set_xlabel(\"Distance to motif (bp)\", fontsize=bfontsize)\n",
    "\telse:\n",
    "\t\tax.set_xticklabels([])\n",
    "\t\tax.set_xlabel(\"\")\n",
    "\t\n",
    "\tax.tick_params(labelsize=sfontsize)"
   ]
  },
  {
   "cell_type": "code",
   "execution_count": 108,
   "id": "6553aaa1-3691-4654-85e9-0468c7309818",
   "metadata": {
    "execution": {
     "iopub.execute_input": "2025-09-19T00:08:12.880476Z",
     "iopub.status.busy": "2025-09-19T00:08:12.879686Z",
     "iopub.status.idle": "2025-09-19T00:08:12.888143Z",
     "shell.execute_reply": "2025-09-19T00:08:12.887215Z",
     "shell.execute_reply.started": "2025-09-19T00:08:12.880425Z"
    }
   },
   "outputs": [],
   "source": [
    "def generate_pred_metaplots(motif, df_metaplots, outputfile, legend_loc=\"right\"):\n",
    "    fig, axes = plt.subplots(len(df_metaplots), 1, figsize=(4, len(df_metaplots)*2))\n",
    "    \n",
    "    for s in df_metaplots:\n",
    "        if len(df_metaplots) == 1:\n",
    "            ax = axes\n",
    "        else:\n",
    "            row = list(df_metaplots).index(s)\n",
    "            ax = axes[row]\n",
    "\n",
    "        title = motif if len(df_metaplots) == 1 or row == 0 else False\n",
    "        legend = True if len(df_metaplots) == 1 or row == 0 else False\n",
    "        xlabel = True if len(df_metaplots) == 1 or row == len(df_metaplots)-1 else False\n",
    "        generate_individual_pred_metaplot(s, df_metaplots[s], ax, title, legend, xlabel, s, legend_loc)\n",
    "    \n",
    "    plt.savefig(outputfile, bbox_inches=\"tight\")"
   ]
  },
  {
   "cell_type": "code",
   "execution_count": 112,
   "id": "45115ce0-64c7-4c4a-8e75-094531059c69",
   "metadata": {
    "execution": {
     "iopub.execute_input": "2025-09-19T00:09:23.549484Z",
     "iopub.status.busy": "2025-09-19T00:09:23.548867Z",
     "iopub.status.idle": "2025-09-19T00:09:23.558476Z",
     "shell.execute_reply": "2025-09-19T00:09:23.557514Z",
     "shell.execute_reply.started": "2025-09-19T00:09:23.549440Z"
    }
   },
   "outputs": [],
   "source": [
    "def pred_profiles_across_samples(task, motif, samples, outputfile, legend_loc=\"right\"):\n",
    "    df_metaplots = {}\n",
    "    for s in samples:\n",
    "        bed = f\"{PROJECT_DIR_o}procapnet/instances/{s}_{task}_{motif}.bed\"\n",
    "        rev = True if motif in revs[task] and s in revs[task][motif] else False\n",
    "        dfs = []\n",
    "        for mut in mut_types:\n",
    "            # Get predicted profiles (scaled) for wt and mt sequences\n",
    "            pred_profs = get_scaled_profiles(s, task, motif, mut)\n",
    "            for tss in tss_types:\n",
    "                df_features = get_matrix(bed, pred_profs, tss, rev)     \n",
    "                df_reformat = pd.melt(df_features,\n",
    "                                              id_vars=None,\n",
    "                                              value_vars=list(df_features.columns),\n",
    "                                              var_name=\"Position\",\n",
    "                                              value_name=\"Feature\"\n",
    "                                              )\n",
    "                df_reformat[\"Label\"] = f\"{tss} ({mut})\"\n",
    "                dfs.append(df_reformat)\n",
    "        df_metaplots[s] = pd.concat(dfs).reset_index(drop=True) \n",
    "\n",
    "    # Generate metaplots of predicted profiles\n",
    "    generate_pred_metaplots(motif, df_metaplots, outputfile, legend_loc)"
   ]
  },
  {
   "cell_type": "code",
   "execution_count": 114,
   "id": "550eff72-f3e3-47e8-8f02-455892133d8a",
   "metadata": {
    "execution": {
     "iopub.execute_input": "2025-09-19T00:10:02.937292Z",
     "iopub.status.busy": "2025-09-19T00:10:02.936215Z",
     "iopub.status.idle": "2025-09-19T00:10:02.941393Z",
     "shell.execute_reply": "2025-09-19T00:10:02.940457Z",
     "shell.execute_reply.started": "2025-09-19T00:10:02.937238Z"
    },
    "scrolled": true
   },
   "outputs": [],
   "source": [
    "pwpool = ProcessWrapPool(10)\n",
    "\n",
    "for motif in motif_types[task]:\n",
    "\toutputfile = f\"{PROJECT_DIR_o}procapnet/temp/{task}_{motif}_pred.pdf\"\n",
    "\tpwpool.run(pred_profiles_across_samples, args=[task, motif, motif_samples[(task, motif)], outputfile])"
   ]
  },
  {
   "cell_type": "code",
   "execution_count": 51,
   "id": "a29f6bfb-a679-4102-830c-3a6edb1e482f",
   "metadata": {
    "execution": {
     "iopub.execute_input": "2025-09-18T17:04:01.391866Z",
     "iopub.status.busy": "2025-09-18T17:04:01.391245Z",
     "iopub.status.idle": "2025-09-18T17:04:01.396564Z",
     "shell.execute_reply": "2025-09-18T17:04:01.395602Z",
     "shell.execute_reply.started": "2025-09-18T17:04:01.391816Z"
    },
    "scrolled": true
   },
   "outputs": [],
   "source": [
    "len(pwpool.finished_tasks)"
   ]
  },
  {
   "cell_type": "code",
   "execution_count": 27,
   "id": "b2829ecc-3d43-43e8-9892-5a706248e779",
   "metadata": {
    "execution": {
     "iopub.execute_input": "2025-07-16T03:09:16.171905Z",
     "iopub.status.busy": "2025-07-16T03:09:16.171534Z",
     "iopub.status.idle": "2025-07-16T03:09:16.175016Z",
     "shell.execute_reply": "2025-07-16T03:09:16.174428Z",
     "shell.execute_reply.started": "2025-07-16T03:09:16.171883Z"
    }
   },
   "outputs": [],
   "source": [
    "pwpool.close()"
   ]
  },
  {
   "cell_type": "markdown",
   "id": "80aae9c0-7fbd-4fbf-bea2-e3ea12639045",
   "metadata": {},
   "source": [
    "# Broad vs. focused effect curves"
   ]
  },
  {
   "cell_type": "code",
   "execution_count": 40,
   "id": "7594799c-d8a4-4863-98a4-cb9350ad1c32",
   "metadata": {
    "execution": {
     "iopub.execute_input": "2025-09-18T19:10:57.449004Z",
     "iopub.status.busy": "2025-09-18T19:10:57.448330Z",
     "iopub.status.idle": "2025-09-18T19:10:57.453704Z",
     "shell.execute_reply": "2025-09-18T19:10:57.452759Z",
     "shell.execute_reply.started": "2025-09-18T19:10:57.448956Z"
    }
   },
   "outputs": [],
   "source": [
    "# Highlight these motifs\n",
    "\n",
    "example_samples = {\"CREB\": \"EN55\",\n",
    "                   \"TATA\": \"BCT5\",\n",
    "                   \"SRF\": \"GT22\",\n",
    "                   \"MEF2\": \"EN23\"\n",
    "                  }"
   ]
  },
  {
   "cell_type": "code",
   "execution_count": 84,
   "id": "821de14d-0de1-4b0b-b234-0d90b7c02b0a",
   "metadata": {
    "execution": {
     "iopub.execute_input": "2025-09-18T23:01:15.647095Z",
     "iopub.status.busy": "2025-09-18T23:01:15.646575Z",
     "iopub.status.idle": "2025-09-18T23:05:08.027881Z",
     "shell.execute_reply": "2025-09-18T23:05:08.026650Z",
     "shell.execute_reply.started": "2025-09-18T23:01:15.647064Z"
    },
    "scrolled": true
   },
   "outputs": [
    {
     "name": "stdout",
     "output_type": "stream",
     "text": [
      "== In Extract Profiles ==\n",
      "Peak filepath: /home/yc2553/projects/HEA/output/procapnet/instances/EN55_counts_CREB.bed\n",
      "Profile length: 400\n",
      "Num. Examples: 56422\n",
      "== In Extract Profiles ==\n",
      "Peak filepath: /home/yc2553/projects/HEA/output/procapnet/instances/BCT5_counts_TATA.bed\n",
      "Profile length: 400\n",
      "Num. Examples: 30713\n",
      "== In Extract Profiles ==\n",
      "Peak filepath: /home/yc2553/projects/HEA/output/procapnet/instances/GT22_counts_SRF.bed\n",
      "Profile length: 400\n",
      "Num. Examples: 1416\n",
      "== In Extract Profiles ==\n",
      "Peak filepath: /home/yc2553/projects/HEA/output/procapnet/instances/EN23_counts_MEF2.bed\n",
      "Profile length: 400\n",
      "Num. Examples: 10251\n"
     ]
    }
   ],
   "source": [
    "df_obs_metaplots = {}\n",
    "df_pred_metaplots = {}\n",
    "\n",
    "for motif in example_samples:\n",
    "\ts = example_samples[motif]\n",
    "\trev = True if motif in revs[task] and s in revs[task][motif] else False\n",
    "\tbed = f\"{PROJECT_DIR_o}procapnet/instances/{s}_{task}_{motif}.bed\"\n",
    "\t\n",
    "\t# Observed profiles\n",
    "\tobs_profs = extract_observed_profiles(bws[s][0],\n",
    "\t\t\t\t\t\t\t\t\t\tbws[s][1],\n",
    "\t\t\t\t\t\t\t\t\t\tbed,\n",
    "\t\t\t\t\t\t\t\t\t\tout_window=400)\n",
    "\tdfs = []\n",
    "\tfor tss in tss_types:\n",
    "\t\tdf_features = get_matrix(bed, obs_profs, tss, rev)\n",
    "\t\tdf_reformat = pd.melt(df_features,\n",
    "\t\t\t\t\t\t\t  id_vars=None,\n",
    "\t\t\t\t\t\t\t  value_vars=list(df_features.columns),\n",
    "\t\t\t\t\t\t\t  var_name=\"Position\",\n",
    "\t\t\t\t\t\t\t  value_name=\"Feature\"\n",
    "\t\t\t\t\t\t\t  )\n",
    "\t\tdf_reformat[\"Label\"] = tss\n",
    "\t\tdfs.append(df_reformat)\n",
    "\tdf_obs_metaplots[s] = pd.concat(dfs).reset_index(drop=True)    \n",
    "\n",
    "\t# Predicted profiles\n",
    "\tdfs = []\n",
    "\tfor mut in mut_types:\n",
    "\t\tpred_profs = get_scaled_profiles(s, task, motif, mut)\n",
    "\t\tfor tss in tss_types:\n",
    "\t\t\tdf_features = get_matrix(bed, pred_profs, tss, rev)\n",
    "\t\t\tdf_reformat = pd.melt(df_features,\n",
    "\t\t\t\t\t\t\t  id_vars=None,\n",
    "\t\t\t\t\t\t\t  value_vars=list(df_features.columns),\n",
    "\t\t\t\t\t\t\t  var_name=\"Position\",\n",
    "\t\t\t\t\t\t\t  value_name=\"Feature\"\n",
    "\t\t\t\t\t\t\t  ) \n",
    "\t\t\tdf_reformat[\"Label\"] = f\"{tss} ({mut})\"\n",
    "\t\t\tdfs.append(df_reformat)\n",
    "\tdf_pred_metaplots[s] = pd.concat(dfs).reset_index(drop=True)  "
   ]
  },
  {
   "cell_type": "code",
   "execution_count": 41,
   "id": "09d5ee05-433e-45df-b2e3-9eb68e4ae29f",
   "metadata": {
    "execution": {
     "iopub.execute_input": "2025-09-18T19:10:58.027589Z",
     "iopub.status.busy": "2025-09-18T19:10:58.026949Z",
     "iopub.status.idle": "2025-09-18T19:11:16.928375Z",
     "shell.execute_reply": "2025-09-18T19:11:16.927289Z",
     "shell.execute_reply.started": "2025-09-18T19:10:58.027548Z"
    }
   },
   "outputs": [],
   "source": [
    "# Refer to codes in https://github.com/jmschrei/tfmodisco-lite/blob/main/modiscolite/report.py and https://github.com/kundajelab/ProCapNet/blob/main/src/figure_notebooks/other_motif_utils.py\n",
    "\n",
    "def trim_motif(cwm, trim_threshold=0.3, pad=2): \n",
    "    trim_thresh = np.max(cwm) * trim_threshold\n",
    "    pass_inds = np.where(cwm >= trim_thresh)[0]\n",
    "\n",
    "    start = max(np.min(pass_inds) - pad, 0)\n",
    "    end = min(np.max(pass_inds) + pad + 1, len(cwm) + 1)\n",
    "    return cwm[start:end]\n",
    "\n",
    "def plot_weights(array, ax):\n",
    "    df = pd.DataFrame(array, columns=['A', 'C', 'G', 'T'])\n",
    "    df.index.name = 'pos'\n",
    "    crp_logo = logomaker.Logo(df, ax=ax)\n",
    "    crp_logo.style_spines(visible=False)\n",
    "    ax.set_ylim(min(df.sum(axis=1).min(), 0), df.sum(axis=1).max())\n",
    "    return crp_logo"
   ]
  },
  {
   "cell_type": "code",
   "execution_count": 123,
   "id": "0b6ae26a-20c2-49c0-bb97-103273d7807d",
   "metadata": {
    "execution": {
     "iopub.execute_input": "2025-09-22T16:34:56.124686Z",
     "iopub.status.busy": "2025-09-22T16:34:56.124392Z",
     "iopub.status.idle": "2025-09-22T16:34:56.130651Z",
     "shell.execute_reply": "2025-09-22T16:34:56.128830Z",
     "shell.execute_reply.started": "2025-09-22T16:34:56.124661Z"
    }
   },
   "outputs": [],
   "source": [
    "obs_ylims = [[-7,7], [-7,7], [-70,70], [-3,3]]\n",
    "pred_ylims = [[-3,3], [-3,3], [-25,25], [-1.8,1.8]]"
   ]
  },
  {
   "cell_type": "code",
   "execution_count": 129,
   "id": "0a6e5f4c-2083-4854-99ff-a317a14fb77b",
   "metadata": {
    "execution": {
     "iopub.execute_input": "2025-09-22T18:12:33.571481Z",
     "iopub.status.busy": "2025-09-22T18:12:33.571076Z",
     "iopub.status.idle": "2025-09-22T19:03:22.808250Z",
     "shell.execute_reply": "2025-09-22T19:03:22.807167Z",
     "shell.execute_reply.started": "2025-09-22T18:12:33.571454Z"
    },
    "scrolled": true
   },
   "outputs": [],
   "source": [
    "fig, ax = plt.subplots(3, len(example_samples), figsize=(9.5, 4.5), gridspec_kw={'height_ratios': [1, 2, 2]})\n",
    "for motif in example_samples:\n",
    "\tcol = list(example_samples).index(motif)\n",
    "\ts = example_samples[motif]\n",
    "\t\n",
    "\t# Sequence logo\n",
    "\trow = 0\n",
    "\tmodisco_results = load_modisco_results(f\"{PROJECT_DIR_o}procapnet/modisco_out/{s}/{model_type}/merged/{task}_modisco_results.hd5\")\n",
    "\tpattern = modisco_results[\"pos_patterns\"][f\"pattern_{motifs[(s, task)][motif]}\"]\n",
    "\tcwm_fwd = np.array(pattern['contrib_scores'][:])\n",
    "\trev = True if motif in revs[task] and s in revs[task][motif] else False\n",
    "\tcwm = cwm_fwd[::-1, ::-1] if rev else cwm_fwd\n",
    "\tcwm_trim = trim_motif(cwm)\n",
    "\tplot_weights(cwm_trim, ax[row, col])\n",
    "\tax[row, col].set_xticks([])\n",
    "\tax[row, col].set_yticks([])\n",
    "\tax[row, col].set_title(motif, fontsize=bfontsize)\n",
    "\n",
    "\ttitle = \"\"\n",
    "\t# Observed profiles\n",
    "\trow = 1\t\n",
    "\tlegend = False\n",
    "\txlabel = False\n",
    "\tylabel = \"Observed\" if col == 0 else False\n",
    "\tgenerate_individual_obs_metaplot(s, df_obs_metaplots[s], ax[row, col], title, legend, xlabel, ylabel, obs_ylims[col])\n",
    "\t\n",
    "\t# Predicted profiles before and after in silico mutagenesis\n",
    "\trow = 2\n",
    "\tlegend = True if col == 1 else False\n",
    "\txlabel = True\n",
    "\tylabel = \"Predicted\" if col == 0 else False\n",
    "\tgenerate_individual_pred_metaplot(s, df_pred_metaplots[s], ax[row, col], title, legend, xlabel, ylabel, \"lower\", pred_ylims[col])\n",
    "\n",
    "plt.subplots_adjust(wspace=0.4, hspace=0.3)\n",
    "plt.savefig(f\"{PROJECT_DIR_o}figures/Fig5a.pdf\", bbox_inches=\"tight\", transparent=True)"
   ]
  },
  {
   "cell_type": "code",
   "execution_count": null,
   "id": "0cead8a5-d575-4880-878f-70d794ba31f1",
   "metadata": {},
   "outputs": [],
   "source": []
  }
 ],
 "metadata": {
  "kernelspec": {
   "display_name": "Python 3 (ipykernel)",
   "language": "python",
   "name": "python3"
  },
  "language_info": {
   "codemirror_mode": {
    "name": "ipython",
    "version": 3
   },
   "file_extension": ".py",
   "mimetype": "text/x-python",
   "name": "python",
   "nbconvert_exporter": "python",
   "pygments_lexer": "ipython3",
   "version": "3.10.8"
  }
 },
 "nbformat": 4,
 "nbformat_minor": 5
}
