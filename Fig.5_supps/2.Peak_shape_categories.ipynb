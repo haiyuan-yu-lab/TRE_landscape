{
 "cells": [
  {
   "cell_type": "code",
   "execution_count": 52,
   "id": "32d1dd9f-8b92-4794-ae69-753b2b6cf817",
   "metadata": {
    "execution": {
     "iopub.execute_input": "2025-09-18T17:04:57.850622Z",
     "iopub.status.busy": "2025-09-18T17:04:57.850019Z",
     "iopub.status.idle": "2025-09-18T17:04:57.856651Z",
     "shell.execute_reply": "2025-09-18T17:04:57.855905Z",
     "shell.execute_reply.started": "2025-09-18T17:04:57.850568Z"
    }
   },
   "outputs": [],
   "source": [
    "import pandas as pd\n",
    "from biodatatools.utils.common import json_load\n",
    "import seaborn as sns\n",
    "from collections import defaultdict\n",
    "import matplotlib\n",
    "import matplotlib.pyplot as plt\n",
    "import pybedtools\n",
    "import itertools\n",
    "import biodataplot.genomeview as gv\n",
    "import biodataplot.utils as bpu\n",
    "from statannotations.Annotator import Annotator\n",
    "from pathlib import Path\n",
    "import sys\n",
    "import numpy as np"
   ]
  },
  {
   "cell_type": "code",
   "execution_count": 53,
   "id": "f3c8b7a9-e1bb-4b5c-a333-372db4fa167c",
   "metadata": {
    "execution": {
     "iopub.execute_input": "2025-09-18T17:04:57.858555Z",
     "iopub.status.busy": "2025-09-18T17:04:57.858149Z",
     "iopub.status.idle": "2025-09-18T17:04:58.946202Z",
     "shell.execute_reply": "2025-09-18T17:04:58.945324Z",
     "shell.execute_reply.started": "2025-09-18T17:04:57.858519Z"
    }
   },
   "outputs": [],
   "source": [
    "font_dir = Path.cwd().parent / \"font\"\n",
    "for font in [\"Arial.ttf\", \"Arial_Bold.ttf\"]:\n",
    "    matplotlib.font_manager.fontManager.addfont(font_dir / font)\n",
    "matplotlib.rcParams[\"font.family\"] = \"Arial\"\n",
    "bfontsize = 12\n",
    "sfontsize = 9\n",
    "lw = 0.8"
   ]
  },
  {
   "cell_type": "code",
   "execution_count": 54,
   "id": "261d233f-0855-435a-a321-8a58dfcaeb9e",
   "metadata": {
    "execution": {
     "iopub.execute_input": "2025-09-18T17:04:58.947799Z",
     "iopub.status.busy": "2025-09-18T17:04:58.947304Z",
     "iopub.status.idle": "2025-09-18T17:05:06.979208Z",
     "shell.execute_reply": "2025-09-18T17:05:06.978321Z",
     "shell.execute_reply.started": "2025-09-18T17:04:58.947748Z"
    }
   },
   "outputs": [],
   "source": [
    "sys.path.append(str(Path.cwd().parent))\n",
    "import utils"
   ]
  },
  {
   "cell_type": "code",
   "execution_count": 55,
   "id": "0c07667f-2899-4a70-8129-ef15bd12498d",
   "metadata": {
    "execution": {
     "iopub.execute_input": "2025-09-18T17:05:06.980790Z",
     "iopub.status.busy": "2025-09-18T17:05:06.980298Z",
     "iopub.status.idle": "2025-09-18T17:05:08.355591Z",
     "shell.execute_reply": "2025-09-18T17:05:08.354712Z",
     "shell.execute_reply.started": "2025-09-18T17:05:06.980740Z"
    }
   },
   "outputs": [],
   "source": [
    "PROJECT_DIR_d = \"/home/yc2553/projects/HEA/databases/\"\n",
    "PROJECT_DIR_r = \"/fs/cbsuhy02/storage/yc2553/yc2553/projects/TRE_directionality/resources/\"\n",
    "PROJECT_DIR_o = \"/fs/cbsuhy02/storage/yc2553/yc2553/projects/3.Human_atlas/output/\"\n",
    "PROJECT_DIR_o2 = \"/home/yc2553/projects/HEA/output/\""
   ]
  },
  {
   "cell_type": "markdown",
   "id": "286a2fbe-e9ef-4368-aa58-0e8a2dbeebe5",
   "metadata": {},
   "source": [
    "# Get shape index"
   ]
  },
  {
   "cell_type": "code",
   "execution_count": 6,
   "id": "86635f67-1d24-48e4-9d5b-20385d655885",
   "metadata": {
    "execution": {
     "iopub.execute_input": "2025-09-18T08:31:57.751796Z",
     "iopub.status.busy": "2025-09-18T08:31:57.751246Z",
     "iopub.status.idle": "2025-09-18T08:31:58.473288Z",
     "shell.execute_reply": "2025-09-18T08:31:58.472204Z",
     "shell.execute_reply.started": "2025-09-18T08:31:57.751745Z"
    }
   },
   "outputs": [],
   "source": [
    "labels = json_load(f\"{PROJECT_DIR_d}PROcap/metainfo/classifications.json\")"
   ]
  },
  {
   "cell_type": "code",
   "execution_count": 7,
   "id": "007ab6c4-10bb-493f-ab57-9067f2c636cd",
   "metadata": {
    "execution": {
     "iopub.execute_input": "2025-09-18T08:32:10.792898Z",
     "iopub.status.busy": "2025-09-18T08:32:10.791919Z",
     "iopub.status.idle": "2025-09-18T08:32:12.558771Z",
     "shell.execute_reply": "2025-09-18T08:32:12.557805Z",
     "shell.execute_reply.started": "2025-09-18T08:32:10.792848Z"
    }
   },
   "outputs": [
    {
     "data": {
      "text/plain": [
       "93"
      ]
     },
     "execution_count": 7,
     "metadata": {},
     "output_type": "execute_result"
    }
   ],
   "source": [
    "inputfile = f\"{PROJECT_DIR_d}PROcap/metainfo/keep_samples.txt\"\n",
    "samples = list(pd.read_table(inputfile, header=None)[0])\n",
    "len(samples)"
   ]
  },
  {
   "cell_type": "code",
   "execution_count": 8,
   "id": "86208769-d977-459f-a26c-d6cf926f98b4",
   "metadata": {
    "execution": {
     "iopub.execute_input": "2025-09-18T08:32:12.560548Z",
     "iopub.status.busy": "2025-09-18T08:32:12.560135Z",
     "iopub.status.idle": "2025-09-18T08:32:13.977221Z",
     "shell.execute_reply": "2025-09-18T08:32:13.976251Z",
     "shell.execute_reply.started": "2025-09-18T08:32:12.560512Z"
    }
   },
   "outputs": [
    {
     "data": {
      "text/plain": [
       "15"
      ]
     },
     "execution_count": 8,
     "metadata": {},
     "output_type": "execute_result"
    }
   ],
   "source": [
    "tissues = defaultdict(list)\n",
    "for s in samples:\n",
    "    tissues[\"_\".join(labels[s][1].split(\" \"))].append(s)\n",
    "len(tissues)"
   ]
  },
  {
   "cell_type": "code",
   "execution_count": 56,
   "id": "3f53f359-d16a-4f32-9a21-3552424873e7",
   "metadata": {
    "execution": {
     "iopub.execute_input": "2025-09-18T17:06:16.080549Z",
     "iopub.status.busy": "2025-09-18T17:06:16.079935Z",
     "iopub.status.idle": "2025-09-18T17:06:16.124517Z",
     "shell.execute_reply": "2025-09-18T17:06:16.123551Z",
     "shell.execute_reply.started": "2025-09-18T17:06:16.080498Z"
    }
   },
   "outputs": [],
   "source": [
    "bws = json_load(f\"{PROJECT_DIR_d}PROcap/metainfo/sample_bws.json\")"
   ]
  },
  {
   "cell_type": "markdown",
   "id": "f7ed1c81-81f0-4a75-9666-bd731f8f3c00",
   "metadata": {},
   "source": [
    "## Merge bws across samples for a given tissue type"
   ]
  },
  {
   "cell_type": "code",
   "execution_count": 13,
   "id": "139bde92-7428-464b-8975-2fc164ce2fd7",
   "metadata": {
    "execution": {
     "iopub.execute_input": "2025-09-15T18:26:31.027174Z",
     "iopub.status.busy": "2025-09-15T18:26:31.026907Z",
     "iopub.status.idle": "2025-09-15T18:26:31.030213Z",
     "shell.execute_reply": "2025-09-15T18:26:31.029784Z",
     "shell.execute_reply.started": "2025-09-15T18:26:31.027156Z"
    }
   },
   "outputs": [],
   "source": [
    "def merge_bws(inputfiles, outputfile, k, chrom_sizes):\n",
    "\tcommands = [\"biodatatools merge_bigwig\",\n",
    "\t\t\t\t\"-i\", \" \".join(inputfiles),\n",
    "\t\t\t\t\"-g\", chrom_sizes,\n",
    "\t\t\t\t\"-o\", outputfile,\n",
    "\t\t\t\t\"-autosort True\",\n",
    "\t\t\t\t\"-filter_chr True\"\n",
    "\t\t\t\t]\n",
    "\tif k == \"mn\":\n",
    "\t\tcommands.extend([\"-threshold -2147483648\",\n",
    "\t\t\t\t\t\t \"-remove_zero True\"])\n",
    "\tsubprocess.run(\" \".join(commands), shell=True)"
   ]
  },
  {
   "cell_type": "code",
   "execution_count": 15,
   "id": "5ec81da6-6e17-4cf0-bb58-f41655f1350a",
   "metadata": {
    "execution": {
     "iopub.execute_input": "2025-09-18T08:34:28.905008Z",
     "iopub.status.busy": "2025-09-18T08:34:28.904453Z",
     "iopub.status.idle": "2025-09-18T08:34:28.909364Z",
     "shell.execute_reply": "2025-09-18T08:34:28.908424Z",
     "shell.execute_reply.started": "2025-09-18T08:34:28.904965Z"
    }
   },
   "outputs": [],
   "source": [
    "ks = [\"pl\", \"mn\"]\n",
    "chrom_sizes = f\"{PROJECT_DIR_r}genomes/human/hg38.chrom.sizes.filtered\""
   ]
  },
  {
   "cell_type": "code",
   "execution_count": 14,
   "id": "bea1813d-2b60-4ecd-a197-688d1ab780f8",
   "metadata": {
    "execution": {
     "iopub.execute_input": "2025-09-15T18:26:32.231840Z",
     "iopub.status.busy": "2025-09-15T18:26:32.231588Z",
     "iopub.status.idle": "2025-09-15T18:26:32.235395Z",
     "shell.execute_reply": "2025-09-15T18:26:32.234976Z",
     "shell.execute_reply.started": "2025-09-15T18:26:32.231822Z"
    },
    "scrolled": true
   },
   "outputs": [],
   "source": [
    "# Combine bw files for same tissue type\n",
    "\n",
    "pwpool = ProcessWrapPool(10)\n",
    "for t in tissues:\n",
    "\tfor k in ks:\n",
    "\t\tinputfiles = [bws[s][ks.index(k)] for s in tissues[t]]\n",
    "\t\toutputfile = f\"{PROJECT_DIR_o}temp/{t}_{k}.bw\"\n",
    "\t\tpwpool.run(merge_bws, args=[inputfiles, outputfile, k, chrom_sizes])"
   ]
  },
  {
   "cell_type": "code",
   "execution_count": 51,
   "id": "933d507f-66f0-4cad-87a6-00a33ffc8ecf",
   "metadata": {
    "execution": {
     "iopub.execute_input": "2025-09-18T17:04:01.391866Z",
     "iopub.status.busy": "2025-09-18T17:04:01.391245Z",
     "iopub.status.idle": "2025-09-18T17:04:01.396564Z",
     "shell.execute_reply": "2025-09-18T17:04:01.395602Z",
     "shell.execute_reply.started": "2025-09-18T17:04:01.391816Z"
    },
    "scrolled": true
   },
   "outputs": [],
   "source": [
    "len(pwpool.finished_tasks)"
   ]
  },
  {
   "cell_type": "code",
   "execution_count": 27,
   "id": "cbc55906-c131-4076-b5d5-169962b639bf",
   "metadata": {
    "execution": {
     "iopub.execute_input": "2025-07-16T03:09:16.171905Z",
     "iopub.status.busy": "2025-07-16T03:09:16.171534Z",
     "iopub.status.idle": "2025-07-16T03:09:16.175016Z",
     "shell.execute_reply": "2025-07-16T03:09:16.174428Z",
     "shell.execute_reply.started": "2025-07-16T03:09:16.171883Z"
    }
   },
   "outputs": [],
   "source": [
    "pwpool.close()"
   ]
  },
  {
   "cell_type": "code",
   "execution_count": 16,
   "id": "c3f1488e-3a8f-47d6-a64b-8f0709b291a6",
   "metadata": {
    "execution": {
     "iopub.execute_input": "2025-09-18T08:34:46.186658Z",
     "iopub.status.busy": "2025-09-18T08:34:46.185760Z",
     "iopub.status.idle": "2025-09-18T08:34:46.191197Z",
     "shell.execute_reply": "2025-09-18T08:34:46.190295Z",
     "shell.execute_reply.started": "2025-09-18T08:34:46.186609Z"
    }
   },
   "outputs": [],
   "source": [
    "bws_merged = {}\n",
    "for t in tissues:\n",
    "    bws_merged[t] = [f\"{PROJECT_DIR_o}temp/{t}_{k}.bw\" for k in ks]"
   ]
  },
  {
   "cell_type": "markdown",
   "id": "59df02e5-de20-4d04-a685-d6ca6c3f7ef8",
   "metadata": {},
   "source": [
    "## Get shape index"
   ]
  },
  {
   "cell_type": "code",
   "execution_count": 18,
   "id": "ec58ec2c-fc8a-4ab9-8c8f-69babeb2a3c5",
   "metadata": {
    "execution": {
     "iopub.execute_input": "2025-09-15T18:30:43.446561Z",
     "iopub.status.busy": "2025-09-15T18:30:43.446177Z",
     "iopub.status.idle": "2025-09-15T18:30:43.451752Z",
     "shell.execute_reply": "2025-09-15T18:30:43.451218Z",
     "shell.execute_reply.started": "2025-09-15T18:30:43.446542Z"
    }
   },
   "outputs": [],
   "source": [
    "# Get reads at each position\n",
    "\n",
    "def get_pos_reads(es, bws):\n",
    "\tall_reads = defaultdict(dict)\n",
    "\tfor k in ks:\n",
    "\t\tbw = pyBigWig.open(bws[ks.index(k)])\n",
    "\t\tfor e in es:\n",
    "\t\t\tchrom, start, end = e.split(\"_\")\n",
    "\t\t\tstart = int(start)\n",
    "\t\t\tend = int(end)\n",
    "\t\t\t# pyBigWig: 0-based start, 0-based end; the end is not included\n",
    "\t\t\tif bw.intervals(chrom, start, end) != None:\n",
    "\t\t\t\treads = {}\n",
    "\t\t\t\tfor start2, end2, score in bw.intervals(chrom, start, end):\n",
    "\t\t\t\t\tfor pos in range(max(start, start2), min(end, end2)):\n",
    "\t\t\t\t\t\treads[pos] = abs(score)\n",
    "\t\t\t\treads2 = [reads[pos] for pos in range(start, end) if pos in reads]\n",
    "\t\t\t\tall_reads[f\"{chrom}_{start}_{end}\"][k] = reads2\n",
    "\treturn all_reads"
   ]
  },
  {
   "cell_type": "code",
   "execution_count": 19,
   "id": "41a9ac8a-22e5-45fd-a246-da727de2cb30",
   "metadata": {
    "execution": {
     "iopub.execute_input": "2025-09-15T18:30:43.452933Z",
     "iopub.status.busy": "2025-09-15T18:30:43.452659Z",
     "iopub.status.idle": "2025-09-15T18:30:43.456298Z",
     "shell.execute_reply": "2025-09-15T18:30:43.455787Z",
     "shell.execute_reply.started": "2025-09-15T18:30:43.452913Z"
    }
   },
   "outputs": [],
   "source": [
    "# Calculate shape index for each strand\n",
    "\n",
    "def shape_index(reads, cutoff=50):\t\n",
    "\tif sum(reads) >= cutoff:\n",
    "\t\tSI = 2\n",
    "\t\tfor i in reads:\n",
    "\t\t\tp = i/sum(reads)\n",
    "\t\t\tSI += p * np.log2(p)\n",
    "\telse:\n",
    "\t\tSI = np.nan\n",
    "\treturn SI"
   ]
  },
  {
   "cell_type": "code",
   "execution_count": 20,
   "id": "b39a2239-28c7-48c3-879a-dae5051218df",
   "metadata": {
    "execution": {
     "iopub.execute_input": "2025-09-15T18:30:43.457070Z",
     "iopub.status.busy": "2025-09-15T18:30:43.456888Z",
     "iopub.status.idle": "2025-09-15T18:30:43.460943Z",
     "shell.execute_reply": "2025-09-15T18:30:43.460479Z",
     "shell.execute_reply.started": "2025-09-15T18:30:43.457053Z"
    }
   },
   "outputs": [],
   "source": [
    "# For divergent elements, we need to classify the forward and reverse peaks separately\n",
    "\n",
    "def get_SI_matrix(es, bws, outputfile):\n",
    "\tall_reads = get_pos_reads(es, bws)\n",
    "\tresults = []\n",
    "\tfor e in all_reads:\n",
    "\t\t# at least 1 reads on both strands\n",
    "\t\tresults.append([shape_index(all_reads[e][k]) for k in ks if len(all_reads[e]) == 2])\n",
    "\tdf = pd.DataFrame(results, columns=ks, index=list(all_reads.keys()))\n",
    "\t# at least 50 reads on each strand\n",
    "\tdf = df.dropna()\n",
    "\tdf.to_csv(outputfile, sep=\"\\t\")"
   ]
  },
  {
   "cell_type": "code",
   "execution_count": 5,
   "id": "2e668db4-f75e-45ce-84ae-961271b8ea1d",
   "metadata": {
    "execution": {
     "iopub.execute_input": "2025-09-18T08:31:57.211702Z",
     "iopub.status.busy": "2025-09-18T08:31:57.211255Z",
     "iopub.status.idle": "2025-09-18T08:31:57.215659Z",
     "shell.execute_reply": "2025-09-18T08:31:57.214806Z",
     "shell.execute_reply.started": "2025-09-18T08:31:57.211675Z"
    }
   },
   "outputs": [],
   "source": [
    "p = \"divergent\"\n",
    "ds = [\"distal\", \"proximal\"]"
   ]
  },
  {
   "cell_type": "code",
   "execution_count": 53,
   "id": "110956c5-4c78-4d97-9dbf-b9b96e3d7b1e",
   "metadata": {
    "execution": {
     "iopub.execute_input": "2025-07-16T14:51:52.507732Z",
     "iopub.status.busy": "2025-07-16T14:51:52.507523Z",
     "iopub.status.idle": "2025-07-16T14:52:41.859041Z",
     "shell.execute_reply": "2025-07-16T14:52:41.858225Z",
     "shell.execute_reply.started": "2025-07-16T14:51:52.507709Z"
    },
    "scrolled": true
   },
   "outputs": [],
   "source": [
    "pwpool = ProcessWrapPool(10)\n",
    "\n",
    "for t, d in itertools.product(tissues, ds):\n",
    "\toutputfile = f\"{PROJECT_DIR_o2}shape/{t}_{d}_SI.txt\"\n",
    "\tdf = pd.read_table(f\"{PROJECT_DIR_d}PROcap/processed/binary_{p}_{d}.txt\", index_col=0)\n",
    "\tes = list(df[df[tissues[t]].sum(axis=1) >= 1].index)\n",
    "\tpwpool.run(get_SI_matrix, args=[es, bws_merged[t], outputfile])"
   ]
  },
  {
   "cell_type": "code",
   "execution_count": 55,
   "id": "38b1fdb8-e828-4c5f-8406-6c7234bfcdd5",
   "metadata": {
    "execution": {
     "iopub.execute_input": "2025-07-16T14:54:49.428354Z",
     "iopub.status.busy": "2025-07-16T14:54:49.427999Z",
     "iopub.status.idle": "2025-07-16T14:54:49.432759Z",
     "shell.execute_reply": "2025-07-16T14:54:49.432323Z",
     "shell.execute_reply.started": "2025-07-16T14:54:49.428326Z"
    }
   },
   "outputs": [
    {
     "data": {
      "text/plain": [
       "30"
      ]
     },
     "execution_count": 55,
     "metadata": {},
     "output_type": "execute_result"
    }
   ],
   "source": [
    "len(pwpool.finished_tasks)"
   ]
  },
  {
   "cell_type": "code",
   "execution_count": 56,
   "id": "7b50efa4-d487-4ce0-bc8a-f7084f027e14",
   "metadata": {
    "execution": {
     "iopub.execute_input": "2025-07-16T14:54:51.262466Z",
     "iopub.status.busy": "2025-07-16T14:54:51.262178Z",
     "iopub.status.idle": "2025-07-16T14:54:51.265184Z",
     "shell.execute_reply": "2025-07-16T14:54:51.264743Z",
     "shell.execute_reply.started": "2025-07-16T14:54:51.262446Z"
    }
   },
   "outputs": [],
   "source": [
    "pwpool.close()"
   ]
  },
  {
   "cell_type": "markdown",
   "id": "0c759fc7-62d1-431b-a674-08cf16f58ec5",
   "metadata": {},
   "source": [
    "# Broad (B) vs. Peaked (P)"
   ]
  },
  {
   "cell_type": "markdown",
   "id": "d2f38596-fc1d-4238-8bf2-d0a5188b1a1c",
   "metadata": {},
   "source": [
    "## Classification"
   ]
  },
  {
   "cell_type": "code",
   "execution_count": 9,
   "id": "92fc1d56-0057-484e-afe6-2f66a13955e9",
   "metadata": {
    "execution": {
     "iopub.execute_input": "2025-09-18T08:32:36.492704Z",
     "iopub.status.busy": "2025-09-18T08:32:36.492233Z",
     "iopub.status.idle": "2025-09-18T08:32:55.642659Z",
     "shell.execute_reply": "2025-09-18T08:32:55.641301Z",
     "shell.execute_reply.started": "2025-09-18T08:32:36.492675Z"
    }
   },
   "outputs": [],
   "source": [
    "# Broad (B): SI ≤ -1.5 (Schor et al. Nat Genet. 2017)\n",
    "\n",
    "shapes = {}\n",
    "cutoff = -1.5\n",
    "for t, d in itertools.product(tissues, ds):\n",
    "    shapes[(t,d)] = defaultdict(set)\n",
    "    inputfile = f\"{PROJECT_DIR_o2}shape/{t}_{d}_SI.txt\"\n",
    "    df = pd.read_table(inputfile, index_col=0)\n",
    "    for index, row in df.iterrows():\n",
    "        if row[\"pl\"] > cutoff and row[\"mn\"] > cutoff:\n",
    "            pt = \"P-P\"\n",
    "        elif row[\"pl\"] <= cutoff and row[\"mn\"] <= cutoff:\n",
    "            pt = \"B-B\"\n",
    "        else:\n",
    "            pt = \"P-B\"\n",
    "        shapes[(t,d)][pt].add(index)"
   ]
  },
  {
   "cell_type": "code",
   "execution_count": 57,
   "id": "68299805-4895-443a-a147-a481fa98cf00",
   "metadata": {
    "execution": {
     "iopub.execute_input": "2025-09-18T17:06:31.128492Z",
     "iopub.status.busy": "2025-09-18T17:06:31.127885Z",
     "iopub.status.idle": "2025-09-18T17:06:31.132572Z",
     "shell.execute_reply": "2025-09-18T17:06:31.131818Z",
     "shell.execute_reply.started": "2025-09-18T17:06:31.128445Z"
    }
   },
   "outputs": [],
   "source": [
    "ptypes = [\"P-P\", \"P-B\", \"B-B\"]"
   ]
  },
  {
   "cell_type": "code",
   "execution_count": null,
   "id": "296df85e-7f09-47d7-9314-6a6e9a839637",
   "metadata": {},
   "outputs": [],
   "source": [
    "for t, d, pt in itertools.product(tissues, ds, ptypes):\n",
    "    outputfile = f\"{PROJECT_DIR_o2}shape/{t}_{d}_{pt}.bed\"\n",
    "    with DelimitedWriter(outputfile) as dw:\n",
    "        for e in shapes[(t,d)][pt]:\n",
    "            chrom, start, end = e.split(\"_\")\n",
    "            dw.write([chrom, start, end])\n",
    "    b = pybedtools.BedTool(outputfile)\n",
    "    b.sort().saveas(outputfile)"
   ]
  },
  {
   "cell_type": "markdown",
   "id": "d8f7ff2c-f7fe-4210-9d6c-4c1c50113c16",
   "metadata": {},
   "source": [
    "## Browser shots"
   ]
  },
  {
   "cell_type": "code",
   "execution_count": 128,
   "id": "c7e43bdf-549a-41b1-baab-2d79627968e9",
   "metadata": {
    "execution": {
     "iopub.execute_input": "2025-09-18T21:30:11.238714Z",
     "iopub.status.busy": "2025-09-18T21:30:11.238058Z",
     "iopub.status.idle": "2025-09-18T21:30:11.248645Z",
     "shell.execute_reply": "2025-09-18T21:30:11.247815Z",
     "shell.execute_reply.started": "2025-09-18T21:30:11.238686Z"
    }
   },
   "outputs": [],
   "source": [
    "def plot_example(region, t, title, outputfile, ylabel=True, size=500):\n",
    "\tregion = utils.expand_genomic_pos(region, size)\n",
    "\tks = [\"pl\", \"mn\"]\n",
    "\tdata = {\"PRO-cap\": bws_merged[t]}\n",
    "\t\n",
    "\tformatters = {}\n",
    "\theight_ratios = {}\n",
    "\tfor k in data:\n",
    "\t\tformatters[k] = {\"yscale\":\"asym_pos_neg\", \"plot_kw\":{\"width\":5}}\n",
    "\t\theight_ratios[k] = 3\n",
    "\t\n",
    "\tfig = gv.plot_genome_view(\n",
    "\t\tregion,\n",
    "\t\tdata = data,\n",
    "\t\tformatters = formatters,\n",
    "\t\theight_ratios = height_ratios,\n",
    "\t\tcoordinate_kw = {\"major_coordinate_unit\":300}\n",
    "\t\t)\n",
    "\t\n",
    "\tif ylabel:\n",
    "\t\tylabel_prop = {\"fontsize\":bfontsize, \"rotation\":90, \"ha\":\"center\"}\n",
    "\telse:\n",
    "\t\tylabel_prop = {\"text\": \"\"}\n",
    "\tbpu.plt_change_figure_properties(\n",
    "\t\tfig,\n",
    "\t\t**{\n",
    "\t\t\"fig_prop\": {\"size_inches\":[1.4, 2]},\n",
    "\t\t\"fig_suptitle\": title,\n",
    "\t\t\"fig_suptitle_kwargs\": {\"fontsize\":bfontsize},\n",
    "\t\t\"xticklabels_prop\": {\"fontsize\":sfontsize},\n",
    "\t\t\"yticklabels_prop\": {\"fontsize\":sfontsize},\n",
    "\t\t\"ylabel_prop\": ylabel_prop,\n",
    "\t\t\"xlabel_prop\": {\"fontsize\":bfontsize}\n",
    "\t\t},\n",
    "\t\ttitle_prop = {\"text\": \"\"}\n",
    "\t\t)\n",
    "\t\n",
    "\tbpu.plt_change_figure_properties(\n",
    "\t\tfig, \n",
    "\t\tax_targets=[-1],\n",
    "\t\txlabel_prop={\"text\":region.name}\n",
    "\t\t)\n",
    "\t\n",
    "\tfor i in range(len(data)):\n",
    "\t\tfig.axes[i].yaxis.set_label_coords(-0.7, 0.5)\n",
    "\t\tfig.axes[i].yaxis.set_major_formatter(lambda s, pos: f\"{s:.1f}\")\n",
    "\n",
    "\tfig.savefig(outputfile, bbox_inches=\"tight\", transparent=True)"
   ]
  },
  {
   "cell_type": "code",
   "execution_count": 90,
   "id": "5bc01a40-eb04-45c7-9259-6ef48a5e7be8",
   "metadata": {
    "execution": {
     "iopub.execute_input": "2025-09-18T21:11:25.741568Z",
     "iopub.status.busy": "2025-09-18T21:11:25.740781Z",
     "iopub.status.idle": "2025-09-18T21:11:26.393243Z",
     "shell.execute_reply": "2025-09-18T21:11:26.392202Z",
     "shell.execute_reply.started": "2025-09-18T21:11:25.741525Z"
    }
   },
   "outputs": [
    {
     "data": {
      "text/plain": [
       "True"
      ]
     },
     "execution_count": 90,
     "metadata": {},
     "output_type": "execute_result"
    }
   ],
   "source": [
    "t = \"Liver\"\n",
    "d = \"distal\"\n",
    "pt = \"P-P\"\n",
    "# sorted(shapes[(t,d)][pt])\n",
    "'chr12_121217172_121217461' in shapes[(t,d)][pt]"
   ]
  },
  {
   "cell_type": "code",
   "execution_count": 129,
   "id": "adb3147b-84c6-439e-a2a4-5c18d0cfdfda",
   "metadata": {
    "execution": {
     "iopub.execute_input": "2025-09-18T21:30:13.118108Z",
     "iopub.status.busy": "2025-09-18T21:30:13.117451Z",
     "iopub.status.idle": "2025-09-18T21:30:29.913126Z",
     "shell.execute_reply": "2025-09-18T21:30:29.912234Z",
     "shell.execute_reply.started": "2025-09-18T21:30:13.118063Z"
    }
   },
   "outputs": [
    {
     "data": {
      "image/png": "[encoded data removed]",
      "text/plain": [
       "<Figure size 140x200 with 2 Axes>"
      ]
     },
     "metadata": {},
     "output_type": "display_data"
    }
   ],
   "source": [
    "region = 'chr12_121217172_121217461'\n",
    "chrom, start, end = region.split(\"_\")\n",
    "region = f\"{chrom}:{start}-{end}\"\n",
    "outputfile = f\"{PROJECT_DIR_o2}figures/Fig5b_1.pdf\"\n",
    "plot_example(region, t, \"P-P\", outputfile)"
   ]
  },
  {
   "cell_type": "code",
   "execution_count": 26,
   "id": "0a183407-8d5d-4d42-9332-6bf41c47ab03",
   "metadata": {
    "execution": {
     "iopub.execute_input": "2025-09-18T08:37:25.740564Z",
     "iopub.status.busy": "2025-09-18T08:37:25.740214Z",
     "iopub.status.idle": "2025-09-18T08:37:26.593940Z",
     "shell.execute_reply": "2025-09-18T08:37:26.593127Z",
     "shell.execute_reply.started": "2025-09-18T08:37:25.740539Z"
    }
   },
   "outputs": [
    {
     "data": {
      "text/plain": [
       "True"
      ]
     },
     "execution_count": 26,
     "metadata": {},
     "output_type": "execute_result"
    }
   ],
   "source": [
    "pt = \"P-B\"\n",
    "# shapes[(t,d)][pt]\n",
    "\"chr15_58465189_58465350\" in shapes[(t,d)][pt]"
   ]
  },
  {
   "cell_type": "code",
   "execution_count": 130,
   "id": "e3bad194-bcca-4520-9a72-5c5aece3b749",
   "metadata": {
    "execution": {
     "iopub.execute_input": "2025-09-18T21:30:58.389064Z",
     "iopub.status.busy": "2025-09-18T21:30:58.387896Z",
     "iopub.status.idle": "2025-09-18T21:31:05.258369Z",
     "shell.execute_reply": "2025-09-18T21:31:05.257718Z",
     "shell.execute_reply.started": "2025-09-18T21:30:58.388962Z"
    }
   },
   "outputs": [
    {
     "data": {
      "image/png": "[encoded data removed]",
      "text/plain": [
       "<Figure size 140x200 with 2 Axes>"
      ]
     },
     "metadata": {},
     "output_type": "display_data"
    }
   ],
   "source": [
    "region = \"chr15_58465189_58465350\"\n",
    "chrom, start, end = region.split(\"_\")\n",
    "region = f\"{chrom}:{start}-{end}\"\n",
    "outputfile = f\"{PROJECT_DIR_o2}figures/Fig5b_2.pdf\"\n",
    "plot_example(region, t, \"P-B\", outputfile, False)"
   ]
  },
  {
   "cell_type": "code",
   "execution_count": 28,
   "id": "9c8502f9-5c97-4a40-b709-bb64ebd7a41e",
   "metadata": {
    "execution": {
     "iopub.execute_input": "2025-09-18T08:37:28.011670Z",
     "iopub.status.busy": "2025-09-18T08:37:28.011316Z",
     "iopub.status.idle": "2025-09-18T08:37:28.909730Z",
     "shell.execute_reply": "2025-09-18T08:37:28.908971Z",
     "shell.execute_reply.started": "2025-09-18T08:37:28.011646Z"
    }
   },
   "outputs": [
    {
     "data": {
      "text/plain": [
       "True"
      ]
     },
     "execution_count": 28,
     "metadata": {},
     "output_type": "execute_result"
    }
   ],
   "source": [
    "pt = \"B-B\"\n",
    "# shapes[(t,d)][pt]\n",
    "'chr12_106120555_106120823' in shapes[(t,d)][pt]"
   ]
  },
  {
   "cell_type": "code",
   "execution_count": 131,
   "id": "63e32d0b-d729-4661-99a4-960c97c8309a",
   "metadata": {
    "execution": {
     "iopub.execute_input": "2025-09-18T21:31:05.259812Z",
     "iopub.status.busy": "2025-09-18T21:31:05.259548Z",
     "iopub.status.idle": "2025-09-18T21:31:06.666745Z",
     "shell.execute_reply": "2025-09-18T21:31:06.666061Z",
     "shell.execute_reply.started": "2025-09-18T21:31:05.259789Z"
    }
   },
   "outputs": [
    {
     "data": {
      "image/png": "[encoded data removed]",
      "text/plain": [
       "<Figure size 140x200 with 2 Axes>"
      ]
     },
     "metadata": {},
     "output_type": "display_data"
    }
   ],
   "source": [
    "region = 'chr12_106120555_106120823'\n",
    "chrom, start, end = region.split(\"_\")\n",
    "region = f\"{chrom}:{start}-{end}\"\n",
    "outputfile = f\"{PROJECT_DIR_o2}figures/Fig5b_3.pdf\"\n",
    "plot_example(region, t, \"B-B\", outputfile, False)"
   ]
  },
  {
   "cell_type": "markdown",
   "id": "6b6657c0-4198-440c-a008-4d18cd2e2d91",
   "metadata": {},
   "source": [
    "# Features"
   ]
  },
  {
   "cell_type": "markdown",
   "id": "bc62dd45-04d2-4958-8460-6c2dd0770349",
   "metadata": {},
   "source": [
    "## Proportion"
   ]
  },
  {
   "cell_type": "code",
   "execution_count": 139,
   "id": "a3298dc7-a9ba-4769-8ff7-c18eb700a26d",
   "metadata": {
    "execution": {
     "iopub.execute_input": "2025-09-22T18:05:27.416638Z",
     "iopub.status.busy": "2025-09-22T18:05:27.416082Z",
     "iopub.status.idle": "2025-09-22T18:05:27.422695Z",
     "shell.execute_reply": "2025-09-22T18:05:27.421977Z",
     "shell.execute_reply.started": "2025-09-22T18:05:27.416608Z"
    }
   },
   "outputs": [],
   "source": [
    "# Show proportions in each category\n",
    "\n",
    "def plot_proportions(df_perc, shapes, ptypes, ax, outputfile):\n",
    "    hue_plot_params = {\"data\": df_perc,\n",
    "                        \"x\": \"g3\",\n",
    "                        \"y\": \"percent\",\n",
    "                        \"hue\": \"g2\",\n",
    "                        \"showfliers\": False,\n",
    "                        \"hue_order\": [d.capitalize() for d in ds],\n",
    "                        \"palette\": [\"#CBB1D1\", \"#CAE5C1\"],\n",
    "                        }\n",
    "    g = sns.boxplot(ax=ax, **hue_plot_params)\n",
    "    g.spines[[\"top\", \"right\"]].set_visible(False)\n",
    "    g.legend(title=\"\", fontsize=sfontsize, frameon=False)\n",
    "    \n",
    "    g.set_xlabel(\"\")\n",
    "    g.tick_params(axis=\"x\", labelsize=bfontsize)\n",
    "    g.set_ylabel(\"Percent TREs (%)\", fontsize=bfontsize)\n",
    "    g.tick_params(axis=\"y\", labelsize=sfontsize)\n",
    " \n",
    "    fig.savefig(outputfile, bbox_inches=\"tight\", transparent=True)"
   ]
  },
  {
   "cell_type": "code",
   "execution_count": 35,
   "id": "7995cca9-6ff2-4605-8e20-13f37833f4e4",
   "metadata": {
    "execution": {
     "iopub.execute_input": "2025-09-18T08:40:12.235637Z",
     "iopub.status.busy": "2025-09-18T08:40:12.235046Z",
     "iopub.status.idle": "2025-09-18T08:40:12.276149Z",
     "shell.execute_reply": "2025-09-18T08:40:12.275161Z",
     "shell.execute_reply.started": "2025-09-18T08:40:12.235594Z"
    }
   },
   "outputs": [
    {
     "data": {
      "text/html": [
       "<div>\n",
       "<style scoped>\n",
       "    .dataframe tbody tr th:only-of-type {\n",
       "        vertical-align: middle;\n",
       "    }\n",
       "\n",
       "    .dataframe tbody tr th {\n",
       "        vertical-align: top;\n",
       "    }\n",
       "\n",
       "    .dataframe thead th {\n",
       "        text-align: right;\n",
       "    }\n",
       "</style>\n",
       "<table border=\"1\" class=\"dataframe\">\n",
       "  <thead>\n",
       "    <tr style=\"text-align: right;\">\n",
       "      <th></th>\n",
       "      <th>g1</th>\n",
       "      <th>g2</th>\n",
       "      <th>g3</th>\n",
       "      <th>percent</th>\n",
       "    </tr>\n",
       "  </thead>\n",
       "  <tbody>\n",
       "    <tr>\n",
       "      <th>0</th>\n",
       "      <td>Blood</td>\n",
       "      <td>Distal</td>\n",
       "      <td>P-P</td>\n",
       "      <td>3.1</td>\n",
       "    </tr>\n",
       "    <tr>\n",
       "      <th>1</th>\n",
       "      <td>Blood</td>\n",
       "      <td>Distal</td>\n",
       "      <td>P-B</td>\n",
       "      <td>23.8</td>\n",
       "    </tr>\n",
       "  </tbody>\n",
       "</table>\n",
       "</div>"
      ],
      "text/plain": [
       "      g1      g2   g3  percent\n",
       "0  Blood  Distal  P-P      3.1\n",
       "1  Blood  Distal  P-B     23.8"
      ]
     },
     "execution_count": 35,
     "metadata": {},
     "output_type": "execute_result"
    }
   ],
   "source": [
    "results = []\n",
    "for t, d, pt in itertools.product(tissues, ds, ptypes):\n",
    "    tot = np.sum([len(shapes[(t,d)][pt]) for pt in ptypes])\n",
    "    perc = round(len(shapes[(t,d)][pt])/tot*100,1)\n",
    "    results.append([t, d.capitalize(), pt, perc])\n",
    "df_perc = pd.DataFrame(results, columns=[\"g1\", \"g2\", \"g3\", \"percent\"])\n",
    "df_perc.head(2)"
   ]
  },
  {
   "cell_type": "code",
   "execution_count": 140,
   "id": "8b309cea-7ff2-4733-8fb5-7ad18f3f1f90",
   "metadata": {
    "execution": {
     "iopub.execute_input": "2025-09-22T18:05:27.424143Z",
     "iopub.status.busy": "2025-09-22T18:05:27.423778Z",
     "iopub.status.idle": "2025-09-22T18:05:27.717050Z",
     "shell.execute_reply": "2025-09-22T18:05:27.716271Z",
     "shell.execute_reply.started": "2025-09-22T18:05:27.424119Z"
    }
   },
   "outputs": [
    {
     "data": {
      "image/png": "[encoded data removed]",
      "text/plain": [
       "<Figure size 250x220 with 1 Axes>"
      ]
     },
     "metadata": {},
     "output_type": "display_data"
    }
   ],
   "source": [
    "fig, ax = plt.subplots(figsize=(2.5,2.2))\n",
    "outputfile = f\"{PROJECT_DIR_o2}figures/Fig5c.pdf\"\n",
    "plot_proportions(df_perc, shapes, ptypes, ax, outputfile)"
   ]
  },
  {
   "cell_type": "markdown",
   "id": "5e820472-fa4e-4436-bf0a-93b5779d2ab3",
   "metadata": {},
   "source": [
    "## Specificity scores"
   ]
  },
  {
   "cell_type": "code",
   "execution_count": 40,
   "id": "4f021a0f-3c59-4ad6-b22d-763f01b9ff8c",
   "metadata": {
    "execution": {
     "iopub.execute_input": "2025-09-18T08:40:57.519687Z",
     "iopub.status.busy": "2025-09-18T08:40:57.518638Z",
     "iopub.status.idle": "2025-09-18T08:40:57.535929Z",
     "shell.execute_reply": "2025-09-18T08:40:57.534887Z",
     "shell.execute_reply.started": "2025-09-18T08:40:57.519634Z"
    }
   },
   "outputs": [],
   "source": [
    "def plot_scores(t, data, ax, y, ylabel, plot_ylabel=True, yspace=-0.15, plot_legend=True, legend_pos=\"inside\"):\n",
    "    hue_plot_params = {\"data\": data,\n",
    "                    \"x\": \"g2\",\n",
    "                    \"y\": y,\n",
    "                    \"hue\": \"g3\",\n",
    "                    \"hue_order\": ptypes,\n",
    "                    \"palette\": [\"#80b1d3\", \"#bc80bd\", \"#fb8072\"],\n",
    "                    \"showfliers\": False\n",
    "                    }\n",
    "    g = sns.boxplot(ax=ax, **hue_plot_params)\n",
    "    g.spines[[\"top\", \"right\"]].set_visible(False)\n",
    "    g.set_title(\" \".join(t.split(\"_\")), fontsize=bfontsize)\n",
    "\n",
    "    g.set_xlabel(\"\")\n",
    "    g.tick_params(axis=\"x\", labelsize=bfontsize)\n",
    "    \n",
    "    if plot_ylabel:\n",
    "        g.set_ylabel(ylabel, fontsize=bfontsize)\n",
    "    else:\n",
    "        g.set_ylabel(\"\")\n",
    "    g.tick_params(axis=\"y\", labelsize=sfontsize)\n",
    "    g.get_yaxis().set_label_coords(yspace, 0.5)\n",
    "    \n",
    "    \n",
    "    if plot_legend:\n",
    "        if legend_pos == \"inside\":\n",
    "            g.legend(title=\"\", fontsize=sfontsize, frameon=False)\n",
    "            \n",
    "        else:\n",
    "            g.legend(title=\"\", fontsize=sfontsize, ncols=3,\n",
    "                     loc=\"upper center\", bbox_to_anchor=(0.5,1.5), frameon=False)\n",
    "            \n",
    "    else:\n",
    "        g.legend([],[],frameon=False)\n",
    "    \n",
    "    pairs = []\n",
    "    for d in ds:\n",
    "        pairs.extend([[(d.capitalize(), \"P-P\"), (d.capitalize(), \"P-B\")], [(d.capitalize(), \"P-B\"), (d.capitalize(), \"B-B\")]])\n",
    "    annotator = Annotator(g, pairs, **hue_plot_params)\n",
    "    annotator.configure(test=\"Mann-Whitney\", comparisons_correction=\"BH\", text_offset=1, text_format=\"star\", verbose=False, line_width=lw)\n",
    "    _, results = annotator.apply_and_annotate()"
   ]
  },
  {
   "cell_type": "code",
   "execution_count": 46,
   "id": "f0268a70-ca13-4ae1-b2b9-4ba116b1e3b4",
   "metadata": {
    "execution": {
     "iopub.execute_input": "2025-09-18T08:43:36.092179Z",
     "iopub.status.busy": "2025-09-18T08:43:36.091694Z",
     "iopub.status.idle": "2025-09-18T08:44:06.633516Z",
     "shell.execute_reply": "2025-09-18T08:44:06.632183Z",
     "shell.execute_reply.started": "2025-09-18T08:43:36.092151Z"
    },
    "scrolled": true
   },
   "outputs": [],
   "source": [
    "scores = {}\n",
    "for d in ds:\n",
    "    df = pd.read_table(f\"{PROJECT_DIR_d}PROcap/processed/specificity_{p}_{d}.txt\", index_col=0)\n",
    "    for index, row in df.iterrows():\n",
    "        scores[index] = row[\"Specificity\"]"
   ]
  },
  {
   "cell_type": "code",
   "execution_count": 48,
   "id": "c235ac21-0a84-4402-a203-1f29be31229d",
   "metadata": {
    "execution": {
     "iopub.execute_input": "2025-09-18T08:44:40.664304Z",
     "iopub.status.busy": "2025-09-18T08:44:40.663827Z",
     "iopub.status.idle": "2025-09-18T08:44:51.808158Z",
     "shell.execute_reply": "2025-09-18T08:44:51.807374Z",
     "shell.execute_reply.started": "2025-09-18T08:44:40.664276Z"
    }
   },
   "outputs": [
    {
     "data": {
      "text/html": [
       "<div>\n",
       "<style scoped>\n",
       "    .dataframe tbody tr th:only-of-type {\n",
       "        vertical-align: middle;\n",
       "    }\n",
       "\n",
       "    .dataframe tbody tr th {\n",
       "        vertical-align: top;\n",
       "    }\n",
       "\n",
       "    .dataframe thead th {\n",
       "        text-align: right;\n",
       "    }\n",
       "</style>\n",
       "<table border=\"1\" class=\"dataframe\">\n",
       "  <thead>\n",
       "    <tr style=\"text-align: right;\">\n",
       "      <th></th>\n",
       "      <th>g1</th>\n",
       "      <th>g2</th>\n",
       "      <th>g3</th>\n",
       "      <th>score</th>\n",
       "    </tr>\n",
       "  </thead>\n",
       "  <tbody>\n",
       "    <tr>\n",
       "      <th>0</th>\n",
       "      <td>Blood</td>\n",
       "      <td>Distal</td>\n",
       "      <td>P-P</td>\n",
       "      <td>0.601771</td>\n",
       "    </tr>\n",
       "    <tr>\n",
       "      <th>1</th>\n",
       "      <td>Blood</td>\n",
       "      <td>Distal</td>\n",
       "      <td>P-P</td>\n",
       "      <td>0.346835</td>\n",
       "    </tr>\n",
       "  </tbody>\n",
       "</table>\n",
       "</div>"
      ],
      "text/plain": [
       "      g1      g2   g3     score\n",
       "0  Blood  Distal  P-P  0.601771\n",
       "1  Blood  Distal  P-P  0.346835"
      ]
     },
     "execution_count": 48,
     "metadata": {},
     "output_type": "execute_result"
    }
   ],
   "source": [
    "results = []\n",
    "shapes = defaultdict(dict)\n",
    "for t, d, pt in itertools.product(tissues, ds, ptypes):\n",
    "    b = pybedtools.BedTool(f\"{PROJECT_DIR_o2}shape/{t}_{d}_{pt}.bed\")\n",
    "    shapes[(t,d)][pt] = [\"_\".join(i.fields[:3]) for i in b]\n",
    "    for i in b:\n",
    "        results.append([t, d.capitalize(), pt, scores[\"_\".join(i.fields[:3])]])\n",
    "df_scores = pd.DataFrame(results, columns=[\"g1\", \"g2\", \"g3\", \"score\"])\n",
    "df_scores.head(2)"
   ]
  },
  {
   "cell_type": "code",
   "execution_count": 49,
   "id": "3f326deb-3113-49c9-9473-63f32bd17be9",
   "metadata": {
    "execution": {
     "iopub.execute_input": "2025-09-18T08:44:54.266938Z",
     "iopub.status.busy": "2025-09-18T08:44:54.266459Z",
     "iopub.status.idle": "2025-09-18T08:45:21.325576Z",
     "shell.execute_reply": "2025-09-18T08:45:21.324553Z",
     "shell.execute_reply.started": "2025-09-18T08:44:54.266909Z"
    },
    "scrolled": true
   },
   "outputs": [
    {
     "data": {
      "image/png": "[encoded data removed]",
      "text/plain": [
       "<Figure size 1200x700 with 15 Axes>"
      ]
     },
     "metadata": {},
     "output_type": "display_data"
    }
   ],
   "source": [
    "# Check if the pattern is consistent across tissue types\n",
    "\n",
    "nrow = 3\n",
    "ncol = 5\n",
    "fig, axes = plt.subplots(nrow,ncol,figsize=(12,7))\n",
    "legend_pos = \"outside\"\n",
    "for t in tissues:\n",
    "    row = list(tissues.keys()).index(t)//ncol\n",
    "    col = list(tissues.keys()).index(t)%ncol\n",
    "    plot_ylabel = True if col == 0 else False\n",
    "    plot_legend = True if row == 0 and col == 2 else False\n",
    "    plot_scores(t, df_scores[df_scores[\"g1\"]==t], axes[row, col], \"score\", \"Specificity score\", plot_ylabel, -0.3, plot_legend, legend_pos)\n",
    "fig.subplots_adjust(wspace=0.3, hspace=0.5)\n",
    "fig.savefig(f\"{PROJECT_DIR_o2}figures/SuppFig6.pdf\", bbox_inches=\"tight\", transparent=True)"
   ]
  },
  {
   "cell_type": "code",
   "execution_count": 88,
   "id": "2cfe23dd-fa81-495b-9aad-ad91c522ba24",
   "metadata": {
    "execution": {
     "iopub.execute_input": "2025-09-18T17:26:31.031969Z",
     "iopub.status.busy": "2025-09-18T17:26:31.031371Z",
     "iopub.status.idle": "2025-09-18T17:26:31.768588Z",
     "shell.execute_reply": "2025-09-18T17:26:31.767798Z",
     "shell.execute_reply.started": "2025-09-18T17:26:31.031934Z"
    }
   },
   "outputs": [
    {
     "data": {
      "image/png": "[encoded data removed]",
      "text/plain": [
       "<Figure size 350x220 with 1 Axes>"
      ]
     },
     "metadata": {},
     "output_type": "display_data"
    }
   ],
   "source": [
    "# Use the median value of each tissue\n",
    "\n",
    "data = df_scores.groupby(['g1', 'g2', 'g3'])['score'].median().reset_index()\n",
    "fig, ax = plt.subplots(figsize=(3.5,2.2))\n",
    "plot_scores(\"\", data, ax, \"score\", \"Specificity score\")\n",
    "fig.savefig(f\"{PROJECT_DIR_o2}figures/Fig5d.pdf\", bbox_inches=\"tight\", transparent=True)"
   ]
  },
  {
   "cell_type": "code",
   "execution_count": null,
   "id": "eebd48f6-a851-42d9-9314-3d441c8f0fd3",
   "metadata": {},
   "outputs": [],
   "source": []
  }
 ],
 "metadata": {
  "kernelspec": {
   "display_name": "Python 3 (ipykernel)",
   "language": "python",
   "name": "python3"
  },
  "language_info": {
   "codemirror_mode": {
    "name": "ipython",
    "version": 3
   },
   "file_extension": ".py",
   "mimetype": "text/x-python",
   "name": "python",
   "nbconvert_exporter": "python",
   "pygments_lexer": "ipython3",
   "version": "3.10.8"
  }
 },
 "nbformat": 4,
 "nbformat_minor": 5
}
