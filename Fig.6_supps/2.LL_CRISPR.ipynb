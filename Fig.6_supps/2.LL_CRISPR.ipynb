{
 "cells": [
  {
   "cell_type": "code",
   "execution_count": 46,
   "id": "b38e7b68-4275-4e4d-89a9-1425d4c7a385",
   "metadata": {
    "execution": {
     "iopub.execute_input": "2025-09-18T05:53:54.402008Z",
     "iopub.status.busy": "2025-09-18T05:53:54.401302Z",
     "iopub.status.idle": "2025-09-18T05:53:54.409624Z",
     "shell.execute_reply": "2025-09-18T05:53:54.408729Z",
     "shell.execute_reply.started": "2025-09-18T05:53:54.401973Z"
    }
   },
   "outputs": [],
   "source": [
    "from mphelper import ProcessWrapPool\n",
    "import pybedtools\n",
    "import subprocess\n",
    "import pandas as pd\n",
    "from collections import defaultdict, Counter\n",
    "from biodata.delimited import DelimitedReader, DelimitedWriter\n",
    "import biodataplot.genomeview as gv\n",
    "import biodataplot.utils as bpu\n",
    "import matplotlib\n",
    "import matplotlib.pyplot as plt\n",
    "import biodataplot.metaplot as bpm\n",
    "from biodata.bigwig import BigWigIReader\n",
    "from biodata.bed import BEDXReader\n",
    "from genomictools import GenomicCollection\n",
    "import seaborn as sns\n",
    "from biodatatools.utils.common import json_load\n",
    "import numpy as np\n",
    "from pathlib import Path\n",
    "import sys\n",
    "import itertools\n",
    "import matplotlib.lines as mlines"
   ]
  },
  {
   "cell_type": "code",
   "execution_count": 48,
   "id": "e940c491-a1a2-4112-9410-20d6101e0b63",
   "metadata": {
    "execution": {
     "iopub.execute_input": "2025-09-18T05:54:40.575479Z",
     "iopub.status.busy": "2025-09-18T05:54:40.574848Z",
     "iopub.status.idle": "2025-09-18T05:54:40.581707Z",
     "shell.execute_reply": "2025-09-18T05:54:40.580890Z",
     "shell.execute_reply.started": "2025-09-18T05:54:40.575450Z"
    }
   },
   "outputs": [],
   "source": [
    "font_dir = Path.cwd().parent / \"font\"\n",
    "for font in [\"Arial.ttf\"]:\n",
    "    matplotlib.font_manager.fontManager.addfont(font_dir / font)\n",
    "matplotlib.rcParams[\"font.family\"] = \"Arial\"\n",
    "bfontsize = 12\n",
    "sfontsize = 9\n",
    "lw = 0.8"
   ]
  },
  {
   "cell_type": "code",
   "execution_count": 17,
   "id": "7dc0d39e-1c1c-496a-81e0-5ae12a527a5a",
   "metadata": {
    "execution": {
     "iopub.execute_input": "2025-09-18T05:33:05.235286Z",
     "iopub.status.busy": "2025-09-18T05:33:05.234849Z",
     "iopub.status.idle": "2025-09-18T05:33:06.394701Z",
     "shell.execute_reply": "2025-09-18T05:33:06.393729Z",
     "shell.execute_reply.started": "2025-09-18T05:33:05.235259Z"
    }
   },
   "outputs": [],
   "source": [
    "sys.path.append(str(Path.cwd().parent))\n",
    "import utils"
   ]
  },
  {
   "cell_type": "code",
   "execution_count": 4,
   "id": "76c014b6-5e9a-4ce0-9d50-7c66a5bea98e",
   "metadata": {
    "execution": {
     "iopub.execute_input": "2025-09-18T05:31:10.592103Z",
     "iopub.status.busy": "2025-09-18T05:31:10.591602Z",
     "iopub.status.idle": "2025-09-18T05:31:10.920112Z",
     "shell.execute_reply": "2025-09-18T05:31:10.919199Z",
     "shell.execute_reply.started": "2025-09-18T05:31:10.592076Z"
    }
   },
   "outputs": [],
   "source": [
    "PROJECT_DIR_d = \"/fs/cbsuhy02/storage/kl945/EnhancerAtlas/Others/\"\n",
    "PROJECT_DIR_d2 = \"/home/yc2553/projects/HEA/databases/\"\n",
    "PROJECT_DIR_d3 = \"/fs/cbsuhy02/storage/yc2553/yc2553/databases/\"\n",
    "PROJECT_DIR_o = \"/fs/cbsuhy02/storage/yc2553/yc2553/projects/3.Human_atlas/output/\"\n",
    "PROJECT_DIR_o2 = \"/home/yc2553/projects/HEA/output/\"\n",
    "PROJECT_DIR_r = \"/fs/cbsuhy02/storage/yc2553/yc2553/projects/TRE_directionality/resources/\""
   ]
  },
  {
   "cell_type": "markdown",
   "id": "f6bb8662-9e59-48c1-83c1-950b399a5e1c",
   "metadata": {},
   "source": [
    "# CRISPR data"
   ]
  },
  {
   "cell_type": "code",
   "execution_count": 5,
   "id": "6f2885ca-c28d-44b8-b002-162a2e84101a",
   "metadata": {
    "execution": {
     "iopub.execute_input": "2025-09-18T05:31:21.280366Z",
     "iopub.status.busy": "2025-09-18T05:31:21.279829Z",
     "iopub.status.idle": "2025-09-18T05:31:21.284332Z",
     "shell.execute_reply": "2025-09-18T05:31:21.283534Z",
     "shell.execute_reply.started": "2025-09-18T05:31:21.280334Z"
    }
   },
   "outputs": [],
   "source": [
    "# Get CRISPR data from Russel Ryan group\n",
    "\n",
    "samples = [\"K562\", \"SEM\", \"REH\", \"NALM-6\", \"Karpas422\", \"SUDHL5\"]"
   ]
  },
  {
   "cell_type": "code",
   "execution_count": 6,
   "id": "65b636d4-4828-4fb5-8ac4-298940540f8b",
   "metadata": {
    "execution": {
     "iopub.execute_input": "2025-09-18T05:31:21.875038Z",
     "iopub.status.busy": "2025-09-18T05:31:21.874520Z",
     "iopub.status.idle": "2025-09-18T05:31:22.696313Z",
     "shell.execute_reply": "2025-09-18T05:31:22.695401Z",
     "shell.execute_reply.started": "2025-09-18T05:31:21.875010Z"
    }
   },
   "outputs": [],
   "source": [
    "bedgraphs = {}\n",
    "for s in samples:\n",
    "    if s != \"SUDHL5\":\n",
    "        s2 = \"Nalm6\" if s == \"NALM-6\" else s\n",
    "        bedgraphs[s] = f\"{PROJECT_DIR_d}collaborators_Haiyuan_Yu_lab_{s2}_MYC.filt.norm.hg38lo.bedgraph\"\n",
    "    else:\n",
    "        bedgraphs[s] = f\"{PROJECT_DIR_d}collaborators_Haiyuan_Yu_lab_hg38lo.Lib12_134_common_Ci_Sudhl-5.bedgraph\""
   ]
  },
  {
   "cell_type": "code",
   "execution_count": 7,
   "id": "b215f37e-5111-4ab6-a113-ee6693d93567",
   "metadata": {
    "execution": {
     "iopub.execute_input": "2025-09-18T05:31:23.189051Z",
     "iopub.status.busy": "2025-09-18T05:31:23.188506Z",
     "iopub.status.idle": "2025-09-18T05:31:25.700410Z",
     "shell.execute_reply": "2025-09-18T05:31:25.698320Z",
     "shell.execute_reply.started": "2025-09-18T05:31:23.189020Z"
    }
   },
   "outputs": [
    {
     "name": "stdout",
     "output_type": "stream",
     "text": [
      "K562 Counter({25: 48321, 24: 1})\n",
      "SEM Counter({25: 53781, 24: 1})\n",
      "REH Counter({25: 53765, 24: 1})\n",
      "NALM-6 Counter({25: 53685, 24: 1})\n",
      "Karpas422 Counter({25: 48333, 24: 1})\n",
      "SUDHL5 Counter({1: 12160})\n"
     ]
    }
   ],
   "source": [
    "# SUDHL5: different experimental design\n",
    "\n",
    "for s in samples:\n",
    "    print(s, Counter([int(i.fields[2])-int(i.fields[1]) for i in pybedtools.BedTool(bedgraphs[s])]))"
   ]
  },
  {
   "cell_type": "code",
   "execution_count": 8,
   "id": "044fdc52-7194-40a4-8c95-41059a0e7d64",
   "metadata": {
    "execution": {
     "iopub.execute_input": "2025-09-18T05:31:25.704314Z",
     "iopub.status.busy": "2025-09-18T05:31:25.703677Z",
     "iopub.status.idle": "2025-09-18T05:31:33.602588Z",
     "shell.execute_reply": "2025-09-18T05:31:33.601513Z",
     "shell.execute_reply.started": "2025-09-18T05:31:25.704277Z"
    }
   },
   "outputs": [
    {
     "data": {
      "text/html": [
       "<div>\n",
       "<style scoped>\n",
       "    .dataframe tbody tr th:only-of-type {\n",
       "        vertical-align: middle;\n",
       "    }\n",
       "\n",
       "    .dataframe tbody tr th {\n",
       "        vertical-align: top;\n",
       "    }\n",
       "\n",
       "    .dataframe thead th {\n",
       "        text-align: right;\n",
       "    }\n",
       "</style>\n",
       "<table border=\"1\" class=\"dataframe\">\n",
       "  <thead>\n",
       "    <tr style=\"text-align: right;\">\n",
       "      <th></th>\n",
       "      <th>sample</th>\n",
       "      <th>No. intervals with values</th>\n",
       "      <th>No. intervals w/o values</th>\n",
       "      <th>Leftmost position</th>\n",
       "      <th>Rightmost position</th>\n",
       "    </tr>\n",
       "  </thead>\n",
       "  <tbody>\n",
       "    <tr>\n",
       "      <th>0</th>\n",
       "      <td>K562</td>\n",
       "      <td>48300</td>\n",
       "      <td>22</td>\n",
       "      <td>127128530</td>\n",
       "      <td>129731879</td>\n",
       "    </tr>\n",
       "    <tr>\n",
       "      <th>1</th>\n",
       "      <td>SEM</td>\n",
       "      <td>53742</td>\n",
       "      <td>40</td>\n",
       "      <td>127034980</td>\n",
       "      <td>129836104</td>\n",
       "    </tr>\n",
       "    <tr>\n",
       "      <th>2</th>\n",
       "      <td>REH</td>\n",
       "      <td>53726</td>\n",
       "      <td>40</td>\n",
       "      <td>127034980</td>\n",
       "      <td>129836104</td>\n",
       "    </tr>\n",
       "    <tr>\n",
       "      <th>3</th>\n",
       "      <td>NALM-6</td>\n",
       "      <td>53646</td>\n",
       "      <td>40</td>\n",
       "      <td>127034980</td>\n",
       "      <td>129836104</td>\n",
       "    </tr>\n",
       "    <tr>\n",
       "      <th>4</th>\n",
       "      <td>Karpas422</td>\n",
       "      <td>48313</td>\n",
       "      <td>21</td>\n",
       "      <td>127128530</td>\n",
       "      <td>129731879</td>\n",
       "    </tr>\n",
       "    <tr>\n",
       "      <th>5</th>\n",
       "      <td>SUDHL5</td>\n",
       "      <td>12160</td>\n",
       "      <td>0</td>\n",
       "      <td>3797476</td>\n",
       "      <td>235329617</td>\n",
       "    </tr>\n",
       "  </tbody>\n",
       "</table>\n",
       "</div>"
      ],
      "text/plain": [
       "      sample  No. intervals with values  No. intervals w/o values  \\\n",
       "0       K562                      48300                        22   \n",
       "1        SEM                      53742                        40   \n",
       "2        REH                      53726                        40   \n",
       "3     NALM-6                      53646                        40   \n",
       "4  Karpas422                      48313                        21   \n",
       "5     SUDHL5                      12160                         0   \n",
       "\n",
       "   Leftmost position  Rightmost position  \n",
       "0          127128530           129731879  \n",
       "1          127034980           129836104  \n",
       "2          127034980           129836104  \n",
       "3          127034980           129836104  \n",
       "4          127128530           129731879  \n",
       "5            3797476           235329617  "
      ]
     },
     "execution_count": 8,
     "metadata": {},
     "output_type": "execute_result"
    }
   ],
   "source": [
    "# ~3Mb\n",
    "# Note some intervals have missing values\n",
    "\n",
    "p_lefts = []\n",
    "p_rights = []\n",
    "results = []\n",
    "for s in samples:\n",
    "    b = pybedtools.BedTool(bedgraphs[s])\n",
    "    p_left, p_right = np.min([int(i.fields[1]) for i in b]), np.max([int(i.fields[1]) for i in b])\n",
    "    non_NA = len([i for i in b if len(i.fields)==4])\n",
    "    results.append([s, \n",
    "                  non_NA, len(b)-non_NA,\n",
    "                  p_left, p_right]\n",
    "                 )\n",
    "    p_lefts.append(p_left)\n",
    "    p_rights.append(p_right)\n",
    "pd.DataFrame(results, columns=[\"sample\", \"No. intervals with values\", \"No. intervals w/o values\", \"Leftmost position\", \"Rightmost position\"])"
   ]
  },
  {
   "cell_type": "code",
   "execution_count": 9,
   "id": "5057944e-e2f7-4647-add1-63f66943214e",
   "metadata": {
    "execution": {
     "iopub.execute_input": "2025-09-18T05:31:33.603973Z",
     "iopub.status.busy": "2025-09-18T05:31:33.603678Z",
     "iopub.status.idle": "2025-09-18T05:31:34.331901Z",
     "shell.execute_reply": "2025-09-18T05:31:34.330740Z",
     "shell.execute_reply.started": "2025-09-18T05:31:33.603948Z"
    }
   },
   "outputs": [
    {
     "name": "stdout",
     "output_type": "stream",
     "text": [
      "K562 [('chr8', '127128530', '127128730'), ('chr8', '129731554', '129731904')]\n",
      "SEM [('chr8', '127034980', '127035430'), ('chr8', '129835454', '129835979'), ('chr8', '129836104', '129836129')]\n",
      "REH [('chr8', '127034980', '127035430'), ('chr8', '129835454', '129835979'), ('chr8', '129836104', '129836129')]\n",
      "NALM-6 [('chr8', '127034980', '127035430'), ('chr8', '129835454', '129835979'), ('chr8', '129836104', '129836129')]\n",
      "Karpas422 [('chr8', '127128530', '127128705'), ('chr8', '129731554', '129731904')]\n",
      "SUDHL5 []\n"
     ]
    }
   ],
   "source": [
    "# Check the positions of intervals with missing values\n",
    "# These intervals are located at the far ends, also not overlapping with PRO-cap elements; no need to worry about this...\n",
    "\n",
    "for s in samples:\n",
    "    outputfile = f\"{PROJECT_DIR_d2}/CRISPR/{s}_MYC_missing.bed\"\n",
    "    with DelimitedWriter(outputfile) as dw:\n",
    "        with DelimitedReader(bedgraphs[s]) as dr:\n",
    "            for cols in dr:\n",
    "                if len(cols) == 3:\n",
    "                    dw.write(cols)\n",
    "    b = pybedtools.BedTool(outputfile).merge()\n",
    "    b.sort().saveas(outputfile)\n",
    "    print(s, [tuple(i.fields[:3]) for i in b])"
   ]
  },
  {
   "cell_type": "code",
   "execution_count": 10,
   "id": "ad9b17c6-d18a-491e-8f8b-81323caf8fcc",
   "metadata": {
    "execution": {
     "iopub.execute_input": "2025-09-18T05:31:34.334294Z",
     "iopub.status.busy": "2025-09-18T05:31:34.333829Z",
     "iopub.status.idle": "2025-09-18T05:31:35.703750Z",
     "shell.execute_reply": "2025-09-18T05:31:35.702721Z",
     "shell.execute_reply.started": "2025-09-18T05:31:34.334266Z"
    }
   },
   "outputs": [],
   "source": [
    "# Filter out intervals with missing values for plotting\n",
    "\n",
    "for s in samples:\n",
    "    outputfile = f\"{PROJECT_DIR_d2}/CRISPR/{s}_MYC.bedgraph\"\n",
    "    with DelimitedWriter(outputfile) as dw:\n",
    "        with DelimitedReader(bedgraphs[s]) as dr:\n",
    "            for cols in dr:\n",
    "                if len(cols) == 4:\n",
    "                    dw.write(cols)"
   ]
  },
  {
   "cell_type": "markdown",
   "id": "26293a18-a1b1-4787-9188-52732b299f67",
   "metadata": {},
   "source": [
    "# Active rate"
   ]
  },
  {
   "cell_type": "code",
   "execution_count": 11,
   "id": "3fff1a5d-036b-4c94-9efa-d6419be92f16",
   "metadata": {
    "execution": {
     "iopub.execute_input": "2025-09-18T05:31:35.705333Z",
     "iopub.status.busy": "2025-09-18T05:31:35.704881Z",
     "iopub.status.idle": "2025-09-18T05:31:54.088737Z",
     "shell.execute_reply": "2025-09-18T05:31:54.087798Z",
     "shell.execute_reply.started": "2025-09-18T05:31:35.705308Z"
    }
   },
   "outputs": [
    {
     "data": {
      "text/plain": [
       "88"
      ]
     },
     "execution_count": 11,
     "metadata": {},
     "output_type": "execute_result"
    }
   ],
   "source": [
    "# Only include elements fully embedded within this region\n",
    "\n",
    "boundary = np.max(p_lefts), np.min(p_rights)\n",
    "inputfile = f\"{PROJECT_DIR_o2}homer/LL/bg.bed\"\n",
    "b = pybedtools.BedTool(inputfile)\n",
    "es_all = [i.fields[:3] for i in b if i.fields[0] == \"chr8\" and int(i.fields[1]) >= boundary[0] and int(i.fields[2]) <= boundary[1]]\n",
    "len(es_all)"
   ]
  },
  {
   "cell_type": "code",
   "execution_count": 12,
   "id": "18bf7686-0ac5-4726-a0d2-99377e66b9cf",
   "metadata": {
    "execution": {
     "iopub.execute_input": "2025-09-18T05:31:54.090326Z",
     "iopub.status.busy": "2025-09-18T05:31:54.089865Z",
     "iopub.status.idle": "2025-09-18T05:31:54.865559Z",
     "shell.execute_reply": "2025-09-18T05:31:54.864553Z",
     "shell.execute_reply.started": "2025-09-18T05:31:54.090286Z"
    }
   },
   "outputs": [],
   "source": [
    "# No tiling screen for OCI-LY7, SUDHL5 and Pfeiffer\n",
    "\n",
    "ms = [f\"M{n}\" for n in range(1,11) if n not in [7,8,10]]"
   ]
  },
  {
   "cell_type": "code",
   "execution_count": 13,
   "id": "1122e327-c2af-4b28-9423-de63b1914788",
   "metadata": {
    "execution": {
     "iopub.execute_input": "2025-09-18T05:31:54.867112Z",
     "iopub.status.busy": "2025-09-18T05:31:54.866688Z",
     "iopub.status.idle": "2025-09-18T05:33:03.046080Z",
     "shell.execute_reply": "2025-09-18T05:33:03.044500Z",
     "shell.execute_reply.started": "2025-09-18T05:31:54.867087Z"
    }
   },
   "outputs": [
    {
     "name": "stdout",
     "output_type": "stream",
     "text": [
      "M1 23\n",
      "M2 10\n",
      "M3 5\n",
      "M4 4\n",
      "M5 8\n",
      "M6 10\n",
      "M9 3\n"
     ]
    }
   ],
   "source": [
    "# Get elements from each module within this region\n",
    "\n",
    "mes = {}\n",
    "for m in ms:\n",
    "    inputfile = f\"{PROJECT_DIR_o2}homer/LL/{m}.bed\"\n",
    "    b = pybedtools.BedTool(inputfile)\n",
    "    mes[m] = [i.fields[:3] for i in b if i.fields[:3] in es_all]\n",
    "    outputfile = f\"{PROJECT_DIR_d2}CRISPR/{m}_MYC.bed\"\n",
    "    with DelimitedWriter(outputfile) as dw:\n",
    "        print(m, len(mes[m]))\n",
    "        for e in mes[m]:\n",
    "            dw.write(e)"
   ]
  },
  {
   "cell_type": "code",
   "execution_count": 14,
   "id": "2eb3b323-a920-4419-8376-5d49de471ac6",
   "metadata": {
    "execution": {
     "iopub.execute_input": "2025-09-18T05:33:03.048522Z",
     "iopub.status.busy": "2025-09-18T05:33:03.047902Z",
     "iopub.status.idle": "2025-09-18T05:33:03.135564Z",
     "shell.execute_reply": "2025-09-18T05:33:03.134353Z",
     "shell.execute_reply.started": "2025-09-18T05:33:03.048475Z"
    }
   },
   "outputs": [],
   "source": [
    "# Significant peaks from tiling screen\n",
    "\n",
    "sig_peaks = {}\n",
    "for s in samples:\n",
    "    if s != \"SUDHL5\":\n",
    "        s2 = \"Nalm6\" if s == \"NALM-6\" else s\n",
    "        sig_peaks[s] = f\"{PROJECT_DIR_d2}CRISPR/{s2}_fdr.utest_0.05_l2fc_mean_0.4_mrg.9col.hg38lo.bed\""
   ]
  },
  {
   "cell_type": "code",
   "execution_count": 15,
   "id": "d19ed7e7-5931-4ade-8460-e723cad6f799",
   "metadata": {
    "execution": {
     "iopub.execute_input": "2025-09-18T05:33:03.137687Z",
     "iopub.status.busy": "2025-09-18T05:33:03.136946Z",
     "iopub.status.idle": "2025-09-18T05:33:05.002094Z",
     "shell.execute_reply": "2025-09-18T05:33:05.001082Z",
     "shell.execute_reply.started": "2025-09-18T05:33:03.137643Z"
    }
   },
   "outputs": [],
   "source": [
    "# Heatmap\n",
    "# Each row: different modules\n",
    "# Each column: different cell lines\n",
    "# Cell: active rate (depletion)\n",
    "\n",
    "active_rates = {}\n",
    "active_es = defaultdict(list)\n",
    "for m in ms:\n",
    "    b1 = pybedtools.BedTool(f\"{PROJECT_DIR_d2}CRISPR/{m}_MYC.bed\")\n",
    "    for s in sig_peaks:\n",
    "        b2 = pybedtools.BedTool(sig_peaks[s])\n",
    "        # -f: Minimum overlap required as a fraction of A.\n",
    "        overlap = b1.intersect(b2, f=0.5, wao=True)\n",
    "        n_pos = 0\n",
    "        for i in overlap:\n",
    "            if int(i.fields[-1]) > 0 and i.fields[-2] == \"#0000FF\":\n",
    "                n_pos += 1\n",
    "                active_es[(m, s)].append(\"_\".join(i.fields[:3]))\n",
    "        active_rates[(m, s)] = [n_pos, len(b1), n_pos/len(b1)]"
   ]
  },
  {
   "cell_type": "code",
   "execution_count": 16,
   "id": "659997b4-06dc-4409-ae0e-653a17f254b6",
   "metadata": {
    "execution": {
     "iopub.execute_input": "2025-09-18T05:33:05.004705Z",
     "iopub.status.busy": "2025-09-18T05:33:05.004235Z",
     "iopub.status.idle": "2025-09-18T05:33:05.233830Z",
     "shell.execute_reply": "2025-09-18T05:33:05.232914Z",
     "shell.execute_reply.started": "2025-09-18T05:33:05.004676Z"
    }
   },
   "outputs": [
    {
     "data": {
      "text/html": [
       "<div>\n",
       "<style scoped>\n",
       "    .dataframe tbody tr th:only-of-type {\n",
       "        vertical-align: middle;\n",
       "    }\n",
       "\n",
       "    .dataframe tbody tr th {\n",
       "        vertical-align: top;\n",
       "    }\n",
       "\n",
       "    .dataframe thead th {\n",
       "        text-align: right;\n",
       "    }\n",
       "</style>\n",
       "<table border=\"1\" class=\"dataframe\">\n",
       "  <thead>\n",
       "    <tr style=\"text-align: right;\">\n",
       "      <th></th>\n",
       "      <th>K562</th>\n",
       "      <th>SEM</th>\n",
       "      <th>REH</th>\n",
       "      <th>NALM-6</th>\n",
       "      <th>Karpas422</th>\n",
       "    </tr>\n",
       "  </thead>\n",
       "  <tbody>\n",
       "    <tr>\n",
       "      <th>M1</th>\n",
       "      <td>0.304348</td>\n",
       "      <td>0.086957</td>\n",
       "      <td>0.0</td>\n",
       "      <td>0.0</td>\n",
       "      <td>0.0</td>\n",
       "    </tr>\n",
       "    <tr>\n",
       "      <th>M2</th>\n",
       "      <td>0.000000</td>\n",
       "      <td>0.600000</td>\n",
       "      <td>0.7</td>\n",
       "      <td>0.3</td>\n",
       "      <td>0.0</td>\n",
       "    </tr>\n",
       "  </tbody>\n",
       "</table>\n",
       "</div>"
      ],
      "text/plain": [
       "        K562       SEM  REH  NALM-6  Karpas422\n",
       "M1  0.304348  0.086957  0.0     0.0        0.0\n",
       "M2  0.000000  0.600000  0.7     0.3        0.0"
      ]
     },
     "execution_count": 16,
     "metadata": {},
     "output_type": "execute_result"
    }
   ],
   "source": [
    "results = []\n",
    "for m in ms:\n",
    "    row = [active_rates[(m, s)][-1] for s in sig_peaks]\n",
    "    results.append(row)\n",
    "df_rate = pd.DataFrame(results, columns=list(sig_peaks), index = ms)\n",
    "df_rate.head(2)"
   ]
  },
  {
   "cell_type": "code",
   "execution_count": 19,
   "id": "496ec8b7-ca5b-4e9d-8c6d-ef09ad27f11f",
   "metadata": {
    "execution": {
     "iopub.execute_input": "2025-09-18T05:35:40.170968Z",
     "iopub.status.busy": "2025-09-18T05:35:40.170511Z",
     "iopub.status.idle": "2025-09-18T05:35:41.130878Z",
     "shell.execute_reply": "2025-09-18T05:35:41.129735Z",
     "shell.execute_reply.started": "2025-09-18T05:35:40.170940Z"
    }
   },
   "outputs": [
    {
     "data": {
      "image/png": "[encoded data removed]",
      "text/plain": [
       "<Figure size 600x300 with 2 Axes>"
      ]
     },
     "metadata": {},
     "output_type": "display_data"
    }
   ],
   "source": [
    "fig, ax = plt.subplots(figsize=(6,3))\n",
    "g = sns.heatmap(data=df_rate, cmap=\"Reds\", annot=True, fmt=\".2f\", ax=ax)"
   ]
  },
  {
   "cell_type": "code",
   "execution_count": 20,
   "id": "5f21d3b9-7319-438b-a9b7-6f0dfd53311b",
   "metadata": {
    "execution": {
     "iopub.execute_input": "2025-09-18T05:35:48.185830Z",
     "iopub.status.busy": "2025-09-18T05:35:48.185295Z",
     "iopub.status.idle": "2025-09-18T05:35:48.190618Z",
     "shell.execute_reply": "2025-09-18T05:35:48.189696Z",
     "shell.execute_reply.started": "2025-09-18T05:35:48.185801Z"
    }
   },
   "outputs": [],
   "source": [
    "subtypes = [\"CML\", \"B-ALL\", \"GCB-DLBCL\"]\n",
    "colors = [\"#969696\", \"#fdb462\", \"#fb8072\"]"
   ]
  },
  {
   "cell_type": "code",
   "execution_count": 21,
   "id": "8ccb0451-8a47-4e06-ad0a-c22bafc83b57",
   "metadata": {
    "execution": {
     "iopub.execute_input": "2025-09-18T05:35:53.387207Z",
     "iopub.status.busy": "2025-09-18T05:35:53.386724Z",
     "iopub.status.idle": "2025-09-18T05:35:53.430039Z",
     "shell.execute_reply": "2025-09-18T05:35:53.429077Z",
     "shell.execute_reply.started": "2025-09-18T05:35:53.387178Z"
    }
   },
   "outputs": [],
   "source": [
    "labels = json_load(f\"{PROJECT_DIR_d2}PROcap/metainfo/classifications.json\")\n",
    "sample_colors = [colors[subtypes.index(labels[s][1])] for s in sig_peaks]"
   ]
  },
  {
   "cell_type": "code",
   "execution_count": 22,
   "id": "b77e39cb-e97c-4ef7-8b23-61049f6dfb33",
   "metadata": {
    "execution": {
     "iopub.execute_input": "2025-09-18T05:36:03.866351Z",
     "iopub.status.busy": "2025-09-18T05:36:03.865893Z",
     "iopub.status.idle": "2025-09-18T05:36:03.872652Z",
     "shell.execute_reply": "2025-09-18T05:36:03.871779Z",
     "shell.execute_reply.started": "2025-09-18T05:36:03.866323Z"
    }
   },
   "outputs": [],
   "source": [
    "results = []\n",
    "for m in ms:\n",
    "    for s in sig_peaks:\n",
    "        results.append([s, m]+active_rates[(m,s)])\n",
    "df_bar = pd.DataFrame(results, columns=[\"sample\", \"module\", \"n_pos\", \"n_tot\", \"active_rate\"])"
   ]
  },
  {
   "cell_type": "code",
   "execution_count": null,
   "id": "6bfb2036-24f3-4567-97f6-8916fd1043d9",
   "metadata": {},
   "outputs": [],
   "source": [
    "fig, ax = plt.subplots(figsize=(3.5,2))\n",
    "\n",
    "m = \"M2\"\n",
    "df = df_bar[df_bar[\"module\"]==m]\n",
    "g = sns.barplot(data=df, x=\"sample\", y=\"active_rate\", hue=\"sample\", palette=sample_colors, ax=ax)\n",
    "g.set_title(m, fontsize=bfontsize)\n",
    "g.spines[[\"top\",\"right\"]].set_visible(False)\n",
    "\n",
    "g.set_ylabel(\"Active rate\", fontsize=bfontsize)\n",
    "g.tick_params(axis=\"y\", labelsize=sfontsize)\n",
    "g.set_ylim([0,0.85])\n",
    "\n",
    "g.set_xlabel(\"\")\n",
    "g.tick_params(axis=\"x\", labelsize=bfontsize, rotation=30)\n",
    "for label in g.get_xticklabels():\n",
    "    label.set_ha(\"right\")\n",
    "\n",
    "labs = [f\"{pos}/{tot}\" for pos, tot in zip(df[\"n_pos\"], df[\"n_tot\"])]\n",
    "for bar, lbl in zip(g.patches, labs):\n",
    "    height = bar.get_height()\n",
    "    g.text(\n",
    "        bar.get_x() + bar.get_width() / 2,\n",
    "        height + 0.02,\n",
    "        lbl,\n",
    "        ha=\"center\",\n",
    "        va=\"bottom\",\n",
    "        fontsize=sfontsize\n",
    "    )\n",
    "for label, color in zip(g.get_xticklabels(), sample_colors):\n",
    "    label.set_color(color)\n",
    "\n",
    "plt.savefig(f\"{PROJECT_DIR_o2}figures/ExtDataFig9b.pdf\", bbox_inches=\"tight\", transparent=True)"
   ]
  },
  {
   "cell_type": "markdown",
   "id": "82cd3bf0-e07e-412e-b286-95ab015d6d14",
   "metadata": {},
   "source": [
    "# Examples"
   ]
  },
  {
   "cell_type": "markdown",
   "id": "2ba428dc-b661-45cc-b17d-d19726ed491c",
   "metadata": {},
   "source": [
    "## Candidate regions"
   ]
  },
  {
   "cell_type": "code",
   "execution_count": 32,
   "id": "dbdcd1bd-56a4-43ef-a7e9-bcf7cecf4217",
   "metadata": {
    "execution": {
     "iopub.execute_input": "2025-09-18T05:43:10.272491Z",
     "iopub.status.busy": "2025-09-18T05:43:10.271672Z",
     "iopub.status.idle": "2025-09-18T05:43:10.279757Z",
     "shell.execute_reply": "2025-09-18T05:43:10.278709Z",
     "shell.execute_reply.started": "2025-09-18T05:43:10.272434Z"
    }
   },
   "outputs": [],
   "source": [
    "regions = [\n",
    "            # M1\n",
    "            (\"chr8\", \"127897918\", \"127900416\"),\n",
    "            # divergent proximal\n",
    "            (\"chr8\", \"127959178\", \"127961676\"),\n",
    "            # divergent proximal\n",
    "            (\"chr8\", \"128047678\", \"128050176\"),\n",
    "            # M1\n",
    "            (\"chr8\", \"129691488\", \"129693986\"),\n",
    "            # M1, M3 (BENC-C)\n",
    "            (\"chr8\", \"129581099\", \"129583597\"),\n",
    "            # M2 (BENC-D)\n",
    "            (\"chr8\", \"129590844\", \"129593342\"),\n",
    "            # divergent proximal\n",
    "            (\"chr8\", \"129678102\", \"129680600\"),\n",
    "            # M6 (GME-1)\n",
    "            (\"chr8\", \"128171008\", \"128173506\"),\n",
    "            # No PRO-cap elements\n",
    "            # (\"chr8\", \"128628131\", \"128630629\"),\n",
    "            # M9, M10\n",
    "            (\"chr8\", \"128076455\", \"128078953\")\n",
    "          ]"
   ]
  },
  {
   "cell_type": "code",
   "execution_count": 33,
   "id": "fa1ab4b4-4298-4d39-a819-89347c15c348",
   "metadata": {
    "execution": {
     "iopub.execute_input": "2025-09-18T05:44:07.370810Z",
     "iopub.status.busy": "2025-09-18T05:44:07.370040Z",
     "iopub.status.idle": "2025-09-18T05:44:07.457739Z",
     "shell.execute_reply": "2025-09-18T05:44:07.456563Z",
     "shell.execute_reply.started": "2025-09-18T05:44:07.370746Z"
    }
   },
   "outputs": [],
   "source": [
    "outputfile = f\"{PROJECT_DIR_d2}CRISPR/candidate_regions.bed\"\n",
    "with DelimitedWriter(outputfile) as dw:\n",
    "    for r in regions:\n",
    "        dw.write(r)"
   ]
  },
  {
   "cell_type": "code",
   "execution_count": 34,
   "id": "3e735b1b-49b7-4972-98e7-470722dc66c8",
   "metadata": {
    "execution": {
     "iopub.execute_input": "2025-09-18T05:44:16.824172Z",
     "iopub.status.busy": "2025-09-18T05:44:16.823341Z",
     "iopub.status.idle": "2025-09-18T05:44:17.094607Z",
     "shell.execute_reply": "2025-09-18T05:44:17.093528Z",
     "shell.execute_reply.started": "2025-09-18T05:44:16.824115Z"
    },
    "scrolled": true
   },
   "outputs": [
    {
     "name": "stdout",
     "output_type": "stream",
     "text": [
      "('chr8', '127897918', '127900416') 70 M1\n",
      "('chr8', '127897918', '127900416') 297 M1\n",
      "('chr8', '127897918', '127900416') 409 M1\n",
      "('chr8', '129691488', '129693986') 336 M1\n",
      "('chr8', '129581099', '129583597') 553 M1\n",
      "('chr8', '129581099', '129583597') 76 M1\n",
      "('chr8', '129590844', '129593342') 57 M2\n",
      "('chr8', '129590844', '129593342') 489 M2\n",
      "('chr8', '129590844', '129593342') 148 M2\n",
      "('chr8', '129590844', '129593342') 126 M2\n",
      "('chr8', '129581099', '129583597') 166 M3\n",
      "('chr8', '129581099', '129583597') 52 M3\n",
      "('chr8', '128171008', '128173506') 72 M6\n",
      "('chr8', '128076455', '128078953') 104 M9\n",
      "('chr8', '128076455', '128078953') 108 M10\n",
      "('chr8', '128076455', '128078953') 57 M10\n"
     ]
    }
   ],
   "source": [
    "b1 = pybedtools.BedTool(f\"{PROJECT_DIR_d2}CRISPR/candidate_regions.bed\")\n",
    "for n in range(1, 11):\n",
    "    b2 = pybedtools.BedTool(f\"{PROJECT_DIR_o2}homer/LL/M{n}.bed\")\n",
    "    overlap = b1.intersect(b2, wao=True)\n",
    "    for i in overlap:\n",
    "        if int(i.fields[-1]) > 0:\n",
    "            print(tuple(i.fields[:3]), i.fields[-1], f\"M{n}\")"
   ]
  },
  {
   "cell_type": "code",
   "execution_count": 35,
   "id": "b744e808-5726-4841-8c3c-b4b892a911c2",
   "metadata": {
    "execution": {
     "iopub.execute_input": "2025-09-18T05:44:34.155938Z",
     "iopub.status.busy": "2025-09-18T05:44:34.155126Z",
     "iopub.status.idle": "2025-09-18T05:44:35.333623Z",
     "shell.execute_reply": "2025-09-18T05:44:35.332544Z",
     "shell.execute_reply.started": "2025-09-18T05:44:34.155886Z"
    },
    "scrolled": true
   },
   "outputs": [
    {
     "name": "stdout",
     "output_type": "stream",
     "text": [
      "('chr8', '127959178', '127961676') 213 divergent proximal\n",
      "('chr8', '128047678', '128050176') 130 divergent proximal\n",
      "('chr8', '128047678', '128050176') 245 divergent proximal\n",
      "('chr8', '128047678', '128050176') 245 divergent proximal\n",
      "('chr8', '128047678', '128050176') 372 divergent proximal\n",
      "('chr8', '129678102', '129680600') 130 divergent proximal\n",
      "('chr8', '129678102', '129680600') 319 divergent proximal\n",
      "('chr8', '129678102', '129680600') 350 divergent proximal\n",
      "('chr8', '127959178', '127961676') 70 unidirectional distal\n",
      "('chr8', '128047678', '128050176') 48 unidirectional distal\n",
      "('chr8', '127959178', '127961676') 2 unidirectional proximal\n",
      "('chr8', '128047678', '128050176') 38 unidirectional proximal\n",
      "('chr8', '129678102', '129680600') 12 unidirectional proximal\n",
      "('chr8', '129678102', '129680600') 19 unidirectional proximal\n"
     ]
    }
   ],
   "source": [
    "ps = [\"divergent\", \"unidirectional\"]\n",
    "ds = [\"distal\", \"proximal\"]\n",
    "for p, d in itertools.product(ps, ds):\n",
    "    b2 = pybedtools.BedTool(f\"{PROJECT_DIR_d2}PROcap/processed/merged_{p}_{d}.bed.bgz\")\n",
    "    overlap = b1.intersect(b2, wao=True)\n",
    "    for i in overlap:\n",
    "        if int(i.fields[-1]) > 0:\n",
    "            if tuple(i.fields[:3]) in [(\"chr8\", \"127959178\", \"127961676\"), (\"chr8\", \"128047678\", \"128050176\"), (\"chr8\", \"129678102\", \"129680600\")]:\n",
    "                print(tuple(i.fields[:3]), i.fields[-1], p, d)"
   ]
  },
  {
   "cell_type": "markdown",
   "id": "5d1b971f-0514-4f62-acaa-38c3df54e372",
   "metadata": {},
   "source": [
    "## Browser shots"
   ]
  },
  {
   "cell_type": "code",
   "execution_count": 25,
   "id": "9141e66a-727d-4828-b2a1-b847e47da087",
   "metadata": {
    "execution": {
     "iopub.execute_input": "2025-09-18T05:37:27.642939Z",
     "iopub.status.busy": "2025-09-18T05:37:27.642486Z",
     "iopub.status.idle": "2025-09-18T05:37:27.647928Z",
     "shell.execute_reply": "2025-09-18T05:37:27.646979Z",
     "shell.execute_reply.started": "2025-09-18T05:37:27.642911Z"
    }
   },
   "outputs": [],
   "source": [
    "signals = defaultdict(dict)\n",
    "for s in samples:\n",
    "    signals[s] = {\"CRISPRi\": f\"{PROJECT_DIR_d2}/CRISPR/{s}_MYC.bedgraph\",\n",
    "              \"PROcap\": [f\"{PROJECT_DIR_o}/rpm/{s}_{k}_rpm.bw\" for k in [\"pl\", \"mn\"]]\n",
    "             }"
   ]
  },
  {
   "cell_type": "code",
   "execution_count": 41,
   "id": "66d64313-5505-4903-a701-0cfb2d6648dc",
   "metadata": {
    "execution": {
     "iopub.execute_input": "2025-09-18T05:52:07.595736Z",
     "iopub.status.busy": "2025-09-18T05:52:07.595055Z",
     "iopub.status.idle": "2025-09-18T05:52:07.603500Z",
     "shell.execute_reply": "2025-09-18T05:52:07.602577Z",
     "shell.execute_reply.started": "2025-09-18T05:52:07.595702Z"
    }
   },
   "outputs": [],
   "source": [
    "def prepare_data(samples):\n",
    "    data = {}\n",
    "    formatters = {}\n",
    "    for s in samples:\n",
    "        data[f\"PRO-cap ({s})\"] = [f\"{PROJECT_DIR_o}/rpm/{s}_{k}_rpm.bw\" for k in [\"pl\", \"mn\"]]\n",
    "        formatters[f\"PRO-cap ({s})\"] = {\"yscale\":\"asym_pos_neg\", \"plot_kw\":{\"width\":20},\n",
    "                                        \"pcolor\":\"red\", \"ncolor\":\"blue\"\n",
    "                                       }\n",
    "        data[f\"CRISPRi ({s})\"] = f\"{PROJECT_DIR_d2}/CRISPR/{s}_MYC.bedgraph\"\n",
    "        formatters[f\"CRISPRi ({s})\"] = {\"tracktype\":\"signal\", \"yscale\":\"same_ymin_ymax\", \"plot_kw\":{\"width\":20},\n",
    "                                        \"pcolor\":\"#bebada\", \"ncolor\":\"#d9d9d9\"\n",
    "                                       }\n",
    "    assay_colors = [\"#000000\" if n % 2 == 0 else \"#bc80bd\" for n in range(len(data))]\n",
    "\n",
    "    return data, formatters, assay_colors"
   ]
  },
  {
   "cell_type": "code",
   "execution_count": 61,
   "id": "3f240fef-e81c-462d-b567-9515b4d8fa06",
   "metadata": {
    "execution": {
     "iopub.execute_input": "2025-09-18T06:04:03.190510Z",
     "iopub.status.busy": "2025-09-18T06:04:03.189893Z",
     "iopub.status.idle": "2025-09-18T06:04:03.213525Z",
     "shell.execute_reply": "2025-09-18T06:04:03.212592Z",
     "shell.execute_reply.started": "2025-09-18T06:04:03.190466Z"
    }
   },
   "outputs": [],
   "source": [
    "def plot_regions(data, formatters, regions, titles, texts, assay_colors, samples, sample_colors, figsize, outputfiles, xspace, yspace, x1, x2, xlabel=\"chr8\", yticklabel_fontsize=sfontsize, ylabel_fontsize=bfontsize):\n",
    "\tfor region in regions:\n",
    "\t\tcol = regions.index(region)\n",
    "\t\n",
    "\t\tchrom, start, end = region\n",
    "\t\tregion = f\"{chrom}:{start}-{end}\"\n",
    "\t\tregion = utils.expand_genomic_pos(region, 2500)\n",
    "\t\tfig = gv.plot_genome_view(\n",
    "\t\t\tregion,\n",
    "\t\t\tdata,\n",
    "\t\t\tformatters,\n",
    "\t\t\tgroup_autoscales = [[k for k in data if \"PRO-cap\" in k],\n",
    "\t\t\t\t\t\t\t\t[k for k in data if \"CRISPRi\" in k and \"SUDHL5\" not in k]\n",
    "\t\t\t\t\t\t\t   ],\n",
    "\t\t\tcoordinate_kw = {\"major_coordinate_unit\":2000}\n",
    "\t\t)\n",
    "\t\t\n",
    "\t\tbpu.plt_change_figure_properties(\n",
    "\t\t\tfig,\n",
    "\t\t\t**{\"fig_prop\": {\"size_inches\":figsize},\n",
    "\t\t\t\"fig_suptitle\": titles[col],\n",
    "\t\t\t\"fig_suptitle_kwargs\": {\"fontsize\":bfontsize, \"y\":0.92},\n",
    "\t\t\t\"locator_prop\": {\"nbins\":2, \"axis\":\"x\"},\n",
    "\t\t\t\"xticklabels_prop\": {\"fontsize\":sfontsize},\n",
    "\t\t\t\"yticklabels_prop\": {\"fontsize\":yticklabel_fontsize},\n",
    "\t\t\t\"xlabel_prop\": {\"fontsize\":bfontsize, \"text\":\"\"},\n",
    "\t\t\t\"ylabel_prop\": {\"fontsize\":ylabel_fontsize, \"text\":\"\"}\n",
    "\t\t\t},\n",
    "\t\t\ttitle_prop = {\"text\": \"\"}\n",
    "\t\t)\n",
    "\t\t\n",
    "\t\tax = fig.add_axes([0,0,1,1])\n",
    "\t\tax.axis('off')\n",
    "\t\ttrans = ax.get_yaxis_transform()\n",
    "\t\t\n",
    "\t\tfor i in range(len(data)):\n",
    "\t\t\tif i == len(data)-1:\n",
    "\t\t\t\t# xlabel\n",
    "\t\t\t\tbpu.plt_change_figure_properties(\n",
    "\t\t\t\t\tfig,\n",
    "\t\t\t\t\tax_targets=[i],\n",
    "\t\t\t\t\txlabel_prop={\"text\":xlabel}\n",
    "\t\t\t\t\t)\n",
    "\t\t\t\tfig.axes[i].xaxis.set_label_coords(0.5, xspace)\n",
    "\t\t\t\t\t\n",
    "\t\t\tif col in [0,5]:\n",
    "\t\t\t\t# yticklabels\n",
    "\t\t\t\tbpu.plt_change_figure_properties(\n",
    "\t\t\t\t\tfig,\n",
    "\t\t\t\t\tax_targets=[i],\n",
    "\t\t\t\t\tylabel_prop={\"color\":assay_colors[i], \"text\":texts[i], \"va\": \"center\", \"ha\": \"center\"}\n",
    "\t\t\t\t)\n",
    "\t\t\t\tfig.axes[i].yaxis.set_label_coords(yspace, 0.5)\n",
    "\t\t\n",
    "\t\t\t\t# Add sample names\n",
    "\t\t\t\tif i % 2 == 0:\n",
    "\t\t\t\t\tfor s in samples:\n",
    "\t\t\t\t\t\tn = samples.index(s)\n",
    "\t\t\t\t\t\trow1, row2 = [2*n,2*n+1]\n",
    "\t\t\t\t\t\ty_center = (fig.axes[row1].get_position().y0 + fig.axes[row2].get_position().y1) / 2\n",
    "\t\t\t\t\t\tfig.text(x1, y_center, labels[s][0], va=\"center\", ha=\"center\", rotation=\"vertical\", \n",
    "\t\t\t\t\t\t\t\t fontsize=ylabel_fontsize, c=sample_colors[n])\n",
    "\t\t\t\t\t\tline = mlines.Line2D([x2, x2], [fig.axes[row1].get_position().y1, fig.axes[row2].get_position().y0],\n",
    "\t\t\t\t\t\t\t\t\t\t\t transform=fig.transFigure, color=\"#000000\", linewidth=lw, zorder=10)\n",
    "\t\t\t\t\t\tfig.add_artist(line)\n",
    "\t\n",
    "\t\tfig.savefig(outputfiles[col], bbox_inches=\"tight\", transparent=True)"
   ]
  },
  {
   "cell_type": "markdown",
   "id": "e0d03949-b1e5-4de9-baf3-5c00728d4b63",
   "metadata": {},
   "source": [
    "### Full panel"
   ]
  },
  {
   "cell_type": "code",
   "execution_count": 56,
   "id": "13fb5ca8-7629-4fca-89dc-7c79eeeedf6b",
   "metadata": {
    "execution": {
     "iopub.execute_input": "2025-09-18T06:00:55.403352Z",
     "iopub.status.busy": "2025-09-18T06:00:55.402844Z",
     "iopub.status.idle": "2025-09-18T06:00:55.408322Z",
     "shell.execute_reply": "2025-09-18T06:00:55.407484Z",
     "shell.execute_reply.started": "2025-09-18T06:00:55.403322Z"
    }
   },
   "outputs": [],
   "source": [
    "texts = []\n",
    "for s in samples:\n",
    "    if s != \"SUDHL5\":\n",
    "        texts.extend([\"PRO-cap\", \"CRISPRi\\n(tiling screen)\"])\n",
    "    else:\n",
    "        texts.extend([\"PRO-cap\", \"CRISPRi\\n(select NFR)\"])"
   ]
  },
  {
   "cell_type": "code",
   "execution_count": 64,
   "id": "9a4f8b5b-b6c5-4e77-9fa9-97930e6a178e",
   "metadata": {
    "execution": {
     "iopub.execute_input": "2025-09-18T06:07:15.827570Z",
     "iopub.status.busy": "2025-09-18T06:07:15.826505Z",
     "iopub.status.idle": "2025-09-18T06:07:20.495984Z",
     "shell.execute_reply": "2025-09-18T06:07:20.494949Z",
     "shell.execute_reply.started": "2025-09-18T06:07:15.827523Z"
    },
    "scrolled": true
   },
   "outputs": [
    {
     "data": {
      "image/png": "[encoded data removed]",
      "text/plain": [
       "<Figure size 120x480 with 14 Axes>"
      ]
     },
     "metadata": {},
     "output_type": "display_data"
    }
   ],
   "source": [
    "data, formatters, assay_colors = prepare_data(samples)\n",
    "sample_full_colors = [colors[subtypes.index(labels[s][1])] for s in samples]\n",
    "titles = [\"\"]*len(regions)\n",
    "outputfiles = [f\"{PROJECT_DIR_o2}figures/ExtDataFig9c_{n+1}.pdf\" for n in range(len(regions))]\n",
    "plot_regions(data, formatters, regions, titles, texts, assay_colors, samples, sample_full_colors, (1.2, 4.8), outputfiles, xspace=-1.5, yspace=-0.78, x1=-0.85, x2=-0.78, xlabel=\"\", yticklabel_fontsize=6, ylabel_fontsize=7.5)"
   ]
  },
  {
   "cell_type": "markdown",
   "id": "667a9fb2-ac79-4704-bbf1-8394853c3b5a",
   "metadata": {},
   "source": [
    "### Main figure"
   ]
  },
  {
   "cell_type": "code",
   "execution_count": 54,
   "id": "739278c4-5101-433b-b796-00ced321126b",
   "metadata": {
    "execution": {
     "iopub.execute_input": "2025-09-18T06:00:14.944310Z",
     "iopub.status.busy": "2025-09-18T06:00:14.943782Z",
     "iopub.status.idle": "2025-09-18T06:00:14.950353Z",
     "shell.execute_reply": "2025-09-18T06:00:14.949296Z",
     "shell.execute_reply.started": "2025-09-18T06:00:14.944277Z"
    }
   },
   "outputs": [],
   "source": [
    "samples_main = [\"K562\", \"SEM\", \"REH\", \"Karpas422\"]\n",
    "texts_main = []\n",
    "for s in samples_main:\n",
    "    texts_main.extend([\"PRO-cap\", \"CRISPRi\"])\n",
    "data_main, formatters_main, assay_colors_main = prepare_data(samples_main)\n",
    "sample_main_colors = [colors[subtypes.index(labels[s][1])] for s in samples_main]"
   ]
  },
  {
   "cell_type": "code",
   "execution_count": 55,
   "id": "1931b8dd-7e4b-4a65-94e4-42d5d42e134b",
   "metadata": {
    "execution": {
     "iopub.execute_input": "2025-09-18T06:00:35.537271Z",
     "iopub.status.busy": "2025-09-18T06:00:35.536688Z",
     "iopub.status.idle": "2025-09-18T06:00:45.949208Z",
     "shell.execute_reply": "2025-09-18T06:00:45.948150Z",
     "shell.execute_reply.started": "2025-09-18T06:00:35.537236Z"
    },
    "scrolled": true
   },
   "outputs": [
    {
     "data": {
      "image/png": "[encoded data removed]",
      "text/plain": [
       "<Figure size 200x400 with 10 Axes>"
      ]
     },
     "metadata": {},
     "output_type": "display_data"
    },
    {
     "data": {
      "image/png": "[encoded data removed]",
      "text/plain": [
       "<Figure size 200x400 with 10 Axes>"
      ]
     },
     "metadata": {},
     "output_type": "display_data"
    },
    {
     "data": {
      "image/png": "[encoded data removed]",
      "text/plain": [
       "<Figure size 200x400 with 10 Axes>"
      ]
     },
     "metadata": {},
     "output_type": "display_data"
    }
   ],
   "source": [
    "regions_main = [# M1\n",
    "            (\"chr8\", \"127897918\", \"127900416\"),\n",
    "           # M2 (BENC-D)\n",
    "            (\"chr8\", \"129590844\", \"129593342\"),\n",
    "            # M6 (GME-1)\n",
    "            (\"chr8\", \"128171008\", \"128173506\")\n",
    "          ]\n",
    "titles = [\"M1\", \"M2\", \"M6\"]\n",
    "outputfiles = [f\"{PROJECT_DIR_o2}figures/Fig6b_{n+1}.pdf\" for n in range(len(regions))]\n",
    "plot_regions(data_main, formatters_main, regions_main, titles, texts_main, assay_colors, samples_main, sample_main_colors, (2, 4), outputfiles, xspace=-1, yspace=-0.55, x1=-0.6, x2=-0.53)"
   ]
  },
  {
   "cell_type": "code",
   "execution_count": null,
   "id": "07c5d7d9-4b8a-4b0e-9090-f3b9e199c2ca",
   "metadata": {},
   "outputs": [],
   "source": []
  }
 ],
 "metadata": {
  "kernelspec": {
   "display_name": "Python 3 (ipykernel)",
   "language": "python",
   "name": "python3"
  },
  "language_info": {
   "codemirror_mode": {
    "name": "ipython",
    "version": 3
   },
   "file_extension": ".py",
   "mimetype": "text/x-python",
   "name": "python",
   "nbconvert_exporter": "python",
   "pygments_lexer": "ipython3",
   "version": "3.10.8"
  }
 },
 "nbformat": 4,
 "nbformat_minor": 5
}
