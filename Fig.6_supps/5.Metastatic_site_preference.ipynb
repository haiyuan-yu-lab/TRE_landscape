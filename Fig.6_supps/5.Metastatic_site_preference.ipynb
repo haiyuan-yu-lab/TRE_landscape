{
 "cells": [
  {
   "cell_type": "code",
   "execution_count": 54,
   "id": "81707ec2-03a1-4a61-97b7-f56e1cb51060",
   "metadata": {
    "editable": true,
    "execution": {
     "iopub.execute_input": "2025-09-20T05:19:48.677492Z",
     "iopub.status.busy": "2025-09-20T05:19:48.677025Z",
     "iopub.status.idle": "2025-09-20T05:19:49.858245Z",
     "shell.execute_reply": "2025-09-20T05:19:49.857353Z",
     "shell.execute_reply.started": "2025-09-20T05:19:48.677467Z"
    },
    "slideshow": {
     "slide_type": ""
    },
    "tags": []
   },
   "outputs": [],
   "source": [
    "import seaborn as sns\n",
    "import pandas as pd\n",
    "import matplotlib\n",
    "import matplotlib.pyplot as plt\n",
    "import numpy as np\n",
    "from collections import defaultdict, Counter\n",
    "from biodatatools.utils.common import json_load\n",
    "from mphelper import ProcessWrapPool\n",
    "from scipy.stats import zscore\n",
    "from adjustText import adjust_text\n",
    "from openpyxl import load_workbook\n",
    "import itertools\n",
    "from biodata.delimited import DelimitedWriter\n",
    "import matplotlib.lines as mlines\n",
    "import sys\n",
    "from pathlib import Path\n",
    "import pybedtools"
   ]
  },
  {
   "cell_type": "code",
   "execution_count": 2,
   "id": "f6bc647a-e7da-421a-a34c-6800e031e2fa",
   "metadata": {
    "execution": {
     "iopub.execute_input": "2025-09-20T04:40:27.648690Z",
     "iopub.status.busy": "2025-09-20T04:40:27.648088Z",
     "iopub.status.idle": "2025-09-20T04:40:27.659060Z",
     "shell.execute_reply": "2025-09-20T04:40:27.658069Z",
     "shell.execute_reply.started": "2025-09-20T04:40:27.648661Z"
    },
    "tags": []
   },
   "outputs": [],
   "source": [
    "sys.path.append(str(Path.cwd().parent))\n",
    "import utils"
   ]
  },
  {
   "cell_type": "code",
   "execution_count": 170,
   "id": "0275bec2-b4fa-4271-94d7-9e9c1cc82699",
   "metadata": {
    "execution": {
     "iopub.execute_input": "2025-09-20T15:17:26.015356Z",
     "iopub.status.busy": "2025-09-20T15:17:26.014903Z",
     "iopub.status.idle": "2025-09-20T15:17:26.024133Z",
     "shell.execute_reply": "2025-09-20T15:17:26.023369Z",
     "shell.execute_reply.started": "2025-09-20T15:17:26.015330Z"
    }
   },
   "outputs": [],
   "source": [
    "font_dir = Path.cwd().parent / \"font\"\n",
    "for font in [\"Arial.ttf\", \"Arial_Bold.ttf\"]:\n",
    "    matplotlib.font_manager.fontManager.addfont(font_dir / font)\n",
    "matplotlib.rcParams[\"font.family\"] = \"Arial\"\n",
    "bfontsize = 12\n",
    "sfontsize = 9\n",
    "lw = 0.8"
   ]
  },
  {
   "cell_type": "code",
   "execution_count": 37,
   "id": "efbd7b7f-14af-41e1-91a9-c9ba896fb4a3",
   "metadata": {
    "execution": {
     "iopub.execute_input": "2025-09-20T05:01:07.440530Z",
     "iopub.status.busy": "2025-09-20T05:01:07.439541Z",
     "iopub.status.idle": "2025-09-20T05:01:07.445363Z",
     "shell.execute_reply": "2025-09-20T05:01:07.444428Z",
     "shell.execute_reply.started": "2025-09-20T05:01:07.440485Z"
    }
   },
   "outputs": [],
   "source": [
    "PROJECT_DIR_d = \"/home/yc2553/projects/HEA/databases/\"\n",
    "PROJECT_DIR_d2 = \"/fs/cbsuhy02/storage/yc2553/yc2553/databases/\"\n",
    "PROJECT_DIR_s = \"/fs/cbsuhy02/storage/yc2553/yc2553/softwares/\"\n",
    "PROJECT_DIR_s2 = \"/fs/cbsuhy02/storage/yc2553/yc2553/projects/TRE_directionality/softwares/\"\n",
    "PROJECT_DIR_o = \"/home/yc2553/projects/HEA/output/\"\n",
    "PROJECT_DIR_o2 = \"/fs/cbsuhy02/storage/yc2553/yc2553/projects/3.Human_atlas/output/\"\n",
    "PROJECT_DIR_r = \"/fs/cbsuhy02/storage/yc2553/yc2553/projects/TRE_directionality/resources/\""
   ]
  },
  {
   "cell_type": "markdown",
   "id": "2d01b949-2540-4b68-a5a1-8d28bc88991d",
   "metadata": {},
   "source": [
    "# DE analysis (CRC lung vs. brain metastasis)"
   ]
  },
  {
   "cell_type": "markdown",
   "id": "f34c4d50-3e8a-48db-8def-0c7a3e1c9065",
   "metadata": {},
   "source": [
    "## Run DESeq2"
   ]
  },
  {
   "cell_type": "code",
   "execution_count": 5,
   "id": "37221f18-96c9-4264-a8de-a4c51dd65570",
   "metadata": {
    "execution": {
     "iopub.execute_input": "2025-09-20T04:49:39.446431Z",
     "iopub.status.busy": "2025-09-20T04:49:39.445330Z",
     "iopub.status.idle": "2025-09-20T04:49:39.458270Z",
     "shell.execute_reply": "2025-09-20T04:49:39.457328Z",
     "shell.execute_reply.started": "2025-09-20T04:49:39.446376Z"
    }
   },
   "outputs": [],
   "source": [
    "labels = json_load(f\"{PROJECT_DIR_d}PROcap/metainfo/classifications.json\")\n",
    "groups = json_load(f\"{PROJECT_DIR_d}PROcap/metainfo/samples.json\")\n",
    "cdict = json_load(f\"{PROJECT_DIR_d}PROcap/metainfo/color_codes.json\")"
   ]
  },
  {
   "cell_type": "code",
   "execution_count": 6,
   "id": "b4dba908-c2b8-4ea4-927f-b2ae5ff28ffd",
   "metadata": {
    "execution": {
     "iopub.execute_input": "2025-09-20T04:49:40.648284Z",
     "iopub.status.busy": "2025-09-20T04:49:40.647354Z",
     "iopub.status.idle": "2025-09-20T04:49:41.013331Z",
     "shell.execute_reply": "2025-09-20T04:49:41.012357Z",
     "shell.execute_reply.started": "2025-09-20T04:49:40.648231Z"
    }
   },
   "outputs": [
    {
     "data": {
      "text/plain": [
       "Counter({('Large intestine', 'Lung'): 2, ('Large intestine', 'Brain'): 2})"
      ]
     },
     "execution_count": 6,
     "metadata": {},
     "output_type": "execute_result"
    }
   ],
   "source": [
    "# Compare lung vs. brain metastasis from CRC\n",
    "\n",
    "m_samples = [\"Met3\", \"Met4\", \"Met7\", \"Met10\"]\n",
    "Counter([tuple(labels[s]) for s in m_samples])"
   ]
  },
  {
   "cell_type": "code",
   "execution_count": 116,
   "id": "92e032c2-db83-4641-9cdc-4cb88160aa52",
   "metadata": {
    "execution": {
     "iopub.execute_input": "2025-09-12T14:23:02.315370Z",
     "iopub.status.busy": "2025-09-12T14:23:02.315010Z",
     "iopub.status.idle": "2025-09-12T14:23:02.344494Z",
     "shell.execute_reply": "2025-09-12T14:23:02.343961Z",
     "shell.execute_reply.started": "2025-09-12T14:23:02.315346Z"
    }
   },
   "outputs": [],
   "source": [
    "# Get differentially expressed elements between T1D and normal T cells\n",
    "\n",
    "results = [labels[s][1] for s in m_samples]\n",
    "df = pd.DataFrame(results, index=m_samples, columns=[\"Condition\"])\n",
    "outputfile = f\"{PROJECT_DIR_o}DE/CRC/samples.txt\"\n",
    "df.to_csv(outputfile, sep=\"\\t\")"
   ]
  },
  {
   "cell_type": "code",
   "execution_count": 7,
   "id": "978b4277-f8b2-401d-a287-0872c5b3adbe",
   "metadata": {
    "execution": {
     "iopub.execute_input": "2025-09-20T04:49:47.707264Z",
     "iopub.status.busy": "2025-09-20T04:49:47.706501Z",
     "iopub.status.idle": "2025-09-20T04:49:47.711403Z",
     "shell.execute_reply": "2025-09-20T04:49:47.710529Z",
     "shell.execute_reply.started": "2025-09-20T04:49:47.707213Z"
    }
   },
   "outputs": [],
   "source": [
    "ps = [\"divergent\", \"unidirectional\"]\n",
    "ds = [\"distal\", \"proximal\"]"
   ]
  },
  {
   "cell_type": "code",
   "execution_count": 9,
   "id": "9638372e-9d13-4966-8297-76da1006e2b1",
   "metadata": {
    "execution": {
     "iopub.execute_input": "2025-09-20T04:50:24.126183Z",
     "iopub.status.busy": "2025-09-20T04:50:24.125718Z",
     "iopub.status.idle": "2025-09-20T04:50:57.745809Z",
     "shell.execute_reply": "2025-09-20T04:50:57.743891Z",
     "shell.execute_reply.started": "2025-09-20T04:50:24.126153Z"
    }
   },
   "outputs": [],
   "source": [
    "# Keep elements found in these samples\n",
    "\n",
    "outputfile = f\"{PROJECT_DIR_o}DE/CRC/elements.bed\"\n",
    "es = {}\n",
    "with DelimitedWriter(outputfile) as dw:\n",
    "\tfor p, d in itertools.product(ps, ds):\n",
    "\t\tdf = pd.read_table(f\"{PROJECT_DIR_d}PROcap/processed/binary_{p}_{d}.txt\", index_col=0)\n",
    "\t\tes[(p,d)] = set(df[df[m_samples].sum(axis=1) >= 1].index)\n",
    "\t\tfor e in es[(p,d)]:\n",
    "\t\t\tdw.write(e.split(\"_\"))"
   ]
  },
  {
   "cell_type": "code",
   "execution_count": 98,
   "id": "7a83fd1a-a943-466b-bcdc-cac696856e4f",
   "metadata": {
    "execution": {
     "iopub.execute_input": "2025-09-11T18:35:48.920817Z",
     "iopub.status.busy": "2025-09-11T18:35:48.920515Z",
     "iopub.status.idle": "2025-09-11T18:35:57.409056Z",
     "shell.execute_reply": "2025-09-11T18:35:57.408362Z",
     "shell.execute_reply.started": "2025-09-11T18:35:48.920797Z"
    },
    "scrolled": true
   },
   "outputs": [],
   "source": [
    "# Get raw counts\n",
    "\n",
    "df = pd.read_table(f\"{PROJECT_DIR_d}PROcap/processed/raw_reads_all.txt\", index_col=0)\n",
    "df_filtered = df[m_samples].loc[[e for k in es for e in es[k]]]\n",
    "outputfile = f\"{PROJECT_DIR_o}DE/CRC/raw_reads.txt\"\n",
    "df_filtered.to_csv(outputfile, sep=\"\\t\")"
   ]
  },
  {
   "cell_type": "code",
   "execution_count": null,
   "id": "88ac3ed0-1c27-466b-9692-45b72f6b0859",
   "metadata": {},
   "outputs": [],
   "source": [
    "# Run DESeq2 analysis in Data_preprocessing/2-2.DESeq2.ipynb"
   ]
  },
  {
   "cell_type": "code",
   "execution_count": 12,
   "id": "7686c794-9ae9-4bef-a425-4af2896f454b",
   "metadata": {
    "execution": {
     "iopub.execute_input": "2025-09-20T04:51:34.584633Z",
     "iopub.status.busy": "2025-09-20T04:51:34.584188Z",
     "iopub.status.idle": "2025-09-20T04:51:34.697408Z",
     "shell.execute_reply": "2025-09-20T04:51:34.696414Z",
     "shell.execute_reply.started": "2025-09-20T04:51:34.584607Z"
    }
   },
   "outputs": [
    {
     "data": {
      "text/html": [
       "<div>\n",
       "<style scoped>\n",
       "    .dataframe tbody tr th:only-of-type {\n",
       "        vertical-align: middle;\n",
       "    }\n",
       "\n",
       "    .dataframe tbody tr th {\n",
       "        vertical-align: top;\n",
       "    }\n",
       "\n",
       "    .dataframe thead th {\n",
       "        text-align: right;\n",
       "    }\n",
       "</style>\n",
       "<table border=\"1\" class=\"dataframe\">\n",
       "  <thead>\n",
       "    <tr style=\"text-align: right;\">\n",
       "      <th></th>\n",
       "      <th>baseMean</th>\n",
       "      <th>log2FoldChange</th>\n",
       "      <th>lfcSE</th>\n",
       "      <th>pvalue</th>\n",
       "      <th>padj</th>\n",
       "    </tr>\n",
       "  </thead>\n",
       "  <tbody>\n",
       "    <tr>\n",
       "      <th>chr6_135266715_135266893</th>\n",
       "      <td>21.575151</td>\n",
       "      <td>-0.708655</td>\n",
       "      <td>1.171481</td>\n",
       "      <td>0.112805</td>\n",
       "      <td>0.398689</td>\n",
       "    </tr>\n",
       "    <tr>\n",
       "      <th>chr1_219924333_219924729</th>\n",
       "      <td>62.995481</td>\n",
       "      <td>4.133769</td>\n",
       "      <td>1.537754</td>\n",
       "      <td>0.000071</td>\n",
       "      <td>0.004077</td>\n",
       "    </tr>\n",
       "  </tbody>\n",
       "</table>\n",
       "</div>"
      ],
      "text/plain": [
       "                           baseMean  log2FoldChange     lfcSE    pvalue  \\\n",
       "chr6_135266715_135266893  21.575151       -0.708655  1.171481  0.112805   \n",
       "chr1_219924333_219924729  62.995481        4.133769  1.537754  0.000071   \n",
       "\n",
       "                              padj  \n",
       "chr6_135266715_135266893  0.398689  \n",
       "chr1_219924333_219924729  0.004077  "
      ]
     },
     "execution_count": 12,
     "metadata": {},
     "output_type": "execute_result"
    }
   ],
   "source": [
    "p = \"divergent\"\n",
    "d = \"distal\"\n",
    "res = pd.read_table(f\"{PROJECT_DIR_o}DE/CRC/DESeq2.txt\")\n",
    "res = res.dropna()\n",
    "res = res.loc[[e for e in list(res.index) if e in es[(p,d)]]]\n",
    "res.head(2)"
   ]
  },
  {
   "cell_type": "code",
   "execution_count": 82,
   "id": "d13b8e9e-3887-426d-9e07-c85d2181ae83",
   "metadata": {
    "execution": {
     "iopub.execute_input": "2025-09-20T05:41:43.106555Z",
     "iopub.status.busy": "2025-09-20T05:41:43.105997Z",
     "iopub.status.idle": "2025-09-20T05:41:43.124640Z",
     "shell.execute_reply": "2025-09-20T05:41:43.123669Z",
     "shell.execute_reply.started": "2025-09-20T05:41:43.106525Z"
    }
   },
   "outputs": [
    {
     "data": {
      "text/plain": [
       "Counter({'Unchanged': 13683, 'Down': 623, 'Up': 505})"
      ]
     },
     "execution_count": 82,
     "metadata": {},
     "output_type": "execute_result"
    }
   ],
   "source": [
    "# Lung is the ref level\n",
    "# Up: higher signals in Brain\n",
    "# Down: higher signals in Lung\n",
    "\n",
    "padj_cutoff = 0.05\n",
    "lfc_cutoff = 1\n",
    "conditions = [\n",
    "\t(res[\"padj\"] < padj_cutoff) & (res[\"log2FoldChange\"] > lfc_cutoff),\n",
    "\t(res[\"padj\"] < padj_cutoff) & (res[\"log2FoldChange\"] < -lfc_cutoff),\n",
    "]\n",
    "ks = [\"Down\", \"Up\"]\n",
    "res[\"Label\"] = np.select(conditions, ks, default=\"Unchanged\")\n",
    "Counter(res[\"Label\"])"
   ]
  },
  {
   "cell_type": "markdown",
   "id": "fea2d18b-fef0-448e-b6f6-6fa1480ea59f",
   "metadata": {},
   "source": [
    "## Heatmap"
   ]
  },
  {
   "cell_type": "code",
   "execution_count": 13,
   "id": "f18e0b97-2a42-4642-be0b-184e52f610c4",
   "metadata": {
    "execution": {
     "iopub.execute_input": "2025-09-20T04:51:55.782031Z",
     "iopub.status.busy": "2025-09-20T04:51:55.780929Z",
     "iopub.status.idle": "2025-09-20T04:51:55.884678Z",
     "shell.execute_reply": "2025-09-20T04:51:55.883808Z",
     "shell.execute_reply.started": "2025-09-20T04:51:55.781982Z"
    }
   },
   "outputs": [],
   "source": [
    "n_samples = list(pd.read_table(f\"{PROJECT_DIR_d}PROcap/metainfo/keep_samples.txt\", header=None)[0])\n",
    "mn_samples = m_samples.copy()\n",
    "for t in [\"Large intestine\", \"Lung\", \"Brain\"]:\n",
    "\tmn_samples.extend([s for s in n_samples if labels[s][1] == t])"
   ]
  },
  {
   "cell_type": "code",
   "execution_count": 17,
   "id": "dd554260-3287-4564-a1a5-f0d571395ddf",
   "metadata": {
    "execution": {
     "iopub.execute_input": "2025-09-20T04:53:16.803731Z",
     "iopub.status.busy": "2025-09-20T04:53:16.803379Z",
     "iopub.status.idle": "2025-09-20T04:54:28.644367Z",
     "shell.execute_reply": "2025-09-20T04:54:28.642827Z",
     "shell.execute_reply.started": "2025-09-20T04:53:16.803706Z"
    },
    "scrolled": true
   },
   "outputs": [],
   "source": [
    "# Use Z-score to highlight the tissue-specific expression blocks\n",
    "# row: samples\n",
    "# column: elements\n",
    "\n",
    "DE_es = list(res[res[\"Label\"]==\"Down\"].index) + list(res[res[\"Label\"]==\"Up\"].index)\n",
    "df_exp = pd.read_table(f\"{PROJECT_DIR_d}PROcap/processed/norm_reads_vst_all.txt\", index_col=0)\n",
    "df_zscores = df_exp[mn_samples].loc[DE_es].apply(zscore, axis=1)"
   ]
  },
  {
   "cell_type": "code",
   "execution_count": 18,
   "id": "1ede09d5-0472-46ae-8de8-1936562f08a1",
   "metadata": {
    "execution": {
     "iopub.execute_input": "2025-09-20T04:54:28.648093Z",
     "iopub.status.busy": "2025-09-20T04:54:28.647387Z",
     "iopub.status.idle": "2025-09-20T04:54:28.665717Z",
     "shell.execute_reply": "2025-09-20T04:54:28.665042Z",
     "shell.execute_reply.started": "2025-09-20T04:54:28.648063Z"
    },
    "tags": []
   },
   "outputs": [
    {
     "data": {
      "text/html": [
       "<div>\n",
       "<style scoped>\n",
       "    .dataframe tbody tr th:only-of-type {\n",
       "        vertical-align: middle;\n",
       "    }\n",
       "\n",
       "    .dataframe tbody tr th {\n",
       "        vertical-align: top;\n",
       "    }\n",
       "\n",
       "    .dataframe thead th {\n",
       "        text-align: right;\n",
       "    }\n",
       "</style>\n",
       "<table border=\"1\" class=\"dataframe\">\n",
       "  <thead>\n",
       "    <tr style=\"text-align: right;\">\n",
       "      <th></th>\n",
       "      <th></th>\n",
       "    </tr>\n",
       "  </thead>\n",
       "  <tbody>\n",
       "    <tr>\n",
       "      <th>Met3</th>\n",
       "      <td>#fb8072</td>\n",
       "    </tr>\n",
       "    <tr>\n",
       "      <th>Met4</th>\n",
       "      <td>#fb8072</td>\n",
       "    </tr>\n",
       "  </tbody>\n",
       "</table>\n",
       "</div>"
      ],
      "text/plain": [
       "             \n",
       "Met3  #fb8072\n",
       "Met4  #fb8072"
      ]
     },
     "execution_count": 18,
     "metadata": {},
     "output_type": "execute_result"
    }
   ],
   "source": [
    "# Map the sample labels to corresponding colors\n",
    "\n",
    "colors = []\n",
    "for s in mn_samples:\n",
    "\tif s in m_samples:\n",
    "\t\tif labels[s][1] == \"Lung\":\n",
    "\t\t\tcolors.append(\"#fb8072\") \n",
    "\t\telse:\n",
    "\t\t\tcolors.append(\"#bc80bd\") \n",
    "\telse:\n",
    "\t\tcolors.append(cdict[labels[s][1]]) \n",
    "color_vectors = pd.DataFrame(colors, index=mn_samples)\n",
    "color_vectors.columns = [\"\"]\n",
    "color_vectors.head(2)"
   ]
  },
  {
   "cell_type": "code",
   "execution_count": 19,
   "id": "6ae65a72-69cf-49b8-96f5-f4ae1eca63d6",
   "metadata": {
    "execution": {
     "iopub.execute_input": "2025-09-20T04:54:28.667191Z",
     "iopub.status.busy": "2025-09-20T04:54:28.666948Z",
     "iopub.status.idle": "2025-09-20T04:54:29.715637Z",
     "shell.execute_reply": "2025-09-20T04:54:29.714771Z",
     "shell.execute_reply.started": "2025-09-20T04:54:28.667168Z"
    },
    "scrolled": true
   },
   "outputs": [],
   "source": [
    "subtypes = [\"Large intestine → Lung\", \"Large intestine → Brain\", \"Large intestine\", \"Lung\", \"Brain\"]\n",
    "palette = sns.color_palette(list(dict.fromkeys(colors)))"
   ]
  },
  {
   "cell_type": "code",
   "execution_count": 20,
   "id": "0f6a2114-c831-497b-888f-cced65c8d413",
   "metadata": {
    "execution": {
     "iopub.execute_input": "2025-09-20T04:54:29.717306Z",
     "iopub.status.busy": "2025-09-20T04:54:29.716941Z",
     "iopub.status.idle": "2025-09-20T04:54:31.419500Z",
     "shell.execute_reply": "2025-09-20T04:54:31.418694Z",
     "shell.execute_reply.started": "2025-09-20T04:54:29.717281Z"
    }
   },
   "outputs": [
    {
     "data": {
      "image/png": "[encoded data removed]",
      "text/plain": [
       "<Figure size 300x350 with 6 Axes>"
      ]
     },
     "metadata": {},
     "output_type": "display_data"
    }
   ],
   "source": [
    "vlims = [-3,0,3]\n",
    "g = sns.clustermap(data=df_zscores, cmap=\"coolwarm\", \n",
    "\t\t\t\t  xticklabels=True, yticklabels=False, \n",
    "\t\t\t\t  row_cluster=False, col_cluster=False,\n",
    "\t\t\t\t  col_colors=color_vectors, figsize=(3,3.5),\n",
    "\t\t\t\t  vmin=vlims[0], vmax=vlims[-1],\n",
    "\t\t\t\t  dendrogram_ratio=(0,0.01)\n",
    "\t\t\t\t  )\t\n",
    "\t\n",
    "for label in subtypes:\n",
    "\ti = subtypes.index(label)\n",
    "\tg.ax_col_dendrogram.bar(0, 0, color=palette[i],\n",
    "\t\t\t\t\t\t\tlabel=label,\n",
    "\t\t\t\t\t\t\tlinewidth=0)\n",
    "\n",
    "g.ax_col_dendrogram.legend(title=\"\", fontsize=sfontsize, ncol=2, bbox_to_anchor=(0.5,1.17), loc=\"upper center\", bbox_transform=plt.gcf().transFigure)\t\n",
    "\n",
    "g.cax.set_visible(False)\n",
    "cbar_ax = g.fig.add_axes([-0.1, 0.3, 0.05, 0.2])\n",
    "cbar = plt.colorbar(g.ax_heatmap.collections[0], cax=cbar_ax)\n",
    "cbar.ax.text(-0.9, 0.5, \"Z-score\", rotation=90,\n",
    "\t\t\t fontsize=sfontsize, ha='center', va='center', transform=cbar.ax.transAxes)\n",
    "cbar.set_ticks(vlims)\n",
    "cbar.set_ticklabels([str(v) for v in vlims])\n",
    "cbar.ax.tick_params(labelsize=sfontsize) \n",
    "\n",
    "plt.savefig(f\"{PROJECT_DIR_o}figures/ExtDataFig10b.png\", bbox_inches=\"tight\", dpi=300, transparent=True)"
   ]
  },
  {
   "cell_type": "markdown",
   "id": "3f2a3e25-c84e-4417-a0e3-5d9274df5613",
   "metadata": {},
   "source": [
    "# Motif enrichment"
   ]
  },
  {
   "cell_type": "code",
   "execution_count": 18,
   "id": "82c444c2-7bb0-4be1-a356-e133ae65f4f4",
   "metadata": {
    "execution": {
     "iopub.execute_input": "2025-09-11T15:34:05.010787Z",
     "iopub.status.busy": "2025-09-11T15:34:05.010450Z",
     "iopub.status.idle": "2025-09-11T15:34:05.067967Z",
     "shell.execute_reply": "2025-09-11T15:34:05.067498Z",
     "shell.execute_reply.started": "2025-09-11T15:34:05.010755Z"
    }
   },
   "outputs": [],
   "source": [
    "# Use all divergent distal elements found in these samples as background\n",
    "\n",
    "outputfile = f\"{PROJECT_DIR_o}homer/CRC/bg.bed\"\n",
    "utils.generate_homer_input([e for e in es[(p,d)]], outputfile)"
   ]
  },
  {
   "cell_type": "code",
   "execution_count": 124,
   "id": "846bf0ab-b19b-4a01-915c-a42588e25612",
   "metadata": {
    "execution": {
     "iopub.execute_input": "2025-09-12T14:25:41.255651Z",
     "iopub.status.busy": "2025-09-12T14:25:41.255318Z",
     "iopub.status.idle": "2025-09-12T14:25:41.315861Z",
     "shell.execute_reply": "2025-09-12T14:25:41.315394Z",
     "shell.execute_reply.started": "2025-09-12T14:25:41.255630Z"
    },
    "scrolled": true
   },
   "outputs": [],
   "source": [
    "for k in ks:\n",
    "\toutputfile = f\"{PROJECT_DIR_o}homer/CRC/{k}.bed\"\n",
    "\tes = list(res[res[\"Label\"]==k].index)\n",
    "\tutils.generate_homer_input(es, outputfile)"
   ]
  },
  {
   "cell_type": "code",
   "execution_count": 23,
   "id": "9e293c56-19c2-4ab7-a199-de5c750ca840",
   "metadata": {
    "execution": {
     "iopub.execute_input": "2025-09-11T15:37:24.264039Z",
     "iopub.status.busy": "2025-09-11T15:37:24.263718Z",
     "iopub.status.idle": "2025-09-11T15:37:24.268405Z",
     "shell.execute_reply": "2025-09-11T15:37:24.267894Z",
     "shell.execute_reply.started": "2025-09-11T15:37:24.264019Z"
    },
    "scrolled": true
   },
   "outputs": [],
   "source": [
    "pwpool = ProcessWrapPool(len(ks))\n",
    "\n",
    "homer_dir = f\"{PROJECT_DIR_s}homer/\"\n",
    "bg = f\"{PROJECT_DIR_o}homer/CRC/bg.bed\"\n",
    "for k in ks:\n",
    "\ttarget = f\"{PROJECT_DIR_o}homer/CRC/{k}.bed\"\n",
    "\toutdir = f\"{PROJECT_DIR_o}homer/CRC/{k}\"\n",
    "\tpwpool.run(utils.run_homer, args=[homer_dir, target, bg, outdir])"
   ]
  },
  {
   "cell_type": "code",
   "execution_count": 44,
   "id": "d2b462cb-8781-4689-9492-631d0d93e23c",
   "metadata": {
    "execution": {
     "iopub.execute_input": "2025-09-11T17:15:50.107180Z",
     "iopub.status.busy": "2025-09-11T17:15:50.106780Z",
     "iopub.status.idle": "2025-09-11T17:15:50.111100Z",
     "shell.execute_reply": "2025-09-11T17:15:50.110663Z",
     "shell.execute_reply.started": "2025-09-11T17:15:50.107157Z"
    },
    "scrolled": true
   },
   "outputs": [
    {
     "data": {
      "text/plain": [
       "2"
      ]
     },
     "execution_count": 44,
     "metadata": {},
     "output_type": "execute_result"
    }
   ],
   "source": [
    "len(pwpool.finished_tasks)"
   ]
  },
  {
   "cell_type": "code",
   "execution_count": 45,
   "id": "5282cdc8-f58c-48ad-8406-8ea59cbddb4f",
   "metadata": {
    "execution": {
     "iopub.execute_input": "2025-09-11T17:15:51.875668Z",
     "iopub.status.busy": "2025-09-11T17:15:51.875335Z",
     "iopub.status.idle": "2025-09-11T17:15:51.878273Z",
     "shell.execute_reply": "2025-09-11T17:15:51.877791Z",
     "shell.execute_reply.started": "2025-09-11T17:15:51.875648Z"
    }
   },
   "outputs": [],
   "source": [
    "pwpool.close()"
   ]
  },
  {
   "cell_type": "code",
   "execution_count": 21,
   "id": "9a91ba37-8ccb-4b1f-a51f-c055224635de",
   "metadata": {
    "execution": {
     "iopub.execute_input": "2025-09-20T04:55:19.432545Z",
     "iopub.status.busy": "2025-09-20T04:55:19.432114Z",
     "iopub.status.idle": "2025-09-20T04:55:24.981110Z",
     "shell.execute_reply": "2025-09-20T04:55:24.980456Z",
     "shell.execute_reply.started": "2025-09-20T04:55:19.432515Z"
    },
    "scrolled": true
   },
   "outputs": [
    {
     "data": {
      "image/png": "[encoded data removed]",
      "text/plain": [
       "<Figure size 300x380 with 2 Axes>"
      ]
     },
     "metadata": {},
     "output_type": "display_data"
    }
   ],
   "source": [
    "fig, ax = plt.subplots(2, 1, figsize=(3,3.8))\n",
    "\n",
    "alpha = 0.5\n",
    "s = 20\n",
    "\n",
    "for k in ks[::-1]:\n",
    "\trow = ks[::-1].index(k)\n",
    "\t# will change the folder name later\n",
    "\tinputfile = f\"{PROJECT_DIR_o}homer/CRC/{k}/knownResults.txt\"\n",
    "\tdf = pd.read_table(inputfile)\n",
    "\tdf[\"-logp\"] = -df[\"Log P-value\"]\n",
    "\tdf[\"percent\"] = df[\"% of Target Sequences with Motif\"].str.replace('%', '', regex=False).astype(float)\n",
    "\n",
    "\t# all\n",
    "\tg = sns.scatterplot(data=df, x=\"percent\", y=\"-logp\", c=\"#d9d9d9\", alpha=alpha, s=s, ax=ax[row])\n",
    "\tg.spines[[\"top\", \"right\"]].set_visible(False)\n",
    "\n",
    "\t# significant ones\n",
    "\tdf_sig = df[df[\"q-value (Benjamini)\"]<0.05]\n",
    "\tsns.scatterplot(data=df_sig, x=\"percent\", y=\"-logp\", c=\"#525252\", alpha=alpha, s=s, ax=ax[row])\n",
    "\n",
    "\t# Highlight a few motifs\n",
    "\tcolor = \"#bc80bd\" if k == \"Up\" else \"#fb8072\"\n",
    "\tkeep = [\"ETS1(ETS)/Jurkat-ETS1-ChIP-Seq(GSE17954)/Homer\", \n",
    "\t\t\t\"RUNX1(Runt)/Jurkat-RUNX1-ChIP-Seq(GSE29180)/Homer\",\n",
    "\t\t\t\"ETS:RUNX(ETS,Runt)/Jurkat-RUNX1-ChIP-Seq(GSE17954)/Homer\",\n",
    "\t\t\t\"HNF4a(NR),DR1/HepG2-HNF4a-ChIP-Seq(GSE25021)/Homer\",\n",
    "\t\t\t\"PPARE(NR),DR1/3T3L1-Pparg-ChIP-Seq(GSE13511)/Homer\",\n",
    "\t\t   ]\n",
    "\tdf_highlight = df[df[\"Motif Name\"].isin(keep)].copy()\n",
    "\tsns.scatterplot(data=df_highlight, x=\"percent\", y=\"-logp\", c=color, s=30, ax=ax[row])\n",
    "\t\n",
    "\tdf_highlight[\"Motif Name\"] = df_highlight[\"Motif Name\"].apply(lambda x: x.split('(')[0]).str.upper()\n",
    "\ttexts = []\n",
    "\tcs = []\n",
    "\tfor _, drow in df_highlight.iterrows():\n",
    "\t\tmotif = drow[\"Motif Name\"] if drow[\"Motif Name\"] != \"PPARE\" else \"PPARγ\"\n",
    "\t\ttexts.append((drow[\"percent\"], drow[\"-logp\"], motif))\n",
    "\t\tif drow[\"q-value (Benjamini)\"] < 0.05:\n",
    "\t\t\tcs.append(color)\n",
    "\t\telse:\n",
    "\t\t\tcs.append(\"#737373\")\t\t\n",
    "\ttexts = [ax[row].text(texts[idx][0], texts[idx][1], texts[idx][2], ha='center', va='center', c=cs[idx], fontsize=sfontsize) for idx in range(len(texts))]\n",
    "\tadjust_text(texts, arrowprops=dict(arrowstyle='-', color=color, lw=0.8), ax=ax[row])\n",
    "\t\n",
    "\tif row == 1:\n",
    "\t\tg.set_xlabel(\"Up-TREs with motifs (%)\", fontsize=bfontsize)\n",
    "\telse:\n",
    "\t\tg.set_xlabel(\"\")\n",
    "\tg.set_xlim([-5,85])\n",
    "\t\n",
    "\tg.set_ylabel(\"-log(P-value)\", fontsize=bfontsize)\n",
    "\tif row == 0:\n",
    "\t\tg.set_ylim([-2,24])\n",
    "\t\tg.set_yticks([0,10,20])\n",
    "\n",
    "\tg.tick_params(labelsize=sfontsize)\n",
    "\n",
    "\ttitle = \"Large intestine → Lung\" if k == \"Down\" else \"Large intestine → Brain\"\n",
    "\tg.set_title(title, fontsize=bfontsize)\n",
    "\n",
    "plt.subplots_adjust(hspace=0.4)\n",
    "plt.savefig(f\"{PROJECT_DIR_o}figures/Fig6e.pdf\", bbox_inches=\"tight\", transparent=True)"
   ]
  },
  {
   "cell_type": "code",
   "execution_count": 133,
   "id": "bcd7f109-75ab-4498-9b7c-99f4abcd9635",
   "metadata": {
    "execution": {
     "iopub.execute_input": "2025-09-12T14:37:01.302789Z",
     "iopub.status.busy": "2025-09-12T14:37:01.302468Z",
     "iopub.status.idle": "2025-09-12T14:37:01.484109Z",
     "shell.execute_reply": "2025-09-12T14:37:01.483611Z",
     "shell.execute_reply.started": "2025-09-12T14:37:01.302769Z"
    },
    "scrolled": true
   },
   "outputs": [],
   "source": [
    "# Write the content of all motifs in \"knownResults.html\"\n",
    "\n",
    "outputfile = f\"{PROJECT_DIR_o}tables/SuppTable3.xlsx\"\n",
    "book = load_workbook(outputfile)\n",
    "with pd.ExcelWriter(outputfile, engine='openpyxl', mode='a', if_sheet_exists='replace') as f:\n",
    "\tfor k in ks:\n",
    "\t\thtml = f\"{PROJECT_DIR_o}homer/CRC/{k}/knownResults.html\"\n",
    "\t\tdf = pd.read_html(html, header=0)[0]\n",
    "\t\tcolumns_keep = [c for c in df.columns if c not in [\"Motif\", \"Motif File\", \"SVG\"]]\n",
    "\t\tdf = df[columns_keep]\n",
    "\t\tdf = df[~df[\"Rank\"].astype(str).str.contains(r\"\\*\", na=False)]\n",
    "\t\tk2 = \"Lung\" if k == \"Down\" else \"Brain\"\n",
    "\t\tdf.to_excel(f, sheet_name=f\"CRC Met-{k2}\", index=False)"
   ]
  },
  {
   "cell_type": "markdown",
   "id": "9d29c029-22aa-4ae6-bdc8-c846657a1182",
   "metadata": {},
   "source": [
    "# Browser shots"
   ]
  },
  {
   "cell_type": "code",
   "execution_count": 38,
   "id": "14455771-ff4f-491e-ad46-e63fcdbc0d98",
   "metadata": {
    "execution": {
     "iopub.execute_input": "2025-09-20T05:01:12.959365Z",
     "iopub.status.busy": "2025-09-20T05:01:12.958733Z",
     "iopub.status.idle": "2025-09-20T05:01:29.585605Z",
     "shell.execute_reply": "2025-09-20T05:01:29.584649Z",
     "shell.execute_reply.started": "2025-09-20T05:01:12.959321Z"
    }
   },
   "outputs": [],
   "source": [
    "gtf_file = f\"{PROJECT_DIR_r}genomes/human/gencode.v37.annotation.gtf.gz\"\n",
    "gtf = pd.read_csv(\n",
    "\t    gtf_file,\n",
    "\t    sep=\"\\t\",\n",
    "\t    comment=\"#\",\n",
    "\t    header=None,\n",
    "\t    names=[\"chrom\", \"source\", \"feature\", \"start\", \"end\", \"score\", \"strand\", \"frame\", \"attribute\"]\n",
    "\t)"
   ]
  },
  {
   "cell_type": "code",
   "execution_count": 48,
   "id": "091611d7-58ac-4ef5-875d-4a78540a2c54",
   "metadata": {
    "execution": {
     "iopub.execute_input": "2025-09-20T05:12:35.005483Z",
     "iopub.status.busy": "2025-09-20T05:12:35.004995Z",
     "iopub.status.idle": "2025-09-20T05:13:05.218020Z",
     "shell.execute_reply": "2025-09-20T05:13:05.217041Z",
     "shell.execute_reply.started": "2025-09-20T05:12:35.005449Z"
    }
   },
   "outputs": [],
   "source": [
    "cdict2 = {}\n",
    "for t in subtypes:\n",
    "\tcdict2[t] = palette[subtypes.index(t)]"
   ]
  },
  {
   "cell_type": "code",
   "execution_count": 46,
   "id": "965f32a4-ed79-4cfd-a0fe-86d7f94c5b69",
   "metadata": {
    "execution": {
     "iopub.execute_input": "2025-09-20T05:12:02.916653Z",
     "iopub.status.busy": "2025-09-20T05:12:02.916133Z",
     "iopub.status.idle": "2025-09-20T05:12:02.921420Z",
     "shell.execute_reply": "2025-09-20T05:12:02.920593Z",
     "shell.execute_reply.started": "2025-09-20T05:12:02.916626Z"
    }
   },
   "outputs": [],
   "source": [
    "# Select the suitable transcripts\n",
    "\n",
    "regions = {\n",
    "\t\t   \"ETS1\": (\"ENST00000319397.6\", \"chr11_128522200_128522700\"),\n",
    "\t\t   \"HNF4A\": (\"ENST00000316099.9\", \"chr20_44400925_44401442\")\n",
    "\t\t  }"
   ]
  },
  {
   "cell_type": "code",
   "execution_count": 27,
   "id": "7ca71576-3732-4954-ad09-547626c5eb5b",
   "metadata": {
    "execution": {
     "iopub.execute_input": "2025-09-20T04:56:00.199503Z",
     "iopub.status.busy": "2025-09-20T04:56:00.199037Z",
     "iopub.status.idle": "2025-09-20T04:56:00.203394Z",
     "shell.execute_reply": "2025-09-20T04:56:00.202743Z",
     "shell.execute_reply.started": "2025-09-20T04:56:00.199474Z"
    }
   },
   "outputs": [],
   "source": [
    "rpm_bws = {}\n",
    "for s in mn_samples:\n",
    "\trpm_bws[s] = [f\"{PROJECT_DIR_o2}rpm/{s}_{k}_rpm.bw\" for k in [\"pl\", \"mn\"]]"
   ]
  },
  {
   "cell_type": "code",
   "execution_count": 25,
   "id": "cf8f9187-7f40-4bef-bfec-2d00d10ea72f",
   "metadata": {
    "execution": {
     "iopub.execute_input": "2025-09-20T04:55:47.819652Z",
     "iopub.status.busy": "2025-09-20T04:55:47.819195Z",
     "iopub.status.idle": "2025-09-20T04:55:47.823734Z",
     "shell.execute_reply": "2025-09-20T04:55:47.822788Z",
     "shell.execute_reply.started": "2025-09-20T04:55:47.819621Z"
    }
   },
   "outputs": [],
   "source": [
    "samples_dict = {}\n",
    "for s in mn_samples:\n",
    "\tsamples_dict[s] = [s]"
   ]
  },
  {
   "cell_type": "code",
   "execution_count": 49,
   "id": "d5799faf-fc4b-43ab-89a6-06bfd2cc6e13",
   "metadata": {
    "execution": {
     "iopub.execute_input": "2025-09-20T05:13:26.029267Z",
     "iopub.status.busy": "2025-09-20T05:13:26.028729Z",
     "iopub.status.idle": "2025-09-20T05:13:26.109987Z",
     "shell.execute_reply": "2025-09-20T05:13:26.109044Z",
     "shell.execute_reply.started": "2025-09-20T05:13:26.029236Z"
    }
   },
   "outputs": [],
   "source": [
    "df_rpm = {}\n",
    "for gene in regions:\n",
    "\tdf_rpm[gene] = utils.get_reads(regions[gene][1], rpm_bws, samples_dict)"
   ]
  },
  {
   "cell_type": "code",
   "execution_count": 29,
   "id": "37bac4f7-b3d5-4d18-8cd9-12060b657e11",
   "metadata": {
    "execution": {
     "iopub.execute_input": "2025-09-20T04:56:22.283325Z",
     "iopub.status.busy": "2025-09-20T04:56:22.282947Z",
     "iopub.status.idle": "2025-09-20T04:56:22.286787Z",
     "shell.execute_reply": "2025-09-20T04:56:22.286133Z",
     "shell.execute_reply.started": "2025-09-20T04:56:22.283297Z"
    }
   },
   "outputs": [],
   "source": [
    "strands = [\"fwd\", \"rev\"]\n",
    "strand_colors = [\"red\", \"blue\"]"
   ]
  },
  {
   "cell_type": "code",
   "execution_count": 50,
   "id": "a492376c-fd7c-4eaf-a64d-d387e32c84f8",
   "metadata": {
    "execution": {
     "iopub.execute_input": "2025-09-20T05:13:39.033511Z",
     "iopub.status.busy": "2025-09-20T05:13:39.032996Z",
     "iopub.status.idle": "2025-09-20T05:14:45.822742Z",
     "shell.execute_reply": "2025-09-20T05:14:45.821669Z",
     "shell.execute_reply.started": "2025-09-20T05:13:39.033478Z"
    },
    "scrolled": true
   },
   "outputs": [
    {
     "data": {
      "image/png": "[encoded data removed]",
      "text/plain": [
       "<Figure size 400x850 with 34 Axes>"
      ]
     },
     "metadata": {},
     "output_type": "display_data"
    }
   ],
   "source": [
    "ylims = {\"ETS1\": [-130,50],\n",
    "\t\t \"HNF4A\": [-10,120]\n",
    "\t\t}\n",
    "\n",
    "fig, axes = plt.subplots(len(samples_dict)+1, 2, figsize=(4,8.5), gridspec_kw={\"wspace\": 0.3, \"hspace\": 0.2})\n",
    "for gene in regions:\n",
    "\tcol = list(regions).index(gene)\n",
    "\n",
    "\t# Gene position\n",
    "\taxes[0,col].axis(\"off\")\n",
    "\tchrom, start, end = regions[gene][1].split(\"_\")\n",
    "\tstart, end = int(start)+100, int(end)-100\n",
    "\tcolor = \"#fb8072\" if gene == \"ETS1\" else \"#bc80bd\"\n",
    "\tutils.gene_representation(gene, regions[gene][0], gtf, axes[0,col], start, end, bfontsize, color)\n",
    "\t\n",
    "\tfor s in samples_dict:\n",
    "\t\trow = list(samples_dict).index(s)+1\n",
    "\t\tax = axes[row, col]\n",
    "\t\tfor k in strands:\n",
    "\t\t\tdf = df_rpm[gene][(df_rpm[gene][\"type\"]==s) & (df_rpm[gene][\"orientation\"]==k)]\n",
    "\t\t\tax.bar(list(df[\"position\"]), list(df[\"rpm\"]), color=strand_colors[strands.index(k)], align='center', width=5)\n",
    "\n",
    "\t\tax.ticklabel_format(useOffset=False, style='plain')\n",
    "\t\tax.set_xticks([start, end])\t\t\n",
    "\t\tif row == len(samples_dict):\n",
    "\t\t\tax.set_xlabel(chrom, fontsize=bfontsize)\n",
    "\t\t\tax.set_xticklabels([start+1, end+1], fontsize=sfontsize)\n",
    "\t\telse:\n",
    "\t\t\tax.set_xticklabels([])\n",
    "\n",
    "\t\tcolor = \"#fb8072\" if gene == \"ETS1\" else \"#bc80bd\"\n",
    "\t\tif row == 0:\n",
    "\t\t\tax.set_title(gene, fontsize=bfontsize, c=color)\n",
    "\t\t\t\n",
    "\t\tif col == 0:\n",
    "\t\t\tif s in groups[\"metastatic_cancer\"]:\n",
    "\t\t\t\tsubtype = f\"Large intestine → {labels[s][1]}\"\n",
    "\t\t\telse:\n",
    "\t\t\t\tsubtype = labels[s][1]\n",
    "\t\t\tax.set_ylabel(s, rotation=0, ha='right', va=\"center\",\n",
    "\t\t\t\t\t  fontsize=bfontsize, c=cdict2[subtype])\n",
    "\t\t\tax.tick_params(axis=\"y\", labelsize=sfontsize)\n",
    "\t\t\tax.yaxis.set_label_coords(-0.4, 0.5)\n",
    "\t\telse:\n",
    "\t\t\tax.set_ylabel(\"\")\n",
    "\t\n",
    "\t\tif ylims[gene]:\n",
    "\t\t\tax.set_ylim(ylims[gene])\n",
    "\t\t\t\n",
    "plt.savefig(f\"{PROJECT_DIR_o}figures/ExtDataFig10c.png\", bbox_inches='tight', dpi=300)"
   ]
  },
  {
   "cell_type": "markdown",
   "id": "f3e28542-9bfa-4be6-bed1-f8a29bbba3fb",
   "metadata": {},
   "source": [
    "# Functional enrichment of gene sets"
   ]
  },
  {
   "cell_type": "markdown",
   "id": "7a60562c-d476-4dc3-9ed2-3cb0032987f7",
   "metadata": {},
   "source": [
    "## Get target genes"
   ]
  },
  {
   "cell_type": "code",
   "execution_count": 52,
   "id": "0e6594cb-921d-46e5-9ccc-3f05153ab189",
   "metadata": {
    "execution": {
     "iopub.execute_input": "2025-09-20T05:19:21.287333Z",
     "iopub.status.busy": "2025-09-20T05:19:21.286851Z",
     "iopub.status.idle": "2025-09-20T05:19:23.652466Z",
     "shell.execute_reply": "2025-09-20T05:19:23.651556Z",
     "shell.execute_reply.started": "2025-09-20T05:19:21.287304Z"
    }
   },
   "outputs": [],
   "source": [
    "# Expressed genes: genes with proximal elements (at least in one sample within the same group) as a proxy\n",
    "\n",
    "d = \"proximal\"\n",
    "for k in ks:\n",
    "\tsamples2 = [s for s in m_samples if labels[s][1]==\"Brain\"] if k == \"Up\" else [s for s in m_samples if labels[s][1]==\"Lung\"]\n",
    "\tes = set()\n",
    "\tfor p in ps:\n",
    "\t\tdf = pd.read_table(f\"{PROJECT_DIR_d}PROcap/processed/binary_{p}_{d}.txt\", index_col=0)\n",
    "\t\tes |= set(df[df[samples2].sum(axis=1) >= 1].index)\n",
    "\toutputfile = f\"{PROJECT_DIR_o}DE/CRC/{k}_{d}.bed\"\n",
    "\twith DelimitedWriter(outputfile) as dw:\n",
    "\t\tfor e in es:\n",
    "\t\t\tdw.write(e.split(\"_\"))"
   ]
  },
  {
   "cell_type": "code",
   "execution_count": 55,
   "id": "a4717c59-6bf2-4925-92ef-5d4b76ae8180",
   "metadata": {
    "execution": {
     "iopub.execute_input": "2025-09-20T05:20:16.109134Z",
     "iopub.status.busy": "2025-09-20T05:20:16.108642Z",
     "iopub.status.idle": "2025-09-20T05:20:16.930921Z",
     "shell.execute_reply": "2025-09-20T05:20:16.930006Z",
     "shell.execute_reply.started": "2025-09-20T05:20:16.109105Z"
    }
   },
   "outputs": [],
   "source": [
    "# Assign proximal elements to genes\n",
    "\n",
    "expressed_genes = defaultdict(set)\n",
    "b1 = pybedtools.BedTool(f\"{PROJECT_DIR_s2}ABC-Enhancer-Gene-Prediction/reference/hg38/CollapsedGeneBounds.hg38.TSS500bp.bed\")\n",
    "for k in ks:\n",
    "\tb2 = pybedtools.BedTool(f\"{PROJECT_DIR_o}DE/CRC/{k}_{d}.bed\").sort()\n",
    "\toverlap = b2.intersect(b1, wao=True)\n",
    "\t# Keep the record with the largest overlap\n",
    "\tmapping = {}\n",
    "\tfor i in overlap:\n",
    "\t\tif int(i.fields[-1]) > 0:\n",
    "\t\t\te = (\"_\".join(i.fields[:3]))\n",
    "\t\t\tif e not in mapping:\n",
    "\t\t\t\t# gene, overlap length\n",
    "\t\t\t\tmapping[e] = (i.fields[6], int(i.fields[-1]))\n",
    "\t\t\telif int(i.fields[-1]) > mapping[e][1]:\n",
    "\t\t\t\tmapping[e] = (i.fields[6], int(i.fields[-1]))\n",
    "\texpressed_genes[k] = set([mapping[e][0] for e in mapping])"
   ]
  },
  {
   "cell_type": "code",
   "execution_count": 57,
   "id": "801a3845-efa9-418e-8da7-3bfe4c7f5998",
   "metadata": {
    "execution": {
     "iopub.execute_input": "2025-09-20T05:20:24.088636Z",
     "iopub.status.busy": "2025-09-20T05:20:24.088106Z",
     "iopub.status.idle": "2025-09-20T05:20:24.309056Z",
     "shell.execute_reply": "2025-09-20T05:20:24.308148Z",
     "shell.execute_reply.started": "2025-09-20T05:20:24.088605Z"
    }
   },
   "outputs": [
    {
     "name": "stdout",
     "output_type": "stream",
     "text": [
      "Up 10726\n",
      "Down 11962\n"
     ]
    }
   ],
   "source": [
    "# Get genomic coordinates of expressed genes\n",
    "\n",
    "df = pd.read_table(f\"{PROJECT_DIR_s2}ABC-Enhancer-Gene-Prediction/reference/hg38/CollapsedGeneBounds.hg38.TSS500bp.bed\", header=None)\n",
    "bg_genes = defaultdict(set)\n",
    "for k in ks:\n",
    "\tbg_genes[k] = [g for g in df[3] if g in expressed_genes[k]]\n",
    "\tdf2 = df[df[3].isin(bg_genes[k])]\n",
    "\toutputfile = f\"{PROJECT_DIR_o}DE/CRC/expressed_genes_{k}.bed\"\n",
    "\tdf2.to_csv(outputfile, header=None, index=False, sep=\"\\t\")\n",
    "\tprint(k, len(bg_genes[k]))"
   ]
  },
  {
   "cell_type": "code",
   "execution_count": 58,
   "id": "8e181329-27c2-42b4-b839-151cb6b3c348",
   "metadata": {
    "execution": {
     "iopub.execute_input": "2025-09-20T05:20:29.486415Z",
     "iopub.status.busy": "2025-09-20T05:20:29.485945Z",
     "iopub.status.idle": "2025-09-20T05:20:29.944048Z",
     "shell.execute_reply": "2025-09-20T05:20:29.943137Z",
     "shell.execute_reply.started": "2025-09-20T05:20:29.486388Z"
    }
   },
   "outputs": [],
   "source": [
    "# Assign elements to the closest expressed genes\n",
    "\n",
    "b1 = pybedtools.BedTool(f\"{PROJECT_DIR_o}DE/CRC/elements.bed\").sort()\n",
    "for k in ks:\n",
    "\tb2 = pybedtools.BedTool(f\"{PROJECT_DIR_o}DE/CRC/expressed_genes_{k}.bed\").sort()\n",
    "\tclosest = b1.closest(b2)\n",
    "\tclosest.saveas(f\"{PROJECT_DIR_o}DE/CRC/closest_genes_{k}.bed\")"
   ]
  },
  {
   "cell_type": "code",
   "execution_count": 59,
   "id": "b39b528f-3bde-4ab6-b665-1a47928c029a",
   "metadata": {
    "execution": {
     "iopub.execute_input": "2025-09-20T05:20:30.294538Z",
     "iopub.status.busy": "2025-09-20T05:20:30.294073Z",
     "iopub.status.idle": "2025-09-20T05:21:10.301881Z",
     "shell.execute_reply": "2025-09-20T05:21:10.300903Z",
     "shell.execute_reply.started": "2025-09-20T05:20:30.294507Z"
    },
    "scrolled": true
   },
   "outputs": [],
   "source": [
    "e2g_closest = defaultdict(dict)\n",
    "for k in ks:\n",
    "\tdf = pd.read_table(f\"{PROJECT_DIR_o}DE/CRC/closest_genes_{k}.bed\", header=None)\n",
    "\tfor _, row in df.iterrows():\n",
    "\t\te = \"_\".join([row[0], str(row[1]), str(row[2])])\n",
    "\t\tgene = row[6]\n",
    "\t\te2g_closest[k][e] = gene"
   ]
  },
  {
   "cell_type": "markdown",
   "id": "f6aa812a-c9c0-4232-920a-7abf8fd925e1",
   "metadata": {},
   "source": [
    "## Pathway enrichment"
   ]
  },
  {
   "cell_type": "code",
   "execution_count": 60,
   "id": "f5172bbe-5dc5-4201-9b1b-391a6c9b9920",
   "metadata": {
    "execution": {
     "iopub.execute_input": "2025-09-20T05:21:10.303513Z",
     "iopub.status.busy": "2025-09-20T05:21:10.303231Z",
     "iopub.status.idle": "2025-09-20T05:21:10.320308Z",
     "shell.execute_reply": "2025-09-20T05:21:10.319493Z",
     "shell.execute_reply.started": "2025-09-20T05:21:10.303488Z"
    }
   },
   "outputs": [
    {
     "name": "stdout",
     "output_type": "stream",
     "text": [
      "Up 483\n",
      "Down 422\n"
     ]
    }
   ],
   "source": [
    "# Closest genes for DE elements\n",
    "\n",
    "genes = defaultdict(set)\n",
    "for k in ks:\n",
    "\tes = list(res[res[\"Label\"]==k].index)\n",
    "\tfor e in es:\n",
    "\t\tgenes[k].add(e2g_closest[k][e])\n",
    "\tprint(k, len(genes[k]))"
   ]
  },
  {
   "cell_type": "code",
   "execution_count": 63,
   "id": "3751c958-72e4-43ac-954c-6c92d2785459",
   "metadata": {
    "execution": {
     "iopub.execute_input": "2025-09-20T05:24:11.090185Z",
     "iopub.status.busy": "2025-09-20T05:24:11.089580Z",
     "iopub.status.idle": "2025-09-20T05:24:21.258185Z",
     "shell.execute_reply": "2025-09-20T05:24:21.257173Z",
     "shell.execute_reply.started": "2025-09-20T05:24:11.090137Z"
    },
    "scrolled": true
   },
   "outputs": [
    {
     "name": "stderr",
     "output_type": "stream",
     "text": [
      "2025-09-20 01:24:18,501 [INFO] User defined gene sets is given: /fs/cbsuhy02/storage/yc2553/yc2553/databases/GSEA/c5.go.bp.v2024.1.Hs.symbols.gmt\n",
      "2025-09-20 01:24:18,628 [INFO] Run: c5.go.bp.v2024.1.Hs.symbols.gmt \n",
      "2025-09-20 01:24:18,630 [INFO] ['EMILIN2', 'CANT1', 'SDC1', 'PLXNB2']\n",
      "2025-09-20 01:24:18,631 [INFO] ['ANKRD36', 'CDKN3', 'KIAA1683', 'PLCD3']\n",
      "2025-09-20 01:24:19,871 [INFO] Done.\n",
      "2025-09-20 01:24:19,902 [INFO] User defined gene sets is given: /fs/cbsuhy02/storage/yc2553/yc2553/databases/GSEA/c5.go.bp.v2024.1.Hs.symbols.gmt\n",
      "2025-09-20 01:24:19,982 [INFO] Run: c5.go.bp.v2024.1.Hs.symbols.gmt \n",
      "2025-09-20 01:24:19,985 [INFO] ['SQSTM1', 'PITPNA', 'ZSWIM6', 'OPA1']\n",
      "2025-09-20 01:24:19,986 [INFO] ['HIST1H3H', 'ANKRD36', 'CDKN3', 'BEX2']\n",
      "2025-09-20 01:24:21,227 [INFO] Done.\n"
     ]
    }
   ],
   "source": [
    "gmt = f\"{PROJECT_DIR_d2}GSEA/c5.go.bp.v2024.1.Hs.symbols.gmt\"\n",
    "df_merge = utils.run_enrichr(ks, gmt, genes, bg_genes)"
   ]
  },
  {
   "cell_type": "code",
   "execution_count": 71,
   "id": "1165d4d3-51ca-4c35-90a3-585a7a124142",
   "metadata": {
    "execution": {
     "iopub.execute_input": "2025-09-20T05:32:02.431652Z",
     "iopub.status.busy": "2025-09-20T05:32:02.430886Z",
     "iopub.status.idle": "2025-09-20T05:32:02.445867Z",
     "shell.execute_reply": "2025-09-20T05:32:02.444651Z",
     "shell.execute_reply.started": "2025-09-20T05:32:02.431601Z"
    }
   },
   "outputs": [
    {
     "data": {
      "text/plain": [
       "['GOBP_REGULATION_OF_LYMPHOCYTE_ACTIVATION',\n",
       " 'GOBP_T_CELL_ACTIVATION',\n",
       " 'GOBP_T_CELL_DIFFERENTIATION',\n",
       " 'GOBP_REGULATION_OF_CELL_ACTIVATION',\n",
       " 'GOBP_POSITIVE_REGULATION_OF_CELL_ADHESION',\n",
       " 'GOBP_REGULATION_OF_CELL_ADHESION',\n",
       " 'GOBP_POSITIVE_REGULATION_OF_CELL_CELL_ADHESION',\n",
       " 'GOBP_LYMPHOCYTE_ACTIVATION',\n",
       " 'GOBP_REGULATION_OF_CELL_CELL_ADHESION',\n",
       " 'GOBP_CELL_ACTIVATION',\n",
       " 'GOBP_HEMOPOIESIS',\n",
       " 'GOBP_CELL_ADHESION',\n",
       " 'GOBP_REGULATION_OF_T_CELL_ACTIVATION',\n",
       " 'GOBP_LYMPHOCYTE_DIFFERENTIATION',\n",
       " 'GOBP_LEUKOCYTE_CELL_CELL_ADHESION']"
      ]
     },
     "execution_count": 71,
     "metadata": {},
     "output_type": "execute_result"
    }
   ],
   "source": [
    "# Lung\n",
    "\n",
    "list(df_merge[df_merge[\"Group\"]==\"Down\"].sort_values(by=\"-log10(padj)\", ascending=False)[\"Term\"])[:15]"
   ]
  },
  {
   "cell_type": "code",
   "execution_count": 70,
   "id": "f3863d9c-65bd-4b20-b40c-7c21abe47adf",
   "metadata": {
    "execution": {
     "iopub.execute_input": "2025-09-20T05:31:23.100447Z",
     "iopub.status.busy": "2025-09-20T05:31:23.099619Z",
     "iopub.status.idle": "2025-09-20T05:31:23.114321Z",
     "shell.execute_reply": "2025-09-20T05:31:23.113288Z",
     "shell.execute_reply.started": "2025-09-20T05:31:23.100396Z"
    }
   },
   "outputs": [
    {
     "data": {
      "text/plain": [
       "['GOBP_INTRACELLULAR_SIGNALING_CASSETTE',\n",
       " 'GOBP_CELL_MOTILITY',\n",
       " 'GOBP_IMPORT_INTO_CELL',\n",
       " 'GOBP_AMEBOIDAL_TYPE_CELL_MIGRATION',\n",
       " 'GOBP_RESPONSE_TO_WOUNDING',\n",
       " 'GOBP_LOCOMOTION',\n",
       " 'GOBP_REGULATION_OF_LOCOMOTION',\n",
       " 'GOBP_WOUND_HEALING',\n",
       " 'GOBP_ACTOMYOSIN_STRUCTURE_ORGANIZATION',\n",
       " 'GOBP_POSITIVE_REGULATION_OF_RESPONSE_TO_WOUNDING',\n",
       " 'GOBP_REGULATION_OF_CELL_POPULATION_PROLIFERATION',\n",
       " 'GOBP_NEUROGENESIS',\n",
       " 'GOBP_RESPONSE_TO_ZINC_ION_STARVATION',\n",
       " 'GOBP_MAPK_CASCADE',\n",
       " 'GOBP_MUSCLE_CELL_PROLIFERATION']"
      ]
     },
     "execution_count": 70,
     "metadata": {},
     "output_type": "execute_result"
    }
   ],
   "source": [
    "# Brain\n",
    "\n",
    "list(df_merge[df_merge[\"Group\"]==\"Up\"].sort_values(by=\"-log10(padj)\", ascending=False)[\"Term\"])[:15]"
   ]
  },
  {
   "cell_type": "code",
   "execution_count": 72,
   "id": "de31c6bf-4db8-4891-aede-75aa244d5064",
   "metadata": {
    "execution": {
     "iopub.execute_input": "2025-09-20T05:33:52.274667Z",
     "iopub.status.busy": "2025-09-20T05:33:52.273888Z",
     "iopub.status.idle": "2025-09-20T05:33:52.280144Z",
     "shell.execute_reply": "2025-09-20T05:33:52.278978Z",
     "shell.execute_reply.started": "2025-09-20T05:33:52.274613Z"
    },
    "scrolled": true
   },
   "outputs": [],
   "source": [
    "selected_terms = ['GOBP_CELL_ADHESION',\n",
    "\t\t\t\t  'GOBP_CELL_MOTILITY',\n",
    "\t\t\t\t  'GOBP_T_CELL_ACTIVATION',\n",
    "\t\t\t\t  'GOBP_T_CELL_DIFFERENTIATION',\n",
    "\t\t\t\t  'GOBP_WOUND_HEALING',\n",
    "\t\t\t\t  'GOBP_ACTOMYOSIN_STRUCTURE_ORGANIZATION'\n",
    "\t\t\t\t  ]"
   ]
  },
  {
   "cell_type": "code",
   "execution_count": 73,
   "id": "a435c22e-3946-4319-a5ae-0204dcb3b8ac",
   "metadata": {
    "execution": {
     "iopub.execute_input": "2025-09-20T05:33:59.985072Z",
     "iopub.status.busy": "2025-09-20T05:33:59.984287Z",
     "iopub.status.idle": "2025-09-20T05:33:59.991889Z",
     "shell.execute_reply": "2025-09-20T05:33:59.990676Z",
     "shell.execute_reply.started": "2025-09-20T05:33:59.985019Z"
    }
   },
   "outputs": [],
   "source": [
    "def format_term(t):\n",
    "    phrase = \" \".join(t.split(\"_\")[1:]).capitalize()\n",
    "    return phrase"
   ]
  },
  {
   "cell_type": "code",
   "execution_count": 111,
   "id": "3d7074fe-ab30-47f2-b532-b52e222697eb",
   "metadata": {
    "execution": {
     "iopub.execute_input": "2025-09-20T06:07:02.547600Z",
     "iopub.status.busy": "2025-09-20T06:07:02.547154Z",
     "iopub.status.idle": "2025-09-20T06:07:02.565109Z",
     "shell.execute_reply": "2025-09-20T06:07:02.564371Z",
     "shell.execute_reply.started": "2025-09-20T06:07:02.547573Z"
    }
   },
   "outputs": [
    {
     "data": {
      "text/html": [
       "<div>\n",
       "<style scoped>\n",
       "    .dataframe tbody tr th:only-of-type {\n",
       "        vertical-align: middle;\n",
       "    }\n",
       "\n",
       "    .dataframe tbody tr th {\n",
       "        vertical-align: top;\n",
       "    }\n",
       "\n",
       "    .dataframe thead th {\n",
       "        text-align: right;\n",
       "    }\n",
       "</style>\n",
       "<table border=\"1\" class=\"dataframe\">\n",
       "  <thead>\n",
       "    <tr style=\"text-align: right;\">\n",
       "      <th></th>\n",
       "      <th>Group</th>\n",
       "      <th>Term</th>\n",
       "      <th>Gene ratio</th>\n",
       "      <th>Gene count</th>\n",
       "      <th>Adjusted P-value</th>\n",
       "      <th>-log10(padj)</th>\n",
       "    </tr>\n",
       "  </thead>\n",
       "  <tbody>\n",
       "    <tr>\n",
       "      <th>442</th>\n",
       "      <td>Up</td>\n",
       "      <td>Cell motility</td>\n",
       "      <td>0.081878</td>\n",
       "      <td>916.0</td>\n",
       "      <td>0.000272</td>\n",
       "      <td>3.565272</td>\n",
       "    </tr>\n",
       "    <tr>\n",
       "      <th>4156</th>\n",
       "      <td>Up</td>\n",
       "      <td>Wound healing</td>\n",
       "      <td>0.115226</td>\n",
       "      <td>243.0</td>\n",
       "      <td>0.002332</td>\n",
       "      <td>2.632282</td>\n",
       "    </tr>\n",
       "  </tbody>\n",
       "</table>\n",
       "</div>"
      ],
      "text/plain": [
       "     Group           Term  Gene ratio  Gene count  Adjusted P-value  \\\n",
       "442     Up  Cell motility    0.081878       916.0          0.000272   \n",
       "4156    Up  Wound healing    0.115226       243.0          0.002332   \n",
       "\n",
       "      -log10(padj)  \n",
       "442       3.565272  \n",
       "4156      2.632282  "
      ]
     },
     "execution_count": 111,
     "metadata": {},
     "output_type": "execute_result"
    }
   ],
   "source": [
    "order = [format_term(term) for term in selected_terms][::-1]\n",
    "df_top = df_merge[df_merge[\"Term\"].isin(selected_terms)].copy()\n",
    "df_top[\"Term\"] = df_top[\"Term\"].map(format_term)\n",
    "df_top[\"Term\"] = pd.Categorical(df_top[\"Term\"], categories=order, ordered=True)\n",
    "df_top.head(2)"
   ]
  },
  {
   "cell_type": "code",
   "execution_count": null,
   "id": "fc7246ea-ab74-484b-a18b-eba8ddac1c7e",
   "metadata": {
    "execution": {
     "iopub.execute_input": "2025-09-20T15:17:33.709276Z",
     "iopub.status.busy": "2025-09-20T15:17:33.708526Z"
    }
   },
   "outputs": [],
   "source": [
    "vlims=[0,0.1,0.2]\n",
    "fig, axes = plt.subplots(1, 2, figsize=(2.8, 2.2))\n",
    "for ax, k in zip(axes, ks):\n",
    "\ttitle = \"Lung\" if k == \"Down\" else \"Brain\"\n",
    "\tcolor = \"#fb8072\" if k == \"Down\" else \"#bc80bd\"\n",
    "\tax.set_title(title, fontsize=bfontsize, c=color)\n",
    "\tax.margins(y=0.2)\n",
    "\tg = sns.scatterplot(\n",
    "\t    data=df_top[df_top[\"Group\"]==k],\n",
    "\t    x=\"-log10(padj)\",\n",
    "\t    y=\"Term\",\n",
    "\t    size=\"Gene count\",\n",
    "\t\thue=\"Gene ratio\",\n",
    "\t\tpalette=\"viridis\",\n",
    "\t\thue_norm=(vlims[0], vlims[-1]),\n",
    "\t\tlegend='brief',\n",
    "\t\tax=ax\n",
    "\t\t)\n",
    "\t\n",
    "\thandles, labs = ax.get_legend_handles_labels()\n",
    "\tg.legend([], [], frameon=False)\n",
    "\tif ks.index(k) == 1:\n",
    "\t\tg.set_yticklabels([])\n",
    "\t\tsize_handles_labels = [(h, l) for h, l in zip(handles, labs) if l.strip().isdigit()]\n",
    "\t\tsize_handles, size_labels = zip(*size_handles_labels)\n",
    "\t\tg.legend(size_handles, size_labels, title=\"Gene count\", title_fontsize=sfontsize, fontsize=sfontsize, loc=\"upper left\", bbox_to_anchor=(1.1, 1.05))\n",
    "\n",
    "\t\t\n",
    "\t\tnorm = plt.Normalize(vlims[0], vlims[-1])\n",
    "\t\tsm = plt.cm.ScalarMappable(cmap=\"viridis\", norm=norm)\n",
    "\t\tcbar_ax = fig.add_axes([1,0,0.03,0.2])\n",
    "\t\tcbar = plt.colorbar(sm, cax=cbar_ax)\n",
    "\t\tcbar.set_label(\"Gene ratio\", fontsize=sfontsize)\n",
    "\t\tcbar.set_ticks(vlims)\n",
    "\t\tcbar.set_ticklabels([str(v) for v in vlims])\n",
    "\t\tcbar.ax.tick_params(labelsize=sfontsize)\n",
    "\n",
    "\tg.axvline(x=-np.log10(0.05), ls=\"--\", c=\"grey\")\n",
    "\tg.set_ylim([-0.5, 5.5])\n",
    "\tg.set_ylabel(\"\")\n",
    "\tfor label in ax.get_yticklabels():\n",
    "\t\ttext = label.get_text()\n",
    "\t\tif text in order[:2]:\n",
    "\t\t\tlabel.set_color(\"#bc80bd\")\n",
    "\t\telif text in order[2:4]:\n",
    "\t\t\tlabel.set_color(\"#fb8072\")\n",
    "\t\telse:\n",
    "\t\t\tlabel.set_color(\"black\")\n",
    "\t\tlabel.set_fontsize(bfontsize)\n",
    "\n",
    "\tg.set_xlim([-2, 7])\n",
    "\tg.set_xlabel(\"-log$_{10}$FDR\", fontsize=bfontsize)\n",
    "\tg.tick_params(axis=\"x\", labelsize=sfontsize)\n",
    "\n",
    "fig.text(0.3, 1.05, \"Large intestine to:\", fontsize=bfontsize)\n",
    "g.plot([-1.2, 1], [1.16, 1.16], transform=g.transAxes, c=\"black\", clip_on=False, lw=lw)\n",
    "\n",
    "plt.savefig(f\"{PROJECT_DIR_o}figures/ExtDataFig10d.pdf\", bbox_inches=\"tight\", transparent=True)"
   ]
  },
  {
   "cell_type": "code",
   "execution_count": null,
   "id": "29ae44d6-7e20-49d7-9e12-83f11480796c",
   "metadata": {},
   "outputs": [],
   "source": []
  }
 ],
 "metadata": {
  "kernelspec": {
   "display_name": "Python 3 (ipykernel)",
   "language": "python",
   "name": "python3"
  },
  "language_info": {
   "codemirror_mode": {
    "name": "ipython",
    "version": 3
   },
   "file_extension": ".py",
   "mimetype": "text/x-python",
   "name": "python",
   "nbconvert_exporter": "python",
   "pygments_lexer": "ipython3",
   "version": "3.10.8"
  }
 },
 "nbformat": 4,
 "nbformat_minor": 5
}
