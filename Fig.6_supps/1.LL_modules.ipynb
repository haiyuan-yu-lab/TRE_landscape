{
 "cells": [
  {
   "cell_type": "code",
   "execution_count": 2,
   "id": "910c40c0-c418-4814-b4c1-201d4b13cca1",
   "metadata": {
    "execution": {
     "iopub.execute_input": "2025-09-18T06:12:38.988537Z",
     "iopub.status.busy": "2025-09-18T06:12:38.987846Z",
     "iopub.status.idle": "2025-09-18T06:12:38.995844Z",
     "shell.execute_reply": "2025-09-18T06:12:38.994895Z",
     "shell.execute_reply.started": "2025-09-18T06:12:38.988492Z"
    }
   },
   "outputs": [],
   "source": [
    "import pandas as pd\n",
    "from mphelper import ProcessWrapPool\n",
    "from biodatatools.utils.common import json_load\n",
    "import numpy as np\n",
    "from sklearn.decomposition import PCA\n",
    "import scipy.cluster.hierarchy as sch\n",
    "import matplotlib\n",
    "import matplotlib.pyplot as plt\n",
    "from pathlib import Path\n",
    "import seaborn as sns\n",
    "from scipy.stats import zscore\n",
    "from sklearn.cluster import KMeans\n",
    "from collections import Counter\n",
    "from statsmodels.stats.multitest import multipletests\n",
    "import re\n",
    "from openpyxl import load_workbook\n",
    "import sys\n",
    "import copy"
   ]
  },
  {
   "cell_type": "code",
   "execution_count": 3,
   "id": "7577b79f-574b-46c5-893f-a971afdd8e2e",
   "metadata": {
    "execution": {
     "iopub.execute_input": "2025-09-18T06:12:38.998536Z",
     "iopub.status.busy": "2025-09-18T06:12:38.997973Z",
     "iopub.status.idle": "2025-09-18T06:12:40.508274Z",
     "shell.execute_reply": "2025-09-18T06:12:40.507172Z",
     "shell.execute_reply.started": "2025-09-18T06:12:38.998484Z"
    }
   },
   "outputs": [],
   "source": [
    "font_dir = Path.cwd().parent / \"font\"\n",
    "for font in [\"Arial.ttf\", \"Arial_Bold.ttf\"]:\n",
    "    matplotlib.font_manager.fontManager.addfont(font_dir / font)\n",
    "matplotlib.rcParams[\"font.family\"] = \"Arial\"\n",
    "bfontsize = 12\n",
    "sfontsize = 9\n",
    "lw = 0.8"
   ]
  },
  {
   "cell_type": "code",
   "execution_count": 4,
   "id": "86b0eb7d-a575-41ba-853a-afd1b8aa49cc",
   "metadata": {
    "execution": {
     "iopub.execute_input": "2025-09-18T06:12:40.509887Z",
     "iopub.status.busy": "2025-09-18T06:12:40.509388Z",
     "iopub.status.idle": "2025-09-18T06:12:41.742792Z",
     "shell.execute_reply": "2025-09-18T06:12:41.741661Z",
     "shell.execute_reply.started": "2025-09-18T06:12:40.509846Z"
    }
   },
   "outputs": [],
   "source": [
    "sys.path.append(str(Path.cwd().parent))\n",
    "import utils"
   ]
  },
  {
   "cell_type": "code",
   "execution_count": 5,
   "id": "3d2bbb11-aefa-4af8-9b1d-0f4477aabe7e",
   "metadata": {
    "execution": {
     "iopub.execute_input": "2025-09-18T06:12:41.744415Z",
     "iopub.status.busy": "2025-09-18T06:12:41.743943Z",
     "iopub.status.idle": "2025-09-18T06:12:43.406681Z",
     "shell.execute_reply": "2025-09-18T06:12:43.405575Z",
     "shell.execute_reply.started": "2025-09-18T06:12:41.744375Z"
    }
   },
   "outputs": [],
   "source": [
    "PROJECT_DIR_d = \"/home/yc2553/projects/HEA/databases/\"\n",
    "PROJECT_DIR_o = \"/home/yc2553/projects/HEA/output/\"\n",
    "PROJECT_DIR_s = \"/fs/cbsuhy02/storage/yc2553/yc2553/softwares/homer/\""
   ]
  },
  {
   "cell_type": "markdown",
   "id": "11d35093-e2de-4d10-ba55-907d7c1427ed",
   "metadata": {},
   "source": [
    "# Hierarchical clustering"
   ]
  },
  {
   "cell_type": "code",
   "execution_count": 6,
   "id": "ab21aaa7-d960-448f-a4ad-169d83f6e9f2",
   "metadata": {
    "execution": {
     "iopub.execute_input": "2025-09-18T06:16:54.523683Z",
     "iopub.status.busy": "2025-09-18T06:16:54.523073Z",
     "iopub.status.idle": "2025-09-18T06:16:54.529172Z",
     "shell.execute_reply": "2025-09-18T06:16:54.528231Z",
     "shell.execute_reply.started": "2025-09-18T06:16:54.523637Z"
    }
   },
   "outputs": [],
   "source": [
    "labels = json_load(f\"{PROJECT_DIR_d}PROcap/metainfo/classifications.json\")"
   ]
  },
  {
   "cell_type": "code",
   "execution_count": 7,
   "id": "16b41cbc-fa8b-4e04-98cf-f970982293e8",
   "metadata": {
    "execution": {
     "iopub.execute_input": "2025-09-18T06:16:54.531401Z",
     "iopub.status.busy": "2025-09-18T06:16:54.530979Z",
     "iopub.status.idle": "2025-09-18T06:17:13.176469Z",
     "shell.execute_reply": "2025-09-18T06:17:13.175475Z",
     "shell.execute_reply.started": "2025-09-18T06:16:54.531364Z"
    }
   },
   "outputs": [
    {
     "data": {
      "text/plain": [
       "8"
      ]
     },
     "execution_count": 7,
     "metadata": {},
     "output_type": "execute_result"
    }
   ],
   "source": [
    "# K562: equivalent to hematopoietic stem/progenitor\n",
    "# B-ALL: equivalent to pro/pre-B\n",
    "# GCB-DLBCL: equivalent to germinal center B cell\n",
    "\n",
    "samples = json_load(f\"{PROJECT_DIR_d}PROcap/metainfo/samples.json\")[\"leukemia_lymphoma\"]\n",
    "samples = [s for s in samples if s != \"SP49\"]\n",
    "len(samples)"
   ]
  },
  {
   "cell_type": "code",
   "execution_count": 8,
   "id": "42b854eb-38f7-48af-9fde-124c223fb2c0",
   "metadata": {
    "execution": {
     "iopub.execute_input": "2025-09-18T06:17:13.178316Z",
     "iopub.status.busy": "2025-09-18T06:17:13.177556Z",
     "iopub.status.idle": "2025-09-18T06:17:18.430895Z",
     "shell.execute_reply": "2025-09-18T06:17:18.428463Z",
     "shell.execute_reply.started": "2025-09-18T06:17:13.178275Z"
    }
   },
   "outputs": [],
   "source": [
    "p = \"divergent\"\n",
    "d = \"distal\"\n",
    "inputfile = f\"{PROJECT_DIR_d}PROcap/processed/binary_{p}_{d}.txt\"\n",
    "df_es = pd.read_table(inputfile, index_col=0)\n",
    "es = list(df_es[df_es[list(samples)].sum(axis=1) >= 1].index)"
   ]
  },
  {
   "cell_type": "code",
   "execution_count": 9,
   "id": "2dde4dd5-d634-4baa-a706-ce1840714f60",
   "metadata": {
    "execution": {
     "iopub.execute_input": "2025-09-18T06:17:18.434591Z",
     "iopub.status.busy": "2025-09-18T06:17:18.433993Z",
     "iopub.status.idle": "2025-09-18T06:17:50.661917Z",
     "shell.execute_reply": "2025-09-18T06:17:50.660436Z",
     "shell.execute_reply.started": "2025-09-18T06:17:18.434555Z"
    }
   },
   "outputs": [],
   "source": [
    "df_exp = pd.read_table(f\"{PROJECT_DIR_d}PROcap/processed/norm_reads_vst_all.txt\", index_col=0)\n",
    "df_exp = df_exp[samples].loc[es]"
   ]
  },
  {
   "cell_type": "code",
   "execution_count": 10,
   "id": "3fb18e9d-0c5a-4edd-b9ea-2e904a3c955c",
   "metadata": {
    "execution": {
     "iopub.execute_input": "2025-09-18T06:17:50.665270Z",
     "iopub.status.busy": "2025-09-18T06:17:50.664715Z",
     "iopub.status.idle": "2025-09-18T06:17:50.671725Z",
     "shell.execute_reply": "2025-09-18T06:17:50.670811Z",
     "shell.execute_reply.started": "2025-09-18T06:17:50.665237Z"
    }
   },
   "outputs": [],
   "source": [
    "def plot_dendrogram(linkage, labels):\n",
    "    fig, ax = plt.subplots(figsize=(1,3))\n",
    "    dendro = sch.dendrogram(linkage, labels=labels, leaf_rotation=0, orientation=\"left\", color_threshold=0, above_threshold_color='grey') \n",
    "    \n",
    "    plt.gca().invert_yaxis()\n",
    "    ax.spines[['top','bottom','left']].set_visible(False)\n",
    "    ax.xaxis.set_visible(False)\n",
    "    ax.set_yticklabels(ax.get_yticklabels(), fontsize=bfontsize)\n",
    "\n",
    "    return dendro"
   ]
  },
  {
   "cell_type": "code",
   "execution_count": 11,
   "id": "4042bbfb-9141-49c1-b32b-7ddcb86e38e3",
   "metadata": {
    "execution": {
     "iopub.execute_input": "2025-09-18T06:17:50.673122Z",
     "iopub.status.busy": "2025-09-18T06:17:50.672697Z",
     "iopub.status.idle": "2025-09-18T06:17:52.916835Z",
     "shell.execute_reply": "2025-09-18T06:17:52.915802Z",
     "shell.execute_reply.started": "2025-09-18T06:17:50.673096Z"
    }
   },
   "outputs": [
    {
     "data": {
      "image/png": "[encoded data removed]",
      "text/plain": [
       "<Figure size 100x300 with 1 Axes>"
      ]
     },
     "metadata": {},
     "output_type": "display_data"
    }
   ],
   "source": [
    "pca = PCA(n_components=0.9, random_state=42)\n",
    "data = pca.fit_transform(df_exp.T)\n",
    "linkage = sch.linkage(data, metric='euclidean', method='ward')\n",
    "labs = [f\"{labels[s][1]} ({s})\" for s in df_exp.T.index]\n",
    "_ = plot_dendrogram(linkage, labs)"
   ]
  },
  {
   "cell_type": "code",
   "execution_count": 12,
   "id": "e970cf1a-c5ff-4f3e-a5c7-6fa590713162",
   "metadata": {
    "execution": {
     "iopub.execute_input": "2025-09-18T06:17:52.918654Z",
     "iopub.status.busy": "2025-09-18T06:17:52.918126Z",
     "iopub.status.idle": "2025-09-18T06:17:53.555923Z",
     "shell.execute_reply": "2025-09-18T06:17:53.554775Z",
     "shell.execute_reply.started": "2025-09-18T06:17:52.918608Z"
    }
   },
   "outputs": [],
   "source": [
    "# For better visualization, we can flip CML with B-ALL cell lines\n",
    "# For more info, please check https://stackoverflow.com/questions/56259202/reordering-the-high-level-clusters-from-seaborn-clustermap-results/\n",
    "# get actual sample names\n",
    "# Locate which branch you'd like to flip"
   ]
  },
  {
   "cell_type": "code",
   "execution_count": 13,
   "id": "adc6403e-a890-4aa1-987d-bc6441a657f7",
   "metadata": {
    "execution": {
     "iopub.execute_input": "2025-09-18T06:17:53.557739Z",
     "iopub.status.busy": "2025-09-18T06:17:53.557195Z",
     "iopub.status.idle": "2025-09-18T06:17:54.652690Z",
     "shell.execute_reply": "2025-09-18T06:17:54.651497Z",
     "shell.execute_reply.started": "2025-09-18T06:17:53.557692Z"
    }
   },
   "outputs": [],
   "source": [
    "def check_linkage(linkage):\n",
    "    i = 0\n",
    "    for col in linkage:\n",
    "        n1, n2, d, n = list(col)\n",
    "        if int(n1) <= len(samples)-1:\n",
    "            n1 = samples[int(n1)]\n",
    "        else:\n",
    "            n1 = int(n1) - len(samples)\n",
    "        if int(n2) <= len(samples)-1:\n",
    "            n2 = samples[int(n2)]\n",
    "        else:\n",
    "            n2 = int(n2) - len(samples)\n",
    "        print(i, n1, n2, d, n)\n",
    "        i += 1"
   ]
  },
  {
   "cell_type": "code",
   "execution_count": 14,
   "id": "7ce8d716-6e68-463f-93f3-524c1c1c1d0e",
   "metadata": {
    "execution": {
     "iopub.execute_input": "2025-09-18T06:17:54.654529Z",
     "iopub.status.busy": "2025-09-18T06:17:54.654007Z",
     "iopub.status.idle": "2025-09-18T06:17:55.959973Z",
     "shell.execute_reply": "2025-09-18T06:17:55.958944Z",
     "shell.execute_reply.started": "2025-09-18T06:17:54.654484Z"
    }
   },
   "outputs": [
    {
     "name": "stdout",
     "output_type": "stream",
     "text": [
      "0 OCI-LY7 SUDHL5 200.7033932493839 2.0\n",
      "1 REH SEM 361.7289857133555 2.0\n",
      "2 NALM-6 1 410.7062211275575 3.0\n",
      "3 Karpas422 0 418.91709198378163 3.0\n",
      "4 Pfeiffer 3 455.3526545748806 4.0\n",
      "5 K562 2 594.675501819633 4.0\n",
      "6 4 5 744.3515681694333 8.0\n"
     ]
    }
   ],
   "source": [
    "check_linkage(linkage)"
   ]
  },
  {
   "cell_type": "code",
   "execution_count": 15,
   "id": "55fc60e6-ba9b-4784-b53f-01bb48d63d33",
   "metadata": {
    "execution": {
     "iopub.execute_input": "2025-09-18T06:17:55.961752Z",
     "iopub.status.busy": "2025-09-18T06:17:55.961238Z",
     "iopub.status.idle": "2025-09-18T06:17:57.324791Z",
     "shell.execute_reply": "2025-09-18T06:17:57.323610Z",
     "shell.execute_reply.started": "2025-09-18T06:17:55.961711Z"
    }
   },
   "outputs": [],
   "source": [
    "def switch_branch(x):\n",
    "    b1, b2, score, n = x.tolist()[0]\n",
    "    new = [[b2, b1, score, n]]\n",
    "    return np.array(new)"
   ]
  },
  {
   "cell_type": "code",
   "execution_count": 16,
   "id": "4a9a9b2c-2902-41ea-8fa9-cc829e3fd0e8",
   "metadata": {
    "execution": {
     "iopub.execute_input": "2025-09-18T06:17:57.326640Z",
     "iopub.status.busy": "2025-09-18T06:17:57.326116Z",
     "iopub.status.idle": "2025-09-18T06:17:58.520876Z",
     "shell.execute_reply": "2025-09-18T06:17:58.519783Z",
     "shell.execute_reply.started": "2025-09-18T06:17:57.326594Z"
    }
   },
   "outputs": [],
   "source": [
    "nodes = [0,5]\n",
    "linkage2 = copy.deepcopy(linkage)\n",
    "for n in nodes:\n",
    "    linkage2[[n]] = switch_branch(linkage2[[n]])"
   ]
  },
  {
   "cell_type": "code",
   "execution_count": 17,
   "id": "4120635b-ac3e-4708-99a7-c87bbdf7c329",
   "metadata": {
    "execution": {
     "iopub.execute_input": "2025-09-18T06:17:58.522693Z",
     "iopub.status.busy": "2025-09-18T06:17:58.522151Z",
     "iopub.status.idle": "2025-09-18T06:17:59.794092Z",
     "shell.execute_reply": "2025-09-18T06:17:59.792984Z",
     "shell.execute_reply.started": "2025-09-18T06:17:58.522648Z"
    }
   },
   "outputs": [
    {
     "name": "stdout",
     "output_type": "stream",
     "text": [
      "0 SUDHL5 OCI-LY7 200.7033932493839 2.0\n",
      "1 REH SEM 361.7289857133555 2.0\n",
      "2 NALM-6 1 410.7062211275575 3.0\n",
      "3 Karpas422 0 418.91709198378163 3.0\n",
      "4 Pfeiffer 3 455.3526545748806 4.0\n",
      "5 2 K562 594.675501819633 4.0\n",
      "6 4 5 744.3515681694333 8.0\n"
     ]
    }
   ],
   "source": [
    "check_linkage(linkage2)"
   ]
  },
  {
   "cell_type": "code",
   "execution_count": 18,
   "id": "15df8cd1-7654-482c-81f6-7babefb243a3",
   "metadata": {
    "execution": {
     "iopub.execute_input": "2025-09-18T06:17:59.795806Z",
     "iopub.status.busy": "2025-09-18T06:17:59.795385Z",
     "iopub.status.idle": "2025-09-18T06:18:01.022691Z",
     "shell.execute_reply": "2025-09-18T06:18:01.021665Z",
     "shell.execute_reply.started": "2025-09-18T06:17:59.795752Z"
    }
   },
   "outputs": [
    {
     "data": {
      "image/png": "[encoded data removed]",
      "text/plain": [
       "<Figure size 100x300 with 1 Axes>"
      ]
     },
     "metadata": {},
     "output_type": "display_data"
    }
   ],
   "source": [
    "# Check the tree structure\n",
    "\n",
    "dendro = plot_dendrogram(linkage2, list(df_exp.T.index))"
   ]
  },
  {
   "cell_type": "code",
   "execution_count": 19,
   "id": "df0769f9-a892-41d2-885a-e7759ef2ade3",
   "metadata": {
    "execution": {
     "iopub.execute_input": "2025-09-18T06:18:01.027811Z",
     "iopub.status.busy": "2025-09-18T06:18:01.027256Z",
     "iopub.status.idle": "2025-09-18T06:18:01.904141Z",
     "shell.execute_reply": "2025-09-18T06:18:01.903036Z",
     "shell.execute_reply.started": "2025-09-18T06:18:01.027751Z"
    }
   },
   "outputs": [
    {
     "data": {
      "text/plain": [
       "['K562', 'SEM', 'REH', 'NALM-6', 'OCI-LY7', 'SUDHL5', 'Karpas422', 'Pfeiffer']"
      ]
     },
     "execution_count": 19,
     "metadata": {},
     "output_type": "execute_result"
    }
   ],
   "source": [
    "# Will display the tree from left to right\n",
    "\n",
    "sample_order = dendro[\"ivl\"][::-1]\n",
    "sample_order"
   ]
  },
  {
   "cell_type": "markdown",
   "id": "256dacaf-165e-4298-b8e5-4b1505b80b8d",
   "metadata": {},
   "source": [
    "# TRE modules"
   ]
  },
  {
   "cell_type": "code",
   "execution_count": 20,
   "id": "fde0efab-4424-4217-8347-25e9acb9c578",
   "metadata": {
    "execution": {
     "iopub.execute_input": "2025-09-18T06:18:01.905911Z",
     "iopub.status.busy": "2025-09-18T06:18:01.905379Z",
     "iopub.status.idle": "2025-09-18T06:18:59.819516Z",
     "shell.execute_reply": "2025-09-18T06:18:59.818444Z",
     "shell.execute_reply.started": "2025-09-18T06:18:01.905869Z"
    }
   },
   "outputs": [],
   "source": [
    "# Use K-means clustering to identify TRE modules\n",
    "\n",
    "random_state = 42\n",
    "df_zscore = df_exp.apply(lambda x: zscore(x), axis=1)\n",
    "data = df_zscore.values\n",
    "wcss = []\n",
    "for i in range(1, 31):\n",
    "    kmeans = KMeans(n_clusters=i, random_state=random_state)\n",
    "    kmeans.fit(data)\n",
    "    wcss.append(kmeans.inertia_)"
   ]
  },
  {
   "cell_type": "code",
   "execution_count": 21,
   "id": "04537d80-d7ba-498d-a206-f44f6b272134",
   "metadata": {
    "execution": {
     "iopub.execute_input": "2025-09-18T06:18:59.820911Z",
     "iopub.status.busy": "2025-09-18T06:18:59.820515Z",
     "iopub.status.idle": "2025-09-18T06:19:00.102180Z",
     "shell.execute_reply": "2025-09-18T06:19:00.101377Z",
     "shell.execute_reply.started": "2025-09-18T06:18:59.820884Z"
    }
   },
   "outputs": [
    {
     "data": {
      "text/html": [
       "<style>#sk-container-id-1 {\n",
       "  /* Definition of color scheme common for light and dark mode */\n",
       "  --sklearn-color-text: black;\n",
       "  --sklearn-color-line: gray;\n",
       "  /* Definition of color scheme for unfitted estimators */\n",
       "  --sklearn-color-unfitted-level-0: #fff5e6;\n",
       "  --sklearn-color-unfitted-level-1: #f6e4d2;\n",
       "  --sklearn-color-unfitted-level-2: #ffe0b3;\n",
       "  --sklearn-color-unfitted-level-3: chocolate;\n",
       "  /* Definition of color scheme for fitted estimators */\n",
       "  --sklearn-color-fitted-level-0: #f0f8ff;\n",
       "  --sklearn-color-fitted-level-1: #d4ebff;\n",
       "  --sklearn-color-fitted-level-2: #b3dbfd;\n",
       "  --sklearn-color-fitted-level-3: cornflowerblue;\n",
       "\n",
       "  /* Specific color for light theme */\n",
       "  --sklearn-color-text-on-default-background: var(--sg-text-color, var(--theme-code-foreground, var(--jp-content-font-color1, black)));\n",
       "  --sklearn-color-background: var(--sg-background-color, var(--theme-background, var(--jp-layout-color0, white)));\n",
       "  --sklearn-color-border-box: var(--sg-text-color, var(--theme-code-foreground, var(--jp-content-font-color1, black)));\n",
       "  --sklearn-color-icon: #696969;\n",
       "\n",
       "  @media (prefers-color-scheme: dark) {\n",
       "    /* Redefinition of color scheme for dark theme */\n",
       "    --sklearn-color-text-on-default-background: var(--sg-text-color, var(--theme-code-foreground, var(--jp-content-font-color1, white)));\n",
       "    --sklearn-color-background: var(--sg-background-color, var(--theme-background, var(--jp-layout-color0, #111)));\n",
       "    --sklearn-color-border-box: var(--sg-text-color, var(--theme-code-foreground, var(--jp-content-font-color1, white)));\n",
       "    --sklearn-color-icon: #878787;\n",
       "  }\n",
       "}\n",
       "\n",
       "#sk-container-id-1 {\n",
       "  color: var(--sklearn-color-text);\n",
       "}\n",
       "\n",
       "#sk-container-id-1 pre {\n",
       "  padding: 0;\n",
       "}\n",
       "\n",
       "#sk-container-id-1 input.sk-hidden--visually {\n",
       "  border: 0;\n",
       "  clip: rect(1px 1px 1px 1px);\n",
       "  clip: rect(1px, 1px, 1px, 1px);\n",
       "  height: 1px;\n",
       "  margin: -1px;\n",
       "  overflow: hidden;\n",
       "  padding: 0;\n",
       "  position: absolute;\n",
       "  width: 1px;\n",
       "}\n",
       "\n",
       "#sk-container-id-1 div.sk-dashed-wrapped {\n",
       "  border: 1px dashed var(--sklearn-color-line);\n",
       "  margin: 0 0.4em 0.5em 0.4em;\n",
       "  box-sizing: border-box;\n",
       "  padding-bottom: 0.4em;\n",
       "  background-color: var(--sklearn-color-background);\n",
       "}\n",
       "\n",
       "#sk-container-id-1 div.sk-container {\n",
       "  /* jupyter's `normalize.less` sets `[hidden] { display: none; }`\n",
       "     but bootstrap.min.css set `[hidden] { display: none !important; }`\n",
       "     so we also need the `!important` here to be able to override the\n",
       "     default hidden behavior on the sphinx rendered scikit-learn.org.\n",
       "     See: https://github.com/scikit-learn/scikit-learn/issues/21755 */\n",
       "  display: inline-block !important;\n",
       "  position: relative;\n",
       "}\n",
       "\n",
       "#sk-container-id-1 div.sk-text-repr-fallback {\n",
       "  display: none;\n",
       "}\n",
       "\n",
       "div.sk-parallel-item,\n",
       "div.sk-serial,\n",
       "div.sk-item {\n",
       "  /* draw centered vertical line to link estimators */\n",
       "  background-image: linear-gradient(var(--sklearn-color-text-on-default-background), var(--sklearn-color-text-on-default-background));\n",
       "  background-size: 2px 100%;\n",
       "  background-repeat: no-repeat;\n",
       "  background-position: center center;\n",
       "}\n",
       "\n",
       "/* Parallel-specific style estimator block */\n",
       "\n",
       "#sk-container-id-1 div.sk-parallel-item::after {\n",
       "  content: \"\";\n",
       "  width: 100%;\n",
       "  border-bottom: 2px solid var(--sklearn-color-text-on-default-background);\n",
       "  flex-grow: 1;\n",
       "}\n",
       "\n",
       "#sk-container-id-1 div.sk-parallel {\n",
       "  display: flex;\n",
       "  align-items: stretch;\n",
       "  justify-content: center;\n",
       "  background-color: var(--sklearn-color-background);\n",
       "  position: relative;\n",
       "}\n",
       "\n",
       "#sk-container-id-1 div.sk-parallel-item {\n",
       "  display: flex;\n",
       "  flex-direction: column;\n",
       "}\n",
       "\n",
       "#sk-container-id-1 div.sk-parallel-item:first-child::after {\n",
       "  align-self: flex-end;\n",
       "  width: 50%;\n",
       "}\n",
       "\n",
       "#sk-container-id-1 div.sk-parallel-item:last-child::after {\n",
       "  align-self: flex-start;\n",
       "  width: 50%;\n",
       "}\n",
       "\n",
       "#sk-container-id-1 div.sk-parallel-item:only-child::after {\n",
       "  width: 0;\n",
       "}\n",
       "\n",
       "/* Serial-specific style estimator block */\n",
       "\n",
       "#sk-container-id-1 div.sk-serial {\n",
       "  display: flex;\n",
       "  flex-direction: column;\n",
       "  align-items: center;\n",
       "  background-color: var(--sklearn-color-background);\n",
       "  padding-right: 1em;\n",
       "  padding-left: 1em;\n",
       "}\n",
       "\n",
       "\n",
       "/* Toggleable style: style used for estimator/Pipeline/ColumnTransformer box that is\n",
       "clickable and can be expanded/collapsed.\n",
       "- Pipeline and ColumnTransformer use this feature and define the default style\n",
       "- Estimators will overwrite some part of the style using the `sk-estimator` class\n",
       "*/\n",
       "\n",
       "/* Pipeline and ColumnTransformer style (default) */\n",
       "\n",
       "#sk-container-id-1 div.sk-toggleable {\n",
       "  /* Default theme specific background. It is overwritten whether we have a\n",
       "  specific estimator or a Pipeline/ColumnTransformer */\n",
       "  background-color: var(--sklearn-color-background);\n",
       "}\n",
       "\n",
       "/* Toggleable label */\n",
       "#sk-container-id-1 label.sk-toggleable__label {\n",
       "  cursor: pointer;\n",
       "  display: block;\n",
       "  width: 100%;\n",
       "  margin-bottom: 0;\n",
       "  padding: 0.5em;\n",
       "  box-sizing: border-box;\n",
       "  text-align: center;\n",
       "}\n",
       "\n",
       "#sk-container-id-1 label.sk-toggleable__label-arrow:before {\n",
       "  /* Arrow on the left of the label */\n",
       "  content: \"▸\";\n",
       "  float: left;\n",
       "  margin-right: 0.25em;\n",
       "  color: var(--sklearn-color-icon);\n",
       "}\n",
       "\n",
       "#sk-container-id-1 label.sk-toggleable__label-arrow:hover:before {\n",
       "  color: var(--sklearn-color-text);\n",
       "}\n",
       "\n",
       "/* Toggleable content - dropdown */\n",
       "\n",
       "#sk-container-id-1 div.sk-toggleable__content {\n",
       "  max-height: 0;\n",
       "  max-width: 0;\n",
       "  overflow: hidden;\n",
       "  text-align: left;\n",
       "  /* unfitted */\n",
       "  background-color: var(--sklearn-color-unfitted-level-0);\n",
       "}\n",
       "\n",
       "#sk-container-id-1 div.sk-toggleable__content.fitted {\n",
       "  /* fitted */\n",
       "  background-color: var(--sklearn-color-fitted-level-0);\n",
       "}\n",
       "\n",
       "#sk-container-id-1 div.sk-toggleable__content pre {\n",
       "  margin: 0.2em;\n",
       "  border-radius: 0.25em;\n",
       "  color: var(--sklearn-color-text);\n",
       "  /* unfitted */\n",
       "  background-color: var(--sklearn-color-unfitted-level-0);\n",
       "}\n",
       "\n",
       "#sk-container-id-1 div.sk-toggleable__content.fitted pre {\n",
       "  /* unfitted */\n",
       "  background-color: var(--sklearn-color-fitted-level-0);\n",
       "}\n",
       "\n",
       "#sk-container-id-1 input.sk-toggleable__control:checked~div.sk-toggleable__content {\n",
       "  /* Expand drop-down */\n",
       "  max-height: 200px;\n",
       "  max-width: 100%;\n",
       "  overflow: auto;\n",
       "}\n",
       "\n",
       "#sk-container-id-1 input.sk-toggleable__control:checked~label.sk-toggleable__label-arrow:before {\n",
       "  content: \"▾\";\n",
       "}\n",
       "\n",
       "/* Pipeline/ColumnTransformer-specific style */\n",
       "\n",
       "#sk-container-id-1 div.sk-label input.sk-toggleable__control:checked~label.sk-toggleable__label {\n",
       "  color: var(--sklearn-color-text);\n",
       "  background-color: var(--sklearn-color-unfitted-level-2);\n",
       "}\n",
       "\n",
       "#sk-container-id-1 div.sk-label.fitted input.sk-toggleable__control:checked~label.sk-toggleable__label {\n",
       "  background-color: var(--sklearn-color-fitted-level-2);\n",
       "}\n",
       "\n",
       "/* Estimator-specific style */\n",
       "\n",
       "/* Colorize estimator box */\n",
       "#sk-container-id-1 div.sk-estimator input.sk-toggleable__control:checked~label.sk-toggleable__label {\n",
       "  /* unfitted */\n",
       "  background-color: var(--sklearn-color-unfitted-level-2);\n",
       "}\n",
       "\n",
       "#sk-container-id-1 div.sk-estimator.fitted input.sk-toggleable__control:checked~label.sk-toggleable__label {\n",
       "  /* fitted */\n",
       "  background-color: var(--sklearn-color-fitted-level-2);\n",
       "}\n",
       "\n",
       "#sk-container-id-1 div.sk-label label.sk-toggleable__label,\n",
       "#sk-container-id-1 div.sk-label label {\n",
       "  /* The background is the default theme color */\n",
       "  color: var(--sklearn-color-text-on-default-background);\n",
       "}\n",
       "\n",
       "/* On hover, darken the color of the background */\n",
       "#sk-container-id-1 div.sk-label:hover label.sk-toggleable__label {\n",
       "  color: var(--sklearn-color-text);\n",
       "  background-color: var(--sklearn-color-unfitted-level-2);\n",
       "}\n",
       "\n",
       "/* Label box, darken color on hover, fitted */\n",
       "#sk-container-id-1 div.sk-label.fitted:hover label.sk-toggleable__label.fitted {\n",
       "  color: var(--sklearn-color-text);\n",
       "  background-color: var(--sklearn-color-fitted-level-2);\n",
       "}\n",
       "\n",
       "/* Estimator label */\n",
       "\n",
       "#sk-container-id-1 div.sk-label label {\n",
       "  font-family: monospace;\n",
       "  font-weight: bold;\n",
       "  display: inline-block;\n",
       "  line-height: 1.2em;\n",
       "}\n",
       "\n",
       "#sk-container-id-1 div.sk-label-container {\n",
       "  text-align: center;\n",
       "}\n",
       "\n",
       "/* Estimator-specific */\n",
       "#sk-container-id-1 div.sk-estimator {\n",
       "  font-family: monospace;\n",
       "  border: 1px dotted var(--sklearn-color-border-box);\n",
       "  border-radius: 0.25em;\n",
       "  box-sizing: border-box;\n",
       "  margin-bottom: 0.5em;\n",
       "  /* unfitted */\n",
       "  background-color: var(--sklearn-color-unfitted-level-0);\n",
       "}\n",
       "\n",
       "#sk-container-id-1 div.sk-estimator.fitted {\n",
       "  /* fitted */\n",
       "  background-color: var(--sklearn-color-fitted-level-0);\n",
       "}\n",
       "\n",
       "/* on hover */\n",
       "#sk-container-id-1 div.sk-estimator:hover {\n",
       "  /* unfitted */\n",
       "  background-color: var(--sklearn-color-unfitted-level-2);\n",
       "}\n",
       "\n",
       "#sk-container-id-1 div.sk-estimator.fitted:hover {\n",
       "  /* fitted */\n",
       "  background-color: var(--sklearn-color-fitted-level-2);\n",
       "}\n",
       "\n",
       "/* Specification for estimator info (e.g. \"i\" and \"?\") */\n",
       "\n",
       "/* Common style for \"i\" and \"?\" */\n",
       "\n",
       ".sk-estimator-doc-link,\n",
       "a:link.sk-estimator-doc-link,\n",
       "a:visited.sk-estimator-doc-link {\n",
       "  float: right;\n",
       "  font-size: smaller;\n",
       "  line-height: 1em;\n",
       "  font-family: monospace;\n",
       "  background-color: var(--sklearn-color-background);\n",
       "  border-radius: 1em;\n",
       "  height: 1em;\n",
       "  width: 1em;\n",
       "  text-decoration: none !important;\n",
       "  margin-left: 1ex;\n",
       "  /* unfitted */\n",
       "  border: var(--sklearn-color-unfitted-level-1) 1pt solid;\n",
       "  color: var(--sklearn-color-unfitted-level-1);\n",
       "}\n",
       "\n",
       ".sk-estimator-doc-link.fitted,\n",
       "a:link.sk-estimator-doc-link.fitted,\n",
       "a:visited.sk-estimator-doc-link.fitted {\n",
       "  /* fitted */\n",
       "  border: var(--sklearn-color-fitted-level-1) 1pt solid;\n",
       "  color: var(--sklearn-color-fitted-level-1);\n",
       "}\n",
       "\n",
       "/* On hover */\n",
       "div.sk-estimator:hover .sk-estimator-doc-link:hover,\n",
       ".sk-estimator-doc-link:hover,\n",
       "div.sk-label-container:hover .sk-estimator-doc-link:hover,\n",
       ".sk-estimator-doc-link:hover {\n",
       "  /* unfitted */\n",
       "  background-color: var(--sklearn-color-unfitted-level-3);\n",
       "  color: var(--sklearn-color-background);\n",
       "  text-decoration: none;\n",
       "}\n",
       "\n",
       "div.sk-estimator.fitted:hover .sk-estimator-doc-link.fitted:hover,\n",
       ".sk-estimator-doc-link.fitted:hover,\n",
       "div.sk-label-container:hover .sk-estimator-doc-link.fitted:hover,\n",
       ".sk-estimator-doc-link.fitted:hover {\n",
       "  /* fitted */\n",
       "  background-color: var(--sklearn-color-fitted-level-3);\n",
       "  color: var(--sklearn-color-background);\n",
       "  text-decoration: none;\n",
       "}\n",
       "\n",
       "/* Span, style for the box shown on hovering the info icon */\n",
       ".sk-estimator-doc-link span {\n",
       "  display: none;\n",
       "  z-index: 9999;\n",
       "  position: relative;\n",
       "  font-weight: normal;\n",
       "  right: .2ex;\n",
       "  padding: .5ex;\n",
       "  margin: .5ex;\n",
       "  width: min-content;\n",
       "  min-width: 20ex;\n",
       "  max-width: 50ex;\n",
       "  color: var(--sklearn-color-text);\n",
       "  box-shadow: 2pt 2pt 4pt #999;\n",
       "  /* unfitted */\n",
       "  background: var(--sklearn-color-unfitted-level-0);\n",
       "  border: .5pt solid var(--sklearn-color-unfitted-level-3);\n",
       "}\n",
       "\n",
       ".sk-estimator-doc-link.fitted span {\n",
       "  /* fitted */\n",
       "  background: var(--sklearn-color-fitted-level-0);\n",
       "  border: var(--sklearn-color-fitted-level-3);\n",
       "}\n",
       "\n",
       ".sk-estimator-doc-link:hover span {\n",
       "  display: block;\n",
       "}\n",
       "\n",
       "/* \"?\"-specific style due to the `<a>` HTML tag */\n",
       "\n",
       "#sk-container-id-1 a.estimator_doc_link {\n",
       "  float: right;\n",
       "  font-size: 1rem;\n",
       "  line-height: 1em;\n",
       "  font-family: monospace;\n",
       "  background-color: var(--sklearn-color-background);\n",
       "  border-radius: 1rem;\n",
       "  height: 1rem;\n",
       "  width: 1rem;\n",
       "  text-decoration: none;\n",
       "  /* unfitted */\n",
       "  color: var(--sklearn-color-unfitted-level-1);\n",
       "  border: var(--sklearn-color-unfitted-level-1) 1pt solid;\n",
       "}\n",
       "\n",
       "#sk-container-id-1 a.estimator_doc_link.fitted {\n",
       "  /* fitted */\n",
       "  border: var(--sklearn-color-fitted-level-1) 1pt solid;\n",
       "  color: var(--sklearn-color-fitted-level-1);\n",
       "}\n",
       "\n",
       "/* On hover */\n",
       "#sk-container-id-1 a.estimator_doc_link:hover {\n",
       "  /* unfitted */\n",
       "  background-color: var(--sklearn-color-unfitted-level-3);\n",
       "  color: var(--sklearn-color-background);\n",
       "  text-decoration: none;\n",
       "}\n",
       "\n",
       "#sk-container-id-1 a.estimator_doc_link.fitted:hover {\n",
       "  /* fitted */\n",
       "  background-color: var(--sklearn-color-fitted-level-3);\n",
       "}\n",
       "</style><div id=\"sk-container-id-1\" class=\"sk-top-container\"><div class=\"sk-text-repr-fallback\"><pre>KMeans(n_clusters=10, random_state=42)</pre><b>In a Jupyter environment, please rerun this cell to show the HTML representation or trust the notebook. <br />On GitHub, the HTML representation is unable to render, please try loading this page with nbviewer.org.</b></div><div class=\"sk-container\" hidden><div class=\"sk-item\"><div class=\"sk-estimator fitted sk-toggleable\"><input class=\"sk-toggleable__control sk-hidden--visually\" id=\"sk-estimator-id-1\" type=\"checkbox\" checked><label for=\"sk-estimator-id-1\" class=\"sk-toggleable__label fitted sk-toggleable__label-arrow fitted\">&nbsp;&nbsp;KMeans<a class=\"sk-estimator-doc-link fitted\" rel=\"noreferrer\" target=\"_blank\" href=\"https://scikit-learn.org/1.5/modules/generated/sklearn.cluster.KMeans.html\">?<span>Documentation for KMeans</span></a><span class=\"sk-estimator-doc-link fitted\">i<span>Fitted</span></span></label><div class=\"sk-toggleable__content fitted\"><pre>KMeans(n_clusters=10, random_state=42)</pre></div> </div></div></div></div>"
      ],
      "text/plain": [
       "KMeans(n_clusters=10, random_state=42)"
      ]
     },
     "execution_count": 21,
     "metadata": {},
     "output_type": "execute_result"
    }
   ],
   "source": [
    "kmeans = KMeans(n_clusters=10, random_state=random_state)\n",
    "kmeans.fit(data)"
   ]
  },
  {
   "cell_type": "code",
   "execution_count": 22,
   "id": "25ec949d-2cc1-4472-80e6-ae161b16f020",
   "metadata": {
    "execution": {
     "iopub.execute_input": "2025-09-18T06:19:00.103311Z",
     "iopub.status.busy": "2025-09-18T06:19:00.103047Z",
     "iopub.status.idle": "2025-09-18T06:19:00.980601Z",
     "shell.execute_reply": "2025-09-18T06:19:00.979802Z",
     "shell.execute_reply.started": "2025-09-18T06:19:00.103286Z"
    }
   },
   "outputs": [
    {
     "data": {
      "text/html": [
       "<div>\n",
       "<style scoped>\n",
       "    .dataframe tbody tr th:only-of-type {\n",
       "        vertical-align: middle;\n",
       "    }\n",
       "\n",
       "    .dataframe tbody tr th {\n",
       "        vertical-align: top;\n",
       "    }\n",
       "\n",
       "    .dataframe thead th {\n",
       "        text-align: right;\n",
       "    }\n",
       "</style>\n",
       "<table border=\"1\" class=\"dataframe\">\n",
       "  <thead>\n",
       "    <tr style=\"text-align: right;\">\n",
       "      <th></th>\n",
       "      <th>K562</th>\n",
       "      <th>SEM</th>\n",
       "      <th>REH</th>\n",
       "      <th>NALM-6</th>\n",
       "      <th>OCI-LY7</th>\n",
       "      <th>SUDHL5</th>\n",
       "      <th>Karpas422</th>\n",
       "      <th>Pfeiffer</th>\n",
       "      <th>cluster</th>\n",
       "    </tr>\n",
       "  </thead>\n",
       "  <tbody>\n",
       "    <tr>\n",
       "      <th>chr5_151124125_151124607</th>\n",
       "      <td>-0.944645</td>\n",
       "      <td>-0.898245</td>\n",
       "      <td>-1.091542</td>\n",
       "      <td>-0.307151</td>\n",
       "      <td>0.729331</td>\n",
       "      <td>1.955913</td>\n",
       "      <td>0.779527</td>\n",
       "      <td>-0.223186</td>\n",
       "      <td>0</td>\n",
       "    </tr>\n",
       "    <tr>\n",
       "      <th>chr5_151125516_151125715</th>\n",
       "      <td>-0.974841</td>\n",
       "      <td>-0.974841</td>\n",
       "      <td>-0.783462</td>\n",
       "      <td>-0.124664</td>\n",
       "      <td>0.363459</td>\n",
       "      <td>1.911502</td>\n",
       "      <td>1.161544</td>\n",
       "      <td>-0.578696</td>\n",
       "      <td>0</td>\n",
       "    </tr>\n",
       "  </tbody>\n",
       "</table>\n",
       "</div>"
      ],
      "text/plain": [
       "                              K562       SEM       REH    NALM-6   OCI-LY7  \\\n",
       "chr5_151124125_151124607 -0.944645 -0.898245 -1.091542 -0.307151  0.729331   \n",
       "chr5_151125516_151125715 -0.974841 -0.974841 -0.783462 -0.124664  0.363459   \n",
       "\n",
       "                            SUDHL5  Karpas422  Pfeiffer  cluster  \n",
       "chr5_151124125_151124607  1.955913   0.779527 -0.223186        0  \n",
       "chr5_151125516_151125715  1.911502   1.161544 -0.578696        0  "
      ]
     },
     "execution_count": 22,
     "metadata": {},
     "output_type": "execute_result"
    }
   ],
   "source": [
    "df_cluster = df_zscore[sample_order].copy()\n",
    "df_cluster['cluster'] = kmeans.labels_\n",
    "df_cluster = df_cluster.sort_values(by=\"cluster\")\n",
    "df_cluster.head(2)"
   ]
  },
  {
   "cell_type": "code",
   "execution_count": 23,
   "id": "b0a7b3c6-0a06-4a7e-81f9-b7a558eaf54b",
   "metadata": {
    "execution": {
     "iopub.execute_input": "2025-09-18T06:19:00.981847Z",
     "iopub.status.busy": "2025-09-18T06:19:00.981460Z",
     "iopub.status.idle": "2025-09-18T06:19:02.059679Z",
     "shell.execute_reply": "2025-09-18T06:19:02.058602Z",
     "shell.execute_reply.started": "2025-09-18T06:19:00.981821Z"
    }
   },
   "outputs": [],
   "source": [
    "def plot_heatmap(df, vlims=[-2,0,2]):\n",
    "    fig, ax = plt.subplots(figsize=(4,3))\n",
    "    g = sns.heatmap(df, xticklabels=True, yticklabels=False,\n",
    "                   vmin=vlims[0], vmax=vlims[-1],\n",
    "                   cmap=\"viridis\", ax=ax)"
   ]
  },
  {
   "cell_type": "code",
   "execution_count": 24,
   "id": "7ef63aea-7a6e-489e-a56e-854e6c000447",
   "metadata": {
    "execution": {
     "iopub.execute_input": "2025-09-18T06:19:02.061073Z",
     "iopub.status.busy": "2025-09-18T06:19:02.060686Z",
     "iopub.status.idle": "2025-09-18T06:19:28.258837Z",
     "shell.execute_reply": "2025-09-18T06:19:28.257998Z",
     "shell.execute_reply.started": "2025-09-18T06:19:02.061048Z"
    }
   },
   "outputs": [
    {
     "data": {
      "image/png": "[encoded data removed]",
      "text/plain": [
       "<Figure size 400x300 with 2 Axes>"
      ]
     },
     "metadata": {},
     "output_type": "display_data"
    }
   ],
   "source": [
    "# Check if TRE modules are listed in a desired order\n",
    "\n",
    "plot_heatmap(df_cluster[df_cluster.columns[:-1]])"
   ]
  },
  {
   "cell_type": "code",
   "execution_count": 25,
   "id": "fc5c8085-8635-4940-a593-7a63198992b9",
   "metadata": {
    "execution": {
     "iopub.execute_input": "2025-09-18T06:19:28.260114Z",
     "iopub.status.busy": "2025-09-18T06:19:28.259723Z",
     "iopub.status.idle": "2025-09-18T06:19:28.762694Z",
     "shell.execute_reply": "2025-09-18T06:19:28.761860Z",
     "shell.execute_reply.started": "2025-09-18T06:19:28.260088Z"
    }
   },
   "outputs": [
    {
     "data": {
      "text/html": [
       "<div>\n",
       "<style scoped>\n",
       "    .dataframe tbody tr th:only-of-type {\n",
       "        vertical-align: middle;\n",
       "    }\n",
       "\n",
       "    .dataframe tbody tr th {\n",
       "        vertical-align: top;\n",
       "    }\n",
       "\n",
       "    .dataframe thead th {\n",
       "        text-align: right;\n",
       "    }\n",
       "</style>\n",
       "<table border=\"1\" class=\"dataframe\">\n",
       "  <thead>\n",
       "    <tr style=\"text-align: right;\">\n",
       "      <th></th>\n",
       "      <th>K562</th>\n",
       "      <th>SEM</th>\n",
       "      <th>REH</th>\n",
       "      <th>NALM-6</th>\n",
       "      <th>OCI-LY7</th>\n",
       "      <th>SUDHL5</th>\n",
       "      <th>Karpas422</th>\n",
       "      <th>Pfeiffer</th>\n",
       "      <th>new_cluster</th>\n",
       "    </tr>\n",
       "  </thead>\n",
       "  <tbody>\n",
       "    <tr>\n",
       "      <th>chr15_90149125_90149801</th>\n",
       "      <td>2.226240</td>\n",
       "      <td>-0.723226</td>\n",
       "      <td>-0.111063</td>\n",
       "      <td>-0.723226</td>\n",
       "      <td>-0.723226</td>\n",
       "      <td>-0.175433</td>\n",
       "      <td>-0.723226</td>\n",
       "      <td>0.953161</td>\n",
       "      <td>1</td>\n",
       "    </tr>\n",
       "    <tr>\n",
       "      <th>chr15_90158138_90158540</th>\n",
       "      <td>1.711764</td>\n",
       "      <td>-0.455067</td>\n",
       "      <td>-1.022793</td>\n",
       "      <td>-0.111884</td>\n",
       "      <td>-1.321939</td>\n",
       "      <td>1.235056</td>\n",
       "      <td>-0.532666</td>\n",
       "      <td>0.497529</td>\n",
       "      <td>1</td>\n",
       "    </tr>\n",
       "  </tbody>\n",
       "</table>\n",
       "</div>"
      ],
      "text/plain": [
       "                             K562       SEM       REH    NALM-6   OCI-LY7  \\\n",
       "chr15_90149125_90149801  2.226240 -0.723226 -0.111063 -0.723226 -0.723226   \n",
       "chr15_90158138_90158540  1.711764 -0.455067 -1.022793 -0.111884 -1.321939   \n",
       "\n",
       "                           SUDHL5  Karpas422  Pfeiffer  new_cluster  \n",
       "chr15_90149125_90149801 -0.175433  -0.723226  0.953161            1  \n",
       "chr15_90158138_90158540  1.235056  -0.532666  0.497529            1  "
      ]
     },
     "execution_count": 25,
     "metadata": {},
     "output_type": "execute_result"
    }
   ],
   "source": [
    "custom_order = [6,\n",
    "                1, 5, 8, 7,\n",
    "                0, 2, 3, 4, 9\n",
    "                ]\n",
    "# 1-based\n",
    "cluster_map = {cluster: idx + 1 for idx, cluster in enumerate(custom_order)}\n",
    "df_cluster_sorted = df_cluster.copy()\n",
    "df_cluster_sorted['new_cluster'] = df_cluster_sorted['cluster'].map(cluster_map)\n",
    "df_cluster_sorted = df_cluster_sorted.sort_values(by=\"new_cluster\")\n",
    "df_cluster_sorted = df_cluster_sorted.drop(\"cluster\", axis=1)\n",
    "df_cluster_sorted.head(2)"
   ]
  },
  {
   "cell_type": "code",
   "execution_count": 26,
   "id": "196fa408-2cf1-47d9-9edb-92722ecb500d",
   "metadata": {
    "execution": {
     "iopub.execute_input": "2025-09-18T06:19:28.763946Z",
     "iopub.status.busy": "2025-09-18T06:19:28.763555Z",
     "iopub.status.idle": "2025-09-18T06:19:30.827893Z",
     "shell.execute_reply": "2025-09-18T06:19:30.827113Z",
     "shell.execute_reply.started": "2025-09-18T06:19:28.763918Z"
    }
   },
   "outputs": [
    {
     "data": {
      "image/png": "[encoded data removed]",
      "text/plain": [
       "<Figure size 400x300 with 2 Axes>"
      ]
     },
     "metadata": {},
     "output_type": "display_data"
    }
   ],
   "source": [
    "plot_heatmap(df_cluster_sorted[df_cluster_sorted.columns[:-1]])"
   ]
  },
  {
   "cell_type": "code",
   "execution_count": 27,
   "id": "373d031f-bd81-4ead-a094-1642fca1c7c7",
   "metadata": {
    "execution": {
     "iopub.execute_input": "2025-09-18T06:19:30.829104Z",
     "iopub.status.busy": "2025-09-18T06:19:30.828727Z",
     "iopub.status.idle": "2025-09-18T06:19:31.184315Z",
     "shell.execute_reply": "2025-09-18T06:19:31.183504Z",
     "shell.execute_reply.started": "2025-09-18T06:19:30.829078Z"
    }
   },
   "outputs": [
    {
     "data": {
      "text/plain": [
       "Counter({1: 8863,\n",
       "         2: 7304,\n",
       "         10: 6060,\n",
       "         6: 5631,\n",
       "         5: 5284,\n",
       "         4: 4770,\n",
       "         9: 4332,\n",
       "         3: 4274,\n",
       "         8: 4192,\n",
       "         7: 2972})"
      ]
     },
     "execution_count": 27,
     "metadata": {},
     "output_type": "execute_result"
    }
   ],
   "source": [
    "Counter(df_cluster_sorted[\"new_cluster\"])"
   ]
  },
  {
   "cell_type": "code",
   "execution_count": 28,
   "id": "95e0e499-7b1a-4654-ba9f-fc29b6ff13d7",
   "metadata": {
    "execution": {
     "iopub.execute_input": "2025-09-18T06:19:31.185503Z",
     "iopub.status.busy": "2025-09-18T06:19:31.185146Z",
     "iopub.status.idle": "2025-09-18T06:19:33.285342Z",
     "shell.execute_reply": "2025-09-18T06:19:33.284413Z",
     "shell.execute_reply.started": "2025-09-18T06:19:31.185478Z"
    }
   },
   "outputs": [],
   "source": [
    "outputfile = f\"{PROJECT_DIR_d}PROcap/processed/LL_modules.bed\"\n",
    "df_cluster_sorted.to_csv(outputfile, sep=\"\\t\")"
   ]
  },
  {
   "cell_type": "code",
   "execution_count": 29,
   "id": "89715b84-7329-4831-ae99-1bf2f127300b",
   "metadata": {
    "execution": {
     "iopub.execute_input": "2025-09-18T06:19:33.286610Z",
     "iopub.status.busy": "2025-09-18T06:19:33.286242Z",
     "iopub.status.idle": "2025-09-18T06:19:33.726652Z",
     "shell.execute_reply": "2025-09-18T06:19:33.725799Z",
     "shell.execute_reply.started": "2025-09-18T06:19:33.286585Z"
    }
   },
   "outputs": [],
   "source": [
    "subtypes = {}\n",
    "colors = {}\n",
    "palettes = {}\n",
    "color_vectors = {}"
   ]
  },
  {
   "cell_type": "code",
   "execution_count": 30,
   "id": "0b243ce6-1ead-484f-a211-78a2d2e1bf9b",
   "metadata": {
    "execution": {
     "iopub.execute_input": "2025-09-18T06:19:33.727885Z",
     "iopub.status.busy": "2025-09-18T06:19:33.727518Z",
     "iopub.status.idle": "2025-09-18T06:19:35.068283Z",
     "shell.execute_reply": "2025-09-18T06:19:35.067430Z",
     "shell.execute_reply.started": "2025-09-18T06:19:33.727860Z"
    }
   },
   "outputs": [
    {
     "data": {
      "image/png": "[encoded data removed]",
      "text/plain": [
       "<Figure size 300x100 with 1 Axes>"
      ]
     },
     "metadata": {},
     "output_type": "display_data"
    }
   ],
   "source": [
    "subtypes = [\"CML\", \"B-ALL\", \"GCB-DLBCL\"]\n",
    "colors = [\"#969696\", \"#fdb462\", \"#fb8072\"]\n",
    "palettes = sns.color_palette(colors)\n",
    "sns.palplot(palettes)"
   ]
  },
  {
   "cell_type": "code",
   "execution_count": 31,
   "id": "938d6c74-02e0-455d-a3b5-2ef93ac877cb",
   "metadata": {
    "execution": {
     "iopub.execute_input": "2025-09-18T06:19:35.069563Z",
     "iopub.status.busy": "2025-09-18T06:19:35.069183Z",
     "iopub.status.idle": "2025-09-18T06:19:36.342138Z",
     "shell.execute_reply": "2025-09-18T06:19:36.341146Z",
     "shell.execute_reply.started": "2025-09-18T06:19:35.069536Z"
    }
   },
   "outputs": [
    {
     "data": {
      "text/html": [
       "<div>\n",
       "<style scoped>\n",
       "    .dataframe tbody tr th:only-of-type {\n",
       "        vertical-align: middle;\n",
       "    }\n",
       "\n",
       "    .dataframe tbody tr th {\n",
       "        vertical-align: top;\n",
       "    }\n",
       "\n",
       "    .dataframe thead th {\n",
       "        text-align: right;\n",
       "    }\n",
       "</style>\n",
       "<table border=\"1\" class=\"dataframe\">\n",
       "  <thead>\n",
       "    <tr style=\"text-align: right;\">\n",
       "      <th></th>\n",
       "      <th></th>\n",
       "    </tr>\n",
       "  </thead>\n",
       "  <tbody>\n",
       "    <tr>\n",
       "      <th>K562</th>\n",
       "      <td>#969696</td>\n",
       "    </tr>\n",
       "    <tr>\n",
       "      <th>SEM</th>\n",
       "      <td>#fdb462</td>\n",
       "    </tr>\n",
       "    <tr>\n",
       "      <th>REH</th>\n",
       "      <td>#fdb462</td>\n",
       "    </tr>\n",
       "    <tr>\n",
       "      <th>NALM-6</th>\n",
       "      <td>#fdb462</td>\n",
       "    </tr>\n",
       "    <tr>\n",
       "      <th>OCI-LY7</th>\n",
       "      <td>#fb8072</td>\n",
       "    </tr>\n",
       "    <tr>\n",
       "      <th>SUDHL5</th>\n",
       "      <td>#fb8072</td>\n",
       "    </tr>\n",
       "    <tr>\n",
       "      <th>Karpas422</th>\n",
       "      <td>#fb8072</td>\n",
       "    </tr>\n",
       "    <tr>\n",
       "      <th>Pfeiffer</th>\n",
       "      <td>#fb8072</td>\n",
       "    </tr>\n",
       "  </tbody>\n",
       "</table>\n",
       "</div>"
      ],
      "text/plain": [
       "                  \n",
       "K562       #969696\n",
       "SEM        #fdb462\n",
       "REH        #fdb462\n",
       "NALM-6     #fdb462\n",
       "OCI-LY7    #fb8072\n",
       "SUDHL5     #fb8072\n",
       "Karpas422  #fb8072\n",
       "Pfeiffer   #fb8072"
      ]
     },
     "execution_count": 31,
     "metadata": {},
     "output_type": "execute_result"
    }
   ],
   "source": [
    "results = [[colors[subtypes.index(labels[s][1])]] for s in sample_order]\n",
    "df_colors = pd.DataFrame(results, index=sample_order, columns=[\"\"])\n",
    "df_colors"
   ]
  },
  {
   "cell_type": "code",
   "execution_count": 32,
   "id": "74e62a80-07c4-4844-a25e-88e6c4cf739e",
   "metadata": {
    "execution": {
     "iopub.execute_input": "2025-09-18T06:19:36.343989Z",
     "iopub.status.busy": "2025-09-18T06:19:36.343262Z",
     "iopub.status.idle": "2025-09-18T06:19:37.542538Z",
     "shell.execute_reply": "2025-09-18T06:19:37.541483Z",
     "shell.execute_reply.started": "2025-09-18T06:19:36.343949Z"
    }
   },
   "outputs": [],
   "source": [
    "cytogenetics = {\"K562\": \"BCR-ABL\",\n",
    "                # https://www.cellosaurus.org/CVCL_HE09\n",
    "                \"NALM-6\": \"IGH-DUX4\",\n",
    "                # https://www.cellosaurus.org/CVCL_1650\n",
    "                \"REH\": \"ETV6-RUNX1\",\n",
    "                # https://www.cellosaurus.org/CVCL_0095\n",
    "                \"SEM\": \"KMT2A-AFF1\",\n",
    "                # https://www.mdpi.com/1422-0067/25/4/2377\n",
    "                \"Pfeiffer\": \"BCL2-IGH\",         \n",
    "                # https://www.culturecollections.org.uk/nop/product/karpas-422\n",
    "                # https://www.biorxiv.org/content/10.1101/2023.05.02.538892v1\n",
    "                \"Karpas422\": \"BCL2-IGH; MYC 3' enhancer\",\n",
    "                # https://www.biorxiv.org/content/10.1101/2023.05.02.538892v1\n",
    "                \"SUDHL5\": \"MYC 3' enhancer\",\n",
    "                # https://www.cellosaurus.org/CVCL_1881\n",
    "                \"OCI-LY7\": \"MYC-IGH\"\n",
    "               }"
   ]
  },
  {
   "cell_type": "code",
   "execution_count": 33,
   "id": "0c990027-6cbe-4d68-8648-144f63c0f280",
   "metadata": {
    "execution": {
     "iopub.execute_input": "2025-09-18T06:19:37.544138Z",
     "iopub.status.busy": "2025-09-18T06:19:37.543652Z",
     "iopub.status.idle": "2025-09-18T06:19:39.258521Z",
     "shell.execute_reply": "2025-09-18T06:19:39.257716Z",
     "shell.execute_reply.started": "2025-09-18T06:19:37.544099Z"
    }
   },
   "outputs": [
    {
     "data": {
      "text/html": [
       "<div>\n",
       "<style scoped>\n",
       "    .dataframe tbody tr th:only-of-type {\n",
       "        vertical-align: middle;\n",
       "    }\n",
       "\n",
       "    .dataframe tbody tr th {\n",
       "        vertical-align: top;\n",
       "    }\n",
       "\n",
       "    .dataframe thead th {\n",
       "        text-align: right;\n",
       "    }\n",
       "</style>\n",
       "<table border=\"1\" class=\"dataframe\">\n",
       "  <thead>\n",
       "    <tr style=\"text-align: right;\">\n",
       "      <th></th>\n",
       "      <th>K562</th>\n",
       "      <th>SEM</th>\n",
       "      <th>REH</th>\n",
       "      <th>NALM-6</th>\n",
       "      <th>OCI-LY7</th>\n",
       "      <th>SUDHL5</th>\n",
       "      <th>Karpas422</th>\n",
       "      <th>Pfeiffer</th>\n",
       "    </tr>\n",
       "  </thead>\n",
       "  <tbody>\n",
       "    <tr>\n",
       "      <th>M1</th>\n",
       "      <td>2.314562</td>\n",
       "      <td>-0.334215</td>\n",
       "      <td>-0.370458</td>\n",
       "      <td>-0.407508</td>\n",
       "      <td>-0.365758</td>\n",
       "      <td>-0.378820</td>\n",
       "      <td>-0.277993</td>\n",
       "      <td>-0.179811</td>\n",
       "    </tr>\n",
       "    <tr>\n",
       "      <th>M2</th>\n",
       "      <td>-0.848980</td>\n",
       "      <td>0.559332</td>\n",
       "      <td>1.261321</td>\n",
       "      <td>1.270618</td>\n",
       "      <td>-0.516690</td>\n",
       "      <td>-0.573907</td>\n",
       "      <td>-0.543472</td>\n",
       "      <td>-0.608222</td>\n",
       "    </tr>\n",
       "  </tbody>\n",
       "</table>\n",
       "</div>"
      ],
      "text/plain": [
       "        K562       SEM       REH    NALM-6   OCI-LY7    SUDHL5  Karpas422  \\\n",
       "M1  2.314562 -0.334215 -0.370458 -0.407508 -0.365758 -0.378820  -0.277993   \n",
       "M2 -0.848980  0.559332  1.261321  1.270618 -0.516690 -0.573907  -0.543472   \n",
       "\n",
       "    Pfeiffer  \n",
       "M1 -0.179811  \n",
       "M2 -0.608222  "
      ]
     },
     "execution_count": 33,
     "metadata": {},
     "output_type": "execute_result"
    }
   ],
   "source": [
    "# Only show the average Z-score for each TRE module\n",
    "\n",
    "df_avg = df_cluster_sorted.groupby(\"new_cluster\").mean()\n",
    "df_avg.index = [f\"M{n}\" for n in df_avg.index]\n",
    "df_avg.head(2)"
   ]
  },
  {
   "cell_type": "code",
   "execution_count": 34,
   "id": "963e7f98-5756-4189-9b55-e44d2ea88ef1",
   "metadata": {
    "execution": {
     "iopub.execute_input": "2025-09-18T06:19:39.259884Z",
     "iopub.status.busy": "2025-09-18T06:19:39.259499Z",
     "iopub.status.idle": "2025-09-18T06:19:41.271975Z",
     "shell.execute_reply": "2025-09-18T06:19:41.270984Z",
     "shell.execute_reply.started": "2025-09-18T06:19:39.259857Z"
    }
   },
   "outputs": [
    {
     "data": {
      "image/png": "[encoded data removed]",
      "text/plain": [
       "<Figure size 420x300 with 6 Axes>"
      ]
     },
     "metadata": {},
     "output_type": "display_data"
    }
   ],
   "source": [
    "vlims = [-2,0,2]\n",
    "g = sns.clustermap(df_avg, \n",
    "                   col_colors=df_colors,\n",
    "                   yticklabels=True,\n",
    "                   xticklabels=True, \n",
    "                   row_cluster=False,\n",
    "                   col_cluster=False,\n",
    "                   linewidths=0.1,\n",
    "                   vmin=vlims[0], vmax=vlims[-1],\n",
    "                   cmap=\"viridis\", figsize=(4.2,3))\n",
    "\n",
    "axy = g.ax_col_dendrogram.axes\n",
    "with plt.rc_context({'lines.linewidth': lw}):\n",
    "    sch.dendrogram(linkage2, \n",
    "           color_threshold=0, \n",
    "           ax=axy,\n",
    "           orientation='top',\n",
    "           link_color_func=lambda x: 'k'\n",
    "          )\n",
    "axy.invert_xaxis()\n",
    "\n",
    "for label in subtypes:\n",
    "    i = subtypes.index(label)\n",
    "    g.ax_col_dendrogram.bar(0, 0, color=palettes[i],\n",
    "                            label=label, \n",
    "                            linewidth=0)\n",
    "g.ax_col_dendrogram.legend(fontsize=sfontsize, ncol=3, frameon=False,\n",
    "                           loc=\"upper center\", bbox_to_anchor=(0.5,1.7))\n",
    "\n",
    "g.ax_heatmap.set_xticklabels([f\"{labels[s][0]} ({cytogenetics[s]})\" for s in df_avg.columns])\n",
    "for label in g.ax_heatmap.get_xticklabels():\n",
    "    label.set_rotation(30)\n",
    "    label.set_ha(\"right\")\n",
    "\n",
    "g.ax_heatmap.yaxis.tick_left()\n",
    "g.ax_heatmap.set_ylabel(\"TRE modules\", fontsize=bfontsize, labelpad=10)\n",
    "g.ax_heatmap.yaxis.set_label_position(\"left\")\n",
    "line_x = -0.15\n",
    "g.ax_heatmap.plot([line_x, line_x], [0, 1], transform=g.ax_heatmap.transAxes, color='black', clip_on=False, lw=lw)\n",
    "for label in g.ax_heatmap.get_yticklabels():\n",
    "    label.set_rotation(0)\n",
    "\n",
    "g.tick_params(labelsize=sfontsize)\n",
    "\n",
    "g.cax.set_visible(False)\n",
    "cbar_ax = g.fig.add_axes([0.9, 0.4, 0.03, 0.3])\n",
    "cbar = plt.colorbar(g.ax_heatmap.collections[0], cax=cbar_ax)\n",
    "cbar.set_ticks(vlims)\n",
    "cbar.set_ticklabels(vlims)\n",
    "cbar.ax.tick_params(labelsize=sfontsize) \n",
    "cbar.set_label(\"Average Z-score\", fontsize=bfontsize)\n",
    "\n",
    "plt.savefig(f\"{PROJECT_DIR_o}figures/Fig6a.pdf\", bbox_inches=\"tight\", transparent=True)"
   ]
  },
  {
   "cell_type": "markdown",
   "id": "b93ca28f-927a-4cf3-a18c-3e59a84f2f2f",
   "metadata": {},
   "source": [
    "# Motif enrichment"
   ]
  },
  {
   "cell_type": "markdown",
   "id": "23e8550f-ccbb-411c-b094-a22d239a191f",
   "metadata": {},
   "source": [
    "## De novo motif discovery"
   ]
  },
  {
   "cell_type": "code",
   "execution_count": 35,
   "id": "ac9689b2-7ae8-4519-aadd-913d2ebd1f66",
   "metadata": {
    "execution": {
     "iopub.execute_input": "2025-09-18T06:19:51.443589Z",
     "iopub.status.busy": "2025-09-18T06:19:51.442976Z",
     "iopub.status.idle": "2025-09-18T06:19:51.668547Z",
     "shell.execute_reply": "2025-09-18T06:19:51.667293Z",
     "shell.execute_reply.started": "2025-09-18T06:19:51.443532Z"
    }
   },
   "outputs": [],
   "source": [
    "# Use all divergent distal elements as background\n",
    "\n",
    "outputfile = f\"{PROJECT_DIR_o}homer/LL/bg.bed\"\n",
    "utils.generate_homer_input(es, outputfile)"
   ]
  },
  {
   "cell_type": "code",
   "execution_count": 36,
   "id": "700b7475-96d5-4779-8105-dc1068ef818f",
   "metadata": {
    "execution": {
     "iopub.execute_input": "2025-09-18T06:19:52.094793Z",
     "iopub.status.busy": "2025-09-18T06:19:52.094319Z",
     "iopub.status.idle": "2025-09-18T06:19:52.796382Z",
     "shell.execute_reply": "2025-09-18T06:19:52.795453Z",
     "shell.execute_reply.started": "2025-09-18T06:19:52.094755Z"
    }
   },
   "outputs": [],
   "source": [
    "n_clusters = len(set(df_cluster_sorted[\"new_cluster\"]))"
   ]
  },
  {
   "cell_type": "code",
   "execution_count": 37,
   "id": "979a51f7-16d8-4be4-bea4-c33f81ce0e13",
   "metadata": {
    "execution": {
     "iopub.execute_input": "2025-09-18T06:19:53.138776Z",
     "iopub.status.busy": "2025-09-18T06:19:53.138297Z",
     "iopub.status.idle": "2025-09-18T06:19:54.044562Z",
     "shell.execute_reply": "2025-09-18T06:19:54.043689Z",
     "shell.execute_reply.started": "2025-09-18T06:19:53.138734Z"
    }
   },
   "outputs": [],
   "source": [
    "for m in range(1,n_clusters+1):\n",
    "    outputfile = f\"{PROJECT_DIR_o}homer/LL/M{m}.bed\"\n",
    "    utils.generate_homer_input(list(df_cluster_sorted[df_cluster_sorted[\"new_cluster\"]==m].index), outputfile)"
   ]
  },
  {
   "cell_type": "code",
   "execution_count": 38,
   "id": "b7e2fb11-3ff0-4afa-b25e-ada2c5b8814e",
   "metadata": {
    "execution": {
     "iopub.execute_input": "2025-09-18T06:19:54.348520Z",
     "iopub.status.busy": "2025-09-18T06:19:54.348052Z",
     "iopub.status.idle": "2025-09-18T06:19:55.043241Z",
     "shell.execute_reply": "2025-09-18T06:19:55.042379Z",
     "shell.execute_reply.started": "2025-09-18T06:19:54.348491Z"
    }
   },
   "outputs": [],
   "source": [
    "ms = [f\"M{n}\" for n in range(1,n_clusters+1)]"
   ]
  },
  {
   "cell_type": "code",
   "execution_count": 46,
   "id": "ef099e30-b244-4e85-93b5-3bd808355666",
   "metadata": {
    "execution": {
     "iopub.execute_input": "2025-06-30T00:24:26.174584Z",
     "iopub.status.busy": "2025-06-30T00:24:26.173843Z",
     "iopub.status.idle": "2025-06-30T00:24:26.264939Z",
     "shell.execute_reply": "2025-06-30T00:24:26.262389Z",
     "shell.execute_reply.started": "2025-06-30T00:24:26.174543Z"
    },
    "scrolled": true
   },
   "outputs": [
    {
     "name": "stderr",
     "output_type": "stream",
     "text": [
      "\n",
      "\tPosition file = /fs/cbsuhy02/storage/yc2553/yc2553/projects/3.Human_atlas/output/homer/LL_M2.bed\n",
      "\tGenome = hg38\n",
      "\tOutput Directory = /fs/cbsuhy02/storage/yc2553/yc2553/projects/3.Human_atlas/output/homer/LL_M2\n",
      "\tUsing actual sizes of regions (-size given)\n",
      "\tFragment size set to given\n",
      "\tbackground position file: /fs/cbsuhy02/storage/yc2553/yc2553/projects/3.Human_atlas/output/homer/LL_bg.bed\n",
      "\tFound mset for \"human\", will check against vertebrates motifs\n",
      "\n",
      "\tPosition file = /fs/cbsuhy02/storage/yc2553/yc2553/projects/3.Human_atlas/output/homer/LL_M4.bed\n",
      "\tGenome = hg38\n",
      "\tOutput Directory = /fs/cbsuhy02/storage/yc2553/yc2553/projects/3.Human_atlas/output/homer/LL_M4\n",
      "\tUsing actual sizes of regions (-size given)\n",
      "\tFragment size set to given\n",
      "\tbackground position file: /fs/cbsuhy02/storage/yc2553/yc2553/projects/3.Human_atlas/output/homer/LL_bg.bed\n",
      "\tFound mset for \"human\", will check against vertebrates motifs\n"
     ]
    }
   ],
   "source": [
    "pwpool = ProcessWrapPool(len(ms))\n",
    "\n",
    "bg = f\"{PROJECT_DIR_o}homer/LL_bg.bed\"\n",
    "for m in ms:\n",
    "\ttarget = f\"{PROJECT_DIR_o}homer/LL/{m}.bed\"\n",
    "\toutdir = f\"{PROJECT_DIR_o}homer/LL/{m}\"\n",
    "\tpwpool.run(utils.run_homer, args=[PROJECT_DIR_s, target, bg, outdir])"
   ]
  },
  {
   "cell_type": "code",
   "execution_count": 54,
   "id": "9502f98e-604f-4958-9cb5-db89d7d2ef5b",
   "metadata": {
    "execution": {
     "iopub.execute_input": "2025-09-18T19:32:20.877421Z",
     "iopub.status.busy": "2025-09-18T19:32:20.876828Z",
     "iopub.status.idle": "2025-09-18T19:32:20.881629Z",
     "shell.execute_reply": "2025-09-18T19:32:20.880734Z",
     "shell.execute_reply.started": "2025-09-18T19:32:20.877381Z"
    },
    "scrolled": true
   },
   "outputs": [],
   "source": [
    "# len(pwpool.finished_tasks)"
   ]
  },
  {
   "cell_type": "code",
   "execution_count": 55,
   "id": "b917150c-26c1-4268-8be1-d40464746192",
   "metadata": {
    "execution": {
     "iopub.execute_input": "2025-06-28T21:34:27.675156Z",
     "iopub.status.busy": "2025-06-28T21:34:27.674914Z",
     "iopub.status.idle": "2025-06-28T21:34:27.677532Z",
     "shell.execute_reply": "2025-06-28T21:34:27.677118Z",
     "shell.execute_reply.started": "2025-06-28T21:34:27.675138Z"
    }
   },
   "outputs": [],
   "source": [
    "pwpool.close()"
   ]
  },
  {
   "cell_type": "code",
   "execution_count": 15,
   "id": "68cd27e2-27c9-41bf-bbc8-53bf65a8a3f2",
   "metadata": {
    "execution": {
     "iopub.execute_input": "2025-07-08T16:42:59.454179Z",
     "iopub.status.busy": "2025-07-08T16:42:59.453916Z",
     "iopub.status.idle": "2025-07-08T16:42:59.763648Z",
     "shell.execute_reply": "2025-07-08T16:42:59.762816Z",
     "shell.execute_reply.started": "2025-07-08T16:42:59.454153Z"
    },
    "scrolled": true
   },
   "outputs": [],
   "source": [
    "# Write the content of all motifs in \"homerResults.html\"\n",
    "\n",
    "outputfile = f\"{PROJECT_DIR_o}supp_tables/SuppTable3.xlsx\"\n",
    "book = load_workbook(outputfile)\n",
    "with pd.ExcelWriter(outputfile, engine='openpyxl', mode='a', if_sheet_exists='replace') as f:\n",
    "\tfor m in ms:\n",
    "\t\thtml = f\"{PROJECT_DIR_o}homer/LL/{m}/homerResults.html\"\n",
    "\t\tdf = pd.read_html(html, header=0)[0]\n",
    "\t\tcolumns_keep = [c for c in df.columns if c not in [\"Motif\", \"Motif File\"]]\n",
    "\t\tdf = df[columns_keep]\n",
    "\t\tdf = df[~df[\"Rank\"].astype(str).str.contains(r\"\\*\", na=False)]\n",
    "\t\tdf.to_excel(f, sheet_name=f\"LL-{m}\", index=False)"
   ]
  },
  {
   "cell_type": "markdown",
   "id": "c4ffd63f-46c6-4463-aedf-3fee7bb50153",
   "metadata": {},
   "source": [
    "## Custom motif enrichment"
   ]
  },
  {
   "cell_type": "code",
   "execution_count": 39,
   "id": "f8d87a49-633b-41d2-bb56-99b992427e57",
   "metadata": {
    "execution": {
     "iopub.execute_input": "2025-09-18T06:23:55.001860Z",
     "iopub.status.busy": "2025-09-18T06:23:55.001230Z",
     "iopub.status.idle": "2025-09-18T06:23:55.007952Z",
     "shell.execute_reply": "2025-09-18T06:23:55.007033Z",
     "shell.execute_reply.started": "2025-09-18T06:23:55.001816Z"
    }
   },
   "outputs": [],
   "source": [
    "# Combine biologically relevant motifs in each module as custom-known motif file for motif enrichment\n",
    "# SNAI1 (ZF, mostly not expressed in DLBCL); ZEB1 (same motif and pattern)\n",
    "# SUDHL5 is one of the DLBCL cell lines with the lowest NF-kB gene activation signatures; Pfeiffer is very high.\n",
    "\n",
    "motifs_keep = { # K562\n",
    "                \"M1\": ['1-BCTTATCTSN,BestGuess:Gata6(Zf)/HUG1N-GATA6-ChIP-Seq(GSE51936)/Homer(0.983)'],\n",
    "                # B-ALL\n",
    "                \"M2\": ['3-TCCCCHGGGG,BestGuess:EBF1(EBF)/Near-E2A-ChIP-Seq(GSE21512)/Homer(0.927)'], \n",
    "                # SEM\n",
    "                \"M3\": ['1-ATGTGGTT,BestGuess:RUNX2(Runt)/PCa-RUNX2-ChIP-Seq(GSE33889)/Homer(0.951)'],\n",
    "                # REH\n",
    "                \"M4\": ['1-AAGGAAGGAAGG,BestGuess:EWSR1-FLI1/MA0149.1/Jaspar(0.825)'],\n",
    "                # NALM-6\n",
    "                \"M5\": ['1-NTAAYYYAATCA,BestGuess:DUX4/MA0468.1/Jaspar(0.967)'],\n",
    "                # GCB-DLBCL & SUDHL5 & KARPAS-422\n",
    "                \"M6\": ['1-WTATGCAAATNW,BestGuess:POU2F3/MA0627.3/Jaspar(0.969)'],\n",
    "                # Pfeiffer\n",
    "                \"M10\": ['2-KGGAAWTTCC,BestGuess:RELA/MA0107.1/Jaspar(0.927)',\n",
    "                        '1-CACACCTG,BestGuess:ZEB2(Zf)/SNU398-ZEB2-ChIP-Seq(GSE103048)/Homer(0.951)']\n",
    "                }"
   ]
  },
  {
   "cell_type": "code",
   "execution_count": 40,
   "id": "bd6ca695-061d-4ea5-a2b4-7a521910893a",
   "metadata": {
    "execution": {
     "iopub.execute_input": "2025-09-18T06:23:58.121101Z",
     "iopub.status.busy": "2025-09-18T06:23:58.120489Z",
     "iopub.status.idle": "2025-09-18T06:23:58.127449Z",
     "shell.execute_reply": "2025-09-18T06:23:58.126621Z",
     "shell.execute_reply.started": "2025-09-18T06:23:58.121057Z"
    }
   },
   "outputs": [],
   "source": [
    "def extract_motif_by_annotation(inputfile, motif):\n",
    "    motif_lines = []\n",
    "    with open(inputfile, 'r') as f:\n",
    "        found = False\n",
    "        for line in f:\n",
    "            if line.startswith('>'):\n",
    "                if motif in line:\n",
    "                    found = True\n",
    "                    motif_lines = [line.rstrip()]\n",
    "                else:\n",
    "                    if found:\n",
    "                        break\n",
    "            elif found:\n",
    "                motif_lines.append(line.rstrip())\n",
    "    return motif_lines"
   ]
  },
  {
   "cell_type": "code",
   "execution_count": 41,
   "id": "d3d4e13d-7dd2-4e92-b05f-c5561d25b1bc",
   "metadata": {
    "execution": {
     "iopub.execute_input": "2025-09-18T06:24:00.087414Z",
     "iopub.status.busy": "2025-09-18T06:24:00.086242Z",
     "iopub.status.idle": "2025-09-18T06:24:00.405155Z",
     "shell.execute_reply": "2025-09-18T06:24:00.404210Z",
     "shell.execute_reply.started": "2025-09-18T06:24:00.087342Z"
    }
   },
   "outputs": [],
   "source": [
    "lines_keep = []\n",
    "for m in motifs_keep:\n",
    "    for motif in motifs_keep[m]:\n",
    "        inputfile = f\"{PROJECT_DIR_o}homer/LL/{m}/nonRedundant.motifs\"\n",
    "        lines_keep.extend(extract_motif_by_annotation(inputfile, motif))"
   ]
  },
  {
   "cell_type": "code",
   "execution_count": 42,
   "id": "97d9c54b-e843-42f2-9f49-734f57a02fd6",
   "metadata": {
    "execution": {
     "iopub.execute_input": "2025-09-18T06:24:02.859887Z",
     "iopub.status.busy": "2025-09-18T06:24:02.859378Z",
     "iopub.status.idle": "2025-09-18T06:24:02.879022Z",
     "shell.execute_reply": "2025-09-18T06:24:02.878283Z",
     "shell.execute_reply.started": "2025-09-18T06:24:02.859856Z"
    }
   },
   "outputs": [],
   "source": [
    "outputfile = f\"{PROJECT_DIR_o}homer/LL/top.motifs\"\n",
    "with open(outputfile, \"w\") as f:\n",
    "    for line in lines_keep:\n",
    "        f.write(f\"{line}\\n\")"
   ]
  },
  {
   "cell_type": "code",
   "execution_count": 1,
   "id": "acd689a0-8b67-4586-a517-a1880d3c9f8e",
   "metadata": {
    "execution": {
     "iopub.execute_input": "2025-06-29T15:47:17.764012Z",
     "iopub.status.busy": "2025-06-29T15:47:17.763679Z",
     "iopub.status.idle": "2025-06-29T15:47:17.766188Z",
     "shell.execute_reply": "2025-06-29T15:47:17.765782Z",
     "shell.execute_reply.started": "2025-06-29T15:47:17.763991Z"
    },
    "scrolled": true
   },
   "outputs": [],
   "source": [
    "pwpool = ProcessWrapPool(len(ms))\n",
    "\n",
    "motif_file = f\"{PROJECT_DIR_o}homer/LL_TRE_modules.motifs\"\n",
    "denovo = False\n",
    "for m in ms:\n",
    "\ttarget = f\"{PROJECT_DIR_o}homer/LL_{m}.bed\"\n",
    "\toutdir = f\"{PROJECT_DIR_o}homer/LL_{m}_top\"\n",
    "\tpwpool.run(utils.run_homer, args=[PROJECT_DIR_s, target, bg, outdir, motif_file, denovo])"
   ]
  },
  {
   "cell_type": "code",
   "execution_count": 53,
   "id": "228bd3d4-038e-4087-8983-cafedb492bf2",
   "metadata": {
    "execution": {
     "iopub.execute_input": "2025-09-18T19:31:03.095576Z",
     "iopub.status.busy": "2025-09-18T19:31:03.094966Z",
     "iopub.status.idle": "2025-09-18T19:31:03.100491Z",
     "shell.execute_reply": "2025-09-18T19:31:03.099573Z",
     "shell.execute_reply.started": "2025-09-18T19:31:03.095532Z"
    },
    "scrolled": true
   },
   "outputs": [],
   "source": [
    "# len(pwpool.finished_tasks)"
   ]
  },
  {
   "cell_type": "code",
   "execution_count": 85,
   "id": "c10eef36-6eec-46d6-9891-6ec89ebe77c3",
   "metadata": {
    "execution": {
     "iopub.execute_input": "2025-06-28T22:45:35.357951Z",
     "iopub.status.busy": "2025-06-28T22:45:35.357684Z",
     "iopub.status.idle": "2025-06-28T22:45:35.360480Z",
     "shell.execute_reply": "2025-06-28T22:45:35.360054Z",
     "shell.execute_reply.started": "2025-06-28T22:45:35.357933Z"
    }
   },
   "outputs": [],
   "source": [
    "pwpool.close()"
   ]
  },
  {
   "cell_type": "markdown",
   "id": "881f8972-b8a5-4117-901d-c804663e2a30",
   "metadata": {},
   "source": [
    "## Heatmap"
   ]
  },
  {
   "cell_type": "code",
   "execution_count": 43,
   "id": "3b15de5e-ede5-4743-af76-2765b6d08c9c",
   "metadata": {
    "execution": {
     "iopub.execute_input": "2025-09-18T06:24:04.299412Z",
     "iopub.status.busy": "2025-09-18T06:24:04.298921Z",
     "iopub.status.idle": "2025-09-18T06:24:04.303677Z",
     "shell.execute_reply": "2025-09-18T06:24:04.302823Z",
     "shell.execute_reply.started": "2025-09-18T06:24:04.299382Z"
    }
   },
   "outputs": [],
   "source": [
    "ms2 = [m for m in ms if m not in [\"M2\", \"M6\"]]"
   ]
  },
  {
   "cell_type": "code",
   "execution_count": 45,
   "id": "2cef7507-2e91-441f-b5e0-7ea4ec0e2e96",
   "metadata": {
    "execution": {
     "iopub.execute_input": "2025-09-18T06:24:36.925307Z",
     "iopub.status.busy": "2025-09-18T06:24:36.924700Z",
     "iopub.status.idle": "2025-09-18T06:24:37.023312Z",
     "shell.execute_reply": "2025-09-18T06:24:37.022433Z",
     "shell.execute_reply.started": "2025-09-18T06:24:36.925264Z"
    }
   },
   "outputs": [
    {
     "data": {
      "text/html": [
       "<div>\n",
       "<style scoped>\n",
       "    .dataframe tbody tr th:only-of-type {\n",
       "        vertical-align: middle;\n",
       "    }\n",
       "\n",
       "    .dataframe tbody tr th {\n",
       "        vertical-align: top;\n",
       "    }\n",
       "\n",
       "    .dataframe thead th {\n",
       "        text-align: right;\n",
       "    }\n",
       "</style>\n",
       "<table border=\"1\" class=\"dataframe\">\n",
       "  <thead>\n",
       "    <tr style=\"text-align: right;\">\n",
       "      <th></th>\n",
       "      <th>1-BCTTATCTSN,BestGuess:Gata6(Zf)/HUG1N-GATA6-ChIP-Seq(GSE51936)/Homer(0.983)</th>\n",
       "      <th>3-TCCCCHGGGG,BestGuess:EBF1(EBF)/Near-E2A-ChIP-Seq(GSE21512)/Homer(0.927)</th>\n",
       "      <th>1-ATGTGGTT,BestGuess:RUNX2(Runt)/PCa-RUNX2-ChIP-Seq(GSE33889)/Homer(0.951)</th>\n",
       "      <th>1-AAGGAAGGAAGG,BestGuess:EWSR1-FLI1/MA0149.1/Jaspar(0.825)</th>\n",
       "      <th>1-NTAAYYYAATCA,BestGuess:DUX4/MA0468.1/Jaspar(0.967)</th>\n",
       "      <th>1-WTATGCAAATNW,BestGuess:POU2F3/MA0627.3/Jaspar(0.969)</th>\n",
       "      <th>2-KGGAAWTTCC,BestGuess:RELA/MA0107.1/Jaspar(0.927)</th>\n",
       "      <th>1-CACACCTG,BestGuess:ZEB2(Zf)/SNU398-ZEB2-ChIP-Seq(GSE103048)/Homer(0.951)</th>\n",
       "    </tr>\n",
       "  </thead>\n",
       "  <tbody>\n",
       "    <tr>\n",
       "      <th>M1 (K562)</th>\n",
       "      <td>0.0</td>\n",
       "      <td>1.000000e+00</td>\n",
       "      <td>1.000000e+00</td>\n",
       "      <td>1.0</td>\n",
       "      <td>1.0</td>\n",
       "      <td>1.0</td>\n",
       "      <td>1.0</td>\n",
       "      <td>1.0</td>\n",
       "    </tr>\n",
       "    <tr>\n",
       "      <th>M2</th>\n",
       "      <td>1.0</td>\n",
       "      <td>1.000000e-62</td>\n",
       "      <td>1.000000e-38</td>\n",
       "      <td>1.0</td>\n",
       "      <td>1.0</td>\n",
       "      <td>1.0</td>\n",
       "      <td>1.0</td>\n",
       "      <td>1.0</td>\n",
       "    </tr>\n",
       "  </tbody>\n",
       "</table>\n",
       "</div>"
      ],
      "text/plain": [
       "           1-BCTTATCTSN,BestGuess:Gata6(Zf)/HUG1N-GATA6-ChIP-Seq(GSE51936)/Homer(0.983)  \\\n",
       "M1 (K562)                                                0.0                              \n",
       "M2                                                       1.0                              \n",
       "\n",
       "           3-TCCCCHGGGG,BestGuess:EBF1(EBF)/Near-E2A-ChIP-Seq(GSE21512)/Homer(0.927)  \\\n",
       "M1 (K562)                                       1.000000e+00                           \n",
       "M2                                              1.000000e-62                           \n",
       "\n",
       "           1-ATGTGGTT,BestGuess:RUNX2(Runt)/PCa-RUNX2-ChIP-Seq(GSE33889)/Homer(0.951)  \\\n",
       "M1 (K562)                                       1.000000e+00                            \n",
       "M2                                              1.000000e-38                            \n",
       "\n",
       "           1-AAGGAAGGAAGG,BestGuess:EWSR1-FLI1/MA0149.1/Jaspar(0.825)  \\\n",
       "M1 (K562)                                                1.0            \n",
       "M2                                                       1.0            \n",
       "\n",
       "           1-NTAAYYYAATCA,BestGuess:DUX4/MA0468.1/Jaspar(0.967)  \\\n",
       "M1 (K562)                                                1.0      \n",
       "M2                                                       1.0      \n",
       "\n",
       "           1-WTATGCAAATNW,BestGuess:POU2F3/MA0627.3/Jaspar(0.969)  \\\n",
       "M1 (K562)                                                1.0        \n",
       "M2                                                       1.0        \n",
       "\n",
       "           2-KGGAAWTTCC,BestGuess:RELA/MA0107.1/Jaspar(0.927)  \\\n",
       "M1 (K562)                                                1.0    \n",
       "M2                                                       1.0    \n",
       "\n",
       "           1-CACACCTG,BestGuess:ZEB2(Zf)/SNU398-ZEB2-ChIP-Seq(GSE103048)/Homer(0.951)  \n",
       "M1 (K562)                                                1.0                           \n",
       "M2                                                       1.0                           "
      ]
     },
     "execution_count": 45,
     "metadata": {},
     "output_type": "execute_result"
    }
   ],
   "source": [
    "# Get one combined dataframe\n",
    "# row: sample\n",
    "# column: all motifs\n",
    "\n",
    "results = []\n",
    "index = []\n",
    "motifs = [motif for m in motifs_keep for motif in motifs_keep[m]]\n",
    "for m in ms:\n",
    "    df = pd.read_table(f\"{PROJECT_DIR_o}homer/LL/{m}_top/knownResults.txt\")\n",
    "    df[\"Motif Name\"] = pd.Categorical(df[\"Motif Name\"], categories=motifs, ordered=True)\n",
    "    df = df.sort_values(\"Motif Name\")\n",
    "    results.append([pvalue for pvalue in list(df[\"P-value\"])])\n",
    "    if m not in [\"M2\", \"M6\"]:\n",
    "        index.append(f\"{m} ({sample_order[ms2.index(m)]})\")\n",
    "    else:\n",
    "        index.append(m)\n",
    "\n",
    "df_pvalues = pd.DataFrame(results, columns=motifs, index=index)\n",
    "df_pvalues.head(2)"
   ]
  },
  {
   "cell_type": "code",
   "execution_count": 46,
   "id": "230360ae-7833-43e3-8c33-e30e02015300",
   "metadata": {
    "execution": {
     "iopub.execute_input": "2025-09-18T06:24:44.139421Z",
     "iopub.status.busy": "2025-09-18T06:24:44.138808Z",
     "iopub.status.idle": "2025-09-18T06:24:44.148911Z",
     "shell.execute_reply": "2025-09-18T06:24:44.148057Z",
     "shell.execute_reply.started": "2025-09-18T06:24:44.139379Z"
    }
   },
   "outputs": [],
   "source": [
    "# FDR correction\n",
    "\n",
    "min_nonzero = 1e-300\n",
    "df_pvalues_float = df_pvalues.clip(lower=min_nonzero)\n",
    "flat_pvals = df_pvalues_float.values.flatten()\n",
    "_, fdr_corrected, _, _ = multipletests(flat_pvals, method='fdr_bh')\n",
    "df_fdr = pd.DataFrame(\n",
    "                    fdr_corrected.reshape(df_pvalues.shape),\n",
    "                    index=df_pvalues.index,\n",
    "                    columns=df_pvalues.columns\n",
    "                    )\n",
    "df_log_fdr = -np.log10(df_fdr)"
   ]
  },
  {
   "cell_type": "code",
   "execution_count": 47,
   "id": "1772a495-138a-4096-af09-dea4ac5730d7",
   "metadata": {
    "execution": {
     "iopub.execute_input": "2025-09-18T06:24:45.489419Z",
     "iopub.status.busy": "2025-09-18T06:24:45.488806Z",
     "iopub.status.idle": "2025-09-18T06:24:52.413395Z",
     "shell.execute_reply": "2025-09-18T06:24:52.412326Z",
     "shell.execute_reply.started": "2025-09-18T06:24:45.489374Z"
    }
   },
   "outputs": [],
   "source": [
    "new_names = []\n",
    "for t in df_pvalues.columns:\n",
    "    if \"EWSR1-FLI1\" in t:\n",
    "        name = \"(GGAA)n\"\n",
    "    elif \"DUX4\" in t:\n",
    "        name = \"DUX4\"\n",
    "    elif \"ZEB\" in t:\n",
    "        name = \"ZEB1\"\n",
    "    else:\n",
    "        name = t.split(\":\")[1].split(\"/\")[0].split(\"(\")[0]\n",
    "        if name in [\"Gata6\", \"RUNX2\", \"POU2F3\"]:\n",
    "            name = name[:-1].upper()\n",
    "    new_names.append(name)\n",
    "df_log_fdr.columns = new_names"
   ]
  },
  {
   "cell_type": "code",
   "execution_count": 48,
   "id": "d6dc6a15-af19-4865-a579-ef59842a694b",
   "metadata": {
    "execution": {
     "iopub.execute_input": "2025-09-18T06:24:52.415489Z",
     "iopub.status.busy": "2025-09-18T06:24:52.415009Z",
     "iopub.status.idle": "2025-09-18T06:24:53.841505Z",
     "shell.execute_reply": "2025-09-18T06:24:53.840441Z",
     "shell.execute_reply.started": "2025-09-18T06:24:52.415448Z"
    }
   },
   "outputs": [],
   "source": [
    "motif_order = [\"GATA\", \"EBF1\", \"RUNX\", \"(GGAA)n\", \"DUX4\", \"ZEB1\", \"POU2F\", \"RELA\"]\n",
    "df_log_fdr = df_log_fdr[motif_order]"
   ]
  },
  {
   "cell_type": "code",
   "execution_count": 49,
   "id": "75e96157-1c05-48bc-9023-50cf1f4cbe30",
   "metadata": {
    "execution": {
     "iopub.execute_input": "2025-09-18T06:24:53.843160Z",
     "iopub.status.busy": "2025-09-18T06:24:53.842652Z",
     "iopub.status.idle": "2025-09-18T06:24:55.064418Z",
     "shell.execute_reply": "2025-09-18T06:24:55.063356Z",
     "shell.execute_reply.started": "2025-09-18T06:24:53.843119Z"
    }
   },
   "outputs": [],
   "source": [
    "df_mask = df_log_fdr > -np.log10(0.05)\n",
    "df_annot = df_mask.astype(str).replace({'True': '*', 'False': ''})"
   ]
  },
  {
   "cell_type": "code",
   "execution_count": 55,
   "id": "0425ee57-9228-4f12-87b1-b52328ce3529",
   "metadata": {
    "execution": {
     "iopub.execute_input": "2025-09-19T00:18:31.254163Z",
     "iopub.status.busy": "2025-09-19T00:18:31.253509Z",
     "iopub.status.idle": "2025-09-19T00:18:31.893443Z",
     "shell.execute_reply": "2025-09-19T00:18:31.892571Z",
     "shell.execute_reply.started": "2025-09-19T00:18:31.254118Z"
    }
   },
   "outputs": [
    {
     "data": {
      "image/png": "[encoded data removed]",
      "text/plain": [
       "<Figure size 350x220 with 2 Axes>"
      ]
     },
     "metadata": {},
     "output_type": "display_data"
    }
   ],
   "source": [
    "fig, ax = plt.subplots(figsize=(3.5,2.2))\n",
    "vlims = [0,5,10]\n",
    "g = sns.heatmap(df_log_fdr, vmin=vlims[0], vmax=vlims[-1], linewidths=0.2,\n",
    "               annot=df_annot, annot_kws={\"size\": bfontsize}, fmt=\"s\",\n",
    "               cmap=\"viridis\", ax=ax)\n",
    "for text in g.texts:\n",
    "    x, y = text.get_position()\n",
    "    text.set_position((x, y + 0.2))\n",
    "\n",
    "# for ticklabel in g.get_yticklabels():\n",
    "#     ticklabel.set_color('white')\n",
    "# yticklabels = g.get_yticklabels()\n",
    "# yticks = g.get_yticks()\n",
    "# for n in range(len(yticks)):\n",
    "#   match = re.match(r'([^\\(]+) \\(([^\\)]+)\\)', yticklabels[n].get_text())\n",
    "#   module = match.group(1).strip()\n",
    "#   sample = match.group(2).strip()\n",
    "#   ls = [module, \" (\", labels[sample][0], \")\"]\n",
    "#   lc = [\"black\", \"black\", colors[subtypes.index(labels[sample][1])], \"black\"]\n",
    "#   utils.rainbow_text(x=-0.3, y=yticks[n], ls=ls, lc=lc, ax=ax,\n",
    "#                   va=\"center\", fontsize=bfontsize)\n",
    "\n",
    "yticklabels_new = []\n",
    "ytick_colors = []\n",
    "for label in g.get_yticklabels():\n",
    "    if label.get_text() in [\"M2\", \"M6\"]:\n",
    "        yticklabels_new.append(label.get_text())\n",
    "        color = colors[1] if label.get_text() == \"M2\" else colors[2]\n",
    "        ytick_colors.append(color)\n",
    "    else:\n",
    "        match = re.match(r'([^\\(]+) \\(([^\\)]+)\\)', label.get_text())\n",
    "        module = match.group(1).strip()\n",
    "        s = match.group(2).strip()\n",
    "        s2 = labels[s][0]\n",
    "        yticklabels_new.append(f\"{module} ({s2})\")\n",
    "        ytick_colors.append(colors[subtypes.index(labels[s][1])])\n",
    "g.set_yticklabels(yticklabels_new, fontsize=sfontsize)\n",
    "for lbl, c in zip(g.get_yticklabels(), ytick_colors):\n",
    "    lbl.set_color(c)\n",
    "\n",
    "g.tick_params(axis=\"x\", labelsize=sfontsize, rotation=30)\n",
    "for label in g.get_xticklabels():\n",
    "    label.set_ha(\"right\")\n",
    "line_y = -0.3\n",
    "g.plot([0, 1], [line_y, line_y], transform=g.transAxes, color='black', clip_on=False)\n",
    "ax.set_xlabel(\"TF motifs\", fontsize=bfontsize, labelpad=10)\n",
    "\n",
    "g.collections[0].colorbar.remove()\n",
    "cbar_ax = fig.add_axes([-0.2, 0, 0.2, 0.05])\n",
    "cbar = plt.colorbar(g.collections[0], cax=cbar_ax, orientation=\"horizontal\")\n",
    "cbar.set_ticks(vlims)\n",
    "cbar.set_ticklabels(vlims)\n",
    "cbar.ax.tick_params(labelsize=sfontsize) \n",
    "cbar.set_label(\"-log$_{10}$FDR\", fontsize=sfontsize)\n",
    "\n",
    "plt.savefig(f\"{PROJECT_DIR_o}figures/ExtDataFig9a.pdf\", bbox_inches=\"tight\", transparent=True)"
   ]
  },
  {
   "cell_type": "code",
   "execution_count": null,
   "id": "642e3081-98e5-47bd-8e81-be6c5beea42a",
   "metadata": {},
   "outputs": [],
   "source": []
  }
 ],
 "metadata": {
  "kernelspec": {
   "display_name": "Python 3 (ipykernel)",
   "language": "python",
   "name": "python3"
  },
  "language_info": {
   "codemirror_mode": {
    "name": "ipython",
    "version": 3
   },
   "file_extension": ".py",
   "mimetype": "text/x-python",
   "name": "python",
   "nbconvert_exporter": "python",
   "pygments_lexer": "ipython3",
   "version": "3.10.8"
  }
 },
 "nbformat": 4,
 "nbformat_minor": 5
}
