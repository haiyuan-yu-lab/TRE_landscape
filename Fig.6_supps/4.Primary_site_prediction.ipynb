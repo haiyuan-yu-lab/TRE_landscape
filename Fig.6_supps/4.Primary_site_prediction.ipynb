{
 "cells": [
  {
   "cell_type": "code",
   "execution_count": 20,
   "id": "81707ec2-03a1-4a61-97b7-f56e1cb51060",
   "metadata": {
    "editable": true,
    "execution": {
     "iopub.execute_input": "2025-09-21T00:49:31.551369Z",
     "iopub.status.busy": "2025-09-21T00:49:31.550443Z",
     "iopub.status.idle": "2025-09-21T00:49:31.557951Z",
     "shell.execute_reply": "2025-09-21T00:49:31.556976Z",
     "shell.execute_reply.started": "2025-09-21T00:49:31.551324Z"
    },
    "scrolled": true,
    "slideshow": {
     "slide_type": ""
    },
    "tags": []
   },
   "outputs": [],
   "source": [
    "import seaborn as sns\n",
    "import pandas as pd\n",
    "import matplotlib\n",
    "import matplotlib.pyplot as plt\n",
    "import numpy as np\n",
    "from collections import defaultdict, Counter\n",
    "from biodatatools.utils.common import json_load\n",
    "from sklearn.model_selection import StratifiedKFold, cross_val_score\n",
    "from sklearn.svm import SVC\n",
    "from sklearn.metrics import confusion_matrix, ConfusionMatrixDisplay\n",
    "from pathlib import Path\n",
    "import itertools"
   ]
  },
  {
   "cell_type": "code",
   "execution_count": 5,
   "id": "4dfa61b3-1bc6-4bdf-baff-a8e070942e1b",
   "metadata": {
    "execution": {
     "iopub.execute_input": "2025-09-20T21:33:20.537241Z",
     "iopub.status.busy": "2025-09-20T21:33:20.536884Z",
     "iopub.status.idle": "2025-09-20T21:33:39.827739Z",
     "shell.execute_reply": "2025-09-20T21:33:39.826808Z",
     "shell.execute_reply.started": "2025-09-20T21:33:20.537216Z"
    }
   },
   "outputs": [],
   "source": [
    "font_dir = Path.cwd().parent / \"font\"\n",
    "for font in [\"Arial.ttf\", \"Arial_Bold.ttf\"]:\n",
    "    matplotlib.font_manager.fontManager.addfont(font_dir / font)\n",
    "matplotlib.rcParams[\"font.family\"] = \"Arial\"\n",
    "bfontsize = 12\n",
    "sfontsize = 9\n",
    "lw = 0.8"
   ]
  },
  {
   "cell_type": "code",
   "execution_count": 6,
   "id": "f55ce3d1-7f7b-47ec-b4ab-589e4d59e302",
   "metadata": {
    "execution": {
     "iopub.execute_input": "2025-09-20T21:33:44.096298Z",
     "iopub.status.busy": "2025-09-20T21:33:44.095754Z",
     "iopub.status.idle": "2025-09-20T21:34:12.265701Z",
     "shell.execute_reply": "2025-09-20T21:34:12.264739Z",
     "shell.execute_reply.started": "2025-09-20T21:33:44.096255Z"
    },
    "tags": []
   },
   "outputs": [],
   "source": [
    "PROJECT_DIR_d = \"/home/yc2553/projects/HEA/databases/\"\n",
    "PROJECT_DIR_o = \"/home/yc2553/projects/HEA/output/\""
   ]
  },
  {
   "cell_type": "markdown",
   "id": "b2e245df-5313-4739-9517-e081439211b4",
   "metadata": {},
   "source": [
    "# Multi-classifier training"
   ]
  },
  {
   "cell_type": "code",
   "execution_count": 22,
   "id": "827f2378-8c72-41cb-a651-b39d77722bf7",
   "metadata": {
    "execution": {
     "iopub.execute_input": "2025-09-21T00:49:40.791666Z",
     "iopub.status.busy": "2025-09-21T00:49:40.791237Z",
     "iopub.status.idle": "2025-09-21T00:49:53.095324Z",
     "shell.execute_reply": "2025-09-21T00:49:53.094611Z",
     "shell.execute_reply.started": "2025-09-21T00:49:40.791639Z"
    }
   },
   "outputs": [],
   "source": [
    "p = \"divergent\"\n",
    "ds = [\"distal\", \"proximal\"]"
   ]
  },
  {
   "cell_type": "code",
   "execution_count": 11,
   "id": "611d25d8-192b-4c3a-94f3-b40691954203",
   "metadata": {
    "execution": {
     "iopub.execute_input": "2025-09-20T22:54:02.242940Z",
     "iopub.status.busy": "2025-09-20T22:54:02.242459Z",
     "iopub.status.idle": "2025-09-20T22:54:02.250596Z",
     "shell.execute_reply": "2025-09-20T22:54:02.249789Z",
     "shell.execute_reply.started": "2025-09-20T22:54:02.242910Z"
    }
   },
   "outputs": [],
   "source": [
    "labels = json_load(f\"{PROJECT_DIR_d}PROcap/metainfo/classifications.json\")\n",
    "groups = json_load(f\"{PROJECT_DIR_d}PROcap/metainfo/samples.json\")"
   ]
  },
  {
   "cell_type": "code",
   "execution_count": 13,
   "id": "9ed8fe8d-07f0-4bed-8082-6dfaebef305a",
   "metadata": {
    "execution": {
     "iopub.execute_input": "2025-09-20T22:54:27.381654Z",
     "iopub.status.busy": "2025-09-20T22:54:27.381225Z",
     "iopub.status.idle": "2025-09-20T22:54:28.917570Z",
     "shell.execute_reply": "2025-09-20T22:54:28.916425Z",
     "shell.execute_reply.started": "2025-09-20T22:54:27.381628Z"
    }
   },
   "outputs": [],
   "source": [
    "# Use samples highlighted in Fig.2A for model training\n",
    "\n",
    "df = pd.read_table(f\"{PROJECT_DIR_d}PROcap/metainfo/keep_samples.txt\", header=None)\n",
    "n_samples = list(df[0])\n",
    "m_samples = groups[\"metastatic_cancer\"]"
   ]
  },
  {
   "cell_type": "code",
   "execution_count": 16,
   "id": "efed045c-647d-4d39-b290-20aa7a9f03d1",
   "metadata": {
    "execution": {
     "iopub.execute_input": "2025-09-20T22:54:42.459200Z",
     "iopub.status.busy": "2025-09-20T22:54:42.458742Z",
     "iopub.status.idle": "2025-09-20T22:55:44.068708Z",
     "shell.execute_reply": "2025-09-20T22:55:44.067101Z",
     "shell.execute_reply.started": "2025-09-20T22:54:42.459171Z"
    }
   },
   "outputs": [
    {
     "data": {
      "text/plain": [
       "(93, 23)"
      ]
     },
     "execution_count": 16,
     "metadata": {},
     "output_type": "execute_result"
    }
   ],
   "source": [
    "len(n_samples), len(m_samples)"
   ]
  },
  {
   "cell_type": "code",
   "execution_count": 18,
   "id": "69a3def1-f2c7-4bda-a7e1-db90f3fea6c1",
   "metadata": {
    "execution": {
     "iopub.execute_input": "2025-09-20T22:58:43.674865Z",
     "iopub.status.busy": "2025-09-20T22:58:43.673543Z",
     "iopub.status.idle": "2025-09-20T22:58:43.697399Z",
     "shell.execute_reply": "2025-09-20T22:58:43.696546Z",
     "shell.execute_reply.started": "2025-09-20T22:58:43.674828Z"
    }
   },
   "outputs": [],
   "source": [
    "cdict = json_load(f\"{PROJECT_DIR_d}PROcap/metainfo/color_codes.json\")\n",
    "ts = list(cdict)"
   ]
  },
  {
   "cell_type": "code",
   "execution_count": 27,
   "id": "f615921c-77f1-4356-b24f-bdc19f8adeb3",
   "metadata": {
    "execution": {
     "iopub.execute_input": "2025-09-21T00:57:02.421472Z",
     "iopub.status.busy": "2025-09-21T00:57:02.420835Z",
     "iopub.status.idle": "2025-09-21T00:57:06.804182Z",
     "shell.execute_reply": "2025-09-21T00:57:06.802889Z",
     "shell.execute_reply.started": "2025-09-21T00:57:02.421437Z"
    }
   },
   "outputs": [],
   "source": [
    "cutoff = 0.05\n",
    "tres = defaultdict(dict)\n",
    "for d, t in itertools.product(ds, ts):\n",
    "\tt2 = \"_\".join(t.split(\" \"))\n",
    "\tdf = pd.read_table(f\"{PROJECT_DIR_d}PROcap/processed/tstats_{p}_{d}_{t2}.txt\", index_col=0)\n",
    "\ttop = int(cutoff * len(df))\n",
    "\ttres[(p,d)][t] = set(df[\"tstats\"].nlargest(top).index)"
   ]
  },
  {
   "cell_type": "code",
   "execution_count": 30,
   "id": "858951a0-3e8b-43bb-8870-b9d6a622f0c4",
   "metadata": {
    "execution": {
     "iopub.execute_input": "2025-09-21T01:04:09.642555Z",
     "iopub.status.busy": "2025-09-21T01:04:09.641912Z",
     "iopub.status.idle": "2025-09-21T01:04:09.804779Z",
     "shell.execute_reply": "2025-09-21T01:04:09.803650Z",
     "shell.execute_reply.started": "2025-09-21T01:04:09.642518Z"
    }
   },
   "outputs": [],
   "source": [
    "# Here we only focus on elements uniquely found in one group\n",
    "\n",
    "tres_unique = defaultdict(set)\n",
    "for k in tres:\n",
    "    counts = Counter(v for values in tres[k].values() for v in values)\n",
    "    tres_unique[k] = [v for values in tres[k].values() for v in values if counts[v] == 1]"
   ]
  },
  {
   "cell_type": "code",
   "execution_count": 31,
   "id": "394ac350-1c7e-4aac-b722-ea948634a329",
   "metadata": {
    "execution": {
     "iopub.execute_input": "2025-09-21T01:04:10.923819Z",
     "iopub.status.busy": "2025-09-21T01:04:10.923219Z",
     "iopub.status.idle": "2025-09-21T01:05:39.231520Z",
     "shell.execute_reply": "2025-09-21T01:05:39.214303Z",
     "shell.execute_reply.started": "2025-09-21T01:04:10.923792Z"
    },
    "scrolled": true
   },
   "outputs": [],
   "source": [
    "df_train = {}\n",
    "df_exp = pd.read_table(f\"{PROJECT_DIR_d}PROcap/processed/norm_reads_vst_all.txt\", index_col=0)\n",
    "for d in ds:\n",
    "\tdf_train[(p,d)] = df_exp[n_samples].loc[tres_unique[(p,d)]]"
   ]
  },
  {
   "cell_type": "code",
   "execution_count": 32,
   "id": "7d05e3e6-bcce-4ce0-95f7-51ba33671a59",
   "metadata": {
    "execution": {
     "iopub.execute_input": "2025-09-21T01:05:39.242997Z",
     "iopub.status.busy": "2025-09-21T01:05:39.242109Z",
     "iopub.status.idle": "2025-09-21T01:05:39.255157Z",
     "shell.execute_reply": "2025-09-21T01:05:39.254315Z",
     "shell.execute_reply.started": "2025-09-21T01:05:39.242957Z"
    }
   },
   "outputs": [],
   "source": [
    "# Evaluate the model using cross-validation\n",
    "# Stratified 3-Fold Cross-Validation (each class with at least 3 samples)\n",
    "# The folds are made by preserving the percentage of samples for each class\n",
    "\n",
    "skf = StratifiedKFold(n_splits=3)"
   ]
  },
  {
   "cell_type": "code",
   "execution_count": 33,
   "id": "4fefd337-e880-46eb-8253-c66aca57021a",
   "metadata": {
    "execution": {
     "iopub.execute_input": "2025-09-21T01:05:39.256252Z",
     "iopub.status.busy": "2025-09-21T01:05:39.256015Z",
     "iopub.status.idle": "2025-09-21T01:05:53.752202Z",
     "shell.execute_reply": "2025-09-21T01:05:53.749820Z",
     "shell.execute_reply.started": "2025-09-21T01:05:39.256230Z"
    }
   },
   "outputs": [
    {
     "name": "stdout",
     "output_type": "stream",
     "text": [
      "('divergent', 'distal') 1.0\n",
      "('divergent', 'proximal') 1.0\n"
     ]
    }
   ],
   "source": [
    "# Mean cross-validation accuracy\n",
    "\n",
    "models = {}\n",
    "for k in df_train:\n",
    "\ttrain_X = df_train[k].T.to_numpy()\n",
    "\ttrain_Y = [labels[s][1] for s in n_samples]\n",
    "\tmodels[k] = SVC(kernel=\"linear\", probability=True)\n",
    "\tmodels[k].fit(train_X, train_Y)\n",
    "\tscores = cross_val_score(models[k], train_X, train_Y, cv=skf, scoring=\"accuracy\")\n",
    "\tprint(k, np.mean(scores))"
   ]
  },
  {
   "cell_type": "code",
   "execution_count": 36,
   "id": "f405f007-b8fd-4dac-a5dc-ee6828a67a96",
   "metadata": {
    "execution": {
     "iopub.execute_input": "2025-09-21T01:06:12.959887Z",
     "iopub.status.busy": "2025-09-21T01:06:12.959234Z",
     "iopub.status.idle": "2025-09-21T01:06:15.551403Z",
     "shell.execute_reply": "2025-09-21T01:06:15.550329Z",
     "shell.execute_reply.started": "2025-09-21T01:06:12.959854Z"
    }
   },
   "outputs": [
    {
     "data": {
      "text/plain": [
       "Text(0.5, 0, 'True label')"
      ]
     },
     "execution_count": 36,
     "metadata": {},
     "output_type": "execute_result"
    },
    {
     "data": {
      "image/png": "[encoded data removed]",
      "text/plain": [
       "<Figure size 640x480 with 2 Axes>"
      ]
     },
     "metadata": {},
     "output_type": "display_data"
    }
   ],
   "source": [
    "k = (\"divergent\", \"distal\")\n",
    "train_X = df_train[k][n_samples].T.to_numpy()\n",
    "train_pred_Y = models[k].predict(train_X)\n",
    "cm = confusion_matrix(train_pred_Y, train_Y, labels=list(cdict))\n",
    "disp = ConfusionMatrixDisplay(confusion_matrix=cm, display_labels=list(cdict))\n",
    "disp.plot(cmap=\"Blues\")\n",
    "plt.xticks(rotation=90)\n",
    "plt.ylabel(\"Predicted label\", fontsize=bfontsize)\n",
    "plt.xlabel(\"True label\", fontsize=bfontsize)"
   ]
  },
  {
   "cell_type": "markdown",
   "id": "25ce8e22-6ef6-4a7c-a3c8-7af81bf2b338",
   "metadata": {},
   "source": [
    "# Predict primary sites of metastatic samples"
   ]
  },
  {
   "cell_type": "code",
   "execution_count": 58,
   "id": "d69857dc-c7ec-4665-a9c6-4456c5a6a1e6",
   "metadata": {
    "execution": {
     "iopub.execute_input": "2025-09-21T01:33:00.417250Z",
     "iopub.status.busy": "2025-09-21T01:33:00.415952Z",
     "iopub.status.idle": "2025-09-21T01:33:01.247295Z",
     "shell.execute_reply": "2025-09-21T01:33:01.246083Z",
     "shell.execute_reply.started": "2025-09-21T01:33:00.417218Z"
    },
    "scrolled": true
   },
   "outputs": [],
   "source": [
    "val_pred_Y = {}\n",
    "val_pred_Y_prob = {}\n",
    "for k in models:\n",
    "\tval_X = df_exp[m_samples].loc[tres_unique[k]].T.to_numpy()\n",
    "\tval_pred_Y[k] = models[k].predict(val_X)\n",
    "\tval_pred_Y_prob[k] = models[k].predict_proba(val_X)"
   ]
  },
  {
   "cell_type": "code",
   "execution_count": 78,
   "id": "ac00dd23-4879-4d04-8e04-5d9edabbf3b2",
   "metadata": {
    "execution": {
     "iopub.execute_input": "2025-09-21T01:44:04.301114Z",
     "iopub.status.busy": "2025-09-21T01:44:04.300474Z",
     "iopub.status.idle": "2025-09-21T01:44:04.310207Z",
     "shell.execute_reply": "2025-09-21T01:44:04.309433Z",
     "shell.execute_reply.started": "2025-09-21T01:44:04.301065Z"
    },
    "scrolled": true
   },
   "outputs": [],
   "source": [
    "acc = {}\n",
    "for k in models:\n",
    "\tacc[k] = defaultdict(int)\n",
    "\tranked_preds[k] = {}\n",
    "\tfor s in m_samples:\n",
    "\t\tind = m_samples.index(s)\n",
    "\t\ttrue_label = labels[s][0]\n",
    "\t\tsorted_idx = np.argsort(val_pred_Y_prob[k][ind])[::-1]\n",
    "\t\tsorted_labels = [models[k].classes_[i] for i in sorted_idx]\n",
    "\t\tfor n in range(1,6):\n",
    "\t\t\tif n == 1:\n",
    "\t\t\t\tif true_label == val_pred_Y[k][ind]:\n",
    "\t\t\t\t\tacc[k][f\"top{n}\"] += 1\n",
    "\t\t\telse:\n",
    "\t\t\t\tif true_label in sorted_labels[:n]:\n",
    "\t\t\t\t\tacc[k][f\"top{n}\"] += 1"
   ]
  },
  {
   "cell_type": "code",
   "execution_count": 94,
   "id": "f3db120c-5d85-4fd3-8bd5-0282b1c2a693",
   "metadata": {
    "execution": {
     "iopub.execute_input": "2025-09-21T01:53:59.806432Z",
     "iopub.status.busy": "2025-09-21T01:53:59.805831Z",
     "iopub.status.idle": "2025-09-21T01:53:59.824533Z",
     "shell.execute_reply": "2025-09-21T01:53:59.823750Z",
     "shell.execute_reply.started": "2025-09-21T01:53:59.806387Z"
    }
   },
   "outputs": [
    {
     "data": {
      "text/html": [
       "<div>\n",
       "<style scoped>\n",
       "    .dataframe tbody tr th:only-of-type {\n",
       "        vertical-align: middle;\n",
       "    }\n",
       "\n",
       "    .dataframe tbody tr th {\n",
       "        vertical-align: top;\n",
       "    }\n",
       "\n",
       "    .dataframe thead th {\n",
       "        text-align: right;\n",
       "    }\n",
       "</style>\n",
       "<table border=\"1\" class=\"dataframe\">\n",
       "  <thead>\n",
       "    <tr style=\"text-align: right;\">\n",
       "      <th></th>\n",
       "      <th>group1</th>\n",
       "      <th>group2</th>\n",
       "      <th>top</th>\n",
       "      <th>correct</th>\n",
       "      <th>total</th>\n",
       "      <th>accuracy</th>\n",
       "    </tr>\n",
       "  </thead>\n",
       "  <tbody>\n",
       "    <tr>\n",
       "      <th>0</th>\n",
       "      <td>divergent</td>\n",
       "      <td>Distal</td>\n",
       "      <td>Top1</td>\n",
       "      <td>20</td>\n",
       "      <td>23</td>\n",
       "      <td>0.869565</td>\n",
       "    </tr>\n",
       "    <tr>\n",
       "      <th>1</th>\n",
       "      <td>divergent</td>\n",
       "      <td>Distal</td>\n",
       "      <td>Top2</td>\n",
       "      <td>21</td>\n",
       "      <td>23</td>\n",
       "      <td>0.913043</td>\n",
       "    </tr>\n",
       "  </tbody>\n",
       "</table>\n",
       "</div>"
      ],
      "text/plain": [
       "      group1  group2   top  correct  total  accuracy\n",
       "0  divergent  Distal  Top1       20     23  0.869565\n",
       "1  divergent  Distal  Top2       21     23  0.913043"
      ]
     },
     "execution_count": 94,
     "metadata": {},
     "output_type": "execute_result"
    }
   ],
   "source": [
    "results = []\n",
    "for p, d in acc:\n",
    "\tfor k in acc[(p,d)]:\n",
    "\t\tresults.append([p, d.capitalize(), k.capitalize(), acc[(p,d)][k], len(m_samples), acc[(p,d)][k]/len(m_samples)])\n",
    "df_acc = pd.DataFrame(results, columns=[\"group1\", \"group2\", \"top\", \"correct\", \"total\", \"accuracy\"])\n",
    "df_acc.head(2)"
   ]
  },
  {
   "cell_type": "code",
   "execution_count": 96,
   "id": "9d7083c3-245b-4aad-8b7a-ce831ed6993e",
   "metadata": {
    "execution": {
     "iopub.execute_input": "2025-09-21T01:55:08.862579Z",
     "iopub.status.busy": "2025-09-21T01:55:08.861943Z",
     "iopub.status.idle": "2025-09-21T01:55:09.306200Z",
     "shell.execute_reply": "2025-09-21T01:55:09.305429Z",
     "shell.execute_reply.started": "2025-09-21T01:55:08.862532Z"
    }
   },
   "outputs": [
    {
     "data": {
      "image/png": "[encoded data removed]",
      "text/plain": [
       "<Figure size 600x250 with 1 Axes>"
      ]
     },
     "metadata": {},
     "output_type": "display_data"
    }
   ],
   "source": [
    "fig, ax = plt.subplots(figsize=(6,2.5))\n",
    "\n",
    "g = sns.barplot(data=df_acc, x=\"top\", y=\"accuracy\", hue=\"group2\", palette=[\"#CBB1D1\", \"#CAE5C1\"])\n",
    "g.spines[[\"top\", \"right\"]].set_visible(False)\n",
    "g.legend(loc=\"upper center\", bbox_to_anchor=(0.5, 1.2), ncols=2, frameon=False)\n",
    "g.set_xlabel(\"Accuracy\", fontsize=bfontsize)\n",
    "g.set_ylabel(\"Prediction\", fontsize=bfontsize)\n",
    "g.tick_params(labelsize=sfontsize)\n",
    "\n",
    "for p, (_, row) in zip(g.patches, df_acc.iterrows()):\n",
    "    height = p.get_height()\n",
    "    g.text(\n",
    "        p.get_x() + p.get_width() / 2,\n",
    "        height + 0.01,                \n",
    "        f'{row[\"correct\"]}/{row[\"total\"]}',\n",
    "        ha='center',\n",
    "        va='bottom',\n",
    "        fontsize=sfontsize\n",
    "    )\n",
    "\n",
    "plt.savefig(f\"{PROJECT_DIR_o}figures/SuppFig10b.pdf\", bbox_inches=\"tight\", transparent=True) "
   ]
  },
  {
   "cell_type": "code",
   "execution_count": 103,
   "id": "fb9ff023-5917-4b3b-9074-2bc8a490417f",
   "metadata": {
    "execution": {
     "iopub.execute_input": "2025-09-21T02:02:50.823850Z",
     "iopub.status.busy": "2025-09-21T02:02:50.823270Z",
     "iopub.status.idle": "2025-09-21T02:02:50.829669Z",
     "shell.execute_reply": "2025-09-21T02:02:50.828927Z",
     "shell.execute_reply.started": "2025-09-21T02:02:50.823803Z"
    },
    "scrolled": true
   },
   "outputs": [],
   "source": [
    "# Show heatmap of predicted fractions\n",
    "# Rows: true label for primary sites\n",
    "# Columns: predicted label for metastatic sites\n",
    "\n",
    "k = ('divergent', 'distal')\n",
    "counts = {}\n",
    "for s in m_samples:\n",
    "\tpsite, msite = labels[s]\n",
    "\tif \"Brain\" in msite:\n",
    "\t\tmsite = \"Brain\"\n",
    "\tif (psite, msite) not in counts:\n",
    "\t\tcounts[(psite, msite)] = defaultdict(int)\n",
    "\tind = m_samples.index(s)\n",
    "\tcounts[(psite, msite)][val_pred_Y[k][ind]] += 1"
   ]
  },
  {
   "cell_type": "code",
   "execution_count": 104,
   "id": "bd6909da-a4c4-465e-8983-ebf3c6882118",
   "metadata": {
    "execution": {
     "iopub.execute_input": "2025-09-21T02:02:51.222620Z",
     "iopub.status.busy": "2025-09-21T02:02:51.222066Z",
     "iopub.status.idle": "2025-09-21T02:02:51.229094Z",
     "shell.execute_reply": "2025-09-21T02:02:51.228373Z",
     "shell.execute_reply.started": "2025-09-21T02:02:51.222580Z"
    }
   },
   "outputs": [
    {
     "data": {
      "text/plain": [
       "{('Breast', 'Ovary'): defaultdict(int, {'Breast': 3}),\n",
       " ('Breast', 'Brain'): defaultdict(int, {'Breast': 9, 'Lung': 1}),\n",
       " ('Liver', 'Adrenal gland'): defaultdict(int, {'Liver': 2}),\n",
       " ('Large intestine',\n",
       "  'Brain'): defaultdict(int, {'Small intestine': 1, 'Large intestine': 1}),\n",
       " ('Large intestine', 'Lung'): defaultdict(int, {'Large intestine': 2}),\n",
       " ('Liver', 'Lung'): defaultdict(int, {'Lung': 1, 'Liver': 1}),\n",
       " ('Lung', 'Adrenal gland'): defaultdict(int, {'Lung': 1}),\n",
       " ('Pancreas', 'Ovary'): defaultdict(int, {'Pancreas': 1})}"
      ]
     },
     "execution_count": 104,
     "metadata": {},
     "output_type": "execute_result"
    }
   ],
   "source": [
    "counts"
   ]
  },
  {
   "cell_type": "code",
   "execution_count": 105,
   "id": "27a02bf8-12a5-4d64-a2b7-a5305540e955",
   "metadata": {
    "execution": {
     "iopub.execute_input": "2025-09-21T02:03:06.992194Z",
     "iopub.status.busy": "2025-09-21T02:03:06.991586Z",
     "iopub.status.idle": "2025-09-21T02:03:06.996980Z",
     "shell.execute_reply": "2025-09-21T02:03:06.996121Z",
     "shell.execute_reply.started": "2025-09-21T02:03:06.992150Z"
    }
   },
   "outputs": [],
   "source": [
    "# Combine small and large intestines as one label \"Intestine\" for main figure\n",
    "\n",
    "counts2 = defaultdict(dict)\n",
    "for k in counts:\n",
    "\tif \"Large intestine\" in k:\n",
    "\t\tcounts2[k][\"Intestine\"] = 2\n",
    "\telse:\n",
    "\t\tcounts2[k] = counts[k]"
   ]
  },
  {
   "cell_type": "code",
   "execution_count": 106,
   "id": "0493deaa-d64c-4b37-a5b3-49284f899ade",
   "metadata": {
    "execution": {
     "iopub.execute_input": "2025-09-21T02:03:13.460077Z",
     "iopub.status.busy": "2025-09-21T02:03:13.459471Z",
     "iopub.status.idle": "2025-09-21T02:03:13.467147Z",
     "shell.execute_reply": "2025-09-21T02:03:13.466263Z",
     "shell.execute_reply.started": "2025-09-21T02:03:13.460032Z"
    }
   },
   "outputs": [
    {
     "data": {
      "text/plain": [
       "defaultdict(dict,\n",
       "            {('Breast', 'Ovary'): defaultdict(int, {'Breast': 3}),\n",
       "             ('Breast', 'Brain'): defaultdict(int, {'Breast': 9, 'Lung': 1}),\n",
       "             ('Liver', 'Adrenal gland'): defaultdict(int, {'Liver': 2}),\n",
       "             ('Large intestine', 'Brain'): {'Intestine': 2},\n",
       "             ('Large intestine', 'Lung'): {'Intestine': 2},\n",
       "             ('Liver', 'Lung'): defaultdict(int, {'Lung': 1, 'Liver': 1}),\n",
       "             ('Lung', 'Adrenal gland'): defaultdict(int, {'Lung': 1}),\n",
       "             ('Pancreas', 'Ovary'): defaultdict(int, {'Pancreas': 1})})"
      ]
     },
     "execution_count": 106,
     "metadata": {},
     "output_type": "execute_result"
    }
   ],
   "source": [
    "counts2"
   ]
  },
  {
   "cell_type": "code",
   "execution_count": 109,
   "id": "dcb8f66e-58fd-4a1f-bafe-bae856fb33b8",
   "metadata": {
    "execution": {
     "iopub.execute_input": "2025-09-21T02:09:16.278481Z",
     "iopub.status.busy": "2025-09-21T02:09:16.277852Z",
     "iopub.status.idle": "2025-09-21T02:09:16.284575Z",
     "shell.execute_reply": "2025-09-21T02:09:16.283671Z",
     "shell.execute_reply.started": "2025-09-21T02:09:16.278432Z"
    }
   },
   "outputs": [],
   "source": [
    "met_order = [('Breast', 'Brain'), ('Breast', 'Ovary'), \n",
    "\t\t\t ('Large intestine', 'Lung'), ('Large intestine', 'Brain'),\n",
    "\t\t\t ('Liver', 'Adrenal gland'), ('Liver', 'Lung'),\n",
    "\t\t\t ('Lung', 'Adrenal gland'),\n",
    "\t\t\t ('Pancreas', 'Ovary')\n",
    "\t\t\t]\n",
    "index = [f\"{k[0]}  \\u2192 {k[1]}\" for k in met_order]\n",
    "columns = [\"Breast\", \"Intestine\", \"Liver\", \"Lung\", \"Pancreas\"]"
   ]
  },
  {
   "cell_type": "code",
   "execution_count": 114,
   "id": "2acd1db5-4a87-4022-8614-431b6569a7cd",
   "metadata": {
    "execution": {
     "iopub.execute_input": "2025-09-21T02:14:56.977184Z",
     "iopub.status.busy": "2025-09-21T02:14:56.976710Z",
     "iopub.status.idle": "2025-09-21T02:14:56.983590Z",
     "shell.execute_reply": "2025-09-21T02:14:56.982996Z",
     "shell.execute_reply.started": "2025-09-21T02:14:56.977157Z"
    },
    "scrolled": true
   },
   "outputs": [],
   "source": [
    "results1 = []\n",
    "results2 = []\n",
    "for met in met_order:\n",
    "\ttot = np.sum([counts2[met][k] for k in counts2[met]])\n",
    "\trow1 = [0]*len(columns)\n",
    "\trow2 = [\"\"]*len(columns)\n",
    "\tfor prd in columns:\n",
    "\t\tif prd in counts2[met]:\n",
    "\t\t\tind = columns.index(prd)\n",
    "\t\t\trow1[ind] = round(counts2[met][prd]/tot,2)\n",
    "\t\t\trow2[ind] = f\"{counts2[met][prd]}/{tot}\"\n",
    "\tresults1.append(row1)\n",
    "\tresults2.append(row2)\n",
    "df_frac = pd.DataFrame(results1, columns=columns, index=index)\n",
    "df_annots = pd.DataFrame(results2, columns=columns, index=index)"
   ]
  },
  {
   "cell_type": "code",
   "execution_count": 152,
   "id": "18957f0d-44a2-4079-9656-5972bcdc83be",
   "metadata": {
    "execution": {
     "iopub.execute_input": "2025-09-21T02:24:03.203967Z",
     "iopub.status.busy": "2025-09-21T02:24:03.203489Z",
     "iopub.status.idle": "2025-09-21T02:24:03.554697Z",
     "shell.execute_reply": "2025-09-21T02:24:03.553961Z",
     "shell.execute_reply.started": "2025-09-21T02:24:03.203940Z"
    },
    "scrolled": true
   },
   "outputs": [
    {
     "data": {
      "image/png": "[encoded data removed]",
      "text/plain": [
       "<Figure size 390x350 with 2 Axes>"
      ]
     },
     "metadata": {},
     "output_type": "display_data"
    }
   ],
   "source": [
    "fig, ax = plt.subplots(figsize=(3.9,3.5))\n",
    "\n",
    "g = sns.heatmap(df_frac, cmap=\"Reds\", ax=ax, cbar=False, linewidths=1,\n",
    "\t\t\t\tannot=df_annots, fmt='s', annot_kws={\"fontsize\": sfontsize}\n",
    "\t\t\t   )\n",
    "cbar = g.collections[0].colorbar\n",
    "cbar_ax = fig.add_axes([0.5, 0, 0.2, 0.05])\n",
    "cbar = plt.colorbar(g.collections[0], cax=cbar_ax, orientation=\"horizontal\")\n",
    "cbar.ax.text(-1, 0, \"Top 1 prediction fraction\", fontsize=sfontsize, \n",
    "\t\t\t\t ha='center', va='bottom', transform=cbar.ax.transAxes)\n",
    "vlims = [0,0.5,1]\n",
    "cbar.set_ticks(vlims)\n",
    "cbar.set_ticklabels(vlims, fontsize=sfontsize)\n",
    "\n",
    "g.set_title(\"Predicted primary sites\", fontsize=bfontsize, y=1.22)\n",
    "g.xaxis.tick_top()\n",
    "g.xaxis.set_label_position('top')\n",
    "g.set_xticklabels(g.get_xticklabels(), rotation=30)\n",
    "for tick in g.get_xticklabels():\n",
    "\ttext = tick.get_text()\n",
    "\tif text != \"Intestine\":\n",
    "\t\ttick.set_color(cdict[text])\n",
    "\telse:\n",
    "\t\ttick.set_color(cdict[\"Large intestine\"])\n",
    "line_y = 1.19\n",
    "g.plot([0, 1], [line_y, line_y], transform=g.transAxes, c=\"black\", clip_on=False, lw=lw)\n",
    "\n",
    "g.set_ylabel(\"Metastatic cancer\\nPrimary \\u2192 metastatic site\", fontsize=bfontsize, labelpad=20)\n",
    "line_x = -0.53\n",
    "g.plot([line_x, line_x], [0, 1], transform=g.transAxes, c=\"black\", clip_on=False, lw=lw)\n",
    "\n",
    "g.tick_params(labelsize=sfontsize)\n",
    "\n",
    "plt.savefig(f\"{PROJECT_DIR_o}figures/Fig6d.pdf\", bbox_inches=\"tight\", transparent=True) "
   ]
  },
  {
   "cell_type": "code",
   "execution_count": null,
   "id": "3e5ef89d-712e-436e-8406-906c149f877d",
   "metadata": {},
   "outputs": [],
   "source": []
  }
 ],
 "metadata": {
  "kernelspec": {
   "display_name": "Python 3 (ipykernel)",
   "language": "python",
   "name": "python3"
  },
  "language_info": {
   "codemirror_mode": {
    "name": "ipython",
    "version": 3
   },
   "file_extension": ".py",
   "mimetype": "text/x-python",
   "name": "python",
   "nbconvert_exporter": "python",
   "pygments_lexer": "ipython3",
   "version": "3.10.8"
  }
 },
 "nbformat": 4,
 "nbformat_minor": 5
}
