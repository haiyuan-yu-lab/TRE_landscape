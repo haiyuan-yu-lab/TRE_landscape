{
 "cells": [
  {
   "cell_type": "code",
   "execution_count": 2,
   "id": "125b7700-30d6-4258-a7a4-92c371b16256",
   "metadata": {
    "execution": {
     "iopub.execute_input": "2025-09-23T00:03:29.130420Z",
     "iopub.status.busy": "2025-09-23T00:03:29.129264Z",
     "iopub.status.idle": "2025-09-23T00:05:07.941548Z",
     "shell.execute_reply": "2025-09-23T00:05:07.939574Z",
     "shell.execute_reply.started": "2025-09-23T00:03:29.130367Z"
    }
   },
   "outputs": [
    {
     "name": "stderr",
     "output_type": "stream",
     "text": [
      "Matplotlib is building the font cache; this may take a moment.\n"
     ]
    }
   ],
   "source": [
    "import pandas as pd\n",
    "pd.set_option('display.max_columns', None)\n",
    "from biodata.delimited import DelimitedWriter\n",
    "import numpy as np\n",
    "import seaborn as sns\n",
    "from collections import defaultdict, Counter\n",
    "import matplotlib\n",
    "import matplotlib.pyplot as plt\n",
    "import pybedtools\n",
    "from Bio import SeqIO\n",
    "from matplotlib.patches import Rectangle, Patch\n",
    "from biodatatools.utils.common import json_load\n",
    "import sys\n",
    "from pathlib import Path\n",
    "import glob"
   ]
  },
  {
   "cell_type": "code",
   "execution_count": 3,
   "id": "0a113258-0cea-4280-8d4a-3c386fb197c7",
   "metadata": {
    "execution": {
     "iopub.execute_input": "2025-09-23T00:05:07.946555Z",
     "iopub.status.busy": "2025-09-23T00:05:07.944812Z",
     "iopub.status.idle": "2025-09-23T00:05:07.992443Z",
     "shell.execute_reply": "2025-09-23T00:05:07.991038Z",
     "shell.execute_reply.started": "2025-09-23T00:05:07.946513Z"
    }
   },
   "outputs": [],
   "source": [
    "font_dir = Path.cwd().parent / \"font\"\n",
    "for font in [\"Arial.ttf\", \"Arial_Bold.ttf\"]:\n",
    "    matplotlib.font_manager.fontManager.addfont(font_dir / font)\n",
    "matplotlib.rcParams[\"font.family\"] = \"Arial\"\n",
    "bfontsize = 12\n",
    "sfontsize = 9\n",
    "lw = 0.8"
   ]
  },
  {
   "cell_type": "code",
   "execution_count": 4,
   "id": "5fed5acd-e3d5-4729-a660-f2e6e494d554",
   "metadata": {
    "execution": {
     "iopub.execute_input": "2025-09-23T00:05:07.994079Z",
     "iopub.status.busy": "2025-09-23T00:05:07.993679Z",
     "iopub.status.idle": "2025-09-23T00:05:36.237368Z",
     "shell.execute_reply": "2025-09-23T00:05:36.235378Z",
     "shell.execute_reply.started": "2025-09-23T00:05:07.994050Z"
    }
   },
   "outputs": [],
   "source": [
    "sys.path.append(str(Path.cwd().parent))\n",
    "import utils"
   ]
  },
  {
   "cell_type": "code",
   "execution_count": 5,
   "id": "47db137a-2356-42d3-8dcc-2382e78546fb",
   "metadata": {
    "execution": {
     "iopub.execute_input": "2025-09-23T00:05:36.242388Z",
     "iopub.status.busy": "2025-09-23T00:05:36.241363Z",
     "iopub.status.idle": "2025-09-23T00:05:37.678859Z",
     "shell.execute_reply": "2025-09-23T00:05:37.677822Z",
     "shell.execute_reply.started": "2025-09-23T00:05:36.242340Z"
    }
   },
   "outputs": [],
   "source": [
    "PROJECT_DIR_d = \"/fs/cbsuhy02/storage/yc2553/yc2553/databases/\"\n",
    "PROJECT_DIR_d2 = \"/home/yc2553/projects/HEA/databases/\"\n",
    "PROJECT_DIR_s = \"/fs/cbsuhy02/storage/yc2553/yc2553/projects/3.Human_atlas/procapnet/\"\n",
    "PROJECT_DIR_o = \"/home/yc2553/projects/HEA/output/\"\n",
    "PROJECT_DIR_r = \"/fs/cbsuhy02/storage/yc2553/yc2553/projects/TRE_directionality/resources/\""
   ]
  },
  {
   "cell_type": "code",
   "execution_count": 6,
   "id": "6c29ef8a-b7d6-4030-9742-f6e19d74d3a2",
   "metadata": {
    "execution": {
     "iopub.execute_input": "2025-09-23T00:05:37.680677Z",
     "iopub.status.busy": "2025-09-23T00:05:37.680129Z",
     "iopub.status.idle": "2025-09-23T00:06:21.677868Z",
     "shell.execute_reply": "2025-09-23T00:06:21.675827Z",
     "shell.execute_reply.started": "2025-09-23T00:05:37.680634Z"
    },
    "scrolled": true
   },
   "outputs": [],
   "source": [
    "sys.path.append(f\"{PROJECT_DIR_s}2_train_models/\")\n",
    "from data_loading import extract_observed_profiles, one_hot_encode"
   ]
  },
  {
   "cell_type": "markdown",
   "id": "1511ddb2-73aa-41cf-a83c-8188fed02240",
   "metadata": {},
   "source": [
    "# Candidate selection"
   ]
  },
  {
   "cell_type": "code",
   "execution_count": 27,
   "id": "3a58dcaf-1970-4a78-bb12-1a1c83e8392d",
   "metadata": {
    "execution": {
     "iopub.execute_input": "2025-09-23T00:19:52.407434Z",
     "iopub.status.busy": "2025-09-23T00:19:52.406077Z",
     "iopub.status.idle": "2025-09-23T00:20:55.673243Z",
     "shell.execute_reply": "2025-09-23T00:20:55.669862Z",
     "shell.execute_reply.started": "2025-09-23T00:19:52.407371Z"
    }
   },
   "outputs": [
    {
     "data": {
      "text/html": [
       "<div>\n",
       "<style scoped>\n",
       "    .dataframe tbody tr th:only-of-type {\n",
       "        vertical-align: middle;\n",
       "    }\n",
       "\n",
       "    .dataframe tbody tr th {\n",
       "        vertical-align: top;\n",
       "    }\n",
       "\n",
       "    .dataframe thead th {\n",
       "        text-align: right;\n",
       "    }\n",
       "</style>\n",
       "<table border=\"1\" class=\"dataframe\">\n",
       "  <thead>\n",
       "    <tr style=\"text-align: right;\">\n",
       "      <th></th>\n",
       "      <th>0</th>\n",
       "      <th>1</th>\n",
       "      <th>2</th>\n",
       "      <th>3</th>\n",
       "      <th>4</th>\n",
       "      <th>5</th>\n",
       "      <th>6</th>\n",
       "      <th>7</th>\n",
       "      <th>8</th>\n",
       "      <th>9</th>\n",
       "      <th>10</th>\n",
       "      <th>11</th>\n",
       "      <th>12</th>\n",
       "      <th>13</th>\n",
       "      <th>14</th>\n",
       "      <th>15</th>\n",
       "      <th>16</th>\n",
       "      <th>17</th>\n",
       "      <th>18</th>\n",
       "      <th>19</th>\n",
       "      <th>20</th>\n",
       "      <th>21</th>\n",
       "      <th>22</th>\n",
       "    </tr>\n",
       "  </thead>\n",
       "  <tbody>\n",
       "    <tr>\n",
       "      <th>437039</th>\n",
       "      <td>chr1</td>\n",
       "      <td>214150444.0</td>\n",
       "      <td>214150445.0</td>\n",
       "      <td>chr1:214150445:T:A</td>\n",
       "      <td>rs17712208</td>\n",
       "      <td>T</td>\n",
       "      <td>A</td>\n",
       "      <td>A</td>\n",
       "      <td>UKBB</td>\n",
       "      <td>BOLT</td>\n",
       "      <td>FINEMAP</td>\n",
       "      <td>Alb</td>\n",
       "      <td>chr1:212650821-215650821</td>\n",
       "      <td>0.035316</td>\n",
       "      <td>0.048802</td>\n",
       "      <td>0.006411</td>\n",
       "      <td>57.9510</td>\n",
       "      <td>0.249174</td>\n",
       "      <td>1</td>\n",
       "      <td>0.012932</td>\n",
       "      <td>0.022703</td>\n",
       "      <td>False</td>\n",
       "      <td>False</td>\n",
       "    </tr>\n",
       "    <tr>\n",
       "      <th>437054</th>\n",
       "      <td>chr1</td>\n",
       "      <td>214150820.0</td>\n",
       "      <td>214150821.0</td>\n",
       "      <td>chr1:214150821:G:C</td>\n",
       "      <td>rs79687284</td>\n",
       "      <td>G</td>\n",
       "      <td>C</td>\n",
       "      <td>C</td>\n",
       "      <td>UKBB</td>\n",
       "      <td>BOLT</td>\n",
       "      <td>FINEMAP</td>\n",
       "      <td>Alb</td>\n",
       "      <td>chr1:212650821-215650821</td>\n",
       "      <td>0.034922</td>\n",
       "      <td>0.050056</td>\n",
       "      <td>0.006455</td>\n",
       "      <td>60.1414</td>\n",
       "      <td>0.750826</td>\n",
       "      <td>1</td>\n",
       "      <td>0.039899</td>\n",
       "      <td>0.023737</td>\n",
       "      <td>False</td>\n",
       "      <td>False</td>\n",
       "    </tr>\n",
       "  </tbody>\n",
       "</table>\n",
       "</div>"
      ],
      "text/plain": [
       "          0            1            2                   3           4  5  6   \\\n",
       "437039  chr1  214150444.0  214150445.0  chr1:214150445:T:A  rs17712208  T  A   \n",
       "437054  chr1  214150820.0  214150821.0  chr1:214150821:G:C  rs79687284  G  C   \n",
       "\n",
       "       7     8     9        10   11                        12        13  \\\n",
       "437039  A  UKBB  BOLT  FINEMAP  Alb  chr1:212650821-215650821  0.035316   \n",
       "437054  C  UKBB  BOLT  FINEMAP  Alb  chr1:212650821-215650821  0.034922   \n",
       "\n",
       "              14        15       16        17  18        19        20     21  \\\n",
       "437039  0.048802  0.006411  57.9510  0.249174   1  0.012932  0.022703  False   \n",
       "437054  0.050056  0.006455  60.1414  0.750826   1  0.039899  0.023737  False   \n",
       "\n",
       "           22  \n",
       "437039  False  \n",
       "437054  False  "
      ]
     },
     "execution_count": 27,
     "metadata": {},
     "output_type": "execute_result"
    }
   ],
   "source": [
    "# Highlight variants in the same credible set: the one with lower PIP actually actually disrupts the motif and affects the transcription\n",
    "\n",
    "method = \"FINEMAP\"\n",
    "dist = 5e3\n",
    "inputfile = f\"{PROJECT_DIR_d}papers/38014075/GWAS/UKBB_94traits_release1.bed.gz\"\n",
    "df_pip = pd.read_table(inputfile, header=None)\n",
    "df_pip[(df_pip[10]==method) & (df_pip[11]==\"Alb\") & (df_pip[0]==\"chr1\") & (214150445-dist<=df_pip[2]) & (df_pip[2]<=214150445+dist)]"
   ]
  },
  {
   "cell_type": "code",
   "execution_count": 28,
   "id": "91a29741-7b66-437c-943c-8e8edf47b43a",
   "metadata": {
    "execution": {
     "iopub.execute_input": "2025-09-23T00:20:55.678685Z",
     "iopub.status.busy": "2025-09-23T00:20:55.677488Z",
     "iopub.status.idle": "2025-09-23T00:20:56.672251Z",
     "shell.execute_reply": "2025-09-23T00:20:56.670916Z",
     "shell.execute_reply.started": "2025-09-23T00:20:55.678630Z"
    }
   },
   "outputs": [
    {
     "data": {
      "text/plain": [
       "Counter({-1: 153, 1: 2})"
      ]
     },
     "execution_count": 28,
     "metadata": {},
     "output_type": "execute_result"
    }
   ],
   "source": [
    "# region (12): region of the genome fine-mapping in hg19 coordinates\n",
    "# cs_id (18): ID of 95% credible set (-1 indicates that variant is not in a 95% CS)\n",
    "# There are two variants in the same credible set\n",
    "\n",
    "Counter(df_pip[(df_pip[10]==method) & (df_pip[11]==\"Alb\") & (df_pip[12]=='chr1:212650821-215650821')][18])"
   ]
  },
  {
   "cell_type": "code",
   "execution_count": 29,
   "id": "ad47aa53-7793-4a89-b988-1c123e005ed7",
   "metadata": {
    "execution": {
     "iopub.execute_input": "2025-09-23T00:20:56.674368Z",
     "iopub.status.busy": "2025-09-23T00:20:56.673673Z",
     "iopub.status.idle": "2025-09-23T00:21:19.022827Z",
     "shell.execute_reply": "2025-09-23T00:21:19.021532Z",
     "shell.execute_reply.started": "2025-09-23T00:20:56.674321Z"
    }
   },
   "outputs": [
    {
     "data": {
      "text/html": [
       "<div>\n",
       "<style scoped>\n",
       "    .dataframe tbody tr th:only-of-type {\n",
       "        vertical-align: middle;\n",
       "    }\n",
       "\n",
       "    .dataframe tbody tr th {\n",
       "        vertical-align: top;\n",
       "    }\n",
       "\n",
       "    .dataframe thead th {\n",
       "        text-align: right;\n",
       "    }\n",
       "</style>\n",
       "<table border=\"1\" class=\"dataframe\">\n",
       "  <thead>\n",
       "    <tr style=\"text-align: right;\">\n",
       "      <th></th>\n",
       "      <th>0</th>\n",
       "      <th>1</th>\n",
       "      <th>2</th>\n",
       "      <th>3</th>\n",
       "      <th>4</th>\n",
       "      <th>5</th>\n",
       "      <th>6</th>\n",
       "    </tr>\n",
       "  </thead>\n",
       "  <tbody>\n",
       "    <tr>\n",
       "      <th>0</th>\n",
       "      <td>chr1</td>\n",
       "      <td>213977101</td>\n",
       "      <td>213977102</td>\n",
       "      <td>chr1:214150445:T:A</td>\n",
       "      <td>rs17712208</td>\n",
       "      <td>Alb</td>\n",
       "      <td>0.249174</td>\n",
       "    </tr>\n",
       "    <tr>\n",
       "      <th>1</th>\n",
       "      <td>chr1</td>\n",
       "      <td>213977477</td>\n",
       "      <td>213977478</td>\n",
       "      <td>chr1:214150821:G:C</td>\n",
       "      <td>rs79687284</td>\n",
       "      <td>Alb</td>\n",
       "      <td>0.750826</td>\n",
       "    </tr>\n",
       "  </tbody>\n",
       "</table>\n",
       "</div>"
      ],
      "text/plain": [
       "      0          1          2                   3           4    5         6\n",
       "0  chr1  213977101  213977102  chr1:214150445:T:A  rs17712208  Alb  0.249174\n",
       "1  chr1  213977477  213977478  chr1:214150821:G:C  rs79687284  Alb  0.750826"
      ]
     },
     "execution_count": 29,
     "metadata": {},
     "output_type": "execute_result"
    }
   ],
   "source": [
    "# hg38\n",
    "\n",
    "inputfile = f\"{PROJECT_DIR_d}papers/38014075/GWAS/UKBB_94traits_release1_filtered_{method}_hg38.bed.gz\"\n",
    "df_pip2 = pd.read_table(inputfile, header=None)\n",
    "df_select = df_pip2[(df_pip2[5]==\"Alb\") & (df_pip2[0]==\"chr1\") & (df_pip2[4].isin([\"rs17712208\", \"rs79687284\"]))].reset_index(drop=True).copy()\n",
    "df_select[6] = df_select[6].astype(float)\n",
    "df_select"
   ]
  },
  {
   "cell_type": "code",
   "execution_count": 30,
   "id": "1ea71c74-5802-4473-a4ff-5037f6f34c25",
   "metadata": {
    "execution": {
     "iopub.execute_input": "2025-09-23T00:21:19.025534Z",
     "iopub.status.busy": "2025-09-23T00:21:19.025086Z",
     "iopub.status.idle": "2025-09-23T00:21:19.032693Z",
     "shell.execute_reply": "2025-09-23T00:21:19.031804Z",
     "shell.execute_reply.started": "2025-09-23T00:21:19.025507Z"
    }
   },
   "outputs": [],
   "source": [
    "snps = {}\n",
    "for _, row in df_select.iterrows():\n",
    "\t# 1-based\n",
    "\tpos = row[2]\n",
    "\tref, alt = row[3].split(\":\")[2:]\n",
    "\trsid = row[4]\n",
    "\tpip = row[6]\n",
    "\tsnps[rsid] = (pos, ref, alt, pip)"
   ]
  },
  {
   "cell_type": "code",
   "execution_count": 33,
   "id": "2eba658b-c5a3-45de-9660-8f8d74513aa1",
   "metadata": {
    "execution": {
     "iopub.execute_input": "2025-09-23T00:21:44.853461Z",
     "iopub.status.busy": "2025-09-23T00:21:44.852787Z",
     "iopub.status.idle": "2025-09-23T00:21:48.652787Z",
     "shell.execute_reply": "2025-09-23T00:21:48.651497Z",
     "shell.execute_reply.started": "2025-09-23T00:21:44.853414Z"
    }
   },
   "outputs": [],
   "source": [
    "# We use 1kb input region for prediction\n",
    "\n",
    "def to_1kb(feature):\n",
    "\tchrom_lengths = pd.read_table(f\"{PROJECT_DIR_r}genomes/human/hg38.chrom.sizes.filtered\", header=None).set_index(0)[1].to_dict()\n",
    "\tchrom = feature.chrom\n",
    "\tstart = int(feature.start)\n",
    "\tend = int(feature.end)\n",
    "\tmid = (start + end) // 2\n",
    "\tnew_start = max(0, mid - 500)\n",
    "\tnew_end = min(mid + 500, chrom_lengths[chrom])\n",
    "\treturn pybedtools.Interval(chrom, new_start, new_end)"
   ]
  },
  {
   "cell_type": "code",
   "execution_count": 34,
   "id": "669d7f39-9d02-4641-af32-2a5cd28d9daf",
   "metadata": {
    "execution": {
     "iopub.execute_input": "2025-09-23T00:21:48.655436Z",
     "iopub.status.busy": "2025-09-23T00:21:48.654902Z",
     "iopub.status.idle": "2025-09-23T00:22:16.481453Z",
     "shell.execute_reply": "2025-09-23T00:22:16.480386Z",
     "shell.execute_reply.started": "2025-09-23T00:21:48.655395Z"
    }
   },
   "outputs": [],
   "source": [
    "beds = json_load(f\"{PROJECT_DIR_d2}PROcap/metainfo/sample_beds.json\")\n",
    "bws = json_load(f\"{PROJECT_DIR_d2}PROcap/metainfo/sample_bws.json\")"
   ]
  },
  {
   "cell_type": "code",
   "execution_count": 74,
   "id": "02fb42ad-80f6-4f60-8c15-e61fe0bd94d7",
   "metadata": {
    "execution": {
     "iopub.execute_input": "2025-09-23T01:15:42.469914Z",
     "iopub.status.busy": "2025-09-23T01:15:42.468779Z",
     "iopub.status.idle": "2025-09-23T01:16:54.699125Z",
     "shell.execute_reply": "2025-09-23T01:16:54.696912Z",
     "shell.execute_reply.started": "2025-09-23T01:15:42.469844Z"
    },
    "scrolled": true
   },
   "outputs": [],
   "source": [
    "s = \"EN55\"\n",
    "b1 = pybedtools.BedTool(f\"{PROJECT_DIR_d}papers/38014075/GWAS/UKBB_94traits_release1_filtered_{method}_hg38.bed.gz\")\n",
    "b2 = pybedtools.BedTool(beds[s][0])\n",
    "b2_1kb = b2.each(to_1kb)\n",
    "overlap = b1.intersect(b2_1kb, wao=True)\n",
    "pairs = []\n",
    "for i in overlap:\n",
    "\trsid = i.fields[4]\n",
    "\te = \"_\".join(i.fields[7:10])\n",
    "\tif rsid in [\"rs17712208\", \"rs79687284\"] and int(i.fields[-1]) > 0:\n",
    "\t\tif (rsid, e) not in pairs:\n",
    "\t\t\tpairs.append((rsid, e))"
   ]
  },
  {
   "cell_type": "code",
   "execution_count": 75,
   "id": "3a3c6f0a-9111-4f27-9a65-d1d400a78388",
   "metadata": {
    "execution": {
     "iopub.execute_input": "2025-09-23T01:16:54.701556Z",
     "iopub.status.busy": "2025-09-23T01:16:54.701198Z",
     "iopub.status.idle": "2025-09-23T01:16:54.710363Z",
     "shell.execute_reply": "2025-09-23T01:16:54.709793Z",
     "shell.execute_reply.started": "2025-09-23T01:16:54.701518Z"
    }
   },
   "outputs": [
    {
     "data": {
      "text/plain": [
       "[('rs17712208', 'chr1_213976621_213977621'),\n",
       " ('rs79687284', 'chr1_213976621_213977621'),\n",
       " ('rs79687284', 'chr1_213977213_213978213')]"
      ]
     },
     "execution_count": 75,
     "metadata": {},
     "output_type": "execute_result"
    }
   ],
   "source": [
    "# rs17712208: e1 ('chr1_213976621_213977621')\n",
    "# rs79687284: e1 and e2 ('chr1_213977213_213978213')\n",
    "\n",
    "pairs"
   ]
  },
  {
   "cell_type": "code",
   "execution_count": 37,
   "id": "63be0436-ea3d-48d9-aa70-14c87232c1ba",
   "metadata": {
    "execution": {
     "iopub.execute_input": "2025-09-23T00:23:31.440573Z",
     "iopub.status.busy": "2025-09-23T00:23:31.440322Z",
     "iopub.status.idle": "2025-09-23T00:23:49.070283Z",
     "shell.execute_reply": "2025-09-23T00:23:49.069070Z",
     "shell.execute_reply.started": "2025-09-23T00:23:31.440551Z"
    }
   },
   "outputs": [],
   "source": [
    "es = ['chr1_213976621_213977621', 'chr1_213977213_213978213']"
   ]
  },
  {
   "cell_type": "code",
   "execution_count": 89,
   "id": "c1f9580f-8e3b-4b56-b1a6-51495fa67a93",
   "metadata": {
    "execution": {
     "iopub.execute_input": "2025-09-23T01:33:56.875987Z",
     "iopub.status.busy": "2025-09-23T01:33:56.875500Z",
     "iopub.status.idle": "2025-09-23T01:34:26.258480Z",
     "shell.execute_reply": "2025-09-23T01:34:26.257591Z",
     "shell.execute_reply.started": "2025-09-23T01:33:56.875957Z"
    },
    "scrolled": true
   },
   "outputs": [],
   "source": [
    "task = \"counts\"\n",
    "b3 = pybedtools.BedTool(f\"{PROJECT_DIR_o}procapnet/finemo/{s}/{task}/hits_with_motif_names.bed\")\n",
    "overlap = b1.intersect(b3, wao=True)\n",
    "motifs = defaultdict(dict)\n",
    "for i in overlap:\n",
    "\trsid = i.fields[4]\n",
    "\tif rsid in [\"rs17712208\", \"rs79687284\"] and int(i.fields[-1]) > 0:\n",
    "\t\tmotif_start, motif_end, motif_name = i.fields[8:11]\n",
    "\t\tscore = i.fields[-5]\n",
    "\t\tif (rsid, motif_name) not in motifs:\n",
    "\t\t\tmotifs[(rsid, motif_name)] = (int(motif_start), int(motif_end), motif_name, score)\n",
    "\t\tif score >= motifs[(rsid, motif_name)][-1]:\n",
    "\t\t\tmotifs[(rsid, motif_name)] =  (int(motif_start), int(motif_end), motif_name, score)"
   ]
  },
  {
   "cell_type": "code",
   "execution_count": 90,
   "id": "96549841-0bfd-47d7-96f6-36477287a20f",
   "metadata": {
    "execution": {
     "iopub.execute_input": "2025-09-23T01:34:26.260105Z",
     "iopub.status.busy": "2025-09-23T01:34:26.259727Z",
     "iopub.status.idle": "2025-09-23T01:34:26.265178Z",
     "shell.execute_reply": "2025-09-23T01:34:26.264440Z",
     "shell.execute_reply.started": "2025-09-23T01:34:26.260078Z"
    }
   },
   "outputs": [
    {
     "data": {
      "text/plain": [
       "defaultdict(dict,\n",
       "            {('rs17712208', 'HNF1'): (213977099,\n",
       "              213977113,\n",
       "              'HNF1',\n",
       "              '0.75727075')})"
      ]
     },
     "execution_count": 90,
     "metadata": {},
     "output_type": "execute_result"
    }
   ],
   "source": [
    "motifs"
   ]
  },
  {
   "cell_type": "markdown",
   "id": "5cf534b9-bb52-4d5c-9943-3b4002c8aa93",
   "metadata": {},
   "source": [
    "# PIP + observed profiles"
   ]
  },
  {
   "cell_type": "code",
   "execution_count": 40,
   "id": "df277cdb-ad89-432c-b9b7-d7aa738fa9bc",
   "metadata": {
    "execution": {
     "iopub.execute_input": "2025-09-23T00:24:06.495936Z",
     "iopub.status.busy": "2025-09-23T00:24:06.495559Z",
     "iopub.status.idle": "2025-09-23T00:24:13.303497Z",
     "shell.execute_reply": "2025-09-23T00:24:13.302232Z",
     "shell.execute_reply.started": "2025-09-23T00:24:06.495910Z"
    }
   },
   "outputs": [],
   "source": [
    "# Get observed profiles in 2kb region covering both e1 and e2\n",
    "\n",
    "outputfile = f\"{PROJECT_DIR_o}procapnet/prediction/{s}/GWAS_example.bed\"\n",
    "center = 213977400\n",
    "with DelimitedWriter(outputfile) as dw:\n",
    "\tdw.write([\"chr1\", center-1000, center+1000])"
   ]
  },
  {
   "cell_type": "code",
   "execution_count": 38,
   "id": "a8151f30-9447-498c-91ac-424e78097697",
   "metadata": {
    "execution": {
     "iopub.execute_input": "2025-09-23T00:23:49.071794Z",
     "iopub.status.busy": "2025-09-23T00:23:49.071508Z",
     "iopub.status.idle": "2025-09-23T00:23:55.722684Z",
     "shell.execute_reply": "2025-09-23T00:23:55.721582Z",
     "shell.execute_reply.started": "2025-09-23T00:23:49.071760Z"
    }
   },
   "outputs": [
    {
     "name": "stdout",
     "output_type": "stream",
     "text": [
      "== In Extract Profiles ==\n",
      "Peak filepath: /home/yc2553/projects/HEA/output/procapnet/prediction/EN55/GWAS_example.bed\n",
      "Profile length: 2000\n",
      "Num. Examples: 1\n"
     ]
    }
   ],
   "source": [
    "obs_profs = extract_observed_profiles(bws[s][0],\n",
    "\t\t\t\t\t\t\t\t\tbws[s][1],\n",
    "\t\t\t\t\t\t\t\t\tf\"{PROJECT_DIR_o}procapnet/prediction/{s}/GWAS_example.bed\",\n",
    "\t\t\t\t\t\t\t\t\tout_window=2000)"
   ]
  },
  {
   "cell_type": "code",
   "execution_count": 7,
   "id": "ee51f4e1-5c42-4d74-9fdc-d879eef626a5",
   "metadata": {
    "execution": {
     "iopub.execute_input": "2025-09-23T00:06:21.681942Z",
     "iopub.status.busy": "2025-09-23T00:06:21.680079Z",
     "iopub.status.idle": "2025-09-23T00:06:21.699215Z",
     "shell.execute_reply": "2025-09-23T00:06:21.698142Z",
     "shell.execute_reply.started": "2025-09-23T00:06:21.681885Z"
    }
   },
   "outputs": [],
   "source": [
    "def plot_PROcap(array, ax, width=3):\t\n",
    "\torientations = {\"fwd\": \"#e31a1c\", \"rev\": \"#4A4AFF\"}\n",
    "\tlength = array.shape[1]\n",
    "\tresults = [[i, array[0][i], \"fwd\"] for i in range(length)]\n",
    "\tresults += [[i, -array[1][i], \"rev\"] for i in range(length)]\t\t\n",
    "\t\t\n",
    "\tdf = pd.DataFrame(results, columns=[\"position\", \"reads\", \"orientation\"])\n",
    "\t\n",
    "\tfor orientation, color in orientations.items():\n",
    "\t\tdf_orientation = df[df[\"orientation\"] == orientation]\n",
    "\t\tax.bar(df_orientation[\"position\"], df_orientation[\"reads\"], color=color, align=\"edge\", width=width)"
   ]
  },
  {
   "cell_type": "code",
   "execution_count": 41,
   "id": "e3812bcd-97af-4d6f-928e-49caa9546536",
   "metadata": {
    "execution": {
     "iopub.execute_input": "2025-09-23T00:24:13.306456Z",
     "iopub.status.busy": "2025-09-23T00:24:13.305680Z",
     "iopub.status.idle": "2025-09-23T00:24:58.247489Z",
     "shell.execute_reply": "2025-09-23T00:24:58.245587Z",
     "shell.execute_reply.started": "2025-09-23T00:24:13.306407Z"
    }
   },
   "outputs": [
    {
     "data": {
      "image/png": "[encoded data removed]",
      "text/plain": [
       "<Figure size 490x230 with 3 Axes>"
      ]
     },
     "metadata": {},
     "output_type": "display_data"
    }
   ],
   "source": [
    "# There are two elements in this region\n",
    "# Panel 1: PIP\n",
    "# Panel 2: Liver PRO-cap signals\n",
    "# Panel 3: 1-kb element for prediction\n",
    "\n",
    "fig, axes = plt.subplots(3, 1, figsize=(4.9,2.3), height_ratios=[1,2,1])\n",
    "for n in range(3):\n",
    "\t# pos, PIP\n",
    "\tif n == 0:\n",
    "\t\tfor rsid in snps:\n",
    "\t\t\ti = list(snps).index(rsid)\n",
    "\t\t\tcolor = \"r\" if i == 0 else \"grey\"\n",
    "\t\t\tpos, ref, alt, pip = snps[rsid]\n",
    "\t\t\taxes[n].scatter(pos, pip, c=color, s=50)\n",
    "\t\t\tx = pos-480 if i == 0 else pos+40\n",
    "\t\t\ty = pip+0.3 if i == 0 else pip-0.1\n",
    "\t\t\taxes[n].text(x=x, y=y, s=f\"{rsid} ({ref}>{alt})\", c=color, fontsize=bfontsize)\n",
    "\t\tylabel = \"PIP \\n(Alb)\"\n",
    "\t\taxes[n].spines[[\"top\", \"right\"]].set_visible(False)\n",
    "\t\taxes[n].set_ylim([0,1])\n",
    "\telif n == 1:\n",
    "\t\tplot_PROcap(obs_profs[0], axes[n])\n",
    "\t\taxes[n].axhline(y=0, ls=\"--\", c=\"#636363\")\n",
    "\t\tylabel = f\"Obs \\n(Liver)\"\n",
    "\telse:\n",
    "\t\tfor e in es:\n",
    "\t\t\tchrom, start, end = e.split(\"_\")\n",
    "\t\t\taxes[n].add_patch(Rectangle((int(start),0.7-es.index(e)*0.4), 1000, 0.2,\n",
    "\t\t\t\t\t\t edgecolor = \"#6baed6\",\n",
    "\t\t\t\t\t\t facecolor = \"#6baed6\",\n",
    "\t\t\t\t\t\t fill=True))\n",
    "\t\t\taxes[n].text(x=int(end)+20, y=0.7-es.index(e)*0.4, s=f\"e{es.index(e)+1}\", fontsize=bfontsize)\n",
    "\t\tylabel = \"Input \\nregion\"\n",
    "\t\taxes[n].spines[[\"top\", \"left\", \"right\"]].set_visible(False)\n",
    "\t\taxes[n].set_yticks([])\n",
    "\n",
    "\tfor rsid in snps:\n",
    "\t\tpos = snps[rsid][0]\n",
    "\t\tif n in [0,2]:\n",
    "\t\t\tpos2 = int(pos)\n",
    "\t\telse:\n",
    "\t\t\tpos2 = int(pos)-center+1000\n",
    "\t\tcolor = \"r\" if list(snps).index(rsid) == 0 else \"grey\"\n",
    "\t\taxes[n].axvline(x=pos2+0.5, ls=\"--\", c=color)\n",
    "\n",
    "\taxes[n].set_ylabel(ylabel, fontsize=bfontsize)\n",
    "\taxes[n].yaxis.set_label_coords(-0.08, 0.5)\n",
    "\t\n",
    "\tif n in [0,2]:\n",
    "\t\txlim = [center-1000, center+1000]\n",
    "\t\txticks = [center-750, center, center+750]\n",
    "\telse:\n",
    "\t\txlim = [0,2000]\n",
    "\t\txticks = [250,1000,1750]\n",
    "\taxes[n].set_xlim(xlim)\n",
    "\taxes[n].set_xticks(xticks)\n",
    "\tif n == 2:\n",
    "\t\taxes[n].set_xticklabels(xticks)\n",
    "\t\taxes[n].set_xlabel(chrom, fontsize=bfontsize)\n",
    "\telse:\n",
    "\t\taxes[n].set_xticklabels([])\n",
    "\t\taxes[n].set_xlabel(\"\")\n",
    "\t\t\n",
    "\taxes[n].tick_params(labelsize=sfontsize)\n",
    "plt.savefig(f\"{PROJECT_DIR_o}figures/Fig4c.pdf\", bbox_inches=\"tight\", transparent=True)"
   ]
  },
  {
   "cell_type": "markdown",
   "id": "52accf08-5691-4889-a0f3-1a111adc8206",
   "metadata": {},
   "source": [
    "# In silico mutagenesis"
   ]
  },
  {
   "cell_type": "code",
   "execution_count": 129,
   "id": "8a463dfb-ab68-4f82-8840-37269e9fec47",
   "metadata": {
    "execution": {
     "iopub.execute_input": "2025-09-22T17:07:58.354622Z",
     "iopub.status.busy": "2025-09-22T17:07:58.354076Z",
     "iopub.status.idle": "2025-09-22T17:08:23.151692Z",
     "shell.execute_reply": "2025-09-22T17:08:23.136652Z",
     "shell.execute_reply.started": "2025-09-22T17:07:58.354582Z"
    }
   },
   "outputs": [],
   "source": [
    "inputfile = f\"{PROJECT_DIR_r}genomes/human/GRCh38_no_alt_analysis_set_GCA_000001405.15.fasta\"\n",
    "with open(inputfile, \"r\") as f:\n",
    "    fdict = SeqIO.to_dict(SeqIO.parse(f, \"fasta\"))"
   ]
  },
  {
   "cell_type": "code",
   "execution_count": 264,
   "id": "8564a32c-e682-4ef5-8e67-ffb460087e99",
   "metadata": {
    "execution": {
     "iopub.execute_input": "2025-09-22T19:19:38.950753Z",
     "iopub.status.busy": "2025-09-22T19:19:38.950335Z",
     "iopub.status.idle": "2025-09-22T19:19:38.967505Z",
     "shell.execute_reply": "2025-09-22T19:19:38.966784Z",
     "shell.execute_reply.started": "2025-09-22T19:19:38.950728Z"
    },
    "scrolled": true
   },
   "outputs": [],
   "source": [
    "# Get the wild-type and mutant sequence for prediction\n",
    "\n",
    "outputfile = f\"{PROJECT_DIR_o}procapnet/prediction/GWAS_example_seqs.npy\"\n",
    "seqs = []\n",
    "for rsid, e in pairs:\n",
    "\tchrom, start, end = e.split(\"_\")\n",
    "\tstart, end = int(start), int(end)\n",
    "\twt_seq = fdict[chrom][start:end].seq.upper()\n",
    "\tpos, ref, alt = snps[rsid][:3]\n",
    "\tpos = int(pos)-1\n",
    "\tif fdict[chrom][pos] == ref:\n",
    "\t\tpos = pos-start\n",
    "\t\tmt_seq = wt_seq[:pos] + alt + wt_seq[pos+1:]\n",
    "\t\tfor seq in [wt_seq, mt_seq]:\n",
    "\t\t\tseqs.append(one_hot_encode(seq).T)\n",
    "seqs = np.array(seqs)\n",
    "np.save(outputfile, seqs)"
   ]
  },
  {
   "cell_type": "code",
   "execution_count": 42,
   "id": "c43a5872-88bb-48fd-b082-ebf55c86b1ed",
   "metadata": {
    "execution": {
     "iopub.execute_input": "2025-09-23T00:24:58.251364Z",
     "iopub.status.busy": "2025-09-23T00:24:58.249807Z",
     "iopub.status.idle": "2025-09-23T00:25:21.787977Z",
     "shell.execute_reply": "2025-09-23T00:25:21.786639Z",
     "shell.execute_reply.started": "2025-09-23T00:24:58.251320Z"
    }
   },
   "outputs": [],
   "source": [
    "groups = json_load(f\"{PROJECT_DIR_d2}PROcap/metainfo/samples.json\")\n",
    "folders = glob.glob(f\"{PROJECT_DIR_o}procapnet/deepshap_out/*\")\n",
    "models = [folder.split(\"/\")[-1] for folder in folders if folder.split(\"/\")[-1] in groups[\"normal_tissues\"]]"
   ]
  },
  {
   "cell_type": "code",
   "execution_count": 14,
   "id": "5c3b0e4a-ebf1-45f3-a4bc-ddf63e861cd3",
   "metadata": {
    "execution": {
     "iopub.execute_input": "2025-09-23T00:08:22.858973Z",
     "iopub.status.busy": "2025-09-23T00:08:22.858250Z",
     "iopub.status.idle": "2025-09-23T00:08:22.867987Z",
     "shell.execute_reply": "2025-09-23T00:08:22.866974Z",
     "shell.execute_reply.started": "2025-09-23T00:08:22.858916Z"
    },
    "scrolled": true
   },
   "outputs": [
    {
     "name": "stdout",
     "output_type": "stream",
     "text": [
      "bash /fs/cbsuhy02/storage/yc2553/yc2553/projects/3.Human_atlas/procapnet/slurm/predict.sh EN5 strand_merged_umap /home/yc2553/projects/HEA/output/procapnet/ /home/yc2553/projects/HEA/output/procapnet/prediction/GWAS_example_seqs.npy /home/yc2553/projects/HEA/output/procapnet/prediction/EN5/GWAS_example. 0\n",
      "bash /fs/cbsuhy02/storage/yc2553/yc2553/projects/3.Human_atlas/procapnet/slurm/predict.sh BCT5 strand_merged_umap /home/yc2553/projects/HEA/output/procapnet/ /home/yc2553/projects/HEA/output/procapnet/prediction/GWAS_example_seqs.npy /home/yc2553/projects/HEA/output/procapnet/prediction/BCT5/GWAS_example. 1\n",
      "bash /fs/cbsuhy02/storage/yc2553/yc2553/projects/3.Human_atlas/procapnet/slurm/predict.sh EN55 strand_merged_umap /home/yc2553/projects/HEA/output/procapnet/ /home/yc2553/projects/HEA/output/procapnet/prediction/GWAS_example_seqs.npy /home/yc2553/projects/HEA/output/procapnet/prediction/EN55/GWAS_example. 0\n",
      "bash /fs/cbsuhy02/storage/yc2553/yc2553/projects/3.Human_atlas/procapnet/slurm/predict.sh EN18 strand_merged_umap /home/yc2553/projects/HEA/output/procapnet/ /home/yc2553/projects/HEA/output/procapnet/prediction/GWAS_example_seqs.npy /home/yc2553/projects/HEA/output/procapnet/prediction/EN18/GWAS_example. 1\n",
      "bash /fs/cbsuhy02/storage/yc2553/yc2553/projects/3.Human_atlas/procapnet/slurm/predict.sh EN6 strand_merged_umap /home/yc2553/projects/HEA/output/procapnet/ /home/yc2553/projects/HEA/output/procapnet/prediction/GWAS_example_seqs.npy /home/yc2553/projects/HEA/output/procapnet/prediction/EN6/GWAS_example. 0\n",
      "bash /fs/cbsuhy02/storage/yc2553/yc2553/projects/3.Human_atlas/procapnet/slurm/predict.sh EN12 strand_merged_umap /home/yc2553/projects/HEA/output/procapnet/ /home/yc2553/projects/HEA/output/procapnet/prediction/GWAS_example_seqs.npy /home/yc2553/projects/HEA/output/procapnet/prediction/EN12/GWAS_example. 1\n",
      "bash /fs/cbsuhy02/storage/yc2553/yc2553/projects/3.Human_atlas/procapnet/slurm/predict.sh EN3 strand_merged_umap /home/yc2553/projects/HEA/output/procapnet/ /home/yc2553/projects/HEA/output/procapnet/prediction/GWAS_example_seqs.npy /home/yc2553/projects/HEA/output/procapnet/prediction/EN3/GWAS_example. 0\n",
      "bash /fs/cbsuhy02/storage/yc2553/yc2553/projects/3.Human_atlas/procapnet/slurm/predict.sh EN23 strand_merged_umap /home/yc2553/projects/HEA/output/procapnet/ /home/yc2553/projects/HEA/output/procapnet/prediction/GWAS_example_seqs.npy /home/yc2553/projects/HEA/output/procapnet/prediction/EN23/GWAS_example. 1\n",
      "bash /fs/cbsuhy02/storage/yc2553/yc2553/projects/3.Human_atlas/procapnet/slurm/predict.sh GT1 strand_merged_umap /home/yc2553/projects/HEA/output/procapnet/ /home/yc2553/projects/HEA/output/procapnet/prediction/GWAS_example_seqs.npy /home/yc2553/projects/HEA/output/procapnet/prediction/GT1/GWAS_example. 0\n",
      "bash /fs/cbsuhy02/storage/yc2553/yc2553/projects/3.Human_atlas/procapnet/slurm/predict.sh GT22 strand_merged_umap /home/yc2553/projects/HEA/output/procapnet/ /home/yc2553/projects/HEA/output/procapnet/prediction/GWAS_example_seqs.npy /home/yc2553/projects/HEA/output/procapnet/prediction/GT22/GWAS_example. 1\n",
      "bash /fs/cbsuhy02/storage/yc2553/yc2553/projects/3.Human_atlas/procapnet/slurm/predict.sh EN4 strand_merged_umap /home/yc2553/projects/HEA/output/procapnet/ /home/yc2553/projects/HEA/output/procapnet/prediction/GWAS_example_seqs.npy /home/yc2553/projects/HEA/output/procapnet/prediction/EN4/GWAS_example. 0\n",
      "bash /fs/cbsuhy02/storage/yc2553/yc2553/projects/3.Human_atlas/procapnet/slurm/predict.sh GT24 strand_merged_umap /home/yc2553/projects/HEA/output/procapnet/ /home/yc2553/projects/HEA/output/procapnet/prediction/GWAS_example_seqs.npy /home/yc2553/projects/HEA/output/procapnet/prediction/GT24/GWAS_example. 1\n",
      "bash /fs/cbsuhy02/storage/yc2553/yc2553/projects/3.Human_atlas/procapnet/slurm/predict.sh GT17 strand_merged_umap /home/yc2553/projects/HEA/output/procapnet/ /home/yc2553/projects/HEA/output/procapnet/prediction/GWAS_example_seqs.npy /home/yc2553/projects/HEA/output/procapnet/prediction/GT17/GWAS_example. 0\n",
      "bash /fs/cbsuhy02/storage/yc2553/yc2553/projects/3.Human_atlas/procapnet/slurm/predict.sh GT23 strand_merged_umap /home/yc2553/projects/HEA/output/procapnet/ /home/yc2553/projects/HEA/output/procapnet/prediction/GWAS_example_seqs.npy /home/yc2553/projects/HEA/output/procapnet/prediction/GT23/GWAS_example. 1\n",
      "bash /fs/cbsuhy02/storage/yc2553/yc2553/projects/3.Human_atlas/procapnet/slurm/predict.sh CHTN15 strand_merged_umap /home/yc2553/projects/HEA/output/procapnet/ /home/yc2553/projects/HEA/output/procapnet/prediction/GWAS_example_seqs.npy /home/yc2553/projects/HEA/output/procapnet/prediction/CHTN15/GWAS_example. 0\n"
     ]
    }
   ],
   "source": [
    "# Evalute variant effects using various models\n",
    "\n",
    "script = f\"{PROJECT_DIR_s}slurm/predict.sh\"\n",
    "model_type = \"strand_merged_umap\"\n",
    "inputfile = f\"{PROJECT_DIR_o}procapnet/prediction/GWAS_example_seqs.npy\"\n",
    "for s in models:\n",
    "\tcommands = [\"bash\", script,\n",
    "\t\t\t\ts,\n",
    "\t\t\t\tmodel_type,\n",
    "\t\t\t\tf\"{PROJECT_DIR_o}procapnet/\",\n",
    "\t\t\t\tinputfile,\n",
    "\t\t\t\tf\"{PROJECT_DIR_o}procapnet/prediction/{s}/GWAS_example.\",\n",
    "\t\t\t\tstr(models.index(s)%2)\n",
    "\t\t\t\t]\n",
    "\tprint(\" \".join(commands))"
   ]
  },
  {
   "cell_type": "code",
   "execution_count": 43,
   "id": "e548d089-4228-4574-aeee-00839a734377",
   "metadata": {
    "execution": {
     "iopub.execute_input": "2025-09-23T00:25:21.789262Z",
     "iopub.status.busy": "2025-09-23T00:25:21.788977Z",
     "iopub.status.idle": "2025-09-23T00:25:23.551784Z",
     "shell.execute_reply": "2025-09-23T00:25:23.550780Z",
     "shell.execute_reply.started": "2025-09-23T00:25:21.789237Z"
    }
   },
   "outputs": [
    {
     "data": {
      "text/html": [
       "<div>\n",
       "<style scoped>\n",
       "    .dataframe tbody tr th:only-of-type {\n",
       "        vertical-align: middle;\n",
       "    }\n",
       "\n",
       "    .dataframe tbody tr th {\n",
       "        vertical-align: top;\n",
       "    }\n",
       "\n",
       "    .dataframe thead th {\n",
       "        text-align: right;\n",
       "    }\n",
       "</style>\n",
       "<table border=\"1\" class=\"dataframe\">\n",
       "  <thead>\n",
       "    <tr style=\"text-align: right;\">\n",
       "      <th></th>\n",
       "      <th>model</th>\n",
       "      <th>pair</th>\n",
       "      <th>logFC</th>\n",
       "    </tr>\n",
       "  </thead>\n",
       "  <tbody>\n",
       "    <tr>\n",
       "      <th>0</th>\n",
       "      <td>Others</td>\n",
       "      <td>rs17712208-e1</td>\n",
       "      <td>-0.467436</td>\n",
       "    </tr>\n",
       "    <tr>\n",
       "      <th>1</th>\n",
       "      <td>Others</td>\n",
       "      <td>rs79687284-e1</td>\n",
       "      <td>-0.013014</td>\n",
       "    </tr>\n",
       "  </tbody>\n",
       "</table>\n",
       "</div>"
      ],
      "text/plain": [
       "    model           pair     logFC\n",
       "0  Others  rs17712208-e1 -0.467436\n",
       "1  Others  rs79687284-e1 -0.013014"
      ]
     },
     "execution_count": 43,
     "metadata": {},
     "output_type": "execute_result"
    }
   ],
   "source": [
    "# Count task: calculate |log2FC|\n",
    "\n",
    "results = []\n",
    "for s in models:\n",
    "\tdata = np.load(f\"{PROJECT_DIR_o}procapnet/prediction/{s}/GWAS_example.pred_counts.npy\")\n",
    "\tdata = np.exp(data).flatten().tolist()\n",
    "\tfor rsid, e in pairs:\n",
    "\t\tn = pairs.index((rsid, e))\n",
    "\t\t# mt/wt\n",
    "\t\tlogFC = np.log2(data[n*2+1]/data[n*2])\n",
    "\t\tmodel = \"Liver\" if s == \"EN55\" else \"Others\"\n",
    "\t\tresults.append([model, f\"{rsid}-e{es.index(e)+1}\", logFC])\n",
    "df_FC = pd.DataFrame(results, columns=[\"model\", \"pair\", \"logFC\"])\n",
    "df_FC.head(2)"
   ]
  },
  {
   "cell_type": "code",
   "execution_count": 44,
   "id": "6782fa84-c814-411c-babd-373aab450455",
   "metadata": {
    "execution": {
     "iopub.execute_input": "2025-09-23T00:25:23.554083Z",
     "iopub.status.busy": "2025-09-23T00:25:23.553588Z",
     "iopub.status.idle": "2025-09-23T00:25:28.711500Z",
     "shell.execute_reply": "2025-09-23T00:25:28.710075Z",
     "shell.execute_reply.started": "2025-09-23T00:25:23.554055Z"
    }
   },
   "outputs": [],
   "source": [
    "cdict = json_load(f\"{PROJECT_DIR_d2}PROcap/metainfo/color_codes.json\")"
   ]
  },
  {
   "cell_type": "code",
   "execution_count": 45,
   "id": "ef846664-fafa-4d0b-9dc6-e7fe0ec7c099",
   "metadata": {
    "execution": {
     "iopub.execute_input": "2025-09-23T00:25:28.713515Z",
     "iopub.status.busy": "2025-09-23T00:25:28.712823Z",
     "iopub.status.idle": "2025-09-23T00:25:35.218630Z",
     "shell.execute_reply": "2025-09-23T00:25:35.217462Z",
     "shell.execute_reply.started": "2025-09-23T00:25:28.713472Z"
    }
   },
   "outputs": [
    {
     "data": {
      "image/png": "[encoded data removed]",
      "text/plain": [
       "<Figure size 300x260 with 1 Axes>"
      ]
     },
     "metadata": {},
     "output_type": "display_data"
    }
   ],
   "source": [
    "fig, ax = plt.subplots(figsize=(3,2.6))\n",
    "g = sns.stripplot(data=df_FC, x=\"pair\", y=\"logFC\", edgecolor=\"black\", linewidth=lw,\n",
    "\t\t\t\t  hue=\"model\", hue_order=[\"Liver\", \"Others\"], palette=[cdict[\"Liver\"], \"#bdbdbd\"], \n",
    "\t\t\t\t  s=10, dodge=True, ax=ax)\n",
    "g.spines[[\"top\",\"right\"]].set_visible(False)\n",
    "g.legend(title=\"Model\", title_fontsize=sfontsize, fontsize=sfontsize, frameon=False)\n",
    "g.axhline(y=0, ls=\"--\", lw=lw, c=\"#bdbdbd\")\n",
    "g.set_xlabel(\"\")\n",
    "g.tick_params(axis=\"x\", labelsize=bfontsize, rotation=30)\n",
    "for label in g.get_xticklabels():\n",
    "    label.set_horizontalalignment(\"right\")\n",
    "g.set_ylabel(\"log$_2$FC(mt/wt)\", fontsize=bfontsize)\n",
    "g.tick_params(axis=\"y\", labelsize=sfontsize)\n",
    "plt.savefig(f\"{PROJECT_DIR_o}figures/Fig4d.pdf\", bbox_inches=\"tight\", transparent=True)"
   ]
  },
  {
   "cell_type": "markdown",
   "id": "9d8a5734-9409-4069-aa67-642640dae2ad",
   "metadata": {},
   "source": [
    "# Get contribution scores"
   ]
  },
  {
   "cell_type": "code",
   "execution_count": 59,
   "id": "ae3db96f-55d6-456a-a73c-257ce9aac0b0",
   "metadata": {
    "execution": {
     "iopub.execute_input": "2025-09-23T00:34:27.193786Z",
     "iopub.status.busy": "2025-09-23T00:34:27.188136Z",
     "iopub.status.idle": "2025-09-23T00:34:32.171810Z",
     "shell.execute_reply": "2025-09-23T00:34:32.170206Z",
     "shell.execute_reply.started": "2025-09-23T00:34:27.193718Z"
    }
   },
   "outputs": [
    {
     "name": "stdout",
     "output_type": "stream",
     "text": [
      "bash /fs/cbsuhy02/storage/yc2553/yc2553/projects/3.Human_atlas/procapnet/slurm/interpret_any.sh EN55 strand_merged_umap /home/yc2553/projects/HEA/output/procapnet/ /home/yc2553/projects/HEA/output/procapnet/prediction/GWAS_example_seqs.npy /home/yc2553/projects/HEA/output/procapnet/prediction/EN55/GWAS_example.\n"
     ]
    }
   ],
   "source": [
    "# Get contribution scores; add GPU ID\n",
    "\n",
    "script = f\"{PROJECT_DIR_s}slurm/interpret_any.sh\"\n",
    "inputfile = f\"{PROJECT_DIR_o}procapnet/prediction/GWAS_example_seqs.npy\"\n",
    "s = \"EN55\"\n",
    "commands = [\"bash\", script,\n",
    "\t\t\ts,\n",
    "\t\t\tmodel_type,\n",
    "\t\t\tf\"{PROJECT_DIR_o}procapnet/\",\n",
    "\t\t\tinputfile,\n",
    "\t\t\tf\"{PROJECT_DIR_o}procapnet/prediction/{s}/GWAS_example.\",\n",
    "\t\t\t]\n",
    "print(\" \".join(commands))"
   ]
  },
  {
   "cell_type": "markdown",
   "id": "d59ddfa6-dbf3-4b1c-ba37-5f91529a6d38",
   "metadata": {},
   "source": [
    "# Browser shots"
   ]
  },
  {
   "cell_type": "code",
   "execution_count": 18,
   "id": "3c4502a5-b036-4fe9-bf13-bcfe66bcd1a6",
   "metadata": {
    "execution": {
     "iopub.execute_input": "2025-09-23T00:10:00.673106Z",
     "iopub.status.busy": "2025-09-23T00:10:00.672363Z",
     "iopub.status.idle": "2025-09-23T00:10:00.680155Z",
     "shell.execute_reply": "2025-09-23T00:10:00.678613Z",
     "shell.execute_reply.started": "2025-09-23T00:10:00.673056Z"
    }
   },
   "outputs": [],
   "source": [
    "def plot_scores(array, ax):\n",
    "\tutils.plot_weights(array[:, 250:750], ax)\n",
    "\tax.ticklabel_format(style=\"sci\", axis=\"y\", scilimits=(0,0), useMathText=True)"
   ]
  },
  {
   "cell_type": "code",
   "execution_count": 111,
   "id": "74711637-c3e9-4bf8-bdff-ab5f9dc3463f",
   "metadata": {
    "execution": {
     "iopub.execute_input": "2025-09-23T01:58:57.951273Z",
     "iopub.status.busy": "2025-09-23T01:58:57.950797Z",
     "iopub.status.idle": "2025-09-23T01:58:57.966985Z",
     "shell.execute_reply": "2025-09-23T01:58:57.966270Z",
     "shell.execute_reply.started": "2025-09-23T01:58:57.951246Z"
    }
   },
   "outputs": [],
   "source": [
    "def plot_example(e, snp, motif, pred_profs, scores, outputfile, xlims=None, ylims=None, yticks=None):\n",
    "\tfig, ax = plt.subplots(4, 1, figsize=(4.8,2.8))\n",
    "\n",
    "\tchrom, start, end = e.split(\"_\")\n",
    "\tsnp_pos = int(snp[0]) - 1 - int(start) - 250\n",
    "\tm_start, m_end, motif_name = motif[:-1]\n",
    "\tm_start2 = m_start - int(start) - 250\t\n",
    "\tm_end2 = m_start2 + m_end - m_start\n",
    "\t\n",
    "\tfor k in range(4):\n",
    "\t\t# Predicted PROcap signals (wt)\n",
    "\t\tif k == 0:\n",
    "\t\t\tplot_PROcap(pred_profs[0], ax[k], 1)\n",
    "\t\t\tylabel = \"Pred\\n(wt)\"\n",
    "\t\t# Contribution score (wt)\n",
    "\t\telif k == 1:\n",
    "\t\t\tplot_scores(scores[0], ax[k])\n",
    "\t\t\tylabel = \"Score\\n(wt)\"\n",
    "\t\t# Predicted PROcap signals (mt)\n",
    "\t\telif k == 2:\n",
    "\t\t\tplot_PROcap(pred_profs[1], ax[k], 1)\n",
    "\t\t\tylabel = \"Pred\\n(mt)\"\n",
    "\t\t\tax[k].axhline(y=0, ls=\"--\", c=\"r\")\n",
    "\t\t# Contribution score (mt)\n",
    "\t\telse:\n",
    "\t\t\tplot_scores(scores[1], ax[k])\n",
    "\t\t\tylabel = \"Score\\n(mt)\"\n",
    "\t\t\t\n",
    "\t\tax[k].set_ylabel(ylabel, fontsize=bfontsize)\n",
    "\t\tax[k].yaxis.set_label_coords(-0.1, 0.5)\n",
    "\t\tax[k].axvline(x=snp_pos+0.5, ls=\"--\", c=\"r\", lw=lw)\n",
    "\n",
    "\t\tif xlims:\n",
    "\t\t\tax[k].set_xlim(xlims)\n",
    "\t\t\tnticks = (xlims[1]-xlims[0])//100+1\n",
    "\t\t\txticks = [xlims[0]+n*100 for n in range(nticks)]\n",
    "\t\t\t# In the center\n",
    "\t\t\tax[k].set_xticks([x+0.5 for x in xticks])\n",
    "\t\t\tif k == 3:\n",
    "\t\t\t\t# Genomic coordinates: 1-based\n",
    "\t\t\t\txticklabels = [int(start)+250+x+1 for x in xticks]\n",
    "\t\t\t\tax[k].set_xticklabels(xticklabels)\n",
    "\t\t\t\tax[k].set_xlabel(chrom, fontsize=bfontsize)\n",
    "\t\t\telse:\n",
    "\t\t\t\tax[k].set_xticklabels([])\n",
    "\t\t\t\tax[k].set_xlabel(\"\")\n",
    "\n",
    "\t\tif ylims:\n",
    "\t\t\t# Predicted PROcap signals \n",
    "\t\t\tif k in [0,2]:\n",
    "\t\t\t\tylim = ylims[0]\n",
    "\t\t\t\tytick = yticks[0]\n",
    "\t\t\t\tax[k].axhline(y=0, ls=\"--\", c=\"#636363\")\n",
    "\t\t\t# Contribution scores\n",
    "\t\t\telse:\n",
    "\t\t\t\tylim = ylims[1]\n",
    "\t\t\t\tytick = yticks[1]\n",
    "\t\t\t\tax[k].ticklabel_format(style=\"plain\", axis=\"y\")\n",
    "\t\t\t\tax[k].fill_betweenx(y=ylim, x1=m_start2, x2=m_end2, color=cdict[\"Liver\"], alpha=0.3)\n",
    "\t\t\t\tif k == 1:\n",
    "\t\t\t\t\tax[k].text(x=m_start2+20, y=ylim[1]*0.5, s=motif_name, fontsize=bfontsize, color=cdict[\"Liver\"])\n",
    "\t\t\t\t\n",
    "\t\t\tax[k].set_ylim(ylim)\n",
    "\t\t\tax[k].set_yticks(ytick)\n",
    "\t\tax[k].tick_params(labelsize=sfontsize)\n",
    "\t\t\n",
    "\tplt.subplots_adjust(hspace=0.2)\n",
    "\tplt.savefig(outputfile, bbox_inches=\"tight\", transparent=True)"
   ]
  },
  {
   "cell_type": "code",
   "execution_count": 60,
   "id": "96036fe5-a12a-44b7-be6b-7fd2292a6c43",
   "metadata": {
    "execution": {
     "iopub.execute_input": "2025-09-23T00:34:36.416574Z",
     "iopub.status.busy": "2025-09-23T00:34:36.410164Z",
     "iopub.status.idle": "2025-09-23T00:34:37.143511Z",
     "shell.execute_reply": "2025-09-23T00:34:37.142439Z",
     "shell.execute_reply.started": "2025-09-23T00:34:36.416533Z"
    }
   },
   "outputs": [],
   "source": [
    "pred_profiles = np.load(f\"{PROJECT_DIR_o}procapnet/prediction/{s}/GWAS_example.pred_profiles.npy\")\n",
    "pred_counts = np.load(f\"{PROJECT_DIR_o}procapnet/prediction/{s}/GWAS_example.pred_counts.npy\")\n",
    "scaled_pred_profiles = pred_profiles * np.exp(pred_counts)[..., None]\n",
    "scores = np.load(f\"{PROJECT_DIR_o}procapnet/prediction/{s}/GWAS_example.count_scores.npy\")"
   ]
  },
  {
   "cell_type": "code",
   "execution_count": 114,
   "id": "6037ff7c-b659-41e1-8e39-aa8d66b27f8c",
   "metadata": {
    "execution": {
     "iopub.execute_input": "2025-09-23T02:00:26.041887Z",
     "iopub.status.busy": "2025-09-23T02:00:26.041355Z",
     "iopub.status.idle": "2025-09-23T02:01:03.409279Z",
     "shell.execute_reply": "2025-09-23T02:01:03.408580Z",
     "shell.execute_reply.started": "2025-09-23T02:00:26.041851Z"
    }
   },
   "outputs": [
    {
     "data": {
      "image/png": "[encoded data removed]",
      "text/plain": [
       "<Figure size 480x280 with 4 Axes>"
      ]
     },
     "metadata": {},
     "output_type": "display_data"
    }
   ],
   "source": [
    "xlims = [120,370]\n",
    "ylims = [[-17,32], [-0.05, 0.15]]\n",
    "yticks = [[-15,0,15,30], [0,0.1]]\n",
    "outputfile = f\"{PROJECT_DIR_o}figures/Fig4e.pdf\"\n",
    "plot_example(es[0], snps[\"rs17712208\"], motifs[('rs17712208', 'HNF1')], scaled_pred_profiles[:2], scores[:2], outputfile, xlims, ylims, yticks)"
   ]
  },
  {
   "cell_type": "code",
   "execution_count": null,
   "id": "ddaeeff4-85c9-41e2-b76f-01ed38a6adfe",
   "metadata": {},
   "outputs": [],
   "source": []
  }
 ],
 "metadata": {
  "kernelspec": {
   "display_name": "Python 3 (ipykernel)",
   "language": "python",
   "name": "python3"
  },
  "language_info": {
   "codemirror_mode": {
    "name": "ipython",
    "version": 3
   },
   "file_extension": ".py",
   "mimetype": "text/x-python",
   "name": "python",
   "nbconvert_exporter": "python",
   "pygments_lexer": "ipython3",
   "version": "3.10.8"
  }
 },
 "nbformat": 4,
 "nbformat_minor": 5
}
