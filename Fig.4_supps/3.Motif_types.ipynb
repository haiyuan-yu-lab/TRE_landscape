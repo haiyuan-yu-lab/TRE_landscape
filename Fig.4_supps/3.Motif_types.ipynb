{
 "cells": [
  {
   "cell_type": "code",
   "execution_count": 1,
   "id": "81707ec2-03a1-4a61-97b7-f56e1cb51060",
   "metadata": {
    "editable": true,
    "execution": {
     "iopub.execute_input": "2025-09-21T21:38:02.408066Z",
     "iopub.status.busy": "2025-09-21T21:38:02.407488Z",
     "iopub.status.idle": "2025-09-21T21:38:08.860114Z",
     "shell.execute_reply": "2025-09-21T21:38:08.859018Z",
     "shell.execute_reply.started": "2025-09-21T21:38:02.408020Z"
    },
    "slideshow": {
     "slide_type": ""
    },
    "tags": []
   },
   "outputs": [],
   "source": [
    "import matplotlib\n",
    "import matplotlib.pyplot as plt\n",
    "import pandas as pd\n",
    "from biodatatools.utils.common import json_load\n",
    "from biodata.delimited import DelimitedReader\n",
    "from bs4 import BeautifulSoup\n",
    "import matplotlib.image as mpimg\n",
    "import itertools\n",
    "import glob\n",
    "import os\n",
    "import pickle"
   ]
  },
  {
   "cell_type": "code",
   "execution_count": 2,
   "id": "4a2e84f8-a8d7-469d-b3b5-9fde82b4f04c",
   "metadata": {
    "execution": {
     "iopub.execute_input": "2025-09-21T21:38:08.862112Z",
     "iopub.status.busy": "2025-09-21T21:38:08.861625Z",
     "iopub.status.idle": "2025-09-21T21:38:08.865770Z",
     "shell.execute_reply": "2025-09-21T21:38:08.864988Z",
     "shell.execute_reply.started": "2025-09-21T21:38:08.862086Z"
    },
    "tags": []
   },
   "outputs": [],
   "source": [
    "PROJECT_DIR_d = \"/home/yc2553/projects/HEA/databases/\"\n",
    "PROJECT_DIR_o = \"/home/yc2553/projects/HEA/output/procapnet/\"\n",
    "PROJECT_DIR_r = \"/fs/cbsuhy02/storage/yc2553/yc2553/projects/TRE_directionality/resources/\""
   ]
  },
  {
   "cell_type": "markdown",
   "id": "142c5f23-f601-4bac-9b4b-46661fcfe1be",
   "metadata": {},
   "source": [
    "# Get motifs for each model"
   ]
  },
  {
   "cell_type": "code",
   "execution_count": 3,
   "id": "4b67d686-04d9-4e25-b569-67bd6d657747",
   "metadata": {
    "execution": {
     "iopub.execute_input": "2025-09-21T21:38:08.866744Z",
     "iopub.status.busy": "2025-09-21T21:38:08.866535Z",
     "iopub.status.idle": "2025-09-21T21:38:08.877999Z",
     "shell.execute_reply": "2025-09-21T21:38:08.877170Z",
     "shell.execute_reply.started": "2025-09-21T21:38:08.866722Z"
    }
   },
   "outputs": [],
   "source": [
    "labels = json_load(f\"{PROJECT_DIR_d}PROcap/metainfo/classifications.json\")\n",
    "groups = json_load(f\"{PROJECT_DIR_d}PROcap/metainfo/samples.json\")"
   ]
  },
  {
   "cell_type": "code",
   "execution_count": 4,
   "id": "c4975fb4-93f8-4d2d-9df6-082470bc99d1",
   "metadata": {
    "execution": {
     "iopub.execute_input": "2025-09-21T21:38:08.879572Z",
     "iopub.status.busy": "2025-09-21T21:38:08.879263Z",
     "iopub.status.idle": "2025-09-21T21:38:08.891814Z",
     "shell.execute_reply": "2025-09-21T21:38:08.891019Z",
     "shell.execute_reply.started": "2025-09-21T21:38:08.879549Z"
    }
   },
   "outputs": [
    {
     "data": {
      "text/plain": [
       "15"
      ]
     },
     "execution_count": 4,
     "metadata": {},
     "output_type": "execute_result"
    }
   ],
   "source": [
    "# Keep these models, though we also lower the cutoffs to include EN55\n",
    "# We may not necessarily explain why we include these models\n",
    "\n",
    "folders = glob.glob(f\"{PROJECT_DIR_o}deepshap_out/*\")\n",
    "samples = [folder.split(\"/\")[-1] for folder in folders if folder.split(\"/\")[-1] in groups[\"normal_tissues\"]]\n",
    "len(samples)"
   ]
  },
  {
   "cell_type": "code",
   "execution_count": 5,
   "id": "93185bf7-7779-4271-8af9-f37d06be79d0",
   "metadata": {
    "execution": {
     "iopub.execute_input": "2025-09-21T21:38:13.398907Z",
     "iopub.status.busy": "2025-09-21T21:38:13.398464Z",
     "iopub.status.idle": "2025-09-21T21:38:13.404676Z",
     "shell.execute_reply": "2025-09-21T21:38:13.403705Z",
     "shell.execute_reply.started": "2025-09-21T21:38:13.398880Z"
    },
    "scrolled": true
   },
   "outputs": [],
   "source": [
    "def get_html_table(html):\n",
    "\twith open(html, 'r', encoding='utf-8') as file:\n",
    "\t    html_content = file.read()\n",
    "\tsoup = BeautifulSoup(html_content, 'html.parser')\n",
    "\ttable = soup.find('table')\n",
    "\ttable_rows = table.find_all('tr')\n",
    "\theaders = []\n",
    "\tfor th in table_rows[0].find_all('th'):\n",
    "\t    headers.append(th.text.strip())\n",
    "\tdata = []\n",
    "\tfor tr in table_rows[1:]:\n",
    "\t    row = []\n",
    "\t    for td in tr.find_all('td'):\n",
    "\t        row.append(td.text.strip())\n",
    "\t    data.append(row)\n",
    "\tdf = pd.DataFrame(data, columns=headers)\n",
    "\treturn df"
   ]
  },
  {
   "cell_type": "code",
   "execution_count": 6,
   "id": "bb853a20-df06-4564-9f8d-72fb85896897",
   "metadata": {
    "execution": {
     "iopub.execute_input": "2025-09-21T21:38:13.978675Z",
     "iopub.status.busy": "2025-09-21T21:38:13.978116Z",
     "iopub.status.idle": "2025-09-21T21:38:14.055417Z",
     "shell.execute_reply": "2025-09-21T21:38:14.054248Z",
     "shell.execute_reply.started": "2025-09-21T21:38:13.978641Z"
    }
   },
   "outputs": [],
   "source": [
    "# Get the motif name\n",
    "\n",
    "motif_file = f\"{PROJECT_DIR_r}other/JASPAR/JASPAR2024_CORE_vertebrates_non-redundant_pfms_meme.txt\"\n",
    "names = {}\n",
    "with DelimitedReader(motif_file) as dr:\n",
    "\tfor cols in dr:\n",
    "\t\tif \"MOTIF\" in cols[0]:\n",
    "\t\t\tid, name = cols[0].split(\" \")[1:]\n",
    "\t\t\tnames[id] = name"
   ]
  },
  {
   "cell_type": "code",
   "execution_count": 13,
   "id": "520077ab-0f44-4948-aeba-e578297f3d97",
   "metadata": {
    "execution": {
     "iopub.execute_input": "2025-08-03T20:52:21.313699Z",
     "iopub.status.busy": "2025-08-03T20:52:21.313440Z",
     "iopub.status.idle": "2025-08-03T20:52:40.770695Z",
     "shell.execute_reply": "2025-08-03T20:52:40.770199Z",
     "shell.execute_reply.started": "2025-08-03T20:52:21.313680Z"
    }
   },
   "outputs": [],
   "source": [
    "# task = \"profile\"\n",
    "# s = \"EN55\"\n",
    "# inputfile = f\"{PROJECT_DIR_o}modisco_out/{s}/{model_type}/merged/{task}_modisco_results.hd5\"\n",
    "# outdir = f\"{PROJECT_DIR_o}modisco_out/{s}/{model_type}/merged/{task}/\"\n",
    "# if not exists(outdir):\n",
    "# \tos.mkdir(outdir)\n",
    "# commands = [\"modisco report\",\n",
    "# \t\t\t\"-i\", inputfile,\n",
    "# \t\t\t\"-o\", outdir,\n",
    "# \t\t\t\"-s\", outdir,\n",
    "# \t\t\t\"-m\", motif_file\n",
    "# \t\t\t]\n",
    "# print(\" \".join(commands))"
   ]
  },
  {
   "cell_type": "code",
   "execution_count": 7,
   "id": "a7335b0f-bd37-4260-9235-dcc2c25deb38",
   "metadata": {
    "execution": {
     "iopub.execute_input": "2025-09-21T21:38:16.173405Z",
     "iopub.status.busy": "2025-09-21T21:38:16.172824Z",
     "iopub.status.idle": "2025-09-21T21:38:16.177329Z",
     "shell.execute_reply": "2025-09-21T21:38:16.176513Z",
     "shell.execute_reply.started": "2025-09-21T21:38:16.173369Z"
    }
   },
   "outputs": [],
   "source": [
    "model_type = \"strand_merged_umap\"\n",
    "tasks = [\"counts\", \"profile\"]"
   ]
  },
  {
   "cell_type": "code",
   "execution_count": 8,
   "id": "95d2b2cc-8696-4f18-a35a-c975552e7a28",
   "metadata": {
    "execution": {
     "iopub.execute_input": "2025-09-21T21:38:18.236394Z",
     "iopub.status.busy": "2025-09-21T21:38:18.235675Z",
     "iopub.status.idle": "2025-09-21T21:38:21.403403Z",
     "shell.execute_reply": "2025-09-21T21:38:21.402333Z",
     "shell.execute_reply.started": "2025-09-21T21:38:18.236344Z"
    }
   },
   "outputs": [],
   "source": [
    "# Will get scripts from Alden\n",
    "# Now just use the output files\n",
    "\n",
    "dfs = {}\n",
    "outdirs = {}\n",
    "for s, task in itertools.product(samples, tasks):\n",
    "\tif s == \"EN55\":\n",
    "\t\toutdir = f\"{PROJECT_DIR_o}modisco_out/{s}/{model_type}/merged/{task}/\"\n",
    "\telse:\n",
    "\t\toutdir = f\"{PROJECT_DIR_o}modisco_report/{task}/{s}/\"\n",
    "\toutdirs[(s, task)] = outdir\n",
    "\tdfs[(s, task)] = get_html_table(f\"{outdir}motifs.html\")"
   ]
  },
  {
   "cell_type": "code",
   "execution_count": 9,
   "id": "278ade99-8a68-477a-979d-fb1906adb258",
   "metadata": {
    "execution": {
     "iopub.execute_input": "2025-09-21T21:38:21.405218Z",
     "iopub.status.busy": "2025-09-21T21:38:21.404817Z",
     "iopub.status.idle": "2025-09-21T21:38:21.412847Z",
     "shell.execute_reply": "2025-09-21T21:38:21.412003Z",
     "shell.execute_reply.started": "2025-09-21T21:38:21.405179Z"
    },
    "scrolled": true
   },
   "outputs": [],
   "source": [
    "def show_patterns(s, task, cutoff=0.1):\n",
    "\tprint(s, labels[s])\n",
    "\tfor index, row in dfs[(s,task)].iterrows():\n",
    "\t\tif int(row['num_seqlets']) >= 200:\n",
    "\t\t\tmatches = [f\"match{n}\" for n in range(3) if (row[\"match\"+str(n)] != \"NaN\" and float(row[\"qval\"+str(n)]) < cutoff)]\n",
    "\t\t\tnrows = len(matches) + 2\n",
    "\t\t\tfig, ax = plt.subplots(nrows, 1, figsize=(3, nrows), dpi=300)\n",
    "\t\t\n",
    "\t\t\tfor n in range(nrows):\n",
    "\t\t\t\tif n == 0:\n",
    "\t\t\t\t\ttitle = f\"{row['pattern']}.fwd  (n={row['num_seqlets']})\"\n",
    "\t\t\t\t\timage = f\"{outdirs[(s,task)]}trimmed_logos/{row['pattern']}.cwm.fwd.png\"\n",
    "\t\t\t\telif n == 1:\n",
    "\t\t\t\t\ttitle = f\"{row['pattern']}.rev  (n={row['num_seqlets']})\"\n",
    "\t\t\t\t\timage = f\"{outdirs[(s,task)]}trimmed_logos/{row['pattern']}.cwm.rev.png\"\n",
    "\t\t\t\telse:\n",
    "\t\t\t\t\tmid = row[matches[n-2]]\n",
    "\t\t\t\t\ttitle = f\"{names[mid]} ({mid})\"\n",
    "\t\t\t\t\timage = f\"{outdirs[(s,task)]}/{mid}.png\"\n",
    "\t\t\t\timg = mpimg.imread(image)\n",
    "\t\t\t\tax[n].imshow(img)\n",
    "\t\t\t\tax[n].axis('off') \n",
    "\t\t\t\tax[n].set_title(title, fontsize=8)\n",
    "\t\t\tplt.subplots_adjust(hspace=0.4)\n",
    "\t\t\tplt.show()"
   ]
  },
  {
   "cell_type": "code",
   "execution_count": 17,
   "id": "30bdd4ac-1a9c-4705-a997-035cb9aaf246",
   "metadata": {
    "execution": {
     "iopub.execute_input": "2025-08-03T20:52:45.066099Z",
     "iopub.status.busy": "2025-08-03T20:52:45.065782Z",
     "iopub.status.idle": "2025-08-03T20:52:46.415889Z",
     "shell.execute_reply": "2025-08-03T20:52:46.415415Z",
     "shell.execute_reply.started": "2025-08-03T20:52:45.066082Z"
    }
   },
   "outputs": [],
   "source": [
    "# Filtering\n",
    "#1. can be reliably matched to known motifs (tomtom qval<0.1; manually go through the list to make sure they do match the known motif)\n",
    "#2. remove simple GC repeats\n",
    "#3. supported by at least 200 seqlets from TF-MoDISco"
   ]
  },
  {
   "cell_type": "code",
   "execution_count": 15,
   "id": "6936e148-937a-4855-a340-49de0376fa68",
   "metadata": {
    "execution": {
     "iopub.execute_input": "2025-08-08T14:55:02.955929Z",
     "iopub.status.busy": "2025-08-08T14:55:02.955617Z",
     "iopub.status.idle": "2025-08-08T14:55:02.958378Z",
     "shell.execute_reply": "2025-08-08T14:55:02.957884Z",
     "shell.execute_reply.started": "2025-08-08T14:55:02.955909Z"
    }
   },
   "outputs": [],
   "source": [
    "# Keep motifs of interest for follow-up analysis\n",
    "\n",
    "motifs = {}"
   ]
  },
  {
   "cell_type": "markdown",
   "id": "0e154e8a-08d6-46dd-b00a-c68673b8b2cc",
   "metadata": {},
   "source": [
    "## Count task"
   ]
  },
  {
   "cell_type": "code",
   "execution_count": 10,
   "id": "1768088b-6da9-4bd6-a202-95c595ebdf23",
   "metadata": {
    "execution": {
     "iopub.execute_input": "2025-09-21T21:38:25.994447Z",
     "iopub.status.busy": "2025-09-21T21:38:25.994030Z",
     "iopub.status.idle": "2025-09-21T21:38:25.998230Z",
     "shell.execute_reply": "2025-09-21T21:38:25.997390Z",
     "shell.execute_reply.started": "2025-09-21T21:38:25.994421Z"
    }
   },
   "outputs": [],
   "source": [
    "task = \"counts\""
   ]
  },
  {
   "cell_type": "code",
   "execution_count": null,
   "id": "42a51cba-6fe9-494d-b703-d3a750dc4615",
   "metadata": {
    "scrolled": true
   },
   "outputs": [],
   "source": [
    "show_patterns(samples[0], task)"
   ]
  },
  {
   "cell_type": "code",
   "execution_count": 18,
   "id": "1e3bf8ac-1b6b-4fa9-a785-8d157b09a274",
   "metadata": {
    "execution": {
     "iopub.execute_input": "2025-08-08T14:55:52.646516Z",
     "iopub.status.busy": "2025-08-08T14:55:52.646254Z",
     "iopub.status.idle": "2025-08-08T14:55:52.649777Z",
     "shell.execute_reply": "2025-08-08T14:55:52.649337Z",
     "shell.execute_reply.started": "2025-08-08T14:55:52.646495Z"
    }
   },
   "outputs": [],
   "source": [
    "motifs[(samples[0], task)] = {\"SP\": 0,\n",
    "\t\t\t\t\t\t\t  \"ETS\": 1,\n",
    "\t\t\t\t\t\t\t  \"AP1\": 2,\n",
    "\t\t\t\t\t\t\t  \"NFY\": 3,\n",
    "\t\t\t\t\t\t\t  \"CREB\": 4,\n",
    "\t\t\t\t\t\t\t  \"NRF1\": 5,\n",
    "\t\t\t\t\t\t\t  \"TATA\": 6,\n",
    "\t\t\t\t\t\t\t  \"THAP11-ZNF143\": 7,\n",
    "\t\t\t\t\t\t\t  \"HNF4\": 10,\n",
    "\t\t\t\t\t\t\t  \"HNF1\": 11,\n",
    "\t\t\t\t\t\t\t  \"ELK1-SREBF2\": 12,\n",
    "\t\t\t\t\t\t\t  \"ZNF384\": 13,\n",
    "\t\t\t\t\t\t\t  \"ZBTB33\": 14,\n",
    "\t\t\t\t\t\t\t  \"USF1\": 15\n",
    "\t\t\t\t\t\t\t   }"
   ]
  },
  {
   "cell_type": "code",
   "execution_count": null,
   "id": "9a4e6f00-1076-4517-84d5-b3c98e1d750c",
   "metadata": {
    "scrolled": true
   },
   "outputs": [],
   "source": [
    "show_patterns(samples[1], task)"
   ]
  },
  {
   "cell_type": "code",
   "execution_count": 20,
   "id": "09ff5cde-899e-4ef0-9941-b7022471fd23",
   "metadata": {
    "execution": {
     "iopub.execute_input": "2025-08-08T14:56:13.021083Z",
     "iopub.status.busy": "2025-08-08T14:56:13.020832Z",
     "iopub.status.idle": "2025-08-08T14:56:13.244251Z",
     "shell.execute_reply": "2025-08-08T14:56:13.243771Z",
     "shell.execute_reply.started": "2025-08-08T14:56:13.021064Z"
    }
   },
   "outputs": [],
   "source": [
    "motifs[(samples[1], task)] = {\"SP\": 0,\n",
    "\t\t\t\t\t\t\t  \"ETS\": 1,\n",
    "\t\t\t\t\t\t\t  \"CREB\": 2,\n",
    "\t\t\t\t\t\t\t  \"NFY\": 3,\n",
    "\t\t\t\t\t\t\t  \"NRF1\": 5,\n",
    "\t\t\t\t\t\t\t  \"AP1\": 6,\n",
    "\t\t\t\t\t\t\t  \"ELK1-SREBF2\": 10,\n",
    "\t\t\t\t\t\t\t  \"TATA\": 12,\n",
    "\t\t\t\t\t\t\t  \"THAP11-ZNF143\": 13,\n",
    "\t\t\t\t\t\t\t  \"YY1\": 14, \n",
    "\t\t\t\t\t\t\t  \"ZBTB33\": 15\n",
    "\t\t\t\t\t\t\t   }"
   ]
  },
  {
   "cell_type": "code",
   "execution_count": null,
   "id": "2555147a-9937-4e60-a79f-b7f2da0aac0f",
   "metadata": {
    "scrolled": true
   },
   "outputs": [],
   "source": [
    "show_patterns(samples[2], task)"
   ]
  },
  {
   "cell_type": "code",
   "execution_count": 22,
   "id": "334b340c-a69d-44c8-a4cf-a51c9a7916a7",
   "metadata": {
    "execution": {
     "iopub.execute_input": "2025-08-08T14:56:24.538464Z",
     "iopub.status.busy": "2025-08-08T14:56:24.538214Z",
     "iopub.status.idle": "2025-08-08T14:56:24.541479Z",
     "shell.execute_reply": "2025-08-08T14:56:24.541036Z",
     "shell.execute_reply.started": "2025-08-08T14:56:24.538443Z"
    }
   },
   "outputs": [],
   "source": [
    "motifs[(samples[2], task)] = {\"SP\": 0,\n",
    "\t\t\t\t\t\t\t  \"CREB\": 1,\n",
    "\t\t\t\t\t\t\t  \"NFY\": 2,\n",
    "\t\t\t\t\t\t\t  \"ETS\": 3,\n",
    "\t\t\t\t\t\t\t  \"HNF4\": 4,\n",
    "\t\t\t\t\t\t\t  \"HNF1\": 5,\n",
    "\t\t\t\t\t\t\t  \"NRF1\": 6,\n",
    "\t\t\t\t\t\t\t  \"ETS\": 7,\n",
    "\t\t\t\t\t\t\t  \"THAP11-ZNF143\": 8,\n",
    "\t\t\t\t\t\t\t  \"CEBPA\": 10,\n",
    "\t\t\t\t\t\t\t  \"TATA\": 11,\n",
    "\t\t\t\t\t\t\t  \"USF1\": 12,\n",
    "\t\t\t\t\t\t\t  \"ELK1-SREBF2\": 14,\n",
    "\t\t\t\t\t\t\t  \"ZBTB33\": 15\n",
    "\t\t\t\t\t\t\t   }"
   ]
  },
  {
   "cell_type": "code",
   "execution_count": null,
   "id": "c52a1323-eed3-4028-aaad-811494d7c4e2",
   "metadata": {
    "scrolled": true
   },
   "outputs": [],
   "source": [
    "show_patterns(samples[3], task)"
   ]
  },
  {
   "cell_type": "code",
   "execution_count": 24,
   "id": "a4d3a19e-e1d5-42a6-bd90-7fd6a6856373",
   "metadata": {
    "execution": {
     "iopub.execute_input": "2025-08-08T14:56:38.360828Z",
     "iopub.status.busy": "2025-08-08T14:56:38.360584Z",
     "iopub.status.idle": "2025-08-08T14:56:38.363738Z",
     "shell.execute_reply": "2025-08-08T14:56:38.363336Z",
     "shell.execute_reply.started": "2025-08-08T14:56:38.360811Z"
    }
   },
   "outputs": [],
   "source": [
    "motifs[(samples[3], task)] = {\"ETS\": 0,\n",
    "\t\t\t\t\t\t\t  \"SP\": 1,\n",
    "\t\t\t\t\t\t\t  \"CREB\": 2,\n",
    "\t\t\t\t\t\t\t  \"NFY\": 3,\n",
    "\t\t\t\t\t\t\t  \"AP1\": 4, \n",
    "\t\t\t\t\t\t\t  \"NRF1\": 5,\n",
    "\t\t\t\t\t\t\t  \"IRF\": 7,\n",
    "\t\t\t\t\t\t\t  \"YY1\": 8,\n",
    "\t\t\t\t\t\t\t  \"THAP11-ZNF143\": 9,\n",
    "\t\t\t\t\t\t\t  \"ELK1-SREBF2\": 10,\n",
    "\t\t\t\t\t\t\t  \"CEBPB\": 12,\n",
    "\t\t\t\t\t\t\t  \"ZNF384\": 15,\n",
    "\t\t\t\t\t\t\t  \"TATA\": 16,\n",
    "\t\t\t\t\t\t\t  \"ZBTB33\": 14,\n",
    "\t\t\t\t\t\t\t   }"
   ]
  },
  {
   "cell_type": "code",
   "execution_count": null,
   "id": "1b51ddbd-82c0-425b-ba78-c155e8ef4781",
   "metadata": {
    "scrolled": true
   },
   "outputs": [],
   "source": [
    "show_patterns(samples[4], task)"
   ]
  },
  {
   "cell_type": "code",
   "execution_count": 26,
   "id": "04685d93-52bb-448a-8e74-8cdd4b5c212a",
   "metadata": {
    "execution": {
     "iopub.execute_input": "2025-08-08T14:56:49.805942Z",
     "iopub.status.busy": "2025-08-08T14:56:49.805694Z",
     "iopub.status.idle": "2025-08-08T14:56:49.808848Z",
     "shell.execute_reply": "2025-08-08T14:56:49.808443Z",
     "shell.execute_reply.started": "2025-08-08T14:56:49.805922Z"
    }
   },
   "outputs": [],
   "source": [
    "motifs[(samples[4], task)] = {\"SP\": 0,\n",
    "\t\t\t\t\t\t\t  \"ETS\": 1,\n",
    "\t\t\t\t\t\t\t  \"CREB\": 2,\n",
    "\t\t\t\t\t\t\t  \"NFY\": 3,\n",
    "\t\t\t\t\t\t\t  \"NRF1\": 4,\n",
    "\t\t\t\t\t\t\t  \"THAP11-ZNF143\": 5,\n",
    "\t\t\t\t\t\t\t  \"YY1\": 6,\n",
    "\t\t\t\t\t\t\t  \"AP1\": 7, \n",
    "\t\t\t\t\t\t\t  \"ZBTB33\": 8,\n",
    "\t\t\t\t\t\t\t  \"USF1\": 10,\n",
    "\t\t\t\t\t\t\t  \"ZNF384\": 11,\n",
    "\t\t\t\t\t\t\t  \"ZNF143\": 12,\n",
    "\t\t\t\t\t\t\t  \"TATA\": 13,\n",
    "\t\t\t\t\t\t\t  \"THAP11\": 14\n",
    "\t\t\t\t\t\t\t   }"
   ]
  },
  {
   "cell_type": "code",
   "execution_count": null,
   "id": "e88bd445-ff29-4108-a689-f33e5275273a",
   "metadata": {
    "scrolled": true
   },
   "outputs": [],
   "source": [
    "show_patterns(samples[5], task)"
   ]
  },
  {
   "cell_type": "code",
   "execution_count": 28,
   "id": "e08c62a1-214c-41b8-b412-d7213dc073fb",
   "metadata": {
    "execution": {
     "iopub.execute_input": "2025-08-08T14:57:04.386912Z",
     "iopub.status.busy": "2025-08-08T14:57:04.386666Z",
     "iopub.status.idle": "2025-08-08T14:57:04.389817Z",
     "shell.execute_reply": "2025-08-08T14:57:04.389382Z",
     "shell.execute_reply.started": "2025-08-08T14:57:04.386894Z"
    }
   },
   "outputs": [],
   "source": [
    "motifs[(samples[5], task)] = {\"ETS\": 0,\n",
    "\t\t\t\t\t\t\t  \"SP\": 1,\n",
    "\t\t\t\t\t\t\t  \"CREB\": 2,\n",
    "\t\t\t\t\t\t\t  \"NFY\": 3,\n",
    "\t\t\t\t\t\t\t  \"NRF1\": 4,\n",
    "\t\t\t\t\t\t\t  \"AP1\": 5, \n",
    "\t\t\t\t\t\t\t  \"TATA\": 6,\n",
    "\t\t\t\t\t\t\t  \"THAP11-ZNF143\": 7,\n",
    "\t\t\t\t\t\t\t  \"ZBTB33\": 9,\n",
    "\t\t\t\t\t\t\t  \"YY1\": 10,\n",
    "\t\t\t\t\t\t\t  \"USF1\": 11,\n",
    "\t\t\t\t\t\t\t  \"ZNF384\": 13,\n",
    "\t\t\t\t\t\t\t  \"ZNF143\": 14\n",
    "\t\t\t\t\t\t\t   }"
   ]
  },
  {
   "cell_type": "code",
   "execution_count": null,
   "id": "57fdf492-bede-4b50-b7ec-b3963febe61a",
   "metadata": {
    "scrolled": true
   },
   "outputs": [],
   "source": [
    "show_patterns(samples[6], task)"
   ]
  },
  {
   "cell_type": "code",
   "execution_count": 30,
   "id": "a2ab0f2e-ec56-4151-afd6-44d6d4b67c5b",
   "metadata": {
    "execution": {
     "iopub.execute_input": "2025-08-08T14:57:53.232088Z",
     "iopub.status.busy": "2025-08-08T14:57:53.231851Z",
     "iopub.status.idle": "2025-08-08T14:57:53.234987Z",
     "shell.execute_reply": "2025-08-08T14:57:53.234549Z",
     "shell.execute_reply.started": "2025-08-08T14:57:53.232071Z"
    }
   },
   "outputs": [],
   "source": [
    "motifs[(samples[6], task)] = {\"ETS\": 0,\n",
    "\t\t\t\t\t\t\t  \"SP\": 1,\n",
    "\t\t\t\t\t\t\t  \"CREB\": 2,\n",
    "\t\t\t\t\t\t\t  \"NFY\": 3,\n",
    "\t\t\t\t\t\t\t  \"AP1\": 4, \n",
    "\t\t\t\t\t\t\t  \"NRF1\": 5,\n",
    "\t\t\t\t\t\t\t  \"HNF1\": 7,\n",
    "\t\t\t\t\t\t\t  \"THAP11-ZNF143\": 8,\n",
    "\t\t\t\t\t\t\t  \"TATA\": 10,\n",
    "\t\t\t\t\t\t\t  \"ZBTB33\": 11,\n",
    "\t\t\t\t\t\t\t  \"USF1\": 13,\n",
    "\t\t\t\t\t\t\t  \"ZNF384\": 16\n",
    "\t\t\t\t\t\t\t   }"
   ]
  },
  {
   "cell_type": "code",
   "execution_count": 1,
   "id": "4eec21d4-a79d-4d7f-97bb-69637504a70d",
   "metadata": {
    "execution": {
     "iopub.execute_input": "2025-09-23T06:37:44.083902Z",
     "iopub.status.busy": "2025-09-23T06:37:44.083681Z",
     "iopub.status.idle": "2025-09-23T06:37:44.089614Z",
     "shell.execute_reply": "2025-09-23T06:37:44.087695Z",
     "shell.execute_reply.started": "2025-09-23T06:37:44.083879Z"
    },
    "scrolled": true
   },
   "outputs": [],
   "source": [
    "show_patterns(samples[7], task)"
   ]
  },
  {
   "cell_type": "code",
   "execution_count": 32,
   "id": "452034be-19a0-4760-836a-897eaae8d0df",
   "metadata": {
    "execution": {
     "iopub.execute_input": "2025-08-08T14:58:03.190959Z",
     "iopub.status.busy": "2025-08-08T14:58:03.190708Z",
     "iopub.status.idle": "2025-08-08T14:58:33.281921Z",
     "shell.execute_reply": "2025-08-08T14:58:33.281420Z",
     "shell.execute_reply.started": "2025-08-08T14:58:03.190942Z"
    }
   },
   "outputs": [],
   "source": [
    "motifs[(samples[7], task)] = {\"SP\": 0,\n",
    "\t\t\t\t\t\t\t  \"ETS\": 1,\n",
    "\t\t\t\t\t\t\t  \"NFY\": 2,\n",
    "\t\t\t\t\t\t\t  \"MEF2\": 3,\n",
    "\t\t\t\t\t\t\t  \"CREB\": 4,\n",
    "\t\t\t\t\t\t\t  \"NRF1\": 5,\n",
    "\t\t\t\t\t\t\t  \"THAP11-ZNF143\": 8,\n",
    "\t\t\t\t\t\t\t  \"YY1\": 9,\n",
    "\t\t\t\t\t\t\t  \"CTCF\": 10,\n",
    "\t\t\t\t\t\t\t  \"ZBTB33\": 12,\n",
    "\t\t\t\t\t\t\t  \"TATA\": 13\n",
    "\t\t\t\t\t\t\t   }"
   ]
  },
  {
   "cell_type": "code",
   "execution_count": 2,
   "id": "cc9fa681-b54f-47fa-b576-4c922be6b5fc",
   "metadata": {
    "execution": {
     "iopub.execute_input": "2025-09-23T06:37:44.098738Z",
     "iopub.status.busy": "2025-09-23T06:37:44.098535Z",
     "iopub.status.idle": "2025-09-23T06:37:45.089077Z",
     "shell.execute_reply": "2025-09-23T06:37:45.088421Z",
     "shell.execute_reply.started": "2025-09-23T06:37:44.098716Z"
    },
    "scrolled": true
   },
   "outputs": [],
   "source": [
    "show_patterns(samples[8], task)"
   ]
  },
  {
   "cell_type": "code",
   "execution_count": 34,
   "id": "2d35b502-84f2-42db-ac15-745cc1eadfe7",
   "metadata": {
    "execution": {
     "iopub.execute_input": "2025-08-08T14:58:52.386394Z",
     "iopub.status.busy": "2025-08-08T14:58:52.386167Z",
     "iopub.status.idle": "2025-08-08T14:58:52.389204Z",
     "shell.execute_reply": "2025-08-08T14:58:52.388774Z",
     "shell.execute_reply.started": "2025-08-08T14:58:52.386376Z"
    }
   },
   "outputs": [],
   "source": [
    "motifs[(samples[8], task)] = {\"SP\": 0,\n",
    "\t\t\t\t\t\t\t  \"CREB\": 1,\n",
    "\t\t\t\t\t\t\t  \"ETS\": 2,\n",
    "\t\t\t\t\t\t\t  \"NFY\": 3,\n",
    "\t\t\t\t\t\t\t  \"NRF1\": 6,\n",
    "\t\t\t\t\t\t\t  \"AP1\": 8,\n",
    "\t\t\t\t\t\t\t  \"USF1\": 10,\n",
    "\t\t\t\t\t\t\t  \"THAP11-ZNF143\": 11,\n",
    "\t\t\t\t\t\t\t  \"NR3C2\": 14,\n",
    "\t\t\t\t\t\t\t  \"ZNF384\": 16,\n",
    "\t\t\t\t\t\t\t  \"TATA\": 18,\n",
    "\t\t\t\t\t\t\t  \"ZBTB33\": 19\n",
    "\t\t\t\t\t\t\t   }"
   ]
  },
  {
   "cell_type": "code",
   "execution_count": null,
   "id": "8a3e1df2-8f33-4b15-a066-6bcf60ba59d2",
   "metadata": {
    "execution": {
     "iopub.execute_input": "2025-09-23T06:37:45.131888Z",
     "iopub.status.busy": "2025-09-23T06:37:45.131591Z"
    },
    "scrolled": true
   },
   "outputs": [],
   "source": [
    "show_patterns(samples[9], task)"
   ]
  },
  {
   "cell_type": "code",
   "execution_count": 36,
   "id": "9b2402de-1060-497e-a887-b5fc7c203aa6",
   "metadata": {
    "execution": {
     "iopub.execute_input": "2025-08-08T14:59:06.694212Z",
     "iopub.status.busy": "2025-08-08T14:59:06.693986Z",
     "iopub.status.idle": "2025-08-08T14:59:19.878160Z",
     "shell.execute_reply": "2025-08-08T14:59:19.877662Z",
     "shell.execute_reply.started": "2025-08-08T14:59:06.694194Z"
    }
   },
   "outputs": [],
   "source": [
    "motifs[(samples[9], task)] = {\"SP\": 0,\n",
    "\t\t\t\t\t\t\t  \"ETS\": 1,\n",
    "\t\t\t\t\t\t\t  \"CREB\": 2,\n",
    "\t\t\t\t\t\t\t  \"NFY\": 3,\n",
    "\t\t\t\t\t\t\t  \"NRF1\": 4,\n",
    "\t\t\t\t\t\t\t  \"AP1\": 7,\n",
    "\t\t\t\t\t\t\t  \"NR3C2\": 9,\n",
    "\t\t\t\t\t\t\t  \"THAP11-ZNF143\": 11,\n",
    "\t\t\t\t\t\t\t  \"ZNF384\": 13,\n",
    "\t\t\t\t\t\t\t  \"ZBTB33\": 14,\n",
    "\t\t\t\t\t\t\t  \"SRF\": 17,\n",
    "\t\t\t\t\t\t\t  \"MEF2\": 18,\n",
    "\t\t\t\t\t\t\t  \"USF1\": 19\n",
    "\t\t\t\t\t\t\t   }"
   ]
  },
  {
   "cell_type": "code",
   "execution_count": null,
   "id": "efaed6eb-a5b4-4488-bedf-aa5a46419397",
   "metadata": {
    "scrolled": true
   },
   "outputs": [],
   "source": [
    "show_patterns(samples[10], task)"
   ]
  },
  {
   "cell_type": "code",
   "execution_count": 38,
   "id": "afdf23f1-c9ed-46ad-bf2b-bc21df57ebf4",
   "metadata": {
    "execution": {
     "iopub.execute_input": "2025-08-08T14:59:32.108799Z",
     "iopub.status.busy": "2025-08-08T14:59:32.108561Z",
     "iopub.status.idle": "2025-08-08T14:59:41.318153Z",
     "shell.execute_reply": "2025-08-08T14:59:41.317685Z",
     "shell.execute_reply.started": "2025-08-08T14:59:32.108781Z"
    }
   },
   "outputs": [],
   "source": [
    "motifs[(samples[10], task)] = {\"SP\": 1,\n",
    "\t\t\t\t\t\t\t   \"ETS\": 2,\n",
    "\t\t\t\t\t\t\t   \"CREB\": 3,\n",
    "\t\t\t\t\t\t\t   \"NFY\": 4,\n",
    "\t\t\t\t\t\t\t   \"NRF1\": 5,\n",
    "\t\t\t\t\t\t\t   \"IRF\": 6,\n",
    "\t\t\t\t\t\t\t   \"ELK1-SREBF2\": 7,\n",
    "\t\t\t\t\t\t\t   \"THAP11-ZNF143\": 8,\n",
    "\t\t\t\t\t\t\t   \"TATA\": 9,\n",
    "\t\t\t\t\t\t\t   \"AP1\": 10,\n",
    "\t\t\t\t\t\t\t   \"YY1\": 11,\n",
    "\t\t\t\t\t\t\t   \"ZBTB33\": 14,\n",
    "\t\t\t\t\t\t\t   \"ZNF384\": 17\n",
    "\t\t\t\t\t\t\t   }"
   ]
  },
  {
   "cell_type": "code",
   "execution_count": null,
   "id": "5c13b43c-ea20-47e3-a495-b17878b611a9",
   "metadata": {
    "scrolled": true
   },
   "outputs": [],
   "source": [
    "show_patterns(samples[11], task)"
   ]
  },
  {
   "cell_type": "code",
   "execution_count": 40,
   "id": "e0a72d27-886a-4e43-9b9d-01435f63134e",
   "metadata": {
    "execution": {
     "iopub.execute_input": "2025-08-08T14:59:56.344614Z",
     "iopub.status.busy": "2025-08-08T14:59:56.344381Z",
     "iopub.status.idle": "2025-08-08T14:59:56.347650Z",
     "shell.execute_reply": "2025-08-08T14:59:56.347225Z",
     "shell.execute_reply.started": "2025-08-08T14:59:56.344597Z"
    }
   },
   "outputs": [],
   "source": [
    "motifs[(samples[11], task)] = {\"SP\": 0,\n",
    "\t\t\t\t\t\t\t   \"ETS\": 1,\n",
    "\t\t\t\t\t\t\t   \"HNF4\": 2,\n",
    "\t\t\t\t\t\t\t   \"NFY\": 3,\n",
    "\t\t\t\t\t\t\t   \"CREB\": 4,\n",
    "\t\t\t\t\t\t\t   \"AP1\": 5,\n",
    "\t\t\t\t\t\t\t   \"NRF1\": 6,\n",
    "\t\t\t\t\t\t\t   \"HNF1\": 7,\n",
    "\t\t\t\t\t\t\t   \"THAP11-ZNF143\": 8,\n",
    "\t\t\t\t\t\t\t   \"IRF\": 9,\n",
    "\t\t\t\t\t\t\t   \"TATA\": 11,\n",
    "\t\t\t\t\t\t\t   \"CEBPB\": 12,\n",
    "\t\t\t\t\t\t\t   \"NR3C2\": 13,\n",
    "\t\t\t\t\t\t\t   \"ELK1-SREBF2\": 14,\n",
    "\t\t\t\t\t\t\t   \"ZNF384\": 15,\n",
    "\t\t\t\t\t\t\t   \"ZBTB33\": 17\n",
    "\t\t\t\t\t\t\t   }"
   ]
  },
  {
   "cell_type": "code",
   "execution_count": null,
   "id": "57346acc-335c-4262-b6af-6ab96d51c567",
   "metadata": {
    "scrolled": true
   },
   "outputs": [],
   "source": [
    "show_patterns(samples[12], task)"
   ]
  },
  {
   "cell_type": "code",
   "execution_count": 42,
   "id": "8b605c26-8dec-4227-85a9-efa64adbedea",
   "metadata": {
    "execution": {
     "iopub.execute_input": "2025-08-08T15:00:08.005792Z",
     "iopub.status.busy": "2025-08-08T15:00:08.005538Z",
     "iopub.status.idle": "2025-08-08T15:00:50.851097Z",
     "shell.execute_reply": "2025-08-08T15:00:50.850567Z",
     "shell.execute_reply.started": "2025-08-08T15:00:08.005774Z"
    }
   },
   "outputs": [],
   "source": [
    "motifs[(samples[12], task)] = {\"ETS\": 0,\n",
    "\t\t\t\t\t\t\t   \"SP\": 1,\n",
    "\t\t\t\t\t\t\t   \"CREB\": 2,\n",
    "\t\t\t\t\t\t\t   \"NRF1\": 3,\n",
    "\t\t\t\t\t\t\t   \"NFY\": 4,\n",
    "\t\t\t\t\t\t\t   \"AP1\": 5,\n",
    "\t\t\t\t\t\t\t   \"TATA\": 6,\n",
    "\t\t\t\t\t\t\t   \"THAP11-ZNF143\": 8,\n",
    "\t\t\t\t\t\t\t   \"ZBTB33\": 9,\n",
    "\t\t\t\t\t\t\t   \"ELK1-SREBF2\": 10,\n",
    "\t\t\t\t\t\t\t   \"CEBPA\": 11\n",
    "\t\t\t\t\t\t\t   }"
   ]
  },
  {
   "cell_type": "code",
   "execution_count": null,
   "id": "51a01412-74e4-41d7-bf6a-1e5952c21811",
   "metadata": {
    "scrolled": true
   },
   "outputs": [],
   "source": [
    "show_patterns(samples[13], task)"
   ]
  },
  {
   "cell_type": "code",
   "execution_count": 44,
   "id": "11a25c64-6539-4d6d-9521-03a147b100e4",
   "metadata": {
    "execution": {
     "iopub.execute_input": "2025-08-08T15:01:07.428107Z",
     "iopub.status.busy": "2025-08-08T15:01:07.427831Z",
     "iopub.status.idle": "2025-08-08T15:01:07.431075Z",
     "shell.execute_reply": "2025-08-08T15:01:07.430644Z",
     "shell.execute_reply.started": "2025-08-08T15:01:07.428084Z"
    }
   },
   "outputs": [],
   "source": [
    "motifs[(samples[13], task)] = {\"SP\": 0,\n",
    "\t\t\t\t\t\t\t   \"ETS\": 1,\n",
    "\t\t\t\t\t\t\t   \"CREB\": 2,\n",
    "\t\t\t\t\t\t\t   \"AP1\": 3,\n",
    "\t\t\t\t\t\t\t   \"NFY\": 4,\n",
    "\t\t\t\t\t\t\t   \"NRF1\": 5,\n",
    "\t\t\t\t\t\t\t   \"THAP11-ZNF143\": 7,\n",
    "\t\t\t\t\t\t\t   \"CEBPA\": 8,\n",
    "\t\t\t\t\t\t\t   \"ELK1-SREBF2\": 9,\n",
    "\t\t\t\t\t\t\t   \"CEBPB\": 10,\n",
    "\t\t\t\t\t\t\t   \"USF1\": 11,\n",
    "\t\t\t\t\t\t\t   \"ZBTB33\": 12\n",
    "\t\t\t\t\t\t\t   }"
   ]
  },
  {
   "cell_type": "code",
   "execution_count": null,
   "id": "38fd090c-d0ae-4701-8ddf-d46163fb7a94",
   "metadata": {
    "scrolled": true
   },
   "outputs": [],
   "source": [
    "show_patterns(samples[14], task)"
   ]
  },
  {
   "cell_type": "code",
   "execution_count": 46,
   "id": "f0b27c44-e1b4-4151-855d-3832008ee36b",
   "metadata": {
    "execution": {
     "iopub.execute_input": "2025-08-08T15:01:21.031257Z",
     "iopub.status.busy": "2025-08-08T15:01:21.031022Z",
     "iopub.status.idle": "2025-08-08T15:01:21.034203Z",
     "shell.execute_reply": "2025-08-08T15:01:21.033784Z",
     "shell.execute_reply.started": "2025-08-08T15:01:21.031239Z"
    }
   },
   "outputs": [],
   "source": [
    "motifs[(samples[14], task)] = {\"SP\": 0,\n",
    "\t\t\t\t\t\t\t   \"ETS\": 1,\n",
    "\t\t\t\t\t\t\t   \"NFY\": 2,\n",
    "\t\t\t\t\t\t\t   \"CREB\": 3,\n",
    "\t\t\t\t\t\t\t   \"NRF1\": 4,\n",
    "\t\t\t\t\t\t\t   \"AP1\": 5,\n",
    "\t\t\t\t\t\t\t   \"THAP11-ZNF143\": 7,\n",
    "\t\t\t\t\t\t\t   \"SRF\": 9,\n",
    "\t\t\t\t\t\t\t   \"HSF\": 10,\n",
    "\t\t\t\t\t\t\t   \"ELK1-SREBF2\": 11,\n",
    "\t\t\t\t\t\t\t   \"MEF2\": 12,\n",
    "\t\t\t\t\t\t\t   \"ZBTB33\": 13,\n",
    "\t\t\t\t\t\t\t   \"USF1\": 14,\n",
    "\t\t\t\t\t\t\t   \"ZNF384\": 15\n",
    "\t\t\t\t\t\t\t   }"
   ]
  },
  {
   "cell_type": "markdown",
   "id": "a101ee37-6537-4f84-b7fa-825e8d2ebd91",
   "metadata": {},
   "source": [
    "## Profile task"
   ]
  },
  {
   "cell_type": "code",
   "execution_count": 47,
   "id": "c8ac15ca-b1a5-428e-9bf6-92cf3fa1efbe",
   "metadata": {
    "execution": {
     "iopub.execute_input": "2025-08-08T15:01:21.034903Z",
     "iopub.status.busy": "2025-08-08T15:01:21.034687Z",
     "iopub.status.idle": "2025-08-08T15:01:23.471803Z",
     "shell.execute_reply": "2025-08-08T15:01:23.471376Z",
     "shell.execute_reply.started": "2025-08-08T15:01:21.034887Z"
    }
   },
   "outputs": [],
   "source": [
    "task = \"profile\""
   ]
  },
  {
   "cell_type": "code",
   "execution_count": null,
   "id": "1a4a949c-1cb4-4023-91c2-dd47b76a5735",
   "metadata": {
    "scrolled": true
   },
   "outputs": [],
   "source": [
    "show_patterns(samples[0], task)"
   ]
  },
  {
   "cell_type": "code",
   "execution_count": 49,
   "id": "ede78440-9ab5-4a89-87ba-049e59a0a794",
   "metadata": {
    "execution": {
     "iopub.execute_input": "2025-08-08T15:01:50.377395Z",
     "iopub.status.busy": "2025-08-08T15:01:50.377129Z",
     "iopub.status.idle": "2025-08-08T15:01:50.380493Z",
     "shell.execute_reply": "2025-08-08T15:01:50.380071Z",
     "shell.execute_reply.started": "2025-08-08T15:01:50.377376Z"
    }
   },
   "outputs": [],
   "source": [
    "motifs[(samples[0], task)] = {\"Inr-CA\": 0,\n",
    "\t\t\t\t\t\t\t  \"SP\": 2,\n",
    "\t\t\t\t\t\t\t  \"Inr-TA\": 4,\n",
    "\t\t\t\t\t\t\t  \"CREB\": 6,\n",
    "\t\t\t\t\t\t\t  \"ETS\": 8,\n",
    "\t\t\t\t\t\t\t  \"NFY\": 9,\n",
    "\t\t\t\t\t\t\t  \"TATA\": 10,\n",
    "\t\t\t\t\t\t\t  \"AP1\": 12,\n",
    "\t\t\t\t\t\t\t  \"ZNF384\": 17,\n",
    "\t\t\t\t\t\t\t  \"NRF1\": 18,\n",
    "\t\t\t\t\t\t\t  \"HNF1\": 19,\n",
    "\t\t\t\t\t\t\t  \"THAP11-ZNF143\": 24,\n",
    "\t\t\t\t\t\t\t  \"IRF\": 34,\n",
    "\t\t\t\t\t\t\t  \"ZBTB33\": 36\n",
    "\t\t\t\t\t\t\t   }"
   ]
  },
  {
   "cell_type": "code",
   "execution_count": null,
   "id": "e7b0cbbf-f43d-4c5c-9173-3bfa89ba535f",
   "metadata": {
    "scrolled": true
   },
   "outputs": [],
   "source": [
    "show_patterns(samples[1], task)"
   ]
  },
  {
   "cell_type": "code",
   "execution_count": 51,
   "id": "fd1f1b0c-74dd-48bd-896f-e4d58c020623",
   "metadata": {
    "execution": {
     "iopub.execute_input": "2025-08-08T15:02:11.412303Z",
     "iopub.status.busy": "2025-08-08T15:02:11.412064Z",
     "iopub.status.idle": "2025-08-08T15:02:11.415148Z",
     "shell.execute_reply": "2025-08-08T15:02:11.414712Z",
     "shell.execute_reply.started": "2025-08-08T15:02:11.412285Z"
    }
   },
   "outputs": [],
   "source": [
    "motifs[(samples[1], task)] = {\"Inr-CA\": 0,\n",
    "\t\t\t\t\t\t\t  \"SP\": 2,\n",
    "\t\t\t\t\t\t\t  \"Inr-TA\": 7,\n",
    "\t\t\t\t\t\t\t  \"NFY\": 8,\n",
    "\t\t\t\t\t\t\t  \"CREB\": 9,\n",
    "\t\t\t\t\t\t\t  \"ETS\": 10,\n",
    "\t\t\t\t\t\t\t  \"NRF1\": 12,\n",
    "\t\t\t\t\t\t\t  \"AP1\": 13,\n",
    "\t\t\t\t\t\t\t  \"ZNF384\": 15,\n",
    "\t\t\t\t\t\t\t  \"TATA\": 16,\n",
    "\t\t\t\t\t\t\t  \"THAP11-ZNF143\": 18,\n",
    "\t\t\t\t\t\t\t  \"ZBTB33\": 23\n",
    "\t\t\t\t\t\t\t   }"
   ]
  },
  {
   "cell_type": "code",
   "execution_count": null,
   "id": "8ed3df76-caeb-4deb-9d59-5b1fddb4a3b2",
   "metadata": {
    "scrolled": true
   },
   "outputs": [],
   "source": [
    "show_patterns(samples[2], task)"
   ]
  },
  {
   "cell_type": "code",
   "execution_count": 53,
   "id": "8db3752f-7597-4aa0-8aa2-ea12362ccf90",
   "metadata": {
    "execution": {
     "iopub.execute_input": "2025-08-08T15:02:33.180703Z",
     "iopub.status.busy": "2025-08-08T15:02:33.180467Z",
     "iopub.status.idle": "2025-08-08T15:02:33.183754Z",
     "shell.execute_reply": "2025-08-08T15:02:33.183325Z",
     "shell.execute_reply.started": "2025-08-08T15:02:33.180685Z"
    }
   },
   "outputs": [],
   "source": [
    "motifs[(samples[2], task)] = {\"Inr-CA\": 0,\n",
    "\t\t\t\t\t\t\t  \"TATA\": 2,\n",
    "\t\t\t\t\t\t\t  \"SP\": 3,\n",
    "\t\t\t\t\t\t\t  \"NFY\": 6,\n",
    "\t\t\t\t\t\t\t  \"CREB\": 7,\n",
    "\t\t\t\t\t\t\t  \"ETS\": 8,\n",
    "\t\t\t\t\t\t\t  \"HNF4\": 9,\n",
    "\t\t\t\t\t\t\t  \"HNF1\": 11,\n",
    "\t\t\t\t\t\t\t  \"USF1\": 13,\n",
    "\t\t\t\t\t\t\t  \"NRF1\": 14,\n",
    "\t\t\t\t\t\t\t  \"ZNF384\": 16,\n",
    "\t\t\t\t\t\t\t  \"CEBPB\": 17,\n",
    "\t\t\t\t\t\t\t  \"THAP11-ZNF143\": 21,\n",
    "\t\t\t\t\t\t\t  \"ZBTB33\": 30\n",
    "\t\t\t\t\t\t\t   }"
   ]
  },
  {
   "cell_type": "code",
   "execution_count": null,
   "id": "06133fde-07d6-40bf-9e3f-550e9e9682e1",
   "metadata": {
    "scrolled": true
   },
   "outputs": [],
   "source": [
    "show_patterns(samples[3], task)"
   ]
  },
  {
   "cell_type": "code",
   "execution_count": 55,
   "id": "62786daf-f6ce-45a4-9e41-dadfbb357a74",
   "metadata": {
    "execution": {
     "iopub.execute_input": "2025-08-08T15:03:03.094753Z",
     "iopub.status.busy": "2025-08-08T15:03:03.094498Z",
     "iopub.status.idle": "2025-08-08T15:03:03.097668Z",
     "shell.execute_reply": "2025-08-08T15:03:03.097238Z",
     "shell.execute_reply.started": "2025-08-08T15:03:03.094734Z"
    }
   },
   "outputs": [],
   "source": [
    "motifs[(samples[3], task)] = {\"Inr-CA\": 0,\n",
    "\t\t\t\t\t\t\t  \"SP\": 2,\n",
    "\t\t\t\t\t\t\t  \"Inr-TA\": 4,\n",
    "\t\t\t\t\t\t\t  \"ETS\": 6,\n",
    "\t\t\t\t\t\t\t  \"NFY\": 7,\n",
    "\t\t\t\t\t\t\t  \"CREB\": 9,\n",
    "\t\t\t\t\t\t\t  \"TATA\": 11,\n",
    "\t\t\t\t\t\t\t  \"NRF1\": 12,\n",
    "\t\t\t\t\t\t\t  \"AP1\": 14, \n",
    "\t\t\t\t\t\t\t  \"ZNF384\": 16,\n",
    "\t\t\t\t\t\t\t  \"THAP11-ZNF143\": 18,\n",
    "\t\t\t\t\t\t\t  \"ZBTB33\": 23\n",
    "\t\t\t\t\t\t\t   }"
   ]
  },
  {
   "cell_type": "code",
   "execution_count": null,
   "id": "37a8b74d-b255-45ec-869a-9c5ad0a19d9c",
   "metadata": {
    "scrolled": true
   },
   "outputs": [],
   "source": [
    "show_patterns(samples[4], task)"
   ]
  },
  {
   "cell_type": "code",
   "execution_count": 57,
   "id": "0e60b0aa-8c29-4938-a325-38163287530d",
   "metadata": {
    "execution": {
     "iopub.execute_input": "2025-08-08T15:03:37.964635Z",
     "iopub.status.busy": "2025-08-08T15:03:37.964400Z",
     "iopub.status.idle": "2025-08-08T15:03:40.957734Z",
     "shell.execute_reply": "2025-08-08T15:03:40.957299Z",
     "shell.execute_reply.started": "2025-08-08T15:03:37.964617Z"
    }
   },
   "outputs": [],
   "source": [
    "motifs[(samples[4], task)] = {\"Inr-CA\": 0,\n",
    "\t\t\t\t\t\t\t  \"SP\": 1,\n",
    "\t\t\t\t\t\t\t  \"Inr-TA\": 4,\n",
    "\t\t\t\t\t\t\t  \"NFY\": 8,\n",
    "\t\t\t\t\t\t\t  \"CREB\": 9,\n",
    "\t\t\t\t\t\t\t  \"ETS\": 10,\n",
    "\t\t\t\t\t\t\t  \"NRF1\": 12,\n",
    "\t\t\t\t\t\t\t  \"ZNF384\": 13,\n",
    "\t\t\t\t\t\t\t  \"TATA\": 15,\n",
    "\t\t\t\t\t\t\t  \"YY1\": 16,\n",
    "\t\t\t\t\t\t\t  \"THAP11-ZNF143\": 17,\n",
    "\t\t\t\t\t\t\t  \"AP1\": 20, \n",
    "\t\t\t\t\t\t\t  \"ZBTB33\": 22,\n",
    "\t\t\t\t\t\t\t  \"USF1\": 26,\n",
    "\t\t\t\t\t\t\t  \"RFX\": 40\n",
    "\t\t\t\t\t\t\t   }"
   ]
  },
  {
   "cell_type": "code",
   "execution_count": null,
   "id": "fdb4231b-5b5d-4e35-96b9-4354e5bafe6d",
   "metadata": {
    "execution": {
     "iopub.execute_input": "2025-09-23T16:43:05.364913Z",
     "iopub.status.busy": "2025-09-23T16:43:05.364561Z"
    },
    "scrolled": true
   },
   "outputs": [],
   "source": [
    "show_patterns(samples[5], task)"
   ]
  },
  {
   "cell_type": "code",
   "execution_count": 59,
   "id": "74291e75-f7ab-4382-ac2a-4ba100062f12",
   "metadata": {
    "execution": {
     "iopub.execute_input": "2025-08-08T15:04:19.212753Z",
     "iopub.status.busy": "2025-08-08T15:04:19.212523Z",
     "iopub.status.idle": "2025-08-08T15:04:19.215578Z",
     "shell.execute_reply": "2025-08-08T15:04:19.215154Z",
     "shell.execute_reply.started": "2025-08-08T15:04:19.212735Z"
    }
   },
   "outputs": [],
   "source": [
    "motifs[(samples[5], task)] = {\"Inr-CA\": 1,\n",
    "\t\t\t\t\t\t\t  \"SP\": 2,\n",
    "\t\t\t\t\t\t\t  \"Inr-TA\": 4,\n",
    "\t\t\t\t\t\t\t  \"NFY\": 6,\n",
    "\t\t\t\t\t\t\t  \"ETS\": 7,\n",
    "\t\t\t\t\t\t\t  \"CREB\": 8,\n",
    "\t\t\t\t\t\t\t  \"NRF1\": 10,\n",
    "\t\t\t\t\t\t\t  \"TATA\": 11,\n",
    "\t\t\t\t\t\t\t  \"AP1\": 12,\n",
    "\t\t\t\t\t\t\t  \"ZNF384\": 16,\n",
    "\t\t\t\t\t\t\t  \"THAP11-ZNF143\": 18,\n",
    "\t\t\t\t\t\t\t  \"ZBTB33\": 22\n",
    "\t\t\t\t\t\t\t   }"
   ]
  },
  {
   "cell_type": "code",
   "execution_count": 9,
   "id": "c73c127b-f106-4ece-885e-3dddbb70ceb2",
   "metadata": {
    "execution": {
     "iopub.execute_input": "2025-09-23T16:43:04.672383Z",
     "iopub.status.busy": "2025-09-23T16:43:04.672054Z",
     "iopub.status.idle": "2025-09-23T16:43:05.363229Z",
     "shell.execute_reply": "2025-09-23T16:43:05.362459Z",
     "shell.execute_reply.started": "2025-09-23T16:43:04.672360Z"
    },
    "scrolled": true
   },
   "outputs": [],
   "source": [
    "show_patterns(samples[6], task)"
   ]
  },
  {
   "cell_type": "code",
   "execution_count": 61,
   "id": "4b728617-2006-49f4-971d-fca01059301d",
   "metadata": {
    "execution": {
     "iopub.execute_input": "2025-08-08T15:04:45.239653Z",
     "iopub.status.busy": "2025-08-08T15:04:45.239415Z",
     "iopub.status.idle": "2025-08-08T15:04:45.242533Z",
     "shell.execute_reply": "2025-08-08T15:04:45.242135Z",
     "shell.execute_reply.started": "2025-08-08T15:04:45.239636Z"
    }
   },
   "outputs": [],
   "source": [
    "motifs[(samples[6], task)] = {\"Inr-CA\": 0,\n",
    "\t\t\t\t\t\t\t  \"SP\": 3,\n",
    "\t\t\t\t\t\t\t  \"Inr-TA\": 4,\n",
    "\t\t\t\t\t\t\t  \"NFY\": 6,\n",
    "\t\t\t\t\t\t\t  \"HNF1\": 7,\n",
    "\t\t\t\t\t\t\t  \"ETS\": 8,\n",
    "\t\t\t\t\t\t\t  \"CREB\": 12,\n",
    "\t\t\t\t\t\t\t  \"USF1\": 13,\n",
    "\t\t\t\t\t\t\t  \"AP1\": 14, \n",
    "\t\t\t\t\t\t\t  \"NRF1\": 15,\n",
    "\t\t\t\t\t\t\t  \"TATA\": 16,\n",
    "\t\t\t\t\t\t\t  \"THAP11-ZNF143\": 17,\n",
    "\t\t\t\t\t\t\t  \"ZBTB33\": 32\n",
    "\t\t\t\t\t\t\t   }"
   ]
  },
  {
   "cell_type": "code",
   "execution_count": 8,
   "id": "a3b06040-33ca-467f-b750-44cb896c62a2",
   "metadata": {
    "execution": {
     "iopub.execute_input": "2025-09-23T16:42:46.907891Z",
     "iopub.status.busy": "2025-09-23T16:42:46.907560Z",
     "iopub.status.idle": "2025-09-23T16:43:04.671294Z",
     "shell.execute_reply": "2025-09-23T16:43:04.670612Z",
     "shell.execute_reply.started": "2025-09-23T16:42:46.907866Z"
    },
    "scrolled": true
   },
   "outputs": [],
   "source": [
    "show_patterns(samples[7], task)"
   ]
  },
  {
   "cell_type": "code",
   "execution_count": 63,
   "id": "e668743a-9ef6-4210-bea9-85af75507988",
   "metadata": {
    "execution": {
     "iopub.execute_input": "2025-08-08T15:05:15.266454Z",
     "iopub.status.busy": "2025-08-08T15:05:15.266184Z",
     "iopub.status.idle": "2025-08-08T15:05:15.269415Z",
     "shell.execute_reply": "2025-08-08T15:05:15.268996Z",
     "shell.execute_reply.started": "2025-08-08T15:05:15.266435Z"
    }
   },
   "outputs": [],
   "source": [
    "motifs[(samples[7], task)] = {\"Inr-CA\": 0,\n",
    "\t\t\t\t\t\t\t  \"SP\": 1,\n",
    "\t\t\t\t\t\t\t  \"NFY\": 4,\n",
    "\t\t\t\t\t\t\t  \"ETS\": 5,\n",
    "\t\t\t\t\t\t\t  \"Inr-TA\": 6,\n",
    "\t\t\t\t\t\t\t  \"CREB\": 8,\n",
    "\t\t\t\t\t\t\t  \"TATA\": 10,\n",
    "\t\t\t\t\t\t\t  \"MEF2\": 11,\n",
    "\t\t\t\t\t\t\t  \"NRF1\": 13,\n",
    "\t\t\t\t\t\t\t  \"THAP11-ZNF143\": 16,\n",
    "\t\t\t\t\t\t\t  \"YY1\": 19,\n",
    "\t\t\t\t\t\t\t  \"AP1\": 22,\n",
    "\t\t\t\t\t\t\t  \"CTCF\": 24,\n",
    "\t\t\t\t\t\t\t  \"ZBTB33\": 25\n",
    "\t\t\t\t\t\t\t   }"
   ]
  },
  {
   "cell_type": "code",
   "execution_count": 1,
   "id": "57827ec7-92c0-4db0-83a9-6b34ff4dcb68",
   "metadata": {
    "execution": {
     "iopub.execute_input": "2025-09-23T16:42:16.758359Z",
     "iopub.status.busy": "2025-09-23T16:42:16.757946Z",
     "iopub.status.idle": "2025-09-23T16:42:16.761812Z",
     "shell.execute_reply": "2025-09-23T16:42:16.760961Z",
     "shell.execute_reply.started": "2025-09-23T16:42:16.758332Z"
    },
    "scrolled": true
   },
   "outputs": [],
   "source": [
    "show_patterns(samples[8], task)"
   ]
  },
  {
   "cell_type": "code",
   "execution_count": 65,
   "id": "8984648c-82b5-4fa9-9df3-661b85ce4895",
   "metadata": {
    "execution": {
     "iopub.execute_input": "2025-08-08T15:05:43.151283Z",
     "iopub.status.busy": "2025-08-08T15:05:43.150843Z",
     "iopub.status.idle": "2025-08-08T15:05:43.154037Z",
     "shell.execute_reply": "2025-08-08T15:05:43.153643Z",
     "shell.execute_reply.started": "2025-08-08T15:05:43.151265Z"
    }
   },
   "outputs": [],
   "source": [
    "motifs[(samples[8], task)] = {\"Inr-CA\": 0,\n",
    "\t\t\t\t\t\t\t  \"Inr-TA\": 3,\n",
    "\t\t\t\t\t\t\t  \"SP\": 4,\n",
    "\t\t\t\t\t\t\t  \"CREB\": 7,\n",
    "\t\t\t\t\t\t\t  \"NFY\": 8,\n",
    "\t\t\t\t\t\t\t  \"ZNF384\": 9,\n",
    "\t\t\t\t\t\t\t  \"ETS\": 10,\n",
    "\t\t\t\t\t\t\t  \"TATA\": 11,\n",
    "\t\t\t\t\t\t\t  \"AP1\": 12,\n",
    "\t\t\t\t\t\t\t  \"NRF1\": 13,\n",
    "\t\t\t\t\t\t\t  \"THAP11-ZNF143\": 17,\n",
    "\t\t\t\t\t\t\t  \"USF1\": 21,\n",
    "\t\t\t\t\t\t\t  \"ZBTB33\": 27,\n",
    "\t\t\t\t\t\t\t  \"NR3C2\": 37\n",
    "\t\t\t\t\t\t\t   }"
   ]
  },
  {
   "cell_type": "code",
   "execution_count": 2,
   "id": "76f7e544-e749-4412-b1eb-fffe41b24a54",
   "metadata": {
    "execution": {
     "iopub.execute_input": "2025-09-23T16:42:20.648821Z",
     "iopub.status.busy": "2025-09-23T16:42:20.648408Z",
     "iopub.status.idle": "2025-09-23T16:42:20.652265Z",
     "shell.execute_reply": "2025-09-23T16:42:20.651434Z",
     "shell.execute_reply.started": "2025-09-23T16:42:20.648796Z"
    },
    "scrolled": true
   },
   "outputs": [],
   "source": [
    "show_patterns(samples[9], task)"
   ]
  },
  {
   "cell_type": "code",
   "execution_count": 67,
   "id": "b6dd16a9-69ac-4f9d-952c-a6c0bd9c194f",
   "metadata": {
    "execution": {
     "iopub.execute_input": "2025-08-08T15:06:11.696407Z",
     "iopub.status.busy": "2025-08-08T15:06:11.696166Z",
     "iopub.status.idle": "2025-08-08T15:06:11.699275Z",
     "shell.execute_reply": "2025-08-08T15:06:11.698873Z",
     "shell.execute_reply.started": "2025-08-08T15:06:11.696389Z"
    }
   },
   "outputs": [],
   "source": [
    "motifs[(samples[9], task)] = {\"Inr-CA\": 0,\n",
    "\t\t\t\t\t\t\t  \"SP\": 3,\n",
    "\t\t\t\t\t\t\t  \"Inr-TA\": 4,\n",
    "\t\t\t\t\t\t\t  \"NFY\": 7,\n",
    "\t\t\t\t\t\t\t  \"CREB\": 8,\n",
    "\t\t\t\t\t\t\t  \"TATA\": 10,\n",
    "\t\t\t\t\t\t\t  \"ETS\": 12,\n",
    "\t\t\t\t\t\t\t  \"NRF1\": 14,\n",
    "\t\t\t\t\t\t\t  \"THAP11-ZNF143\": 18,\n",
    "\t\t\t\t\t\t\t  \"AP1\": 20,\n",
    "\t\t\t\t\t\t\t  \"ZNF384\": 24,\n",
    "\t\t\t\t\t\t\t  \"ZBTB33\": 30,\n",
    "\t\t\t\t\t\t\t  \"NR3C2\": 32\n",
    "\t\t\t\t\t\t\t   }"
   ]
  },
  {
   "cell_type": "code",
   "execution_count": 3,
   "id": "81fe03bc-3c53-4aa9-833f-de558272730c",
   "metadata": {
    "execution": {
     "iopub.execute_input": "2025-09-23T16:42:23.286869Z",
     "iopub.status.busy": "2025-09-23T16:42:23.286349Z",
     "iopub.status.idle": "2025-09-23T16:42:23.290431Z",
     "shell.execute_reply": "2025-09-23T16:42:23.289644Z",
     "shell.execute_reply.started": "2025-09-23T16:42:23.286842Z"
    },
    "scrolled": true
   },
   "outputs": [],
   "source": [
    "show_patterns(samples[10], task)"
   ]
  },
  {
   "cell_type": "code",
   "execution_count": 69,
   "id": "35a0a0f8-3153-43c6-b206-4b2dc7a1f5cb",
   "metadata": {
    "execution": {
     "iopub.execute_input": "2025-08-08T15:06:58.893002Z",
     "iopub.status.busy": "2025-08-08T15:06:58.892758Z",
     "iopub.status.idle": "2025-08-08T15:06:58.895932Z",
     "shell.execute_reply": "2025-08-08T15:06:58.895499Z",
     "shell.execute_reply.started": "2025-08-08T15:06:58.892983Z"
    }
   },
   "outputs": [],
   "source": [
    "motifs[(samples[10], task)] = {\"Inr-CA\": 0,\n",
    "\t\t\t\t\t\t\t   \"SP\": 3,\n",
    "\t\t\t\t\t\t\t   \"Inr-TA\": 4,\n",
    "\t\t\t\t\t\t\t   \"ETS\": 5,\n",
    "\t\t\t\t\t\t\t   \"NFY\": 8,\n",
    "\t\t\t\t\t\t\t   \"CREB\": 9,\n",
    "\t\t\t\t\t\t\t   \"ZNF384\": 11,\n",
    "\t\t\t\t\t\t\t   \"NRF1\": 12,\n",
    "\t\t\t\t\t\t\t   \"TATA\": 13,\n",
    "\t\t\t\t\t\t\t   \"THAP11-ZNF143\": 15,\n",
    "\t\t\t\t\t\t\t   \"IRF\": 17,\n",
    "\t\t\t\t\t\t\t   \"ZBTB33\": 23,\n",
    "\t\t\t\t\t\t\t   \"AP1\": 32\n",
    "\t\t\t\t\t\t\t   }"
   ]
  },
  {
   "cell_type": "code",
   "execution_count": 4,
   "id": "02ff282b-5c1f-4f9d-b4e8-32d882f3f716",
   "metadata": {
    "execution": {
     "iopub.execute_input": "2025-09-23T16:42:44.245610Z",
     "iopub.status.busy": "2025-09-23T16:42:44.245206Z",
     "iopub.status.idle": "2025-09-23T16:42:44.248519Z",
     "shell.execute_reply": "2025-09-23T16:42:44.247954Z",
     "shell.execute_reply.started": "2025-09-23T16:42:44.245584Z"
    },
    "scrolled": true
   },
   "outputs": [],
   "source": [
    "show_patterns(samples[11], task)"
   ]
  },
  {
   "cell_type": "code",
   "execution_count": 71,
   "id": "0d628763-653e-408b-823d-5be7d6b50d03",
   "metadata": {
    "execution": {
     "iopub.execute_input": "2025-08-08T15:07:32.627041Z",
     "iopub.status.busy": "2025-08-08T15:07:32.626786Z",
     "iopub.status.idle": "2025-08-08T15:07:32.630183Z",
     "shell.execute_reply": "2025-08-08T15:07:32.629750Z",
     "shell.execute_reply.started": "2025-08-08T15:07:32.627023Z"
    }
   },
   "outputs": [],
   "source": [
    "motifs[(samples[11], task)] = {\"Inr-CA\": 0,\n",
    "\t\t\t\t\t\t\t   \"SP\": 2,\n",
    "\t\t\t\t\t\t\t   \"Inr-TA\": 3,\n",
    "\t\t\t\t\t\t\t   \"NFY\": 8,\n",
    "\t\t\t\t\t\t\t   \"CREB\": 9,\n",
    "\t\t\t\t\t\t\t   \"ETS\": 10,\n",
    "\t\t\t\t\t\t\t   \"TATA\": 11,\n",
    "\t\t\t\t\t\t\t   \"HNF4\": 12,\n",
    "\t\t\t\t\t\t\t   \"ZNF384\": 13,\n",
    "\t\t\t\t\t\t\t   \"AP1\": 14,\n",
    "\t\t\t\t\t\t\t   \"NRF1\": 15,\n",
    "\t\t\t\t\t\t\t   \"HNF1\": 20,\n",
    "\t\t\t\t\t\t\t   \"THAP11-ZNF143\": 21,\n",
    "\t\t\t\t\t\t\t   \"IRF\": 25,\n",
    "\t\t\t\t\t\t\t   \"CEBPB\": 28,\n",
    "\t\t\t\t\t\t\t   \"ZBTB33\": 29\n",
    "\t\t\t\t\t\t\t   }"
   ]
  },
  {
   "cell_type": "code",
   "execution_count": 5,
   "id": "eb479888-4c93-482b-8494-e7062e8595b8",
   "metadata": {
    "execution": {
     "iopub.execute_input": "2025-09-23T16:42:44.249797Z",
     "iopub.status.busy": "2025-09-23T16:42:44.249468Z",
     "iopub.status.idle": "2025-09-23T16:42:45.045788Z",
     "shell.execute_reply": "2025-09-23T16:42:45.045080Z",
     "shell.execute_reply.started": "2025-09-23T16:42:44.249775Z"
    },
    "scrolled": true
   },
   "outputs": [],
   "source": [
    "show_patterns(samples[12], task)"
   ]
  },
  {
   "cell_type": "code",
   "execution_count": 73,
   "id": "98dfe909-da4a-467e-912c-e7a0fba393a4",
   "metadata": {
    "execution": {
     "iopub.execute_input": "2025-08-08T15:07:52.555113Z",
     "iopub.status.busy": "2025-08-08T15:07:52.554879Z",
     "iopub.status.idle": "2025-08-08T15:07:52.558043Z",
     "shell.execute_reply": "2025-08-08T15:07:52.557589Z",
     "shell.execute_reply.started": "2025-08-08T15:07:52.555096Z"
    }
   },
   "outputs": [],
   "source": [
    "motifs[(samples[12], task)] = {\"Inr-CA\": 0,\n",
    "\t\t\t\t\t\t\t   \"SP\": 1,\n",
    "\t\t\t\t\t\t\t   \"Inr-TA\": 4,\n",
    "\t\t\t\t\t\t\t   \"CREB\": 5,\n",
    "\t\t\t\t\t\t\t   \"NFY\": 7,\n",
    "\t\t\t\t\t\t\t   \"ETS\": 10,\n",
    "\t\t\t\t\t\t\t   \"TATA\": 11,\n",
    "\t\t\t\t\t\t\t   \"NRF1\": 12,\n",
    "\t\t\t\t\t\t\t   \"AP1\": 14,\n",
    "\t\t\t\t\t\t\t   \"ZNF384\": 15,\n",
    "\t\t\t\t\t\t\t   \"THAP11-ZNF143\": 16,\n",
    "\t\t\t\t\t\t\t   \"ATF4\": 20,\n",
    "\t\t\t\t\t\t\t   \"CEBPB\": 21,\n",
    "\t\t\t\t\t\t\t   \"ZBTB33\": 23\n",
    "\t\t\t\t\t\t\t   }"
   ]
  },
  {
   "cell_type": "code",
   "execution_count": 6,
   "id": "0079abef-fe61-452d-9fec-dc899fbb20ca",
   "metadata": {
    "execution": {
     "iopub.execute_input": "2025-09-23T16:42:45.047231Z",
     "iopub.status.busy": "2025-09-23T16:42:45.046888Z",
     "iopub.status.idle": "2025-09-23T16:42:45.812785Z",
     "shell.execute_reply": "2025-09-23T16:42:45.811860Z",
     "shell.execute_reply.started": "2025-09-23T16:42:45.047190Z"
    },
    "scrolled": true
   },
   "outputs": [],
   "source": [
    "show_patterns(samples[13], task)"
   ]
  },
  {
   "cell_type": "code",
   "execution_count": 75,
   "id": "61cc5ac5-4f46-4751-b204-cf739703e32d",
   "metadata": {
    "execution": {
     "iopub.execute_input": "2025-08-08T15:08:43.797753Z",
     "iopub.status.busy": "2025-08-08T15:08:43.797510Z",
     "iopub.status.idle": "2025-08-08T15:08:43.800685Z",
     "shell.execute_reply": "2025-08-08T15:08:43.800278Z",
     "shell.execute_reply.started": "2025-08-08T15:08:43.797736Z"
    }
   },
   "outputs": [],
   "source": [
    "motifs[(samples[13], task)] = {\"Inr-CA\": 0,\n",
    "\t\t\t\t\t\t\t   \"SP\": 2,\n",
    "\t\t\t\t\t\t\t   \"Inr-TA\": 4,\n",
    "\t\t\t\t\t\t\t   \"CREB\": 6,\n",
    "\t\t\t\t\t\t\t   \"NFY\": 7,\n",
    "\t\t\t\t\t\t\t   \"AP1\": 10,\n",
    "\t\t\t\t\t\t\t   \"ETS\": 11,\n",
    "\t\t\t\t\t\t\t   \"ZNF384\": 12,\n",
    "\t\t\t\t\t\t\t   \"NRF1\": 13,\n",
    "\t\t\t\t\t\t\t   \"CEBPB\": 15,\n",
    "\t\t\t\t\t\t\t   \"TATA\": 17,\n",
    "\t\t\t\t\t\t\t   \"THAP11-ZNF143\": 18,\n",
    "\t\t\t\t\t\t\t   \"ZBTB33\": 22,\n",
    "\t\t\t\t\t\t\t   \"ELK1-SREBF2\": 25\n",
    "\t\t\t\t\t\t\t   }"
   ]
  },
  {
   "cell_type": "code",
   "execution_count": 7,
   "id": "229f1251-fe28-4845-b7cf-38069117aeef",
   "metadata": {
    "execution": {
     "iopub.execute_input": "2025-09-23T16:42:45.813963Z",
     "iopub.status.busy": "2025-09-23T16:42:45.813619Z",
     "iopub.status.idle": "2025-09-23T16:42:46.906286Z",
     "shell.execute_reply": "2025-09-23T16:42:46.905478Z",
     "shell.execute_reply.started": "2025-09-23T16:42:45.813938Z"
    },
    "scrolled": true
   },
   "outputs": [],
   "source": [
    "show_patterns(samples[14], task)"
   ]
  },
  {
   "cell_type": "code",
   "execution_count": 77,
   "id": "4b94d44b-f608-48eb-bf70-1abc9790a5f9",
   "metadata": {
    "execution": {
     "iopub.execute_input": "2025-08-08T15:09:16.260962Z",
     "iopub.status.busy": "2025-08-08T15:09:16.260722Z",
     "iopub.status.idle": "2025-08-08T15:09:16.263859Z",
     "shell.execute_reply": "2025-08-08T15:09:16.263428Z",
     "shell.execute_reply.started": "2025-08-08T15:09:16.260945Z"
    }
   },
   "outputs": [],
   "source": [
    "motifs[(samples[14], task)] = {\"Inr-CA\": 0,\n",
    "\t\t\t\t\t\t\t   \"SP\": 1,\n",
    "\t\t\t\t\t\t\t   \"Inr-TA\": 3,\n",
    "\t\t\t\t\t\t\t   \"CREB\": 6,\n",
    "\t\t\t\t\t\t\t   \"NFY\": 7,\n",
    "\t\t\t\t\t\t\t   \"ETS\": 8,\n",
    "\t\t\t\t\t\t\t   \"AP1\": 9,\n",
    "\t\t\t\t\t\t\t   \"NRF1\": 11,\n",
    "\t\t\t\t\t\t\t   \"ZNF384\": 13,\n",
    "\t\t\t\t\t\t\t   \"THAP11-ZNF143\": 17,\n",
    "\t\t\t\t\t\t\t   \"ZBTB33\": 33,\n",
    "\t\t\t\t\t\t\t   \"TATA\": 38,\n",
    "\t\t\t\t\t\t\t   \"CTCF\": 39,\n",
    "\t\t\t\t\t\t\t   \"RFX\": 44\n",
    "\t\t\t\t\t\t\t   }"
   ]
  },
  {
   "cell_type": "code",
   "execution_count": 78,
   "id": "b776f63e-5cc6-4ef0-80ff-cd47482a11e4",
   "metadata": {
    "execution": {
     "iopub.execute_input": "2025-08-08T15:09:16.264535Z",
     "iopub.status.busy": "2025-08-08T15:09:16.264371Z",
     "iopub.status.idle": "2025-08-08T15:09:50.542110Z",
     "shell.execute_reply": "2025-08-08T15:09:50.541622Z",
     "shell.execute_reply.started": "2025-08-08T15:09:16.264519Z"
    },
    "scrolled": true
   },
   "outputs": [
    {
     "name": "stdout",
     "output_type": "stream",
     "text": [
      "('EN5', 'counts') 14\n",
      "('BCT5', 'counts') 11\n",
      "('EN55', 'counts') 13\n",
      "('EN18', 'counts') 14\n",
      "('EN6', 'counts') 14\n",
      "('EN12', 'counts') 13\n",
      "('EN3', 'counts') 12\n",
      "('EN23', 'counts') 11\n",
      "('GT1', 'counts') 12\n",
      "('GT22', 'counts') 13\n",
      "('EN4', 'counts') 13\n",
      "('GT24', 'counts') 16\n",
      "('GT17', 'counts') 11\n",
      "('GT23', 'counts') 12\n",
      "('CHTN15', 'counts') 14\n",
      "('EN5', 'profile') 14\n",
      "('BCT5', 'profile') 12\n",
      "('EN55', 'profile') 14\n",
      "('EN18', 'profile') 12\n",
      "('EN6', 'profile') 15\n",
      "('EN12', 'profile') 12\n",
      "('EN3', 'profile') 13\n",
      "('EN23', 'profile') 14\n",
      "('GT1', 'profile') 14\n",
      "('GT22', 'profile') 13\n",
      "('EN4', 'profile') 13\n",
      "('GT24', 'profile') 16\n",
      "('GT17', 'profile') 14\n",
      "('GT23', 'profile') 14\n",
      "('CHTN15', 'profile') 14\n"
     ]
    }
   ],
   "source": [
    "for k in motifs:\n",
    "\tprint(k, len(motifs[k]))"
   ]
  },
  {
   "cell_type": "code",
   "execution_count": 79,
   "id": "3fa433fa-1e06-444b-85df-7c9da6add475",
   "metadata": {
    "execution": {
     "iopub.execute_input": "2025-08-08T15:09:50.542924Z",
     "iopub.status.busy": "2025-08-08T15:09:50.542680Z",
     "iopub.status.idle": "2025-08-08T15:09:52.354280Z",
     "shell.execute_reply": "2025-08-08T15:09:52.353901Z",
     "shell.execute_reply.started": "2025-08-08T15:09:50.542906Z"
    },
    "scrolled": true
   },
   "outputs": [],
   "source": [
    "outputfile = f\"{PROJECT_DIR_o}modisco_out/all_motifs.json\"\n",
    "with open(outputfile, \"wb\") as f:\n",
    "    pickle.dump(motifs, f)"
   ]
  },
  {
   "cell_type": "code",
   "execution_count": null,
   "id": "f1fafa01-091a-4acf-8bab-c7f68cabe64f",
   "metadata": {},
   "outputs": [],
   "source": []
  }
 ],
 "metadata": {
  "kernelspec": {
   "display_name": "Python 3 (ipykernel)",
   "language": "python",
   "name": "python3"
  },
  "language_info": {
   "codemirror_mode": {
    "name": "ipython",
    "version": 3
   },
   "file_extension": ".py",
   "mimetype": "text/x-python",
   "name": "python",
   "nbconvert_exporter": "python",
   "pygments_lexer": "ipython3",
   "version": "3.10.8"
  }
 },
 "nbformat": 4,
 "nbformat_minor": 5
}
