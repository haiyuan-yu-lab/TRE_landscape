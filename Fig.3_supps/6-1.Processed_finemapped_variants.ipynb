{
 "cells": [
  {
   "cell_type": "code",
   "execution_count": 2,
   "id": "125b7700-30d6-4258-a7a4-92c371b16256",
   "metadata": {
    "execution": {
     "iopub.execute_input": "2025-09-21T19:27:28.302040Z",
     "iopub.status.busy": "2025-09-21T19:27:28.301572Z",
     "iopub.status.idle": "2025-09-21T19:27:39.351997Z",
     "shell.execute_reply": "2025-09-21T19:27:39.350728Z",
     "shell.execute_reply.started": "2025-09-21T19:27:28.302009Z"
    }
   },
   "outputs": [],
   "source": [
    "import pandas as pd\n",
    "pd.set_option('display.max_columns', None)\n",
    "import subprocess\n",
    "from collections import Counter"
   ]
  },
  {
   "cell_type": "code",
   "execution_count": 32,
   "id": "47db137a-2356-42d3-8dcc-2382e78546fb",
   "metadata": {
    "execution": {
     "iopub.execute_input": "2025-09-21T20:26:05.028700Z",
     "iopub.status.busy": "2025-09-21T20:26:05.027824Z",
     "iopub.status.idle": "2025-09-21T20:26:05.034704Z",
     "shell.execute_reply": "2025-09-21T20:26:05.033772Z",
     "shell.execute_reply.started": "2025-09-21T20:26:05.028652Z"
    }
   },
   "outputs": [],
   "source": [
    "PROJECT_DIR_d = \"/fs/cbsuhy02/storage/yc2553/yc2553/databases/\"\n",
    "PROJECT_DIR_d2 = \"/home/yc2553/projects/HEA/databases/\"\n",
    "PROJECT_DIR_o = \"/fs/cbsuhy02/storage/yc2553/yc2553/projects/3.Human_atlas/output/\""
   ]
  },
  {
   "cell_type": "markdown",
   "id": "ec3d5f9c-292a-4f2b-801c-b0244e36be8e",
   "metadata": {},
   "source": [
    "# Fine-mapped GWAS variants"
   ]
  },
  {
   "cell_type": "code",
   "execution_count": 4,
   "id": "f607d7a1-d723-4251-aadf-e5eacd704f20",
   "metadata": {
    "execution": {
     "iopub.execute_input": "2025-09-21T19:27:39.360143Z",
     "iopub.status.busy": "2025-09-21T19:27:39.359777Z",
     "iopub.status.idle": "2025-09-21T19:28:50.765134Z",
     "shell.execute_reply": "2025-09-21T19:28:50.764159Z",
     "shell.execute_reply.started": "2025-09-21T19:27:39.360110Z"
    }
   },
   "outputs": [
    {
     "data": {
      "text/html": [
       "<div>\n",
       "<style scoped>\n",
       "    .dataframe tbody tr th:only-of-type {\n",
       "        vertical-align: middle;\n",
       "    }\n",
       "\n",
       "    .dataframe tbody tr th {\n",
       "        vertical-align: top;\n",
       "    }\n",
       "\n",
       "    .dataframe thead th {\n",
       "        text-align: right;\n",
       "    }\n",
       "</style>\n",
       "<table border=\"1\" class=\"dataframe\">\n",
       "  <thead>\n",
       "    <tr style=\"text-align: right;\">\n",
       "      <th></th>\n",
       "      <th>0</th>\n",
       "      <th>1</th>\n",
       "      <th>2</th>\n",
       "      <th>3</th>\n",
       "      <th>4</th>\n",
       "      <th>5</th>\n",
       "      <th>6</th>\n",
       "      <th>7</th>\n",
       "      <th>8</th>\n",
       "      <th>9</th>\n",
       "      <th>10</th>\n",
       "      <th>11</th>\n",
       "      <th>12</th>\n",
       "      <th>13</th>\n",
       "      <th>14</th>\n",
       "      <th>15</th>\n",
       "      <th>16</th>\n",
       "      <th>17</th>\n",
       "      <th>18</th>\n",
       "      <th>19</th>\n",
       "      <th>20</th>\n",
       "      <th>21</th>\n",
       "      <th>22</th>\n",
       "    </tr>\n",
       "  </thead>\n",
       "  <tbody>\n",
       "    <tr>\n",
       "      <th>0</th>\n",
       "      <td>chr1</td>\n",
       "      <td>755434.0</td>\n",
       "      <td>755435.0</td>\n",
       "      <td>chr1:755435:T:G</td>\n",
       "      <td>rs184270342</td>\n",
       "      <td>T</td>\n",
       "      <td>G</td>\n",
       "      <td>G</td>\n",
       "      <td>UKBB</td>\n",
       "      <td>BOLT</td>\n",
       "      <td>SUSIE</td>\n",
       "      <td>IGF1</td>\n",
       "      <td>chr1:708908-3708908</td>\n",
       "      <td>0.005550</td>\n",
       "      <td>-0.041597</td>\n",
       "      <td>0.015979</td>\n",
       "      <td>6.77670</td>\n",
       "      <td>0.001039</td>\n",
       "      <td>-1</td>\n",
       "      <td>-0.000039</td>\n",
       "      <td>0.001322</td>\n",
       "      <td>False</td>\n",
       "      <td>False</td>\n",
       "    </tr>\n",
       "    <tr>\n",
       "      <th>1</th>\n",
       "      <td>chr1</td>\n",
       "      <td>759599.0</td>\n",
       "      <td>759602.0</td>\n",
       "      <td>chr1:759600:AGT:A</td>\n",
       "      <td>1:759600_AGT_A</td>\n",
       "      <td>AGT</td>\n",
       "      <td>A</td>\n",
       "      <td>A</td>\n",
       "      <td>UKBB</td>\n",
       "      <td>BOLT</td>\n",
       "      <td>SUSIE</td>\n",
       "      <td>IGF1</td>\n",
       "      <td>chr1:708908-3708908</td>\n",
       "      <td>0.006434</td>\n",
       "      <td>-0.037406</td>\n",
       "      <td>0.014444</td>\n",
       "      <td>6.70666</td>\n",
       "      <td>0.001013</td>\n",
       "      <td>-1</td>\n",
       "      <td>-0.000035</td>\n",
       "      <td>0.001175</td>\n",
       "      <td>False</td>\n",
       "      <td>False</td>\n",
       "    </tr>\n",
       "  </tbody>\n",
       "</table>\n",
       "</div>"
      ],
      "text/plain": [
       "     0         1         2                  3               4    5  6  7   \\\n",
       "0  chr1  755434.0  755435.0    chr1:755435:T:G     rs184270342    T  G  G   \n",
       "1  chr1  759599.0  759602.0  chr1:759600:AGT:A  1:759600_AGT_A  AGT  A  A   \n",
       "\n",
       "     8     9      10    11                   12        13        14        15  \\\n",
       "0  UKBB  BOLT  SUSIE  IGF1  chr1:708908-3708908  0.005550 -0.041597  0.015979   \n",
       "1  UKBB  BOLT  SUSIE  IGF1  chr1:708908-3708908  0.006434 -0.037406  0.014444   \n",
       "\n",
       "        16        17  18        19        20     21     22  \n",
       "0  6.77670  0.001039  -1 -0.000039  0.001322  False  False  \n",
       "1  6.70666  0.001013  -1 -0.000035  0.001175  False  False  "
      ]
     },
     "execution_count": 4,
     "metadata": {},
     "output_type": "execute_result"
    }
   ],
   "source": [
    "# Get UKB fine-mapping results (94 complex diseases and traits)\n",
    "# https://docs.google.com/document/d/14LWxqlSC6hl9FtA984CQjUdFcgQQkXuffYcbXaUoqGM/edit?tab=t.0\n",
    "# Variants in 95% CSs or with PIPs > 0.001 are included in the primary .tsv or bed files. All fine-mapped regions and variants (including ~1% that failed) are listed in the secondary region .bed file. \n",
    "# hg19\n",
    "\n",
    "inputfile = f\"{PROJECT_DIR_d}papers/38014075/GWAS/UKBB_94traits_release1.bed.gz\"\n",
    "df_gwas = pd.read_table(inputfile, header=None)\n",
    "df_gwas.head(2)"
   ]
  },
  {
   "cell_type": "code",
   "execution_count": 5,
   "id": "ce15c929-aaeb-4128-813c-4efd88bd1e7d",
   "metadata": {
    "execution": {
     "iopub.execute_input": "2025-09-21T19:28:50.767421Z",
     "iopub.status.busy": "2025-09-21T19:28:50.767001Z",
     "iopub.status.idle": "2025-09-21T19:28:51.333822Z",
     "shell.execute_reply": "2025-09-21T19:28:51.333077Z",
     "shell.execute_reply.started": "2025-09-21T19:28:50.767393Z"
    }
   },
   "outputs": [
    {
     "data": {
      "text/plain": [
       "Counter({'SUSIE': 3633569, 'FINEMAP': 1744310})"
      ]
     },
     "execution_count": 5,
     "metadata": {},
     "output_type": "execute_result"
    }
   ],
   "source": [
    "# method: fine-mapping method used\n",
    "\n",
    "Counter(df_gwas[10])"
   ]
  },
  {
   "cell_type": "code",
   "execution_count": 15,
   "id": "303579f2-41ed-4d7a-986f-68ddb850ecef",
   "metadata": {
    "execution": {
     "iopub.execute_input": "2025-09-21T20:11:27.083339Z",
     "iopub.status.busy": "2025-09-21T20:11:27.082645Z",
     "iopub.status.idle": "2025-09-21T20:11:46.062242Z",
     "shell.execute_reply": "2025-09-21T20:11:46.060374Z",
     "shell.execute_reply.started": "2025-09-21T20:11:27.083300Z"
    }
   },
   "outputs": [
    {
     "data": {
      "text/plain": [
       "(5083378, 1895848, 0)"
      ]
     },
     "execution_count": 15,
     "metadata": {},
     "output_type": "execute_result"
    }
   ],
   "source": [
    "# pip: posterior probability of association from fine-mapping\n",
    "# cs_id: ID of 95% credible set (-1 indicates that variant is not in a 95% CS)\n",
    "# Confirm variants in 95% CSs or with PIPs > 0.001 are included\n",
    "\n",
    "len(df_gwas[df_gwas[17]>0.001]), len(df_gwas[df_gwas[18] != -1]), len(df_gwas[(df_gwas[17]<=0.001) & (df_gwas[18] == -1)])"
   ]
  },
  {
   "cell_type": "code",
   "execution_count": 6,
   "id": "f3f00113-f948-446f-a5e9-95e8fd3da287",
   "metadata": {
    "execution": {
     "iopub.execute_input": "2025-09-21T19:31:34.540626Z",
     "iopub.status.busy": "2025-09-21T19:31:34.539971Z",
     "iopub.status.idle": "2025-09-21T19:31:35.764375Z",
     "shell.execute_reply": "2025-09-21T19:31:35.763594Z",
     "shell.execute_reply.started": "2025-09-21T19:31:34.540575Z"
    }
   },
   "outputs": [
    {
     "data": {
      "text/plain": [
       "(Counter({False: 5033193, True: 344686}),\n",
       " Counter({False: 5067456, True: 310423}))"
      ]
     },
     "execution_count": 6,
     "metadata": {},
     "output_type": "execute_result"
    }
   ],
   "source": [
    "# LD_HWE: indicator that the variant is in LD (R^2 > 0.6) with a variant that failed Hardy Weinberg equilibrium (p < 10^-12) that was also used in phasing based upon UK10K LD (http://www.nealelab.is/blog/2019/9/17/genotyped-snps-in-uk-biobank-failing-hardy-weinberg-equilibrium-test). These are flagged as lower confidence.\n",
    "# LD_SV: indicator that the variant is in LD (R^2 > 0.8) with a common structural variant based upon European samples from gnomAD (Collins et al. bioRxiv 2019). These are flagged as lower confidence.\n",
    "\n",
    "Counter(df_gwas[21]), Counter(df_gwas[22])"
   ]
  },
  {
   "cell_type": "code",
   "execution_count": 16,
   "id": "cb1a31a1-643f-46dd-8d08-e40bc9ed1858",
   "metadata": {
    "execution": {
     "iopub.execute_input": "2025-09-21T20:12:28.608173Z",
     "iopub.status.busy": "2025-09-21T20:12:28.607599Z",
     "iopub.status.idle": "2025-09-21T20:12:40.207629Z",
     "shell.execute_reply": "2025-09-21T20:12:40.206233Z",
     "shell.execute_reply.started": "2025-09-21T20:12:28.608135Z"
    }
   },
   "outputs": [
    {
     "data": {
      "text/plain": [
       "(5377879, 4827882)"
      ]
     },
     "execution_count": 16,
     "metadata": {},
     "output_type": "execute_result"
    }
   ],
   "source": [
    "df_gwas_filtered = df_gwas[(df_gwas[21]==False) & (df_gwas[22]==False)]\n",
    "len(df_gwas), len(df_gwas_filtered)"
   ]
  },
  {
   "cell_type": "code",
   "execution_count": 19,
   "id": "86aad089-5a76-4d5b-bd11-a3922ac2bd45",
   "metadata": {
    "execution": {
     "iopub.execute_input": "2025-09-21T20:18:56.754178Z",
     "iopub.status.busy": "2025-09-21T20:18:56.753488Z",
     "iopub.status.idle": "2025-09-21T20:18:56.760401Z",
     "shell.execute_reply": "2025-09-21T20:18:56.759477Z",
     "shell.execute_reply.started": "2025-09-21T20:18:56.754138Z"
    }
   },
   "outputs": [],
   "source": [
    "# Keep the information we need\n",
    "# chromosome: chromosome in hg19 coordinates (autosomes only)\n",
    "# start: start position of variant in hg19 coordinates (0-indexed)\n",
    "# end: end position of variant in hg19 coordinates (0-indexed)\n",
    "# variant: unique variant identifier (chr:pos:ref:alt)\n",
    "# rsid: rsID identifier\n",
    "# trait: abbreviation for phenotype used for genetic association tests\n",
    "# pip: posterior probability of association from fine-mapping\n",
    "\n",
    "methods = [\"SUSIE\", \"FINEMAP\"]\n",
    "for method in methods:\n",
    "\t# Separate methods in two files\n",
    "\tdf = df_gwas_filtered[df_gwas_filtered[10]==method].copy()\n",
    "\t# Only keep SNPs, no indels; otherwise, when liftover to hg38, sometimes it's fragmented into two regions\n",
    "\tdf = df[(df[5].isin([\"A\",\"T\",\"C\",\"G\"])) & (df[6].isin([\"A\",\"T\",\"C\",\"G\"]))]\n",
    "\tdf = df[[0,1,2,3,4,11,17]]\n",
    "\toutputfile = f\"{PROJECT_DIR_d}papers/38014075/GWAS/UKBB_94traits_release1_filtered_{method}.bed.gz\"\n",
    "\tdf[1] = df[1].astype(int)\n",
    "\tdf[2] = df[2].astype(int)\n",
    "\tdf.to_csv(outputfile, sep=\"\\t\", header=None, index=False)\n",
    "\t# Get unique SNPs for liftover\n",
    "\tdf = df.drop_duplicates(subset=3)\n",
    "\toutputfile = f\"{PROJECT_DIR_d}papers/38014075/GWAS/UKBB_94traits_release1_unique_variant_{method}.bed.gz\"\n",
    "\tdf.to_csv(outputfile, sep=\"\\t\", header=None, index=False)"
   ]
  },
  {
   "cell_type": "code",
   "execution_count": 381,
   "id": "8466f475-d717-4bdf-bb42-077919f7fd49",
   "metadata": {
    "execution": {
     "iopub.execute_input": "2025-01-20T19:34:50.073674Z",
     "iopub.status.busy": "2025-01-20T19:34:50.072893Z",
     "iopub.status.idle": "2025-01-20T19:35:32.392785Z",
     "shell.execute_reply": "2025-01-20T19:35:32.390042Z",
     "shell.execute_reply.started": "2025-01-20T19:34:50.073603Z"
    }
   },
   "outputs": [
    {
     "name": "stderr",
     "output_type": "stream",
     "text": [
      "2025-01-20 02:34:51 [INFO]  Read the chain file \"/fs/cbsuhy02/storage/yc2553/yc2553/databases/UCSC/liftover/hg19ToHg38.over.chain.gz\" \n",
      "2025-01-20 02:35:19 [INFO]  Read the chain file \"/fs/cbsuhy02/storage/yc2553/yc2553/databases/UCSC/liftover/hg19ToHg38.over.chain.gz\" \n"
     ]
    }
   ],
   "source": [
    "# Liftover to hg38\n",
    "\n",
    "for method in methods:\n",
    "\tsubprocess.run(\" \".join([\"CrossMap.py bed\",\n",
    "\t\t\t\t\t\t\t f\"{PROJECT_DIR_d}UCSC/liftover/hg19ToHg38.over.chain.gz\",\n",
    "\t\t\t\t\t\t\t f\"{PROJECT_DIR_d}papers/38014075/GWAS/UKBB_94traits_release1_unique_variant_{method}.bed.gz\", \n",
    "\t\t\t\t\t\t\t f\"{PROJECT_DIR_d}papers/38014075/GWAS/UKBB_94traits_release1_unique_variant_{method}_hg38.bed\",\n",
    "\t\t\t\t\t\t\t]), shell=True)\n",
    "\tsubprocess.run(\"gzip -f \" + f\"{PROJECT_DIR_d}papers/38014075/GWAS/UKBB_94traits_release1_unique_variant_{method}_hg38.bed\", shell=True)"
   ]
  },
  {
   "cell_type": "code",
   "execution_count": 21,
   "id": "f6cfbce8-4c30-4e3c-b8f5-089c6959384f",
   "metadata": {
    "execution": {
     "iopub.execute_input": "2025-09-21T20:20:28.910565Z",
     "iopub.status.busy": "2025-09-21T20:20:28.909750Z",
     "iopub.status.idle": "2025-09-21T20:20:55.144769Z",
     "shell.execute_reply": "2025-09-21T20:20:55.142940Z",
     "shell.execute_reply.started": "2025-09-21T20:20:28.910505Z"
    },
    "scrolled": true
   },
   "outputs": [],
   "source": [
    "# Replace the genomic positions\n",
    "\n",
    "for method in methods:\n",
    "\tdf1 = pd.read_table(f\"{PROJECT_DIR_d}papers/38014075/GWAS/UKBB_94traits_release1_filtered_{method}.bed.gz\", header=None)\n",
    "\tdf2 = pd.read_table(f\"{PROJECT_DIR_d}papers/38014075/GWAS/UKBB_94traits_release1_unique_variant_{method}_hg38.bed.gz\", header=None)\n",
    "\tdf_merge = pd.merge(df1, df2, on=3)\n",
    "\toutputfile = f\"{PROJECT_DIR_d}papers/38014075/GWAS/UKBB_94traits_release1_filtered_{method}_hg38.bed.gz\"\n",
    "\tdf_merge[[\"0_y\", \"1_y\", \"2_y\", 3, 4, 5, 6]].to_csv(outputfile, sep=\"\\t\", header=None, index=False)"
   ]
  },
  {
   "cell_type": "markdown",
   "id": "5c17e671-e4b9-4c09-be03-63505814a963",
   "metadata": {},
   "source": [
    "# Fine-mapped eQTL variants"
   ]
  },
  {
   "cell_type": "code",
   "execution_count": 38,
   "id": "2bdaea17-7c2a-4431-a4b5-a927e320af48",
   "metadata": {
    "execution": {
     "iopub.execute_input": "2025-09-21T20:33:15.622860Z",
     "iopub.status.busy": "2025-09-21T20:33:15.621944Z",
     "iopub.status.idle": "2025-09-21T20:41:26.335104Z",
     "shell.execute_reply": "2025-09-21T20:41:26.333965Z",
     "shell.execute_reply.started": "2025-09-21T20:33:15.622805Z"
    }
   },
   "outputs": [
    {
     "data": {
      "text/html": [
       "<div>\n",
       "<style scoped>\n",
       "    .dataframe tbody tr th:only-of-type {\n",
       "        vertical-align: middle;\n",
       "    }\n",
       "\n",
       "    .dataframe tbody tr th {\n",
       "        vertical-align: top;\n",
       "    }\n",
       "\n",
       "    .dataframe thead th {\n",
       "        text-align: right;\n",
       "    }\n",
       "</style>\n",
       "<table border=\"1\" class=\"dataframe\">\n",
       "  <thead>\n",
       "    <tr style=\"text-align: right;\">\n",
       "      <th></th>\n",
       "      <th>chromosome</th>\n",
       "      <th>start</th>\n",
       "      <th>end</th>\n",
       "      <th>variant</th>\n",
       "      <th>variant_hg38</th>\n",
       "      <th>allele1</th>\n",
       "      <th>allele2</th>\n",
       "      <th>minor_allele</th>\n",
       "      <th>cohort</th>\n",
       "      <th>method</th>\n",
       "      <th>tissue</th>\n",
       "      <th>gene</th>\n",
       "      <th>maf</th>\n",
       "      <th>beta_marginal</th>\n",
       "      <th>se_marginal</th>\n",
       "      <th>z</th>\n",
       "      <th>pip</th>\n",
       "      <th>cs_id</th>\n",
       "      <th>beta_posterior</th>\n",
       "      <th>sd_posterior</th>\n",
       "    </tr>\n",
       "  </thead>\n",
       "  <tbody>\n",
       "    <tr>\n",
       "      <th>0</th>\n",
       "      <td>chr1</td>\n",
       "      <td>13549.0</td>\n",
       "      <td>13550.0</td>\n",
       "      <td>chr1_13550_G_A</td>\n",
       "      <td>chr1_13550_G_A_b38</td>\n",
       "      <td>G</td>\n",
       "      <td>A</td>\n",
       "      <td>A</td>\n",
       "      <td>GTEx</td>\n",
       "      <td>FINEMAP</td>\n",
       "      <td>Adipose_Subcutaneous</td>\n",
       "      <td>ENSG00000177757.2</td>\n",
       "      <td>0.015491</td>\n",
       "      <td>0.322529</td>\n",
       "      <td>0.175853</td>\n",
       "      <td>1.83408</td>\n",
       "      <td>0.000297</td>\n",
       "      <td>1</td>\n",
       "      <td>0.000121</td>\n",
       "      <td>0.007910</td>\n",
       "    </tr>\n",
       "    <tr>\n",
       "      <th>1</th>\n",
       "      <td>chr1</td>\n",
       "      <td>13549.0</td>\n",
       "      <td>13550.0</td>\n",
       "      <td>chr1_13550_G_A</td>\n",
       "      <td>chr1_13550_G_A_b38</td>\n",
       "      <td>G</td>\n",
       "      <td>A</td>\n",
       "      <td>A</td>\n",
       "      <td>GTEx</td>\n",
       "      <td>FINEMAP</td>\n",
       "      <td>Adipose_Subcutaneous</td>\n",
       "      <td>ENSG00000227232.5</td>\n",
       "      <td>0.015491</td>\n",
       "      <td>0.243701</td>\n",
       "      <td>0.201673</td>\n",
       "      <td>1.20840</td>\n",
       "      <td>0.000298</td>\n",
       "      <td>1</td>\n",
       "      <td>0.000075</td>\n",
       "      <td>0.005642</td>\n",
       "    </tr>\n",
       "  </tbody>\n",
       "</table>\n",
       "</div>"
      ],
      "text/plain": [
       "  chromosome    start      end         variant        variant_hg38 allele1  \\\n",
       "0       chr1  13549.0  13550.0  chr1_13550_G_A  chr1_13550_G_A_b38       G   \n",
       "1       chr1  13549.0  13550.0  chr1_13550_G_A  chr1_13550_G_A_b38       G   \n",
       "\n",
       "  allele2 minor_allele cohort   method                tissue  \\\n",
       "0       A            A   GTEx  FINEMAP  Adipose_Subcutaneous   \n",
       "1       A            A   GTEx  FINEMAP  Adipose_Subcutaneous   \n",
       "\n",
       "                gene       maf  beta_marginal  se_marginal        z       pip  \\\n",
       "0  ENSG00000177757.2  0.015491       0.322529     0.175853  1.83408  0.000297   \n",
       "1  ENSG00000227232.5  0.015491       0.243701     0.201673  1.20840  0.000298   \n",
       "\n",
       "   cs_id  beta_posterior  sd_posterior  \n",
       "0      1        0.000121      0.007910  \n",
       "1      1        0.000075      0.005642  "
      ]
     },
     "execution_count": 38,
     "metadata": {},
     "output_type": "execute_result"
    }
   ],
   "source": [
    "# GTEx fine-mapping results: https://www.finucanelab.org/data/\n",
    "# https://docs.google.com/document/d/1FwUwptpR2UoG9yGYIxSKJRevMpzeIfUfc5Q0Ut23fy8/edit?tab=t.0\n",
    "# Variants with PIPs > 0.0001 are included in the primary .tsv.bgz file.\n",
    "\n",
    "inputfile = f\"{PROJECT_DIR_d}papers/38014075/eQTL/GTEx_49tissues_release1.tsv.bgz\"\n",
    "df_eqtl = pd.read_table(inputfile, compression=\"gzip\")\n",
    "df_eqtl.head(2)"
   ]
  },
  {
   "cell_type": "code",
   "execution_count": 40,
   "id": "4c80b393-b34d-4815-9bbe-409445f4bb95",
   "metadata": {
    "execution": {
     "iopub.execute_input": "2025-09-21T20:42:54.693180Z",
     "iopub.status.busy": "2025-09-21T20:42:54.691198Z",
     "iopub.status.idle": "2025-09-21T20:42:59.473113Z",
     "shell.execute_reply": "2025-09-21T20:42:59.472258Z",
     "shell.execute_reply.started": "2025-09-21T20:42:54.693076Z"
    }
   },
   "outputs": [
    {
     "data": {
      "text/plain": [
       "Counter({'FINEMAP': 29969991, 'SUSIE': 12312896})"
      ]
     },
     "execution_count": 40,
     "metadata": {},
     "output_type": "execute_result"
    }
   ],
   "source": [
    "# method: fine-mapping method used\n",
    "\n",
    "Counter(df_eqtl[\"method\"])"
   ]
  },
  {
   "cell_type": "code",
   "execution_count": 44,
   "id": "fba14235-e07c-4837-aa92-7e7542fdfa2e",
   "metadata": {
    "execution": {
     "iopub.execute_input": "2025-09-21T20:58:21.018801Z",
     "iopub.status.busy": "2025-09-21T20:58:21.017311Z",
     "iopub.status.idle": "2025-09-21T20:58:21.327179Z",
     "shell.execute_reply": "2025-09-21T20:58:21.326370Z",
     "shell.execute_reply.started": "2025-09-21T20:58:21.018743Z"
    }
   },
   "outputs": [
    {
     "data": {
      "text/plain": [
       "(2492, 0)"
      ]
     },
     "execution_count": 44,
     "metadata": {},
     "output_type": "execute_result"
    }
   ],
   "source": [
    "# Seems the description is not accurate\n",
    "# Variants located in 95% CS regardless of PIP are also included\n",
    "\n",
    "len(df_eqtl[df_eqtl[\"pip\"]<=0.0001]), len(df_eqtl[(df_eqtl[\"pip\"]<=0.000) & (df_eqtl[\"cs_id\"]==-1)])"
   ]
  },
  {
   "cell_type": "code",
   "execution_count": 58,
   "id": "12f87448-f800-4031-95bd-8e9b8ba30d05",
   "metadata": {
    "execution": {
     "iopub.execute_input": "2025-09-21T21:22:52.057379Z",
     "iopub.status.busy": "2025-09-21T21:22:52.056702Z",
     "iopub.status.idle": "2025-09-21T21:22:52.062239Z",
     "shell.execute_reply": "2025-09-21T21:22:52.061293Z",
     "shell.execute_reply.started": "2025-09-21T21:22:52.057337Z"
    },
    "scrolled": true
   },
   "outputs": [],
   "source": [
    "# Keep the information we need\n",
    "# variant_hg38: unique variant identifier in hg38\n",
    "# tissue: Tissue of the eQTL effect\n",
    "# gene: Gene ENSGID\n",
    "# pip: posterior probability of association from fine-mapping\n",
    "\n",
    "for method in methods:\n",
    "\t# Separate methods in two files\n",
    "\tdf = df_eqtl[df_eqtl[\"method\"]==method].copy()\n",
    "\tdf[['chrom', 'end', 'ref', 'alt', 'build']] = df['variant_hg38'].str.split('_', expand=True)\n",
    "\tdf = df[(df[\"ref\"].isin([\"A\",\"T\",\"C\",\"G\"])) & (df[\"alt\"].isin([\"A\",\"T\",\"C\",\"G\"]))]\n",
    "\tdf[\"end\"] = df[\"end\"].astype(int)\n",
    "\t# 0-based\n",
    "\tdf[\"start\"] = df[\"end\"]-1\n",
    "\toutputfile = f\"{PROJECT_DIR_d}papers/38014075/eQTL/GTEx_49tissues_release1_{method}_hg38.bed.gz\"\n",
    "\tdf[[\"chrom\", \"start\", \"end\", \"variant\", \"tissue\", \"gene\", \"pip\"]].to_csv(outputfile, sep=\"\\t\", header=None, index=False)"
   ]
  },
  {
   "cell_type": "code",
   "execution_count": 61,
   "id": "222f47e4-9b3d-4dda-9554-39cd2d3ecbf6",
   "metadata": {
    "execution": {
     "iopub.execute_input": "2025-09-21T21:24:34.168498Z",
     "iopub.status.busy": "2025-09-21T21:24:34.167541Z",
     "iopub.status.idle": "2025-09-21T21:24:34.173448Z",
     "shell.execute_reply": "2025-09-21T21:24:34.172447Z",
     "shell.execute_reply.started": "2025-09-21T21:24:34.168440Z"
    },
    "scrolled": true
   },
   "outputs": [],
   "source": [
    "# Since one variant can be associated with multiple genes, here we used the maximum PIP for a given variant in a given GTEx tissue.\n",
    "\n",
    "for method in methods:\n",
    "\tinputfile = f\"{PROJECT_DIR_d}papers/38014075/eQTL/GTEx_49tissues_release1_{method}_hg38.bed.gz\"\n",
    "\tdf = pd.read_table(inputfile, header=None)\n",
    "\tdf_max_pip = df.loc[df.groupby([3, 4])[6].idxmax(), [0, 1, 2, 3, 4, 6]]\n",
    "\toutputfile = f\"{PROJECT_DIR_d}papers/38014075/eQTL/GTEx_49tissues_release1_maximum_{method}_hg38.bed.gz\"\n",
    "\tdf_max_pip[[0, 1, 2, 3, 4, 6]].to_csv(outputfile, sep=\"\\t\", header=None, index=False)"
   ]
  },
  {
   "cell_type": "code",
   "execution_count": null,
   "id": "3d612363-752f-4622-9837-d23e43e21672",
   "metadata": {},
   "outputs": [],
   "source": []
  }
 ],
 "metadata": {
  "kernelspec": {
   "display_name": "Python 3 (ipykernel)",
   "language": "python",
   "name": "python3"
  },
  "language_info": {
   "codemirror_mode": {
    "name": "ipython",
    "version": 3
   },
   "file_extension": ".py",
   "mimetype": "text/x-python",
   "name": "python",
   "nbconvert_exporter": "python",
   "pygments_lexer": "ipython3",
   "version": "3.10.8"
  }
 },
 "nbformat": 4,
 "nbformat_minor": 5
}
