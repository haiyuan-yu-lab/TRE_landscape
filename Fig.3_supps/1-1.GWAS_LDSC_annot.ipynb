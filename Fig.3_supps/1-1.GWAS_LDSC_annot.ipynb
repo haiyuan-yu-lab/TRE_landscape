{
 "cells": [
  {
   "cell_type": "code",
   "execution_count": null,
   "id": "7c408379-2b81-490b-9e15-3ab8c71e1164",
   "metadata": {},
   "outputs": [],
   "source": [
    "# For concepts, refer to https://annahutch.github.io/PhD/LD-score-regression.html\n",
    "# For manual, refer to https://github.com/bulik/ldsc/wiki/Partitioned-Heritability"
   ]
  },
  {
   "cell_type": "code",
   "execution_count": 52,
   "id": "408a11ba-bc1e-46d3-bc37-0dce37db7705",
   "metadata": {
    "execution": {
     "iopub.execute_input": "2025-09-20T01:55:33.587378Z",
     "iopub.status.busy": "2025-09-20T01:55:33.586911Z",
     "iopub.status.idle": "2025-09-20T01:55:33.591993Z",
     "shell.execute_reply": "2025-09-20T01:55:33.591212Z",
     "shell.execute_reply.started": "2025-09-20T01:55:33.587350Z"
    }
   },
   "outputs": [],
   "source": [
    "import pandas as pd\n",
    "from biodata.delimited import DelimitedWriter\n",
    "import glob\n",
    "from collections import defaultdict\n",
    "import pybedtools\n",
    "import itertools\n",
    "import seaborn as sns\n",
    "import matplotlib\n",
    "import matplotlib.pyplot as plt\n",
    "import os\n",
    "from biodatatools.utils.common import json_load\n",
    "from pathlib import Path\n",
    "from scipy import stats"
   ]
  },
  {
   "cell_type": "code",
   "execution_count": 34,
   "id": "08e10bff-9d9e-4987-9198-6efc27eff35a",
   "metadata": {
    "execution": {
     "iopub.execute_input": "2025-09-20T01:47:36.073287Z",
     "iopub.status.busy": "2025-09-20T01:47:36.072837Z",
     "iopub.status.idle": "2025-09-20T01:47:36.093033Z",
     "shell.execute_reply": "2025-09-20T01:47:36.092175Z",
     "shell.execute_reply.started": "2025-09-20T01:47:36.073261Z"
    }
   },
   "outputs": [],
   "source": [
    "font_dir = Path.cwd().parent / \"font\"\n",
    "for font in [\"Arial.ttf\", \"Arial_Bold.ttf\"]:\n",
    "    matplotlib.font_manager.fontManager.addfont(font_dir / font)\n",
    "matplotlib.rcParams[\"font.family\"] = \"Arial\"\n",
    "bfontsize = 12\n",
    "sfontsize = 9"
   ]
  },
  {
   "cell_type": "code",
   "execution_count": 14,
   "id": "f7943b75-3340-46ee-b48d-3095b7eb0ffd",
   "metadata": {
    "execution": {
     "iopub.execute_input": "2025-09-20T01:43:08.499194Z",
     "iopub.status.busy": "2025-09-20T01:43:08.498704Z",
     "iopub.status.idle": "2025-09-20T01:43:08.503204Z",
     "shell.execute_reply": "2025-09-20T01:43:08.502181Z",
     "shell.execute_reply.started": "2025-09-20T01:43:08.499164Z"
    }
   },
   "outputs": [],
   "source": [
    "PROJECT_DIR_s = \"/fs/cbsuhy02/storage/yc2553/yc2553/softwares/ldsc/\"\n",
    "PROJECT_DIR_d = \"/home/yc2553/projects/HEA/databases/\"\n",
    "PROJECT_DIR_o = \"/fs/cbsuhy02/storage/yc2553/yc2553/projects/3.Human_atlas/output/\""
   ]
  },
  {
   "cell_type": "markdown",
   "id": "1e1434eb-715a-4809-8b8d-6288d9c03035",
   "metadata": {
    "tags": []
   },
   "source": [
    "# Summary statistics"
   ]
  },
  {
   "cell_type": "code",
   "execution_count": null,
   "id": "44ccfc02-4902-403e-8c72-cfbc6db6fc4c",
   "metadata": {},
   "outputs": [],
   "source": [
    "# Get all relevant files from Google cloud (Alkes Price lab)\n",
    "# https://console.cloud.google.com/storage/browser/broad-alkesgroup-public-requester-pays/"
   ]
  },
  {
   "cell_type": "code",
   "execution_count": 5,
   "id": "7d9e6552-4197-4eb4-85a1-29940cc4b285",
   "metadata": {
    "execution": {
     "iopub.execute_input": "2025-09-20T01:39:47.447014Z",
     "iopub.status.busy": "2025-09-20T01:39:47.446565Z",
     "iopub.status.idle": "2025-09-20T01:39:47.455940Z",
     "shell.execute_reply": "2025-09-20T01:39:47.455283Z",
     "shell.execute_reply.started": "2025-09-20T01:39:47.446983Z"
    }
   },
   "outputs": [
    {
     "data": {
      "text/plain": [
       "176"
      ]
     },
     "execution_count": 5,
     "metadata": {},
     "output_type": "execute_result"
    }
   ],
   "source": [
    "# All sumstats were downloaded here:\n",
    "# broad-alkesgroup-public-requester-pays/LDSCORE/all_sumstats\n",
    "\n",
    "files = glob.glob(f\"{PROJECT_DIR_s}all_sumstats/*.sumstats\")\n",
    "len(files)"
   ]
  },
  {
   "cell_type": "markdown",
   "id": "4c7bfd36-b7e2-4ea1-ab57-021e51bbd0e7",
   "metadata": {},
   "source": [
    "# Generate annotation files"
   ]
  },
  {
   "cell_type": "markdown",
   "id": "16e14b9d-1816-483b-8b9d-97a4e402f1be",
   "metadata": {},
   "source": [
    "## Tissue-specific elements"
   ]
  },
  {
   "cell_type": "code",
   "execution_count": 19,
   "id": "4227f664-cc6d-444f-81f2-2ab8c0d28209",
   "metadata": {
    "execution": {
     "iopub.execute_input": "2025-09-20T01:44:44.819510Z",
     "iopub.status.busy": "2025-09-20T01:44:44.818751Z",
     "iopub.status.idle": "2025-09-20T01:44:44.824437Z",
     "shell.execute_reply": "2025-09-20T01:44:44.823523Z",
     "shell.execute_reply.started": "2025-09-20T01:44:44.819459Z"
    }
   },
   "outputs": [],
   "source": [
    "# top 5%, extend 1kb to both sides from center \n",
    "\n",
    "p = \"divergent\"\n",
    "ds = [\"distal\", \"proximal\"]\n",
    "cutoff = 0.05\n",
    "extend = 1000\n",
    "outdir = f\"{PROJECT_DIR_o}LDSC/annots/{cutoff}_{extend}\""
   ]
  },
  {
   "cell_type": "code",
   "execution_count": 12,
   "id": "cbca4620-f0c1-43fb-973d-e0c1e27dd07d",
   "metadata": {
    "execution": {
     "iopub.execute_input": "2025-09-20T01:41:45.493568Z",
     "iopub.status.busy": "2025-09-20T01:41:45.493009Z",
     "iopub.status.idle": "2025-09-20T01:41:45.500774Z",
     "shell.execute_reply": "2025-09-20T01:41:45.500001Z",
     "shell.execute_reply.started": "2025-09-20T01:41:45.493523Z"
    }
   },
   "outputs": [],
   "source": [
    "cdict = json_load(f\"{PROJECT_DIR_d}PROcap/metainfo/color_codes.json\")\n",
    "tissues = [\"_\".join(t.split(\" \")) for t in cdict]"
   ]
  },
  {
   "cell_type": "code",
   "execution_count": 30,
   "id": "bc47d803-ab85-4005-be9a-5e349a5b10a5",
   "metadata": {
    "execution": {
     "iopub.execute_input": "2025-09-20T01:46:01.446810Z",
     "iopub.status.busy": "2025-09-20T01:46:01.446312Z",
     "iopub.status.idle": "2025-09-20T01:46:05.654509Z",
     "shell.execute_reply": "2025-09-20T01:46:05.653136Z",
     "shell.execute_reply.started": "2025-09-20T01:46:01.446778Z"
    },
    "scrolled": true
   },
   "outputs": [],
   "source": [
    "# Tissue-specific elements\n",
    "\n",
    "es_specific = defaultdict(set)\n",
    "for d, t in itertools.product(ds, tissues):\n",
    "\tinputfile = f\"{PROJECT_DIR_d}PROcap/processed/tstats_{p}_{d}_{t}.txt\"\n",
    "\tdf = pd.read_table(inputfile, index_col=0)\n",
    "\ttop = int(cutoff * len(df))\n",
    "\tes = set(df[\"tstats\"].nlargest(top).index)\n",
    "\tes_specific[(p,d)] |= es\n",
    "\toutputfile = f\"{outdir}/{p}_{d}_{t}.bed\"\n",
    "\twith DelimitedWriter(outputfile) as dw:\n",
    "\t\tfor e in es:\n",
    "\t\t\tchrom, start, end = e.split(\"_\")\n",
    "\t\t\tcenter = (int(end)+int(start))//2\n",
    "\t\t\tdw.write([chrom, center-extend, center+extend])\n",
    "\tpybedtools.BedTool(outputfile).sort().saveas(outputfile)"
   ]
  },
  {
   "cell_type": "markdown",
   "id": "48a4cf6d-c802-4806-8484-95bba95b180b",
   "metadata": {},
   "source": [
    "## Non-tissue-specific elements"
   ]
  },
  {
   "cell_type": "code",
   "execution_count": 39,
   "id": "ff21eabf-d902-4d13-9a9b-4cef883c3fd7",
   "metadata": {
    "execution": {
     "iopub.execute_input": "2025-09-20T01:49:27.659312Z",
     "iopub.status.busy": "2025-09-20T01:49:27.658867Z",
     "iopub.status.idle": "2025-09-20T01:49:30.837151Z",
     "shell.execute_reply": "2025-09-20T01:49:30.836013Z",
     "shell.execute_reply.started": "2025-09-20T01:49:27.659286Z"
    }
   },
   "outputs": [
    {
     "data": {
      "image/png": "[encoded data removed]",
      "text/plain": [
       "<Figure size 600x200 with 2 Axes>"
      ]
     },
     "metadata": {},
     "output_type": "display_data"
    }
   ],
   "source": [
    "fig, ax = plt.subplots(1,2,figsize=(6,2))\n",
    "for d in ds:\n",
    "\tcol = ds.index(d)\n",
    "\tinputfile = f\"{PROJECT_DIR_d}PROcap/processed/specificity_{p}_{d}.txt\"\n",
    "\tdf_scores = pd.read_table(inputfile, index_col=0)\n",
    "\t# Tissue-specific elements\n",
    "\tscores1 = list(df_scores.loc[list(es_specific[(p,d)])][\"Specificity\"])\n",
    "\t# Other elements\n",
    "\tscores2 = list(df_scores.loc[~df_scores.index.isin(es_specific[(p, d)])][\"Specificity\"])\n",
    "\tlabels = [\"Tissue-specific\"] * len(scores1) + [\"Others\"] * len(scores2)\n",
    "\tg = sns.boxplot(x=labels, y=scores1+scores2, showfliers=False, ax=ax[col])\n",
    "\tg.spines[[\"top\",\"right\"]].set_visible(False)\n",
    "\tg.set_xlabel(\"\")\n",
    "\tif col == 0:\n",
    "\t\tg.set_ylabel(\"Specificity scores\", fontsize=bfontsize)\n",
    "\telse:\n",
    "\t\tg.set_ylabel(\"\")\n",
    "\tg.tick_params(axis=\"x\", labelsize=bfontsize)\n",
    "\tg.set_title(f\"{p.capitalize()} {d}\", fontsize=bfontsize)"
   ]
  },
  {
   "cell_type": "code",
   "execution_count": 42,
   "id": "59b125e3-5dfa-496e-9200-cc12c6350106",
   "metadata": {
    "execution": {
     "iopub.execute_input": "2025-09-20T01:50:42.651285Z",
     "iopub.status.busy": "2025-09-20T01:50:42.650338Z",
     "iopub.status.idle": "2025-09-20T01:50:42.666247Z",
     "shell.execute_reply": "2025-09-20T01:50:42.665311Z",
     "shell.execute_reply.started": "2025-09-20T01:50:42.651235Z"
    }
   },
   "outputs": [
    {
     "name": "stdout",
     "output_type": "stream",
     "text": [
      "divergent distal 7943\n",
      "divergent proximal 2540\n"
     ]
    }
   ],
   "source": [
    "# No. tissue-specific elements for each tissue\n",
    "\n",
    "for d in ds:\n",
    "\tfor t in tissues:\n",
    "\t\tdf = pd.read_table(f\"{outdir}/{p}_{d}_{t}.bed\", index_col=0)\n",
    "\t\tprint(p, d, len(df))\n",
    "\t\tbreak"
   ]
  },
  {
   "cell_type": "code",
   "execution_count": 53,
   "id": "7ac4e135-f687-4fd8-ad68-8fb2e68d39f2",
   "metadata": {
    "execution": {
     "iopub.execute_input": "2025-09-20T01:55:37.508197Z",
     "iopub.status.busy": "2025-09-20T01:55:37.507744Z",
     "iopub.status.idle": "2025-09-20T01:55:40.362813Z",
     "shell.execute_reply": "2025-09-20T01:55:40.361462Z",
     "shell.execute_reply.started": "2025-09-20T01:55:37.508171Z"
    }
   },
   "outputs": [
    {
     "data": {
      "text/html": [
       "<div>\n",
       "<style scoped>\n",
       "    .dataframe tbody tr th:only-of-type {\n",
       "        vertical-align: middle;\n",
       "    }\n",
       "\n",
       "    .dataframe tbody tr th {\n",
       "        vertical-align: top;\n",
       "    }\n",
       "\n",
       "    .dataframe thead th {\n",
       "        text-align: right;\n",
       "    }\n",
       "</style>\n",
       "<table border=\"1\" class=\"dataframe\">\n",
       "  <thead>\n",
       "    <tr style=\"text-align: right;\">\n",
       "      <th></th>\n",
       "      <th>group</th>\n",
       "      <th>cutoff</th>\n",
       "      <th>No. elements</th>\n",
       "      <th>percentile</th>\n",
       "    </tr>\n",
       "  </thead>\n",
       "  <tbody>\n",
       "    <tr>\n",
       "      <th>0</th>\n",
       "      <td>distal</td>\n",
       "      <td>0.10</td>\n",
       "      <td>7821</td>\n",
       "      <td>6.647260</td>\n",
       "    </tr>\n",
       "    <tr>\n",
       "      <th>1</th>\n",
       "      <td>proximal</td>\n",
       "      <td>0.02</td>\n",
       "      <td>2707</td>\n",
       "      <td>7.136801</td>\n",
       "    </tr>\n",
       "  </tbody>\n",
       "</table>\n",
       "</div>"
      ],
      "text/plain": [
       "      group  cutoff  No. elements  percentile\n",
       "0    distal    0.10          7821    6.647260\n",
       "1  proximal    0.02          2707    7.136801"
      ]
     },
     "execution_count": 53,
     "metadata": {},
     "output_type": "execute_result"
    }
   ],
   "source": [
    "# Try different cutoffs for specificity scores to get a similar number of elements for non-tissue-specific group\n",
    "\n",
    "cutoffs = {\"distal\": 0.1, \"proximal\": 0.02}\n",
    "results = []\n",
    "es_nonspecific = {}\n",
    "for d in ds:\n",
    "\tinputfile = f\"{PROJECT_DIR_d}PROcap/processed/specificity_{p}_{d}.txt\"\n",
    "\tdf_scores = pd.read_table(inputfile, index_col=0)\n",
    "\tdf_nonspecific = df_scores.loc[~df_scores.index.isin(es_specific[(p, d)])]\n",
    "\tperc = stats.percentileofscore(list(df_scores[\"Specificity\"]), cutoffs[d], kind='rank')\n",
    "\tes_nonspecific[d] = list(df_nonspecific[df_nonspecific[\"Specificity\"]< cutoffs[d]].index)\n",
    "\tresults.append([d, cutoffs[d], len(es_nonspecific[d]), perc])\n",
    "pd.DataFrame(results, columns=[\"group\", \"cutoff\", \"No. elements\", \"percentile\"])"
   ]
  },
  {
   "cell_type": "code",
   "execution_count": 52,
   "id": "b37c611a-3a0d-4aac-81ef-b62f6cfb4148",
   "metadata": {
    "execution": {
     "iopub.execute_input": "2025-06-08T01:57:59.114890Z",
     "iopub.status.busy": "2025-06-08T01:57:59.114268Z",
     "iopub.status.idle": "2025-06-08T01:57:59.165861Z",
     "shell.execute_reply": "2025-06-08T01:57:59.165227Z",
     "shell.execute_reply.started": "2025-06-08T01:57:59.114835Z"
    }
   },
   "outputs": [],
   "source": [
    "# Non-tissue-specific elements\n",
    "\n",
    "for d in ds:\n",
    "\toutputfile = f\"{outdir}/{p}_{d}_Non_tissue_specific.bed\"\n",
    "\twith DelimitedWriter(outputfile) as dw:\n",
    "\t\tfor e in es_nonspecific[d]:\n",
    "\t\t\tchrom, start, end = e.split(\"_\")\n",
    "\t\t\tcenter = (int(end)+int(start))//2\n",
    "\t\t\tdw.write([chrom, center-extend, center+extend])"
   ]
  },
  {
   "cell_type": "markdown",
   "id": "c69326c8-360c-4c01-a47b-f36cd874c435",
   "metadata": {},
   "source": [
    "## Create an annot file"
   ]
  },
  {
   "cell_type": "code",
   "execution_count": 46,
   "id": "f5cb095b-4097-4537-86cb-fbddf21f7025",
   "metadata": {
    "execution": {
     "iopub.execute_input": "2025-09-20T01:52:12.952323Z",
     "iopub.status.busy": "2025-09-20T01:52:12.951670Z",
     "iopub.status.idle": "2025-09-20T01:52:12.957105Z",
     "shell.execute_reply": "2025-09-20T01:52:12.956289Z",
     "shell.execute_reply.started": "2025-09-20T01:52:12.952276Z"
    }
   },
   "outputs": [],
   "source": [
    "tissues2 = tissues + [\"Non_tissue_specific\"]"
   ]
  },
  {
   "cell_type": "code",
   "execution_count": 48,
   "id": "e35452ae-e573-4f9a-aef9-51866c7bcf38",
   "metadata": {
    "execution": {
     "iopub.execute_input": "2025-09-20T01:52:28.701215Z",
     "iopub.status.busy": "2025-09-20T01:52:28.700733Z",
     "iopub.status.idle": "2025-09-20T01:52:28.706891Z",
     "shell.execute_reply": "2025-09-20T01:52:28.706091Z",
     "shell.execute_reply.started": "2025-09-20T01:52:28.701186Z"
    },
    "scrolled": true
   },
   "outputs": [
    {
     "name": "stdout",
     "output_type": "stream",
     "text": [
      "sbatch /home/yc2553/slurm/LDSC/get_annotations.sh /fs/cbsuhy02/storage/yc2553/yc2553/projects/3.Human_atlas/output/LDSC/annots/0.05_1000/divergent_distal_Blood.bed /fs/cbsuhy02/storage/yc2553/yc2553/softwares/ldsc/hg38/plink_files/1000G.EUR.hg38 /fs/cbsuhy02/storage/yc2553/yc2553/projects/3.Human_atlas/output/LDSC/annots/0.05_1000/divergent_distal_Blood\n",
      "sbatch /home/yc2553/slurm/LDSC/get_annotations.sh /fs/cbsuhy02/storage/yc2553/yc2553/projects/3.Human_atlas/output/LDSC/annots/0.05_1000/divergent_distal_Lymph_node.bed /fs/cbsuhy02/storage/yc2553/yc2553/softwares/ldsc/hg38/plink_files/1000G.EUR.hg38 /fs/cbsuhy02/storage/yc2553/yc2553/projects/3.Human_atlas/output/LDSC/annots/0.05_1000/divergent_distal_Lymph_node\n",
      "sbatch /home/yc2553/slurm/LDSC/get_annotations.sh /fs/cbsuhy02/storage/yc2553/yc2553/projects/3.Human_atlas/output/LDSC/annots/0.05_1000/divergent_distal_Spleen.bed /fs/cbsuhy02/storage/yc2553/yc2553/softwares/ldsc/hg38/plink_files/1000G.EUR.hg38 /fs/cbsuhy02/storage/yc2553/yc2553/projects/3.Human_atlas/output/LDSC/annots/0.05_1000/divergent_distal_Spleen\n",
      "sbatch /home/yc2553/slurm/LDSC/get_annotations.sh /fs/cbsuhy02/storage/yc2553/yc2553/projects/3.Human_atlas/output/LDSC/annots/0.05_1000/divergent_distal_Brain.bed /fs/cbsuhy02/storage/yc2553/yc2553/softwares/ldsc/hg38/plink_files/1000G.EUR.hg38 /fs/cbsuhy02/storage/yc2553/yc2553/projects/3.Human_atlas/output/LDSC/annots/0.05_1000/divergent_distal_Brain\n",
      "sbatch /home/yc2553/slurm/LDSC/get_annotations.sh /fs/cbsuhy02/storage/yc2553/yc2553/projects/3.Human_atlas/output/LDSC/annots/0.05_1000/divergent_distal_Muscle.bed /fs/cbsuhy02/storage/yc2553/yc2553/softwares/ldsc/hg38/plink_files/1000G.EUR.hg38 /fs/cbsuhy02/storage/yc2553/yc2553/projects/3.Human_atlas/output/LDSC/annots/0.05_1000/divergent_distal_Muscle\n",
      "sbatch /home/yc2553/slurm/LDSC/get_annotations.sh /fs/cbsuhy02/storage/yc2553/yc2553/projects/3.Human_atlas/output/LDSC/annots/0.05_1000/divergent_distal_Liver.bed /fs/cbsuhy02/storage/yc2553/yc2553/softwares/ldsc/hg38/plink_files/1000G.EUR.hg38 /fs/cbsuhy02/storage/yc2553/yc2553/projects/3.Human_atlas/output/LDSC/annots/0.05_1000/divergent_distal_Liver\n",
      "sbatch /home/yc2553/slurm/LDSC/get_annotations.sh /fs/cbsuhy02/storage/yc2553/yc2553/projects/3.Human_atlas/output/LDSC/annots/0.05_1000/divergent_distal_Pancreas.bed /fs/cbsuhy02/storage/yc2553/yc2553/softwares/ldsc/hg38/plink_files/1000G.EUR.hg38 /fs/cbsuhy02/storage/yc2553/yc2553/projects/3.Human_atlas/output/LDSC/annots/0.05_1000/divergent_distal_Pancreas\n",
      "sbatch /home/yc2553/slurm/LDSC/get_annotations.sh /fs/cbsuhy02/storage/yc2553/yc2553/projects/3.Human_atlas/output/LDSC/annots/0.05_1000/divergent_distal_Large_intestine.bed /fs/cbsuhy02/storage/yc2553/yc2553/softwares/ldsc/hg38/plink_files/1000G.EUR.hg38 /fs/cbsuhy02/storage/yc2553/yc2553/projects/3.Human_atlas/output/LDSC/annots/0.05_1000/divergent_distal_Large_intestine\n",
      "sbatch /home/yc2553/slurm/LDSC/get_annotations.sh /fs/cbsuhy02/storage/yc2553/yc2553/projects/3.Human_atlas/output/LDSC/annots/0.05_1000/divergent_distal_Small_intestine.bed /fs/cbsuhy02/storage/yc2553/yc2553/softwares/ldsc/hg38/plink_files/1000G.EUR.hg38 /fs/cbsuhy02/storage/yc2553/yc2553/projects/3.Human_atlas/output/LDSC/annots/0.05_1000/divergent_distal_Small_intestine\n",
      "sbatch /home/yc2553/slurm/LDSC/get_annotations.sh /fs/cbsuhy02/storage/yc2553/yc2553/projects/3.Human_atlas/output/LDSC/annots/0.05_1000/divergent_distal_Heart.bed /fs/cbsuhy02/storage/yc2553/yc2553/softwares/ldsc/hg38/plink_files/1000G.EUR.hg38 /fs/cbsuhy02/storage/yc2553/yc2553/projects/3.Human_atlas/output/LDSC/annots/0.05_1000/divergent_distal_Heart\n",
      "sbatch /home/yc2553/slurm/LDSC/get_annotations.sh /fs/cbsuhy02/storage/yc2553/yc2553/projects/3.Human_atlas/output/LDSC/annots/0.05_1000/divergent_distal_Adrenal_gland.bed /fs/cbsuhy02/storage/yc2553/yc2553/softwares/ldsc/hg38/plink_files/1000G.EUR.hg38 /fs/cbsuhy02/storage/yc2553/yc2553/projects/3.Human_atlas/output/LDSC/annots/0.05_1000/divergent_distal_Adrenal_gland\n",
      "sbatch /home/yc2553/slurm/LDSC/get_annotations.sh /fs/cbsuhy02/storage/yc2553/yc2553/projects/3.Human_atlas/output/LDSC/annots/0.05_1000/divergent_distal_Lung.bed /fs/cbsuhy02/storage/yc2553/yc2553/softwares/ldsc/hg38/plink_files/1000G.EUR.hg38 /fs/cbsuhy02/storage/yc2553/yc2553/projects/3.Human_atlas/output/LDSC/annots/0.05_1000/divergent_distal_Lung\n",
      "sbatch /home/yc2553/slurm/LDSC/get_annotations.sh /fs/cbsuhy02/storage/yc2553/yc2553/projects/3.Human_atlas/output/LDSC/annots/0.05_1000/divergent_distal_Breast.bed /fs/cbsuhy02/storage/yc2553/yc2553/softwares/ldsc/hg38/plink_files/1000G.EUR.hg38 /fs/cbsuhy02/storage/yc2553/yc2553/projects/3.Human_atlas/output/LDSC/annots/0.05_1000/divergent_distal_Breast\n",
      "sbatch /home/yc2553/slurm/LDSC/get_annotations.sh /fs/cbsuhy02/storage/yc2553/yc2553/projects/3.Human_atlas/output/LDSC/annots/0.05_1000/divergent_distal_Ovary.bed /fs/cbsuhy02/storage/yc2553/yc2553/softwares/ldsc/hg38/plink_files/1000G.EUR.hg38 /fs/cbsuhy02/storage/yc2553/yc2553/projects/3.Human_atlas/output/LDSC/annots/0.05_1000/divergent_distal_Ovary\n",
      "sbatch /home/yc2553/slurm/LDSC/get_annotations.sh /fs/cbsuhy02/storage/yc2553/yc2553/projects/3.Human_atlas/output/LDSC/annots/0.05_1000/divergent_distal_Testis.bed /fs/cbsuhy02/storage/yc2553/yc2553/softwares/ldsc/hg38/plink_files/1000G.EUR.hg38 /fs/cbsuhy02/storage/yc2553/yc2553/projects/3.Human_atlas/output/LDSC/annots/0.05_1000/divergent_distal_Testis\n",
      "sbatch /home/yc2553/slurm/LDSC/get_annotations.sh /fs/cbsuhy02/storage/yc2553/yc2553/projects/3.Human_atlas/output/LDSC/annots/0.05_1000/divergent_distal_Non_tissue_specific.bed /fs/cbsuhy02/storage/yc2553/yc2553/softwares/ldsc/hg38/plink_files/1000G.EUR.hg38 /fs/cbsuhy02/storage/yc2553/yc2553/projects/3.Human_atlas/output/LDSC/annots/0.05_1000/divergent_distal_Non_tissue_specific\n",
      "sbatch /home/yc2553/slurm/LDSC/get_annotations.sh /fs/cbsuhy02/storage/yc2553/yc2553/projects/3.Human_atlas/output/LDSC/annots/0.05_1000/divergent_proximal_Blood.bed /fs/cbsuhy02/storage/yc2553/yc2553/softwares/ldsc/hg38/plink_files/1000G.EUR.hg38 /fs/cbsuhy02/storage/yc2553/yc2553/projects/3.Human_atlas/output/LDSC/annots/0.05_1000/divergent_proximal_Blood\n",
      "sbatch /home/yc2553/slurm/LDSC/get_annotations.sh /fs/cbsuhy02/storage/yc2553/yc2553/projects/3.Human_atlas/output/LDSC/annots/0.05_1000/divergent_proximal_Lymph_node.bed /fs/cbsuhy02/storage/yc2553/yc2553/softwares/ldsc/hg38/plink_files/1000G.EUR.hg38 /fs/cbsuhy02/storage/yc2553/yc2553/projects/3.Human_atlas/output/LDSC/annots/0.05_1000/divergent_proximal_Lymph_node\n",
      "sbatch /home/yc2553/slurm/LDSC/get_annotations.sh /fs/cbsuhy02/storage/yc2553/yc2553/projects/3.Human_atlas/output/LDSC/annots/0.05_1000/divergent_proximal_Spleen.bed /fs/cbsuhy02/storage/yc2553/yc2553/softwares/ldsc/hg38/plink_files/1000G.EUR.hg38 /fs/cbsuhy02/storage/yc2553/yc2553/projects/3.Human_atlas/output/LDSC/annots/0.05_1000/divergent_proximal_Spleen\n",
      "sbatch /home/yc2553/slurm/LDSC/get_annotations.sh /fs/cbsuhy02/storage/yc2553/yc2553/projects/3.Human_atlas/output/LDSC/annots/0.05_1000/divergent_proximal_Brain.bed /fs/cbsuhy02/storage/yc2553/yc2553/softwares/ldsc/hg38/plink_files/1000G.EUR.hg38 /fs/cbsuhy02/storage/yc2553/yc2553/projects/3.Human_atlas/output/LDSC/annots/0.05_1000/divergent_proximal_Brain\n",
      "sbatch /home/yc2553/slurm/LDSC/get_annotations.sh /fs/cbsuhy02/storage/yc2553/yc2553/projects/3.Human_atlas/output/LDSC/annots/0.05_1000/divergent_proximal_Muscle.bed /fs/cbsuhy02/storage/yc2553/yc2553/softwares/ldsc/hg38/plink_files/1000G.EUR.hg38 /fs/cbsuhy02/storage/yc2553/yc2553/projects/3.Human_atlas/output/LDSC/annots/0.05_1000/divergent_proximal_Muscle\n",
      "sbatch /home/yc2553/slurm/LDSC/get_annotations.sh /fs/cbsuhy02/storage/yc2553/yc2553/projects/3.Human_atlas/output/LDSC/annots/0.05_1000/divergent_proximal_Liver.bed /fs/cbsuhy02/storage/yc2553/yc2553/softwares/ldsc/hg38/plink_files/1000G.EUR.hg38 /fs/cbsuhy02/storage/yc2553/yc2553/projects/3.Human_atlas/output/LDSC/annots/0.05_1000/divergent_proximal_Liver\n",
      "sbatch /home/yc2553/slurm/LDSC/get_annotations.sh /fs/cbsuhy02/storage/yc2553/yc2553/projects/3.Human_atlas/output/LDSC/annots/0.05_1000/divergent_proximal_Pancreas.bed /fs/cbsuhy02/storage/yc2553/yc2553/softwares/ldsc/hg38/plink_files/1000G.EUR.hg38 /fs/cbsuhy02/storage/yc2553/yc2553/projects/3.Human_atlas/output/LDSC/annots/0.05_1000/divergent_proximal_Pancreas\n",
      "sbatch /home/yc2553/slurm/LDSC/get_annotations.sh /fs/cbsuhy02/storage/yc2553/yc2553/projects/3.Human_atlas/output/LDSC/annots/0.05_1000/divergent_proximal_Large_intestine.bed /fs/cbsuhy02/storage/yc2553/yc2553/softwares/ldsc/hg38/plink_files/1000G.EUR.hg38 /fs/cbsuhy02/storage/yc2553/yc2553/projects/3.Human_atlas/output/LDSC/annots/0.05_1000/divergent_proximal_Large_intestine\n",
      "sbatch /home/yc2553/slurm/LDSC/get_annotations.sh /fs/cbsuhy02/storage/yc2553/yc2553/projects/3.Human_atlas/output/LDSC/annots/0.05_1000/divergent_proximal_Small_intestine.bed /fs/cbsuhy02/storage/yc2553/yc2553/softwares/ldsc/hg38/plink_files/1000G.EUR.hg38 /fs/cbsuhy02/storage/yc2553/yc2553/projects/3.Human_atlas/output/LDSC/annots/0.05_1000/divergent_proximal_Small_intestine\n",
      "sbatch /home/yc2553/slurm/LDSC/get_annotations.sh /fs/cbsuhy02/storage/yc2553/yc2553/projects/3.Human_atlas/output/LDSC/annots/0.05_1000/divergent_proximal_Heart.bed /fs/cbsuhy02/storage/yc2553/yc2553/softwares/ldsc/hg38/plink_files/1000G.EUR.hg38 /fs/cbsuhy02/storage/yc2553/yc2553/projects/3.Human_atlas/output/LDSC/annots/0.05_1000/divergent_proximal_Heart\n",
      "sbatch /home/yc2553/slurm/LDSC/get_annotations.sh /fs/cbsuhy02/storage/yc2553/yc2553/projects/3.Human_atlas/output/LDSC/annots/0.05_1000/divergent_proximal_Adrenal_gland.bed /fs/cbsuhy02/storage/yc2553/yc2553/softwares/ldsc/hg38/plink_files/1000G.EUR.hg38 /fs/cbsuhy02/storage/yc2553/yc2553/projects/3.Human_atlas/output/LDSC/annots/0.05_1000/divergent_proximal_Adrenal_gland\n",
      "sbatch /home/yc2553/slurm/LDSC/get_annotations.sh /fs/cbsuhy02/storage/yc2553/yc2553/projects/3.Human_atlas/output/LDSC/annots/0.05_1000/divergent_proximal_Lung.bed /fs/cbsuhy02/storage/yc2553/yc2553/softwares/ldsc/hg38/plink_files/1000G.EUR.hg38 /fs/cbsuhy02/storage/yc2553/yc2553/projects/3.Human_atlas/output/LDSC/annots/0.05_1000/divergent_proximal_Lung\n",
      "sbatch /home/yc2553/slurm/LDSC/get_annotations.sh /fs/cbsuhy02/storage/yc2553/yc2553/projects/3.Human_atlas/output/LDSC/annots/0.05_1000/divergent_proximal_Breast.bed /fs/cbsuhy02/storage/yc2553/yc2553/softwares/ldsc/hg38/plink_files/1000G.EUR.hg38 /fs/cbsuhy02/storage/yc2553/yc2553/projects/3.Human_atlas/output/LDSC/annots/0.05_1000/divergent_proximal_Breast\n",
      "sbatch /home/yc2553/slurm/LDSC/get_annotations.sh /fs/cbsuhy02/storage/yc2553/yc2553/projects/3.Human_atlas/output/LDSC/annots/0.05_1000/divergent_proximal_Ovary.bed /fs/cbsuhy02/storage/yc2553/yc2553/softwares/ldsc/hg38/plink_files/1000G.EUR.hg38 /fs/cbsuhy02/storage/yc2553/yc2553/projects/3.Human_atlas/output/LDSC/annots/0.05_1000/divergent_proximal_Ovary\n",
      "sbatch /home/yc2553/slurm/LDSC/get_annotations.sh /fs/cbsuhy02/storage/yc2553/yc2553/projects/3.Human_atlas/output/LDSC/annots/0.05_1000/divergent_proximal_Testis.bed /fs/cbsuhy02/storage/yc2553/yc2553/softwares/ldsc/hg38/plink_files/1000G.EUR.hg38 /fs/cbsuhy02/storage/yc2553/yc2553/projects/3.Human_atlas/output/LDSC/annots/0.05_1000/divergent_proximal_Testis\n",
      "sbatch /home/yc2553/slurm/LDSC/get_annotations.sh /fs/cbsuhy02/storage/yc2553/yc2553/projects/3.Human_atlas/output/LDSC/annots/0.05_1000/divergent_proximal_Non_tissue_specific.bed /fs/cbsuhy02/storage/yc2553/yc2553/softwares/ldsc/hg38/plink_files/1000G.EUR.hg38 /fs/cbsuhy02/storage/yc2553/yc2553/projects/3.Human_atlas/output/LDSC/annots/0.05_1000/divergent_proximal_Non_tissue_specific\n"
     ]
    }
   ],
   "source": [
    "# gs://broad-alkesgroup-public-requester-pays/LDSCORE/GRCh38/plink_files.tgz\n",
    "\n",
    "script = \"/home/yc2553/slurm/LDSC/get_annotations.sh\"\n",
    "bim_prefix = f\"{PROJECT_DIR_s}hg38/plink_files/1000G.EUR.hg38\"\n",
    "\n",
    "for d, t in itertools.product(ds, tissues2):\n",
    "\tbed_file = f\"{outdir}/{p}_{d}_{t}.bed\"\n",
    "\tannot_prefix = f\"{outdir}/{p}_{d}_{t}\"\n",
    "\tcommands = \" \".join([\"sbatch\", script,\n",
    "\t\t\t\t\t\tbed_file,\n",
    "\t\t\t\t\t\tbim_prefix,\n",
    "\t\t\t\t\t\tannot_prefix\n",
    "\t\t\t\t\t\t])\n",
    "\tprint(commands)"
   ]
  },
  {
   "cell_type": "code",
   "execution_count": 47,
   "id": "2c8b8ecc-1848-4b01-9cea-a1be34f583f7",
   "metadata": {
    "execution": {
     "iopub.execute_input": "2025-09-20T01:52:26.213017Z",
     "iopub.status.busy": "2025-09-20T01:52:26.212304Z",
     "iopub.status.idle": "2025-09-20T01:52:26.307531Z",
     "shell.execute_reply": "2025-09-20T01:52:26.306406Z",
     "shell.execute_reply.started": "2025-09-20T01:52:26.212981Z"
    },
    "tags": []
   },
   "outputs": [
    {
     "data": {
      "text/html": [
       "<div>\n",
       "<style scoped>\n",
       "    .dataframe tbody tr th:only-of-type {\n",
       "        vertical-align: middle;\n",
       "    }\n",
       "\n",
       "    .dataframe tbody tr th {\n",
       "        vertical-align: top;\n",
       "    }\n",
       "\n",
       "    .dataframe thead th {\n",
       "        text-align: right;\n",
       "    }\n",
       "</style>\n",
       "<table border=\"1\" class=\"dataframe\">\n",
       "  <thead>\n",
       "    <tr style=\"text-align: right;\">\n",
       "      <th></th>\n",
       "      <th>ANNOT</th>\n",
       "    </tr>\n",
       "  </thead>\n",
       "  <tbody>\n",
       "    <tr>\n",
       "      <th>0</th>\n",
       "      <td>0</td>\n",
       "    </tr>\n",
       "    <tr>\n",
       "      <th>1</th>\n",
       "      <td>0</td>\n",
       "    </tr>\n",
       "  </tbody>\n",
       "</table>\n",
       "</div>"
      ],
      "text/plain": [
       "   ANNOT\n",
       "0      0\n",
       "1      0"
      ]
     },
     "execution_count": 47,
     "metadata": {},
     "output_type": "execute_result"
    }
   ],
   "source": [
    "# Check the output\n",
    "\n",
    "inputfile = f\"{outdir}/{p}_{d}_{t}.1.annot.gz\"\n",
    "df_annot = pd.read_table(inputfile)\n",
    "df_annot.head(2)"
   ]
  },
  {
   "cell_type": "markdown",
   "id": "ec19bc72-42a6-4f5d-acf1-3990b6a6d563",
   "metadata": {},
   "source": [
    "# Computing LD scores with an annot file"
   ]
  },
  {
   "cell_type": "code",
   "execution_count": 37,
   "id": "3330ae0e-86b5-4f14-82d5-c3dcf4b2bd5d",
   "metadata": {
    "execution": {
     "iopub.execute_input": "2025-06-08T01:00:49.223207Z",
     "iopub.status.busy": "2025-06-08T01:00:49.222585Z",
     "iopub.status.idle": "2025-06-08T01:00:49.941087Z",
     "shell.execute_reply": "2025-06-08T01:00:49.940473Z",
     "shell.execute_reply.started": "2025-06-08T01:00:49.223152Z"
    }
   },
   "outputs": [
    {
     "data": {
      "text/html": [
       "<div>\n",
       "<style scoped>\n",
       "    .dataframe tbody tr th:only-of-type {\n",
       "        vertical-align: middle;\n",
       "    }\n",
       "\n",
       "    .dataframe tbody tr th {\n",
       "        vertical-align: top;\n",
       "    }\n",
       "\n",
       "    .dataframe thead th {\n",
       "        text-align: right;\n",
       "    }\n",
       "</style>\n",
       "<table border=\"1\" class=\"dataframe\">\n",
       "  <thead>\n",
       "    <tr style=\"text-align: right;\">\n",
       "      <th></th>\n",
       "      <th>SNP</th>\n",
       "      <th>A1</th>\n",
       "      <th>A2</th>\n",
       "    </tr>\n",
       "  </thead>\n",
       "  <tbody>\n",
       "    <tr>\n",
       "      <th>0</th>\n",
       "      <td>rs3094315</td>\n",
       "      <td>G</td>\n",
       "      <td>A</td>\n",
       "    </tr>\n",
       "    <tr>\n",
       "      <th>1</th>\n",
       "      <td>rs3131972</td>\n",
       "      <td>A</td>\n",
       "      <td>G</td>\n",
       "    </tr>\n",
       "  </tbody>\n",
       "</table>\n",
       "</div>"
      ],
      "text/plain": [
       "         SNP A1 A2\n",
       "0  rs3094315  G  A\n",
       "1  rs3131972  A  G"
      ]
     },
     "execution_count": 37,
     "metadata": {},
     "output_type": "execute_result"
    }
   ],
   "source": [
    "# gs://broad-alkesgroup-public-requester-pays/LDSCORE/w_hm3.snplist.bz2\n",
    "# This SNP list matches with their baseline model\n",
    "\n",
    "df = pd.read_table(f\"{PROJECT_DIR_s}other_data/w_hm3.snplist\")\n",
    "df.head(2)"
   ]
  },
  {
   "cell_type": "code",
   "execution_count": 38,
   "id": "b0127518-e936-470b-b5ed-ea37d630aadf",
   "metadata": {
    "execution": {
     "iopub.execute_input": "2025-06-08T01:00:52.360809Z",
     "iopub.status.busy": "2025-06-08T01:00:52.360022Z",
     "iopub.status.idle": "2025-06-08T01:00:52.879711Z",
     "shell.execute_reply": "2025-06-08T01:00:52.878670Z",
     "shell.execute_reply.started": "2025-06-08T01:00:52.360753Z"
    },
    "scrolled": true
   },
   "outputs": [],
   "source": [
    "# Need to remove the header; otherwise you'll get error message when running the codes below\n",
    "\n",
    "df[[\"SNP\"]].to_csv(f\"{PROJECT_DIR_s}other_data/w_hm3_no_header.snplist\", header=None, index=False, sep=\"\\t\")"
   ]
  },
  {
   "cell_type": "code",
   "execution_count": 49,
   "id": "6be40b69-3c56-4fa7-b66d-78c7697295d5",
   "metadata": {
    "execution": {
     "iopub.execute_input": "2025-09-20T01:52:36.348590Z",
     "iopub.status.busy": "2025-09-20T01:52:36.348132Z",
     "iopub.status.idle": "2025-09-20T01:52:36.354052Z",
     "shell.execute_reply": "2025-09-20T01:52:36.353263Z",
     "shell.execute_reply.started": "2025-09-20T01:52:36.348560Z"
    },
    "scrolled": true
   },
   "outputs": [
    {
     "name": "stdout",
     "output_type": "stream",
     "text": [
      "sbatch /home/yc2553/slurm/LDSC/get_LD_scores.sh /fs/cbsuhy02/storage/yc2553/yc2553/softwares/ldsc/hg38/plink_files/1000G.EUR.hg38 /fs/cbsuhy02/storage/yc2553/yc2553/projects/3.Human_atlas/output/LDSC/annots/0.05_1000/divergent_distal_Blood /fs/cbsuhy02/storage/yc2553/yc2553/softwares/ldsc/other_data/w_hm3_no_header.snplist\n",
      "sbatch /home/yc2553/slurm/LDSC/get_LD_scores.sh /fs/cbsuhy02/storage/yc2553/yc2553/softwares/ldsc/hg38/plink_files/1000G.EUR.hg38 /fs/cbsuhy02/storage/yc2553/yc2553/projects/3.Human_atlas/output/LDSC/annots/0.05_1000/divergent_distal_Lymph_node /fs/cbsuhy02/storage/yc2553/yc2553/softwares/ldsc/other_data/w_hm3_no_header.snplist\n",
      "sbatch /home/yc2553/slurm/LDSC/get_LD_scores.sh /fs/cbsuhy02/storage/yc2553/yc2553/softwares/ldsc/hg38/plink_files/1000G.EUR.hg38 /fs/cbsuhy02/storage/yc2553/yc2553/projects/3.Human_atlas/output/LDSC/annots/0.05_1000/divergent_distal_Spleen /fs/cbsuhy02/storage/yc2553/yc2553/softwares/ldsc/other_data/w_hm3_no_header.snplist\n",
      "sbatch /home/yc2553/slurm/LDSC/get_LD_scores.sh /fs/cbsuhy02/storage/yc2553/yc2553/softwares/ldsc/hg38/plink_files/1000G.EUR.hg38 /fs/cbsuhy02/storage/yc2553/yc2553/projects/3.Human_atlas/output/LDSC/annots/0.05_1000/divergent_distal_Brain /fs/cbsuhy02/storage/yc2553/yc2553/softwares/ldsc/other_data/w_hm3_no_header.snplist\n",
      "sbatch /home/yc2553/slurm/LDSC/get_LD_scores.sh /fs/cbsuhy02/storage/yc2553/yc2553/softwares/ldsc/hg38/plink_files/1000G.EUR.hg38 /fs/cbsuhy02/storage/yc2553/yc2553/projects/3.Human_atlas/output/LDSC/annots/0.05_1000/divergent_distal_Muscle /fs/cbsuhy02/storage/yc2553/yc2553/softwares/ldsc/other_data/w_hm3_no_header.snplist\n",
      "sbatch /home/yc2553/slurm/LDSC/get_LD_scores.sh /fs/cbsuhy02/storage/yc2553/yc2553/softwares/ldsc/hg38/plink_files/1000G.EUR.hg38 /fs/cbsuhy02/storage/yc2553/yc2553/projects/3.Human_atlas/output/LDSC/annots/0.05_1000/divergent_distal_Liver /fs/cbsuhy02/storage/yc2553/yc2553/softwares/ldsc/other_data/w_hm3_no_header.snplist\n",
      "sbatch /home/yc2553/slurm/LDSC/get_LD_scores.sh /fs/cbsuhy02/storage/yc2553/yc2553/softwares/ldsc/hg38/plink_files/1000G.EUR.hg38 /fs/cbsuhy02/storage/yc2553/yc2553/projects/3.Human_atlas/output/LDSC/annots/0.05_1000/divergent_distal_Pancreas /fs/cbsuhy02/storage/yc2553/yc2553/softwares/ldsc/other_data/w_hm3_no_header.snplist\n",
      "sbatch /home/yc2553/slurm/LDSC/get_LD_scores.sh /fs/cbsuhy02/storage/yc2553/yc2553/softwares/ldsc/hg38/plink_files/1000G.EUR.hg38 /fs/cbsuhy02/storage/yc2553/yc2553/projects/3.Human_atlas/output/LDSC/annots/0.05_1000/divergent_distal_Large_intestine /fs/cbsuhy02/storage/yc2553/yc2553/softwares/ldsc/other_data/w_hm3_no_header.snplist\n",
      "sbatch /home/yc2553/slurm/LDSC/get_LD_scores.sh /fs/cbsuhy02/storage/yc2553/yc2553/softwares/ldsc/hg38/plink_files/1000G.EUR.hg38 /fs/cbsuhy02/storage/yc2553/yc2553/projects/3.Human_atlas/output/LDSC/annots/0.05_1000/divergent_distal_Small_intestine /fs/cbsuhy02/storage/yc2553/yc2553/softwares/ldsc/other_data/w_hm3_no_header.snplist\n",
      "sbatch /home/yc2553/slurm/LDSC/get_LD_scores.sh /fs/cbsuhy02/storage/yc2553/yc2553/softwares/ldsc/hg38/plink_files/1000G.EUR.hg38 /fs/cbsuhy02/storage/yc2553/yc2553/projects/3.Human_atlas/output/LDSC/annots/0.05_1000/divergent_distal_Heart /fs/cbsuhy02/storage/yc2553/yc2553/softwares/ldsc/other_data/w_hm3_no_header.snplist\n",
      "sbatch /home/yc2553/slurm/LDSC/get_LD_scores.sh /fs/cbsuhy02/storage/yc2553/yc2553/softwares/ldsc/hg38/plink_files/1000G.EUR.hg38 /fs/cbsuhy02/storage/yc2553/yc2553/projects/3.Human_atlas/output/LDSC/annots/0.05_1000/divergent_distal_Adrenal_gland /fs/cbsuhy02/storage/yc2553/yc2553/softwares/ldsc/other_data/w_hm3_no_header.snplist\n",
      "sbatch /home/yc2553/slurm/LDSC/get_LD_scores.sh /fs/cbsuhy02/storage/yc2553/yc2553/softwares/ldsc/hg38/plink_files/1000G.EUR.hg38 /fs/cbsuhy02/storage/yc2553/yc2553/projects/3.Human_atlas/output/LDSC/annots/0.05_1000/divergent_distal_Lung /fs/cbsuhy02/storage/yc2553/yc2553/softwares/ldsc/other_data/w_hm3_no_header.snplist\n",
      "sbatch /home/yc2553/slurm/LDSC/get_LD_scores.sh /fs/cbsuhy02/storage/yc2553/yc2553/softwares/ldsc/hg38/plink_files/1000G.EUR.hg38 /fs/cbsuhy02/storage/yc2553/yc2553/projects/3.Human_atlas/output/LDSC/annots/0.05_1000/divergent_distal_Breast /fs/cbsuhy02/storage/yc2553/yc2553/softwares/ldsc/other_data/w_hm3_no_header.snplist\n",
      "sbatch /home/yc2553/slurm/LDSC/get_LD_scores.sh /fs/cbsuhy02/storage/yc2553/yc2553/softwares/ldsc/hg38/plink_files/1000G.EUR.hg38 /fs/cbsuhy02/storage/yc2553/yc2553/projects/3.Human_atlas/output/LDSC/annots/0.05_1000/divergent_distal_Ovary /fs/cbsuhy02/storage/yc2553/yc2553/softwares/ldsc/other_data/w_hm3_no_header.snplist\n",
      "sbatch /home/yc2553/slurm/LDSC/get_LD_scores.sh /fs/cbsuhy02/storage/yc2553/yc2553/softwares/ldsc/hg38/plink_files/1000G.EUR.hg38 /fs/cbsuhy02/storage/yc2553/yc2553/projects/3.Human_atlas/output/LDSC/annots/0.05_1000/divergent_distal_Testis /fs/cbsuhy02/storage/yc2553/yc2553/softwares/ldsc/other_data/w_hm3_no_header.snplist\n",
      "sbatch /home/yc2553/slurm/LDSC/get_LD_scores.sh /fs/cbsuhy02/storage/yc2553/yc2553/softwares/ldsc/hg38/plink_files/1000G.EUR.hg38 /fs/cbsuhy02/storage/yc2553/yc2553/projects/3.Human_atlas/output/LDSC/annots/0.05_1000/divergent_distal_Non_tissue_specific /fs/cbsuhy02/storage/yc2553/yc2553/softwares/ldsc/other_data/w_hm3_no_header.snplist\n",
      "sbatch /home/yc2553/slurm/LDSC/get_LD_scores.sh /fs/cbsuhy02/storage/yc2553/yc2553/softwares/ldsc/hg38/plink_files/1000G.EUR.hg38 /fs/cbsuhy02/storage/yc2553/yc2553/projects/3.Human_atlas/output/LDSC/annots/0.05_1000/divergent_proximal_Blood /fs/cbsuhy02/storage/yc2553/yc2553/softwares/ldsc/other_data/w_hm3_no_header.snplist\n",
      "sbatch /home/yc2553/slurm/LDSC/get_LD_scores.sh /fs/cbsuhy02/storage/yc2553/yc2553/softwares/ldsc/hg38/plink_files/1000G.EUR.hg38 /fs/cbsuhy02/storage/yc2553/yc2553/projects/3.Human_atlas/output/LDSC/annots/0.05_1000/divergent_proximal_Lymph_node /fs/cbsuhy02/storage/yc2553/yc2553/softwares/ldsc/other_data/w_hm3_no_header.snplist\n",
      "sbatch /home/yc2553/slurm/LDSC/get_LD_scores.sh /fs/cbsuhy02/storage/yc2553/yc2553/softwares/ldsc/hg38/plink_files/1000G.EUR.hg38 /fs/cbsuhy02/storage/yc2553/yc2553/projects/3.Human_atlas/output/LDSC/annots/0.05_1000/divergent_proximal_Spleen /fs/cbsuhy02/storage/yc2553/yc2553/softwares/ldsc/other_data/w_hm3_no_header.snplist\n",
      "sbatch /home/yc2553/slurm/LDSC/get_LD_scores.sh /fs/cbsuhy02/storage/yc2553/yc2553/softwares/ldsc/hg38/plink_files/1000G.EUR.hg38 /fs/cbsuhy02/storage/yc2553/yc2553/projects/3.Human_atlas/output/LDSC/annots/0.05_1000/divergent_proximal_Brain /fs/cbsuhy02/storage/yc2553/yc2553/softwares/ldsc/other_data/w_hm3_no_header.snplist\n",
      "sbatch /home/yc2553/slurm/LDSC/get_LD_scores.sh /fs/cbsuhy02/storage/yc2553/yc2553/softwares/ldsc/hg38/plink_files/1000G.EUR.hg38 /fs/cbsuhy02/storage/yc2553/yc2553/projects/3.Human_atlas/output/LDSC/annots/0.05_1000/divergent_proximal_Muscle /fs/cbsuhy02/storage/yc2553/yc2553/softwares/ldsc/other_data/w_hm3_no_header.snplist\n",
      "sbatch /home/yc2553/slurm/LDSC/get_LD_scores.sh /fs/cbsuhy02/storage/yc2553/yc2553/softwares/ldsc/hg38/plink_files/1000G.EUR.hg38 /fs/cbsuhy02/storage/yc2553/yc2553/projects/3.Human_atlas/output/LDSC/annots/0.05_1000/divergent_proximal_Liver /fs/cbsuhy02/storage/yc2553/yc2553/softwares/ldsc/other_data/w_hm3_no_header.snplist\n",
      "sbatch /home/yc2553/slurm/LDSC/get_LD_scores.sh /fs/cbsuhy02/storage/yc2553/yc2553/softwares/ldsc/hg38/plink_files/1000G.EUR.hg38 /fs/cbsuhy02/storage/yc2553/yc2553/projects/3.Human_atlas/output/LDSC/annots/0.05_1000/divergent_proximal_Pancreas /fs/cbsuhy02/storage/yc2553/yc2553/softwares/ldsc/other_data/w_hm3_no_header.snplist\n",
      "sbatch /home/yc2553/slurm/LDSC/get_LD_scores.sh /fs/cbsuhy02/storage/yc2553/yc2553/softwares/ldsc/hg38/plink_files/1000G.EUR.hg38 /fs/cbsuhy02/storage/yc2553/yc2553/projects/3.Human_atlas/output/LDSC/annots/0.05_1000/divergent_proximal_Large_intestine /fs/cbsuhy02/storage/yc2553/yc2553/softwares/ldsc/other_data/w_hm3_no_header.snplist\n",
      "sbatch /home/yc2553/slurm/LDSC/get_LD_scores.sh /fs/cbsuhy02/storage/yc2553/yc2553/softwares/ldsc/hg38/plink_files/1000G.EUR.hg38 /fs/cbsuhy02/storage/yc2553/yc2553/projects/3.Human_atlas/output/LDSC/annots/0.05_1000/divergent_proximal_Small_intestine /fs/cbsuhy02/storage/yc2553/yc2553/softwares/ldsc/other_data/w_hm3_no_header.snplist\n",
      "sbatch /home/yc2553/slurm/LDSC/get_LD_scores.sh /fs/cbsuhy02/storage/yc2553/yc2553/softwares/ldsc/hg38/plink_files/1000G.EUR.hg38 /fs/cbsuhy02/storage/yc2553/yc2553/projects/3.Human_atlas/output/LDSC/annots/0.05_1000/divergent_proximal_Heart /fs/cbsuhy02/storage/yc2553/yc2553/softwares/ldsc/other_data/w_hm3_no_header.snplist\n",
      "sbatch /home/yc2553/slurm/LDSC/get_LD_scores.sh /fs/cbsuhy02/storage/yc2553/yc2553/softwares/ldsc/hg38/plink_files/1000G.EUR.hg38 /fs/cbsuhy02/storage/yc2553/yc2553/projects/3.Human_atlas/output/LDSC/annots/0.05_1000/divergent_proximal_Adrenal_gland /fs/cbsuhy02/storage/yc2553/yc2553/softwares/ldsc/other_data/w_hm3_no_header.snplist\n",
      "sbatch /home/yc2553/slurm/LDSC/get_LD_scores.sh /fs/cbsuhy02/storage/yc2553/yc2553/softwares/ldsc/hg38/plink_files/1000G.EUR.hg38 /fs/cbsuhy02/storage/yc2553/yc2553/projects/3.Human_atlas/output/LDSC/annots/0.05_1000/divergent_proximal_Lung /fs/cbsuhy02/storage/yc2553/yc2553/softwares/ldsc/other_data/w_hm3_no_header.snplist\n",
      "sbatch /home/yc2553/slurm/LDSC/get_LD_scores.sh /fs/cbsuhy02/storage/yc2553/yc2553/softwares/ldsc/hg38/plink_files/1000G.EUR.hg38 /fs/cbsuhy02/storage/yc2553/yc2553/projects/3.Human_atlas/output/LDSC/annots/0.05_1000/divergent_proximal_Breast /fs/cbsuhy02/storage/yc2553/yc2553/softwares/ldsc/other_data/w_hm3_no_header.snplist\n",
      "sbatch /home/yc2553/slurm/LDSC/get_LD_scores.sh /fs/cbsuhy02/storage/yc2553/yc2553/softwares/ldsc/hg38/plink_files/1000G.EUR.hg38 /fs/cbsuhy02/storage/yc2553/yc2553/projects/3.Human_atlas/output/LDSC/annots/0.05_1000/divergent_proximal_Ovary /fs/cbsuhy02/storage/yc2553/yc2553/softwares/ldsc/other_data/w_hm3_no_header.snplist\n",
      "sbatch /home/yc2553/slurm/LDSC/get_LD_scores.sh /fs/cbsuhy02/storage/yc2553/yc2553/softwares/ldsc/hg38/plink_files/1000G.EUR.hg38 /fs/cbsuhy02/storage/yc2553/yc2553/projects/3.Human_atlas/output/LDSC/annots/0.05_1000/divergent_proximal_Testis /fs/cbsuhy02/storage/yc2553/yc2553/softwares/ldsc/other_data/w_hm3_no_header.snplist\n",
      "sbatch /home/yc2553/slurm/LDSC/get_LD_scores.sh /fs/cbsuhy02/storage/yc2553/yc2553/softwares/ldsc/hg38/plink_files/1000G.EUR.hg38 /fs/cbsuhy02/storage/yc2553/yc2553/projects/3.Human_atlas/output/LDSC/annots/0.05_1000/divergent_proximal_Non_tissue_specific /fs/cbsuhy02/storage/yc2553/yc2553/softwares/ldsc/other_data/w_hm3_no_header.snplist\n"
     ]
    }
   ],
   "source": [
    "script = \"/home/yc2553/slurm/LDSC/get_LD_scores.sh\"\n",
    "bfile_prefix = f\"{PROJECT_DIR_s}hg38/plink_files/1000G.EUR.hg38\"\n",
    "snps = f\"{PROJECT_DIR_s}other_data/w_hm3_no_header.snplist\"\n",
    "\n",
    "for d, t in itertools.product(ds, tissues2):\n",
    "\tannot_prefix = f\"{outdir}/{p}_{d}_{t}\"\n",
    "\tcommands = \" \".join([\"sbatch\", script,\n",
    "\t\t\t\t\t\tbfile_prefix,\n",
    "\t\t\t\t\t\tannot_prefix,\n",
    "\t\t\t\t\t\tsnps\n",
    "\t\t\t\t\t\t])\n",
    "\tprint(commands)"
   ]
  },
  {
   "cell_type": "code",
   "execution_count": 50,
   "id": "402cc665-4259-4f18-8c29-f71cc1494b29",
   "metadata": {
    "execution": {
     "iopub.execute_input": "2025-09-20T01:52:38.653664Z",
     "iopub.status.busy": "2025-09-20T01:52:38.653304Z",
     "iopub.status.idle": "2025-09-20T01:52:38.793005Z",
     "shell.execute_reply": "2025-09-20T01:52:38.792159Z",
     "shell.execute_reply.started": "2025-09-20T01:52:38.653635Z"
    },
    "tags": []
   },
   "outputs": [
    {
     "data": {
      "text/html": [
       "<div>\n",
       "<style scoped>\n",
       "    .dataframe tbody tr th:only-of-type {\n",
       "        vertical-align: middle;\n",
       "    }\n",
       "\n",
       "    .dataframe tbody tr th {\n",
       "        vertical-align: top;\n",
       "    }\n",
       "\n",
       "    .dataframe thead th {\n",
       "        text-align: right;\n",
       "    }\n",
       "</style>\n",
       "<table border=\"1\" class=\"dataframe\">\n",
       "  <thead>\n",
       "    <tr style=\"text-align: right;\">\n",
       "      <th></th>\n",
       "      <th>CHR</th>\n",
       "      <th>SNP</th>\n",
       "      <th>BP</th>\n",
       "      <th>L2</th>\n",
       "    </tr>\n",
       "  </thead>\n",
       "  <tbody>\n",
       "    <tr>\n",
       "      <th>0</th>\n",
       "      <td>1</td>\n",
       "      <td>rs3094315</td>\n",
       "      <td>817186</td>\n",
       "      <td>-0.002</td>\n",
       "    </tr>\n",
       "    <tr>\n",
       "      <th>1</th>\n",
       "      <td>1</td>\n",
       "      <td>rs3131972</td>\n",
       "      <td>817341</td>\n",
       "      <td>-0.004</td>\n",
       "    </tr>\n",
       "  </tbody>\n",
       "</table>\n",
       "</div>"
      ],
      "text/plain": [
       "   CHR        SNP      BP     L2\n",
       "0    1  rs3094315  817186 -0.002\n",
       "1    1  rs3131972  817341 -0.004"
      ]
     },
     "execution_count": 50,
     "metadata": {},
     "output_type": "execute_result"
    }
   ],
   "source": [
    "# Check the output\n",
    "\n",
    "inputfile = f\"{outdir}/{p}_{d}_{t}.1.l2.ldscore.gz\"\n",
    "df_ldscore = pd.read_table(inputfile)\n",
    "df_ldscore.head(2)"
   ]
  },
  {
   "cell_type": "code",
   "execution_count": null,
   "id": "8e4df4de-2ce5-4f26-9958-b41c9a69afb2",
   "metadata": {},
   "outputs": [],
   "source": []
  }
 ],
 "metadata": {
  "kernelspec": {
   "display_name": "Python 3 (ipykernel)",
   "language": "python",
   "name": "python3"
  },
  "language_info": {
   "codemirror_mode": {
    "name": "ipython",
    "version": 3
   },
   "file_extension": ".py",
   "mimetype": "text/x-python",
   "name": "python",
   "nbconvert_exporter": "python",
   "pygments_lexer": "ipython3",
   "version": "3.10.8"
  }
 },
 "nbformat": 4,
 "nbformat_minor": 5
}
