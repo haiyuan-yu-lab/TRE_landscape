{
 "cells": [
  {
   "cell_type": "code",
   "execution_count": 1,
   "id": "81707ec2-03a1-4a61-97b7-f56e1cb51060",
   "metadata": {
    "editable": true,
    "execution": {
     "iopub.execute_input": "2025-09-23T05:38:53.760596Z",
     "iopub.status.busy": "2025-09-23T05:38:53.760344Z",
     "iopub.status.idle": "2025-09-23T05:39:02.569553Z",
     "shell.execute_reply": "2025-09-23T05:39:02.568472Z",
     "shell.execute_reply.started": "2025-09-23T05:38:53.760566Z"
    },
    "slideshow": {
     "slide_type": ""
    },
    "tags": []
   },
   "outputs": [],
   "source": [
    "import seaborn as sns\n",
    "import matplotlib\n",
    "import matplotlib.pyplot as plt\n",
    "import pandas as pd\n",
    "from biodatatools.utils.common import json_load\n",
    "import subprocess\n",
    "import glob\n",
    "from os.path import exists\n",
    "import os\n",
    "from pathlib import Path\n",
    "import sys\n",
    "import numpy as np\n",
    "from scipy.stats import pearsonr"
   ]
  },
  {
   "cell_type": "code",
   "execution_count": 2,
   "id": "e493bd0d-1eea-42bb-a517-a213325f7034",
   "metadata": {
    "execution": {
     "iopub.execute_input": "2025-09-23T05:39:02.573272Z",
     "iopub.status.busy": "2025-09-23T05:39:02.572796Z",
     "iopub.status.idle": "2025-09-23T05:39:02.590903Z",
     "shell.execute_reply": "2025-09-23T05:39:02.590285Z",
     "shell.execute_reply.started": "2025-09-23T05:39:02.573244Z"
    }
   },
   "outputs": [],
   "source": [
    "font_dir = Path.cwd().parent / \"font\"\n",
    "for font in [\"Arial.ttf\", \"Arial_Bold.ttf\"]:\n",
    "    matplotlib.font_manager.fontManager.addfont(font_dir / font)\n",
    "matplotlib.rcParams[\"font.family\"] = \"Arial\"\n",
    "bfontsize = 12\n",
    "sfontsize = 9"
   ]
  },
  {
   "cell_type": "code",
   "execution_count": 3,
   "id": "4a2e84f8-a8d7-469d-b3b5-9fde82b4f04c",
   "metadata": {
    "execution": {
     "iopub.execute_input": "2025-09-23T05:39:02.593842Z",
     "iopub.status.busy": "2025-09-23T05:39:02.593399Z",
     "iopub.status.idle": "2025-09-23T05:39:03.779757Z",
     "shell.execute_reply": "2025-09-23T05:39:03.779049Z",
     "shell.execute_reply.started": "2025-09-23T05:39:02.593817Z"
    },
    "tags": []
   },
   "outputs": [],
   "source": [
    "PROJECT_DIR_d = \"/home/yc2553/projects/HEA/databases/\"\n",
    "PROJECT_DIR_s = \"/fs/cbsuhy02/storage/yc2553/yc2553/projects/3.Human_atlas/procapnet/\"\n",
    "PROJECT_DIR_o = \"/home/yc2553/projects/HEA/output/\"\n",
    "PROJECT_DIR_r = \"/fs/cbsuhy02/storage/yc2553/yc2553/projects/TRE_directionality/resources/\""
   ]
  },
  {
   "cell_type": "code",
   "execution_count": 4,
   "id": "134b02ae-dffe-4db6-b3ce-d7618f4e0b13",
   "metadata": {
    "execution": {
     "iopub.execute_input": "2025-09-23T05:39:03.782531Z",
     "iopub.status.busy": "2025-09-23T05:39:03.782326Z",
     "iopub.status.idle": "2025-09-23T05:39:38.012036Z",
     "shell.execute_reply": "2025-09-23T05:39:38.011150Z",
     "shell.execute_reply.started": "2025-09-23T05:39:03.782507Z"
    }
   },
   "outputs": [],
   "source": [
    "sys.path.append(f\"{PROJECT_DIR_s}2_train_models/\")\n",
    "from data_loading import extract_observed_profiles\n",
    "from performance_metrics import profile_jsd"
   ]
  },
  {
   "cell_type": "markdown",
   "id": "e2e03931-f6d1-4930-9f80-f525dc4d72ff",
   "metadata": {},
   "source": [
    "# Data preprocessing"
   ]
  },
  {
   "cell_type": "code",
   "execution_count": 5,
   "id": "fd8873d3-37b0-408b-b415-eae40d74e400",
   "metadata": {
    "execution": {
     "iopub.execute_input": "2025-09-23T05:39:38.039014Z",
     "iopub.status.busy": "2025-09-23T05:39:38.038551Z",
     "iopub.status.idle": "2025-09-23T05:39:38.041951Z",
     "shell.execute_reply": "2025-09-23T05:39:38.041386Z",
     "shell.execute_reply.started": "2025-09-23T05:39:38.038987Z"
    }
   },
   "outputs": [],
   "source": [
    "ks = [\"pl\", \"mn\"]\n",
    "s = \"SC5\""
   ]
  },
  {
   "cell_type": "code",
   "execution_count": 6,
   "id": "064cca58-ee8f-446b-9474-fef919512ce5",
   "metadata": {
    "execution": {
     "iopub.execute_input": "2025-09-23T05:39:38.042882Z",
     "iopub.status.busy": "2025-09-23T05:39:38.042589Z",
     "iopub.status.idle": "2025-09-23T05:39:38.997524Z",
     "shell.execute_reply": "2025-09-23T05:39:38.996803Z",
     "shell.execute_reply.started": "2025-09-23T05:39:38.042858Z"
    }
   },
   "outputs": [],
   "source": [
    "beds = json_load(f\"{PROJECT_DIR_d}PROcap/metainfo/sample_beds.json\")\n",
    "bws = json_load(f\"{PROJECT_DIR_d}PROcap/metainfo/sample_bws.json\")"
   ]
  },
  {
   "cell_type": "code",
   "execution_count": 10,
   "id": "efaf736e-016b-4c4a-8733-bb8c7bdf6c55",
   "metadata": {
    "execution": {
     "iopub.execute_input": "2025-09-23T02:42:46.984059Z",
     "iopub.status.busy": "2025-09-23T02:42:46.983601Z",
     "iopub.status.idle": "2025-09-23T02:42:46.987471Z",
     "shell.execute_reply": "2025-09-23T02:42:46.986853Z",
     "shell.execute_reply.started": "2025-09-23T02:42:46.984033Z"
    }
   },
   "outputs": [],
   "source": [
    "# H1: in chrombpnet paper, they have both ATAC-seq and DNase-seq models for this cell line; based on Extended Fig. 2, it seems ATAC-seq model is better than DNase-seq model given deeper seq depth (150M vs 21M), comparable count correlation, and much smaller profile JSD; based on Table 5, the ATAC model identified more motifs from TF-MoDISco.\n",
    "# https://www.ncbi.nlm.nih.gov/geo/query/acc.cgi?acc=GSE267154\n",
    "# Liver: https://www.encodeproject.org/files/ENCFF654SUU/@@download/ENCFF654SUU.bed.gz\n",
    "\n",
    "acc = f\"{PROJECT_DIR_d}GEO/GSE267154/GSE267154_overlap.optimal_peak.narrowPeak.gz\""
   ]
  },
  {
   "cell_type": "code",
   "execution_count": 16,
   "id": "51eecf3e-7f93-4c02-b7a3-1593373dd9f0",
   "metadata": {
    "execution": {
     "iopub.execute_input": "2025-09-23T02:44:03.744204Z",
     "iopub.status.busy": "2025-09-23T02:44:03.743659Z",
     "iopub.status.idle": "2025-09-23T02:44:03.749374Z",
     "shell.execute_reply": "2025-09-23T02:44:03.748738Z",
     "shell.execute_reply.started": "2025-09-23T02:44:03.744173Z"
    }
   },
   "outputs": [
    {
     "name": "stdout",
     "output_type": "stream",
     "text": [
      "sbatch /fs/cbsuhy02/storage/yc2553/yc2553/projects/3.Human_atlas/procapnet/slurm/input.sh /home/kl945/EnhancerAtlas/PROcap/ brm_SC5a_and_SC5b_erm /home/yc2553/projects/HEA/output/procapnet/processed/SC5 /home/yc2553/projects/HEA/databases/GEO/GSE267154/GSE267154_overlap.optimal_peak.narrowPeak.gz F\n"
     ]
    }
   ],
   "source": [
    "script = f\"{PROJECT_DIR_s}slurm/input.sh\"\n",
    "sex = \"F\"\n",
    "prefix = f\"brm_{s}a_and_{s}b_erm\"\n",
    "commands = \" \".join([\"sbatch\", script,\n",
    "\t\t\t\t\t \"/home/kl945/EnhancerAtlas/PROcap/\",\n",
    "\t\t\t\t\t prefix,\n",
    "\t\t\t\t\t f\"{PROJECT_DIR_o}procapnet/processed/{s}\",\n",
    "\t\t\t\t\t acc, \n",
    "\t\t\t\t\t sex\n",
    "\t\t\t\t\t])\n",
    "print(commands)"
   ]
  },
  {
   "cell_type": "code",
   "execution_count": 17,
   "id": "2e2e13ab-8739-41c5-b8b7-54c0a91a1853",
   "metadata": {
    "execution": {
     "iopub.execute_input": "2025-09-23T02:44:10.325352Z",
     "iopub.status.busy": "2025-09-23T02:44:10.324893Z",
     "iopub.status.idle": "2025-09-23T02:44:10.636648Z",
     "shell.execute_reply": "2025-09-23T02:44:10.635756Z",
     "shell.execute_reply.started": "2025-09-23T02:44:10.325325Z"
    }
   },
   "outputs": [
    {
     "name": "stdout",
     "output_type": "stream",
     "text": [
      "76899\n"
     ]
    }
   ],
   "source": [
    "# No. peaks\n",
    "\n",
    "! zcat $PROJECT_DIR_o/procapnet/processed/{s}/peaks.bed.gz | wc -l"
   ]
  },
  {
   "cell_type": "markdown",
   "id": "b9640a9a-de58-4400-83a9-3dcc1e43f1c2",
   "metadata": {},
   "source": [
    "# Model training"
   ]
  },
  {
   "cell_type": "code",
   "execution_count": null,
   "id": "bc07301a-0280-4ea4-bbb6-aa344419aa4c",
   "metadata": {},
   "outputs": [],
   "source": [
    "# Use the default parameters for consistency with the chrombpnet model"
   ]
  },
  {
   "cell_type": "code",
   "execution_count": 7,
   "id": "5cd7183f-54d7-4685-816f-cfe6e0384c7e",
   "metadata": {
    "execution": {
     "iopub.execute_input": "2025-09-23T05:39:38.998671Z",
     "iopub.status.busy": "2025-09-23T05:39:38.998338Z",
     "iopub.status.idle": "2025-09-23T05:39:39.899390Z",
     "shell.execute_reply": "2025-09-23T05:39:39.898749Z",
     "shell.execute_reply.started": "2025-09-23T05:39:38.998645Z"
    },
    "scrolled": true
   },
   "outputs": [
    {
     "name": "stdout",
     "output_type": "stream",
     "text": [
      "sbatch /fs/cbsuhy02/storage/yc2553/yc2553/projects/3.Human_atlas/procapnet/slurm/train.sh SC5 strand_merged_umap /home/yc2553/projects/HEA/output/procapnet/ 1\n",
      "sbatch /fs/cbsuhy02/storage/yc2553/yc2553/projects/3.Human_atlas/procapnet/slurm/train.sh SC5 strand_merged_umap /home/yc2553/projects/HEA/output/procapnet/ 2\n",
      "sbatch /fs/cbsuhy02/storage/yc2553/yc2553/projects/3.Human_atlas/procapnet/slurm/train.sh SC5 strand_merged_umap /home/yc2553/projects/HEA/output/procapnet/ 3\n",
      "sbatch /fs/cbsuhy02/storage/yc2553/yc2553/projects/3.Human_atlas/procapnet/slurm/train.sh SC5 strand_merged_umap /home/yc2553/projects/HEA/output/procapnet/ 4\n",
      "sbatch /fs/cbsuhy02/storage/yc2553/yc2553/projects/3.Human_atlas/procapnet/slurm/train.sh SC5 strand_merged_umap /home/yc2553/projects/HEA/output/procapnet/ 5\n",
      "sbatch /fs/cbsuhy02/storage/yc2553/yc2553/projects/3.Human_atlas/procapnet/slurm/train.sh SC5 strand_merged_umap /home/yc2553/projects/HEA/output/procapnet/ 6\n",
      "sbatch /fs/cbsuhy02/storage/yc2553/yc2553/projects/3.Human_atlas/procapnet/slurm/train.sh SC5 strand_merged_umap /home/yc2553/projects/HEA/output/procapnet/ 7\n"
     ]
    }
   ],
   "source": [
    "# Add gpu at the end\n",
    "\n",
    "model_type = \"strand_merged_umap\"\n",
    "script = f\"{PROJECT_DIR_s}slurm/train.sh\"\n",
    "for fold in range(1,8):\n",
    "\tcommands = \" \".join([\"sbatch\", script,\n",
    "\t\t\t\t\t\ts,\n",
    "\t\t\t\t\t\tmodel_type,\n",
    "\t\t\t\t\t\tf\"{PROJECT_DIR_o}procapnet/\",\n",
    "\t\t\t\t\t\tstr(fold)\n",
    "\t\t\t\t\t\t])\n",
    "\tprint(commands)"
   ]
  },
  {
   "cell_type": "markdown",
   "id": "45ebd44f-d1cb-4732-8189-b6a3f41efd0f",
   "metadata": {},
   "source": [
    "# Evaluation"
   ]
  },
  {
   "cell_type": "code",
   "execution_count": 8,
   "id": "9d01abe7-3b44-49a7-869e-27f40ff91061",
   "metadata": {
    "execution": {
     "iopub.execute_input": "2025-09-23T05:39:39.900481Z",
     "iopub.status.busy": "2025-09-23T05:39:39.900162Z",
     "iopub.status.idle": "2025-09-23T05:39:44.575321Z",
     "shell.execute_reply": "2025-09-23T05:39:44.574633Z",
     "shell.execute_reply.started": "2025-09-23T05:39:39.900458Z"
    }
   },
   "outputs": [],
   "source": [
    "files = glob.glob(f\"{PROJECT_DIR_o}procapnet/models/{s}/{model_type}/*.model\")\n",
    "timestamps = sorted([f.split(\"/\")[-1].split(\".model\")[0] for f in files])"
   ]
  },
  {
   "cell_type": "code",
   "execution_count": 22,
   "id": "de91e863-3910-42de-85c2-f31fb4bcca76",
   "metadata": {
    "execution": {
     "iopub.execute_input": "2025-09-23T02:45:15.159689Z",
     "iopub.status.busy": "2025-09-23T02:45:15.159238Z",
     "iopub.status.idle": "2025-09-23T02:45:15.164380Z",
     "shell.execute_reply": "2025-09-23T02:45:15.163654Z",
     "shell.execute_reply.started": "2025-09-23T02:45:15.159659Z"
    },
    "scrolled": true
   },
   "outputs": [
    {
     "name": "stdout",
     "output_type": "stream",
     "text": [
      "sbatch /fs/cbsuhy02/storage/yc2553/yc2553/projects/3.Human_atlas/procapnet/slurm/eval.sh SC5 strand_merged_umap /home/yc2553/projects/HEA/output/procapnet/ 1 2025-03-14_23-40-51\n",
      "sbatch /fs/cbsuhy02/storage/yc2553/yc2553/projects/3.Human_atlas/procapnet/slurm/eval.sh SC5 strand_merged_umap /home/yc2553/projects/HEA/output/procapnet/ 2 2025-03-14_23-40-51\n",
      "sbatch /fs/cbsuhy02/storage/yc2553/yc2553/projects/3.Human_atlas/procapnet/slurm/eval.sh SC5 strand_merged_umap /home/yc2553/projects/HEA/output/procapnet/ 3 2025-03-13_13-25-41\n",
      "sbatch /fs/cbsuhy02/storage/yc2553/yc2553/projects/3.Human_atlas/procapnet/slurm/eval.sh SC5 strand_merged_umap /home/yc2553/projects/HEA/output/procapnet/ 4 2025-03-13_13-25-54\n",
      "sbatch /fs/cbsuhy02/storage/yc2553/yc2553/projects/3.Human_atlas/procapnet/slurm/eval.sh SC5 strand_merged_umap /home/yc2553/projects/HEA/output/procapnet/ 5 2025-03-13_13-26-23\n",
      "sbatch /fs/cbsuhy02/storage/yc2553/yc2553/projects/3.Human_atlas/procapnet/slurm/eval.sh SC5 strand_merged_umap /home/yc2553/projects/HEA/output/procapnet/ 6 2025-03-13_13-26-29\n",
      "sbatch /fs/cbsuhy02/storage/yc2553/yc2553/projects/3.Human_atlas/procapnet/slurm/eval.sh SC5 strand_merged_umap /home/yc2553/projects/HEA/output/procapnet/ 7 2025-03-13_13-26-44\n"
     ]
    }
   ],
   "source": [
    "# Add GPU name at the end\n",
    "# All test peaks\n",
    "\n",
    "script = f\"{PROJECT_DIR_s}slurm/eval.sh\"\n",
    "for k in timestamps:\n",
    "\tfold, timestamp = k.split(\".\") \n",
    "\tcommands = \" \".join([\"sbatch\", script, \n",
    "\t\t\t\t\t\ts,\n",
    "\t\t\t\t\t\tmodel_type,\n",
    "\t\t\t\t\t\tf\"{PROJECT_DIR_o}procapnet/\",\n",
    "\t\t\t\t\t\tfold,\n",
    "\t\t\t\t\t\ttimestamp\n",
    "\t\t\t\t\t\t])\n",
    "\tprint(commands)"
   ]
  },
  {
   "cell_type": "markdown",
   "id": "7a2e268c-ea8e-46be-9339-b6a8bdf36586",
   "metadata": {},
   "source": [
    "## Count task"
   ]
  },
  {
   "cell_type": "code",
   "execution_count": 9,
   "id": "15e2181a-e549-4c53-b305-01fab2d5489d",
   "metadata": {
    "execution": {
     "iopub.execute_input": "2025-09-23T05:39:44.576471Z",
     "iopub.status.busy": "2025-09-23T05:39:44.576136Z",
     "iopub.status.idle": "2025-09-23T05:40:39.089110Z",
     "shell.execute_reply": "2025-09-23T05:40:39.088148Z",
     "shell.execute_reply.started": "2025-09-23T05:39:44.576448Z"
    },
    "scrolled": true
   },
   "outputs": [
    {
     "name": "stdout",
     "output_type": "stream",
     "text": [
      "== In Extract Profiles ==\n",
      "Peak filepath: /home/yc2553/projects/HEA/output/procapnet/processed/SC5/peaks_fold1_test.bed.gz\n",
      "Profile length: 1000\n",
      "Num. Examples: 10680\n",
      "== In Extract Profiles ==\n",
      "Peak filepath: /home/yc2553/projects/HEA/output/procapnet/processed/SC5/peaks_fold2_test.bed.gz\n",
      "Profile length: 1000\n",
      "Num. Examples: 9985\n",
      "== In Extract Profiles ==\n",
      "Peak filepath: /home/yc2553/projects/HEA/output/procapnet/processed/SC5/peaks_fold3_test.bed.gz\n",
      "Profile length: 1000\n",
      "Num. Examples: 11039\n",
      "== In Extract Profiles ==\n",
      "Peak filepath: /home/yc2553/projects/HEA/output/procapnet/processed/SC5/peaks_fold4_test.bed.gz\n",
      "Profile length: 1000\n",
      "Num. Examples: 9753\n",
      "== In Extract Profiles ==\n",
      "Peak filepath: /home/yc2553/projects/HEA/output/procapnet/processed/SC5/peaks_fold5_test.bed.gz\n",
      "Profile length: 1000\n",
      "Num. Examples: 11272\n",
      "== In Extract Profiles ==\n",
      "Peak filepath: /home/yc2553/projects/HEA/output/procapnet/processed/SC5/peaks_fold6_test.bed.gz\n",
      "Profile length: 1000\n",
      "Num. Examples: 13550\n",
      "== In Extract Profiles ==\n",
      "Peak filepath: /home/yc2553/projects/HEA/output/procapnet/processed/SC5/peaks_fold7_test.bed.gz\n",
      "Profile length: 1000\n",
      "Num. Examples: 10620\n"
     ]
    }
   ],
   "source": [
    "# Get observed profiles\n",
    "\n",
    "obs_profs = {}\n",
    "for fold in range(1,8):\n",
    "\tobs_profs[fold] = extract_observed_profiles(bws[s][0],\n",
    "\t\t\t\t\t\t\t\t\t\t\t\tbws[s][1],\n",
    "\t\t\t\t\t\t\t\t\t\t\t\tf\"{PROJECT_DIR_o}procapnet/processed/{s}/peaks_fold{fold}_test.bed.gz\",\n",
    "\t\t\t\t\t\t\t\t\t\t\t\tout_window=1000)"
   ]
  },
  {
   "cell_type": "code",
   "execution_count": 10,
   "id": "bb3b706d-037f-40fd-879d-53a02e19f9f9",
   "metadata": {
    "execution": {
     "iopub.execute_input": "2025-09-23T05:40:39.090676Z",
     "iopub.status.busy": "2025-09-23T05:40:39.090302Z",
     "iopub.status.idle": "2025-09-23T05:40:39.198915Z",
     "shell.execute_reply": "2025-09-23T05:40:39.198190Z",
     "shell.execute_reply.started": "2025-09-23T05:40:39.090647Z"
    }
   },
   "outputs": [],
   "source": [
    "# Get observed counts\n",
    "\n",
    "obs_logcounts = {}\n",
    "for fold in obs_profs:\n",
    "\tobs_logcounts[fold] = np.log(obs_profs[fold].sum(axis=(1, 2))).tolist()"
   ]
  },
  {
   "cell_type": "code",
   "execution_count": 11,
   "id": "eedbc1a2-c2b1-4ace-8afa-4de3645ff18e",
   "metadata": {
    "execution": {
     "iopub.execute_input": "2025-09-23T05:40:39.200200Z",
     "iopub.status.busy": "2025-09-23T05:40:39.199825Z",
     "iopub.status.idle": "2025-09-23T05:40:43.897480Z",
     "shell.execute_reply": "2025-09-23T05:40:43.896768Z",
     "shell.execute_reply.started": "2025-09-23T05:40:39.200173Z"
    }
   },
   "outputs": [],
   "source": [
    "# Get predicted counts\n",
    "\n",
    "pred_logcounts = {}\n",
    "for k in timestamps:\n",
    "\tfold, timestamp = k.split(\".\")\n",
    "\tpred_logcounts[int(fold)] = np.load(f\"{PROJECT_DIR_o}procapnet/model_out/{s}/{model_type}/{k}/test_pred_logcounts.npy\").squeeze().tolist()"
   ]
  },
  {
   "cell_type": "code",
   "execution_count": 12,
   "id": "a773a532-e57d-4a74-8ab7-01c846dcda99",
   "metadata": {
    "execution": {
     "iopub.execute_input": "2025-09-23T05:40:43.898679Z",
     "iopub.status.busy": "2025-09-23T05:40:43.898329Z",
     "iopub.status.idle": "2025-09-23T05:40:50.836201Z",
     "shell.execute_reply": "2025-09-23T05:40:50.835463Z",
     "shell.execute_reply.started": "2025-09-23T05:40:43.898650Z"
    },
    "scrolled": true
   },
   "outputs": [],
   "source": [
    "xs = [v for fold in range(1,8) for v in obs_logcounts[fold]]\n",
    "ys = [v for fold in range(1,8) for v in pred_logcounts[fold]]\n",
    "corr = pearsonr(xs, ys)[0]"
   ]
  },
  {
   "cell_type": "code",
   "execution_count": 13,
   "id": "39f3044b-9840-42bf-8ae9-4853121ad90a",
   "metadata": {
    "execution": {
     "iopub.execute_input": "2025-09-23T05:40:50.837432Z",
     "iopub.status.busy": "2025-09-23T05:40:50.837084Z",
     "iopub.status.idle": "2025-09-23T05:41:51.989724Z",
     "shell.execute_reply": "2025-09-23T05:41:51.988862Z",
     "shell.execute_reply.started": "2025-09-23T05:40:50.837406Z"
    }
   },
   "outputs": [
    {
     "data": {
      "image/png": "[encoded data removed]",
      "text/plain": [
       "<Figure size 280x280 with 1 Axes>"
      ]
     },
     "metadata": {},
     "output_type": "display_data"
    }
   ],
   "source": [
    "fig, ax = plt.subplots(figsize=(2.8,2.8))\n",
    "g = sns.kdeplot(x=xs, y=ys, cmap=\"viridis\", fill=True, ax=ax)\n",
    "g.spines[[\"top\", \"right\"]].set_visible(False)\n",
    "g.text(x=8, y=3, s=f\"r = {corr:.2f}\", fontsize=sfontsize)\n",
    "g.set_title(\"ProCapNet (count task)\", fontsize=bfontsize)\n",
    "g.set_xlabel(\"Observed counts\", fontsize=bfontsize)\n",
    "g.set_ylabel(\"Predicted counts\", fontsize=bfontsize)\n",
    "g.set_xlim([1,11])\n",
    "g.set_ylim([1,11])\n",
    "g.set_xticks([5,10])\n",
    "g.set_yticks([5,10])\n",
    "g.tick_params(labelsize=sfontsize)\n",
    "plt.savefig(f\"{PROJECT_DIR_o}figures/ExtDataFig2b.pdf\", bbox_inches=\"tight\", transparent=True)"
   ]
  },
  {
   "cell_type": "markdown",
   "id": "48997e05-bb1a-4980-9893-1feb207de0c2",
   "metadata": {},
   "source": [
    "## Profile task"
   ]
  },
  {
   "cell_type": "code",
   "execution_count": 16,
   "id": "6a438444-856f-4b72-9533-54fe607e3fcc",
   "metadata": {
    "execution": {
     "iopub.execute_input": "2025-09-23T05:42:51.257094Z",
     "iopub.status.busy": "2025-09-23T05:42:51.256616Z",
     "iopub.status.idle": "2025-09-23T05:44:40.931467Z",
     "shell.execute_reply": "2025-09-23T05:44:40.930439Z",
     "shell.execute_reply.started": "2025-09-23T05:42:51.257062Z"
    }
   },
   "outputs": [
    {
     "name": "stdout",
     "output_type": "stream",
     "text": [
      "== In Extract Profiles ==\n",
      "Peak filepath: /home/yc2553/projects/HEA/output/procapnet/processed/SC5/peaks.bed.gz\n",
      "Profile length: 1000\n",
      "Num. Examples: 76899\n",
      "== In Extract Profiles ==\n",
      "Peak filepath: /home/yc2553/projects/HEA/output/procapnet/processed/SC5/peaks.bed.gz\n",
      "Profile length: 1000\n",
      "Num. Examples: 76899\n"
     ]
    }
   ],
   "source": [
    "# Get observed profiles for biological replicates\n",
    "\n",
    "obs_profs2 = {}\n",
    "for rep in [f\"{s}a\", f\"{s}b\"]:\n",
    "\tobs_profs2[rep] = extract_observed_profiles(f\"/home/kl945/EnhancerAtlas/PROcap/Alignments/{rep}_5pl.bw\",\n",
    "\t\t\t\t\t\t\t\t\t\t\tf\"/home/kl945/EnhancerAtlas/PROcap/Alignments/{rep}_5mn.bw\",\n",
    "\t\t\t\t\t\t\t\t\t\t\tf\"{PROJECT_DIR_o}procapnet/processed/{s}/peaks.bed.gz\",\n",
    "\t\t\t\t\t\t\t\t\t\t\tout_window=1000)"
   ]
  },
  {
   "cell_type": "code",
   "execution_count": 17,
   "id": "b349b0cb-fa17-42df-bdbe-58ef09b3d2a9",
   "metadata": {
    "execution": {
     "iopub.execute_input": "2025-09-23T05:44:40.933625Z",
     "iopub.status.busy": "2025-09-23T05:44:40.933206Z",
     "iopub.status.idle": "2025-09-23T05:45:08.544291Z",
     "shell.execute_reply": "2025-09-23T05:45:08.543556Z",
     "shell.execute_reply.started": "2025-09-23T05:44:40.933596Z"
    }
   },
   "outputs": [],
   "source": [
    "# Get predicted profiles\n",
    "\n",
    "pred_profs = {}\n",
    "for k in timestamps:\n",
    "\tfold, timestamp = k.split(\".\")\n",
    "\tpred_profs[int(fold)] = np.load(f\"{PROJECT_DIR_o}procapnet/model_out/{s}/{model_type}/{k}/test_pred_profiles.npy\")"
   ]
  },
  {
   "cell_type": "code",
   "execution_count": 18,
   "id": "783802c5-ee84-4c84-a61a-874e153d3c72",
   "metadata": {
    "execution": {
     "iopub.execute_input": "2025-09-23T05:45:08.545792Z",
     "iopub.status.busy": "2025-09-23T05:45:08.545340Z",
     "iopub.status.idle": "2025-09-23T05:46:27.925563Z",
     "shell.execute_reply": "2025-09-23T05:46:27.923928Z",
     "shell.execute_reply.started": "2025-09-23T05:45:08.545748Z"
    }
   },
   "outputs": [],
   "source": [
    "# Concatenate across folds\n",
    "\n",
    "obs_profs_all = np.concatenate([obs_profs[fold] for fold in range(1,8)], axis=0)\n",
    "pred_profs_all = np.concatenate([pred_profs[fold] for fold in range(1,8)], axis=0)"
   ]
  },
  {
   "cell_type": "code",
   "execution_count": 19,
   "id": "032ef24a-83cc-4019-a0e5-1af2e5ac1bad",
   "metadata": {
    "execution": {
     "iopub.execute_input": "2025-09-23T05:46:27.928592Z",
     "iopub.status.busy": "2025-09-23T05:46:27.928053Z",
     "iopub.status.idle": "2025-09-23T05:46:55.094822Z",
     "shell.execute_reply": "2025-09-23T05:46:55.093816Z",
     "shell.execute_reply.started": "2025-09-23T05:46:27.928559Z"
    }
   },
   "outputs": [],
   "source": [
    "# Get averaged observed profiles\n",
    "\n",
    "avg_obs_profs = np.tile(obs_profs_all.mean(axis=0, keepdims=True), (len(obs_profs_all),1,1))"
   ]
  },
  {
   "cell_type": "code",
   "execution_count": 20,
   "id": "d5ba854e-9f19-4287-b0aa-1eed50f5aa7d",
   "metadata": {
    "execution": {
     "iopub.execute_input": "2025-09-23T05:46:55.096280Z",
     "iopub.status.busy": "2025-09-23T05:46:55.095879Z",
     "iopub.status.idle": "2025-09-23T05:46:55.100689Z",
     "shell.execute_reply": "2025-09-23T05:46:55.099787Z",
     "shell.execute_reply.started": "2025-09-23T05:46:55.096253Z"
    }
   },
   "outputs": [],
   "source": [
    "def reshape(arr):\n",
    "\tarr = arr.reshape(arr.shape[0], -1)\n",
    "\tarr = np.expand_dims(arr, (1, 3))\n",
    "\treturn arr"
   ]
  },
  {
   "cell_type": "code",
   "execution_count": 21,
   "id": "ed938d3d-945b-44ed-acec-bb3df18d51f9",
   "metadata": {
    "execution": {
     "iopub.execute_input": "2025-09-23T05:46:55.101996Z",
     "iopub.status.busy": "2025-09-23T05:46:55.101676Z",
     "iopub.status.idle": "2025-09-23T05:47:02.577203Z",
     "shell.execute_reply": "2025-09-23T05:47:02.576262Z",
     "shell.execute_reply.started": "2025-09-23T05:46:55.101972Z"
    }
   },
   "outputs": [],
   "source": [
    "def get_jsd(arr1, arr2):\n",
    "\tarr1, arr2 = [reshape(arr) for arr in [arr1, arr2]]\n",
    "\tsum1, sum2 = [np.sum(arr, axis=(1,2,3)) for arr in [arr1, arr2]]\n",
    "\tmask = (sum1 != 0) & (sum2 != 0)\n",
    "\tarr1_filtered, arr2_filtered = [arr[mask] for arr in [arr1, arr2]]\n",
    "\n",
    "\tjsd = profile_jsd(arr1_filtered, arr2_filtered, \n",
    "\t\t\t\t\t\tprof_smooth_kernel_sigma=7, prof_smooth_kernel_width=81,\n",
    "\t\t\t\t\t\tsmooth_true_profs=False).flatten().tolist()\n",
    "\treturn jsd"
   ]
  },
  {
   "cell_type": "code",
   "execution_count": 22,
   "id": "d682cf64-ccf5-4e5d-a66c-2fb0f4d4750e",
   "metadata": {
    "execution": {
     "iopub.execute_input": "2025-09-23T05:47:02.578596Z",
     "iopub.status.busy": "2025-09-23T05:47:02.578211Z",
     "iopub.status.idle": "2025-09-23T05:50:26.070153Z",
     "shell.execute_reply": "2025-09-23T05:50:26.068729Z",
     "shell.execute_reply.started": "2025-09-23T05:47:02.578570Z"
    }
   },
   "outputs": [],
   "source": [
    "jsd = {\"Biological replicates\": get_jsd(obs_profs2[f\"{s}a\"], obs_profs2[f\"{s}b\"]),\n",
    "\t   \"Predicted vs. Observed\": get_jsd(pred_profs_all, obs_profs_all),\n",
    "\t   \"Average observed\\nvs. Observed\": get_jsd(avg_obs_profs, obs_profs_all)\n",
    "\t  }"
   ]
  },
  {
   "cell_type": "code",
   "execution_count": 23,
   "id": "98bde7c9-6e28-4506-8572-fe5c4228bfdf",
   "metadata": {
    "execution": {
     "iopub.execute_input": "2025-09-23T05:50:26.071934Z",
     "iopub.status.busy": "2025-09-23T05:50:26.071482Z",
     "iopub.status.idle": "2025-09-23T05:50:26.281794Z",
     "shell.execute_reply": "2025-09-23T05:50:26.281097Z",
     "shell.execute_reply.started": "2025-09-23T05:50:26.071906Z"
    }
   },
   "outputs": [
    {
     "data": {
      "text/html": [
       "<div>\n",
       "<style scoped>\n",
       "    .dataframe tbody tr th:only-of-type {\n",
       "        vertical-align: middle;\n",
       "    }\n",
       "\n",
       "    .dataframe tbody tr th {\n",
       "        vertical-align: top;\n",
       "    }\n",
       "\n",
       "    .dataframe thead th {\n",
       "        text-align: right;\n",
       "    }\n",
       "</style>\n",
       "<table border=\"1\" class=\"dataframe\">\n",
       "  <thead>\n",
       "    <tr style=\"text-align: right;\">\n",
       "      <th></th>\n",
       "      <th>group</th>\n",
       "      <th>jsd</th>\n",
       "    </tr>\n",
       "  </thead>\n",
       "  <tbody>\n",
       "    <tr>\n",
       "      <th>0</th>\n",
       "      <td>Biological replicates</td>\n",
       "      <td>0.279709</td>\n",
       "    </tr>\n",
       "    <tr>\n",
       "      <th>1</th>\n",
       "      <td>Biological replicates</td>\n",
       "      <td>0.092792</td>\n",
       "    </tr>\n",
       "  </tbody>\n",
       "</table>\n",
       "</div>"
      ],
      "text/plain": [
       "                   group       jsd\n",
       "0  Biological replicates  0.279709\n",
       "1  Biological replicates  0.092792"
      ]
     },
     "execution_count": 23,
     "metadata": {},
     "output_type": "execute_result"
    }
   ],
   "source": [
    "df_jsd = pd.DataFrame([{\"group\": k, \"jsd\": v}\n",
    "\t\t\t\t    for k, values in jsd.items()\n",
    "\t\t\t\t    for v in values\n",
    "\t\t\t\t])\n",
    "df_jsd.head(2)"
   ]
  },
  {
   "cell_type": "code",
   "execution_count": 24,
   "id": "5481e1bc-7ec1-4040-b30b-f4f7117797e3",
   "metadata": {
    "execution": {
     "iopub.execute_input": "2025-09-23T05:50:26.283033Z",
     "iopub.status.busy": "2025-09-23T05:50:26.282723Z",
     "iopub.status.idle": "2025-09-23T05:50:27.801832Z",
     "shell.execute_reply": "2025-09-23T05:50:27.800528Z",
     "shell.execute_reply.started": "2025-09-23T05:50:26.283004Z"
    }
   },
   "outputs": [
    {
     "data": {
      "image/png": "[encoded data removed]",
      "text/plain": [
       "<Figure size 340x280 with 1 Axes>"
      ]
     },
     "metadata": {},
     "output_type": "display_data"
    }
   ],
   "source": [
    "fig, ax = plt.subplots(figsize=(3.4, 2.8))\n",
    "g = sns.histplot(data=df_jsd, x=\"jsd\", hue=\"group\", bins=35, alpha=0.5,\n",
    "\t\t\tpalette=[\"#b3de69\", \"#fb8072\", \"#969696\"], ax=ax\n",
    "\t\t\t)\n",
    "g.spines[[\"top\", \"right\"]].set_visible(False)\n",
    "sns.move_legend(ax, loc=\"upper left\", fontsize=sfontsize, frameon=False, title=\"\")\n",
    "g.set_title(\"ProCapNet (profile task)\", fontsize=bfontsize)\n",
    "g.set_xlabel(\"Jenson-Shannon distance\", fontsize=bfontsize)\n",
    "g.set_ylabel(\"No. peaks\", fontsize=bfontsize)\n",
    "g.tick_params(labelsize=sfontsize)\n",
    "plt.savefig(f\"{PROJECT_DIR_o}figures/ExtDataFig2c.pdf\", bbox_inches=\"tight\", transparent=True)"
   ]
  },
  {
   "cell_type": "markdown",
   "id": "20281ca0-ae04-4675-8112-e8b0a30c692a",
   "metadata": {},
   "source": [
    "# Contribution scores"
   ]
  },
  {
   "cell_type": "code",
   "execution_count": 27,
   "id": "7d11a064-6d20-4609-98e8-4165b80d54e6",
   "metadata": {
    "execution": {
     "iopub.execute_input": "2025-09-23T02:46:52.401534Z",
     "iopub.status.busy": "2025-09-23T02:46:52.401061Z",
     "iopub.status.idle": "2025-09-23T02:46:52.406273Z",
     "shell.execute_reply": "2025-09-23T02:46:52.405603Z",
     "shell.execute_reply.started": "2025-09-23T02:46:52.401504Z"
    },
    "scrolled": true
   },
   "outputs": [
    {
     "name": "stdout",
     "output_type": "stream",
     "text": [
      "sbatch /fs/cbsuhy02/storage/yc2553/yc2553/projects/3.Human_atlas/procapnet/slurm/deepshap.sh SC5 strand_merged_umap /home/yc2553/projects/HEA/output/procapnet/ 1 2025-03-14_23-40-51\n",
      "sbatch /fs/cbsuhy02/storage/yc2553/yc2553/projects/3.Human_atlas/procapnet/slurm/deepshap.sh SC5 strand_merged_umap /home/yc2553/projects/HEA/output/procapnet/ 2 2025-03-14_23-40-51\n",
      "sbatch /fs/cbsuhy02/storage/yc2553/yc2553/projects/3.Human_atlas/procapnet/slurm/deepshap.sh SC5 strand_merged_umap /home/yc2553/projects/HEA/output/procapnet/ 3 2025-03-13_13-25-41\n",
      "sbatch /fs/cbsuhy02/storage/yc2553/yc2553/projects/3.Human_atlas/procapnet/slurm/deepshap.sh SC5 strand_merged_umap /home/yc2553/projects/HEA/output/procapnet/ 4 2025-03-13_13-25-54\n",
      "sbatch /fs/cbsuhy02/storage/yc2553/yc2553/projects/3.Human_atlas/procapnet/slurm/deepshap.sh SC5 strand_merged_umap /home/yc2553/projects/HEA/output/procapnet/ 5 2025-03-13_13-26-23\n",
      "sbatch /fs/cbsuhy02/storage/yc2553/yc2553/projects/3.Human_atlas/procapnet/slurm/deepshap.sh SC5 strand_merged_umap /home/yc2553/projects/HEA/output/procapnet/ 6 2025-03-13_13-26-29\n",
      "sbatch /fs/cbsuhy02/storage/yc2553/yc2553/projects/3.Human_atlas/procapnet/slurm/deepshap.sh SC5 strand_merged_umap /home/yc2553/projects/HEA/output/procapnet/ 7 2025-03-13_13-26-44\n"
     ]
    }
   ],
   "source": [
    "# Indiviual models\n",
    "# Only do this for SC5\n",
    "\n",
    "script = f\"{PROJECT_DIR_s}slurm/deepshap.sh\"\n",
    "for k in timestamps:\n",
    "\tfold, timestamp = k.split(\".\")\n",
    "\tcommands = \" \".join([\"sbatch \" + script,\n",
    "\t\t\t\t\t\ts,\n",
    "\t\t\t\t\t\tmodel_type,\n",
    "\t\t\t\t\t\tf\"{PROJECT_DIR_o}procapnet/\",\n",
    "\t\t\t\t\t\tfold,\n",
    "\t\t\t\t\t\ttimestamp\n",
    "\t\t\t\t\t\t])\n",
    "\tprint(commands)"
   ]
  },
  {
   "cell_type": "code",
   "execution_count": 30,
   "id": "0325711e-c442-4c42-8b59-1d2b2056d37c",
   "metadata": {
    "execution": {
     "iopub.execute_input": "2025-09-23T02:47:23.844994Z",
     "iopub.status.busy": "2025-09-23T02:47:23.844530Z",
     "iopub.status.idle": "2025-09-23T02:47:23.849279Z",
     "shell.execute_reply": "2025-09-23T02:47:23.848646Z",
     "shell.execute_reply.started": "2025-09-23T02:47:23.844968Z"
    }
   },
   "outputs": [
    {
     "name": "stdout",
     "output_type": "stream",
     "text": [
      "sbatch /fs/cbsuhy02/storage/yc2553/yc2553/projects/3.Human_atlas/procapnet/slurm/deepshap_ensembl.sh SC5 strand_merged_umap /home/yc2553/projects/HEA/output/procapnet/ 1.2025-03-14_23-40-51,2.2025-03-14_23-40-51,3.2025-03-13_13-25-41,4.2025-03-13_13-25-54,5.2025-03-13_13-26-23,6.2025-03-13_13-26-29,7.2025-03-13_13-26-44\n"
     ]
    }
   ],
   "source": [
    "# Merge deepshap files: average values\n",
    "\n",
    "script = f\"{PROJECT_DIR_s}slurm/deepshap_ensembl.sh\"\n",
    "commands = \" \".join([\"sbatch \" + script,\n",
    "\t\t\t\t\ts,\n",
    "\t\t\t\t\tmodel_type,\n",
    "\t\t\t\t\tf\"{PROJECT_DIR_o}procapnet/\",\n",
    "\t\t\t\t\t\",\".join(timestamps),\n",
    "\t\t\t\t\t])\n",
    "print(commands)"
   ]
  },
  {
   "cell_type": "markdown",
   "id": "7009777c-b7cb-4581-8d92-ebce2c02ac5e",
   "metadata": {},
   "source": [
    "# TF-Modisco"
   ]
  },
  {
   "cell_type": "code",
   "execution_count": 29,
   "id": "c87008bb-6e6e-49bf-8881-ed2825249073",
   "metadata": {
    "execution": {
     "iopub.execute_input": "2025-09-23T02:47:19.282514Z",
     "iopub.status.busy": "2025-09-23T02:47:19.282057Z",
     "iopub.status.idle": "2025-09-23T02:47:19.709598Z",
     "shell.execute_reply": "2025-09-23T02:47:19.708898Z",
     "shell.execute_reply.started": "2025-09-23T02:47:19.282484Z"
    }
   },
   "outputs": [],
   "source": [
    "tasks = [\"counts\", \"profile\"]"
   ]
  },
  {
   "cell_type": "code",
   "execution_count": 32,
   "id": "4a461ffd-44d2-4d74-8150-c4b8d46ee364",
   "metadata": {
    "execution": {
     "iopub.execute_input": "2025-09-23T02:47:36.000851Z",
     "iopub.status.busy": "2025-09-23T02:47:36.000378Z",
     "iopub.status.idle": "2025-09-23T02:47:36.005366Z",
     "shell.execute_reply": "2025-09-23T02:47:36.004736Z",
     "shell.execute_reply.started": "2025-09-23T02:47:36.000824Z"
    }
   },
   "outputs": [
    {
     "name": "stdout",
     "output_type": "stream",
     "text": [
      "sbatch /fs/cbsuhy02/storage/yc2553/yc2553/projects/3.Human_atlas/procapnet/slurm/modisco.sh SC5 strand_merged_umap counts /home/yc2553/projects/HEA/output/procapnet/\n",
      "sbatch /fs/cbsuhy02/storage/yc2553/yc2553/projects/3.Human_atlas/procapnet/slurm/modisco.sh SC5 strand_merged_umap profile /home/yc2553/projects/HEA/output/procapnet/\n"
     ]
    }
   ],
   "source": [
    "script = f\"{PROJECT_DIR_s}slurm/modisco.sh\"\n",
    "for task in tasks:\n",
    "\t# Remember to remove the old file; otherwise it's not able to rewrite them\n",
    "\t# outputfile = f\"{PROJECT_DIR_o}procapnet/modisco_out/{s}/{model_type}/merged/{s}_{task}_modisco_results.hd5\"\n",
    "\t# if exists(outputfile):\n",
    "\t# \tsubprocess.run(\"rm \" + outputfile, shell=True)\n",
    "\tcommands = [\"sbatch\", script,\n",
    "\t\t\t\ts,\n",
    "\t\t\t\tmodel_type,\n",
    "\t\t\t\ttask,\n",
    "\t\t\t\tf\"{PROJECT_DIR_o}procapnet/\"\n",
    "\t\t\t\t]\n",
    "\tprint(\" \".join(commands))"
   ]
  },
  {
   "cell_type": "code",
   "execution_count": 35,
   "id": "b9072be4-f834-40ab-8a41-462643b2bb91",
   "metadata": {
    "execution": {
     "iopub.execute_input": "2025-09-23T02:48:47.303944Z",
     "iopub.status.busy": "2025-09-23T02:48:47.303474Z",
     "iopub.status.idle": "2025-09-23T02:49:04.977040Z",
     "shell.execute_reply": "2025-09-23T02:49:04.976365Z",
     "shell.execute_reply.started": "2025-09-23T02:48:47.303915Z"
    }
   },
   "outputs": [
    {
     "name": "stdout",
     "output_type": "stream",
     "text": [
      "modisco report -i /home/yc2553/projects/HEA/output/procapnet/modisco_out/SC5/strand_merged_umap/merged/counts_modisco_results.hd5 -o /home/yc2553/projects/HEA/output/procapnet/modisco_out/SC5/strand_merged_umap/merged/counts/ -s /home/yc2553/projects/HEA/output/procapnet/modisco_out/SC5/strand_merged_umap/merged/counts/ -m /fs/cbsuhy02/storage/yc2553/yc2553/projects/TRE_directionality/resources/other/JASPAR/JASPAR2024_CORE_vertebrates_non-redundant_pfms_meme.txt\n",
      "modisco report -i /home/yc2553/projects/HEA/output/procapnet/modisco_out/SC5/strand_merged_umap/merged/profile_modisco_results.hd5 -o /home/yc2553/projects/HEA/output/procapnet/modisco_out/SC5/strand_merged_umap/merged/profile/ -s /home/yc2553/projects/HEA/output/procapnet/modisco_out/SC5/strand_merged_umap/merged/profile/ -m /fs/cbsuhy02/storage/yc2553/yc2553/projects/TRE_directionality/resources/other/JASPAR/JASPAR2024_CORE_vertebrates_non-redundant_pfms_meme.txt\n"
     ]
    }
   ],
   "source": [
    "# This command will take the results from the tfmodisco-lite run, as well as a reference database of motifs to compare the extracted patterns to, and generate a HTML report. Each pattern that is extracted by tfmodisco-lite is compared against the database of motifs using TOMTOM to match them with prior knowledge.\n",
    "\n",
    "motif_file = f\"{PROJECT_DIR_r}other/JASPAR/JASPAR2024_CORE_vertebrates_non-redundant_pfms_meme.txt\"\n",
    "for task in tasks:\n",
    "\tinputfile = f\"{PROJECT_DIR_o}procapnet/modisco_out/{s}/strand_merged_umap/merged/{task}_modisco_results.hd5\"\n",
    "\toutdir = f\"{PROJECT_DIR_o}procapnet/modisco_out/{s}/strand_merged_umap/merged/{task}/\"\n",
    "\tif not exists(outdir):\n",
    "\t\tos.mkdir(outdir)\n",
    "\tcommands = [\"modisco report\",\n",
    "\t\t\t\t\"-i\", inputfile,\n",
    "\t\t\t\t\"-o\", outdir,\n",
    "\t\t\t\t\"-s\", outdir,\n",
    "\t\t\t\t\"-m\", motif_file\n",
    "\t\t\t\t]\n",
    "\tprint(\" \".join(commands))"
   ]
  },
  {
   "cell_type": "code",
   "execution_count": null,
   "id": "18c720a8-4b2f-4e08-9a04-17a6f9cd6ed5",
   "metadata": {},
   "outputs": [],
   "source": []
  }
 ],
 "metadata": {
  "kernelspec": {
   "display_name": "Python 3 (ipykernel)",
   "language": "python",
   "name": "python3"
  },
  "language_info": {
   "codemirror_mode": {
    "name": "ipython",
    "version": 3
   },
   "file_extension": ".py",
   "mimetype": "text/x-python",
   "name": "python",
   "nbconvert_exporter": "python",
   "pygments_lexer": "ipython3",
   "version": "3.10.8"
  }
 },
 "nbformat": 4,
 "nbformat_minor": 5
}
