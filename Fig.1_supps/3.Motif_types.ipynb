{
 "cells": [
  {
   "cell_type": "code",
   "execution_count": 2,
   "id": "81707ec2-03a1-4a61-97b7-f56e1cb51060",
   "metadata": {
    "editable": true,
    "execution": {
     "iopub.execute_input": "2025-09-22T00:43:00.901218Z",
     "iopub.status.busy": "2025-09-22T00:43:00.900774Z",
     "iopub.status.idle": "2025-09-22T00:43:00.904991Z",
     "shell.execute_reply": "2025-09-22T00:43:00.904405Z",
     "shell.execute_reply.started": "2025-09-22T00:43:00.901190Z"
    },
    "slideshow": {
     "slide_type": ""
    },
    "tags": []
   },
   "outputs": [],
   "source": [
    "import matplotlib\n",
    "import matplotlib.pyplot as plt\n",
    "import pandas as pd\n",
    "from collections import defaultdict\n",
    "from biodatatools.utils.common import json_dump\n",
    "from biodata.delimited import DelimitedReader\n",
    "from os.path import exists\n",
    "import os\n",
    "from bs4 import BeautifulSoup\n",
    "import matplotlib.image as mpimg"
   ]
  },
  {
   "cell_type": "code",
   "execution_count": 4,
   "id": "4a2e84f8-a8d7-469d-b3b5-9fde82b4f04c",
   "metadata": {
    "execution": {
     "iopub.execute_input": "2025-09-22T00:46:04.401834Z",
     "iopub.status.busy": "2025-09-22T00:46:04.401307Z",
     "iopub.status.idle": "2025-09-22T00:46:04.405517Z",
     "shell.execute_reply": "2025-09-22T00:46:04.404792Z",
     "shell.execute_reply.started": "2025-09-22T00:46:04.401805Z"
    },
    "tags": []
   },
   "outputs": [],
   "source": [
    "PROJECT_DIR_o = \"/home/yc2553/projects/HEA/output/\"\n",
    "PROJECT_DIR_o2 = \"/fs/cbsuhy02/storage/yc2553/yc2553/projects/3.Human_atlas/output/\"\n",
    "PROJECT_DIR_r = \"/fs/cbsuhy02/storage/yc2553/yc2553/projects/TRE_directionality/resources/\""
   ]
  },
  {
   "cell_type": "markdown",
   "id": "142c5f23-f601-4bac-9b4b-46661fcfe1be",
   "metadata": {},
   "source": [
    "# Get motifs"
   ]
  },
  {
   "cell_type": "code",
   "execution_count": 7,
   "id": "95d2b2cc-8696-4f18-a35a-c975552e7a28",
   "metadata": {
    "execution": {
     "iopub.execute_input": "2025-09-22T00:47:13.746063Z",
     "iopub.status.busy": "2025-09-22T00:47:13.745625Z",
     "iopub.status.idle": "2025-09-22T00:47:13.749890Z",
     "shell.execute_reply": "2025-09-22T00:47:13.749117Z",
     "shell.execute_reply.started": "2025-09-22T00:47:13.746035Z"
    }
   },
   "outputs": [],
   "source": [
    "model_type = \"strand_merged_umap\"\n",
    "task = \"counts\"\n",
    "s = \"SC5\"\n",
    "outdirs = {\"procapnet\": f\"{PROJECT_DIR_o}procapnet/modisco_out/{s}/{model_type}/merged/{task}/\",\n",
    "\t\t   \"chrombpnet\": f\"{PROJECT_DIR_o2}chrombpnet/paper/tfmodisco/counts.GSE267154/\"\n",
    "\t\t  }"
   ]
  },
  {
   "cell_type": "code",
   "execution_count": null,
   "id": "eef42dbc-d157-4d7f-a0a9-8ae28bfc9fff",
   "metadata": {},
   "outputs": [],
   "source": [
    "# ATAC-seq ChromBPNet model (model ID: syn59449898; EXP ID: GSE267154)\n",
    "# https://www.synapse.org/Synapse:syn59449898/wiki/628018\n",
    "# GSE267154_H1ESC_ATAC_ChomBPNet: https://www.synapse.org/Synapse:syn63862944\n",
    "# sequence_motifs.GSE267154.tar.gz: https://www.synapse.org/Synapse:syn63862603"
   ]
  },
  {
   "cell_type": "code",
   "execution_count": 11,
   "id": "f5d0d385-7bef-4383-82f5-03727af8a971",
   "metadata": {
    "execution": {
     "iopub.execute_input": "2025-09-22T00:48:23.979063Z",
     "iopub.status.busy": "2025-09-22T00:48:23.978607Z",
     "iopub.status.idle": "2025-09-22T00:48:24.013715Z",
     "shell.execute_reply": "2025-09-22T00:48:24.012924Z",
     "shell.execute_reply.started": "2025-09-22T00:48:23.979031Z"
    }
   },
   "outputs": [
    {
     "name": "stdout",
     "output_type": "stream",
     "text": [
      "modisco report -i /fs/cbsuhy02/storage/yc2553/yc2553/projects/3.Human_atlas/output/chrombpnet/paper/tfmodisco/tfmodisco.raw_output.counts.GSE267154.hd5 -o /fs/cbsuhy02/storage/yc2553/yc2553/projects/3.Human_atlas/output/chrombpnet/paper/tfmodisco/counts.GSE267154/ -s /fs/cbsuhy02/storage/yc2553/yc2553/projects/3.Human_atlas/output/chrombpnet/paper/tfmodisco/counts.GSE267154/ -m /fs/cbsuhy02/storage/yc2553/yc2553/projects/TRE_directionality/resources/other/JASPAR/JASPAR2024_CORE_vertebrates_non-redundant_pfms_meme.txt\n"
     ]
    }
   ],
   "source": [
    "# This command will take the results from the tfmodisco-lite run, as well as a reference database of motifs to compare the extracted patterns to, and generate a HTML report. Each pattern that is extracted by tfmodisco-lite is compared against the database of motifs using TOMTOM to match them with prior knowledge.\n",
    "\n",
    "motif_file = f\"{PROJECT_DIR_r}other/JASPAR/JASPAR2024_CORE_vertebrates_non-redundant_pfms_meme.txt\"\n",
    "k = \"chrombpnet\"\n",
    "inputfile = f\"{PROJECT_DIR_o2}chrombpnet/paper/tfmodisco/tfmodisco.raw_output.counts.GSE267154.hd5\"\n",
    "if not exists(outdirs[k]):\n",
    "\tos.mkdir(outdirs[k])\n",
    "commands = [\"modisco report\",\n",
    "\t\t\t\"-i\", inputfile,\n",
    "\t\t\t\"-o\", outdirs[k],\n",
    "\t\t\t\"-s\", outdirs[k],\n",
    "\t\t\t\"-m\", motif_file\n",
    "\t\t\t]\n",
    "print(\" \".join(commands))"
   ]
  },
  {
   "cell_type": "code",
   "execution_count": 12,
   "id": "bb853a20-df06-4564-9f8d-72fb85896897",
   "metadata": {
    "execution": {
     "iopub.execute_input": "2025-09-22T00:48:24.736650Z",
     "iopub.status.busy": "2025-09-22T00:48:24.736223Z",
     "iopub.status.idle": "2025-09-22T00:48:24.757116Z",
     "shell.execute_reply": "2025-09-22T00:48:24.756234Z",
     "shell.execute_reply.started": "2025-09-22T00:48:24.736621Z"
    }
   },
   "outputs": [],
   "source": [
    "# Get the motif name\n",
    "\n",
    "names = {}\n",
    "with DelimitedReader(motif_file) as dr:\n",
    "\tfor cols in dr:\n",
    "\t\tif \"MOTIF\" in cols[0]:\n",
    "\t\t\tid, name = cols[0].split(\" \")[1:]\n",
    "\t\t\tnames[id] = name"
   ]
  },
  {
   "cell_type": "code",
   "execution_count": 13,
   "id": "93185bf7-7779-4271-8af9-f37d06be79d0",
   "metadata": {
    "execution": {
     "iopub.execute_input": "2025-09-22T00:48:26.172950Z",
     "iopub.status.busy": "2025-09-22T00:48:26.172524Z",
     "iopub.status.idle": "2025-09-22T00:48:26.178335Z",
     "shell.execute_reply": "2025-09-22T00:48:26.177565Z",
     "shell.execute_reply.started": "2025-09-22T00:48:26.172920Z"
    },
    "scrolled": true
   },
   "outputs": [],
   "source": [
    "def get_html_table(html):\n",
    "\twith open(html, 'r', encoding='utf-8') as file:\n",
    "\t    html_content = file.read()\n",
    "\tsoup = BeautifulSoup(html_content, 'html.parser')\n",
    "\ttable = soup.find('table')\n",
    "\ttable_rows = table.find_all('tr')\n",
    "\theaders = []\n",
    "\tfor th in table_rows[0].find_all('th'):\n",
    "\t    headers.append(th.text.strip())\n",
    "\tdata = []\n",
    "\tfor tr in table_rows[1:]:\n",
    "\t    row = []\n",
    "\t    for td in tr.find_all('td'):\n",
    "\t        row.append(td.text.strip())\n",
    "\t    data.append(row)\n",
    "\tdf = pd.DataFrame(data, columns=headers)\n",
    "\treturn df"
   ]
  },
  {
   "cell_type": "code",
   "execution_count": 14,
   "id": "eaa189fb-57d7-4528-9b55-66a6c8e1b67a",
   "metadata": {
    "execution": {
     "iopub.execute_input": "2025-09-22T00:49:45.265541Z",
     "iopub.status.busy": "2025-09-22T00:49:45.265118Z",
     "iopub.status.idle": "2025-09-22T00:49:45.496049Z",
     "shell.execute_reply": "2025-09-22T00:49:45.495159Z",
     "shell.execute_reply.started": "2025-09-22T00:49:45.265514Z"
    }
   },
   "outputs": [],
   "source": [
    "dfs = {\"procapnet\": get_html_table(f\"{PROJECT_DIR_o}procapnet/modisco_out/{s}/{model_type}/merged/{task}/motifs.html\"),\n",
    "\t   \"chrombpnet\": get_html_table(f\"{PROJECT_DIR_o2}chrombpnet/paper/tfmodisco/counts.GSE267154/motifs.html\")\n",
    "\t  }"
   ]
  },
  {
   "cell_type": "code",
   "execution_count": 28,
   "id": "278ade99-8a68-477a-979d-fb1906adb258",
   "metadata": {
    "execution": {
     "iopub.execute_input": "2025-09-22T00:59:36.792507Z",
     "iopub.status.busy": "2025-09-22T00:59:36.792007Z",
     "iopub.status.idle": "2025-09-22T00:59:36.799255Z",
     "shell.execute_reply": "2025-09-22T00:59:36.798608Z",
     "shell.execute_reply.started": "2025-09-22T00:59:36.792477Z"
    },
    "scrolled": true
   },
   "outputs": [],
   "source": [
    "def show_patterns(df, outdir, cutoff):\n",
    "\tfor index, row in df.iterrows():\n",
    "\t\tmatches = [f\"match{n}\" for n in range(3) if (row[\"match\"+str(n)] != \"NaN\" and float(row[\"qval\"+str(n)]) < cutoff)]\n",
    "\t\tnrows = len(matches) + 2\n",
    "\t\tfig, ax = plt.subplots(nrows, 1, figsize=(3, nrows), dpi=300)\n",
    "\t\t\n",
    "\t\tfor n in range(nrows):\n",
    "\t\t\tif n == 0:\n",
    "\t\t\t\ttitle = f\"{row['pattern']}.fwd  (n={row['num_seqlets']})\"\n",
    "\t\t\t\timage = f\"{outdir}trimmed_logos/{row['pattern']}.cwm.fwd.png\"\n",
    "\t\t\telif n == 1:\n",
    "\t\t\t\ttitle = f\"{row['pattern']}.rev  (n={row['num_seqlets']})\"\n",
    "\t\t\t\timage = f\"{outdir}trimmed_logos/{row['pattern']}.cwm.rev.png\"\n",
    "\t\t\telse:\n",
    "\t\t\t\tind = row[matches[n-2]]\n",
    "\t\t\t\ttitle = f\"{names[ind]} ({ind})\"\n",
    "\t\t\t\timage = f\"{outdir}{ind}.png\"\n",
    "\t\t\timg = mpimg.imread(image)\n",
    "\t\t\tax[n].imshow(img)\n",
    "\t\t\tax[n].axis('off') \n",
    "\t\t\tax[n].set_title(title, fontsize=8)\n",
    "\t\tplt.subplots_adjust(hspace=0.4)\n",
    "\t\tplt.show()"
   ]
  },
  {
   "cell_type": "markdown",
   "id": "ffb8bc08-698a-48c6-a43c-a14bb0b8333e",
   "metadata": {},
   "source": [
    "## ProCapNet vs. ChromBPNet"
   ]
  },
  {
   "cell_type": "code",
   "execution_count": 4,
   "id": "42a51cba-6fe9-494d-b703-d3a750dc4615",
   "metadata": {
    "execution": {
     "iopub.execute_input": "2025-09-23T22:27:01.828035Z",
     "iopub.status.busy": "2025-09-23T22:27:01.827590Z",
     "iopub.status.idle": "2025-09-23T22:27:01.831252Z",
     "shell.execute_reply": "2025-09-23T22:27:01.830482Z",
     "shell.execute_reply.started": "2025-09-23T22:27:01.828006Z"
    },
    "scrolled": true
   },
   "outputs": [],
   "source": [
    "k = \"procapnet\"\n",
    "show_patterns(dfs[k], outdirs[k], 0.1)"
   ]
  },
  {
   "cell_type": "code",
   "execution_count": 31,
   "id": "6d3d2f36-4d1c-42e8-b2f4-4d7ebad01de9",
   "metadata": {
    "execution": {
     "iopub.execute_input": "2025-09-22T01:00:39.448223Z",
     "iopub.status.busy": "2025-09-22T01:00:39.447129Z",
     "iopub.status.idle": "2025-09-22T01:00:39.453456Z",
     "shell.execute_reply": "2025-09-22T01:00:39.452507Z",
     "shell.execute_reply.started": "2025-09-22T01:00:39.448175Z"
    }
   },
   "outputs": [],
   "source": [
    "motifs = {}\n",
    "motifs[\"procapnet\"] = {\"SP\": 0,\n",
    "\t\t\t\t\t   \"ETS\": 1,\n",
    "\t\t\t\t\t   \"NFY\": 2,\n",
    "\t\t\t\t\t   \"YY1\": 3,\n",
    "\t\t\t\t\t   \"CREB\": 4,\n",
    "\t\t\t\t\t   \"SOX4\": 6,\n",
    "\t\t\t\t\t   \"POU5F1-SOX2\": 7,\n",
    "\t\t\t\t\t   \"NRF1\": 8,\n",
    "\t\t\t\t\t   \"AP1\": 9,\n",
    "\t\t\t\t\t   \"THAP11-ZNF143\": 11,\t\t\t\t\t   \n",
    "\t\t\t\t\t   \"ZBTB33\": 17,\n",
    "\t\t\t\t\t   \"TEAD\": 19,\n",
    "\t\t\t\t\t   \"SRF\": 20,\n",
    "\t\t\t\t\t   \"TATA\": 51\n",
    "\t\t\t\t\t   }"
   ]
  },
  {
   "cell_type": "code",
   "execution_count": 5,
   "id": "b9072be4-f834-40ab-8a41-462643b2bb91",
   "metadata": {
    "execution": {
     "iopub.execute_input": "2025-09-23T22:27:08.722435Z",
     "iopub.status.busy": "2025-09-23T22:27:08.722001Z",
     "iopub.status.idle": "2025-09-23T22:27:08.725345Z",
     "shell.execute_reply": "2025-09-23T22:27:08.724775Z",
     "shell.execute_reply.started": "2025-09-23T22:27:08.722409Z"
    },
    "scrolled": true
   },
   "outputs": [],
   "source": [
    "k = \"chrombpnet\"\n",
    "show_patterns(dfs[k], outdirs[k], 0.1)"
   ]
  },
  {
   "cell_type": "code",
   "execution_count": 32,
   "id": "7f6dafc9-1c7f-4a35-9ced-52816357f140",
   "metadata": {
    "execution": {
     "iopub.execute_input": "2025-09-22T01:00:41.539409Z",
     "iopub.status.busy": "2025-09-22T01:00:41.538822Z",
     "iopub.status.idle": "2025-09-22T01:00:41.544959Z",
     "shell.execute_reply": "2025-09-22T01:00:41.544032Z",
     "shell.execute_reply.started": "2025-09-22T01:00:41.539362Z"
    }
   },
   "outputs": [],
   "source": [
    "motifs[\"chrombpnet\"] = {\"CTCF\": 0,\n",
    "\t\t\t\t\t  \"POU5F1-SOX2\": 1,\n",
    "\t\t\t\t\t  \"ZIC\": 2,\n",
    "\t\t\t\t\t  \"SP\": 3,\n",
    "\t\t\t\t\t  \"TEAD\": 5,\n",
    "\t\t\t\t\t  \"SOX\": 6,\n",
    "\t\t\t\t\t  \"NFY\": 7,\n",
    "\t\t\t\t\t  \"RFX5\": 8,\n",
    "\t\t\t\t\t  \"SIX\": 9,\n",
    "\t\t\t\t\t  \"THAP11-ZNF143\": 11,\n",
    "\t\t\t\t\t  \"AP1\": 12,\n",
    "\t\t\t\t\t  \"NRF1\": 13,\n",
    "\t\t\t\t\t  \"RFX4\": 14,\n",
    "\t\t\t\t\t  \"REST\": 15,\n",
    "\t\t\t\t\t  \"ETS\": 18,\n",
    "\t\t\t\t\t  \"CREB\": 20\n",
    "\t\t\t\t\t }"
   ]
  },
  {
   "cell_type": "code",
   "execution_count": 35,
   "id": "489f26f3-703a-4c94-922c-2c84db7f8e9b",
   "metadata": {
    "execution": {
     "iopub.execute_input": "2025-09-22T01:01:19.817396Z",
     "iopub.status.busy": "2025-09-22T01:01:19.816928Z",
     "iopub.status.idle": "2025-09-22T01:01:19.820919Z",
     "shell.execute_reply": "2025-09-22T01:01:19.820116Z",
     "shell.execute_reply.started": "2025-09-22T01:01:19.817364Z"
    }
   },
   "outputs": [],
   "source": [
    "json_dump(f\"{PROJECT_DIR_o}procapnet/modisco_out/ESC_motifs.json\", motifs)"
   ]
  },
  {
   "cell_type": "code",
   "execution_count": null,
   "id": "ee3d92e9-4ae0-4c14-9008-a4f4bff5c57e",
   "metadata": {},
   "outputs": [],
   "source": []
  }
 ],
 "metadata": {
  "kernelspec": {
   "display_name": "Python 3 (ipykernel)",
   "language": "python",
   "name": "python3"
  },
  "language_info": {
   "codemirror_mode": {
    "name": "ipython",
    "version": 3
   },
   "file_extension": ".py",
   "mimetype": "text/x-python",
   "name": "python",
   "nbconvert_exporter": "python",
   "pygments_lexer": "ipython3",
   "version": "3.10.8"
  }
 },
 "nbformat": 4,
 "nbformat_minor": 5
}
