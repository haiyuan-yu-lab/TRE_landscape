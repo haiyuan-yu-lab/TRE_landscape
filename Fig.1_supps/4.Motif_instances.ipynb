{
 "cells": [
  {
   "cell_type": "code",
   "execution_count": 1,
   "id": "81707ec2-03a1-4a61-97b7-f56e1cb51060",
   "metadata": {
    "editable": true,
    "execution": {
     "iopub.execute_input": "2025-09-24T15:11:19.761523Z",
     "iopub.status.busy": "2025-09-24T15:11:19.761230Z",
     "iopub.status.idle": "2025-09-24T15:11:21.076110Z",
     "shell.execute_reply": "2025-09-24T15:11:21.075227Z",
     "shell.execute_reply.started": "2025-09-24T15:11:19.761497Z"
    },
    "slideshow": {
     "slide_type": ""
    },
    "tags": []
   },
   "outputs": [],
   "source": [
    "import pybedtools\n",
    "import pandas as pd\n",
    "from collections import defaultdict, Counter\n",
    "import glob\n",
    "from biodata.delimited import DelimitedWriter\n",
    "import numpy as np\n",
    "import sys\n",
    "import h5py\n",
    "import hdf5plugin\n",
    "from biodatatools.utils.common import json_load\n",
    "from pathlib import Path"
   ]
  },
  {
   "cell_type": "code",
   "execution_count": 2,
   "id": "467b28fc-1df1-4d41-bf9b-5e62d3082a03",
   "metadata": {
    "execution": {
     "iopub.execute_input": "2025-09-24T15:11:21.077483Z",
     "iopub.status.busy": "2025-09-24T15:11:21.077006Z",
     "iopub.status.idle": "2025-09-24T15:11:21.124990Z",
     "shell.execute_reply": "2025-09-24T15:11:21.124376Z",
     "shell.execute_reply.started": "2025-09-24T15:11:21.077454Z"
    }
   },
   "outputs": [],
   "source": [
    "sys.path.append(str(Path.cwd().parent))\n",
    "import utils"
   ]
  },
  {
   "cell_type": "code",
   "execution_count": 3,
   "id": "4a2e84f8-a8d7-469d-b3b5-9fde82b4f04c",
   "metadata": {
    "execution": {
     "iopub.execute_input": "2025-09-24T15:11:21.128157Z",
     "iopub.status.busy": "2025-09-24T15:11:21.127821Z",
     "iopub.status.idle": "2025-09-24T15:11:22.438231Z",
     "shell.execute_reply": "2025-09-24T15:11:22.437313Z",
     "shell.execute_reply.started": "2025-09-24T15:11:21.128132Z"
    },
    "tags": []
   },
   "outputs": [],
   "source": [
    "PROJECT_DIR_s = \"/fs/cbsuhy02/storage/yc2553/yc2553/projects/3.Human_atlas/procapnet/\"\n",
    "PROJECT_DIR_d = \"/fs/cbsuhy02/storage/yc2553/yc2553/databases/\"\n",
    "PROJECT_DIR_o = \"/home/yc2553/projects/HEA/output/\""
   ]
  },
  {
   "cell_type": "code",
   "execution_count": 4,
   "id": "2077791c-1a12-4836-8561-18f5e4f9a9aa",
   "metadata": {
    "execution": {
     "iopub.execute_input": "2025-09-24T15:11:22.439692Z",
     "iopub.status.busy": "2025-09-24T15:11:22.439250Z",
     "iopub.status.idle": "2025-09-24T15:11:26.605011Z",
     "shell.execute_reply": "2025-09-24T15:11:26.604021Z",
     "shell.execute_reply.started": "2025-09-24T15:11:22.439647Z"
    },
    "scrolled": true
   },
   "outputs": [],
   "source": [
    "sys.path.append(f\"{PROJECT_DIR_s}2_train_models/\")\n",
    "from data_loading import extract_sequences"
   ]
  },
  {
   "cell_type": "code",
   "execution_count": null,
   "id": "c7edfe01-d4b0-40d9-9201-77e883236402",
   "metadata": {},
   "outputs": [],
   "source": [
    "### ExtDataFig.2d\n",
    "## Goal: identify fraction of PRO-cap peaks with motifs contributing to transcritpion and fraction of ATAC-seq peaks with motifs contributing to accessibility. Here, motif instances attributed to a given motif were those Fi-NeMo instances mapped to the original TF-MoDISco patterns identified by the corresponding model. For motifs lacking an original TF-MoDISco pattern in one model, the Fi-NeMo instances mapped to the CWMs from the other model were used. This approach ensured that motif instances were assigned based on the exact motif patterns learned by each model whenever available, while allowing for matches to motifs not detected by TF-MoDISco in one model but present in the other.\n",
    "\n",
    "## Transcription\n",
    "# Regions of interest: PRO-cap peaks\n",
    "# Contribution scores: ProCapNet model\n",
    "# Motif CWM: both ProCapNet (prioritized) and ChromBPNet models\n",
    "\n",
    "## Accessibility\n",
    "# Regions of interest: ATAC-seq peaks; further divided into those with and without transcription\n",
    "# Contribution scores: ChromBPNet model\n",
    "# Motif CWM: both ProCapNet and ChromBPNet (prioritized) models"
   ]
  },
  {
   "cell_type": "code",
   "execution_count": null,
   "id": "170b2995-a646-49d2-931f-170c0586ce75",
   "metadata": {},
   "outputs": [],
   "source": [
    "### ExtDataFig.2e\n",
    "## Goal: pairwise comparison of contribution scores to transcritpion and accessibility at the same motif instances\n",
    "\n",
    "## Transcription\n",
    "# Regions of interest: PRO-cap peaks\n",
    "# Contribution scores: ProCapNet model\n",
    "# Motif CWM: both ProCapNet (prioritized) and ChromBPNet models\n",
    "\n",
    "## Accessibility\n",
    "# Regions of interest: PRO-cap peaks (same input regions as transcription)\n",
    "# Contribution scores: ChromBPNet model (recalculate the scores using the new input regions; different from the above analysis)\n",
    "# Motif CWM: both ProCapNet and ChromBPNet (prioritized) models\n",
    "\n",
    "# We compare the contribution scores from each model at individual motif instances; for the same motif type, we merge the motif boundary between motif calls from this two groups"
   ]
  },
  {
   "cell_type": "markdown",
   "id": "2004bfc9-fa5d-4d68-bda4-8c92cf89fb58",
   "metadata": {},
   "source": [
    "# ProCapNet (PRO-cap peaks)"
   ]
  },
  {
   "cell_type": "code",
   "execution_count": null,
   "id": "dbc8e783-3dd4-493a-8890-d8d1b7c5bccc",
   "metadata": {},
   "outputs": [],
   "source": [
    "# https://github.com/austintwang/finemo_gpu/issues/35"
   ]
  },
  {
   "cell_type": "markdown",
   "id": "05dbbef5-e184-47e1-a817-a1bcaa64eb06",
   "metadata": {},
   "source": [
    "## Data preparation"
   ]
  },
  {
   "cell_type": "code",
   "execution_count": 5,
   "id": "ab7399d9-72ba-49b8-9cae-b4109ac01c71",
   "metadata": {
    "execution": {
     "iopub.execute_input": "2025-09-24T03:21:26.432816Z",
     "iopub.status.busy": "2025-09-24T03:21:26.432282Z",
     "iopub.status.idle": "2025-09-24T03:21:27.488122Z",
     "shell.execute_reply": "2025-09-24T03:21:27.487289Z",
     "shell.execute_reply.started": "2025-09-24T03:21:26.432786Z"
    },
    "scrolled": true
   },
   "outputs": [],
   "source": [
    "# For file format requirement by FiNeMo: peak region coordinates in uncompressed ENCODE NarrowPeak format\n",
    "# ENCODE narrowPeak: https://genome.ucsc.edu/FAQ/FAQformat.html#format12\n",
    "# NARROWPEAK_SCHEMA = [\"chr\", \"peak_start\", \"peak_end\", \"peak_name\", \"peak_score\", \n",
    "#                      \"peak_strand\", \"peak_signal\", \"peak_pval\", \"peak_qval\", \"peak_summit\"]\n",
    "\n",
    "s = \"SC5\"\n",
    "inputfile = f\"{PROJECT_DIR_o}procapnet/processed/{s}/peaks.bed.gz\"\n",
    "b1 = pybedtools.BedTool(inputfile)\n",
    "outputfile = f\"{PROJECT_DIR_o}procapnet/finemo/{s}/input.bed\"\n",
    "with DelimitedWriter(outputfile) as dw:\n",
    "\tfor i in b1:\n",
    "\t\tchrom, start, end = i.fields\n",
    "\t\t# centered on the midpoint\n",
    "\t\tcenter = (int(end)-int(start))//2\n",
    "\t\tdw.write([chrom, start, end, \"_\".join([chrom, start, end])] + [\".\"]*5 + [center])"
   ]
  },
  {
   "cell_type": "code",
   "execution_count": 6,
   "id": "141ed29c-2c1e-417e-b36f-4ddc5e409cc4",
   "metadata": {
    "execution": {
     "iopub.execute_input": "2025-09-24T03:21:27.489814Z",
     "iopub.status.busy": "2025-09-24T03:21:27.489412Z",
     "iopub.status.idle": "2025-09-24T03:21:28.451273Z",
     "shell.execute_reply": "2025-09-24T03:21:28.450258Z",
     "shell.execute_reply.started": "2025-09-24T03:21:27.489789Z"
    }
   },
   "outputs": [
    {
     "name": "stdout",
     "output_type": "stream",
     "text": [
      "chr1\t181449\t181482\tchr1_181449_181482\t.\t.\t.\t.\t.\t16\n",
      "chr1\t629905\t629950\tchr1_629905_629950\t.\t.\t.\t.\t.\t22\n"
     ]
    }
   ],
   "source": [
    "! head $outputfile -n 2"
   ]
  },
  {
   "cell_type": "code",
   "execution_count": 7,
   "id": "f3477270-14db-4db0-979c-e8219f40149a",
   "metadata": {
    "execution": {
     "iopub.execute_input": "2025-09-24T03:22:06.026936Z",
     "iopub.status.busy": "2025-09-24T03:22:06.026321Z",
     "iopub.status.idle": "2025-09-24T03:24:46.411877Z",
     "shell.execute_reply": "2025-09-24T03:24:46.410712Z",
     "shell.execute_reply.started": "2025-09-24T03:22:06.026902Z"
    }
   },
   "outputs": [
    {
     "name": "stdout",
     "output_type": "stream",
     "text": [
      "Loading genome sequence from /fs/cbsuhy02/storage/yc2553/yc2553/projects/3.Human_atlas/procapnet/genomes/hg38/hg38.withrDNA.fasta\n",
      "== In Extract Sequences ==\n",
      "Peak filepath: /home/yc2553/projects/HEA/output/procapnet/finemo/SC5/input.bed\n",
      "Sequence length: 2114\n",
      "Num. Examples: 76899\n"
     ]
    }
   ],
   "source": [
    "# Get one hot sequences\n",
    "\n",
    "one_hot = extract_sequences(f\"{PROJECT_DIR_s}genomes/hg38/hg38.withrDNA.fasta\", \n",
    "\t\t\t\t\t\t\tf\"{PROJECT_DIR_s}genomes/hg38/hg38.withrDNA.chrom.sizes\", \n",
    "\t\t\t\t\t\t\tf\"{PROJECT_DIR_o}procapnet/finemo/{s}/input.bed\"\n",
    "\t\t\t\t\t\t\t)"
   ]
  },
  {
   "cell_type": "code",
   "execution_count": 8,
   "id": "d4a72172-49ae-4daf-82f8-a04ff393cd54",
   "metadata": {
    "execution": {
     "iopub.execute_input": "2025-09-24T03:24:46.414090Z",
     "iopub.status.busy": "2025-09-24T03:24:46.413579Z",
     "iopub.status.idle": "2025-09-24T03:26:11.690656Z",
     "shell.execute_reply": "2025-09-24T03:26:11.689355Z",
     "shell.execute_reply.started": "2025-09-24T03:24:46.414061Z"
    }
   },
   "outputs": [],
   "source": [
    "outputfile = f\"{PROJECT_DIR_o}procapnet/finemo/{s}/PROcap_onehot.npz\"\n",
    "np.savez_compressed(outputfile, one_hot)"
   ]
  },
  {
   "cell_type": "markdown",
   "id": "2825684f-4cbb-419b-bdc6-079b18956b5e",
   "metadata": {},
   "source": [
    "## Preprocessing"
   ]
  },
  {
   "cell_type": "code",
   "execution_count": null,
   "id": "60ad3069-1402-4381-b275-9b6d8cb3b9ae",
   "metadata": {},
   "outputs": [],
   "source": [
    "# Identify motif instances using FiNeMo\n",
    "# https://github.com/austintwang/finemo_gpu"
   ]
  },
  {
   "cell_type": "code",
   "execution_count": 6,
   "id": "4ceb48af-a4ac-4fc1-9677-5029f1278227",
   "metadata": {
    "execution": {
     "iopub.execute_input": "2025-09-24T15:11:38.949510Z",
     "iopub.status.busy": "2025-09-24T15:11:38.949078Z",
     "iopub.status.idle": "2025-09-24T15:11:52.622793Z",
     "shell.execute_reply": "2025-09-24T15:11:52.622169Z",
     "shell.execute_reply.started": "2025-09-24T15:11:38.949483Z"
    }
   },
   "outputs": [
    {
     "name": "stdout",
     "output_type": "stream",
     "text": [
      "finemo extract-regions-modisco-fmt -s /home/yc2553/projects/HEA/output/procapnet/finemo/SC5/PROcap_onehot.npz -a /home/yc2553/projects/HEA/output/procapnet/deepshap_out/SC5/strand_merged_umap/merged/all_counts_deepshap.npy -o /home/yc2553/projects/HEA/output/procapnet/finemo/SC5/procapnet_scores/counts -w 1000\n"
     ]
    }
   ],
   "source": [
    "# Run this in \"finemo\" conda environment\n",
    "\n",
    "model_type = \"strand_merged_umap\"\n",
    "utils.finemo_preprocessing(f\"{PROJECT_DIR_o}procapnet/finemo/{s}/PROcap_onehot.npz\", \n",
    "\t\t\t  f\"{PROJECT_DIR_o}procapnet/deepshap_out/{s}/{model_type}/merged/all_counts_deepshap.npy\", \n",
    "\t\t\t  f\"{PROJECT_DIR_o}procapnet/finemo/{s}/procapnet_scores/counts\"\n",
    "\t\t\t  )"
   ]
  },
  {
   "cell_type": "code",
   "execution_count": 11,
   "id": "4450330c-5f7d-420d-ab8e-1d750e47681c",
   "metadata": {
    "execution": {
     "iopub.execute_input": "2025-09-24T03:27:50.292595Z",
     "iopub.status.busy": "2025-09-24T03:27:50.292153Z",
     "iopub.status.idle": "2025-09-24T03:27:55.601143Z",
     "shell.execute_reply": "2025-09-24T03:27:55.600548Z",
     "shell.execute_reply.started": "2025-09-24T03:27:50.292569Z"
    }
   },
   "outputs": [
    {
     "data": {
      "text/plain": [
       "((76899, 4, 1000), (76899, 4, 1000))"
      ]
     },
     "execution_count": 11,
     "metadata": {},
     "output_type": "execute_result"
    }
   ],
   "source": [
    "# Check the output\n",
    "\n",
    "data = np.load(f\"{PROJECT_DIR_o}procapnet/finemo/{s}/procapnet_scores/counts.npz\")\n",
    "data['sequences'].shape, data['contributions'].shape"
   ]
  },
  {
   "cell_type": "markdown",
   "id": "949baec6-e593-44ad-a7e3-d6616df391b3",
   "metadata": {},
   "source": [
    "## Call hits"
   ]
  },
  {
   "cell_type": "code",
   "execution_count": 8,
   "id": "11d24cc0-185b-4770-a4bc-ef93e6c940bd",
   "metadata": {
    "execution": {
     "iopub.execute_input": "2025-09-24T15:13:03.965302Z",
     "iopub.status.busy": "2025-09-24T15:13:03.964786Z",
     "iopub.status.idle": "2025-09-24T15:13:03.968558Z",
     "shell.execute_reply": "2025-09-24T15:13:03.967971Z",
     "shell.execute_reply.started": "2025-09-24T15:13:03.965274Z"
    }
   },
   "outputs": [],
   "source": [
    "modisco = {\"procapnet\": f\"{PROJECT_DIR_o}procapnet/modisco_out/{s}/{model_type}/merged/counts_modisco_results.hd5\",\n",
    "\t\t   \"chrombpnet\": f\"{PROJECT_DIR_d}papers/39829783/tfmodisco.raw_output.counts.GSE267154.hd5\"\n",
    "\t\t  }"
   ]
  },
  {
   "cell_type": "code",
   "execution_count": 9,
   "id": "cd89cbae-fe65-48ec-bb20-190ab77633de",
   "metadata": {
    "execution": {
     "iopub.execute_input": "2025-09-24T15:13:04.472955Z",
     "iopub.status.busy": "2025-09-24T15:13:04.472509Z",
     "iopub.status.idle": "2025-09-24T15:13:04.756229Z",
     "shell.execute_reply": "2025-09-24T15:13:04.755623Z",
     "shell.execute_reply.started": "2025-09-24T15:13:04.472926Z"
    }
   },
   "outputs": [
    {
     "name": "stdout",
     "output_type": "stream",
     "text": [
      "finemo call-hits -r /home/yc2553/projects/HEA/output/procapnet/finemo/SC5/procapnet_scores/counts.npz -m /home/yc2553/projects/HEA/output/procapnet/modisco_out/SC5/strand_merged_umap/merged/counts_modisco_results.hd5 -o /home/yc2553/projects/HEA/output/procapnet/finemo/SC5/procapnet_scores/procapnet_motifs/ -p /home/yc2553/projects/HEA/output/procapnet/finemo/SC5/input.bed -a 0.7 -J\n",
      "finemo call-hits -r /home/yc2553/projects/HEA/output/procapnet/finemo/SC5/procapnet_scores/counts.npz -m /fs/cbsuhy02/storage/yc2553/yc2553/databases/papers/39829783/tfmodisco.raw_output.counts.GSE267154.hd5 -o /home/yc2553/projects/HEA/output/procapnet/finemo/SC5/procapnet_scores/chrombpnet_motifs/ -p /home/yc2553/projects/HEA/output/procapnet/finemo/SC5/input.bed -a 0.7 -J\n"
     ]
    }
   ],
   "source": [
    "for k in modisco:\n",
    "\tutils.finemo_call_hits(f\"{PROJECT_DIR_o}procapnet/finemo/{s}/procapnet_scores/counts.npz\", \n",
    "\t\t\t  modisco[k], \n",
    "\t\t\t  f\"{PROJECT_DIR_o}procapnet/finemo/{s}/procapnet_scores/{k}_motifs/\",\n",
    "\t\t\t  f\"{PROJECT_DIR_o}procapnet/finemo/{s}/input.bed\"\n",
    "\t\t\t )"
   ]
  },
  {
   "cell_type": "code",
   "execution_count": null,
   "id": "a7f0a425-492f-435d-98fd-6aca45af36ba",
   "metadata": {},
   "outputs": [],
   "source": [
    "# hits.tsv: may list multiple instances of a hit, each linked to a different peak.\n",
    "# chr: Chromosome name. NA if peak coordinates (-p/--peaks) are not provided.\n",
    "# start: Hit start coordinate from trimmed CWM, zero-indexed. Absolute if peak coordinates are provided, otherwise relative to the input region.\n",
    "# end: Hit end coordinate from trimmed CWM, zero-indexed, exclusive. Absolute if peak coordinates are provided, otherwise relative to the input region.\n",
    "# start_untrimmed: Hit start coordinate from trimmed CWM, zero-indexed. Absolute if peak coordinates are provided, otherwise relative to the input region.\n",
    "# end_untrimmed: Hit end coordinate from trimmed CWM, zero-indexed,exclusive. Absolute if peak coordinates are provided, otherwise relative to the input region.\n",
    "# motif_name: The hit motif name as specified in the provided tfmodisco H5 file.\n",
    "# hit_coefficient: The regression coefficient for the hit, normalized per peak region.\n",
    "# hit_coefficient_global: The regression coefficient for the hit, scaled by the overall importance of the region. This is the primary hit score.\n",
    "# hit_correlation: The correlation between the untrimmed CWM and the contribution score of the motif hit.\n",
    "# hit_importance: The total absolute contribution score within the motif hit.\n",
    "# strand: The orientation of the hit (+ or -).\n",
    "# peak_name: The name of the peak region containing the hit, taken from the name field of the input peak data. NA if -p/--peaks is not provided.\n",
    "# peak_id: The numerical index of the peak region containing the hit."
   ]
  },
  {
   "cell_type": "code",
   "execution_count": 18,
   "id": "f97b1e50-1242-4169-b7b4-fec91cc4af75",
   "metadata": {
    "execution": {
     "iopub.execute_input": "2025-09-24T16:17:54.908722Z",
     "iopub.status.busy": "2025-09-24T16:17:54.908243Z",
     "iopub.status.idle": "2025-09-24T16:18:13.222613Z",
     "shell.execute_reply": "2025-09-24T16:18:13.221549Z",
     "shell.execute_reply.started": "2025-09-24T16:17:54.908692Z"
    }
   },
   "outputs": [
    {
     "data": {
      "text/html": [
       "<div>\n",
       "<style scoped>\n",
       "    .dataframe tbody tr th:only-of-type {\n",
       "        vertical-align: middle;\n",
       "    }\n",
       "\n",
       "    .dataframe tbody tr th {\n",
       "        vertical-align: top;\n",
       "    }\n",
       "\n",
       "    .dataframe thead th {\n",
       "        text-align: right;\n",
       "    }\n",
       "</style>\n",
       "<table border=\"1\" class=\"dataframe\">\n",
       "  <thead>\n",
       "    <tr style=\"text-align: right;\">\n",
       "      <th></th>\n",
       "      <th>chr</th>\n",
       "      <th>start</th>\n",
       "      <th>end</th>\n",
       "      <th>start_untrimmed</th>\n",
       "      <th>end_untrimmed</th>\n",
       "      <th>motif_name</th>\n",
       "      <th>hit_coefficient</th>\n",
       "      <th>hit_coefficient_global</th>\n",
       "      <th>hit_correlation</th>\n",
       "      <th>hit_importance</th>\n",
       "      <th>strand</th>\n",
       "      <th>peak_name</th>\n",
       "      <th>peak_id</th>\n",
       "    </tr>\n",
       "  </thead>\n",
       "  <tbody>\n",
       "    <tr>\n",
       "      <th>0</th>\n",
       "      <td>chr1</td>\n",
       "      <td>181096</td>\n",
       "      <td>181106</td>\n",
       "      <td>181087</td>\n",
       "      <td>181117</td>\n",
       "      <td>pos_patterns.pattern_0</td>\n",
       "      <td>0.014527</td>\n",
       "      <td>9.459502e-08</td>\n",
       "      <td>0.797305</td>\n",
       "      <td>0.017479</td>\n",
       "      <td>-</td>\n",
       "      <td>chr1_181449_181482</td>\n",
       "      <td>0</td>\n",
       "    </tr>\n",
       "    <tr>\n",
       "      <th>1</th>\n",
       "      <td>chr1</td>\n",
       "      <td>181096</td>\n",
       "      <td>181103</td>\n",
       "      <td>181088</td>\n",
       "      <td>181118</td>\n",
       "      <td>pos_patterns.pattern_5</td>\n",
       "      <td>0.859720</td>\n",
       "      <td>5.598366e-06</td>\n",
       "      <td>0.826864</td>\n",
       "      <td>0.014757</td>\n",
       "      <td>+</td>\n",
       "      <td>chr1_181449_181482</td>\n",
       "      <td>0</td>\n",
       "    </tr>\n",
       "  </tbody>\n",
       "</table>\n",
       "</div>"
      ],
      "text/plain": [
       "    chr   start     end  start_untrimmed  end_untrimmed  \\\n",
       "0  chr1  181096  181106           181087         181117   \n",
       "1  chr1  181096  181103           181088         181118   \n",
       "\n",
       "               motif_name  hit_coefficient  hit_coefficient_global  \\\n",
       "0  pos_patterns.pattern_0         0.014527            9.459502e-08   \n",
       "1  pos_patterns.pattern_5         0.859720            5.598366e-06   \n",
       "\n",
       "   hit_correlation  hit_importance strand           peak_name  peak_id  \n",
       "0         0.797305        0.017479      -  chr1_181449_181482        0  \n",
       "1         0.826864        0.014757      +  chr1_181449_181482        0  "
      ]
     },
     "execution_count": 18,
     "metadata": {},
     "output_type": "execute_result"
    }
   ],
   "source": [
    "# Check the output\n",
    "\n",
    "df_hits = {}\n",
    "df_hits[\"procapnet\"] = pd.read_table(f\"{PROJECT_DIR_o}procapnet/finemo/{s}/procapnet_scores/procapnet_motifs/hits.tsv\")\n",
    "df_hits[\"procapnet\"].head(2)"
   ]
  },
  {
   "cell_type": "code",
   "execution_count": 19,
   "id": "b1c4646b-10c8-45ca-a79e-7ea4ab8dce66",
   "metadata": {
    "execution": {
     "iopub.execute_input": "2025-09-24T16:18:13.224688Z",
     "iopub.status.busy": "2025-09-24T16:18:13.224281Z",
     "iopub.status.idle": "2025-09-24T16:18:24.820628Z",
     "shell.execute_reply": "2025-09-24T16:18:24.819501Z",
     "shell.execute_reply.started": "2025-09-24T16:18:13.224657Z"
    }
   },
   "outputs": [],
   "source": [
    "df_hits[\"chrombpnet\"] = pd.read_table(f\"{PROJECT_DIR_o}procapnet/finemo/{s}/procapnet_scores/chrombpnet_motifs/hits.tsv\")"
   ]
  },
  {
   "cell_type": "code",
   "execution_count": 14,
   "id": "8c37d776-4d4f-4b1e-812b-18c7f610bd0f",
   "metadata": {
    "execution": {
     "iopub.execute_input": "2025-09-24T16:16:14.531251Z",
     "iopub.status.busy": "2025-09-24T16:16:14.530411Z",
     "iopub.status.idle": "2025-09-24T16:16:14.642449Z",
     "shell.execute_reply": "2025-09-24T16:16:14.641800Z",
     "shell.execute_reply.started": "2025-09-24T16:16:14.531199Z"
    }
   },
   "outputs": [],
   "source": [
    "motifs = json_load(f\"{PROJECT_DIR_o}procapnet/modisco_out/ESC_motifs.json\")\n",
    "mapping = defaultdict(dict)\n",
    "for k in motifs:\n",
    "\tfor motif in motifs[k]:\n",
    "\t\tpattern = f\"pos_patterns.pattern_{motifs[k][motif]}\"\n",
    "\t\tmapping[k][pattern] = motif"
   ]
  },
  {
   "cell_type": "code",
   "execution_count": 16,
   "id": "5feb88da-43f3-4a71-8e71-c4bad455c6bb",
   "metadata": {
    "execution": {
     "iopub.execute_input": "2025-09-24T16:17:49.109676Z",
     "iopub.status.busy": "2025-09-24T16:17:49.109179Z",
     "iopub.status.idle": "2025-09-24T16:17:49.114850Z",
     "shell.execute_reply": "2025-09-24T16:17:49.114237Z",
     "shell.execute_reply.started": "2025-09-24T16:17:49.109648Z"
    }
   },
   "outputs": [],
   "source": [
    "def merge_hits(dfs, prioritize, outputfile):\n",
    "\tdfs_filtered = {}\n",
    "\tfor k in dfs:\n",
    "\t\tdfs[k][\"motif\"] = dfs[k][\"motif_name\"].map(mapping[k])\n",
    "\t\tdfs_filtered[k] = dfs[k].dropna(subset=[\"motif\"])\n",
    "\n",
    "\tother = \"chrombpnet\" if prioritize == \"procapnet\" else \"procapnet\"\n",
    "\tdf_other = dfs_filtered[other][~dfs_filtered[other][\"motif\"].isin(dfs_filtered[prioritize][\"motif\"])]\n",
    "\n",
    "\tdf_combined = pd.concat([dfs_filtered[prioritize], df_other], ignore_index=True)\n",
    "\tdf_combined.to_csv(outputfile, sep=\"\\t\", index=False)"
   ]
  },
  {
   "cell_type": "code",
   "execution_count": 20,
   "id": "761b0816-361c-485a-9ac8-ef4e16bee7d8",
   "metadata": {
    "execution": {
     "iopub.execute_input": "2025-09-24T16:18:24.822132Z",
     "iopub.status.busy": "2025-09-24T16:18:24.821744Z",
     "iopub.status.idle": "2025-09-24T16:18:33.767927Z",
     "shell.execute_reply": "2025-09-24T16:18:33.766988Z",
     "shell.execute_reply.started": "2025-09-24T16:18:24.822103Z"
    }
   },
   "outputs": [],
   "source": [
    "# Merge motif hits\n",
    "# Keep all motif types in procapnet; add those only found in chrombpnet\n",
    "\n",
    "outputfile = f\"{PROJECT_DIR_o}procapnet/finemo/{s}/procapnet_scores/merged_hits.tsv\"\n",
    "merge_hits(df_hits, \"procapnet\", outputfile)"
   ]
  },
  {
   "cell_type": "markdown",
   "id": "41e92f5d-6957-453a-b8a9-3103bad02317",
   "metadata": {},
   "source": [
    "# ChromBPNet (ATAC-seq peaks)"
   ]
  },
  {
   "cell_type": "markdown",
   "id": "bff56199-3e12-4b4e-ac71-7fe5b13d3b1b",
   "metadata": {},
   "source": [
    "## Data preparation"
   ]
  },
  {
   "cell_type": "code",
   "execution_count": 38,
   "id": "03e23df9-fa8b-44a4-a36a-ee6cde2fe255",
   "metadata": {
    "execution": {
     "iopub.execute_input": "2025-09-24T03:59:12.768115Z",
     "iopub.status.busy": "2025-09-24T03:59:12.767659Z",
     "iopub.status.idle": "2025-09-24T04:00:04.209342Z",
     "shell.execute_reply": "2025-09-24T04:00:04.208081Z",
     "shell.execute_reply.started": "2025-09-24T03:59:12.768087Z"
    },
    "scrolled": true
   },
   "outputs": [],
   "source": [
    "# To be consistent with the file format for \"finemo extract-regions-modisco-fmt\"\n",
    "# seq_contrib.counts.fold_mean.GSE267154.tar.gz: https://www.synapse.org/Synapse:syn63862717\n",
    "\n",
    "inputfile = f\"{PROJECT_DIR_d}papers/39829783/seq_contrib.counts.fold_mean.modisco_input.GSE267154.h5\"\n",
    "with h5py.File(inputfile, \"r\", libver=\"latest\") as data:\n",
    "\tone_hot = np.array(data[\"raw\"][\"seq\"])\n",
    "\thypo_shap = np.array(data[\"shap\"][\"seq\"])"
   ]
  },
  {
   "cell_type": "code",
   "execution_count": 39,
   "id": "dcad2b71-eac6-48af-a7f1-7cb927cc38fe",
   "metadata": {
    "execution": {
     "iopub.execute_input": "2025-09-24T04:00:04.211653Z",
     "iopub.status.busy": "2025-09-24T04:00:04.211242Z",
     "iopub.status.idle": "2025-09-24T04:00:04.217346Z",
     "shell.execute_reply": "2025-09-24T04:00:04.216684Z",
     "shell.execute_reply.started": "2025-09-24T04:00:04.211625Z"
    }
   },
   "outputs": [
    {
     "data": {
      "text/plain": [
       "((236571, 4, 2114), (236571, 4, 2114))"
      ]
     },
     "execution_count": 39,
     "metadata": {},
     "output_type": "execute_result"
    }
   ],
   "source": [
    "one_hot.shape, hypo_shap.shape"
   ]
  },
  {
   "cell_type": "code",
   "execution_count": 40,
   "id": "d0281cb3-a07e-4bc6-9b2c-981a8ce2a83c",
   "metadata": {
    "execution": {
     "iopub.execute_input": "2025-09-24T04:00:04.218377Z",
     "iopub.status.busy": "2025-09-24T04:00:04.218077Z",
     "iopub.status.idle": "2025-09-24T04:00:04.221112Z",
     "shell.execute_reply": "2025-09-24T04:00:04.220486Z",
     "shell.execute_reply.started": "2025-09-24T04:00:04.218354Z"
    },
    "scrolled": true
   },
   "outputs": [],
   "source": [
    "outputfile = f\"{PROJECT_DIR_o}chrombpnet/finemo/seq_contrib.counts.fold_mean.modisco_input.GSE267154.onehot.npz\"\n",
    "np.savez_compressed(outputfile, one_hot)"
   ]
  },
  {
   "cell_type": "code",
   "execution_count": 41,
   "id": "a54accd1-00aa-4411-a302-f318e8849a0b",
   "metadata": {
    "execution": {
     "iopub.execute_input": "2025-09-24T04:00:04.222603Z",
     "iopub.status.busy": "2025-09-24T04:00:04.222320Z",
     "iopub.status.idle": "2025-09-24T04:00:04.225278Z",
     "shell.execute_reply": "2025-09-24T04:00:04.224653Z",
     "shell.execute_reply.started": "2025-09-24T04:00:04.222580Z"
    }
   },
   "outputs": [],
   "source": [
    "outputfile = f\"{PROJECT_DIR_o}chrombpnet/finemo/seq_contrib.counts.fold_mean.modisco_input.GSE267154.hypo.npz\"\n",
    "np.savez_compressed(outputfile, hypo_shap)"
   ]
  },
  {
   "cell_type": "code",
   "execution_count": 42,
   "id": "60235e05-de9f-4675-9967-7eeb90c53b7e",
   "metadata": {
    "execution": {
     "iopub.execute_input": "2025-09-24T04:00:04.226159Z",
     "iopub.status.busy": "2025-09-24T04:00:04.225960Z",
     "iopub.status.idle": "2025-09-24T04:00:04.823309Z",
     "shell.execute_reply": "2025-09-24T04:00:04.822507Z",
     "shell.execute_reply.started": "2025-09-24T04:00:04.226139Z"
    }
   },
   "outputs": [
    {
     "data": {
      "text/plain": [
       "(236571, 11)"
      ]
     },
     "execution_count": 42,
     "metadata": {},
     "output_type": "execute_result"
    }
   ],
   "source": [
    "# Input bed regions corresponding to contribution file modisco_input.encid.h5\n",
    "\n",
    "inputfile = f\"{PROJECT_DIR_d}papers/39829783/logs.seq_contrib.counts.input_regions.modisco.GSE267154.bed.gz\"\n",
    "df = pd.read_table(inputfile, header=None)\n",
    "df.shape"
   ]
  },
  {
   "cell_type": "code",
   "execution_count": 43,
   "id": "eb342039-84bf-4208-9291-c37cfd128754",
   "metadata": {
    "execution": {
     "iopub.execute_input": "2025-09-24T04:00:04.824449Z",
     "iopub.status.busy": "2025-09-24T04:00:04.824124Z",
     "iopub.status.idle": "2025-09-24T04:00:04.838663Z",
     "shell.execute_reply": "2025-09-24T04:00:04.837968Z",
     "shell.execute_reply.started": "2025-09-24T04:00:04.824425Z"
    }
   },
   "outputs": [
    {
     "data": {
      "text/html": [
       "<div>\n",
       "<style scoped>\n",
       "    .dataframe tbody tr th:only-of-type {\n",
       "        vertical-align: middle;\n",
       "    }\n",
       "\n",
       "    .dataframe tbody tr th {\n",
       "        vertical-align: top;\n",
       "    }\n",
       "\n",
       "    .dataframe thead th {\n",
       "        text-align: right;\n",
       "    }\n",
       "</style>\n",
       "<table border=\"1\" class=\"dataframe\">\n",
       "  <thead>\n",
       "    <tr style=\"text-align: right;\">\n",
       "      <th></th>\n",
       "      <th>0</th>\n",
       "      <th>1</th>\n",
       "      <th>2</th>\n",
       "      <th>3</th>\n",
       "      <th>4</th>\n",
       "      <th>5</th>\n",
       "      <th>6</th>\n",
       "      <th>7</th>\n",
       "      <th>8</th>\n",
       "      <th>9</th>\n",
       "      <th>10</th>\n",
       "    </tr>\n",
       "  </thead>\n",
       "  <tbody>\n",
       "    <tr>\n",
       "      <th>0</th>\n",
       "      <td>chr1</td>\n",
       "      <td>100028967</td>\n",
       "      <td>100029416</td>\n",
       "      <td>Peak_89756</td>\n",
       "      <td>321</td>\n",
       "      <td>.</td>\n",
       "      <td>6.35697</td>\n",
       "      <td>32.13467</td>\n",
       "      <td>29.88145</td>\n",
       "      <td>246</td>\n",
       "      <td>chr1_100028967_100029416_246</td>\n",
       "    </tr>\n",
       "    <tr>\n",
       "      <th>1</th>\n",
       "      <td>chr1</td>\n",
       "      <td>100034578</td>\n",
       "      <td>100034763</td>\n",
       "      <td>Peak_124401</td>\n",
       "      <td>209</td>\n",
       "      <td>.</td>\n",
       "      <td>3.06090</td>\n",
       "      <td>20.91069</td>\n",
       "      <td>18.81874</td>\n",
       "      <td>91</td>\n",
       "      <td>chr1_100034578_100034763_91</td>\n",
       "    </tr>\n",
       "  </tbody>\n",
       "</table>\n",
       "</div>"
      ],
      "text/plain": [
       "     0          1          2            3    4  5        6         7   \\\n",
       "0  chr1  100028967  100029416   Peak_89756  321  .  6.35697  32.13467   \n",
       "1  chr1  100034578  100034763  Peak_124401  209  .  3.06090  20.91069   \n",
       "\n",
       "         8    9                             10  \n",
       "0  29.88145  246  chr1_100028967_100029416_246  \n",
       "1  18.81874   91   chr1_100034578_100034763_91  "
      ]
     },
     "execution_count": 43,
     "metadata": {},
     "output_type": "execute_result"
    }
   ],
   "source": [
    "# This file has one additional column with peak boundary and subpeak summit to identify unique subpeaks\n",
    "# Subpeaks of the same peak have different input sequences (centered on peak summit) in their one-hot encoded sequence file\n",
    "\n",
    "df.head(2)"
   ]
  },
  {
   "cell_type": "code",
   "execution_count": 44,
   "id": "9945b410-fcba-4a9b-aad6-b987293f902b",
   "metadata": {
    "execution": {
     "iopub.execute_input": "2025-09-24T04:00:04.839943Z",
     "iopub.status.busy": "2025-09-24T04:00:04.839459Z",
     "iopub.status.idle": "2025-09-24T04:00:05.812703Z",
     "shell.execute_reply": "2025-09-24T04:00:05.811878Z",
     "shell.execute_reply.started": "2025-09-24T04:00:04.839915Z"
    }
   },
   "outputs": [],
   "source": [
    "# Drop the last column to match the required file format\n",
    "\n",
    "outputfile = f\"{PROJECT_DIR_o}chrombpnet/finemo/logs.seq_contrib.counts.input_regions.modisco.GSE267154.narrowPeak\"\n",
    "df[df.columns[:-1]].to_csv(outputfile, sep=\"\\t\", header=None, index=False)"
   ]
  },
  {
   "cell_type": "markdown",
   "id": "1311f9f0-1edc-4e5e-8721-165e66e509df",
   "metadata": {},
   "source": [
    "## Preprocessing"
   ]
  },
  {
   "cell_type": "code",
   "execution_count": 45,
   "id": "7d033209-476e-4713-a2d0-a76e5437fd4c",
   "metadata": {
    "execution": {
     "iopub.execute_input": "2025-09-24T04:00:06.218493Z",
     "iopub.status.busy": "2025-09-24T04:00:06.217994Z",
     "iopub.status.idle": "2025-09-24T04:00:06.222629Z",
     "shell.execute_reply": "2025-09-24T04:00:06.221922Z",
     "shell.execute_reply.started": "2025-09-24T04:00:06.218462Z"
    }
   },
   "outputs": [
    {
     "name": "stdout",
     "output_type": "stream",
     "text": [
      "finemo extract-regions-modisco-fmt -s /home/yc2553/projects/HEA/output/chrombpnet/finemo/seq_contrib.counts.fold_mean.modisco_input.GSE267154.onehot.npz -a /home/yc2553/projects/HEA/output/chrombpnet/finemo/seq_contrib.counts.fold_mean.modisco_input.GSE267154.hypo.npz -o /home/yc2553/projects/HEA/output/chrombpnet/finemo/counts.GSE267154 -w 1000\n"
     ]
    }
   ],
   "source": [
    "utils.finemo_preprocessing(f\"{PROJECT_DIR_o}chrombpnet/finemo/seq_contrib.counts.fold_mean.modisco_input.GSE267154.onehot.npz\", \n",
    "\t\t\t  f\"{PROJECT_DIR_o}chrombpnet/finemo/seq_contrib.counts.fold_mean.modisco_input.GSE267154.hypo.npz\", \n",
    "\t\t\t  f\"{PROJECT_DIR_o}chrombpnet/finemo/counts.GSE267154\"\n",
    "\t\t\t  )"
   ]
  },
  {
   "cell_type": "code",
   "execution_count": 46,
   "id": "40946b0c-e9d0-4672-a00c-f15ac5650cff",
   "metadata": {
    "execution": {
     "iopub.execute_input": "2025-09-24T04:00:06.813663Z",
     "iopub.status.busy": "2025-09-24T04:00:06.813162Z",
     "iopub.status.idle": "2025-09-24T04:00:34.418668Z",
     "shell.execute_reply": "2025-09-24T04:00:34.417814Z",
     "shell.execute_reply.started": "2025-09-24T04:00:06.813635Z"
    }
   },
   "outputs": [
    {
     "data": {
      "text/plain": [
       "((236571, 4, 1000), (236571, 4, 1000))"
      ]
     },
     "execution_count": 46,
     "metadata": {},
     "output_type": "execute_result"
    }
   ],
   "source": [
    "# Check the output\n",
    "\n",
    "data = np.load(f\"{PROJECT_DIR_o}chrombpnet/finemo/counts.GSE267154.npz\")\n",
    "data['sequences'].shape, data['contributions'].shape"
   ]
  },
  {
   "cell_type": "markdown",
   "id": "83614f8d-7c35-4c16-ab09-a2964cbcb1b6",
   "metadata": {},
   "source": [
    "## Call hits"
   ]
  },
  {
   "cell_type": "code",
   "execution_count": 11,
   "id": "e1ab69cb-fcba-428c-aa3b-7ea8ae83ca3b",
   "metadata": {
    "execution": {
     "iopub.execute_input": "2025-09-24T15:13:37.342182Z",
     "iopub.status.busy": "2025-09-24T15:13:37.341665Z",
     "iopub.status.idle": "2025-09-24T15:13:37.348430Z",
     "shell.execute_reply": "2025-09-24T15:13:37.347841Z",
     "shell.execute_reply.started": "2025-09-24T15:13:37.342153Z"
    }
   },
   "outputs": [
    {
     "name": "stdout",
     "output_type": "stream",
     "text": [
      "finemo call-hits -r /home/yc2553/projects/HEA/output/chrombpnet/finemo/counts.GSE267154.npz -m /home/yc2553/projects/HEA/output/procapnet/modisco_out/SC5/strand_merged_umap/merged/counts_modisco_results.hd5 -o /home/yc2553/projects/HEA/output/chrombpnet/finemo/procapnet_motifs/ -p /home/yc2553/projects/HEA/output/chrombpnet/finemo/logs.seq_contrib.counts.input_regions.modisco.GSE267154.narrowPeak -a 0.7 -J\n",
      "finemo call-hits -r /home/yc2553/projects/HEA/output/chrombpnet/finemo/counts.GSE267154.npz -m /fs/cbsuhy02/storage/yc2553/yc2553/databases/papers/39829783/tfmodisco.raw_output.counts.GSE267154.hd5 -o /home/yc2553/projects/HEA/output/chrombpnet/finemo/chrombpnet_motifs/ -p /home/yc2553/projects/HEA/output/chrombpnet/finemo/logs.seq_contrib.counts.input_regions.modisco.GSE267154.narrowPeak -a 0.7 -J\n"
     ]
    }
   ],
   "source": [
    "for k in modisco:\n",
    "\tutils.finemo_call_hits(f\"{PROJECT_DIR_o}chrombpnet/finemo/counts.GSE267154.npz\", \n",
    "\t\t\t  modisco[k], \n",
    "\t\t\t  f\"{PROJECT_DIR_o}chrombpnet/finemo/{k}_motifs/\",\n",
    "\t\t\t  f\"{PROJECT_DIR_o}chrombpnet/finemo/logs.seq_contrib.counts.input_regions.modisco.GSE267154.narrowPeak\"\n",
    "\t\t\t )"
   ]
  },
  {
   "cell_type": "code",
   "execution_count": 21,
   "id": "1a7a5078-e1cf-4c93-b1dc-4d4acbd47c07",
   "metadata": {
    "execution": {
     "iopub.execute_input": "2025-09-24T16:23:16.654857Z",
     "iopub.status.busy": "2025-09-24T16:23:16.654419Z",
     "iopub.status.idle": "2025-09-24T16:24:16.863052Z",
     "shell.execute_reply": "2025-09-24T16:24:16.861855Z",
     "shell.execute_reply.started": "2025-09-24T16:23:16.654828Z"
    },
    "scrolled": true
   },
   "outputs": [],
   "source": [
    "df_hits = {}\n",
    "for k in modisco:\n",
    "\tdf_hits[k] = pd.read_table(f\"{PROJECT_DIR_o}chrombpnet/finemo/{k}_motifs/hits.tsv\")\n",
    "outputfile = f\"{PROJECT_DIR_o}chrombpnet/finemo/merged_hits.tsv\"\n",
    "merge_hits(df_hits, \"chrombpnet\", outputfile)"
   ]
  },
  {
   "cell_type": "markdown",
   "id": "c7cd0efd-f6cc-4336-90e9-325c9071e3a3",
   "metadata": {},
   "source": [
    "# ChromBPNet (PRO-cap peaks)"
   ]
  },
  {
   "cell_type": "markdown",
   "id": "b6f30d36-f7f6-4db4-9648-1917a809f41e",
   "metadata": {},
   "source": [
    "## Data preparation"
   ]
  },
  {
   "cell_type": "code",
   "execution_count": null,
   "id": "5a27609b-bbb8-4905-a7d4-3875e1b18310",
   "metadata": {},
   "outputs": [],
   "source": [
    "# Get contribution scores from ChromBPNet using the same input region from ProCapNet\n",
    "# https://github.com/kundajelab/chrombpnet/wiki/Generate-contribution-score-bigwigs\n",
    "# It's recommnded to use the chrombpnet_nobias.h5 model for this."
   ]
  },
  {
   "cell_type": "code",
   "execution_count": 50,
   "id": "913097dd-97b6-415c-a70a-17196f620e6e",
   "metadata": {
    "execution": {
     "iopub.execute_input": "2025-09-24T04:11:32.442597Z",
     "iopub.status.busy": "2025-09-24T04:11:32.441959Z",
     "iopub.status.idle": "2025-09-24T04:11:32.447110Z",
     "shell.execute_reply": "2025-09-24T04:11:32.446492Z",
     "shell.execute_reply.started": "2025-09-24T04:11:32.442566Z"
    },
    "scrolled": true
   },
   "outputs": [
    {
     "name": "stdout",
     "output_type": "stream",
     "text": [
      "sbatch /fs/cbsuhy02/storage/yc2553/yc2553/projects/3.Human_atlas/procapnet/slurm/deepshap.sh /fs/cbsuhy02/storage/yc2553/yc2553/databases/papers/39829783/models/model.chrombpnet_nobias.fold_0.GSE267154.h5 /home/yc2553/projects/HEA/output/procapnet/finemo/SC5/input.bed /home/yc2553/projects/HEA/output/procapnet/finemo/SC5/chrombpnet_scores/contrib/fold_0.GSE267154 counts\n",
      "sbatch /fs/cbsuhy02/storage/yc2553/yc2553/projects/3.Human_atlas/procapnet/slurm/deepshap.sh /fs/cbsuhy02/storage/yc2553/yc2553/databases/papers/39829783/models/model.chrombpnet_nobias.fold_1.GSE267154.h5 /home/yc2553/projects/HEA/output/procapnet/finemo/SC5/input.bed /home/yc2553/projects/HEA/output/procapnet/finemo/SC5/chrombpnet_scores/contrib/fold_1.GSE267154 counts\n",
      "sbatch /fs/cbsuhy02/storage/yc2553/yc2553/projects/3.Human_atlas/procapnet/slurm/deepshap.sh /fs/cbsuhy02/storage/yc2553/yc2553/databases/papers/39829783/models/model.chrombpnet_nobias.fold_2.GSE267154.h5 /home/yc2553/projects/HEA/output/procapnet/finemo/SC5/input.bed /home/yc2553/projects/HEA/output/procapnet/finemo/SC5/chrombpnet_scores/contrib/fold_2.GSE267154 counts\n",
      "sbatch /fs/cbsuhy02/storage/yc2553/yc2553/projects/3.Human_atlas/procapnet/slurm/deepshap.sh /fs/cbsuhy02/storage/yc2553/yc2553/databases/papers/39829783/models/model.chrombpnet_nobias.fold_3.GSE267154.h5 /home/yc2553/projects/HEA/output/procapnet/finemo/SC5/input.bed /home/yc2553/projects/HEA/output/procapnet/finemo/SC5/chrombpnet_scores/contrib/fold_3.GSE267154 counts\n",
      "sbatch /fs/cbsuhy02/storage/yc2553/yc2553/projects/3.Human_atlas/procapnet/slurm/deepshap.sh /fs/cbsuhy02/storage/yc2553/yc2553/databases/papers/39829783/models/model.chrombpnet_nobias.fold_4.GSE267154.h5 /home/yc2553/projects/HEA/output/procapnet/finemo/SC5/input.bed /home/yc2553/projects/HEA/output/procapnet/finemo/SC5/chrombpnet_scores/contrib/fold_4.GSE267154 counts\n"
     ]
    }
   ],
   "source": [
    "# models.GSE267154.tar.gz: https://www.synapse.org/Synapse:syn63862585\n",
    "# Add gpu at the end\n",
    "\n",
    "script = f\"{PROJECT_DIR_s}slurm/deepshap.sh\"\n",
    "regions = f\"{PROJECT_DIR_o}procapnet/finemo/{s}/input.bed\"\n",
    "task = \"counts\"\n",
    "for fold in range(5):\n",
    "\tmodel = f\"{PROJECT_DIR_d}papers/39829783/models/model.chrombpnet_nobias.fold_{fold}.GSE267154.h5\"\n",
    "\toutput_prefix = f\"{PROJECT_DIR_o}procapnet/finemo/{s}/chrombpnet_scores/contrib/fold_{fold}.GSE267154\"\n",
    "\tcommands = [\"sbatch\", script,\n",
    "\t\t\t\tmodel,\n",
    "\t\t\t\tregions,\n",
    "\t\t\t\toutput_prefix,\n",
    "\t\t\t\ttask\n",
    "\t\t\t\t]\n",
    "\tprint(\" \".join(commands))"
   ]
  },
  {
   "cell_type": "code",
   "execution_count": 51,
   "id": "90d0f880-162a-4cc0-bc71-8f984cea6118",
   "metadata": {
    "execution": {
     "iopub.execute_input": "2025-09-24T04:12:19.833354Z",
     "iopub.status.busy": "2025-09-24T04:12:19.832880Z",
     "iopub.status.idle": "2025-09-24T04:12:19.836544Z",
     "shell.execute_reply": "2025-09-24T04:12:19.835955Z",
     "shell.execute_reply.started": "2025-09-24T04:12:19.833326Z"
    }
   },
   "outputs": [],
   "source": [
    "# Get average scores\n",
    "\n",
    "all_scores = []\n",
    "for fold in range(5):\n",
    "\tinputfile = f\"{PROJECT_DIR_o}procapnet/finemo/{s}/chrombpnet_scores/contrib/fold_{fold}.GSE267154.counts_scores.h5\"\n",
    "\twith h5py.File(inputfile, \"r\", libver=\"latest\") as data:\n",
    "\t\tprojected_shap = np.array(data[\"projected_shap\"][\"seq\"])\n",
    "\t\tall_scores.append(projected_shap)\n",
    "mean = np.array(all_scores).mean(axis=0)\n",
    "outputfile = f\"{PROJECT_DIR_o}procapnet/finemo/{s}/chrombpnet_scores/contrib/GSE267154.counts_scores.mean.npy\"\n",
    "np.save(outputfile, mean)"
   ]
  },
  {
   "cell_type": "markdown",
   "id": "33e55f55-e138-4c69-afbe-8c2817e58d34",
   "metadata": {},
   "source": [
    "## Preprocessing"
   ]
  },
  {
   "cell_type": "code",
   "execution_count": 32,
   "id": "f498bc80-08da-468a-8063-221fc1666d0a",
   "metadata": {
    "execution": {
     "iopub.execute_input": "2025-09-24T02:11:55.425134Z",
     "iopub.status.busy": "2025-09-24T02:11:55.424657Z",
     "iopub.status.idle": "2025-09-24T02:11:55.429360Z",
     "shell.execute_reply": "2025-09-24T02:11:55.428723Z",
     "shell.execute_reply.started": "2025-09-24T02:11:55.425103Z"
    }
   },
   "outputs": [
    {
     "name": "stdout",
     "output_type": "stream",
     "text": [
      "finemo extract-regions-modisco-fmt -s /home/yc2553/projects/HEA/output/procapnet/finemo/SC5/PROcap_onehot.npz -a /home/yc2553/projects/HEA/output/procapnet/finemo/SC5/chrombpnet/contrib/GSE267154.counts_scores.mean.npy -o /home/yc2553/projects/HEA/output/procapnet/finemo/SC5/chrombpnet/PROcap_counts -w 1000\n"
     ]
    }
   ],
   "source": [
    "utils.finemo_preprocessing(f\"{PROJECT_DIR_o}procapnet/finemo/{s}/PROcap_onehot.npz\", \n",
    "\t\t\t  f\"{PROJECT_DIR_o}procapnet/finemo/{s}/chrombpnet_scores/contrib/GSE267154.counts_scores.mean.npy\", \n",
    "\t\t\t  f\"{PROJECT_DIR_o}procapnet/finemo/{s}/chrombpnet_scores/counts\"\n",
    "\t\t\t )"
   ]
  },
  {
   "cell_type": "code",
   "execution_count": 33,
   "id": "6deb194e-6f09-4dab-92d0-d9ec7c328a91",
   "metadata": {
    "execution": {
     "iopub.execute_input": "2025-09-24T02:14:35.885416Z",
     "iopub.status.busy": "2025-09-24T02:14:35.884955Z",
     "iopub.status.idle": "2025-09-24T02:14:40.476062Z",
     "shell.execute_reply": "2025-09-24T02:14:40.475237Z",
     "shell.execute_reply.started": "2025-09-24T02:14:35.885384Z"
    }
   },
   "outputs": [
    {
     "data": {
      "text/plain": [
       "((76899, 4, 1000), (76899, 4, 1000))"
      ]
     },
     "execution_count": 33,
     "metadata": {},
     "output_type": "execute_result"
    }
   ],
   "source": [
    "# Check the output\n",
    "\n",
    "data = np.load(f\"{PROJECT_DIR_o}procapnet/finemo/{s}/chrombpnet_scores/counts.npz\")\n",
    "data['sequences'].shape, data['contributions'].shape"
   ]
  },
  {
   "cell_type": "markdown",
   "id": "006f0583-ca9e-4446-ae6a-8a127a239062",
   "metadata": {},
   "source": [
    "## Call hits"
   ]
  },
  {
   "cell_type": "code",
   "execution_count": 12,
   "id": "f69a7116-65bd-418e-ac7c-61a54ec60649",
   "metadata": {
    "execution": {
     "iopub.execute_input": "2025-09-24T15:13:57.166998Z",
     "iopub.status.busy": "2025-09-24T15:13:57.166429Z",
     "iopub.status.idle": "2025-09-24T15:13:57.172730Z",
     "shell.execute_reply": "2025-09-24T15:13:57.172147Z",
     "shell.execute_reply.started": "2025-09-24T15:13:57.166969Z"
    }
   },
   "outputs": [
    {
     "name": "stdout",
     "output_type": "stream",
     "text": [
      "finemo call-hits -r /home/yc2553/projects/HEA/output/procapnet/finemo/SC5/chrombpnet_scores/counts.npz -m /home/yc2553/projects/HEA/output/procapnet/modisco_out/SC5/strand_merged_umap/merged/counts_modisco_results.hd5 -o /home/yc2553/projects/HEA/output/procapnet/finemo/SC5/chrombpnet_scores/procapnet_motifs/ -p /home/yc2553/projects/HEA/output/procapnet/finemo/SC5/input.bed -a 0.7 -J\n",
      "finemo call-hits -r /home/yc2553/projects/HEA/output/procapnet/finemo/SC5/chrombpnet_scores/counts.npz -m /fs/cbsuhy02/storage/yc2553/yc2553/databases/papers/39829783/tfmodisco.raw_output.counts.GSE267154.hd5 -o /home/yc2553/projects/HEA/output/procapnet/finemo/SC5/chrombpnet_scores/chrombpnet_motifs/ -p /home/yc2553/projects/HEA/output/procapnet/finemo/SC5/input.bed -a 0.7 -J\n"
     ]
    }
   ],
   "source": [
    "for k in modisco:\n",
    "\tutils.finemo_call_hits(f\"{PROJECT_DIR_o}procapnet/finemo/{s}/chrombpnet_scores/counts.npz\", \n",
    "\t\t\t  modisco[k],\n",
    "\t\t\t  f\"{PROJECT_DIR_o}procapnet/finemo/{s}/chrombpnet_scores/{k}_motifs/\",\n",
    "\t\t\t  f\"{PROJECT_DIR_o}procapnet/finemo/{s}/input.bed\"\n",
    "\t\t\t )"
   ]
  },
  {
   "cell_type": "code",
   "execution_count": 22,
   "id": "7d7c4824-d6aa-4f39-8fef-a1749171dfeb",
   "metadata": {
    "execution": {
     "iopub.execute_input": "2025-09-24T17:51:27.325635Z",
     "iopub.status.busy": "2025-09-24T17:51:27.324960Z",
     "iopub.status.idle": "2025-09-24T17:52:09.645320Z",
     "shell.execute_reply": "2025-09-24T17:52:09.644150Z",
     "shell.execute_reply.started": "2025-09-24T17:51:27.325582Z"
    }
   },
   "outputs": [],
   "source": [
    "df_hits = {}\n",
    "for k in modisco:\n",
    "\tdf_hits[k] = pd.read_table(f\"{PROJECT_DIR_o}procapnet/finemo/{s}/chrombpnet_scores/{k}_motifs/hits.tsv\")\n",
    "outputfile = f\"{PROJECT_DIR_o}procapnet/finemo/{s}/chrombpnet_scores/merged_hits.tsv\"\n",
    "merge_hits(df_hits, \"chrombpnet\", outputfile)"
   ]
  },
  {
   "cell_type": "code",
   "execution_count": null,
   "id": "0d8e4f80-a4f5-4335-a883-0de35ed06014",
   "metadata": {},
   "outputs": [],
   "source": []
  }
 ],
 "metadata": {
  "kernelspec": {
   "display_name": "Python 3 (ipykernel)",
   "language": "python",
   "name": "python3"
  },
  "language_info": {
   "codemirror_mode": {
    "name": "ipython",
    "version": 3
   },
   "file_extension": ".py",
   "mimetype": "text/x-python",
   "name": "python",
   "nbconvert_exporter": "python",
   "pygments_lexer": "ipython3",
   "version": "3.10.8"
  }
 },
 "nbformat": 4,
 "nbformat_minor": 5
}
