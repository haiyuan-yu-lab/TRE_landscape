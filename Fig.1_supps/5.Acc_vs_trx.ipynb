{
 "cells": [
  {
   "cell_type": "code",
   "execution_count": 54,
   "id": "81707ec2-03a1-4a61-97b7-f56e1cb51060",
   "metadata": {
    "editable": true,
    "execution": {
     "iopub.execute_input": "2025-09-24T19:29:05.227370Z",
     "iopub.status.busy": "2025-09-24T19:29:05.226210Z",
     "iopub.status.idle": "2025-09-24T19:29:05.233782Z",
     "shell.execute_reply": "2025-09-24T19:29:05.232990Z",
     "shell.execute_reply.started": "2025-09-24T19:29:05.227338Z"
    },
    "slideshow": {
     "slide_type": ""
    },
    "tags": []
   },
   "outputs": [],
   "source": [
    "import seaborn as sns\n",
    "import matplotlib\n",
    "import matplotlib.pyplot as plt\n",
    "import pybedtools\n",
    "import pandas as pd\n",
    "from collections import defaultdict\n",
    "from biodata.delimited import DelimitedWriter\n",
    "import numpy as np\n",
    "import sys\n",
    "import pyBigWig\n",
    "import biodataplot.metaplot as bpm\n",
    "from biodata.bigwig import BigWigIReader\n",
    "from biodata.bed import BEDXReader\n",
    "from genomictools import GenomicCollection\n",
    "from pathlib import Path\n",
    "import matplotlib.colors as mcolors\n",
    "from biodatatools.utils.common import json_load\n",
    "from scipy import stats"
   ]
  },
  {
   "cell_type": "code",
   "execution_count": 2,
   "id": "e03e8328-53bc-4726-84e8-f21956a5c8f9",
   "metadata": {
    "execution": {
     "iopub.execute_input": "2025-09-24T18:24:07.436265Z",
     "iopub.status.busy": "2025-09-24T18:24:07.435453Z",
     "iopub.status.idle": "2025-09-24T18:24:07.520019Z",
     "shell.execute_reply": "2025-09-24T18:24:07.519056Z",
     "shell.execute_reply.started": "2025-09-24T18:24:07.436230Z"
    }
   },
   "outputs": [],
   "source": [
    "font_dir = Path.cwd().parent / \"font\"\n",
    "for font in [\"Arial.ttf\", \"Arial_Bold.ttf\"]:\n",
    "    matplotlib.font_manager.fontManager.addfont(font_dir / font)\n",
    "matplotlib.rcParams[\"font.family\"] = \"Arial\"\n",
    "bfontsize = 12\n",
    "sfontsize = 9\n",
    "lw = 0.8"
   ]
  },
  {
   "cell_type": "code",
   "execution_count": 3,
   "id": "011177c6-4e18-4450-9d5b-da6ad38315a6",
   "metadata": {
    "execution": {
     "iopub.execute_input": "2025-09-24T18:24:07.521340Z",
     "iopub.status.busy": "2025-09-24T18:24:07.520951Z",
     "iopub.status.idle": "2025-09-24T18:24:08.872050Z",
     "shell.execute_reply": "2025-09-24T18:24:08.871203Z",
     "shell.execute_reply.started": "2025-09-24T18:24:07.521315Z"
    }
   },
   "outputs": [],
   "source": [
    "sys.path.append(str(Path.cwd().parent))\n",
    "import utils"
   ]
  },
  {
   "cell_type": "code",
   "execution_count": 4,
   "id": "4a2e84f8-a8d7-469d-b3b5-9fde82b4f04c",
   "metadata": {
    "execution": {
     "iopub.execute_input": "2025-09-24T18:24:08.874175Z",
     "iopub.status.busy": "2025-09-24T18:24:08.873748Z",
     "iopub.status.idle": "2025-09-24T18:24:18.034027Z",
     "shell.execute_reply": "2025-09-24T18:24:18.032919Z",
     "shell.execute_reply.started": "2025-09-24T18:24:08.874149Z"
    },
    "tags": []
   },
   "outputs": [],
   "source": [
    "PROJECT_DIR_d = \"/home/yc2553/projects/HEA/databases/\"\n",
    "PROJECT_DIR_d2  = \"/fs/cbsuhy02/storage/yc2553/yc2553/databases/\"\n",
    "PROJECT_DIR_o = \"/home/yc2553/projects/HEA/output/\""
   ]
  },
  {
   "cell_type": "markdown",
   "id": "41e92f5d-6957-453a-b8a9-3103bad02317",
   "metadata": {},
   "source": [
    "# Accessibility: PRO-cap (+) vs. PRO-cap (-)"
   ]
  },
  {
   "cell_type": "markdown",
   "id": "a93b3753-1d4d-4e7b-adca-39b50639f48e",
   "metadata": {},
   "source": [
    "## Get PRO-cap (+) and PRO-cap (-) regions"
   ]
  },
  {
   "cell_type": "code",
   "execution_count": 5,
   "id": "fd08ca7e-1751-4856-9525-201583a5ef84",
   "metadata": {
    "execution": {
     "iopub.execute_input": "2025-09-24T18:24:18.035761Z",
     "iopub.status.busy": "2025-09-24T18:24:18.035222Z",
     "iopub.status.idle": "2025-09-24T18:24:19.750083Z",
     "shell.execute_reply": "2025-09-24T18:24:19.748690Z",
     "shell.execute_reply.started": "2025-09-24T18:24:18.035717Z"
    }
   },
   "outputs": [],
   "source": [
    "s = \"SC5\"\n",
    "beds = json_load(f\"{PROJECT_DIR_d}PROcap/metainfo/sample_beds.json\")\n",
    "b1 = pybedtools.BedTool(beds[s][0])\n",
    "b2 = pybedtools.BedTool(beds[s][1])\n",
    "b_merged = b1.cat(b2)"
   ]
  },
  {
   "cell_type": "code",
   "execution_count": 6,
   "id": "aff5ef00-8a24-462e-bdad-134c8ab283ca",
   "metadata": {
    "execution": {
     "iopub.execute_input": "2025-09-24T18:24:19.751998Z",
     "iopub.status.busy": "2025-09-24T18:24:19.751511Z",
     "iopub.status.idle": "2025-09-24T18:24:23.497914Z",
     "shell.execute_reply": "2025-09-24T18:24:23.496402Z",
     "shell.execute_reply.started": "2025-09-24T18:24:19.751965Z"
    }
   },
   "outputs": [],
   "source": [
    "# ATAC-seq peaks (original peak boundary; subpeaks are assigned to the same category)\n",
    "# PRO-cap (+): 1-bp overlap with PRO-cap peaks\n",
    "# PRO-cap (-): no overlaps\n",
    "\n",
    "b = pybedtools.BedTool(f\"{PROJECT_DIR_o}chrombpnet/finemo/logs.seq_contrib.counts.input_regions.modisco.GSE267154.narrowPeak\")\n",
    "labels = {\"overlap\": set([tuple(i.fields[:3]) for i in b.intersect(b_merged, u=True)]),\n",
    "\t\t  \"nonoverlap\": set([tuple(i.fields[:3]) for i in b.intersect(b_merged, v=True)])\n",
    "\t\t }"
   ]
  },
  {
   "cell_type": "code",
   "execution_count": 7,
   "id": "c0fa6fbb-795b-4841-84cd-ae1b680794c7",
   "metadata": {
    "execution": {
     "iopub.execute_input": "2025-09-24T18:24:23.499908Z",
     "iopub.status.busy": "2025-09-24T18:24:23.499382Z",
     "iopub.status.idle": "2025-09-24T18:24:23.505104Z",
     "shell.execute_reply": "2025-09-24T18:24:23.504387Z",
     "shell.execute_reply.started": "2025-09-24T18:24:23.499873Z"
    }
   },
   "outputs": [
    {
     "name": "stdout",
     "output_type": "stream",
     "text": [
      "overlap 30786\n",
      "nonoverlap 129318\n"
     ]
    }
   ],
   "source": [
    "for k in labels:\n",
    "\tprint(k, len(labels[k]))"
   ]
  },
  {
   "cell_type": "markdown",
   "id": "bff56199-3e12-4b4e-ac71-7fe5b13d3b1b",
   "metadata": {},
   "source": [
    "## Metaplots"
   ]
  },
  {
   "cell_type": "code",
   "execution_count": 8,
   "id": "5f67664f-8781-4e46-8d48-6a1e155405f9",
   "metadata": {
    "execution": {
     "iopub.execute_input": "2025-09-24T18:24:23.506366Z",
     "iopub.status.busy": "2025-09-24T18:24:23.505995Z",
     "iopub.status.idle": "2025-09-24T18:24:56.586381Z",
     "shell.execute_reply": "2025-09-24T18:24:56.585429Z",
     "shell.execute_reply.started": "2025-09-24T18:24:23.506341Z"
    },
    "scrolled": true
   },
   "outputs": [],
   "source": [
    "# Check ATAC-seq signals in regions with and without overlapping PRO-cap peaks\n",
    "\n",
    "for k in labels:\n",
    "\toutputfile = f\"{PROJECT_DIR_o}chrombpnet/finemo/{k}.bed\"\n",
    "\twith DelimitedWriter(outputfile) as dw:\n",
    "\t\tfor e in labels[k]:\n",
    "\t\t\tdw.write(e)\n",
    "\tpybedtools.BedTool(outputfile).sort().saveas(outputfile)"
   ]
  },
  {
   "cell_type": "code",
   "execution_count": 9,
   "id": "531ac254-e8b9-4eba-8a6e-e24a719d758d",
   "metadata": {
    "execution": {
     "iopub.execute_input": "2025-09-24T18:24:56.587802Z",
     "iopub.status.busy": "2025-09-24T18:24:56.587399Z",
     "iopub.status.idle": "2025-09-24T18:25:03.537281Z",
     "shell.execute_reply": "2025-09-24T18:25:03.536232Z",
     "shell.execute_reply.started": "2025-09-24T18:24:56.587768Z"
    }
   },
   "outputs": [],
   "source": [
    "# https://www.ncbi.nlm.nih.gov/geo/query/acc.cgi?acc=GSE267154\n",
    "\n",
    "bws = {\"ATAC\": f\"{PROJECT_DIR_d2}GEO/GSE267154/GSE267154_H1.Tn5shift.insertion.coverage.bigwig\"\n",
    "\t\t}\n",
    "ms = list(bws.keys())"
   ]
  },
  {
   "cell_type": "code",
   "execution_count": 11,
   "id": "89e65c1a-8e9f-434a-91ac-6dd777bd63c8",
   "metadata": {
    "execution": {
     "iopub.execute_input": "2025-09-24T18:25:22.613027Z",
     "iopub.status.busy": "2025-09-24T18:25:22.612585Z",
     "iopub.status.idle": "2025-09-24T18:27:10.088549Z",
     "shell.execute_reply": "2025-09-24T18:27:10.087561Z",
     "shell.execute_reply.started": "2025-09-24T18:25:22.613002Z"
    },
    "scrolled": true
   },
   "outputs": [],
   "source": [
    "# 1kb region anchored on the peak center\n",
    "\n",
    "df_features = {}\n",
    "use_strand = False\n",
    "for k in labels:\n",
    "\tbed = f\"{PROJECT_DIR_o}chrombpnet/finemo/{k}.bed\"\n",
    "\tall_regions = BEDXReader.read_all(GenomicCollection, bed)\n",
    "\tindex = [f\"{r.chrom}_{r.chromStart}_{r.chromEnd}\" for r in all_regions]\n",
    "\tfor m in bws:\n",
    "\t\tdf_features[(m,k)] = pd.DataFrame(bpm.generate_signal_profile(all_regions, BigWigIReader(bws[m]), fixed_size=1001, use_strand=use_strand), index=index)"
   ]
  },
  {
   "cell_type": "code",
   "execution_count": 12,
   "id": "cf86b9ea-59a4-4fcf-b30a-803d872feb5a",
   "metadata": {
    "execution": {
     "iopub.execute_input": "2025-09-24T18:27:10.090322Z",
     "iopub.status.busy": "2025-09-24T18:27:10.089956Z",
     "iopub.status.idle": "2025-09-24T18:27:20.591998Z",
     "shell.execute_reply": "2025-09-24T18:27:20.591013Z",
     "shell.execute_reply.started": "2025-09-24T18:27:10.090297Z"
    }
   },
   "outputs": [],
   "source": [
    "df_reformat = {}\n",
    "for k in df_features:\n",
    "\tdf = df_features[k].reset_index()\n",
    "\tdf_reformat[k] = pd.melt(df,\n",
    "\t\t\t\t\t\t  id_vars=\"index\",\n",
    "\t\t\t\t\t\t  value_vars=list(df.columns[1:]),\n",
    "\t\t\t\t\t\t  var_name=\"Position\",\n",
    "\t\t\t\t\t\t  value_name=\"Feature\"\n",
    "\t\t\t\t\t\t  )"
   ]
  },
  {
   "cell_type": "code",
   "execution_count": 14,
   "id": "fb0f012d-11ff-4abe-a871-d678f02b42ea",
   "metadata": {
    "execution": {
     "iopub.execute_input": "2025-09-24T18:29:00.276963Z",
     "iopub.status.busy": "2025-09-24T18:29:00.276346Z",
     "iopub.status.idle": "2025-09-24T18:29:28.995404Z",
     "shell.execute_reply": "2025-09-24T18:29:28.994402Z",
     "shell.execute_reply.started": "2025-09-24T18:29:00.276934Z"
    },
    "scrolled": true
   },
   "outputs": [],
   "source": [
    "df_metaplots = {}\n",
    "for m in ms:\n",
    "\tdfs = []\n",
    "\tfor k in labels:\n",
    "\t\tdf = df_reformat[(m, k)].copy()\n",
    "\t\tdf[\"Label\"] = k\n",
    "\t\tdfs.append(df)\n",
    "\tdf_metaplots[m] = pd.concat(dfs).reset_index(drop=True)\t\t"
   ]
  },
  {
   "cell_type": "code",
   "execution_count": 15,
   "id": "fe4ec647-0707-4bc4-a777-09dda5dab000",
   "metadata": {
    "execution": {
     "iopub.execute_input": "2025-09-24T18:29:28.997072Z",
     "iopub.status.busy": "2025-09-24T18:29:28.996692Z",
     "iopub.status.idle": "2025-09-24T18:30:33.786589Z",
     "shell.execute_reply": "2025-09-24T18:30:33.785635Z",
     "shell.execute_reply.started": "2025-09-24T18:29:28.997047Z"
    }
   },
   "outputs": [
    {
     "name": "stdout",
     "output_type": "stream",
     "text": [
      "ATAC 0.8753004612486195 0.0891987194358094\n"
     ]
    }
   ],
   "source": [
    "for m in ms:\n",
    "\tmaxs = []\n",
    "\tmins = []\n",
    "\tdf = df_metaplots[m]\n",
    "\tfor k in labels:\n",
    "\t\tmaxs.append(df[df[\"Label\"]==k].groupby(\"Position\")[\"Feature\"].mean().max())\n",
    "\t\tmins.append(df[df[\"Label\"]==k].groupby(\"Position\")[\"Feature\"].mean().min())\n",
    "\tprint(m, max(maxs), min(mins))"
   ]
  },
  {
   "cell_type": "code",
   "execution_count": 25,
   "id": "96b7420a-c05a-4a4f-a4d2-7814002b9a69",
   "metadata": {
    "execution": {
     "iopub.execute_input": "2025-09-24T18:44:45.641668Z",
     "iopub.status.busy": "2025-09-24T18:44:45.641130Z",
     "iopub.status.idle": "2025-09-24T18:49:15.001773Z",
     "shell.execute_reply": "2025-09-24T18:49:15.001010Z",
     "shell.execute_reply.started": "2025-09-24T18:44:45.641643Z"
    }
   },
   "outputs": [
    {
     "data": {
      "image/png": "[encoded data removed]",
      "text/plain": [
       "<Figure size 310x270 with 1 Axes>"
      ]
     },
     "metadata": {},
     "output_type": "display_data"
    }
   ],
   "source": [
    "fig, ax = plt.subplots(figsize=(3.1,2.7))\n",
    "test = False\n",
    "utils.generate_feature_metaplot(df_metaplots[m], [\"#fb8072\", \"#d9d9d9\"], [\"overlap\", \"nonoverlap\"], ax, test, errorbar=None)\n",
    "ax.legend([\"PRO-cap (+)\", \"PRO-cap (-)\"], fontsize=sfontsize, \n",
    "\t\t  frameon=False, loc=\"upper left\", handlelength=1)\n",
    "ax.set_ylabel(\"ATAC-seq\", fontsize=bfontsize)\n",
    "ax.set_yticks([0,0.5,1])\n",
    "ax.set_ylim([-0.1,1.1])\n",
    "\n",
    "ax.set_xlabel(\"Distance to center (kb)\", fontsize=bfontsize)\n",
    "ax.set_xticks([0,500,1000])\n",
    "ax.set_xticklabels([-0.5,0,0.5])\n",
    "\n",
    "ax.tick_params(labelsize=sfontsize)\n",
    "plt.savefig(f\"{PROJECT_DIR_o}figures/ExtDataFig2a.pdf\", bbox_inches=\"tight\", transparent=True)"
   ]
  },
  {
   "cell_type": "markdown",
   "id": "46b32e16-846a-4faf-add9-7ddcec3e0c68",
   "metadata": {},
   "source": [
    "# Motif occurrences"
   ]
  },
  {
   "cell_type": "code",
   "execution_count": null,
   "id": "4a7128d8-a90e-461e-a9ee-60d43b5ba011",
   "metadata": {},
   "outputs": [],
   "source": [
    "# Identify fraction of PRO-cap peaks with motifs contributing to transcritpion and fraction of ATAC-seq peaks with motifs contributing to accessibility."
   ]
  },
  {
   "cell_type": "code",
   "execution_count": 17,
   "id": "c17aabdd-c098-4574-ba0e-39383faee1e2",
   "metadata": {
    "execution": {
     "iopub.execute_input": "2025-09-24T18:35:08.467125Z",
     "iopub.status.busy": "2025-09-24T18:35:08.466559Z",
     "iopub.status.idle": "2025-09-24T18:35:13.726005Z",
     "shell.execute_reply": "2025-09-24T18:35:13.725028Z",
     "shell.execute_reply.started": "2025-09-24T18:35:08.467095Z"
    }
   },
   "outputs": [],
   "source": [
    "# Subpeaks are assigned to the same category\n",
    "\n",
    "mapping = defaultdict(set)\n",
    "for i in b:\n",
    "\tmapping[tuple(i.fields[:3])].add(i.fields[3])"
   ]
  },
  {
   "cell_type": "code",
   "execution_count": 18,
   "id": "5af738bf-7d08-4e08-9912-b619006b0a01",
   "metadata": {
    "execution": {
     "iopub.execute_input": "2025-09-24T18:35:13.727310Z",
     "iopub.status.busy": "2025-09-24T18:35:13.726956Z",
     "iopub.status.idle": "2025-09-24T18:35:17.448227Z",
     "shell.execute_reply": "2025-09-24T18:35:17.447258Z",
     "shell.execute_reply.started": "2025-09-24T18:35:13.727287Z"
    }
   },
   "outputs": [],
   "source": [
    "df_motifs = {\"procapnet\": pd.read_table(f\"{PROJECT_DIR_o}procapnet/finemo/{s}/procapnet_scores/merged_hits.tsv\"),\n",
    "\t\t\t \"chrombpnet\": pd.read_table(f\"{PROJECT_DIR_o}chrombpnet/finemo/merged_hits.tsv\")\n",
    "\t\t\t}"
   ]
  },
  {
   "cell_type": "code",
   "execution_count": 19,
   "id": "5695ce35-c56c-4861-b2a3-48597f9f15ff",
   "metadata": {
    "execution": {
     "iopub.execute_input": "2025-09-24T18:35:17.450161Z",
     "iopub.status.busy": "2025-09-24T18:35:17.449788Z",
     "iopub.status.idle": "2025-09-24T18:35:17.453911Z",
     "shell.execute_reply": "2025-09-24T18:35:17.453245Z",
     "shell.execute_reply.started": "2025-09-24T18:35:17.450134Z"
    }
   },
   "outputs": [],
   "source": [
    "motif_order = [\"SP\", \"ETS\", \"NFY\", \"NRF1\", \"CREB\", \"AP1\", \"ZBTB33\", \"THAP11-ZNF143\", \"TATA\", \"YY1\", \"SRF\", \"REST\", \"RFX4\", \"RFX5\", \"SIX\", \"CTCF\", \"TEAD\", \"SOX\", \"POU5F1-SOX2\", \"ZIC\"]"
   ]
  },
  {
   "cell_type": "code",
   "execution_count": 20,
   "id": "3551f4a2-f073-4eb5-ac49-63adeeabd5b3",
   "metadata": {
    "execution": {
     "iopub.execute_input": "2025-09-24T18:35:17.455024Z",
     "iopub.status.busy": "2025-09-24T18:35:17.454708Z",
     "iopub.status.idle": "2025-09-24T18:35:51.054506Z",
     "shell.execute_reply": "2025-09-24T18:35:51.053392Z",
     "shell.execute_reply.started": "2025-09-24T18:35:17.455002Z"
    }
   },
   "outputs": [
    {
     "data": {
      "text/html": [
       "<div>\n",
       "<style scoped>\n",
       "    .dataframe tbody tr th:only-of-type {\n",
       "        vertical-align: middle;\n",
       "    }\n",
       "\n",
       "    .dataframe tbody tr th {\n",
       "        vertical-align: top;\n",
       "    }\n",
       "\n",
       "    .dataframe thead th {\n",
       "        text-align: right;\n",
       "    }\n",
       "</style>\n",
       "<table border=\"1\" class=\"dataframe\">\n",
       "  <thead>\n",
       "    <tr style=\"text-align: right;\">\n",
       "      <th></th>\n",
       "      <th>PRO-cap</th>\n",
       "      <th>PRO-cap (+)</th>\n",
       "      <th>PRO-cap (-)</th>\n",
       "    </tr>\n",
       "  </thead>\n",
       "  <tbody>\n",
       "    <tr>\n",
       "      <th>SP</th>\n",
       "      <td>0.806734</td>\n",
       "      <td>0.854827</td>\n",
       "      <td>0.531124</td>\n",
       "    </tr>\n",
       "    <tr>\n",
       "      <th>ETS</th>\n",
       "      <td>0.854380</td>\n",
       "      <td>0.779009</td>\n",
       "      <td>0.399169</td>\n",
       "    </tr>\n",
       "  </tbody>\n",
       "</table>\n",
       "</div>"
      ],
      "text/plain": [
       "      PRO-cap  PRO-cap (+)  PRO-cap (-)\n",
       "SP   0.806734     0.854827     0.531124\n",
       "ETS  0.854380     0.779009     0.399169"
      ]
     },
     "execution_count": 20,
     "metadata": {},
     "output_type": "execute_result"
    }
   ],
   "source": [
    "results = []\n",
    "for motif in motif_order:\n",
    "\t# ProCapNet\n",
    "\tdf = df_motifs[\"procapnet\"]\n",
    "\tn_peaks_with_motif = len(set(df[df[\"motif\"]==motif][\"peak_name\"]))\n",
    "\tn_total_peaks = len(pybedtools.BedTool(f\"{PROJECT_DIR_o}procapnet/finemo/{s}/input.bed\"))\n",
    "\trow = [n_peaks_with_motif/n_total_peaks]\n",
    "\n",
    "\t# ChromBPNet\n",
    "\tdf = df_motifs[\"chrombpnet\"]\n",
    "\tfor k in labels:\n",
    "\t\tpeak_names_included = [e2 for e in labels[k] for e2 in mapping[e]]\n",
    "\t\tn_peaks_with_motif = len(set(df[(df[\"peak_name\"].isin(peak_names_included)) & (df[\"motif\"]==motif)][\"peak_name\"]))\n",
    "\t\trow.append(n_peaks_with_motif/len(peak_names_included))\n",
    "\tresults.append(row)\n",
    "df_frac = pd.DataFrame(results, columns=[\"PRO-cap\", \"PRO-cap (+)\", \"PRO-cap (-)\"], index=motif_order)\n",
    "df_frac.head(2)"
   ]
  },
  {
   "cell_type": "code",
   "execution_count": 21,
   "id": "6243f083-effe-4439-b8d9-ef33a1995d60",
   "metadata": {
    "execution": {
     "iopub.execute_input": "2025-09-24T18:35:51.056196Z",
     "iopub.status.busy": "2025-09-24T18:35:51.055732Z",
     "iopub.status.idle": "2025-09-24T18:35:51.067919Z",
     "shell.execute_reply": "2025-09-24T18:35:51.067168Z",
     "shell.execute_reply.started": "2025-09-24T18:35:51.056167Z"
    }
   },
   "outputs": [
    {
     "data": {
      "image/png": "[encoded data removed]",
      "text/html": [
       "<div style=\"vertical-align: middle;\"><strong>custom_cmap</strong> </div><div class=\"cmap\"><img alt=\"custom_cmap colormap\" title=\"custom_cmap\" style=\"border: 1px solid #555;\" src=\"data:image/png;base64,iVBORw0KGgoAAAANSUhEUgAAAgAAAABACAYAAABsv8+/AAAAGnRFWHRUaXRsZQBjdXN0b21fY21hcCBjb2xvcm1hcOa9R1QAAAAgdEVYdERlc2NyaXB0aW9uAGN1c3RvbV9jbWFwIGNvbG9ybWFwd6MDAgAAADB0RVh0QXV0aG9yAE1hdHBsb3RsaWIgdjMuOS4yLCBodHRwczovL21hdHBsb3RsaWIub3JnYZnFUwAAADJ0RVh0U29mdHdhcmUATWF0cGxvdGxpYiB2My45LjIsIGh0dHBzOi8vbWF0cGxvdGxpYi5vcmdPP1p0AAABo0lEQVR4nO3WSWrDQBRAwU7uf2Z1VlaIQNgaTEJe1caWaX1ag+F9zDnnGGPMuYwxxhjr5zx3PC6e/zi+a87lfb3p+g7Pe8/1zcPzfut9uLiPf/c+3LOv7+e/OX17vJ7+4vq5s377ONf188V5m/W78w7O396+s/vZnfc4Pnj/lov3++79PH7YnTd+fHl+fQfXP5t/1/u1vLr+r/x/zs3/HABAjgAAgCABAABBAgAAggQAAAQJAAAIEgAAECQAACBIAABAkAAAgCABAABBAgAAggQAAAQJAAAIEgAAECQAACBIAABAkAAAgCABAABBAgAAggQAAAQJAAAIEgAAECQAACBIAABAkAAAgCABAABBAgAAggQAAAQJAAAIEgAAECQAACBIAABAkAAAgCABAABBAgAAggQAAAQJAAAIEgAAECQAACBIAABAkAAAgCABAABBAgAAggQAAAQJAAAIEgAAECQAACBIAABAkAAAgCABAABBAgAAggQAAAQJAAAIEgAAECQAACBIAABAkAAAgCABAABBAgAAggQAAAQJAAAIEgAAEPQFJQTLcQDykxQAAAAASUVORK5CYII=\"></div><div style=\"vertical-align: middle; max-width: 514px; display: flex; justify-content: space-between;\"><div style=\"float: left;\"><div title=\"#ffffffff\" style=\"display: inline-block; width: 1em; height: 1em; margin: 0; vertical-align: middle; border: 1px solid #555; background-color: #ffffffff;\"></div> under</div><div style=\"margin: 0 auto; display: inline-block;\">bad <div title=\"#00000000\" style=\"display: inline-block; width: 1em; height: 1em; margin: 0; vertical-align: middle; border: 1px solid #555; background-color: #00000000;\"></div></div><div style=\"float: right;\">over <div title=\"#bd0026ff\" style=\"display: inline-block; width: 1em; height: 1em; margin: 0; vertical-align: middle; border: 1px solid #555; background-color: #bd0026ff;\"></div></div></div>"
      ],
      "text/plain": [
       "<matplotlib.colors.LinearSegmentedColormap at 0x7f3d55f47610>"
      ]
     },
     "execution_count": 21,
     "metadata": {},
     "output_type": "execute_result"
    }
   ],
   "source": [
    "colors = [(0.0, \"#ffffff\"), (0.5, \"#fd8d3c\"), (1, \"#bd0026\")] \n",
    "cmap = mcolors.LinearSegmentedColormap.from_list('custom_cmap', colors)\n",
    "cmap"
   ]
  },
  {
   "cell_type": "code",
   "execution_count": 24,
   "id": "1cc22cba-ec50-4148-9e6b-ba5b946a72a8",
   "metadata": {
    "execution": {
     "iopub.execute_input": "2025-09-24T18:43:01.035731Z",
     "iopub.status.busy": "2025-09-24T18:43:01.035263Z",
     "iopub.status.idle": "2025-09-24T18:43:04.538285Z",
     "shell.execute_reply": "2025-09-24T18:43:04.537565Z",
     "shell.execute_reply.started": "2025-09-24T18:43:01.035677Z"
    },
    "scrolled": true
   },
   "outputs": [
    {
     "data": {
      "image/png": "[encoded data removed]",
      "text/plain": [
       "<Figure size 520x450 with 3 Axes>"
      ]
     },
     "metadata": {},
     "output_type": "display_data"
    }
   ],
   "source": [
    "fig, ax = plt.subplots(1, 2, figsize=(5.2,4.5), gridspec_kw={'width_ratios': [1, 2]})\n",
    "# ProCapNet\n",
    "g = sns.heatmap(df_frac[[\"PRO-cap\"]], vmin=0, vmax=1, yticklabels=True, cmap=cmap, cbar=False, ax=ax[0])\n",
    "g.set_title(\"ProCapNet\", fontsize=bfontsize)\n",
    "g.set_xticklabels([\"PRO-cap peaks\"], fontsize=bfontsize)\n",
    "g.tick_params(axis=\"y\", labelsize=sfontsize)\n",
    "\n",
    "# ChromBPNet\n",
    "g = sns.heatmap(df_frac[[\"PRO-cap (+)\", \"PRO-cap (-)\"]], vmin=0, vmax=1, yticklabels=False, cmap=cmap, ax=ax[1])\n",
    "g.set_title(\"ChromBPNet\", fontsize=bfontsize)\n",
    "g.tick_params(axis=\"x\", labelsize=sfontsize)\n",
    "\n",
    "ax[1].plot([0, 2], [len(df_frac)+1.7, len(df_frac)+1.7], color=\"#000000\", linewidth=lw, clip_on=False)\n",
    "ax[1].text(x=1, y=len(df_frac)+2.5, s=\"ATAC-seq peaks\", ha=\"center\", va=\"center\", fontsize=bfontsize)\n",
    "\n",
    "g.collections[0].colorbar.remove()\n",
    "cbar_ax = fig.add_axes([0.3, -0.07, 0.3, 0.04])\n",
    "cbar = plt.colorbar(g.collections[0], cax=cbar_ax, orientation=\"horizontal\")\n",
    "fig.text(0.45, -0.15, \"Fraction of peaks with motifs\", ha='center', va='center', fontsize=bfontsize)\n",
    "\n",
    "plt.savefig(f\"{PROJECT_DIR_o}figures/ExtDataFig2d.pdf\", bbox_inches=\"tight\", transparent=True)"
   ]
  },
  {
   "cell_type": "markdown",
   "id": "bfd18c18-54db-4c67-a477-aaad7193e3b0",
   "metadata": {},
   "source": [
    "# Contribution scores at individual motif instances"
   ]
  },
  {
   "cell_type": "markdown",
   "id": "79b26aab-60d1-440f-b2e1-ea89c72c7a2a",
   "metadata": {},
   "source": [
    "## Get the set of motif instances"
   ]
  },
  {
   "cell_type": "code",
   "execution_count": 27,
   "id": "a3674c46-1a74-498f-bf54-025f930612c9",
   "metadata": {
    "execution": {
     "iopub.execute_input": "2025-09-24T18:50:49.605427Z",
     "iopub.status.busy": "2025-09-24T18:50:49.604898Z",
     "iopub.status.idle": "2025-09-24T18:50:51.427363Z",
     "shell.execute_reply": "2025-09-24T18:50:51.426641Z",
     "shell.execute_reply.started": "2025-09-24T18:50:49.605402Z"
    }
   },
   "outputs": [],
   "source": [
    "df_motifs[\"chrombpnet_procap\"] = pd.read_table(f\"{PROJECT_DIR_o}procapnet/finemo/{s}/chrombpnet_scores/merged_hits.tsv\")"
   ]
  },
  {
   "cell_type": "code",
   "execution_count": 34,
   "id": "bc8d3370-084b-4109-bb89-165cf2f74dad",
   "metadata": {
    "execution": {
     "iopub.execute_input": "2025-09-24T18:55:41.405537Z",
     "iopub.status.busy": "2025-09-24T18:55:41.405126Z",
     "iopub.status.idle": "2025-09-24T18:55:42.034958Z",
     "shell.execute_reply": "2025-09-24T18:55:42.034263Z",
     "shell.execute_reply.started": "2025-09-24T18:55:41.405512Z"
    }
   },
   "outputs": [
    {
     "data": {
      "text/html": [
       "<div>\n",
       "<style scoped>\n",
       "    .dataframe tbody tr th:only-of-type {\n",
       "        vertical-align: middle;\n",
       "    }\n",
       "\n",
       "    .dataframe tbody tr th {\n",
       "        vertical-align: top;\n",
       "    }\n",
       "\n",
       "    .dataframe thead th {\n",
       "        text-align: right;\n",
       "    }\n",
       "</style>\n",
       "<table border=\"1\" class=\"dataframe\">\n",
       "  <thead>\n",
       "    <tr style=\"text-align: right;\">\n",
       "      <th></th>\n",
       "      <th>chr</th>\n",
       "      <th>start</th>\n",
       "      <th>end</th>\n",
       "      <th>start_untrimmed</th>\n",
       "      <th>end_untrimmed</th>\n",
       "      <th>motif_name</th>\n",
       "      <th>hit_coefficient</th>\n",
       "      <th>hit_coefficient_global</th>\n",
       "      <th>hit_correlation</th>\n",
       "      <th>hit_importance</th>\n",
       "      <th>strand</th>\n",
       "      <th>peak_name</th>\n",
       "      <th>peak_id</th>\n",
       "      <th>motif</th>\n",
       "    </tr>\n",
       "  </thead>\n",
       "  <tbody>\n",
       "    <tr>\n",
       "      <th>140</th>\n",
       "      <td>chr1</td>\n",
       "      <td>967005</td>\n",
       "      <td>967018</td>\n",
       "      <td>966998</td>\n",
       "      <td>967028</td>\n",
       "      <td>pos_patterns.pattern_9</td>\n",
       "      <td>10.293246</td>\n",
       "      <td>0.000107</td>\n",
       "      <td>0.789285</td>\n",
       "      <td>0.107811</td>\n",
       "      <td>+</td>\n",
       "      <td>chr1_966894_967159</td>\n",
       "      <td>20</td>\n",
       "      <td>AP1</td>\n",
       "    </tr>\n",
       "    <tr>\n",
       "      <th>537222</th>\n",
       "      <td>chr1</td>\n",
       "      <td>967006</td>\n",
       "      <td>967015</td>\n",
       "      <td>966995</td>\n",
       "      <td>967025</td>\n",
       "      <td>pos_patterns.pattern_12</td>\n",
       "      <td>4.740517</td>\n",
       "      <td>0.000085</td>\n",
       "      <td>0.929002</td>\n",
       "      <td>0.051769</td>\n",
       "      <td>-</td>\n",
       "      <td>chr1_966894_967159</td>\n",
       "      <td>20</td>\n",
       "      <td>AP1</td>\n",
       "    </tr>\n",
       "  </tbody>\n",
       "</table>\n",
       "</div>"
      ],
      "text/plain": [
       "         chr   start     end  start_untrimmed  end_untrimmed  \\\n",
       "140     chr1  967005  967018           966998         967028   \n",
       "537222  chr1  967006  967015           966995         967025   \n",
       "\n",
       "                     motif_name  hit_coefficient  hit_coefficient_global  \\\n",
       "140      pos_patterns.pattern_9        10.293246                0.000107   \n",
       "537222  pos_patterns.pattern_12         4.740517                0.000085   \n",
       "\n",
       "        hit_correlation  hit_importance strand           peak_name  peak_id  \\\n",
       "140            0.789285        0.107811      +  chr1_966894_967159       20   \n",
       "537222         0.929002        0.051769      -  chr1_966894_967159       20   \n",
       "\n",
       "       motif  \n",
       "140      AP1  \n",
       "537222   AP1  "
      ]
     },
     "execution_count": 34,
     "metadata": {},
     "output_type": "execute_result"
    }
   ],
   "source": [
    "df_merged = pd.concat([df_motifs[\"procapnet\"], df_motifs[\"chrombpnet_procap\"]], ignore_index=True)\n",
    "df_merged = df_merged.sort_values(['motif', 'peak_id', 'chr', 'start'])\n",
    "df_merged.head(2)"
   ]
  },
  {
   "cell_type": "code",
   "execution_count": 42,
   "id": "3b84bfdf-bc36-4e87-aeb9-766111cee936",
   "metadata": {
    "execution": {
     "iopub.execute_input": "2025-09-24T19:11:28.768909Z",
     "iopub.status.busy": "2025-09-24T19:11:28.768456Z",
     "iopub.status.idle": "2025-09-24T19:11:28.775137Z",
     "shell.execute_reply": "2025-09-24T19:11:28.774407Z",
     "shell.execute_reply.started": "2025-09-24T19:11:28.768882Z"
    }
   },
   "outputs": [],
   "source": [
    "# We compare the contribution scores from each model at individual motif instances; for the same motif type and same peak, we merge the motif boundary between motif calls from this two groups\n",
    "\n",
    "def merge_intervals(df):\n",
    "    merged_list = []\n",
    "    for (motif, peak_id), group in df.groupby(['motif', 'peak_id']):\n",
    "        current = None\n",
    "        for idx, row in group.iterrows():\n",
    "            if current is None:\n",
    "                current = row[[\"chr\", \"start\", \"end\", \"peak_id\", \"peak_name\", \"motif\"]].copy()\n",
    "            else:\n",
    "                if row['chr'] == current['chr'] and row['start'] <= current['end']:\n",
    "                    current['end'] = max(current['end'], row['end'])\n",
    "                else:\n",
    "                    merged_list.append(current)\n",
    "                    current = row[[\"chr\", \"start\", \"end\", \"peak_id\", \"peak_name\", \"motif\"]].copy()\n",
    "        if current is not None:\n",
    "            merged_list.append(current)\n",
    "\n",
    "    return pd.DataFrame(merged_list)"
   ]
  },
  {
   "cell_type": "code",
   "execution_count": 43,
   "id": "35c52b7d-3420-405b-a520-79d3d8d9db35",
   "metadata": {
    "execution": {
     "iopub.execute_input": "2025-09-24T19:11:29.416556Z",
     "iopub.status.busy": "2025-09-24T19:11:29.416100Z",
     "iopub.status.idle": "2025-09-24T19:20:24.628682Z",
     "shell.execute_reply": "2025-09-24T19:20:24.627663Z",
     "shell.execute_reply.started": "2025-09-24T19:11:29.416529Z"
    }
   },
   "outputs": [
    {
     "data": {
      "text/html": [
       "<div>\n",
       "<style scoped>\n",
       "    .dataframe tbody tr th:only-of-type {\n",
       "        vertical-align: middle;\n",
       "    }\n",
       "\n",
       "    .dataframe tbody tr th {\n",
       "        vertical-align: top;\n",
       "    }\n",
       "\n",
       "    .dataframe thead th {\n",
       "        text-align: right;\n",
       "    }\n",
       "</style>\n",
       "<table border=\"1\" class=\"dataframe\">\n",
       "  <thead>\n",
       "    <tr style=\"text-align: right;\">\n",
       "      <th></th>\n",
       "      <th>chr</th>\n",
       "      <th>start</th>\n",
       "      <th>end</th>\n",
       "      <th>peak_id</th>\n",
       "      <th>peak_name</th>\n",
       "      <th>motif</th>\n",
       "    </tr>\n",
       "  </thead>\n",
       "  <tbody>\n",
       "    <tr>\n",
       "      <th>140</th>\n",
       "      <td>chr1</td>\n",
       "      <td>967005</td>\n",
       "      <td>967018</td>\n",
       "      <td>20</td>\n",
       "      <td>chr1_966894_967159</td>\n",
       "      <td>AP1</td>\n",
       "    </tr>\n",
       "    <tr>\n",
       "      <th>252</th>\n",
       "      <td>chr1</td>\n",
       "      <td>1019238</td>\n",
       "      <td>1019251</td>\n",
       "      <td>36</td>\n",
       "      <td>chr1_1019552_1019785</td>\n",
       "      <td>AP1</td>\n",
       "    </tr>\n",
       "  </tbody>\n",
       "</table>\n",
       "</div>"
      ],
      "text/plain": [
       "      chr    start      end  peak_id             peak_name motif\n",
       "140  chr1   967005   967018       20    chr1_966894_967159   AP1\n",
       "252  chr1  1019238  1019251       36  chr1_1019552_1019785   AP1"
      ]
     },
     "execution_count": 43,
     "metadata": {},
     "output_type": "execute_result"
    }
   ],
   "source": [
    "final_df = merge_intervals(df_merged)\n",
    "final_df.head(2)"
   ]
  },
  {
   "cell_type": "code",
   "execution_count": 45,
   "id": "c59d54c6-f2f6-452e-bcd5-90a74d7e8c75",
   "metadata": {
    "execution": {
     "iopub.execute_input": "2025-09-24T19:21:29.816340Z",
     "iopub.status.busy": "2025-09-24T19:21:29.815903Z",
     "iopub.status.idle": "2025-09-24T19:22:19.887324Z",
     "shell.execute_reply": "2025-09-24T19:22:19.886055Z",
     "shell.execute_reply.started": "2025-09-24T19:21:29.816297Z"
    },
    "scrolled": true
   },
   "outputs": [],
   "source": [
    "# Peak ID, motif start, motif end\n",
    "\n",
    "motif_pos = defaultdict(list)\n",
    "for motif in motif_order:\n",
    "\tdf = final_df[final_df[\"motif\"]==motif]\n",
    "\tfor _, row in df.iterrows():\n",
    "\t\tchrom, start, end = row[\"peak_name\"].split(\"_\")\n",
    "\t\tcenter = (int(start)+int(end))//2\n",
    "\t\trel_start = row[\"start\"]-(center-2114//2)\n",
    "\t\trel_end = row[\"end\"]-(center-2114//2)\n",
    "\t\tmotif_pos[motif].append([row[\"peak_id\"], rel_start, rel_end])"
   ]
  },
  {
   "cell_type": "markdown",
   "id": "2c250d75-8f3b-4ab8-bbc4-5e87470cfd25",
   "metadata": {},
   "source": [
    "## Pairwise comparison"
   ]
  },
  {
   "cell_type": "code",
   "execution_count": 39,
   "id": "008911e1-42fb-4a63-83ec-14aa4bbb5528",
   "metadata": {
    "execution": {
     "iopub.execute_input": "2025-09-24T19:03:52.649063Z",
     "iopub.status.busy": "2025-09-24T19:03:52.648509Z",
     "iopub.status.idle": "2025-09-24T19:03:57.371952Z",
     "shell.execute_reply": "2025-09-24T19:03:57.370877Z",
     "shell.execute_reply.started": "2025-09-24T19:03:52.649030Z"
    }
   },
   "outputs": [],
   "source": [
    "model_type = \"strand_merged_umap\"\n",
    "scores = {\"procapnet\": np.load(f\"{PROJECT_DIR_o}procapnet/deepshap_out/{s}/{model_type}/merged/all_counts_deepshap.npy\"),\n",
    "\t\t  \"chrombpnet\": np.load(f\"{PROJECT_DIR_o}procapnet/finemo/{s}/chrombpnet_scores/contrib/GSE267154.counts_scores.mean.npy\")\n",
    "\t\t }"
   ]
  },
  {
   "cell_type": "code",
   "execution_count": 50,
   "id": "64df0fd6-3ee0-4991-aaf6-2dac2f6489d0",
   "metadata": {
    "execution": {
     "iopub.execute_input": "2025-09-24T19:27:59.513283Z",
     "iopub.status.busy": "2025-09-24T19:27:59.512300Z",
     "iopub.status.idle": "2025-09-24T19:28:05.038703Z",
     "shell.execute_reply": "2025-09-24T19:28:05.037792Z",
     "shell.execute_reply.started": "2025-09-24T19:27:59.513237Z"
    }
   },
   "outputs": [
    {
     "data": {
      "text/html": [
       "<div>\n",
       "<style scoped>\n",
       "    .dataframe tbody tr th:only-of-type {\n",
       "        vertical-align: middle;\n",
       "    }\n",
       "\n",
       "    .dataframe tbody tr th {\n",
       "        vertical-align: top;\n",
       "    }\n",
       "\n",
       "    .dataframe thead th {\n",
       "        text-align: right;\n",
       "    }\n",
       "</style>\n",
       "<table border=\"1\" class=\"dataframe\">\n",
       "  <thead>\n",
       "    <tr style=\"text-align: right;\">\n",
       "      <th></th>\n",
       "      <th>motif</th>\n",
       "      <th>procapnet score</th>\n",
       "      <th>chrombpnet score</th>\n",
       "    </tr>\n",
       "  </thead>\n",
       "  <tbody>\n",
       "    <tr>\n",
       "      <th>0</th>\n",
       "      <td>SP</td>\n",
       "      <td>0.005033</td>\n",
       "      <td>0.021698</td>\n",
       "    </tr>\n",
       "    <tr>\n",
       "      <th>1</th>\n",
       "      <td>SP</td>\n",
       "      <td>0.042631</td>\n",
       "      <td>0.051910</td>\n",
       "    </tr>\n",
       "  </tbody>\n",
       "</table>\n",
       "</div>"
      ],
      "text/plain": [
       "  motif  procapnet score  chrombpnet score\n",
       "0    SP         0.005033          0.021698\n",
       "1    SP         0.042631          0.051910"
      ]
     },
     "execution_count": 50,
     "metadata": {},
     "output_type": "execute_result"
    }
   ],
   "source": [
    "# Get the sum of contribution scores in each motif instance from both models\n",
    "\n",
    "results = []\n",
    "for motif, motif_data in motif_pos.items():\n",
    "    procapnet_sums = [scores[\"procapnet\"][n, :, start:end].sum() for n, start, end in motif_data]\n",
    "    chrombpnet_sums = [scores[\"chrombpnet\"][n, :, start:end].sum() for n, start, end in motif_data]\n",
    "\n",
    "    results.extend(\n",
    "        zip([motif] * len(motif_data),\n",
    "            procapnet_sums,\n",
    "            chrombpnet_sums\n",
    "        )\n",
    "    )\n",
    "df_scores = pd.DataFrame(results, columns=[\"motif\", \"procapnet score\", \"chrombpnet score\"])\n",
    "df_scores.head(2)"
   ]
  },
  {
   "cell_type": "code",
   "execution_count": 90,
   "id": "fbbc1cc2-f35d-4bfe-9227-b3b769f762f7",
   "metadata": {
    "execution": {
     "iopub.execute_input": "2025-09-24T19:51:02.632149Z",
     "iopub.status.busy": "2025-09-24T19:51:02.631651Z",
     "iopub.status.idle": "2025-09-24T19:51:02.640118Z",
     "shell.execute_reply": "2025-09-24T19:51:02.639383Z",
     "shell.execute_reply.started": "2025-09-24T19:51:02.632115Z"
    }
   },
   "outputs": [],
   "source": [
    "def plot_one_motif(df, motif, ax, xlabel, ylabel, xlims=None, ylims=None, same=True):\n",
    "\tg = sns.scatterplot(data=df, x=\"chrombpnet score\", y=\"procapnet score\", alpha=0.5, s=0.5, ax=ax)\n",
    "\tg.set_title(motif, fontsize=bfontsize)\n",
    "\tg.spines[[\"top\",\"right\"]].set_visible(False)\n",
    "\t\n",
    "\tcorr, _ = stats.pearsonr(list(df[\"chrombpnet score\"]), list(df[\"procapnet score\"]))\n",
    "\tg.text(s=f\"r={round(corr, 2)}\", x=0.8, y=0.8, fontsize=sfontsize, color=\"red\")\n",
    "\n",
    "\tif xlabel:\n",
    "\t\tg.set_xlabel(\"Contribution score \\n(ChromBPNet)\", fontsize=bfontsize)\n",
    "\telse:\n",
    "\t\tg.set_xlabel(\"\")\n",
    "\n",
    "\tif ylabel:\n",
    "\t\tg.set_ylabel(\"Contribution score \\n(ProCapNet)\", fontsize=bfontsize)\n",
    "\t\tg.yaxis.set_label_coords(-0.2,0.5)\n",
    "\telse:\n",
    "\t\tg.set_ylabel(\"\")\n",
    "\n",
    "\tg.set_xticks([0,1])\n",
    "\tg.set_xlim([-0.3,1.3])\n",
    "\tg.set_yticks([0,1])\n",
    "\tg.set_ylim([-0.3,1.3])\n",
    "\tg.tick_params(labelsize=sfontsize)"
   ]
  },
  {
   "cell_type": "code",
   "execution_count": 64,
   "id": "d3195c5b-9595-49b0-a30d-01044d9d0da2",
   "metadata": {
    "execution": {
     "iopub.execute_input": "2025-09-24T19:34:41.179538Z",
     "iopub.status.busy": "2025-09-24T19:34:41.179092Z",
     "iopub.status.idle": "2025-09-24T19:34:41.183246Z",
     "shell.execute_reply": "2025-09-24T19:34:41.182500Z",
     "shell.execute_reply.started": "2025-09-24T19:34:41.179511Z"
    }
   },
   "outputs": [],
   "source": [
    "candidate_motifs = [\"NRF1\", \"CREB\",\n",
    "\t\t\t\t\t\"SRF\", \"YY1\",\n",
    "\t\t\t\t\t\"CTCF\", \"SIX\"\n",
    "\t\t\t\t   ]"
   ]
  },
  {
   "cell_type": "code",
   "execution_count": 91,
   "id": "b3ea7e1d-af7e-4ca5-8154-8c90f734a377",
   "metadata": {
    "execution": {
     "iopub.execute_input": "2025-09-24T19:51:03.998178Z",
     "iopub.status.busy": "2025-09-24T19:51:03.997693Z",
     "iopub.status.idle": "2025-09-24T19:51:05.633584Z",
     "shell.execute_reply": "2025-09-24T19:51:05.632731Z",
     "shell.execute_reply.started": "2025-09-24T19:51:03.998148Z"
    },
    "scrolled": true
   },
   "outputs": [
    {
     "data": {
      "image/png": "[encoded data removed]",
      "text/plain": [
       "<Figure size 430x540 with 6 Axes>"
      ]
     },
     "metadata": {},
     "output_type": "display_data"
    }
   ],
   "source": [
    "fig, ax = plt.subplots(3,2,figsize=(4.3,5.4))\n",
    "\n",
    "for motif in candidate_motifs:\n",
    "\trow = candidate_motifs.index(motif) // 2\n",
    "\tcol = candidate_motifs.index(motif) % 2\n",
    "\txlabel = True if row == 2 else False\n",
    "\tylabel = True if col == 0 else False\n",
    "\tplot_one_motif(df_scores[df_scores[\"motif\"]==motif], motif, ax[row,col], xlabel, ylabel)\n",
    "\n",
    "plt.subplots_adjust(hspace=0.5, wspace=0.3)\n",
    "plt.savefig(f\"{PROJECT_DIR_o}figures/ExtDataFig2e.png\", bbox_inches=\"tight\", dpi=300, transparent=True)"
   ]
  },
  {
   "cell_type": "code",
   "execution_count": null,
   "id": "914acfcb-5a98-48af-81c5-4e41bd027904",
   "metadata": {},
   "outputs": [],
   "source": []
  }
 ],
 "metadata": {
  "kernelspec": {
   "display_name": "Python 3 (ipykernel)",
   "language": "python",
   "name": "python3"
  },
  "language_info": {
   "codemirror_mode": {
    "name": "ipython",
    "version": 3
   },
   "file_extension": ".py",
   "mimetype": "text/x-python",
   "name": "python",
   "nbconvert_exporter": "python",
   "pygments_lexer": "ipython3",
   "version": "3.10.8"
  }
 },
 "nbformat": 4,
 "nbformat_minor": 5
}
