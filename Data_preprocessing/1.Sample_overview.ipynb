{
 "cells": [
  {
   "cell_type": "code",
   "execution_count": 1,
   "id": "180a7fcc-f1dd-482d-b1fb-1a5f8fee74a4",
   "metadata": {
    "execution": {
     "iopub.execute_input": "2025-09-19T01:27:51.755886Z",
     "iopub.status.busy": "2025-09-19T01:27:51.755569Z",
     "iopub.status.idle": "2025-09-19T01:27:54.326327Z",
     "shell.execute_reply": "2025-09-19T01:27:54.325037Z",
     "shell.execute_reply.started": "2025-09-19T01:27:51.755848Z"
    },
    "scrolled": true
   },
   "outputs": [],
   "source": [
    "import pandas as pd\n",
    "from collections import Counter, defaultdict\n",
    "from biodatatools.utils.common import json_dump\n",
    "import matplotlib\n",
    "import matplotlib.pyplot as plt\n",
    "import seaborn as sns\n",
    "import numpy as np\n",
    "from pathlib import Path"
   ]
  },
  {
   "cell_type": "code",
   "execution_count": 2,
   "id": "8794e236-6718-4f17-992b-3a4d495adff4",
   "metadata": {
    "execution": {
     "iopub.execute_input": "2025-09-19T01:27:54.354935Z",
     "iopub.status.busy": "2025-09-19T01:27:54.354532Z",
     "iopub.status.idle": "2025-09-19T01:27:54.366305Z",
     "shell.execute_reply": "2025-09-19T01:27:54.365608Z",
     "shell.execute_reply.started": "2025-09-19T01:27:54.354901Z"
    }
   },
   "outputs": [],
   "source": [
    "font_dir = Path.cwd().parent / \"font\"\n",
    "for font in [\"Arial.ttf\", \"Arial_Bold.ttf\"]:\n",
    "    matplotlib.font_manager.fontManager.addfont(font_dir / font)\n",
    "matplotlib.rcParams[\"font.family\"] = \"Arial\"\n",
    "bfontsize = 12\n",
    "sfontsize = 9"
   ]
  },
  {
   "cell_type": "code",
   "execution_count": 3,
   "id": "9aa2dd90-b714-4a3a-8251-7d7b08c04d19",
   "metadata": {
    "execution": {
     "iopub.execute_input": "2025-09-19T01:27:57.039803Z",
     "iopub.status.busy": "2025-09-19T01:27:57.039035Z",
     "iopub.status.idle": "2025-09-19T01:28:12.406870Z",
     "shell.execute_reply": "2025-09-19T01:28:12.405818Z",
     "shell.execute_reply.started": "2025-09-19T01:27:57.039760Z"
    }
   },
   "outputs": [],
   "source": [
    "PROJECT_DIR_d = \"/home/yc2553/projects/HEA/databases/\"\n",
    "PROJECT_DIR_o = \"/home/yc2553/projects/HEA/output/\""
   ]
  },
  {
   "cell_type": "markdown",
   "id": "c1a2d3e5-f5d6-4ce5-851e-c409b9957d28",
   "metadata": {},
   "source": [
    "# QC metrics"
   ]
  },
  {
   "cell_type": "markdown",
   "id": "7e694e51-2e32-43cd-b0d2-0fff49efed9c",
   "metadata": {},
   "source": [
    "## No. replicates"
   ]
  },
  {
   "cell_type": "code",
   "execution_count": 4,
   "id": "4e1da76d-6ee3-4ccc-bf24-dba730e340e6",
   "metadata": {
    "execution": {
     "iopub.execute_input": "2025-09-19T01:28:12.408919Z",
     "iopub.status.busy": "2025-09-19T01:28:12.408468Z",
     "iopub.status.idle": "2025-09-19T01:28:13.702559Z",
     "shell.execute_reply": "2025-09-19T01:28:13.701535Z",
     "shell.execute_reply.started": "2025-09-19T01:28:12.408883Z"
    }
   },
   "outputs": [],
   "source": [
    "metafile = f\"{PROJECT_DIR_o}tables/SuppTable1.xlsx\""
   ]
  },
  {
   "cell_type": "code",
   "execution_count": 6,
   "id": "1791e650-adde-4b99-8281-92e8ff8f5b03",
   "metadata": {
    "execution": {
     "iopub.execute_input": "2025-09-19T01:28:24.237600Z",
     "iopub.status.busy": "2025-09-19T01:28:24.237092Z",
     "iopub.status.idle": "2025-09-19T01:28:24.297921Z",
     "shell.execute_reply": "2025-09-19T01:28:24.297255Z",
     "shell.execute_reply.started": "2025-09-19T01:28:24.237570Z"
    }
   },
   "outputs": [
    {
     "data": {
      "text/html": [
       "<div>\n",
       "<style scoped>\n",
       "    .dataframe tbody tr th:only-of-type {\n",
       "        vertical-align: middle;\n",
       "    }\n",
       "\n",
       "    .dataframe tbody tr th {\n",
       "        vertical-align: top;\n",
       "    }\n",
       "\n",
       "    .dataframe thead th {\n",
       "        text-align: right;\n",
       "    }\n",
       "</style>\n",
       "<table border=\"1\" class=\"dataframe\">\n",
       "  <thead>\n",
       "    <tr style=\"text-align: right;\">\n",
       "      <th></th>\n",
       "      <th>PRO-cap sample ID</th>\n",
       "      <th>Replicate ID</th>\n",
       "      <th>Replicate Type</th>\n",
       "      <th>Prep time</th>\n",
       "      <th>Procedure</th>\n",
       "      <th>Permeabilized</th>\n",
       "    </tr>\n",
       "  </thead>\n",
       "  <tbody>\n",
       "    <tr>\n",
       "      <th>0</th>\n",
       "      <td>T1D15</td>\n",
       "      <td>T1D15</td>\n",
       "      <td>NaN</td>\n",
       "      <td>NaN</td>\n",
       "      <td>Blood</td>\n",
       "      <td>No</td>\n",
       "    </tr>\n",
       "    <tr>\n",
       "      <th>1</th>\n",
       "      <td>T1D18</td>\n",
       "      <td>T1D18</td>\n",
       "      <td>NaN</td>\n",
       "      <td>NaN</td>\n",
       "      <td>Blood</td>\n",
       "      <td>No</td>\n",
       "    </tr>\n",
       "  </tbody>\n",
       "</table>\n",
       "</div>"
      ],
      "text/plain": [
       "  PRO-cap sample ID Replicate ID Replicate Type Prep time Procedure  \\\n",
       "0             T1D15        T1D15            NaN       NaN     Blood   \n",
       "1             T1D18        T1D18            NaN       NaN     Blood   \n",
       "\n",
       "  Permeabilized  \n",
       "0            No  \n",
       "1            No  "
      ]
     },
     "execution_count": 6,
     "metadata": {},
     "output_type": "execute_result"
    }
   ],
   "source": [
    "df_exp = pd.read_excel(metafile, sheet_name=1)\n",
    "df_exp.head(2)"
   ]
  },
  {
   "cell_type": "code",
   "execution_count": 20,
   "id": "f1421db4-5045-4980-b06b-22e9d3fec07f",
   "metadata": {
    "execution": {
     "iopub.execute_input": "2025-09-19T01:37:37.367428Z",
     "iopub.status.busy": "2025-09-19T01:37:37.366930Z",
     "iopub.status.idle": "2025-09-19T01:37:37.382353Z",
     "shell.execute_reply": "2025-09-19T01:37:37.381393Z",
     "shell.execute_reply.started": "2025-09-19T01:37:37.367398Z"
    }
   },
   "outputs": [],
   "source": [
    "# No. replicates per sample\n",
    "\n",
    "reps = {}\n",
    "for _, row in df_exp.iterrows():\n",
    "\treps[row[\"PRO-cap sample ID\"]] = row[\"Replicate ID\"].split(\";\")"
   ]
  },
  {
   "cell_type": "code",
   "execution_count": 24,
   "id": "e1a8bce1-2ff1-44f8-9fda-4c88fbef62cb",
   "metadata": {
    "execution": {
     "iopub.execute_input": "2025-09-19T01:38:57.106408Z",
     "iopub.status.busy": "2025-09-19T01:38:57.105947Z",
     "iopub.status.idle": "2025-09-19T01:38:57.494894Z",
     "shell.execute_reply": "2025-09-19T01:38:57.494076Z",
     "shell.execute_reply.started": "2025-09-19T01:38:57.106381Z"
    }
   },
   "outputs": [
    {
     "data": {
      "image/png": "[encoded data removed]",
      "text/plain": [
       "<Figure size 200x220 with 1 Axes>"
      ]
     },
     "metadata": {},
     "output_type": "display_data"
    }
   ],
   "source": [
    "counts = Counter([len(reps[s]) for s in reps])\n",
    "df = pd.DataFrame(list(counts.items()), columns=[\"Value\", \"Count\"])\n",
    "fig, ax = plt.subplots(figsize=(2,2.2))\n",
    "g = sns.barplot(data=df, x=\"Value\", y=\"Count\", color=\"skyblue\", ax=ax)\n",
    "for patch in g.patches:\n",
    "    g.annotate(f'{int(patch.get_height())}', \n",
    "                (patch.get_x() + patch.get_width() / 2., patch.get_height()), \n",
    "                ha='center', va='bottom', fontsize=sfontsize)\n",
    "g.set_xlabel(\"No. replicates\", fontsize=bfontsize)\n",
    "g.set_ylabel(\"No. samples\", fontsize=bfontsize)\n",
    "g.spines[[\"top\", \"right\"]].set_visible(False)\n",
    "g.tick_params(labelsize=sfontsize)\n",
    "plt.savefig(f\"{PROJECT_DIR_o}figures/SuppFig1a.pdf\", bbox_inches=\"tight\", transparent=True)"
   ]
  },
  {
   "cell_type": "markdown",
   "id": "bf0f43e9-9115-458e-acce-d4d8ac325a61",
   "metadata": {},
   "source": [
    "## Correlation between replicates"
   ]
  },
  {
   "cell_type": "code",
   "execution_count": 7,
   "id": "52dd8312-b017-45f9-adc5-b6ac53802442",
   "metadata": {
    "execution": {
     "iopub.execute_input": "2025-09-19T01:28:30.333591Z",
     "iopub.status.busy": "2025-09-19T01:28:30.332642Z",
     "iopub.status.idle": "2025-09-19T01:28:30.413462Z",
     "shell.execute_reply": "2025-09-19T01:28:30.412636Z",
     "shell.execute_reply.started": "2025-09-19T01:28:30.333542Z"
    }
   },
   "outputs": [
    {
     "data": {
      "text/html": [
       "<div>\n",
       "<style scoped>\n",
       "    .dataframe tbody tr th:only-of-type {\n",
       "        vertical-align: middle;\n",
       "    }\n",
       "\n",
       "    .dataframe tbody tr th {\n",
       "        vertical-align: top;\n",
       "    }\n",
       "\n",
       "    .dataframe thead th {\n",
       "        text-align: right;\n",
       "    }\n",
       "</style>\n",
       "<table border=\"1\" class=\"dataframe\">\n",
       "  <thead>\n",
       "    <tr style=\"text-align: right;\">\n",
       "      <th></th>\n",
       "      <th>PRO-cap sample ID</th>\n",
       "      <th>Uniquely mapped read pairs</th>\n",
       "      <th>Uniquely mapped, deduplicated read pairs</th>\n",
       "      <th>Replicate correlation</th>\n",
       "      <th>Median RNA length</th>\n",
       "      <th>Gene body ratio</th>\n",
       "      <th>Divergent elements - Proximal</th>\n",
       "      <th>Divergent elements - Distal Intragenic</th>\n",
       "      <th>Divergent elements - Distal Intergenic</th>\n",
       "      <th>Unidirectional elements - Proximal</th>\n",
       "      <th>Unidirectional elements - Distal Intragenic</th>\n",
       "      <th>Unidirectional elements - Distal Intergenic</th>\n",
       "      <th>Pass</th>\n",
       "    </tr>\n",
       "  </thead>\n",
       "  <tbody>\n",
       "    <tr>\n",
       "      <th>0</th>\n",
       "      <td>T1D15</td>\n",
       "      <td>27966550</td>\n",
       "      <td>18513038.0</td>\n",
       "      <td>NaN</td>\n",
       "      <td>46</td>\n",
       "      <td>0.004971</td>\n",
       "      <td>12809</td>\n",
       "      <td>1354</td>\n",
       "      <td>3424</td>\n",
       "      <td>6299</td>\n",
       "      <td>1149</td>\n",
       "      <td>2695</td>\n",
       "      <td>True</td>\n",
       "    </tr>\n",
       "    <tr>\n",
       "      <th>1</th>\n",
       "      <td>T1D18</td>\n",
       "      <td>28540998</td>\n",
       "      <td>17268067.0</td>\n",
       "      <td>NaN</td>\n",
       "      <td>41</td>\n",
       "      <td>0.005483</td>\n",
       "      <td>12803</td>\n",
       "      <td>1312</td>\n",
       "      <td>3133</td>\n",
       "      <td>6024</td>\n",
       "      <td>1243</td>\n",
       "      <td>2883</td>\n",
       "      <td>True</td>\n",
       "    </tr>\n",
       "  </tbody>\n",
       "</table>\n",
       "</div>"
      ],
      "text/plain": [
       "  PRO-cap sample ID  Uniquely mapped read pairs  \\\n",
       "0             T1D15                    27966550   \n",
       "1             T1D18                    28540998   \n",
       "\n",
       "   Uniquely mapped, deduplicated read pairs Replicate correlation  \\\n",
       "0                                18513038.0                   NaN   \n",
       "1                                17268067.0                   NaN   \n",
       "\n",
       "   Median RNA length  Gene body ratio  Divergent elements - Proximal  \\\n",
       "0                 46         0.004971                          12809   \n",
       "1                 41         0.005483                          12803   \n",
       "\n",
       "   Divergent elements - Distal Intragenic  \\\n",
       "0                                    1354   \n",
       "1                                    1312   \n",
       "\n",
       "   Divergent elements - Distal Intergenic  Unidirectional elements - Proximal  \\\n",
       "0                                    3424                                6299   \n",
       "1                                    3133                                6024   \n",
       "\n",
       "   Unidirectional elements - Distal Intragenic  \\\n",
       "0                                         1149   \n",
       "1                                         1243   \n",
       "\n",
       "   Unidirectional elements - Distal Intergenic  Pass  \n",
       "0                                         2695  True  \n",
       "1                                         2883  True  "
      ]
     },
     "execution_count": 7,
     "metadata": {},
     "output_type": "execute_result"
    }
   ],
   "source": [
    "df_metrics = pd.read_excel(metafile, sheet_name=2)\n",
    "df_metrics.head(2)"
   ]
  },
  {
   "cell_type": "code",
   "execution_count": 25,
   "id": "ffc6b91e-0396-47cb-bf1b-a2a9ec35782a",
   "metadata": {
    "execution": {
     "iopub.execute_input": "2025-09-19T01:40:38.006923Z",
     "iopub.status.busy": "2025-09-19T01:40:38.006316Z",
     "iopub.status.idle": "2025-09-19T01:40:38.014540Z",
     "shell.execute_reply": "2025-09-19T01:40:38.013532Z",
     "shell.execute_reply.started": "2025-09-19T01:40:38.006889Z"
    }
   },
   "outputs": [],
   "source": [
    "def plot_distribution(values, xlabel, text_x, text_y, outputfile):\n",
    "\tfig, ax = plt.subplots(figsize=(2.8,2))\n",
    "\tg = sns.histplot(values, bins=20, kde=False, color=\"skyblue\", edgecolor=\"black\", ax=ax)\n",
    "\tg.spines[[\"top\", \"right\"]].set_visible(False)\n",
    "\tg.set_xlabel(xlabel, fontsize=bfontsize)\n",
    "\tg.set_ylabel(\"No. samples\", fontsize=bfontsize)\n",
    "\tg.tick_params(labelsize=sfontsize)\n",
    "\tg.axvline(x=np.median(values), ls=\"--\", c=\"r\")\n",
    "\tg.text(x=text_x, y=text_y, s=f\"median={round(np.median(values),3)}\", fontsize=sfontsize, c=\"r\")\n",
    "\tplt.savefig(outputfile, bbox_inches=\"tight\", transparent=True)"
   ]
  },
  {
   "cell_type": "code",
   "execution_count": 26,
   "id": "6701eabb-16f3-457c-a1f8-8850f0148771",
   "metadata": {
    "execution": {
     "iopub.execute_input": "2025-09-19T01:44:46.645037Z",
     "iopub.status.busy": "2025-09-19T01:44:46.643318Z",
     "iopub.status.idle": "2025-09-19T01:44:46.731492Z",
     "shell.execute_reply": "2025-09-19T01:44:46.730618Z",
     "shell.execute_reply.started": "2025-09-19T01:44:46.644984Z"
    }
   },
   "outputs": [],
   "source": [
    "corrs = []\n",
    "for _, row in df_metrics.iterrows():\n",
    "\ts = row[\"PRO-cap sample ID\"]\n",
    "\tif len(reps[s]) >= 2:\n",
    "\t\tif type(row[\"Replicate correlation\"]) == str:\n",
    "\t\t\tcorrs.extend([float(corr) for corr in row[\"Replicate correlation\"].split(\";\")])\n",
    "\t\telse:\n",
    "\t\t\tcorrs.append(row[\"Replicate correlation\"])"
   ]
  },
  {
   "cell_type": "code",
   "execution_count": 32,
   "id": "09a601c1-5244-478a-93f1-33e297f59382",
   "metadata": {
    "execution": {
     "iopub.execute_input": "2025-09-19T01:47:17.705826Z",
     "iopub.status.busy": "2025-09-19T01:47:17.705331Z",
     "iopub.status.idle": "2025-09-19T01:47:17.957157Z",
     "shell.execute_reply": "2025-09-19T01:47:17.956363Z",
     "shell.execute_reply.started": "2025-09-19T01:47:17.705797Z"
    }
   },
   "outputs": [
    {
     "data": {
      "image/png": "[encoded data removed]",
      "text/plain": [
       "<Figure size 280x200 with 1 Axes>"
      ]
     },
     "metadata": {},
     "output_type": "display_data"
    }
   ],
   "source": [
    "outputfile = f\"{PROJECT_DIR_o}figures/SuppFig1b.pdf\"\n",
    "plot_distribution(corrs, \"Correlation between replicates\", 0.75, 40, outputfile)"
   ]
  },
  {
   "cell_type": "markdown",
   "id": "f82481c8-883e-415c-893f-e45e3039966a",
   "metadata": {},
   "source": [
    "## Deduplicated reads"
   ]
  },
  {
   "cell_type": "code",
   "execution_count": 35,
   "id": "5c1cd45a-46ad-4e54-8ef7-262c5de101b0",
   "metadata": {
    "execution": {
     "iopub.execute_input": "2025-09-19T01:48:59.867427Z",
     "iopub.status.busy": "2025-09-19T01:48:59.866851Z",
     "iopub.status.idle": "2025-09-19T01:48:59.884648Z",
     "shell.execute_reply": "2025-09-19T01:48:59.883866Z",
     "shell.execute_reply.started": "2025-09-19T01:48:59.867377Z"
    }
   },
   "outputs": [],
   "source": [
    "reads = []\n",
    "for _, row in df_metrics.iterrows():\n",
    "\tif not np.isnan(row[\"Uniquely mapped, deduplicated read pairs\"]):\n",
    "\t\treads.append(row[\"Uniquely mapped, deduplicated read pairs\"]/1e6)"
   ]
  },
  {
   "cell_type": "code",
   "execution_count": 36,
   "id": "b67c1bc4-c5bd-4b78-86de-20b40a7d6249",
   "metadata": {
    "execution": {
     "iopub.execute_input": "2025-09-19T01:49:00.309216Z",
     "iopub.status.busy": "2025-09-19T01:49:00.308682Z",
     "iopub.status.idle": "2025-09-19T01:49:01.478998Z",
     "shell.execute_reply": "2025-09-19T01:49:01.478225Z",
     "shell.execute_reply.started": "2025-09-19T01:49:00.309180Z"
    }
   },
   "outputs": [
    {
     "data": {
      "image/png": "[encoded data removed]",
      "text/plain": [
       "<Figure size 280x200 with 1 Axes>"
      ]
     },
     "metadata": {},
     "output_type": "display_data"
    }
   ],
   "source": [
    "outputfile = f\"{PROJECT_DIR_o}figures/SuppFig1c.pdf\"\n",
    "plot_distribution(reads, \"Deduplicated reads (M)\", 40, 30, outputfile)"
   ]
  },
  {
   "cell_type": "markdown",
   "id": "53cf5dc5-3f00-45af-b7c2-8b0c36201437",
   "metadata": {},
   "source": [
    "## Median RNA length"
   ]
  },
  {
   "cell_type": "code",
   "execution_count": 39,
   "id": "4badf4de-ac2d-4724-b3ee-298cd65e33b9",
   "metadata": {
    "execution": {
     "iopub.execute_input": "2025-09-19T01:53:34.771539Z",
     "iopub.status.busy": "2025-09-19T01:53:34.771036Z",
     "iopub.status.idle": "2025-09-19T01:53:53.404486Z",
     "shell.execute_reply": "2025-09-19T01:53:53.403626Z",
     "shell.execute_reply.started": "2025-09-19T01:53:34.771509Z"
    }
   },
   "outputs": [
    {
     "data": {
      "image/png": "[encoded data removed]",
      "text/plain": [
       "<Figure size 280x200 with 1 Axes>"
      ]
     },
     "metadata": {},
     "output_type": "display_data"
    }
   ],
   "source": [
    "lengths = [row[\"Median RNA length\"] for _, row in df_metrics.iterrows()]\n",
    "outputfile = f\"{PROJECT_DIR_o}figures/SuppFig1d.pdf\"\n",
    "plot_distribution(lengths, \"Median RNA length (bp)\", 40, 20, outputfile)"
   ]
  },
  {
   "cell_type": "markdown",
   "id": "b5085549-e7bf-4550-9406-f238a7f6574a",
   "metadata": {},
   "source": [
    "## Gene body ratio"
   ]
  },
  {
   "cell_type": "code",
   "execution_count": 38,
   "id": "2de6c103-d699-4d95-ac8e-1874b6c455de",
   "metadata": {
    "execution": {
     "iopub.execute_input": "2025-09-19T01:53:33.339622Z",
     "iopub.status.busy": "2025-09-19T01:53:33.339158Z",
     "iopub.status.idle": "2025-09-19T01:53:33.569618Z",
     "shell.execute_reply": "2025-09-19T01:53:33.568796Z",
     "shell.execute_reply.started": "2025-09-19T01:53:33.339596Z"
    }
   },
   "outputs": [
    {
     "data": {
      "image/png": "[encoded data removed]",
      "text/plain": [
       "<Figure size 280x200 with 1 Axes>"
      ]
     },
     "metadata": {},
     "output_type": "display_data"
    }
   ],
   "source": [
    "ratios = [row[\"Gene body ratio\"] for _, row in df_metrics.iterrows()]\n",
    "outputfile = f\"{PROJECT_DIR_o}figures/SuppFig1e.pdf\"\n",
    "plot_distribution(ratios, \"Gene body ratio\", 0.01, 40, outputfile)"
   ]
  },
  {
   "cell_type": "markdown",
   "id": "4702952e-9372-4dd6-99e5-0adedaacab49",
   "metadata": {},
   "source": [
    "# Samples"
   ]
  },
  {
   "cell_type": "code",
   "execution_count": 8,
   "id": "a9ee5a1d-d825-4c51-be6b-b9455025521d",
   "metadata": {
    "execution": {
     "iopub.execute_input": "2025-09-19T01:28:47.289200Z",
     "iopub.status.busy": "2025-09-19T01:28:47.288445Z",
     "iopub.status.idle": "2025-09-19T01:28:47.298460Z",
     "shell.execute_reply": "2025-09-19T01:28:47.297699Z",
     "shell.execute_reply.started": "2025-09-19T01:28:47.289162Z"
    }
   },
   "outputs": [
    {
     "data": {
      "text/plain": [
       "216"
      ]
     },
     "execution_count": 8,
     "metadata": {},
     "output_type": "execute_result"
    }
   ],
   "source": [
    "samples_keep = list(df_metrics[df_metrics[\"Pass\"]!=\"False\"][\"PRO-cap sample ID\"])\n",
    "len(samples_keep)"
   ]
  },
  {
   "cell_type": "code",
   "execution_count": 10,
   "id": "fa2d37d6-c964-4654-9a7c-9c19384fb700",
   "metadata": {
    "execution": {
     "iopub.execute_input": "2025-09-19T01:29:04.421272Z",
     "iopub.status.busy": "2025-09-19T01:29:04.420830Z",
     "iopub.status.idle": "2025-09-19T01:29:04.490201Z",
     "shell.execute_reply": "2025-09-19T01:29:04.489554Z",
     "shell.execute_reply.started": "2025-09-19T01:29:04.421247Z"
    }
   },
   "outputs": [
    {
     "data": {
      "text/html": [
       "<div>\n",
       "<style scoped>\n",
       "    .dataframe tbody tr th:only-of-type {\n",
       "        vertical-align: middle;\n",
       "    }\n",
       "\n",
       "    .dataframe tbody tr th {\n",
       "        vertical-align: top;\n",
       "    }\n",
       "\n",
       "    .dataframe thead th {\n",
       "        text-align: right;\n",
       "    }\n",
       "</style>\n",
       "<table border=\"1\" class=\"dataframe\">\n",
       "  <thead>\n",
       "    <tr style=\"text-align: right;\">\n",
       "      <th></th>\n",
       "      <th>PRO-cap sample ID</th>\n",
       "      <th>Internal group name</th>\n",
       "      <th>Sample name</th>\n",
       "      <th>Sample type</th>\n",
       "      <th>Primary site</th>\n",
       "      <th>Metastatic site</th>\n",
       "      <th>ENCODE Experiment ID</th>\n",
       "      <th>ENCODE Donor ID</th>\n",
       "      <th>ENCODE Biosample ID</th>\n",
       "      <th>GTEx/EN-Tex Donor ID</th>\n",
       "      <th>LeukoPak Donor Collection ID</th>\n",
       "      <th>BROAD Biosample IDs</th>\n",
       "      <th>CHTN/NCI Donor ID</th>\n",
       "      <th>Other collaborators</th>\n",
       "      <th>GEO ID</th>\n",
       "      <th>Age</th>\n",
       "      <th>Gender</th>\n",
       "      <th>Blood Type</th>\n",
       "    </tr>\n",
       "  </thead>\n",
       "  <tbody>\n",
       "    <tr>\n",
       "      <th>0</th>\n",
       "      <td>T1D15</td>\n",
       "      <td>T1D</td>\n",
       "      <td>T cells from T1D donor</td>\n",
       "      <td>Blood</td>\n",
       "      <td>NaN</td>\n",
       "      <td>NaN</td>\n",
       "      <td>NaN</td>\n",
       "      <td>NaN</td>\n",
       "      <td>NaN</td>\n",
       "      <td>NaN</td>\n",
       "      <td>NaN</td>\n",
       "      <td>NaN</td>\n",
       "      <td>NaN</td>\n",
       "      <td>NaN</td>\n",
       "      <td>NaN</td>\n",
       "      <td>19</td>\n",
       "      <td>F</td>\n",
       "      <td>NaN</td>\n",
       "    </tr>\n",
       "    <tr>\n",
       "      <th>1</th>\n",
       "      <td>T1D18</td>\n",
       "      <td>T1D</td>\n",
       "      <td>T cells from T1D donor</td>\n",
       "      <td>Blood</td>\n",
       "      <td>NaN</td>\n",
       "      <td>NaN</td>\n",
       "      <td>NaN</td>\n",
       "      <td>NaN</td>\n",
       "      <td>NaN</td>\n",
       "      <td>NaN</td>\n",
       "      <td>NaN</td>\n",
       "      <td>NaN</td>\n",
       "      <td>NaN</td>\n",
       "      <td>NaN</td>\n",
       "      <td>NaN</td>\n",
       "      <td>32</td>\n",
       "      <td>F</td>\n",
       "      <td>NaN</td>\n",
       "    </tr>\n",
       "  </tbody>\n",
       "</table>\n",
       "</div>"
      ],
      "text/plain": [
       "  PRO-cap sample ID Internal group name             Sample name Sample type  \\\n",
       "0             T1D15                 T1D  T cells from T1D donor       Blood   \n",
       "1             T1D18                 T1D  T cells from T1D donor       Blood   \n",
       "\n",
       "  Primary site Metastatic site ENCODE Experiment ID ENCODE Donor ID  \\\n",
       "0          NaN             NaN                  NaN             NaN   \n",
       "1          NaN             NaN                  NaN             NaN   \n",
       "\n",
       "  ENCODE Biosample ID GTEx/EN-Tex Donor ID  LeukoPak Donor Collection ID  \\\n",
       "0                 NaN                  NaN                           NaN   \n",
       "1                 NaN                  NaN                           NaN   \n",
       "\n",
       "  BROAD Biosample IDs CHTN/NCI Donor ID Other collaborators GEO ID Age Gender  \\\n",
       "0                 NaN               NaN                 NaN    NaN  19      F   \n",
       "1                 NaN               NaN                 NaN    NaN  32      F   \n",
       "\n",
       "  Blood Type  \n",
       "0        NaN  \n",
       "1        NaN  "
      ]
     },
     "execution_count": 10,
     "metadata": {},
     "output_type": "execute_result"
    }
   ],
   "source": [
    "df_samples = pd.read_excel(metafile, sheet_name=0)\n",
    "df_samples.head(2)"
   ]
  },
  {
   "cell_type": "code",
   "execution_count": 40,
   "id": "9f8f0069-bd36-4594-823f-c6d102fdf560",
   "metadata": {
    "execution": {
     "iopub.execute_input": "2025-09-19T15:01:17.044059Z",
     "iopub.status.busy": "2025-09-19T15:01:17.042897Z",
     "iopub.status.idle": "2025-09-19T15:01:17.614486Z",
     "shell.execute_reply": "2025-09-19T15:01:17.612612Z",
     "shell.execute_reply.started": "2025-09-19T15:01:17.043969Z"
    }
   },
   "outputs": [],
   "source": [
    "groups = defaultdict(list)\n",
    "for _, row in df_samples.iterrows():\n",
    "\ts = row[\"PRO-cap sample ID\"]\n",
    "\tif s in samples_keep:\n",
    "\t\tgroups[row[\"Internal group name\"]].append(row[\"PRO-cap sample ID\"])"
   ]
  },
  {
   "cell_type": "code",
   "execution_count": 41,
   "id": "5a47bb34-27a8-45d7-ae89-93985b1d57b7",
   "metadata": {
    "execution": {
     "iopub.execute_input": "2025-09-19T15:01:17.817404Z",
     "iopub.status.busy": "2025-09-19T15:01:17.816176Z",
     "iopub.status.idle": "2025-09-19T15:01:18.245684Z",
     "shell.execute_reply": "2025-09-19T15:01:18.243933Z",
     "shell.execute_reply.started": "2025-09-19T15:01:17.817313Z"
    }
   },
   "outputs": [],
   "source": [
    "json_dump(f\"{PROJECT_DIR_d}PROcap/metainfo/samples.json\", groups)"
   ]
  },
  {
   "cell_type": "code",
   "execution_count": 12,
   "id": "6783b87f-a97d-41c5-b2dc-56f43fe6d561",
   "metadata": {
    "execution": {
     "iopub.execute_input": "2025-09-19T01:29:23.184666Z",
     "iopub.status.busy": "2025-09-19T01:29:23.183771Z",
     "iopub.status.idle": "2025-09-19T01:29:23.207788Z",
     "shell.execute_reply": "2025-09-19T01:29:23.206630Z",
     "shell.execute_reply.started": "2025-09-19T01:29:23.184618Z"
    }
   },
   "outputs": [],
   "source": [
    "labels = {}\n",
    "for _, row in df_samples.iterrows():\n",
    "\ts = row[\"PRO-cap sample ID\"]\n",
    "\tif s in samples_keep:\n",
    "\t\tif type(row[\"Primary site\"]) == str:\n",
    "\t\t\tlabels[s] = (row[\"Primary site\"], row[\"Metastatic site\"])\n",
    "\t\telse:\n",
    "\t\t\tlabels[s] = (row[\"Sample name\"], row[\"Sample type\"])"
   ]
  },
  {
   "cell_type": "code",
   "execution_count": 13,
   "id": "90e88be6-310b-4218-b759-57573143c348",
   "metadata": {
    "execution": {
     "iopub.execute_input": "2025-09-19T01:29:31.586974Z",
     "iopub.status.busy": "2025-09-19T01:29:31.586414Z",
     "iopub.status.idle": "2025-09-19T01:30:03.879388Z",
     "shell.execute_reply": "2025-09-19T01:30:03.878153Z",
     "shell.execute_reply.started": "2025-09-19T01:29:31.586934Z"
    }
   },
   "outputs": [],
   "source": [
    "json_dump(f\"{PROJECT_DIR_d}PROcap/metainfo/classifications.json\", labels)"
   ]
  },
  {
   "cell_type": "code",
   "execution_count": 43,
   "id": "fa334b2e-8ec5-4c3f-8ef6-67cedf4f3eab",
   "metadata": {
    "execution": {
     "iopub.execute_input": "2025-09-19T15:02:59.517274Z",
     "iopub.status.busy": "2025-09-19T15:02:59.516191Z",
     "iopub.status.idle": "2025-09-19T15:02:59.526916Z",
     "shell.execute_reply": "2025-09-19T15:02:59.525667Z",
     "shell.execute_reply.started": "2025-09-19T15:02:59.517209Z"
    }
   },
   "outputs": [],
   "source": [
    "cdict = {'Blood': '#3C0949',\n",
    "\t\t 'Lymph node': '#6a51a3',\n",
    "\t\t 'Spleen': '#bcbddc',\n",
    "\t\t 'Brain': '#a6cee3',\n",
    "\t\t 'Muscle': '#fdb462',\n",
    "\t\t 'Liver': '#ffde21',\n",
    "\t\t 'Pancreas': '#238443',\n",
    "\t\t 'Large intestine': '#78c679',\n",
    "\t\t 'Small intestine': '#d9f0a3',\n",
    "\t\t 'Heart': '#fb8072',\n",
    "\t\t 'Adrenal gland': '#4292c6',\n",
    "\t\t 'Lung': '#bf812d',\n",
    "\t\t 'Breast': '#c51b7d',\n",
    "\t\t 'Ovary': '#969696',\n",
    "\t\t 'Testis': '#f1b6da'}"
   ]
  },
  {
   "cell_type": "code",
   "execution_count": null,
   "id": "f8533f9a-b957-476f-bd9b-4b3ac65025a8",
   "metadata": {},
   "outputs": [],
   "source": [
    "json_dump(f\"{PROJECT_DIR_d}PROcap/metainfo/color_codes.json\", cdict)"
   ]
  },
  {
   "cell_type": "code",
   "execution_count": null,
   "id": "6a953498-500d-4cde-a65e-d0dcb2badfc4",
   "metadata": {},
   "outputs": [],
   "source": []
  }
 ],
 "metadata": {
  "kernelspec": {
   "display_name": "Python 3 (ipykernel)",
   "language": "python",
   "name": "python3"
  },
  "language_info": {
   "codemirror_mode": {
    "name": "ipython",
    "version": 3
   },
   "file_extension": ".py",
   "mimetype": "text/x-python",
   "name": "python",
   "nbconvert_exporter": "python",
   "pygments_lexer": "ipython3",
   "version": "3.10.8"
  }
 },
 "nbformat": 4,
 "nbformat_minor": 5
}
