{
 "cells": [
  {
   "cell_type": "code",
   "execution_count": 5,
   "id": "4685985a-5fbe-4b48-b4fc-626d6f652c35",
   "metadata": {
    "execution": {
     "iopub.execute_input": "2025-09-19T04:48:11.620064Z",
     "iopub.status.busy": "2025-09-19T04:48:11.619157Z",
     "iopub.status.idle": "2025-09-19T04:48:11.740201Z",
     "shell.execute_reply": "2025-09-19T04:48:11.738190Z",
     "shell.execute_reply.started": "2025-09-19T04:48:11.620018Z"
    }
   },
   "outputs": [],
   "source": [
    "import sys\n",
    "import pandas as pd\n",
    "from mphelper import ProcessWrapPool\n",
    "import tempfile\n",
    "from pathlib import Path\n",
    "from biodatatools.utils.common import json_load"
   ]
  },
  {
   "cell_type": "code",
   "execution_count": 3,
   "id": "34f07350-e3a6-48f8-9c3e-7d722cbf7b8d",
   "metadata": {
    "execution": {
     "iopub.execute_input": "2025-09-19T04:43:07.153519Z",
     "iopub.status.busy": "2025-09-19T04:43:07.152913Z",
     "iopub.status.idle": "2025-09-19T04:43:30.589266Z",
     "shell.execute_reply": "2025-09-19T04:43:30.588207Z",
     "shell.execute_reply.started": "2025-09-19T04:43:07.153490Z"
    }
   },
   "outputs": [],
   "source": [
    "sys.path.append(str(Path.cwd().parent))\n",
    "import utils"
   ]
  },
  {
   "cell_type": "code",
   "execution_count": 7,
   "id": "8f2cb991-dff0-441f-8b47-48824c54ddb6",
   "metadata": {
    "execution": {
     "iopub.execute_input": "2025-09-19T04:48:25.800648Z",
     "iopub.status.busy": "2025-09-19T04:48:25.799290Z",
     "iopub.status.idle": "2025-09-19T04:48:27.226139Z",
     "shell.execute_reply": "2025-09-19T04:48:27.225049Z",
     "shell.execute_reply.started": "2025-09-19T04:48:25.800557Z"
    }
   },
   "outputs": [],
   "source": [
    "PROJECT_DIR_d = \"/home/yc2553/projects/HEA/databases/\"\n",
    "PROJECT_DIR_d2 = \"/home/kl945/EnhancerAtlas/\"\n",
    "PROJECT_DIR_o = \"/fs/cbsuhy02/storage/yc2553/yc2553/projects/3.Human_atlas/output/\""
   ]
  },
  {
   "cell_type": "markdown",
   "id": "abed811a-92d1-4bfc-901b-3b1466aa2df3",
   "metadata": {},
   "source": [
    "# Read count matrix"
   ]
  },
  {
   "cell_type": "markdown",
   "id": "ab9384dd-4117-4a70-892d-d9b6d18c90f8",
   "metadata": {},
   "source": [
    "## Get raw counts"
   ]
  },
  {
   "cell_type": "code",
   "execution_count": 19,
   "id": "33ff8fff-4b58-4347-8425-ddec390bba69",
   "metadata": {
    "execution": {
     "iopub.execute_input": "2025-09-19T05:06:05.172275Z",
     "iopub.status.busy": "2025-09-19T05:06:05.171664Z",
     "iopub.status.idle": "2025-09-19T05:06:05.238525Z",
     "shell.execute_reply": "2025-09-19T05:06:05.237485Z",
     "shell.execute_reply.started": "2025-09-19T05:06:05.172231Z"
    },
    "scrolled": true
   },
   "outputs": [],
   "source": [
    "ps = [\"divergent\", \"unidirectional\"]\n",
    "samples = list(json_load(f\"{PROJECT_DIR_d}PROcap/metainfo/classifications.json\"))\n",
    "beds = json_load(f\"{PROJECT_DIR_d}PROcap/metainfo/sample_beds.json\")\n",
    "bws = json_load(f\"{PROJECT_DIR_d}PROcap/metainfo/sample_bws.json\")"
   ]
  },
  {
   "cell_type": "code",
   "execution_count": 107,
   "id": "7edea8d6-9e50-4861-ba65-28b18e36bba9",
   "metadata": {
    "execution": {
     "iopub.execute_input": "2025-06-23T00:43:59.278517Z",
     "iopub.status.busy": "2025-06-23T00:43:59.277977Z",
     "iopub.status.idle": "2025-06-23T00:43:59.295899Z",
     "shell.execute_reply": "2025-06-23T00:43:59.288287Z",
     "shell.execute_reply.started": "2025-06-23T00:43:59.278493Z"
    },
    "scrolled": true,
    "tags": []
   },
   "outputs": [],
   "source": [
    "# This takes a few hours\n",
    "\n",
    "pwpool = ProcessWrapPool(len(ps))\n",
    "\n",
    "for p in ps:\n",
    "\tp2 = p if p == \"divergent\" else \"unidirectional-no-divergent\"\n",
    "\tinputfile = f\"{PROJECT_DIR_d2}PROcap/Peaks/PINTS/Merged/20250905_raw_merged-1bp_{p2}_peaks.bed.bgz\"\n",
    "\toutputfile = f\"{PROJECT_DIR_d}PROcap/processed/raw_reads_{p}.txt\"\n",
    "\tpwpool.run(utils.get_count_matrix, args=[inputfile, outputfile, samples, bws])"
   ]
  },
  {
   "cell_type": "code",
   "execution_count": 111,
   "id": "d2b462cb-8781-4689-9492-631d0d93e23c",
   "metadata": {
    "execution": {
     "iopub.execute_input": "2025-06-23T04:15:45.455200Z",
     "iopub.status.busy": "2025-06-23T04:15:45.454932Z",
     "iopub.status.idle": "2025-06-23T04:15:45.459587Z",
     "shell.execute_reply": "2025-06-23T04:15:45.459162Z",
     "shell.execute_reply.started": "2025-06-23T04:15:45.455179Z"
    }
   },
   "outputs": [
    {
     "data": {
      "text/plain": [
       "2"
      ]
     },
     "execution_count": 111,
     "metadata": {},
     "output_type": "execute_result"
    }
   ],
   "source": [
    "len(pwpool.finished_tasks)"
   ]
  },
  {
   "cell_type": "code",
   "execution_count": 112,
   "id": "5282cdc8-f58c-48ad-8406-8ea59cbddb4f",
   "metadata": {
    "execution": {
     "iopub.execute_input": "2025-06-23T04:15:46.273204Z",
     "iopub.status.busy": "2025-06-23T04:15:46.272930Z",
     "iopub.status.idle": "2025-06-23T04:15:46.275619Z",
     "shell.execute_reply": "2025-06-23T04:15:46.275200Z",
     "shell.execute_reply.started": "2025-06-23T04:15:46.273184Z"
    }
   },
   "outputs": [],
   "source": [
    "pwpool.close()"
   ]
  },
  {
   "cell_type": "markdown",
   "id": "cd1612f3-c9d6-4e93-8766-327184b62997",
   "metadata": {},
   "source": [
    "## Data normalization"
   ]
  },
  {
   "cell_type": "code",
   "execution_count": 116,
   "id": "13a4719c-9150-49b6-b5fd-4c8227e7f69c",
   "metadata": {
    "execution": {
     "iopub.execute_input": "2025-06-23T13:47:06.257833Z",
     "iopub.status.busy": "2025-06-23T13:47:06.257492Z",
     "iopub.status.idle": "2025-06-23T13:47:51.028710Z",
     "shell.execute_reply": "2025-06-23T13:47:51.027793Z",
     "shell.execute_reply.started": "2025-06-23T13:47:06.257812Z"
    },
    "scrolled": true
   },
   "outputs": [],
   "source": [
    "# Normalize the whole dataset\n",
    "# Combine all distal and proximal data matrices\n",
    "\n",
    "dfs = []\n",
    "for p in ps:\n",
    "\tinputfile = f\"{PROJECT_DIR_d}PROcap/processed/raw_reads_{p}.txt\"\n",
    "\tdfs.append(pd.read_table(inputfile, index_col=0))\n",
    "concatenated_df = pd.concat(dfs)\n",
    "outputfile = f\"{PROJECT_DIR_d}PROcap/processed/raw_reads_all.txt\"\n",
    "concatenated_df.to_csv(outputfile, sep=\"\\t\")"
   ]
  },
  {
   "cell_type": "code",
   "execution_count": 29,
   "id": "490dffc3-72bb-4108-9f24-ad8507153602",
   "metadata": {
    "execution": {
     "iopub.execute_input": "2025-09-19T05:26:07.116084Z",
     "iopub.status.busy": "2025-09-19T05:26:07.115569Z",
     "iopub.status.idle": "2025-09-19T05:26:07.145201Z",
     "shell.execute_reply": "2025-09-19T05:26:07.144114Z",
     "shell.execute_reply.started": "2025-09-19T05:26:07.116052Z"
    },
    "scrolled": true
   },
   "outputs": [],
   "source": [
    "# Generate a sample file\n",
    "\n",
    "results = [[s for s in concatenated_df.columns]]\n",
    "df = pd.DataFrame(results).T\n",
    "df.columns = [\"\"]\n",
    "outputfile = f\"{PROJECT_DIR_d}PROcap/processed/norm_samples.txt\"\n",
    "df.to_csv(outputfile, sep=\"\\t\", index=False)"
   ]
  },
  {
   "cell_type": "code",
   "execution_count": 118,
   "id": "8d2de314-6a4b-450a-b8bc-1f783ed59136",
   "metadata": {
    "execution": {
     "iopub.execute_input": "2025-06-23T13:47:51.258348Z",
     "iopub.status.busy": "2025-06-23T13:47:51.258113Z",
     "iopub.status.idle": "2025-06-23T13:47:51.260362Z",
     "shell.execute_reply": "2025-06-23T13:47:51.259967Z",
     "shell.execute_reply.started": "2025-06-23T13:47:51.258330Z"
    }
   },
   "outputs": [],
   "source": [
    "# Do normalization for the whole dataset using DESeq2\n",
    "# See details in \"2.Count_normalization.ipynb\""
   ]
  },
  {
   "cell_type": "markdown",
   "id": "5096df6f-1d85-4c96-bff9-cc7b79f2e16f",
   "metadata": {},
   "source": [
    "# Binary matrix"
   ]
  },
  {
   "cell_type": "code",
   "execution_count": 121,
   "id": "751668bc-90d5-4659-86e0-130fb8f24630",
   "metadata": {
    "execution": {
     "iopub.execute_input": "2025-06-23T13:50:59.823183Z",
     "iopub.status.busy": "2025-06-23T13:50:59.822890Z",
     "iopub.status.idle": "2025-06-23T13:50:59.829765Z",
     "shell.execute_reply": "2025-06-23T13:50:59.829328Z",
     "shell.execute_reply.started": "2025-06-23T13:50:59.823162Z"
    }
   },
   "outputs": [],
   "source": [
    "def binary(inputfile, samples, outputfile):\n",
    "\tb1 = pybedtools.BedTool(inputfile)\n",
    "\tes = [\"_\".join(i.fields[:3]) for i in b1]\n",
    "\tresults = []\n",
    "\tfor s in samples:\n",
    "\t\toverlap_es = set()\n",
    "\t\tfor n in range(2):\n",
    "\t\t\tb2 = pybedtools.BedTool(beds[s][n])\n",
    "\t\t\toverlap = b1.intersect(b2, u=True)\n",
    "\t\t\toverlap_es |= set([\"_\".join(i.fields[:3]) for i in overlap])\n",
    "\t\trow = [1 if e in overlap_es else 0 for e in es]\n",
    "\t\tresults.append(row)\n",
    "\tdf_binary = pd.DataFrame(results, columns=es, index=samples).T\n",
    "\tdf_binary.to_csv(outputfile, sep=\"\\t\")"
   ]
  },
  {
   "cell_type": "code",
   "execution_count": 122,
   "id": "d7dae02d-9eda-4a92-965f-14fae9672109",
   "metadata": {
    "execution": {
     "iopub.execute_input": "2025-06-23T13:50:59.830639Z",
     "iopub.status.busy": "2025-06-23T13:50:59.830413Z",
     "iopub.status.idle": "2025-06-23T13:51:00.363956Z",
     "shell.execute_reply": "2025-06-23T13:51:00.341995Z",
     "shell.execute_reply.started": "2025-06-23T13:50:59.830622Z"
    },
    "scrolled": true
   },
   "outputs": [],
   "source": [
    "pwpool = ProcessWrapPool(len(ps)*len(ds))\n",
    "\n",
    "for p, d in itertools.product(ps, ds):\n",
    "\tinputfile = f\"{PROJECT_DIR_d}PROcap/processed/merged_{p}_{d}.bed.bgz\"\n",
    "\toutputfile = f\"{PROJECT_DIR_d}PROcap/processed/binary_{p}_{d}.txt\"\n",
    "\tpwpool.run(binary, args=[inputfile, samples, outputfile])"
   ]
  },
  {
   "cell_type": "code",
   "execution_count": 124,
   "id": "31c49743-678d-4a40-9f4b-e4e698bc232b",
   "metadata": {
    "execution": {
     "iopub.execute_input": "2025-06-23T13:58:40.022884Z",
     "iopub.status.busy": "2025-06-23T13:58:40.022591Z",
     "iopub.status.idle": "2025-06-23T13:58:40.026203Z",
     "shell.execute_reply": "2025-06-23T13:58:40.025783Z",
     "shell.execute_reply.started": "2025-06-23T13:58:40.022863Z"
    }
   },
   "outputs": [
    {
     "data": {
      "text/plain": [
       "4"
      ]
     },
     "execution_count": 124,
     "metadata": {},
     "output_type": "execute_result"
    }
   ],
   "source": [
    "len(pwpool.finished_tasks)"
   ]
  },
  {
   "cell_type": "code",
   "execution_count": 125,
   "id": "919ae444-1662-49a0-a4e0-9318ef0dab42",
   "metadata": {
    "execution": {
     "iopub.execute_input": "2025-06-23T13:58:40.656485Z",
     "iopub.status.busy": "2025-06-23T13:58:40.656253Z",
     "iopub.status.idle": "2025-06-23T13:58:40.658841Z",
     "shell.execute_reply": "2025-06-23T13:58:40.658413Z",
     "shell.execute_reply.started": "2025-06-23T13:58:40.656467Z"
    }
   },
   "outputs": [],
   "source": [
    "pwpool.close()"
   ]
  },
  {
   "cell_type": "markdown",
   "id": "a5a5f6a0-ac56-47b0-b489-2fa6e7a39d31",
   "metadata": {},
   "source": [
    "# rpm normalization"
   ]
  },
  {
   "cell_type": "code",
   "execution_count": 27,
   "id": "eefd62d8-550c-4090-88d9-43c5621b1a58",
   "metadata": {
    "execution": {
     "iopub.execute_input": "2025-06-22T20:41:13.950409Z",
     "iopub.status.busy": "2025-06-22T20:41:13.949439Z",
     "iopub.status.idle": "2025-06-22T20:41:13.955159Z",
     "shell.execute_reply": "2025-06-22T20:41:13.954447Z",
     "shell.execute_reply.started": "2025-06-22T20:41:13.950382Z"
    }
   },
   "outputs": [],
   "source": [
    "def bw_rpm(bw_ins, bw_outs, chroms):\n",
    "\twith tempfile.TemporaryDirectory() as tempdir:\n",
    "\t\tbws_temp = [os.path.join(tempdir, f\"filtered_{i}.bw\") for i in range(len(bw_outs))]\n",
    "\t\t\n",
    "\t\t# Filter BigWig files by chromosomes\n",
    "\t\tfor bw_in, bw_temp in zip(bw_ins, bws_temp):\n",
    "\t\t\tcommands = [\"biodatatools filter_bigwig_by_chroms\",\n",
    "\t\t\t\t\t\t\"-i\", bw_in,\n",
    "\t\t\t\t\t\t\"-o\", bw_temp,\n",
    "\t\t\t\t\t\t\"-chroms\", \" \".join(chroms)\n",
    "\t\t\t\t\t\t]\n",
    "\t\t\tsubprocess.run(\" \".join(commands), shell=True)\n",
    "\t\t\n",
    "\t\t# Normalize BigWig files to RPM\n",
    "\t\tcommands = [\"biodatatools normalize_bigwig\",\n",
    "\t\t\t\t\t\"-ibws\", \" \".join(bws_temp),\n",
    "\t\t\t\t\t\"-obws\", \" \".join(bw_outs),\n",
    "\t\t\t\t\t\"-mode rpm\"\n",
    "\t\t\t\t\t]\n",
    "\t\tsubprocess.run(\" \".join(commands), shell=True)"
   ]
  },
  {
   "cell_type": "code",
   "execution_count": 20,
   "id": "de4dd823-a5b1-49e1-8bc5-98bb3ed20150",
   "metadata": {
    "execution": {
     "iopub.execute_input": "2025-09-19T05:08:32.887374Z",
     "iopub.status.busy": "2025-09-19T05:08:32.886477Z",
     "iopub.status.idle": "2025-09-19T05:08:32.893612Z",
     "shell.execute_reply": "2025-09-19T05:08:32.892658Z",
     "shell.execute_reply.started": "2025-09-19T05:08:32.887328Z"
    }
   },
   "outputs": [],
   "source": [
    "ks = [\"pl\", \"mn\"]\n",
    "chroms = [f\"chr{n}\" for n in range(1,23)] + [\"chrX\"]"
   ]
  },
  {
   "cell_type": "code",
   "execution_count": 34,
   "id": "641283a8-32b0-4eb6-8707-e4ec5d0fed7a",
   "metadata": {
    "execution": {
     "iopub.execute_input": "2025-06-22T20:42:20.576551Z",
     "iopub.status.busy": "2025-06-22T20:42:20.575871Z",
     "iopub.status.idle": "2025-06-22T20:42:20.583323Z",
     "shell.execute_reply": "2025-06-22T20:42:20.582478Z",
     "shell.execute_reply.started": "2025-06-22T20:42:20.576522Z"
    },
    "scrolled": true
   },
   "outputs": [],
   "source": [
    "pwpool = ProcessWrapPool(10)\n",
    "\n",
    "for s in samples:\n",
    "\tbw_ins = []\n",
    "\tbw_outs = []\n",
    "\tfor n in range(2):\n",
    "\t\tbw_in = bws[s][n]\n",
    "\t\tbw_ins.append(bw_in)\n",
    "\t\tbw_out = f\"{PROJECT_DIR_o}rpm/{s}_{ks[n]}_rpm.bw\"\n",
    "\t\tbw_outs.append(bw_out)\n",
    "\tpwpool.run(bw_rpm, args=[bw_ins, bw_outs, chroms])"
   ]
  },
  {
   "cell_type": "code",
   "execution_count": 21,
   "id": "c8be824a-1c66-4c2b-8ec9-ab10be2bb698",
   "metadata": {
    "execution": {
     "iopub.execute_input": "2025-09-19T05:09:04.450394Z",
     "iopub.status.busy": "2025-09-19T05:09:04.449476Z",
     "iopub.status.idle": "2025-09-19T05:09:04.455477Z",
     "shell.execute_reply": "2025-09-19T05:09:04.454485Z",
     "shell.execute_reply.started": "2025-09-19T05:09:04.450340Z"
    },
    "tags": []
   },
   "outputs": [],
   "source": [
    "len(pwpool.finished_tasks)"
   ]
  },
  {
   "cell_type": "code",
   "execution_count": 38,
   "id": "ae076c42-8959-4bb5-bd7c-8c2c693bdfe4",
   "metadata": {
    "execution": {
     "iopub.execute_input": "2025-06-22T20:42:59.054528Z",
     "iopub.status.busy": "2025-06-22T20:42:59.053831Z",
     "iopub.status.idle": "2025-06-22T20:42:59.057843Z",
     "shell.execute_reply": "2025-06-22T20:42:59.057016Z",
     "shell.execute_reply.started": "2025-06-22T20:42:59.054506Z"
    }
   },
   "outputs": [],
   "source": [
    "pwpool.close()"
   ]
  },
  {
   "cell_type": "code",
   "execution_count": null,
   "id": "93a85913-4e51-434b-bacf-546ef6c57130",
   "metadata": {},
   "outputs": [],
   "source": []
  }
 ],
 "metadata": {
  "kernelspec": {
   "display_name": "Python 3 (ipykernel)",
   "language": "python",
   "name": "python3"
  },
  "language_info": {
   "codemirror_mode": {
    "name": "ipython",
    "version": 3
   },
   "file_extension": ".py",
   "mimetype": "text/x-python",
   "name": "python",
   "nbconvert_exporter": "python",
   "pygments_lexer": "ipython3",
   "version": "3.10.8"
  }
 },
 "nbformat": 4,
 "nbformat_minor": 5
}
