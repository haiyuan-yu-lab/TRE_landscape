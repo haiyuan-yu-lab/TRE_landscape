{
 "cells": [
  {
   "cell_type": "code",
   "execution_count": null,
   "id": "999f0341-6c54-4345-beca-089897f822e7",
   "metadata": {
    "scrolled": true,
    "tags": []
   },
   "outputs": [],
   "source": [
    "library(\"DESeq2\")\n",
    "library(\"dplyr\")\n",
    "library(\"tibble\")"
   ]
  },
  {
   "cell_type": "code",
   "execution_count": 14,
   "id": "2b140fc8-ccfe-41ac-a65b-242392b3d857",
   "metadata": {
    "execution": {
     "iopub.execute_input": "2025-09-19T15:20:31.004510Z",
     "iopub.status.busy": "2025-09-19T15:20:31.001279Z",
     "iopub.status.idle": "2025-09-19T15:20:31.033339Z",
     "shell.execute_reply": "2025-09-19T15:20:31.029860Z"
    },
    "tags": []
   },
   "outputs": [],
   "source": [
    "PROJECT_DIR_d = \"/home/yc2553/projects/HEA/databases/\"\n",
    "PROJECT_DIR_o = \"/home/yc2553/projects/HEA/output/\" "
   ]
  },
  {
   "cell_type": "markdown",
   "id": "94be44a2-3e8e-453e-9446-6c4e269a48a4",
   "metadata": {},
   "source": [
    "# Data normalization"
   ]
  },
  {
   "cell_type": "code",
   "execution_count": 8,
   "id": "195607b5-58a4-47a5-83b2-473002b6bf9f",
   "metadata": {
    "execution": {
     "iopub.execute_input": "2025-09-19T05:26:13.062591Z",
     "iopub.status.busy": "2025-09-19T05:26:13.057156Z",
     "iopub.status.idle": "2025-09-19T05:27:05.277678Z",
     "shell.execute_reply": "2025-09-19T05:27:05.273798Z"
    }
   },
   "outputs": [],
   "source": [
    "sample_file <- file.path(PROJECT_DIR_d, \"PROcap/processed/norm_samples.txt\", fsep=\"/\")\n",
    "coldata <- read.csv(sample_file, row.names=1, sep=\"\\t\")\n",
    "count_file <- file.path(PROJECT_DIR_d, \"PROcap/processed/raw_reads_all.txt\", fsep=\"/\")\n",
    "cts <- as.matrix(read.csv(count_file, row.names=1, sep=\"\\t\", check.names = FALSE))\n",
    "stopifnot(all(rownames(coldata) == colnames(cts)))\n",
    "dds <- DESeqDataSetFromMatrix(countData = cts, colData = coldata, design = ~1)"
   ]
  },
  {
   "cell_type": "code",
   "execution_count": 7,
   "id": "a349c46b-8ef7-47a9-bd0e-e043be6b6f96",
   "metadata": {
    "execution": {
     "iopub.execute_input": "2025-09-08T00:28:24.745207Z",
     "iopub.status.busy": "2025-09-08T00:28:24.743923Z",
     "iopub.status.idle": "2025-09-08T00:30:58.410839Z",
     "shell.execute_reply": "2025-09-08T00:30:58.407961Z"
    }
   },
   "outputs": [],
   "source": [
    "# Used for most downstream analysis (e.g., clustering, machine learning, PCA).\n",
    "# blind=TRUE: calculate the variability across all samples.\n",
    "\n",
    "td <- vst(dds, blind=TRUE)\n",
    "t_counts <- assay(td)\n",
    "outputfile <- file.path(PROJECT_DIR_d, \"PROcap/processed/norm_reads_vst_all.txt\", fsep=\"/\")\n",
    "write.table(t_counts, file=outputfile, sep=\"\\t\")"
   ]
  },
  {
   "cell_type": "code",
   "execution_count": null,
   "id": "523a68ca-67ab-4cf9-9359-dd4b5a5bedb8",
   "metadata": {},
   "outputs": [],
   "source": [
    "# Used for calculation of specificity score\n",
    "\n",
    "n_counts <- counts(dds, normalized=TRUE)\n",
    "outputfile <- file.path(PROJECT_DIR_d, \"PROcap/processed/norm_reads_all.txt\", fsep=\"/\")\n",
    "write.table(n_counts, file=outputfile, sep=\"\\t\")"
   ]
  },
  {
   "cell_type": "markdown",
   "id": "61012d43-2267-4b2e-8955-78ea7bbd0543",
   "metadata": {},
   "source": [
    "# DE analysis"
   ]
  },
  {
   "cell_type": "markdown",
   "id": "796e4616-ebb8-43d4-aca3-1c9d25892e1b",
   "metadata": {},
   "source": [
    "## Lineage differentiation"
   ]
  },
  {
   "cell_type": "code",
   "execution_count": null,
   "id": "0b649887-192d-4d42-92e7-6b22f71ee720",
   "metadata": {},
   "outputs": [],
   "source": [
    "# Get DE elements at any pair of time points across pancreatic differentiation as input for DPGP cluster\n",
    "# Refer to codes here: https://zenodo.org/records/5161189; R->timeseries.pairwise_deseq2.R\n",
    "# Six pairwise comparison in total"
   ]
  },
  {
   "cell_type": "code",
   "execution_count": null,
   "id": "52fbc154-50da-4da3-b5b1-9e99bbb20530",
   "metadata": {},
   "outputs": [],
   "source": [
    "DE_analysis_multiple <- function(sample_file, count_file, outdir, sum_file, fdr_cutoff=0.01/6, fc_cutoff=0){\n",
    "\tcoldata <- as.matrix(read.csv(sample_file, row.names=1, sep=\"\\t\"))\n",
    "\n",
    "\t# Get No. instances for each condition\n",
    "\tcondition_column = coldata[,\"Condition\"]\n",
    "\tunique_indices <- which(!duplicated(condition_column))\n",
    "\tcounts <- sapply(unique_indices, function(i) sum(condition_column == condition_column[i]))\n",
    "\t\n",
    "\tcount_data <- as.matrix(read.csv(count_file, row.names=1, sep=\"\\t\", check.names = FALSE))\n",
    "\t\n",
    "\t# Keep track of up/down numbers for each comparison\n",
    "\tdifferential_summary <- data.frame()\n",
    "\t\n",
    "\t# Run pairwise comparisons\n",
    "\tfor ( idx1 in 1:length(unique_indices) ) {\n",
    "\t    for ( idx2 in 1:length(unique_indices) ) {\n",
    "\t\t\t\n",
    "\t\t\tif (idx1 >= idx2 || (counts[idx1] == 1 && counts[idx2] == 1)) {\n",
    "\t\t\t\t  next\n",
    "\t\t\t}\n",
    "\t                \n",
    "\t        # Subset data with desired samples\n",
    "\t\t\tsamples_selected <- c()\n",
    "\t\t\tfor (idx in c(idx1, idx2)){\n",
    "\t\t\t\tif ( counts[idx]==2 ){\n",
    "\t\t\t\t\tnew_vector <- c(unique_indices[idx], unique_indices[idx]+1)\n",
    "\t\t\t\t}else{\n",
    "\t\t\t\t\tnew_vector <- c(unique_indices[idx])\n",
    "\t\t\t\t}\n",
    "\t\t\t\tsamples_selected <- c(samples_selected, new_vector)\n",
    "\t\t\t}\n",
    "\t\t\t\t\t\t\n",
    "\t\t\tcoldata_selected <- data.frame(coldata[samples_selected, ])\n",
    "\t\t\tcolnames(coldata_selected) <- colnames(coldata)\n",
    "\t        unique_conditions <- unique(coldata_selected$Condition)\n",
    "\t        t_baseline <- unique_conditions[1]\n",
    "\t        t_compare <- unique_conditions[2]\n",
    "\n",
    "\t\t\tcount_data_selected <- count_data[, samples_selected]\n",
    "\t\n",
    "\t\t\t# DE analysis\n",
    "\t\t\tdds <- DESeqDataSetFromMatrix(countData=count_data_selected,\n",
    "\t                                  colData=coldata_selected,\n",
    "\t                                  design = ~ Condition)\n",
    "\t        dds <- DESeq(dds)        \n",
    "\t\n",
    "\t\t\t# For heatmap plotting\n",
    "\t\t\tres <- results(dds, contrast=c('Condition', t_compare, t_baseline), alpha=fdr_cutoff)\n",
    "\t\t\tresLFC <- lfcShrink(dds, type=\"ashr\", res=res)\n",
    "\t\t\twrite.table(\n",
    "\t            resLFC,\n",
    "\t            file=gzfile(\n",
    "\t                paste(outdir, gsub(\" \", \"_\", t_compare), '_over_', gsub(\" \", \"_\", t_baseline), '_resultsAll.txt.gz', sep='')),\n",
    "\t            quote=FALSE, sep='\\t')\n",
    "\t\n",
    "\t\t\t# Get a list of elements/genes with differential signals\n",
    "\t\t\tres_noNA <- res[!is.na(resLFC$padj),]\n",
    "\t        res_filt <- res_noNA[res_noNA$padj < fdr_cutoff,]\n",
    "\t\t\twrite.table(\n",
    "\t\t\t\tres_filt,\n",
    "\t\t\t\tfile=gzfile(\n",
    "\t\t\t\t\tpaste(outdir, gsub(\" \", \"_\", t_compare), '_over_', gsub(\" \", \"_\", t_baseline), '_sigResultsAll.txt.gz', sep='')),\n",
    "\t\t\t\tquote=FALSE, sep='\\t')\n",
    "\n",
    "\t\t\tmerge_sigresults <- paste(\n",
    "\t\t\t\t\t\t  \"zcat \",\n",
    "\t\t\t\t\t\t  outdir,\n",
    "\t\t\t\t\t\t  \"/*sigResultsAll.txt.gz | \",\n",
    "\t\t\t\t\t\t  \"awk -F '\\t' '{ print $1 }' | \",\n",
    "\t\t\t\t\t\t  \"grep -v baseMean | \",\n",
    "\t\t\t\t\t\t  \"sort | \",\n",
    "\t\t\t\t\t\t  \"uniq | \",\n",
    "\t\t\t\t\t\t  \"gzip -c > \",\n",
    "\t\t\t\t\t\t  sum_file,\n",
    "\t\t\t\t\t\t  sep=\"\"\n",
    "\t\t\t\t\t\t)\n",
    "\t\t\tsystem(merge_sigresults)\n",
    "\t\n",
    "\t        # Save to differential summary\n",
    "\t\t\tres_filt_up <- res_filt[res_filt$log2FoldChange > fc_cutoff,]\n",
    "\t        res_filt_down <- res_filt[res_filt$log2FoldChange < fc_cutoff,]\n",
    "\t        compare_summary <- data.frame(\n",
    "\t            compare=paste(gsub(\" \", \"_\", t_compare), '_over_', gsub(\" \", \"_\", t_baseline), sep=\"\"),\n",
    "\t            up=length(rownames(res_filt_up)),\n",
    "\t            down=length(rownames(res_filt_down)))\n",
    "\t        differential_summary <- rbind(differential_summary, compare_summary)\n",
    "\t\t    }\n",
    "\t\t}\n",
    "\treturn(differential_summary)\n",
    "\t}"
   ]
  },
  {
   "cell_type": "code",
   "execution_count": null,
   "id": "4fe3544f-30f5-4e2d-9797-883e0345ef8c",
   "metadata": {},
   "outputs": [],
   "source": [
    "outdir = file.path(PROJECT_DIR_o, \"DE/pancreas/\", fsep=\"\")\n",
    "sample_file = file.path(outdir, \"samples.txt\", fsep=\"\")\n",
    "count_file = file.path(outdir, \"raw_reads.txt\", fsep=\"\")\n",
    "sum_file = file.path(outdir, \"DE_elements.txt.gz\", fsep=\"\")\n",
    "DE_analysis_multiple(sample_file, count_file, outdir, sum_file)"
   ]
  },
  {
   "cell_type": "markdown",
   "id": "2478130e-2471-4422-96cc-cfa0f820e9d9",
   "metadata": {},
   "source": [
    "## Pairwise comparison"
   ]
  },
  {
   "cell_type": "code",
   "execution_count": 12,
   "id": "a4d18b17-4629-43b9-8939-e8bde1003d8e",
   "metadata": {
    "execution": {
     "iopub.execute_input": "2025-09-19T15:19:39.830866Z",
     "iopub.status.busy": "2025-09-19T15:19:39.826014Z",
     "iopub.status.idle": "2025-09-19T15:19:39.873457Z",
     "shell.execute_reply": "2025-09-19T15:19:39.868069Z"
    }
   },
   "outputs": [],
   "source": [
    "DE_analysis_single <- function(sample_file, count_file, outputfile, ref){\n",
    "\t\tcoldata <- read.csv(sample_file, row.names=1, sep=\"\\t\")\n",
    "\t\tcts <- as.matrix(read.csv(count_file, row.names=1, sep=\"\\t\", check.names = FALSE))\n",
    "\t\tstopifnot(all(rownames(coldata) == colnames(cts)))\n",
    "\t\n",
    "\t\tdds <- DESeqDataSetFromMatrix(countData = cts,\n",
    "                              colData = coldata,\n",
    "                              design = ~ Condition)\n",
    "\t\tdds$Condition <- relevel(dds$Condition, ref = ref)\n",
    "\t\tdds <- DESeq(dds)\n",
    "\t\tres <- results(dds, alpha=0.05)\n",
    "\t\tresLFC <- lfcShrink(dds, type=\"ashr\", res=res)\n",
    "\t\twrite.table(as.data.frame(resLFC), file=outputfile, sep=\"\\t\")\n",
    "\t\t}"
   ]
  },
  {
   "cell_type": "code",
   "execution_count": 16,
   "id": "97aaa05f-a345-4a5d-8ebc-74c608763a90",
   "metadata": {
    "execution": {
     "iopub.execute_input": "2025-09-19T15:22:07.455425Z",
     "iopub.status.busy": "2025-09-19T15:22:07.452612Z",
     "iopub.status.idle": "2025-09-19T15:22:07.479906Z",
     "shell.execute_reply": "2025-09-19T15:22:07.476903Z"
    },
    "scrolled": true
   },
   "outputs": [],
   "source": [
    "# T1D\n",
    "\n",
    "outdir = file.path(PROJECT_DIR_o, \"DE/T1D/\", fsep=\"\")\n",
    "sample_file = file.path(outdir, \"samples.txt\", fsep=\"\")\n",
    "count_file = file.path(outdir, \"raw_reads.txt\", fsep=\"\")\n",
    "outputfile = file.path(outdir, \"DESeq2.txt\", fsep=\"\")\n",
    "DE_analysis_single(sample_file, count_file, outputfile, \"Normal\")"
   ]
  },
  {
   "cell_type": "code",
   "execution_count": null,
   "id": "754f30db-fa82-4398-a71f-3dec22357bcc",
   "metadata": {},
   "outputs": [],
   "source": [
    "# CRC\n",
    "\n",
    "outdir = file.path(PROJECT_DIR_o, \"DE/CRC/\", fsep=\"\")\n",
    "sample_file = file.path(outdir, \"samples.txt\", fsep=\"\")\n",
    "count_file = file.path(outdir, \"raw_reads.txt\", fsep=\"\")\n",
    "outputfile = file.path(outdir, \"DESeq2.txt\", fsep=\"\")\n",
    "DE_analysis_single(sample_file, count_file, outputfile, \"Lung\")"
   ]
  },
  {
   "cell_type": "code",
   "execution_count": null,
   "id": "cc1ac235-e18c-4fb6-86fc-ed945defe00e",
   "metadata": {},
   "outputs": [],
   "source": []
  }
 ],
 "metadata": {
  "kernelspec": {
   "display_name": "R",
   "language": "R",
   "name": "ir"
  },
  "language_info": {
   "codemirror_mode": "r",
   "file_extension": ".r",
   "mimetype": "text/x-r-source",
   "name": "R",
   "pygments_lexer": "r",
   "version": "4.3.1"
  }
 },
 "nbformat": 4,
 "nbformat_minor": 5
}
