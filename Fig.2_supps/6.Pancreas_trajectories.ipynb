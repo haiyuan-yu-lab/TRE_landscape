{
 "cells": [
  {
   "cell_type": "code",
   "execution_count": 3,
   "id": "81707ec2-03a1-4a61-97b7-f56e1cb51060",
   "metadata": {
    "editable": true,
    "execution": {
     "iopub.execute_input": "2025-09-20T22:55:01.046634Z",
     "iopub.status.busy": "2025-09-20T22:55:01.039828Z",
     "iopub.status.idle": "2025-09-20T22:55:22.334483Z",
     "shell.execute_reply": "2025-09-20T22:55:22.332654Z",
     "shell.execute_reply.started": "2025-09-20T22:55:01.046588Z"
    },
    "slideshow": {
     "slide_type": ""
    },
    "tags": []
   },
   "outputs": [],
   "source": [
    "import seaborn as sns\n",
    "import matplotlib\n",
    "import matplotlib.pyplot as plt\n",
    "import pybedtools\n",
    "import pandas as pd\n",
    "from collections import defaultdict\n",
    "from matplotlib.patches import Rectangle\n",
    "from scipy.stats import zscore\n",
    "from biodatatools.utils.common import json_load\n",
    "import itertools\n",
    "import gseapy as gp\n",
    "from biodata.delimited import DelimitedWriter\n",
    "import numpy as np\n",
    "import sys\n",
    "from pathlib import Path"
   ]
  },
  {
   "cell_type": "code",
   "execution_count": 45,
   "id": "d3a0c893-b787-4ffd-8bdf-53941cdd6297",
   "metadata": {
    "execution": {
     "iopub.execute_input": "2025-09-20T23:54:25.313142Z",
     "iopub.status.busy": "2025-09-20T23:54:25.311821Z",
     "iopub.status.idle": "2025-09-20T23:54:25.348367Z",
     "shell.execute_reply": "2025-09-20T23:54:25.346624Z",
     "shell.execute_reply.started": "2025-09-20T23:54:25.313084Z"
    }
   },
   "outputs": [],
   "source": [
    "font_dir = Path.cwd().parent / \"font\"\n",
    "for font in [\"Arial.ttf\", \"Arial_Bold.ttf\"]:\n",
    "    matplotlib.font_manager.fontManager.addfont(font_dir / font)\n",
    "matplotlib.rcParams[\"font.family\"] = \"Arial\"\n",
    "bfontsize = 12\n",
    "sfontsize = 9\n",
    "lw = 0.8"
   ]
  },
  {
   "cell_type": "code",
   "execution_count": 4,
   "id": "4685985a-5fbe-4b48-b4fc-626d6f652c35",
   "metadata": {
    "execution": {
     "iopub.execute_input": "2025-06-06T20:49:07.283776Z",
     "iopub.status.busy": "2025-06-06T20:49:07.283091Z",
     "iopub.status.idle": "2025-06-06T20:49:10.035072Z",
     "shell.execute_reply": "2025-06-06T20:49:10.033463Z",
     "shell.execute_reply.started": "2025-06-06T20:49:07.283724Z"
    }
   },
   "outputs": [],
   "source": [
    "sys.path.append(str(Path.cwd().parent))\n",
    "import utils"
   ]
  },
  {
   "cell_type": "code",
   "execution_count": 60,
   "id": "4a2e84f8-a8d7-469d-b3b5-9fde82b4f04c",
   "metadata": {
    "execution": {
     "iopub.execute_input": "2025-09-21T00:32:31.661195Z",
     "iopub.status.busy": "2025-09-21T00:32:31.660622Z",
     "iopub.status.idle": "2025-09-21T00:32:31.665999Z",
     "shell.execute_reply": "2025-09-21T00:32:31.665008Z",
     "shell.execute_reply.started": "2025-09-21T00:32:31.661162Z"
    },
    "tags": []
   },
   "outputs": [],
   "source": [
    "PROJECT_DIR_d = \"/home/yc2553/projects/HEA/databases/\"\n",
    "PROJECT_DIR_d2 = \"/fs/cbsuhy02/storage/yc2553/yc2553/databases/\"\n",
    "PROJECT_DIR_o = \"/home/yc2553/projects/HEA/output/\""
   ]
  },
  {
   "cell_type": "markdown",
   "id": "d7005e6e-4542-4954-947d-cd9199508f02",
   "metadata": {},
   "source": [
    "# DE analysis"
   ]
  },
  {
   "cell_type": "code",
   "execution_count": 4,
   "id": "98007c2d-38c1-45fe-809b-683a9538f762",
   "metadata": {
    "execution": {
     "iopub.execute_input": "2025-09-20T22:59:49.082227Z",
     "iopub.status.busy": "2025-09-20T22:59:49.079868Z",
     "iopub.status.idle": "2025-09-20T22:59:49.095494Z",
     "shell.execute_reply": "2025-09-20T22:59:49.094657Z",
     "shell.execute_reply.started": "2025-09-20T22:59:49.082176Z"
    }
   },
   "outputs": [],
   "source": [
    "# Used for DPGP clustering; pancreas lineage only\n",
    "# Do DE analysis at replicate level and then apply the DPGP model to data matrix at sample level\n",
    "\n",
    "samples = [\"SC5\", \"SC11\", \"SC6\", \"SC9\"]\n",
    "ps = [\"divergent\", \"unidirectional\"]\n",
    "ds = [\"distal\", \"proximal\"]"
   ]
  },
  {
   "cell_type": "code",
   "execution_count": 7,
   "id": "6d8df447-c9af-4826-8b59-0892deec0acd",
   "metadata": {
    "execution": {
     "iopub.execute_input": "2025-09-20T22:59:56.256739Z",
     "iopub.status.busy": "2025-09-20T22:59:56.256264Z",
     "iopub.status.idle": "2025-09-20T22:59:56.264686Z",
     "shell.execute_reply": "2025-09-20T22:59:56.263898Z",
     "shell.execute_reply.started": "2025-09-20T22:59:56.256709Z"
    }
   },
   "outputs": [],
   "source": [
    "labels = json_load(f\"{PROJECT_DIR_d}PROcap/metainfo/classifications.json\")"
   ]
  },
  {
   "cell_type": "code",
   "execution_count": 9,
   "id": "4734cd5f-16ef-4eb4-aa86-b40e6914acb5",
   "metadata": {
    "execution": {
     "iopub.execute_input": "2025-09-20T23:02:12.270645Z",
     "iopub.status.busy": "2025-09-20T23:02:12.269650Z",
     "iopub.status.idle": "2025-09-20T23:02:12.283953Z",
     "shell.execute_reply": "2025-09-20T23:02:12.282921Z",
     "shell.execute_reply.started": "2025-09-20T23:02:12.270591Z"
    }
   },
   "outputs": [],
   "source": [
    "# Pairwise comparison between four timepoints\n",
    "\n",
    "outputfile = f\"{PROJECT_DIR_o}DE/pancreas/samples.txt\"\n",
    "results = [[labels[s][0]] for s in samples for rep in [\"a\", \"b\"]]\n",
    "reps = [f\"{s}{rep}\" for s in samples for rep in [\"a\", \"b\"]]\n",
    "df = pd.DataFrame(results, index=reps, columns=[\"Condition\"])\n",
    "df.to_csv(outputfile, sep=\"\\t\")"
   ]
  },
  {
   "cell_type": "code",
   "execution_count": 10,
   "id": "b4b6c55a-3b93-4138-9c1f-07c751b31fc5",
   "metadata": {
    "execution": {
     "iopub.execute_input": "2025-09-20T23:02:12.285443Z",
     "iopub.status.busy": "2025-09-20T23:02:12.285100Z",
     "iopub.status.idle": "2025-09-20T23:02:12.296843Z",
     "shell.execute_reply": "2025-09-20T23:02:12.296151Z",
     "shell.execute_reply.started": "2025-09-20T23:02:12.285418Z"
    }
   },
   "outputs": [],
   "source": [
    "bws = {}\n",
    "ks = [\"pl\", \"mn\"]\n",
    "for r in reps:\n",
    "\tbws[r] = [f\"/home/kl945/EnhancerAtlas/PROcap/Alignments/{r}_5{k}.bw\" for k in ks]"
   ]
  },
  {
   "cell_type": "code",
   "execution_count": 26,
   "id": "a2d93c29-1fbe-4847-8c8c-95788691e983",
   "metadata": {
    "execution": {
     "iopub.execute_input": "2025-06-04T18:52:14.136035Z",
     "iopub.status.busy": "2025-06-04T18:52:14.135665Z",
     "iopub.status.idle": "2025-06-04T18:52:19.726900Z",
     "shell.execute_reply": "2025-06-04T18:52:19.726320Z",
     "shell.execute_reply.started": "2025-06-04T18:52:14.136013Z"
    }
   },
   "outputs": [],
   "source": [
    "# Keep elements found in these samples\n",
    "\n",
    "outputfile = f\"{PROJECT_DIR_o}DE/pancreas/elements.bed\"\n",
    "with DelimitedWriter(outputfile) as dw:\n",
    "\tfor p, d in itertools.product(ps, ds):\n",
    "\t\tdf = pd.read_table(f\"{PROJECT_DIR_d}PROcap/processed/binary_{p}_{d}.txt\", index_col=0)\n",
    "\t\tes = set(df[df[samples].sum(axis=1) >= 1].index)\n",
    "\t\tfor e in es:\n",
    "\t\t\tdw.write(e.split(\"_\"))"
   ]
  },
  {
   "cell_type": "code",
   "execution_count": 28,
   "id": "919dd490-dd52-4d05-8404-ef1c6a9b5abd",
   "metadata": {
    "execution": {
     "iopub.execute_input": "2025-06-04T18:52:53.596416Z",
     "iopub.status.busy": "2025-06-04T18:52:53.596032Z",
     "iopub.status.idle": "2025-06-04T18:54:57.960331Z",
     "shell.execute_reply": "2025-06-04T18:54:57.959799Z",
     "shell.execute_reply.started": "2025-06-04T18:52:53.596398Z"
    },
    "scrolled": true,
    "tags": []
   },
   "outputs": [],
   "source": [
    "inputfile = f\"{PROJECT_DIR_o}DE/pancreas/elements.bed\"\n",
    "outputfile = f\"{PROJECT_DIR_o}DE/PROcap/raw_reads.txt\"\n",
    "utils.get_count_matrix(inputfile, outputfile, reps, bws)"
   ]
  },
  {
   "cell_type": "markdown",
   "id": "fb3d89a3-b6bf-4f1e-a6fd-a0bae55118cd",
   "metadata": {},
   "source": [
    "# DPGP cluster"
   ]
  },
  {
   "cell_type": "markdown",
   "id": "064d6ab5-8d22-4ca9-8359-759909211de5",
   "metadata": {},
   "source": [
    "## Run DPGP"
   ]
  },
  {
   "cell_type": "code",
   "execution_count": 19,
   "id": "295326bd-e513-406e-adc4-cdfbab5d662b",
   "metadata": {
    "execution": {
     "iopub.execute_input": "2025-09-20T23:17:52.376908Z",
     "iopub.status.busy": "2025-09-20T23:17:52.375668Z",
     "iopub.status.idle": "2025-09-20T23:17:52.598190Z",
     "shell.execute_reply": "2025-09-20T23:17:52.597195Z",
     "shell.execute_reply.started": "2025-09-20T23:17:52.376836Z"
    },
    "scrolled": true
   },
   "outputs": [],
   "source": [
    "# Run DESeq2 in \"Data_preprocessing/4.DESeq2.ipynb\"\n",
    "\n",
    "inputfile = f\"{PROJECT_DIR_o}DE/pancreas/DE_elements.txt.gz\"\n",
    "df = pd.read_table(inputfile, header=None)\n",
    "DE_elements = set(df[0])"
   ]
  },
  {
   "cell_type": "code",
   "execution_count": 21,
   "id": "7131d1c1-350b-4544-8bbf-5b5bfcdc38c1",
   "metadata": {
    "execution": {
     "iopub.execute_input": "2025-09-20T23:19:38.898141Z",
     "iopub.status.busy": "2025-09-20T23:19:38.896673Z",
     "iopub.status.idle": "2025-09-20T23:19:55.147893Z",
     "shell.execute_reply": "2025-09-20T23:19:55.145478Z",
     "shell.execute_reply.started": "2025-09-20T23:19:38.898073Z"
    }
   },
   "outputs": [],
   "source": [
    "p = \"divergent\"\n",
    "d = \"distal\"\n",
    "df = pd.read_table(f\"{PROJECT_DIR_d}PROcap/processed/binary_{p}_{d}.txt\", index_col=0)\n",
    "es = set(df[df[samples].sum(axis=1) >= 1].index)"
   ]
  },
  {
   "cell_type": "code",
   "execution_count": 23,
   "id": "9ffedb26-f339-482e-9d11-2483e3c240e7",
   "metadata": {
    "execution": {
     "iopub.execute_input": "2025-09-20T23:20:45.647635Z",
     "iopub.status.busy": "2025-09-20T23:20:45.646232Z",
     "iopub.status.idle": "2025-09-20T23:20:45.658918Z",
     "shell.execute_reply": "2025-09-20T23:20:45.657904Z",
     "shell.execute_reply.started": "2025-09-20T23:20:45.647585Z"
    }
   },
   "outputs": [],
   "source": [
    "# Get normalized count matrix of selected regions for DPGP clustering\n",
    "\n",
    "df_exp = pd.read_table(f\"{PROJECT_DIR_d}PROcap/processed/norm_reads_vst_all.txt\", index_col=0)\n",
    "outputfile = f\"{PROJECT_DIR_o}DE/pancreas/DE_elements_norm_reads.txt.gz\"\n",
    "df = df_exp[samples].loc[[e for e in DE_elements if e in es]].shape\n",
    "df.to_csv(outputfile, sep=\"\\t\")"
   ]
  },
  {
   "cell_type": "code",
   "execution_count": null,
   "id": "308287fc-7245-4d29-93ca-ae262aca214c",
   "metadata": {},
   "outputs": [],
   "source": [
    "# https://github.com/PrincetonUniversity/DP_GP_cluster\n",
    "# Install in \"DPGP\" conda environment - python 3.6; pandas 0.25.3; ggplot2 3.3.6\n",
    "# cd /fs/cbsuhy02/storage/yc2553/yc2553/softwares/DP_GP_cluster\n",
    "# python setup.py install\n",
    "\n",
    "# Need to run the test in a different folder; otherwise will get \"ImportError: cannot import name core\"\n",
    "# DP_GP_cluster.py -i /fs/cbsuhy02/storage/yc2553/yc2553/softwares/DP_GP_cluster/test/test.txt -o /fs/cbsuhy02/storage/yc2553/yc2553/softwares/DP_GP_cluster/test/test -p png -n 20 --plot"
   ]
  },
  {
   "cell_type": "code",
   "execution_count": null,
   "id": "6f48da55-522b-4c56-8208-a8db49e30315",
   "metadata": {},
   "outputs": [],
   "source": [
    "# Made some modifications due to syntax changes between python 2 and 3\n",
    "\n",
    "# cd \"~/miniconda3_new/envs/DPGP/\"\n",
    "# \"bin/DP_GP_cluster.py\": add \"()\" to print statement\n",
    "# \"bin/DP_GP_cluster.py\": line 617, changed to \"for cluster, genes in optimal_cluster_labels.items():\"\n",
    "\n",
    "# \"lib/python3.6/site-packages/Gpy/core/parameterization/priors.py\": https://stackoverflow.com/questions/34777773/typeerror-object-takes-no-parameters-after-defining-new; line 366, changed to \"o = super(Prior, cls).__new__(cls)\"\n",
    "\n",
    "# \"lib/python3.6/site-packages/DP_GP/plot.py\": line 73, changed to \"IDs_split = [IDs[i:i+subplots_per_fig] for i in range(0, len(IDs), subplots_per_fig)]\""
   ]
  },
  {
   "cell_type": "code",
   "execution_count": null,
   "id": "a444d87c-9d1d-487a-8e4a-7e9be46576c2",
   "metadata": {},
   "outputs": [],
   "source": [
    "# Get clusters based on dynamic profiles of PRO-cap\n",
    "# We don't have biological replicates, so no need to run DP-GP timeseries clustering with replicate reproducibility as described in Kim et al."
   ]
  },
  {
   "cell_type": "code",
   "execution_count": 26,
   "id": "2bf10877-e4f0-436c-859c-15bc043f1efa",
   "metadata": {
    "execution": {
     "iopub.execute_input": "2025-09-20T23:25:55.685424Z",
     "iopub.status.busy": "2025-09-20T23:25:55.682401Z",
     "iopub.status.idle": "2025-09-20T23:25:55.712948Z",
     "shell.execute_reply": "2025-09-20T23:25:55.712187Z",
     "shell.execute_reply.started": "2025-09-20T23:25:55.685368Z"
    }
   },
   "outputs": [
    {
     "data": {
      "text/plain": [
       "'python timeseries.py --prefix PROcap --outdir /home/yc2553/projects/HEA/output/DPGP/ --inputfile /home/yc2553/projects/HEA/output/DE/pancreas/DE_elements_norm_reads.txt.gz --size_cutoff 0.02'"
      ]
     },
     "execution_count": 26,
     "metadata": {},
     "output_type": "execute_result"
    }
   ],
   "source": [
    "# conda activate DPGP\n",
    "# cd /home/yc2553/projects/HEA/codes/Fig.2_supps/timeseries\n",
    "# This takes hours...\n",
    "\n",
    "\" \".join([\"python timeseries.py\",\n",
    "\t\t\t\"--prefix PROcap\",\n",
    "\t\t\t\"--outdir\", f\"{PROJECT_DIR_o}DPGP/\",\n",
    "\t\t\t\"--inputfile\", f\"{PROJECT_DIR_o}DE/pancreas/DE_elements_norm_reads.txt.gz\",\n",
    "\t\t\t\"--size_cutoff 0.02\"\n",
    "\t\t\t])"
   ]
  },
  {
   "cell_type": "code",
   "execution_count": 27,
   "id": "67f91333-f83d-4dd8-8437-f4bebdd53b1f",
   "metadata": {
    "execution": {
     "iopub.execute_input": "2025-09-20T23:25:55.714988Z",
     "iopub.status.busy": "2025-09-20T23:25:55.714530Z",
     "iopub.status.idle": "2025-09-20T23:25:55.832578Z",
     "shell.execute_reply": "2025-09-20T23:25:55.831726Z",
     "shell.execute_reply.started": "2025-09-20T23:25:55.714948Z"
    }
   },
   "outputs": [
    {
     "data": {
      "text/plain": [
       "16023"
      ]
     },
     "execution_count": 27,
     "metadata": {},
     "output_type": "execute_result"
    }
   ],
   "source": [
    "inputfile = f\"{PROJECT_DIR_o}DPGP/full/hard/reordered/PROcap.full.hard.reordered.clustering.txt\"\n",
    "df_cluster = pd.read_table(inputfile)\n",
    "len(df_cluster)"
   ]
  },
  {
   "cell_type": "markdown",
   "id": "37b4a26a-1cf8-4b15-8466-9e0036c0774c",
   "metadata": {},
   "source": [
    "## Heatmap (logFC)"
   ]
  },
  {
   "cell_type": "code",
   "execution_count": 40,
   "id": "1f206330-e758-47bb-a1b6-feb429ea2730",
   "metadata": {
    "execution": {
     "iopub.execute_input": "2025-09-20T23:32:19.014320Z",
     "iopub.status.busy": "2025-09-20T23:32:19.012862Z",
     "iopub.status.idle": "2025-09-20T23:32:20.036243Z",
     "shell.execute_reply": "2025-09-20T23:32:20.035187Z",
     "shell.execute_reply.started": "2025-09-20T23:32:19.014277Z"
    }
   },
   "outputs": [
    {
     "data": {
      "text/html": [
       "<div>\n",
       "<style scoped>\n",
       "    .dataframe tbody tr th:only-of-type {\n",
       "        vertical-align: middle;\n",
       "    }\n",
       "\n",
       "    .dataframe tbody tr th {\n",
       "        vertical-align: top;\n",
       "    }\n",
       "\n",
       "    .dataframe thead th {\n",
       "        text-align: right;\n",
       "    }\n",
       "</style>\n",
       "<table border=\"1\" class=\"dataframe\">\n",
       "  <thead>\n",
       "    <tr style=\"text-align: right;\">\n",
       "      <th></th>\n",
       "      <th>SC11</th>\n",
       "      <th>SC6</th>\n",
       "      <th>SC9</th>\n",
       "    </tr>\n",
       "  </thead>\n",
       "  <tbody>\n",
       "    <tr>\n",
       "      <th>chr2_209307246_209307481</th>\n",
       "      <td>-4.905329</td>\n",
       "      <td>-5.860654</td>\n",
       "      <td>-4.923805</td>\n",
       "    </tr>\n",
       "    <tr>\n",
       "      <th>chr1_160410525_160411089</th>\n",
       "      <td>-2.735721</td>\n",
       "      <td>-1.400225</td>\n",
       "      <td>-1.608787</td>\n",
       "    </tr>\n",
       "  </tbody>\n",
       "</table>\n",
       "</div>"
      ],
      "text/plain": [
       "                              SC11       SC6       SC9\n",
       "chr2_209307246_209307481 -4.905329 -5.860654 -4.923805\n",
       "chr1_160410525_160411089 -2.735721 -1.400225 -1.608787"
      ]
     },
     "execution_count": 40,
     "metadata": {},
     "output_type": "execute_result"
    }
   ],
   "source": [
    "# Use logFC relative to ESCs from DESeq2\n",
    "\n",
    "pairs = [f\"{'_'.join(labels[s][0].split(' '))}_over_H9_ESCs\" for s in samples[1:]]\n",
    "dfs = [pd.read_table(f\"{PROJECT_DIR_o}DE/pancreas/{pair}_resultsAll.txt.gz\") for pair in pairs]\n",
    "df_FC = pd.concat([df[[\"log2FoldChange\"]] for df in dfs], axis=1)\n",
    "df_FC.columns = samples[1:]\n",
    "df_FC = df_FC.loc[list(df_cluster[\"id\"])]\n",
    "df_FC.head(2)"
   ]
  },
  {
   "cell_type": "code",
   "execution_count": 30,
   "id": "59f84572-22a8-4b62-aaa5-de3d6573d865",
   "metadata": {
    "execution": {
     "iopub.execute_input": "2025-09-20T23:30:31.223633Z",
     "iopub.status.busy": "2025-09-20T23:30:31.221484Z",
     "iopub.status.idle": "2025-09-20T23:30:31.255397Z",
     "shell.execute_reply": "2025-09-20T23:30:31.254313Z",
     "shell.execute_reply.started": "2025-09-20T23:30:31.223562Z"
    }
   },
   "outputs": [],
   "source": [
    "colors = [\"#80b1d3\", \"#FFFFFF\", \"#fb8072\"]\n",
    "cmap = plt.cm.colors.LinearSegmentedColormap.from_list(\"custom_pastel\", colors)"
   ]
  },
  {
   "cell_type": "code",
   "execution_count": 55,
   "id": "e9058f99-f304-4b17-a5a2-117e08d60e09",
   "metadata": {
    "execution": {
     "iopub.execute_input": "2025-09-21T00:00:20.048108Z",
     "iopub.status.busy": "2025-09-21T00:00:20.045317Z",
     "iopub.status.idle": "2025-09-21T00:00:20.077232Z",
     "shell.execute_reply": "2025-09-21T00:00:20.076131Z",
     "shell.execute_reply.started": "2025-09-21T00:00:20.048062Z"
    },
    "scrolled": true
   },
   "outputs": [],
   "source": [
    "def cluster_heatmap(df_FC, last_indices, vlims=[-2,2]):\n",
    "\tfig, ax = plt.subplots(figsize=(2,8))\n",
    "\tvmin, vmax = vlims\n",
    "\tg = sns.heatmap(df_FC, cmap=cmap, yticklabels=False, \n",
    "\t\t\t\t\t\t\tvmin=vmin, vmax=vmax, ax=ax)\n",
    "\tg.xaxis.set_ticks_position('top')\n",
    "\tg.xaxis.set_label_position('top')\n",
    "\tg.set_xticklabels([\"Endodermal cells\", \"Pancreatic progenitor cells\", \"Insulin producing beta-like cells\"],\n",
    "\t\t\t\t\t    rotation=45, ha='left', rotation_mode='anchor', fontsize=bfontsize\n",
    "\t\t\t\t\t)\n",
    "\n",
    "\tg.set_ylabel(\"Dynamically transcribed elements\", fontsize=bfontsize)\n",
    "\t\n",
    "\tg.collections[0].colorbar.remove()\n",
    "\tcbar_ax = fig.add_axes([1.2, 0.9, 0.5, 0.02])\n",
    "\tcbar = plt.colorbar(g.collections[0], cax=cbar_ax, orientation=\"horizontal\")\n",
    "\tcbar.set_ticks([vmin, 0, vmax])\n",
    "\tcbar.set_ticklabels([vmin, 0, vmax], fontsize=sfontsize)\n",
    "\tcbar.set_label(\"logFC relative to ESC\", fontsize=sfontsize)\n",
    "\t# fig.text(1.75, 0.95, \"logFC relative to ESC\", ha='center', va='center', fontsize=sfontsize)\n",
    "\t\n",
    "\tfor n in last_indices:\n",
    "\t\tg.axhline(y=n+1, color=\"black\", linewidth=1)\n",
    "\t\n",
    "\txmin, xmax, ymin, ymax = g.get_xlim()[0], g.get_xlim()[1], g.get_ylim()[0], g.get_ylim()[1]\n",
    "\trect = Rectangle((xmin, ymin), xmax - xmin, ymax - ymin, linewidth=3, edgecolor='black', facecolor='none')\n",
    "\tg.add_patch(rect)\n",
    "\t\n",
    "\treturn g"
   ]
  },
  {
   "cell_type": "code",
   "execution_count": 56,
   "id": "b1d1b68b-5b78-412d-9544-46ddebdd7a56",
   "metadata": {
    "execution": {
     "iopub.execute_input": "2025-09-21T00:00:20.083790Z",
     "iopub.status.busy": "2025-09-21T00:00:20.080911Z",
     "iopub.status.idle": "2025-09-21T00:00:20.612319Z",
     "shell.execute_reply": "2025-09-21T00:00:20.611486Z",
     "shell.execute_reply.started": "2025-09-21T00:00:20.083717Z"
    },
    "scrolled": true
   },
   "outputs": [
    {
     "data": {
      "text/plain": [
       "<Axes: ylabel='Dynamically transcribed elements'>"
      ]
     },
     "execution_count": 56,
     "metadata": {},
     "output_type": "execute_result"
    },
    {
     "data": {
      "image/png": "[encoded data removed]",
      "text/plain": [
       "<Figure size 200x800 with 2 Axes>"
      ]
     },
     "metadata": {},
     "output_type": "display_data"
    }
   ],
   "source": [
    "reversed_list = list(df_cluster[\"cluster\"])[::-1]\n",
    "last_indices = [len(reversed_list) - 1 - reversed_list.index(x) for x in range(np.max(df_cluster[\"cluster\"]),0,-1)][::-1]\n",
    "cluster_heatmap(df_FC, last_indices)"
   ]
  },
  {
   "cell_type": "markdown",
   "id": "4c4d67b5-719d-4b79-b87c-ad44eedfc7fc",
   "metadata": {},
   "source": [
    "# Functional enrichment of gene sets"
   ]
  },
  {
   "cell_type": "markdown",
   "id": "63de5b8d-0204-4738-b50c-5112b18d7051",
   "metadata": {},
   "source": [
    "## Get target genes"
   ]
  },
  {
   "cell_type": "code",
   "execution_count": 61,
   "id": "8d4e8727-20cf-4a9d-85be-418f2ad2540c",
   "metadata": {
    "execution": {
     "iopub.execute_input": "2025-09-21T00:32:35.076968Z",
     "iopub.status.busy": "2025-09-21T00:32:35.076350Z",
     "iopub.status.idle": "2025-09-21T00:32:38.885359Z",
     "shell.execute_reply": "2025-09-21T00:32:38.883578Z",
     "shell.execute_reply.started": "2025-09-21T00:32:35.076934Z"
    },
    "scrolled": true
   },
   "outputs": [],
   "source": [
    "inputfile = f\"{PROJECT_DIR_d2}ENCODE/rna_expression_report_H9.tsv\"\n",
    "df = pd.read_table(inputfile, low_memory=False, header=1)\n",
    "id_mapping = {}\n",
    "for index, row in df.iterrows():\n",
    "\tif \"ENSG\" in row[\"Feature ID\"]:\n",
    "\t\tid_mapping[row[\"Feature ID\"]] = row[\"Gene symbol\"]\n",
    "\telse:\n",
    "\t\tif \"tRNAscan\" not in row[\"Feature ID\"] and \"gSpikein\" not in row[\"Feature ID\"]:\n",
    "\t\t\tprint(row[\"ID\"].split(\"/\")[-2], row[\"Feature ID\"])"
   ]
  },
  {
   "cell_type": "code",
   "execution_count": 62,
   "id": "53cb29a8-5985-4175-98fd-f36790204399",
   "metadata": {
    "execution": {
     "iopub.execute_input": "2025-09-21T00:32:40.649684Z",
     "iopub.status.busy": "2025-09-21T00:32:40.649056Z",
     "iopub.status.idle": "2025-09-21T00:32:42.774593Z",
     "shell.execute_reply": "2025-09-21T00:32:42.773523Z",
     "shell.execute_reply.started": "2025-09-21T00:32:40.649644Z"
    }
   },
   "outputs": [
    {
     "name": "stdout",
     "output_type": "stream",
     "text": [
      "SC5 13494\n",
      "SC11 14245\n",
      "SC6 14615\n",
      "SC9 15572\n"
     ]
    }
   ],
   "source": [
    "# Get a background set of genes (TPM > 1 in at least one replicate) for each timepoint\n",
    "\n",
    "rna_encode = {\"SC5\": [\"ENCFF274WSK\", \"ENCFF216CFE\"],\n",
    "\t\t\t  \"SC11\": [\"ENCFF599HQU\", \"ENCFF643LBM\"],\n",
    "\t\t\t  \"SC6\": [\"ENCFF111ORO\", \"ENCFF411UJX\"],\n",
    "\t\t\t  \"SC9\": [\"ENCFF299BMI\", \"ENCFF206GDB\"]\n",
    "\t\t\t }\n",
    "background_genes = defaultdict(set)\n",
    "for s in samples:\n",
    "\tfor id in rna_encode[s]:\n",
    "\t\tinputfile = f\"{PROJECT_DIR_d2}ENCODE/{id}.tsv\"\n",
    "\t\tdf = pd.read_table(inputfile)\n",
    "\t\tgs = df[df[\"TPM\"]>1][\"gene_id\"]\n",
    "\t\tbackground_genes[s] |= set([id_mapping[g] for g in gs if g in id_mapping])\n",
    "\tprint(s, len(background_genes[s]))"
   ]
  },
  {
   "cell_type": "code",
   "execution_count": 63,
   "id": "9999665b-1767-4065-8392-da6da0564a27",
   "metadata": {
    "execution": {
     "iopub.execute_input": "2025-09-21T00:33:27.786983Z",
     "iopub.status.busy": "2025-09-21T00:33:27.785732Z",
     "iopub.status.idle": "2025-09-21T00:33:27.913770Z",
     "shell.execute_reply": "2025-09-21T00:33:27.912616Z",
     "shell.execute_reply.started": "2025-09-21T00:33:27.786931Z"
    }
   },
   "outputs": [
    {
     "name": "stdout",
     "output_type": "stream",
     "text": [
      "SC5 12254\n",
      "SC11 12686\n",
      "SC6 12996\n",
      "SC9 14121\n"
     ]
    }
   ],
   "source": [
    "# Get genomic coordinates of expressed genes\n",
    "\n",
    "inputfile = \"/fs/cbsuhy02/storage/yc2553/yc2553/projects/TRE_directionality/softwares/ABC-Enhancer-Gene-Prediction/reference/hg38/CollapsedGeneBounds.hg38.TSS500bp.bed\"\n",
    "df = pd.read_table(inputfile, header=None)\n",
    "for s in samples:\n",
    "\tdf2 = df[df[3].isin(background_genes[s])]\n",
    "\toutputfile = f\"{PROJECT_DIR_o}DE/pancreas/expressed_genes_{s}.bed\"\n",
    "\tdf2.to_csv(outputfile, header=None, index=False, sep=\"\\t\")\n",
    "\tprint(s, len(df2))"
   ]
  },
  {
   "cell_type": "code",
   "execution_count": 68,
   "id": "d8bd061a-62b6-41c3-9b77-ed15e2aa4fe9",
   "metadata": {
    "execution": {
     "iopub.execute_input": "2025-09-21T00:35:11.235287Z",
     "iopub.status.busy": "2025-09-21T00:35:11.234712Z",
     "iopub.status.idle": "2025-09-21T00:35:27.750212Z",
     "shell.execute_reply": "2025-09-21T00:35:27.749005Z",
     "shell.execute_reply.started": "2025-09-21T00:35:11.235252Z"
    }
   },
   "outputs": [],
   "source": [
    "# Assign elements to the closest expressed genes\n",
    "\n",
    "b1 = pybedtools.BedTool(f\"{PROJECT_DIR_o}DE/pancreas/elements.bed\").sort()\n",
    "for s in samples:\n",
    "\tb2 = pybedtools.BedTool(f\"{PROJECT_DIR_o}DE/pancreas/expressed_genes_{s}.bed\").sort()\n",
    "\tclosest = b1.closest(b2)\n",
    "\tclosest.saveas(f\"{PROJECT_DIR_o}DE/pancreas/closest_genes_{s}.bed\")"
   ]
  },
  {
   "cell_type": "code",
   "execution_count": 69,
   "id": "6343f81d-66bc-46cd-83a6-9b8b5659885d",
   "metadata": {
    "execution": {
     "iopub.execute_input": "2025-09-21T00:35:38.873820Z",
     "iopub.status.busy": "2025-09-21T00:35:38.873408Z",
     "iopub.status.idle": "2025-09-21T00:35:57.097659Z",
     "shell.execute_reply": "2025-09-21T00:35:57.095932Z",
     "shell.execute_reply.started": "2025-09-21T00:35:38.873790Z"
    }
   },
   "outputs": [],
   "source": [
    "e2g_closest = defaultdict(dict)\n",
    "for s in samples:\n",
    "\tinputfile = f\"{PROJECT_DIR_o}DE/pancreas/closest_genes_{s}.bed\"\n",
    "\tdf = pd.read_table(inputfile, header=None)\n",
    "\tfor _, row in df.iterrows():\n",
    "\t\te = \"_\".join([row[0], str(row[1]), str(row[2])])\n",
    "\t\tgene = row[6]\n",
    "\t\te2g_closest[s][e] = gene"
   ]
  },
  {
   "cell_type": "markdown",
   "id": "ab26a5e5-65aa-4146-b20e-e745e747173e",
   "metadata": {},
   "source": [
    "## Pathway enrichment"
   ]
  },
  {
   "cell_type": "code",
   "execution_count": 57,
   "id": "930cd9b7-29f6-465a-8f5e-ffe5e495690d",
   "metadata": {
    "execution": {
     "iopub.execute_input": "2025-09-21T00:02:36.597640Z",
     "iopub.status.busy": "2025-09-21T00:02:36.595848Z",
     "iopub.status.idle": "2025-09-21T00:02:36.615168Z",
     "shell.execute_reply": "2025-09-21T00:02:36.614142Z",
     "shell.execute_reply.started": "2025-09-21T00:02:36.597584Z"
    }
   },
   "outputs": [],
   "source": [
    "cluster_timing = {\n",
    "\t\t\t\t  \"SC5\": [[3]],\n",
    "\t\t\t\t  \"SC11\": [[5,6]],\n",
    "\t\t\t\t  \"SC6\": [[8]],\n",
    "\t\t\t\t  \"SC9\": [[9,10,11]]\n",
    "\t\t\t\t }"
   ]
  },
  {
   "cell_type": "code",
   "execution_count": 70,
   "id": "fe192ffa-cf35-4a16-ab29-0d580ac1c6d3",
   "metadata": {
    "execution": {
     "iopub.execute_input": "2025-09-21T00:35:57.100230Z",
     "iopub.status.busy": "2025-09-21T00:35:57.099856Z",
     "iopub.status.idle": "2025-09-21T00:35:57.139688Z",
     "shell.execute_reply": "2025-09-21T00:35:57.138689Z",
     "shell.execute_reply.started": "2025-09-21T00:35:57.100199Z"
    }
   },
   "outputs": [
    {
     "name": "stdout",
     "output_type": "stream",
     "text": [
      "SC5 (3,) 2269\n",
      "SC11 (5, 6) 2231\n",
      "SC6 (8,) 1251\n",
      "SC9 (9, 10, 11) 2151\n"
     ]
    }
   ],
   "source": [
    "# Closest genes\n",
    "\n",
    "genes = defaultdict(set)\n",
    "for s in cluster_timing:\n",
    "\tfor group in cluster_timing[s]:\n",
    "\t\tfor k in group:\n",
    "\t\t\tes = list(df_cluster[df_cluster[\"cluster\"]==k][\"id\"])\n",
    "\t\t\tfor e in es:\n",
    "\t\t\t\tgenes[(s, tuple(group))].add(e2g_closest[s][e])\n",
    "\t\tprint(s, tuple(group), len(genes[(s, tuple(group))]))"
   ]
  },
  {
   "cell_type": "code",
   "execution_count": 72,
   "id": "9401b065-4de4-4690-9f89-1d0de44ee1f3",
   "metadata": {
    "execution": {
     "iopub.execute_input": "2025-09-21T00:38:11.362237Z",
     "iopub.status.busy": "2025-09-21T00:38:11.361780Z",
     "iopub.status.idle": "2025-09-21T00:38:13.504542Z",
     "shell.execute_reply": "2025-09-21T00:38:13.503529Z",
     "shell.execute_reply.started": "2025-09-21T00:38:11.362205Z"
    },
    "scrolled": true
   },
   "outputs": [
    {
     "name": "stderr",
     "output_type": "stream",
     "text": [
      "2025-09-20 20:38:11,382 [INFO] User defined gene sets is given: /fs/cbsuhy02/storage/yc2553/yc2553/databases/GSEA/c2.cp.reactome.v2024.1.Hs.symbols.gmt\n",
      "2025-09-20 20:38:11,445 [INFO] Run: c2.cp.reactome.v2024.1.Hs.symbols.gmt \n",
      "2025-09-20 20:38:11,448 [INFO] ['WARS2', 'VRTN', 'GPR176', 'PCOLCE2']\n",
      "2025-09-20 20:38:11,449 [INFO] ['BTBD7', 'PCOLCE2', 'PTOV1', 'SNUPN']\n",
      "2025-09-20 20:38:11,936 [INFO] Done.\n",
      "2025-09-20 20:38:11,950 [INFO] User defined gene sets is given: /fs/cbsuhy02/storage/yc2553/yc2553/databases/GSEA/c2.cp.reactome.v2024.1.Hs.symbols.gmt\n",
      "2025-09-20 20:38:11,974 [INFO] Run: c2.cp.reactome.v2024.1.Hs.symbols.gmt \n",
      "2025-09-20 20:38:11,976 [INFO] ['R3HCC1', 'HIF3A', 'HIVEP2', 'SOX5']\n",
      "2025-09-20 20:38:11,978 [INFO] ['GALNT18', 'BTBD7', 'PTOV1', 'PCOLCE2']\n",
      "2025-09-20 20:38:12,506 [INFO] Done.\n",
      "2025-09-20 20:38:12,517 [INFO] User defined gene sets is given: /fs/cbsuhy02/storage/yc2553/yc2553/databases/GSEA/c2.cp.reactome.v2024.1.Hs.symbols.gmt\n",
      "2025-09-20 20:38:12,532 [INFO] Run: c2.cp.reactome.v2024.1.Hs.symbols.gmt \n",
      "2025-09-20 20:38:12,535 [INFO] ['MAPK8IP3', 'RND1', 'USP44', 'LASP1']\n",
      "2025-09-20 20:38:12,537 [INFO] ['BTBD7', 'PCOLCE2', 'PTOV1', 'SNUPN']\n",
      "2025-09-20 20:38:12,951 [INFO] Done.\n",
      "2025-09-20 20:38:12,963 [INFO] User defined gene sets is given: /fs/cbsuhy02/storage/yc2553/yc2553/databases/GSEA/c2.cp.reactome.v2024.1.Hs.symbols.gmt\n",
      "2025-09-20 20:38:12,978 [INFO] Run: c2.cp.reactome.v2024.1.Hs.symbols.gmt \n",
      "2025-09-20 20:38:12,981 [INFO] ['KRT78', 'CERK', 'TSC22D3', 'GLTP']\n",
      "2025-09-20 20:38:12,982 [INFO] ['GALNT18', 'BTBD7', 'PTOV1', 'PCOLCE2']\n",
      "2025-09-20 20:38:13,496 [INFO] Done.\n"
     ]
    }
   ],
   "source": [
    "dfs = {}\n",
    "gmt = f\"{PROJECT_DIR_d2}GSEA/c2.cp.reactome.v2024.1.Hs.symbols.gmt\"\n",
    "for k in genes:\n",
    "\tenr = gp.enrich(gene_list=list(genes[k]),\n",
    "\t\t\t\t\tbackground=background_genes[k[0]],\n",
    "\t\t\t\t\t gene_sets=gmt,\n",
    "\t\t\t\t\t verbose=True\n",
    "\t\t\t\t\t )\n",
    "\tdfs[k] = enr.results"
   ]
  },
  {
   "cell_type": "code",
   "execution_count": 75,
   "id": "88d53536-d445-4975-a5f6-aa5ca708cedd",
   "metadata": {
    "execution": {
     "iopub.execute_input": "2025-09-21T00:39:21.372398Z",
     "iopub.status.busy": "2025-09-21T00:39:21.371901Z",
     "iopub.status.idle": "2025-09-21T00:39:21.392631Z",
     "shell.execute_reply": "2025-09-21T00:39:21.391752Z",
     "shell.execute_reply.started": "2025-09-21T00:39:21.372369Z"
    }
   },
   "outputs": [
    {
     "data": {
      "text/html": [
       "<div>\n",
       "<style scoped>\n",
       "    .dataframe tbody tr th:only-of-type {\n",
       "        vertical-align: middle;\n",
       "    }\n",
       "\n",
       "    .dataframe tbody tr th {\n",
       "        vertical-align: top;\n",
       "    }\n",
       "\n",
       "    .dataframe thead th {\n",
       "        text-align: right;\n",
       "    }\n",
       "</style>\n",
       "<table border=\"1\" class=\"dataframe\">\n",
       "  <thead>\n",
       "    <tr style=\"text-align: right;\">\n",
       "      <th></th>\n",
       "      <th>Gene_set</th>\n",
       "      <th>Term</th>\n",
       "      <th>Overlap</th>\n",
       "      <th>Adjusted P-value</th>\n",
       "    </tr>\n",
       "  </thead>\n",
       "  <tbody>\n",
       "    <tr>\n",
       "      <th>288</th>\n",
       "      <td>('SC5', (3,))</td>\n",
       "      <td>REACTOME_DEVELOPMENTAL_BIOLOGY</td>\n",
       "      <td>185/845</td>\n",
       "      <td>0.015303</td>\n",
       "    </tr>\n",
       "    <tr>\n",
       "      <th>357</th>\n",
       "      <td>('SC5', (3,))</td>\n",
       "      <td>REACTOME_EPHRIN_SIGNALING</td>\n",
       "      <td>10/18</td>\n",
       "      <td>0.031225</td>\n",
       "    </tr>\n",
       "  </tbody>\n",
       "</table>\n",
       "</div>"
      ],
      "text/plain": [
       "          Gene_set                            Term  Overlap  Adjusted P-value\n",
       "288  ('SC5', (3,))  REACTOME_DEVELOPMENTAL_BIOLOGY  185/845          0.015303\n",
       "357  ('SC5', (3,))       REACTOME_EPHRIN_SIGNALING    10/18          0.031225"
      ]
     },
     "execution_count": 75,
     "metadata": {},
     "output_type": "execute_result"
    }
   ],
   "source": [
    "dfs2 = []\n",
    "for k in dfs:\n",
    "\tdf = dfs[k][dfs[k][\"Adjusted P-value\"]<0.05].copy()\n",
    "\tif len(df) > 0:\n",
    "\t\tdf[\"Gene_set\"] = str(k)\n",
    "\t\tdfs2.append(df[[\"Gene_set\", \"Term\", \"Overlap\", \"Adjusted P-value\"]])\n",
    "df_merge = pd.concat(dfs2)\n",
    "df_merge.head(2)"
   ]
  },
  {
   "cell_type": "code",
   "execution_count": 76,
   "id": "a1b9168a-3375-4242-9f56-042c6be8d79b",
   "metadata": {
    "execution": {
     "iopub.execute_input": "2025-09-21T00:39:22.222358Z",
     "iopub.status.busy": "2025-09-21T00:39:22.221897Z",
     "iopub.status.idle": "2025-09-21T00:39:22.233354Z",
     "shell.execute_reply": "2025-09-21T00:39:22.232494Z",
     "shell.execute_reply.started": "2025-09-21T00:39:22.222331Z"
    }
   },
   "outputs": [
    {
     "name": "stdout",
     "output_type": "stream",
     "text": [
      "('SC5', (3,)) ['Transcriptional regulation of pluripotent stem cells', 'Pou5f1 oct4 sox2 nanog activate genes related to proliferation', 'Stimuli sensing channels', 'Developmental biology', 'Eph ephrin mediated repulsion of cells']\n",
      "('SC11', (5, 6)) ['Developmental biology', 'Rho gtpase cycle', 'Cdc42 gtpase cycle', 'Rhoa gtpase cycle', 'Formation of definitive endoderm']\n",
      "('SC6', (8,)) ['Cell cell junction organization', 'Cell cell communication', 'Cell junction organization', 'Regulation of beta cell development', 'Developmental biology']\n",
      "('SC9', (9, 10, 11)) ['Signaling by receptor tyrosine kinases', 'Developmental biology', 'Hemostasis', 'Signaling by rho gtpases miro gtpases and rhobtb3', 'Leishmania infection']\n"
     ]
    }
   ],
   "source": [
    "for k in dfs:\n",
    "\tprint(k, [\" \".join(term.split(\"_\")[1:]).capitalize() for term in df_merge[df_merge[\"Gene_set\"]==str(k)].sort_values(by=\"Adjusted P-value\")[\"Term\"]][:5])"
   ]
  },
  {
   "cell_type": "code",
   "execution_count": 87,
   "id": "070b10b1-aea8-47de-bc66-189fa4bf25d2",
   "metadata": {
    "execution": {
     "iopub.execute_input": "2025-09-21T00:46:52.013836Z",
     "iopub.status.busy": "2025-09-21T00:46:52.013137Z",
     "iopub.status.idle": "2025-09-21T00:46:52.431517Z",
     "shell.execute_reply": "2025-09-21T00:46:52.430473Z",
     "shell.execute_reply.started": "2025-09-21T00:46:52.013777Z"
    },
    "scrolled": true
   },
   "outputs": [
    {
     "data": {
      "text/plain": [
       "Text(4.3, 14426.1, 'Signaling by receptor tyrosine kinases\\nSignaling by Rho GTPases Miro GTPases and RHOBTB3')"
      ]
     },
     "execution_count": 87,
     "metadata": {},
     "output_type": "execute_result"
    },
    {
     "data": {
      "image/png": "[encoded data removed]",
      "text/plain": [
       "<Figure size 200x800 with 2 Axes>"
      ]
     },
     "metadata": {},
     "output_type": "display_data"
    }
   ],
   "source": [
    "g = cluster_heatmap(df_FC, last_indices)\n",
    "g.add_patch(Rectangle((3.5, last_indices[1]), 0.01, last_indices[2]-last_indices[1], fill=False, edgecolor=\"#fb6a4a\", lw=lw, clip_on=False))\n",
    "g.text(3.8, (last_indices[1]+last_indices[2])/2+0.1, \"Transcriptional regulation of pluripotent stem cells\\nOCT4/SOX2/NANOG activate genes related to proliferation\", color=\"#fb6a4a\", fontsize=sfontsize, va='center')\n",
    "\n",
    "g.add_patch(Rectangle((3.5, last_indices[3]), 0.01, last_indices[5]-last_indices[3], fill=False, edgecolor=\"#4292c6\", lw=lw, clip_on=False))\n",
    "g.text(3.8, (last_indices[3]+last_indices[5])/2+0.1, \"Formation of definitive endoderm\\nRho GTPase cycle\", color=\"#4292c6\", fontsize=sfontsize, va='center')\n",
    "\n",
    "g.add_patch(Rectangle((3.5, last_indices[6]), 0.01, last_indices[7]-last_indices[6], fill=False, edgecolor=\"#c51b7d\", lw=lw, clip_on=False))\n",
    "g.text(3.8, (last_indices[6]+last_indices[7])/2+0.1, \"Regulation of gene expression in early pancreatic precursor cells\\nRegulation of beta cell development\", color=\"#c51b7d\", fontsize=sfontsize, va='center')\n",
    "\n",
    "g.add_patch(Rectangle((4, last_indices[7]), 0.01, last_indices[10]-last_indices[7], fill=False, edgecolor=\"#6a51a3\", lw=lw, clip_on=False))\n",
    "g.text(4.3, (last_indices[7]+last_indices[10])/2+0.1, \"Signaling by receptor tyrosine kinases\\nSignaling by Rho GTPases Miro GTPases and RHOBTB3\", color=\"#6a51a3\", fontsize=sfontsize, va='center')"
   ]
  },
  {
   "cell_type": "code",
   "execution_count": null,
   "id": "243c9b84-5827-4fc7-838d-d8866ab409bb",
   "metadata": {},
   "outputs": [],
   "source": []
  }
 ],
 "metadata": {
  "kernelspec": {
   "display_name": "Python 3 (ipykernel)",
   "language": "python",
   "name": "python3"
  },
  "language_info": {
   "codemirror_mode": {
    "name": "ipython",
    "version": 3
   },
   "file_extension": ".py",
   "mimetype": "text/x-python",
   "name": "python",
   "nbconvert_exporter": "python",
   "pygments_lexer": "ipython3",
   "version": "3.10.8"
  }
 },
 "nbformat": 4,
 "nbformat_minor": 5
}
