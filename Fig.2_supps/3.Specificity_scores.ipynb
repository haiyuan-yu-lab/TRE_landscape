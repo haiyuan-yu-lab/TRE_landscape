{
 "cells": [
  {
   "cell_type": "code",
   "execution_count": 1,
   "id": "81707ec2-03a1-4a61-97b7-f56e1cb51060",
   "metadata": {
    "editable": true,
    "execution": {
     "iopub.execute_input": "2025-09-20T15:26:00.147347Z",
     "iopub.status.busy": "2025-09-20T15:26:00.146806Z",
     "iopub.status.idle": "2025-09-20T15:27:04.576400Z",
     "shell.execute_reply": "2025-09-20T15:27:04.575196Z",
     "shell.execute_reply.started": "2025-09-20T15:26:00.147313Z"
    },
    "slideshow": {
     "slide_type": ""
    },
    "tags": []
   },
   "outputs": [],
   "source": [
    "import seaborn as sns\n",
    "import pandas as pd\n",
    "from pathlib import Path\n",
    "import matplotlib\n",
    "import matplotlib.pyplot as plt\n",
    "import numpy as np\n",
    "from collections import defaultdict, Counter\n",
    "from scipy.stats import entropy\n",
    "from mphelper import ProcessWrapPool\n",
    "import matplotlib.patches as patches\n",
    "import matplotlib.colors as mcolors\n",
    "import itertools\n",
    "import matplotlib.lines as mlines\n",
    "from biodatatools.utils.common import json_load"
   ]
  },
  {
   "cell_type": "code",
   "execution_count": 2,
   "id": "bbab208f-18a0-4e34-a0f8-7bb5e140eabe",
   "metadata": {
    "execution": {
     "iopub.execute_input": "2025-09-20T15:27:04.578664Z",
     "iopub.status.busy": "2025-09-20T15:27:04.578056Z",
     "iopub.status.idle": "2025-09-20T15:27:04.627175Z",
     "shell.execute_reply": "2025-09-20T15:27:04.626237Z",
     "shell.execute_reply.started": "2025-09-20T15:27:04.578633Z"
    }
   },
   "outputs": [],
   "source": [
    "font_dir = Path.cwd().parent / \"font\"\n",
    "for font in [\"Arial.ttf\", \"Arial_Bold.ttf\"]:\n",
    "    matplotlib.font_manager.fontManager.addfont(font_dir / font)\n",
    "matplotlib.rcParams[\"font.family\"] = \"Arial\"\n",
    "bfontsize = 12\n",
    "sfontsize = 9\n",
    "lw = 0.8"
   ]
  },
  {
   "cell_type": "code",
   "execution_count": 3,
   "id": "14e85bd0-5f41-43dd-bac2-b1757e02c853",
   "metadata": {
    "execution": {
     "iopub.execute_input": "2025-09-20T15:27:04.628586Z",
     "iopub.status.busy": "2025-09-20T15:27:04.628186Z",
     "iopub.status.idle": "2025-09-20T15:27:06.087806Z",
     "shell.execute_reply": "2025-09-20T15:27:06.086660Z",
     "shell.execute_reply.started": "2025-09-20T15:27:04.628558Z"
    },
    "tags": []
   },
   "outputs": [],
   "source": [
    "PROJECT_DIR_d = \"/home/yc2553/projects/HEA/databases/\"\n",
    "PROJECT_DIR_o = \"/home/yc2553/projects/HEA/output/\""
   ]
  },
  {
   "cell_type": "markdown",
   "id": "09e94898-c1a2-436c-817c-1d7992237a22",
   "metadata": {
    "editable": true,
    "slideshow": {
     "slide_type": ""
    },
    "tags": []
   },
   "source": [
    "# Samples"
   ]
  },
  {
   "cell_type": "code",
   "execution_count": 4,
   "id": "ea0661f3-a985-41c3-a3db-842b3af68cac",
   "metadata": {
    "execution": {
     "iopub.execute_input": "2025-09-20T15:27:58.334729Z",
     "iopub.status.busy": "2025-09-20T15:27:58.334177Z",
     "iopub.status.idle": "2025-09-20T15:27:58.338455Z",
     "shell.execute_reply": "2025-09-20T15:27:58.337775Z",
     "shell.execute_reply.started": "2025-09-20T15:27:58.334690Z"
    }
   },
   "outputs": [],
   "source": [
    "p = \"divergent\"\n",
    "ds = [\"distal\", \"proximal\"]"
   ]
  },
  {
   "cell_type": "code",
   "execution_count": 5,
   "id": "33b3db68-5be1-4089-9d4c-48d9ffd384d6",
   "metadata": {
    "execution": {
     "iopub.execute_input": "2025-09-20T15:28:20.503594Z",
     "iopub.status.busy": "2025-09-20T15:28:20.502822Z",
     "iopub.status.idle": "2025-09-20T15:28:20.516728Z",
     "shell.execute_reply": "2025-09-20T15:28:20.516021Z",
     "shell.execute_reply.started": "2025-09-20T15:28:20.503558Z"
    }
   },
   "outputs": [],
   "source": [
    "labels = json_load(f\"{PROJECT_DIR_d}PROcap/metainfo/classifications.json\")"
   ]
  },
  {
   "cell_type": "code",
   "execution_count": 22,
   "id": "77c42d02-c270-4157-a3ef-0cfc8dd30a0c",
   "metadata": {
    "execution": {
     "iopub.execute_input": "2025-09-20T15:56:32.988821Z",
     "iopub.status.busy": "2025-09-20T15:56:32.988316Z",
     "iopub.status.idle": "2025-09-20T15:56:32.996321Z",
     "shell.execute_reply": "2025-09-20T15:56:32.995585Z",
     "shell.execute_reply.started": "2025-09-20T15:56:32.988779Z"
    }
   },
   "outputs": [],
   "source": [
    "all_samples = json_load(f\"{PROJECT_DIR_d}PROcap/metainfo/samples.json\")[\"normal_tissues\"]"
   ]
  },
  {
   "cell_type": "code",
   "execution_count": 41,
   "id": "494c279d-d973-4d75-a26b-2cd20c23e1b9",
   "metadata": {
    "execution": {
     "iopub.execute_input": "2025-09-20T16:19:11.328477Z",
     "iopub.status.busy": "2025-09-20T16:19:11.327831Z",
     "iopub.status.idle": "2025-09-20T16:19:11.447237Z",
     "shell.execute_reply": "2025-09-20T16:19:11.446139Z",
     "shell.execute_reply.started": "2025-09-20T16:19:11.328427Z"
    }
   },
   "outputs": [],
   "source": [
    "metafile = f\"{PROJECT_DIR_o}tables/SuppTable1.xlsx\"\n",
    "df_metrics = pd.read_excel(metafile, sheet_name=2)\n",
    "reads = {}\n",
    "for _, row in df_metrics.iterrows():\n",
    "    reads[row[\"PRO-cap sample ID\"]] = row[\"Uniquely mapped, deduplicated read pairs\"]"
   ]
  },
  {
   "cell_type": "code",
   "execution_count": 44,
   "id": "e362d48c-9385-43fe-af56-6be5edba231e",
   "metadata": {
    "execution": {
     "iopub.execute_input": "2025-09-20T16:19:24.557965Z",
     "iopub.status.busy": "2025-09-20T16:19:24.557330Z",
     "iopub.status.idle": "2025-09-20T16:19:24.564129Z",
     "shell.execute_reply": "2025-09-20T16:19:24.563394Z",
     "shell.execute_reply.started": "2025-09-20T16:19:24.557918Z"
    }
   },
   "outputs": [
    {
     "data": {
      "text/plain": [
       "128"
      ]
     },
     "execution_count": 44,
     "metadata": {},
     "output_type": "execute_result"
    }
   ],
   "source": [
    "samples = [s for s in all_samples if reads[s] >= 10e6]\n",
    "len(samples)"
   ]
  },
  {
   "cell_type": "code",
   "execution_count": 9,
   "id": "b814e70b-a261-4466-a387-d0e2a98243d2",
   "metadata": {
    "execution": {
     "iopub.execute_input": "2025-09-20T15:39:37.714670Z",
     "iopub.status.busy": "2025-09-20T15:39:37.714218Z",
     "iopub.status.idle": "2025-09-20T15:40:43.512184Z",
     "shell.execute_reply": "2025-09-20T15:40:43.510871Z",
     "shell.execute_reply.started": "2025-09-20T15:39:37.714640Z"
    }
   },
   "outputs": [],
   "source": [
    "df_exp = pd.read_table(f\"{PROJECT_DIR_d}PROcap/processed/norm_reads_all.txt\", index_col=0)"
   ]
  },
  {
   "cell_type": "code",
   "execution_count": 25,
   "id": "899bf45e-a719-4b37-935c-01a73fb87bb8",
   "metadata": {
    "execution": {
     "iopub.execute_input": "2025-09-20T15:56:49.489454Z",
     "iopub.status.busy": "2025-09-20T15:56:49.488672Z",
     "iopub.status.idle": "2025-09-20T15:57:46.873919Z",
     "shell.execute_reply": "2025-09-20T15:57:46.870956Z",
     "shell.execute_reply.started": "2025-09-20T15:56:49.489426Z"
    }
   },
   "outputs": [],
   "source": [
    "# Only include elements found in at least one sample tested here\n",
    "# Need to confirm if this inputfile is reasonable; if not, reprerocess in \"1.Data_preprocessing.ipynb\" and replace the inputfile here\n",
    "\n",
    "dfs = {}\n",
    "for d in ds:\n",
    "\tdf = pd.read_table(f\"{PROJECT_DIR_d}PROcap/processed/binary_{p}_{d}.txt\", index_col=0)\n",
    "\tes = list(df[df[samples].sum(axis=1) >= 1].index)\n",
    "\tdfs[(p,d)] = df_exp[samples].loc[es]"
   ]
  },
  {
   "cell_type": "markdown",
   "id": "cb03aa02-f514-4ae0-8c97-f1b880e0c3b7",
   "metadata": {},
   "source": [
    "# Get specificity scores"
   ]
  },
  {
   "cell_type": "code",
   "execution_count": 9,
   "id": "3ddebeba-531c-4821-8b26-a20a7b208600",
   "metadata": {
    "execution": {
     "iopub.execute_input": "2025-06-02T15:35:40.711179Z",
     "iopub.status.busy": "2025-06-02T15:35:40.710856Z",
     "iopub.status.idle": "2025-06-02T15:35:40.714257Z",
     "shell.execute_reply": "2025-06-02T15:35:40.713774Z",
     "shell.execute_reply.started": "2025-06-02T15:35:40.711155Z"
    }
   },
   "outputs": [],
   "source": [
    "# Refer to Fantom5 paper\n",
    "# Specificity(X) = 1 - (entropy(X)/log2(N)), where X is a vector of sample average expression values for an element over all tissue types and N its cardinality (|X|, the number of tissue types)."
   ]
  },
  {
   "cell_type": "code",
   "execution_count": 26,
   "id": "e5819d2e-98ca-4d7d-93ee-48604d991437",
   "metadata": {
    "execution": {
     "iopub.execute_input": "2025-09-20T15:58:33.545720Z",
     "iopub.status.busy": "2025-09-20T15:58:33.545060Z",
     "iopub.status.idle": "2025-09-20T15:58:33.563564Z",
     "shell.execute_reply": "2025-09-20T15:58:33.562560Z",
     "shell.execute_reply.started": "2025-09-20T15:58:33.545681Z"
    }
   },
   "outputs": [],
   "source": [
    "# Note that not all tissue types are well clustered\n",
    "\n",
    "types = defaultdict(list)\n",
    "for s in samples:\n",
    "\ttypes[labels[s][1]].append(s)"
   ]
  },
  {
   "cell_type": "code",
   "execution_count": 27,
   "id": "dff789d0-a3f6-4b4d-8abb-6a9f292774a8",
   "metadata": {
    "execution": {
     "iopub.execute_input": "2025-09-20T15:58:38.274133Z",
     "iopub.status.busy": "2025-09-20T15:58:38.273547Z",
     "iopub.status.idle": "2025-09-20T15:58:38.281836Z",
     "shell.execute_reply": "2025-09-20T15:58:38.281116Z",
     "shell.execute_reply.started": "2025-09-20T15:58:38.274100Z"
    }
   },
   "outputs": [
    {
     "data": {
      "text/plain": [
       "37"
      ]
     },
     "execution_count": 27,
     "metadata": {},
     "output_type": "execute_result"
    }
   ],
   "source": [
    "len(types)"
   ]
  },
  {
   "cell_type": "code",
   "execution_count": 11,
   "id": "133a7632-29ca-40b3-8186-991b6c1d400b",
   "metadata": {
    "execution": {
     "iopub.execute_input": "2025-09-20T15:41:06.981321Z",
     "iopub.status.busy": "2025-09-20T15:41:06.981053Z",
     "iopub.status.idle": "2025-09-20T15:41:06.985528Z",
     "shell.execute_reply": "2025-09-20T15:41:06.984774Z",
     "shell.execute_reply.started": "2025-09-20T15:41:06.981298Z"
    }
   },
   "outputs": [],
   "source": [
    "def get_specificity(row):\n",
    "\tspecificity = 1 - entropy(row, base=2)/np.log2(len(row))\n",
    "\treturn specificity"
   ]
  },
  {
   "cell_type": "code",
   "execution_count": 12,
   "id": "f202baca-35b8-4e9a-ac5a-9040cae0824b",
   "metadata": {
    "execution": {
     "iopub.execute_input": "2025-09-20T15:41:06.987140Z",
     "iopub.status.busy": "2025-09-20T15:41:06.986811Z",
     "iopub.status.idle": "2025-09-20T15:41:24.438742Z",
     "shell.execute_reply": "2025-09-20T15:41:24.437936Z",
     "shell.execute_reply.started": "2025-09-20T15:41:06.987115Z"
    }
   },
   "outputs": [],
   "source": [
    "def get_specificity_matrix(df_norm, outputfile):\n",
    "\tresults = []\n",
    "\tfor index, row in df_norm.iterrows():\n",
    "\t\tvalues = []\n",
    "\t\tfor type in types:\n",
    "\t\t\tss = [s for s in samples if labels[s][1] == type]\n",
    "\t\t\tvalues.append(np.mean([row[s] for s in ss]))\n",
    "\t\tresults.append(values)\n",
    "\tdf_X = pd.DataFrame(results, columns=types, index=df_norm.index)\n",
    "\tdf_X[\"Specificity\"] = df_X.apply(get_specificity, axis=1)\n",
    "\tdf_X.to_csv(outputfile, sep=\"\\t\")"
   ]
  },
  {
   "cell_type": "code",
   "execution_count": 28,
   "id": "f37cc06a-f92d-4644-b085-d2336be88381",
   "metadata": {
    "execution": {
     "iopub.execute_input": "2025-09-20T15:59:06.863353Z",
     "iopub.status.busy": "2025-09-20T15:59:06.862775Z",
     "iopub.status.idle": "2025-09-20T16:04:38.260167Z",
     "shell.execute_reply": "2025-09-20T16:04:38.258621Z",
     "shell.execute_reply.started": "2025-09-20T15:59:06.863320Z"
    },
    "scrolled": true
   },
   "outputs": [],
   "source": [
    "pwpool = ProcessWrapPool(len(ds))\n",
    "\n",
    "for d in ds:\n",
    "\toutputfile = f\"{PROJECT_DIR_d}PROcap/specificity_{p}_{d}.txt\"\n",
    "\tpwpool.run(get_specificity_matrix, args=[dfs[(p,d)], outputfile])"
   ]
  },
  {
   "cell_type": "code",
   "execution_count": 29,
   "id": "d2b462cb-8781-4689-9492-631d0d93e23c",
   "metadata": {
    "execution": {
     "iopub.execute_input": "2025-09-20T16:04:38.262675Z",
     "iopub.status.busy": "2025-09-20T16:04:38.262317Z",
     "iopub.status.idle": "2025-09-20T16:04:38.267663Z",
     "shell.execute_reply": "2025-09-20T16:04:38.266920Z",
     "shell.execute_reply.started": "2025-09-20T16:04:38.262636Z"
    }
   },
   "outputs": [],
   "source": [
    "len(pwpool.finished_tasks)"
   ]
  },
  {
   "cell_type": "code",
   "execution_count": 16,
   "id": "5282cdc8-f58c-48ad-8406-8ea59cbddb4f",
   "metadata": {
    "execution": {
     "iopub.execute_input": "2025-06-02T16:20:24.771337Z",
     "iopub.status.busy": "2025-06-02T16:20:24.771047Z",
     "iopub.status.idle": "2025-06-02T16:20:25.615849Z",
     "shell.execute_reply": "2025-06-02T16:20:25.615420Z",
     "shell.execute_reply.started": "2025-06-02T16:20:24.771317Z"
    }
   },
   "outputs": [],
   "source": [
    "pwpool.close()"
   ]
  },
  {
   "cell_type": "markdown",
   "id": "266ba226-8cff-48b1-aa4f-c13b5d56b007",
   "metadata": {},
   "source": [
    "# Comparison"
   ]
  },
  {
   "cell_type": "markdown",
   "id": "5fdd74ad-2e4e-4d41-9319-feb8b08ed9a5",
   "metadata": {},
   "source": [
    "## Distal vs. proximal"
   ]
  },
  {
   "cell_type": "code",
   "execution_count": 31,
   "id": "1e954122-98e0-4a82-8b56-58385a91204d",
   "metadata": {
    "execution": {
     "iopub.execute_input": "2025-09-20T16:05:43.677638Z",
     "iopub.status.busy": "2025-09-20T16:05:43.677137Z",
     "iopub.status.idle": "2025-09-20T16:05:46.237720Z",
     "shell.execute_reply": "2025-09-20T16:05:46.236933Z",
     "shell.execute_reply.started": "2025-09-20T16:05:43.677607Z"
    }
   },
   "outputs": [
    {
     "data": {
      "text/html": [
       "<div>\n",
       "<style scoped>\n",
       "    .dataframe tbody tr th:only-of-type {\n",
       "        vertical-align: middle;\n",
       "    }\n",
       "\n",
       "    .dataframe tbody tr th {\n",
       "        vertical-align: top;\n",
       "    }\n",
       "\n",
       "    .dataframe thead th {\n",
       "        text-align: right;\n",
       "    }\n",
       "</style>\n",
       "<table border=\"1\" class=\"dataframe\">\n",
       "  <thead>\n",
       "    <tr style=\"text-align: right;\">\n",
       "      <th></th>\n",
       "      <th>group1</th>\n",
       "      <th>group2</th>\n",
       "      <th>score</th>\n",
       "    </tr>\n",
       "  </thead>\n",
       "  <tbody>\n",
       "    <tr>\n",
       "      <th>0</th>\n",
       "      <td>divergent</td>\n",
       "      <td>Distal</td>\n",
       "      <td>0.080983</td>\n",
       "    </tr>\n",
       "    <tr>\n",
       "      <th>1</th>\n",
       "      <td>divergent</td>\n",
       "      <td>Distal</td>\n",
       "      <td>0.381570</td>\n",
       "    </tr>\n",
       "  </tbody>\n",
       "</table>\n",
       "</div>"
      ],
      "text/plain": [
       "      group1  group2     score\n",
       "0  divergent  Distal  0.080983\n",
       "1  divergent  Distal  0.381570"
      ]
     },
     "execution_count": 31,
     "metadata": {},
     "output_type": "execute_result"
    }
   ],
   "source": [
    "results = []\n",
    "for d in ds:\n",
    "\tdf = pd.read_table(f\"{PROJECT_DIR_d}PROcap/processed/specificity_{p}_{d}.txt\", index_col=0)\n",
    "\tresults.extend([[p, d.capitalize(), score] for score in df[\"Specificity\"]])\n",
    "df_scores = pd.DataFrame(results, columns=[\"group1\", \"group2\", \"score\"])\n",
    "df_scores.head(2)"
   ]
  },
  {
   "cell_type": "code",
   "execution_count": 32,
   "id": "cbf40715-676d-4ece-8679-fd7585e1f3f2",
   "metadata": {
    "execution": {
     "iopub.execute_input": "2025-09-20T16:05:46.239162Z",
     "iopub.status.busy": "2025-09-20T16:05:46.238889Z",
     "iopub.status.idle": "2025-09-20T16:05:46.242779Z",
     "shell.execute_reply": "2025-09-20T16:05:46.242051Z",
     "shell.execute_reply.started": "2025-09-20T16:05:46.239138Z"
    }
   },
   "outputs": [],
   "source": [
    "palette = [\"#CBB1D1\", \"#CAE5C1\"]"
   ]
  },
  {
   "cell_type": "code",
   "execution_count": 34,
   "id": "1403608d-7e55-4fc8-9c85-cdadd4be5eb3",
   "metadata": {
    "execution": {
     "iopub.execute_input": "2025-09-20T16:09:37.678324Z",
     "iopub.status.busy": "2025-09-20T16:09:37.677886Z",
     "iopub.status.idle": "2025-09-20T16:09:45.944671Z",
     "shell.execute_reply": "2025-09-20T16:09:45.943718Z",
     "shell.execute_reply.started": "2025-09-20T16:09:37.678295Z"
    }
   },
   "outputs": [
    {
     "data": {
      "image/png": "[encoded data removed]",
      "text/plain": [
       "<Figure size 600x220 with 1 Axes>"
      ]
     },
     "metadata": {},
     "output_type": "display_data"
    }
   ],
   "source": [
    "fig, ax = plt.subplots(figsize=(6,2.2))\n",
    "g = sns.histplot(data=df_scores, x=\"score\", hue=\"group2\",\n",
    "\t\t\t\t bins=70, palette=palette,\n",
    "\t\t\t\t stat=\"percent\", common_norm=False,\n",
    "\t\t\t\t ax=ax\n",
    "\t\t\t\t  )\n",
    "\t\t\n",
    "sns.move_legend(\n",
    "\tg, \"upper center\", ncol=2, title=None, \n",
    "\tfontsize=sfontsize, frameon=False\n",
    ")\n",
    "\n",
    "g.spines[[\"top\", \"right\"]].set_visible(False)\n",
    "g.set_xlabel(\"Specificity score\", fontsize=bfontsize)\n",
    "g.set_ylabel(\"TREs (%)\", fontsize=bfontsize)\t\n",
    "\n",
    "trans = ax.transAxes\n",
    "g.text(s=\"Ubiquitous\", x=0.25, y=0.65, color=\"#969696\",\n",
    "\t\t\tha=\"center\", fontsize=sfontsize, transform=trans)\n",
    "g.text(s=\"Exclusive\", x=0.75, y=0.65, color=\"#969696\",\n",
    "\t\t\tha=\"center\", fontsize=sfontsize, transform=trans)\n",
    "arrow = patches.FancyArrowPatch(\n",
    "\t(0.25, 0.6),      \n",
    "\t(0.75, 0.6),     \n",
    "\tarrowstyle='<->',        \n",
    "\tmutation_scale=10, \n",
    "\tlinewidth=1,\n",
    "\ttransform=trans,\n",
    "\tclip_on=False,\n",
    "\tcolor=\"#969696\"\n",
    ")\n",
    "g.add_patch(arrow)\n",
    "\n",
    "plt.savefig(f\"{PROJECT_DIR_o}figures/ExtDataFig3a.pdf\", bbox_inches=\"tight\", transparent=True)"
   ]
  },
  {
   "cell_type": "markdown",
   "id": "6b9bc099-a2b3-4672-bdcd-6b2e5518cdd1",
   "metadata": {},
   "source": [
    "## Comparison across tissue types (divergent distal)"
   ]
  },
  {
   "cell_type": "code",
   "execution_count": 51,
   "id": "04c1a2b0-1913-4059-a6d9-fe3e6154cb17",
   "metadata": {
    "execution": {
     "iopub.execute_input": "2025-09-20T16:27:39.506115Z",
     "iopub.status.busy": "2025-09-20T16:27:39.505630Z",
     "iopub.status.idle": "2025-09-20T16:28:05.273795Z",
     "shell.execute_reply": "2025-09-20T16:28:05.272435Z",
     "shell.execute_reply.started": "2025-09-20T16:27:39.506084Z"
    },
    "scrolled": true
   },
   "outputs": [],
   "source": [
    "# No. elements detected in a given tissue type\n",
    "\n",
    "n_es = defaultdict(dict)\n",
    "for d in ds:\n",
    "\tdf = pd.read_table(f\"{PROJECT_DIR_d}PROcap/processed/binary_{p}_{d}.txt\", index_col=0)\n",
    "\tfor t in types:\n",
    "\t\tfor s in types[t]:\n",
    "\t\t\tn_es[d][s] = len(df[df[[s]].sum(axis=1) >= 1].index)"
   ]
  },
  {
   "cell_type": "code",
   "execution_count": 53,
   "id": "2814859d-dad3-4a96-972e-4cb950e331d9",
   "metadata": {
    "execution": {
     "iopub.execute_input": "2025-09-20T16:28:56.359817Z",
     "iopub.status.busy": "2025-09-20T16:28:56.359316Z",
     "iopub.status.idle": "2025-09-20T16:28:56.371105Z",
     "shell.execute_reply": "2025-09-20T16:28:56.370491Z",
     "shell.execute_reply.started": "2025-09-20T16:28:56.359786Z"
    }
   },
   "outputs": [
    {
     "data": {
      "text/html": [
       "<div>\n",
       "<style scoped>\n",
       "    .dataframe tbody tr th:only-of-type {\n",
       "        vertical-align: middle;\n",
       "    }\n",
       "\n",
       "    .dataframe tbody tr th {\n",
       "        vertical-align: top;\n",
       "    }\n",
       "\n",
       "    .dataframe thead th {\n",
       "        text-align: right;\n",
       "    }\n",
       "</style>\n",
       "<table border=\"1\" class=\"dataframe\">\n",
       "  <thead>\n",
       "    <tr style=\"text-align: right;\">\n",
       "      <th></th>\n",
       "      <th>sample</th>\n",
       "      <th>tissue</th>\n",
       "      <th>reads</th>\n",
       "      <th>distal</th>\n",
       "      <th>proximal</th>\n",
       "    </tr>\n",
       "  </thead>\n",
       "  <tbody>\n",
       "    <tr>\n",
       "      <th>0</th>\n",
       "      <td>GT16</td>\n",
       "      <td>Adipose</td>\n",
       "      <td>30.106384</td>\n",
       "      <td>18.326</td>\n",
       "      <td>18.760</td>\n",
       "    </tr>\n",
       "    <tr>\n",
       "      <th>1</th>\n",
       "      <td>EN28</td>\n",
       "      <td>Adrenal gland</td>\n",
       "      <td>38.956598</td>\n",
       "      <td>23.850</td>\n",
       "      <td>21.615</td>\n",
       "    </tr>\n",
       "  </tbody>\n",
       "</table>\n",
       "</div>"
      ],
      "text/plain": [
       "  sample         tissue      reads  distal  proximal\n",
       "0   GT16        Adipose  30.106384  18.326    18.760\n",
       "1   EN28  Adrenal gland  38.956598  23.850    21.615"
      ]
     },
     "execution_count": 53,
     "metadata": {},
     "output_type": "execute_result"
    }
   ],
   "source": [
    "results = []\n",
    "for t in types:\n",
    "\tfor s in types[t]:\n",
    "\t\tresults.append([s, t, reads[s]/1e6, n_es[\"distal\"][s]/1e3, n_es[\"proximal\"][s]/1e3])\n",
    "df_info = pd.DataFrame(results, columns=[\"sample\", \"tissue\", \"reads\", \"distal\", \"proximal\"])\n",
    "df_info.head(2)"
   ]
  },
  {
   "cell_type": "code",
   "execution_count": 54,
   "id": "8c5cc7e1-cacc-44bd-a97b-cf2df1346974",
   "metadata": {
    "execution": {
     "iopub.execute_input": "2025-09-20T16:29:17.983656Z",
     "iopub.status.busy": "2025-09-20T16:29:17.982947Z",
     "iopub.status.idle": "2025-09-20T16:29:19.974205Z",
     "shell.execute_reply": "2025-09-20T16:29:19.973420Z",
     "shell.execute_reply.started": "2025-09-20T16:29:17.983629Z"
    }
   },
   "outputs": [],
   "source": [
    "# Divide elements into equally-spaced bins based on specificity\n",
    "# bin 1: most ubiquitous\n",
    "# bin N: most exclusive\n",
    "\n",
    "n_bins = 10\n",
    "bins = np.linspace(0, 1, n_bins+1) \n",
    "lbs = range(1, n_bins+1)\n",
    "df_bins = {}\n",
    "for d in ds:\n",
    "\tdf_bins[d] = pd.read_table(f\"{PROJECT_DIR_d}PROcap/processed/specificity_{p}_{d}.txt\", index_col=0)\n",
    "\tdf_bins[d][\"Bin\"] = pd.cut(df_bins[d][\"Specificity\"], bins=bins, labels=lbs, include_lowest=True)"
   ]
  },
  {
   "cell_type": "code",
   "execution_count": 55,
   "id": "a8e448b6-2d57-433f-8db3-46607dabcb69",
   "metadata": {
    "execution": {
     "iopub.execute_input": "2025-09-20T16:29:33.833202Z",
     "iopub.status.busy": "2025-09-20T16:29:33.832725Z",
     "iopub.status.idle": "2025-09-20T16:37:10.576822Z",
     "shell.execute_reply": "2025-09-20T16:37:10.574848Z",
     "shell.execute_reply.started": "2025-09-20T16:29:33.833174Z"
    }
   },
   "outputs": [],
   "source": [
    "df_frac = {}\n",
    "for d in ds:\n",
    "\tresults = []\n",
    "\tfor t in types:\n",
    "\t\t# Focus on elements found in samples of a given tissue type\n",
    "\t\tdf = pd.read_table(f\"{PROJECT_DIR_d}PROcap/processed/binary_{p}_{d}.txt\", index_col=0)\n",
    "\t\tes = list(df[df[types[t]].sum(axis=1) >= 1].index)\n",
    "\t\tcounts = Counter(df_bins[d].loc[es][\"Bin\"])\n",
    "\t\trow = [counts[n]/len(es) for n in range(1,n_bins+1)]\n",
    "\t\tresults.append(row)\n",
    "\tdf_frac[d] = pd.DataFrame(results, columns=[n for n in range(1,n_bins+1)], index=types).T"
   ]
  },
  {
   "cell_type": "code",
   "execution_count": 56,
   "id": "19afcdf2-b52c-43fd-9539-6e187f9de86a",
   "metadata": {
    "execution": {
     "iopub.execute_input": "2025-09-20T16:37:10.580474Z",
     "iopub.status.busy": "2025-09-20T16:37:10.579629Z",
     "iopub.status.idle": "2025-09-20T16:37:10.610354Z",
     "shell.execute_reply": "2025-09-20T16:37:10.609707Z",
     "shell.execute_reply.started": "2025-09-20T16:37:10.580440Z"
    }
   },
   "outputs": [],
   "source": [
    "# Sort the tissue types by weighted fraction (the larger the number, the higher fraction of specific TREs)\n",
    "# Anchor all panels based on order of distal elements\n",
    "\n",
    "d = \"distal\"\n",
    "order = df_frac[d].apply(lambda col: (col.index * col).sum()).sort_values(ascending=False).index"
   ]
  },
  {
   "cell_type": "code",
   "execution_count": 35,
   "id": "0418ff27-e772-406d-b43c-17df12dce5bd",
   "metadata": {
    "execution": {
     "iopub.execute_input": "2025-09-20T16:16:36.520527Z",
     "iopub.status.busy": "2025-09-20T16:16:36.519455Z",
     "iopub.status.idle": "2025-09-20T16:16:36.546994Z",
     "shell.execute_reply": "2025-09-20T16:16:36.545997Z",
     "shell.execute_reply.started": "2025-09-20T16:16:36.520471Z"
    }
   },
   "outputs": [
    {
     "data": {
      "image/png": "[encoded data removed]",
      "text/html": [
       "<div style=\"vertical-align: middle;\"><strong>custom_cmap</strong> </div><div class=\"cmap\"><img alt=\"custom_cmap colormap\" title=\"custom_cmap\" style=\"border: 1px solid #555;\" src=\"data:image/png;base64,iVBORw0KGgoAAAANSUhEUgAAAgAAAABACAYAAABsv8+/AAAAGnRFWHRUaXRsZQBjdXN0b21fY21hcCBjb2xvcm1hcOa9R1QAAAAgdEVYdERlc2NyaXB0aW9uAGN1c3RvbV9jbWFwIGNvbG9ybWFwd6MDAgAAADB0RVh0QXV0aG9yAE1hdHBsb3RsaWIgdjMuOS4yLCBodHRwczovL21hdHBsb3RsaWIub3JnYZnFUwAAADJ0RVh0U29mdHdhcmUATWF0cGxvdGxpYiB2My45LjIsIGh0dHBzOi8vbWF0cGxvdGxpYi5vcmdPP1p0AAABpklEQVR4nO3W206DQBRA0dH//2RlfBETq5SCJDbZa71QYDilF5L9MuecY4wx5tv4dTveN46v+1vnD143bt9/6/z96+ZcPvfnue04ed3V29W/38c1c+aT3IffZet3uT9+fD1WD66fG+uXrfXzZn9v/tyZd3D+cnD93vwf89b9g9/f8sfv++r7WQ9szhvfXux/voPr9+Zf9f9aHl3/LM/PufmvAwDIEQAAECQAACBIAABAkAAAgCABAABBAgAAggQAAAQJAAAIEgAAECQAACBIAABAkAAAgCABAABBAgAAggQAAAQJAAAIEgAAECQAACBIAABAkAAAgCABAABBAgAAggQAAAQJAAAIEgAAECQAACBIAABAkAAAgCABAABBAgAAggQAAAQJAAAIEgAAECQAACBIAABAkAAAgCABAABBAgAAggQAAAQJAAAIEgAAECQAACBIAABAkAAAgCABAABBAgAAggQAAAQJAAAIEgAAECQAACBIAABAkAAAgCABAABBAgAAggQAAAQJAAAIEgAAECQAACBIAABAkAAAgCABAABBAgAAgj4AAdvJcTR/Da0AAAAASUVORK5CYII=\"></div><div style=\"vertical-align: middle; max-width: 514px; display: flex; justify-content: space-between;\"><div style=\"float: left;\"><div title=\"#ffffffff\" style=\"display: inline-block; width: 1em; height: 1em; margin: 0; vertical-align: middle; border: 1px solid #555; background-color: #ffffffff;\"></div> under</div><div style=\"margin: 0 auto; display: inline-block;\">bad <div title=\"#00000000\" style=\"display: inline-block; width: 1em; height: 1em; margin: 0; vertical-align: middle; border: 1px solid #555; background-color: #00000000;\"></div></div><div style=\"float: right;\">over <div title=\"#bd0026ff\" style=\"display: inline-block; width: 1em; height: 1em; margin: 0; vertical-align: middle; border: 1px solid #555; background-color: #bd0026ff;\"></div></div></div>"
      ],
      "text/plain": [
       "<matplotlib.colors.LinearSegmentedColormap at 0x7fec2055df60>"
      ]
     },
     "execution_count": 35,
     "metadata": {},
     "output_type": "execute_result"
    }
   ],
   "source": [
    "colors = [(0.0, \"#ffffff\"), (0.1, \"#ffeda0\"), (0.5, \"#fd8d3c\"), (1, \"#bd0026\")] \n",
    "cmap = mcolors.LinearSegmentedColormap.from_list('custom_cmap', colors)\n",
    "cmap"
   ]
  },
  {
   "cell_type": "code",
   "execution_count": 72,
   "id": "490c92c8-1f67-42d4-bb3d-10f60d8220be",
   "metadata": {
    "execution": {
     "iopub.execute_input": "2025-09-20T16:48:55.572558Z",
     "iopub.status.busy": "2025-09-20T16:48:55.572108Z",
     "iopub.status.idle": "2025-09-20T16:48:59.114468Z",
     "shell.execute_reply": "2025-09-20T16:48:59.113740Z",
     "shell.execute_reply.started": "2025-09-20T16:48:55.572530Z"
    },
    "scrolled": true
   },
   "outputs": [
    {
     "data": {
      "image/png": "[encoded data removed]",
      "text/plain": [
       "<Figure size 630x600 with 10 Axes>"
      ]
     },
     "metadata": {},
     "output_type": "display_data"
    }
   ],
   "source": [
    "fig, ax = plt.subplots(5,2,figsize=(6.3,6), gridspec_kw={\"width_ratios\": [20,0.5]})\n",
    "\n",
    "for i in range(5):\n",
    "\tif i not in [2,4]:\n",
    "\t\tax[i,1].axis(\"off\")\n",
    "\n",
    "# Reads\n",
    "g = sns.boxplot(data=df_info, x=\"tissue\", y=\"reads\", color=\"#ffffff\",\n",
    "\t\t\t\torder=order, showfliers=False, ax=ax[0,0]\n",
    "\t\t )\n",
    "\n",
    "for d in ds:\n",
    "\t# No. elements\n",
    "\tg = sns.boxplot(data=df_info, x=\"tissue\", y=d, color=palette[ds.index(d)],\n",
    "\t\t  order=order, showfliers=False, ax=ax[2*(ds.index(d))+1,0]\n",
    "\t\t )\n",
    "\t# Specificity\n",
    "\tg = sns.heatmap(data=df_frac[d][order], cmap=cmap, linewidth=.5,\n",
    "\t\t\t\t\t\t\tyticklabels=False, xticklabels=True,\n",
    "\t\t\t\t\t\t\tcbar=False, vmin=0, vmax=1,\n",
    "\t\t\t\t\t\t\tax=ax[2*(ds.index(d)+1),0])\n",
    "\tcbar = g.figure.colorbar(g.collections[0], cax=ax[2*(ds.index(d)+1),1])\n",
    "\tcbar.set_label(\"Fraction of TREs\", fontsize=sfontsize, labelpad=10)\n",
    "\ttrans = g.get_yaxis_transform()\n",
    "\tg.annotate(\"Ubiquitous\", xy=(-0.05, 1), xycoords=trans, ha=\"center\", va=\"center\", fontsize=sfontsize, rotation=90)\n",
    "\tg.annotate(\"Exclusive\", xy=(-0.05, 9), xycoords=trans, ha=\"center\", va=\"center\", fontsize=sfontsize, rotation=90)\n",
    "\tarrow = patches.FancyArrowPatch(\n",
    "\t\t(-0.02, 9), \n",
    "\t\t(-0.02, 1), \n",
    "\t\tarrowstyle='<->',        \n",
    "\t\tmutation_scale=10, \n",
    "\t\ttransform=trans,    \n",
    "\t\tclip_on=False       \n",
    "\t)\n",
    "\tg.add_patch(arrow)\n",
    "\n",
    "ylabels = [\"No. reads\"] + [\"No. TREs\", \"Specificity\"]*2 \n",
    "for n in range(5):\n",
    "\tax[n,0].set_ylabel(ylabels[n], fontsize=bfontsize)\n",
    "\tax[n,0].yaxis.set_label_coords(-0.08, 0.5)\n",
    "\tax[n,0].spines[[\"top\", \"right\"]].set_visible(False)\n",
    "\tax[n,0].set_xlabel(\"\")\n",
    "\tif n != 4:\n",
    "\t\tax[n,0].set_xticklabels([])\n",
    "\telse:\n",
    "\t\tnew_labels = []\n",
    "\t\tfor tick in ax[n,0].get_xticklabels():\n",
    "\t\t\tt = tick.get_text()\n",
    "\t\t\tnew_labels.append(f\"{t} (n={len(types[t])})\")\n",
    "\t\tax[n,0].set_xticklabels(new_labels, rotation=90, fontsize=sfontsize)\n",
    "\n",
    "for d in ds:\n",
    "\trow1, row2 = [2*(ds.index(d))+1,2*(ds.index(d)+1)]\n",
    "\ty_center = (ax[row1,0].get_position().y0 + ax[row2,0].get_position().y1) / 2\n",
    "\tfig.text(0, y_center, d.capitalize(), va=\"center\", ha=\"center\", rotation=\"vertical\", \n",
    "\t\t\t fontsize=bfontsize, c=palette[ds.index(d)])\n",
    "\tline = mlines.Line2D([0.025, 0.025], [ax[row1,0].get_position().y1, ax[row2,0].get_position().y0], transform=fig.transFigure,\n",
    "                     color=palette[ds.index(d)], linewidth=lw, zorder=10)\n",
    "\tfig.add_artist(line)\n",
    "\t\n",
    "fig.subplots_adjust(hspace=0.3, wspace=0.1)\n",
    "\n",
    "plt.savefig(f\"{PROJECT_DIR_o}figures/ExtDataFig3b.pdf\", bbox_inches=\"tight\", transparent=True)"
   ]
  },
  {
   "cell_type": "code",
   "execution_count": null,
   "id": "2e98fb46-c908-4845-b45b-47f1353f172a",
   "metadata": {},
   "outputs": [],
   "source": []
  }
 ],
 "metadata": {
  "kernelspec": {
   "display_name": "Python 3 (ipykernel)",
   "language": "python",
   "name": "python3"
  },
  "language_info": {
   "codemirror_mode": {
    "name": "ipython",
    "version": 3
   },
   "file_extension": ".py",
   "mimetype": "text/x-python",
   "name": "python",
   "nbconvert_exporter": "python",
   "pygments_lexer": "ipython3",
   "version": "3.10.8"
  }
 },
 "nbformat": 4,
 "nbformat_minor": 5
}
