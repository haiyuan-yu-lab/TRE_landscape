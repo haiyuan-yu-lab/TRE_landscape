{
 "cells": [
  {
   "cell_type": "code",
   "execution_count": 1,
   "id": "81707ec2-03a1-4a61-97b7-f56e1cb51060",
   "metadata": {
    "editable": true,
    "execution": {
     "iopub.execute_input": "2025-09-19T01:58:49.546355Z",
     "iopub.status.busy": "2025-09-19T01:58:49.545984Z",
     "iopub.status.idle": "2025-09-19T01:59:11.155549Z",
     "shell.execute_reply": "2025-09-19T01:59:11.154358Z",
     "shell.execute_reply.started": "2025-09-19T01:58:49.546313Z"
    },
    "slideshow": {
     "slide_type": ""
    },
    "tags": []
   },
   "outputs": [],
   "source": [
    "import seaborn as sns\n",
    "import pandas as pd\n",
    "pd.set_option(\"display.max_columns\", None)\n",
    "import matplotlib\n",
    "import matplotlib.pyplot as plt\n",
    "from collections import defaultdict, Counter\n",
    "from biodatatools.utils.common import json_load\n",
    "from biodata.delimited import DelimitedWriter\n",
    "import pybedtools\n",
    "from scipy.stats import zscore\n",
    "from sklearn.decomposition import PCA\n",
    "import scipy.cluster.hierarchy as sch\n",
    "from pathlib import Path"
   ]
  },
  {
   "cell_type": "code",
   "execution_count": 2,
   "id": "46e16340-3c92-4652-85e4-ee7b75d753eb",
   "metadata": {
    "execution": {
     "iopub.execute_input": "2025-09-19T01:59:11.175710Z",
     "iopub.status.busy": "2025-09-19T01:59:11.175181Z",
     "iopub.status.idle": "2025-09-19T01:59:11.192108Z",
     "shell.execute_reply": "2025-09-19T01:59:11.191171Z",
     "shell.execute_reply.started": "2025-09-19T01:59:11.175668Z"
    }
   },
   "outputs": [],
   "source": [
    "font_dir = Path.cwd().parent / \"font\"\n",
    "for font in [\"Arial.ttf\", \"Arial_Bold.ttf\"]:\n",
    "    matplotlib.font_manager.fontManager.addfont(font_dir / font)\n",
    "matplotlib.rcParams[\"font.family\"] = \"Arial\"\n",
    "bfontsize = 12\n",
    "sfontsize = 9\n",
    "lw = 0.8"
   ]
  },
  {
   "cell_type": "code",
   "execution_count": 3,
   "id": "4a2e84f8-a8d7-469d-b3b5-9fde82b4f04c",
   "metadata": {
    "execution": {
     "iopub.execute_input": "2025-09-19T01:59:11.193831Z",
     "iopub.status.busy": "2025-09-19T01:59:11.193166Z",
     "iopub.status.idle": "2025-09-19T01:59:12.564387Z",
     "shell.execute_reply": "2025-09-19T01:59:12.563238Z",
     "shell.execute_reply.started": "2025-09-19T01:59:11.193790Z"
    },
    "tags": []
   },
   "outputs": [],
   "source": [
    "PROJECT_DIR_d = \"/home/yc2553/projects/HEA/databases/\"\n",
    "PROJECT_DIR_d2 = \"/fs/cbsuhy02/storage/yc2553/yc2553/databases/\"\n",
    "PROJECT_DIR_o = \"/home/yc2553/projects/HEA/output/\""
   ]
  },
  {
   "cell_type": "markdown",
   "id": "9bf914b7-df07-4be1-ba18-9d22f8327d31",
   "metadata": {},
   "source": [
    "# Hierarchical clustering"
   ]
  },
  {
   "cell_type": "code",
   "execution_count": 25,
   "id": "5361aea1-3b62-4048-a53c-17061b4e7d75",
   "metadata": {
    "execution": {
     "iopub.execute_input": "2025-09-20T00:19:46.184501Z",
     "iopub.status.busy": "2025-09-20T00:19:46.183786Z",
     "iopub.status.idle": "2025-09-20T00:19:46.190127Z",
     "shell.execute_reply": "2025-09-20T00:19:46.189502Z",
     "shell.execute_reply.started": "2025-09-20T00:19:46.184473Z"
    }
   },
   "outputs": [],
   "source": [
    "# Check the relationship between ESC/iPSC panel and adult tissues\n",
    "\n",
    "labels = json_load(f\"{PROJECT_DIR_d}PROcap/metainfo/classifications.json\")"
   ]
  },
  {
   "cell_type": "code",
   "execution_count": 26,
   "id": "77c42d02-c270-4157-a3ef-0cfc8dd30a0c",
   "metadata": {
    "execution": {
     "iopub.execute_input": "2025-09-20T00:19:50.824668Z",
     "iopub.status.busy": "2025-09-20T00:19:50.824210Z",
     "iopub.status.idle": "2025-09-20T00:19:50.830450Z",
     "shell.execute_reply": "2025-09-20T00:19:50.829557Z",
     "shell.execute_reply.started": "2025-09-20T00:19:50.824641Z"
    }
   },
   "outputs": [],
   "source": [
    "groups = json_load(f\"{PROJECT_DIR_d}PROcap/metainfo/samples.json\")\n",
    "all_samples = groups[\"normal_tissues\"] + groups[\"lineage_differentiation\"]"
   ]
  },
  {
   "cell_type": "code",
   "execution_count": 6,
   "id": "494c279d-d973-4d75-a26b-2cd20c23e1b9",
   "metadata": {
    "execution": {
     "iopub.execute_input": "2025-09-19T02:00:37.567801Z",
     "iopub.status.busy": "2025-09-19T02:00:37.567029Z",
     "iopub.status.idle": "2025-09-19T02:00:39.423737Z",
     "shell.execute_reply": "2025-09-19T02:00:39.422587Z",
     "shell.execute_reply.started": "2025-09-19T02:00:37.567738Z"
    }
   },
   "outputs": [],
   "source": [
    "metafile = f\"{PROJECT_DIR_o}tables/SuppTable1.xlsx\"\n",
    "df_metrics = pd.read_excel(metafile, sheet_name=2)\n",
    "reads = {}\n",
    "for _, row in df_metrics.iterrows():\n",
    "    reads[row[\"PRO-cap sample ID\"]] = row[\"Uniquely mapped, deduplicated read pairs\"]"
   ]
  },
  {
   "cell_type": "code",
   "execution_count": 27,
   "id": "e362d48c-9385-43fe-af56-6be5edba231e",
   "metadata": {
    "execution": {
     "iopub.execute_input": "2025-09-20T00:19:52.371295Z",
     "iopub.status.busy": "2025-09-20T00:19:52.370814Z",
     "iopub.status.idle": "2025-09-20T00:19:52.379100Z",
     "shell.execute_reply": "2025-09-20T00:19:52.378237Z",
     "shell.execute_reply.started": "2025-09-20T00:19:52.371264Z"
    }
   },
   "outputs": [
    {
     "data": {
      "text/plain": [
       "139"
      ]
     },
     "execution_count": 27,
     "metadata": {},
     "output_type": "execute_result"
    }
   ],
   "source": [
    "samples = [s for s in all_samples if reads[s] >= 10e6]\n",
    "len(samples)"
   ]
  },
  {
   "cell_type": "code",
   "execution_count": 19,
   "id": "d4a70257-b4ab-49ab-b1e5-6fb0fef69daf",
   "metadata": {
    "execution": {
     "iopub.execute_input": "2025-09-19T02:05:50.539681Z",
     "iopub.status.busy": "2025-09-19T02:05:50.538668Z",
     "iopub.status.idle": "2025-09-19T02:06:50.881871Z",
     "shell.execute_reply": "2025-09-19T02:06:50.867873Z",
     "shell.execute_reply.started": "2025-09-19T02:05:50.539628Z"
    }
   },
   "outputs": [],
   "source": [
    "df_exp = pd.read_table(f\"{PROJECT_DIR_d}PROcap/processed/norm_reads_vst_all.txt\", index_col=0)"
   ]
  },
  {
   "cell_type": "code",
   "execution_count": 28,
   "id": "fad8459f-9dfa-42ae-93ea-9f329350a8c7",
   "metadata": {
    "execution": {
     "iopub.execute_input": "2025-09-20T00:19:54.061593Z",
     "iopub.status.busy": "2025-09-20T00:19:54.061101Z",
     "iopub.status.idle": "2025-09-20T00:20:05.740908Z",
     "shell.execute_reply": "2025-09-20T00:20:05.739835Z",
     "shell.execute_reply.started": "2025-09-20T00:19:54.061561Z"
    },
    "scrolled": true
   },
   "outputs": [],
   "source": [
    "p = \"divergent\"\n",
    "d = \"distal\"\n",
    "df = pd.read_table(f\"{PROJECT_DIR_d}PROcap/processed/binary_{p}_{d}.txt\", index_col=0)\n",
    "es = list(df[df[samples].sum(axis=1) >= 1].index)"
   ]
  },
  {
   "cell_type": "code",
   "execution_count": 30,
   "id": "038aa0e9-1d00-457e-8b3b-248cec7d342d",
   "metadata": {
    "execution": {
     "iopub.execute_input": "2025-09-20T00:20:56.130075Z",
     "iopub.status.busy": "2025-09-20T00:20:56.129158Z",
     "iopub.status.idle": "2025-09-20T00:21:39.437401Z",
     "shell.execute_reply": "2025-09-20T00:21:39.436520Z",
     "shell.execute_reply.started": "2025-09-20T00:20:56.130019Z"
    }
   },
   "outputs": [],
   "source": [
    "pca = PCA(n_components=0.9, random_state=42)\n",
    "pcs = pca.fit_transform(df_exp.loc[es][samples].T)\n",
    "df_pca = pd.DataFrame(pcs, index=samples)"
   ]
  },
  {
   "cell_type": "code",
   "execution_count": 57,
   "id": "fa5b4340-3df3-46a1-80dc-cd25b3e063a8",
   "metadata": {
    "execution": {
     "iopub.execute_input": "2025-09-20T00:33:18.236032Z",
     "iopub.status.busy": "2025-09-20T00:33:18.235540Z",
     "iopub.status.idle": "2025-09-20T00:33:19.318445Z",
     "shell.execute_reply": "2025-09-20T00:33:19.317617Z",
     "shell.execute_reply.started": "2025-09-20T00:33:18.236004Z"
    },
    "scrolled": true
   },
   "outputs": [
    {
     "data": {
      "image/png": "[encoded data removed]",
      "text/plain": [
       "<Figure size 100x1200 with 1 Axes>"
      ]
     },
     "metadata": {},
     "output_type": "display_data"
    }
   ],
   "source": [
    "Z = sch.linkage(df_pca, metric='euclidean', method='ward')\n",
    "fig, ax = plt.subplots(figsize=(1,12))\n",
    "dendro = sch.dendrogram(Z, labels=[f\"{labels[s][0]} ({s})\" for s in samples], leaf_rotation=0, orientation=\"left\", color_threshold=0, link_color_func=lambda k: \"black\")\n",
    "for line in ax.collections:\n",
    "\tline.set_linewidth(lw)\n",
    "\n",
    "ax.spines[['top','bottom','left', 'right']].set_visible(False)\n",
    "ax.xaxis.set_visible(False)\n",
    "\n",
    "ax.invert_yaxis()\n",
    "highlight = [f\"{labels[s][0]} ({s})\" for s in groups[\"lineage_differentiation\"]]\n",
    "for label in ax.get_yticklabels():\n",
    "\ttext = label.get_text()\n",
    "\tlabel.set_fontsize(5.9)\n",
    "\tif text in highlight:\n",
    "\t\tlabel.set_color(\"r\") \n",
    "\n",
    "outputfile = f\"{PROJECT_DIR_o}figures/ExtDataFig4a.pdf\"\n",
    "plt.savefig(outputfile, bbox_inches='tight', transparent=True)"
   ]
  },
  {
   "cell_type": "markdown",
   "id": "bf1a98cf-529a-462d-ab3c-889df31d3891",
   "metadata": {},
   "source": [
    "# VISTA enhancers"
   ]
  },
  {
   "cell_type": "code",
   "execution_count": null,
   "id": "a0b02077-670e-43c1-a8e5-c2ec1b578cbb",
   "metadata": {},
   "outputs": [],
   "source": [
    "# Paper: https://academic.oup.com/nar/advance-article/doi/10.1093/nar/gkae940/7848837\n",
    "# Website: https://enhancer.lbl.gov/vista/\n",
    "# The database is updated regularly — be sure to note the download date\n",
    "# As of 5/20/2025, the database contains information on 4651 in vivo tested elements - 2307 elements with enhancer activity.\n",
    "# https://gitlab.com/egsb-mfgl/vista-data/-/raw/main/experiments.tsv.gz"
   ]
  },
  {
   "cell_type": "code",
   "execution_count": 8,
   "id": "a4da99d3-96fa-4a82-93f7-2b8cf7c9e32f",
   "metadata": {
    "execution": {
     "iopub.execute_input": "2025-09-19T02:02:51.526606Z",
     "iopub.status.busy": "2025-09-19T02:02:51.525959Z",
     "iopub.status.idle": "2025-09-19T02:02:52.108408Z",
     "shell.execute_reply": "2025-09-19T02:02:52.107440Z",
     "shell.execute_reply.started": "2025-09-19T02:02:51.526557Z"
    }
   },
   "outputs": [
    {
     "data": {
      "text/html": [
       "<div>\n",
       "<style scoped>\n",
       "    .dataframe tbody tr th:only-of-type {\n",
       "        vertical-align: middle;\n",
       "    }\n",
       "\n",
       "    .dataframe tbody tr th {\n",
       "        vertical-align: top;\n",
       "    }\n",
       "\n",
       "    .dataframe thead th {\n",
       "        text-align: right;\n",
       "    }\n",
       "</style>\n",
       "<table border=\"1\" class=\"dataframe\">\n",
       "  <thead>\n",
       "    <tr style=\"text-align: right;\">\n",
       "      <th></th>\n",
       "      <th>exp_hier</th>\n",
       "      <th>vista_id</th>\n",
       "      <th>allele_id</th>\n",
       "      <th>backbone</th>\n",
       "      <th>stage</th>\n",
       "      <th>curation_status</th>\n",
       "      <th>description</th>\n",
       "      <th>denominator</th>\n",
       "      <th>tissue</th>\n",
       "      <th>tissue_positive</th>\n",
       "      <th>organism</th>\n",
       "      <th>assembly</th>\n",
       "      <th>coord</th>\n",
       "      <th>strand</th>\n",
       "      <th>coordinate_hg38</th>\n",
       "      <th>coordinate_mm10</th>\n",
       "      <th>bracket_hg38</th>\n",
       "      <th>bracket_mm10</th>\n",
       "      <th>seq_hg38</th>\n",
       "      <th>seq_mm10</th>\n",
       "      <th>seq</th>\n",
       "      <th>external_note</th>\n",
       "    </tr>\n",
       "  </thead>\n",
       "  <tbody>\n",
       "    <tr>\n",
       "      <th>0</th>\n",
       "      <td>03vn00010001</td>\n",
       "      <td>hs1</td>\n",
       "      <td>0</td>\n",
       "      <td>hZR</td>\n",
       "      <td>e11.5</td>\n",
       "      <td>positive</td>\n",
       "      <td>reference</td>\n",
       "      <td>15.0</td>\n",
       "      <td>lb;hb;nt;cn</td>\n",
       "      <td>3;12;12;8</td>\n",
       "      <td>Human</td>\n",
       "      <td>hg38</td>\n",
       "      <td>chr16:86396481-86397120</td>\n",
       "      <td>+</td>\n",
       "      <td>chr16:86396481-86397120</td>\n",
       "      <td>chr8:121002895-121003512</td>\n",
       "      <td>IRF8-FOXF1</td>\n",
       "      <td>Gm20388 (intragenic)</td>\n",
       "      <td>AACTGAAGGGACCCCGTTAGCATATAAACAAAAGGTGGGGGGTAGC...</td>\n",
       "      <td>AGTTGAGCGACCCTGTTAACGTATAAACAAAAGGTGGGGGGTAACC...</td>\n",
       "      <td>AACTGAAGGGACCCCGTTAGCATATAAACAAAAGGTGGGGGGTAGC...</td>\n",
       "      <td>NaN</td>\n",
       "    </tr>\n",
       "    <tr>\n",
       "      <th>1</th>\n",
       "      <td>03v300010001</td>\n",
       "      <td>hs2</td>\n",
       "      <td>0</td>\n",
       "      <td>hZR</td>\n",
       "      <td>e11.5</td>\n",
       "      <td>negative</td>\n",
       "      <td>reference</td>\n",
       "      <td>NaN</td>\n",
       "      <td>NaN</td>\n",
       "      <td>NaN</td>\n",
       "      <td>Human</td>\n",
       "      <td>hg38</td>\n",
       "      <td>chr16:85586489-85588130</td>\n",
       "      <td>+</td>\n",
       "      <td>chr16:85586489-85588130</td>\n",
       "      <td>chr8:120516455-120517853</td>\n",
       "      <td>GSE1 (intragenic)</td>\n",
       "      <td>Gm20388 (intragenic)</td>\n",
       "      <td>GGCCCTGGTATGTTTGTTCTTCCAGGGGCTCCCAGGATGGATCCAG...</td>\n",
       "      <td>ATATTGGCTCCTACAGGGGCTCCAGGATCATTCCCTGCCCTCCTGG...</td>\n",
       "      <td>GGCCCTGGTATGTTTGTTCTTCCAGGGGCTCCCAGGATGGATCCAG...</td>\n",
       "      <td>NaN</td>\n",
       "    </tr>\n",
       "  </tbody>\n",
       "</table>\n",
       "</div>"
      ],
      "text/plain": [
       "       exp_hier vista_id  allele_id backbone  stage curation_status  \\\n",
       "0  03vn00010001      hs1          0      hZR  e11.5        positive   \n",
       "1  03v300010001      hs2          0      hZR  e11.5        negative   \n",
       "\n",
       "  description  denominator       tissue tissue_positive organism assembly  \\\n",
       "0   reference         15.0  lb;hb;nt;cn       3;12;12;8    Human     hg38   \n",
       "1   reference          NaN          NaN             NaN    Human     hg38   \n",
       "\n",
       "                     coord strand          coordinate_hg38  \\\n",
       "0  chr16:86396481-86397120      +  chr16:86396481-86397120   \n",
       "1  chr16:85586489-85588130      +  chr16:85586489-85588130   \n",
       "\n",
       "            coordinate_mm10       bracket_hg38          bracket_mm10  \\\n",
       "0  chr8:121002895-121003512         IRF8-FOXF1  Gm20388 (intragenic)   \n",
       "1  chr8:120516455-120517853  GSE1 (intragenic)  Gm20388 (intragenic)   \n",
       "\n",
       "                                            seq_hg38  \\\n",
       "0  AACTGAAGGGACCCCGTTAGCATATAAACAAAAGGTGGGGGGTAGC...   \n",
       "1  GGCCCTGGTATGTTTGTTCTTCCAGGGGCTCCCAGGATGGATCCAG...   \n",
       "\n",
       "                                            seq_mm10  \\\n",
       "0  AGTTGAGCGACCCTGTTAACGTATAAACAAAAGGTGGGGGGTAACC...   \n",
       "1  ATATTGGCTCCTACAGGGGCTCCAGGATCATTCCCTGCCCTCCTGG...   \n",
       "\n",
       "                                                 seq external_note  \n",
       "0  AACTGAAGGGACCCCGTTAGCATATAAACAAAAGGTGGGGGGTAGC...           NaN  \n",
       "1  GGCCCTGGTATGTTTGTTCTTCCAGGGGCTCCCAGGATGGATCCAG...           NaN  "
      ]
     },
     "execution_count": 8,
     "metadata": {},
     "output_type": "execute_result"
    }
   ],
   "source": [
    "date = \"20241202\"\n",
    "inputfile = f\"{PROJECT_DIR_d2}papers/39470740/experiments_{date}.tsv.gz\"\n",
    "df_info = pd.read_table(inputfile)\n",
    "df_info.head(2)"
   ]
  },
  {
   "cell_type": "code",
   "execution_count": 9,
   "id": "37c3e104-363b-44be-b408-1633def228bc",
   "metadata": {
    "execution": {
     "iopub.execute_input": "2025-09-19T02:02:55.395351Z",
     "iopub.status.busy": "2025-09-19T02:02:55.394854Z",
     "iopub.status.idle": "2025-09-19T02:03:05.233756Z",
     "shell.execute_reply": "2025-09-19T02:03:05.232811Z",
     "shell.execute_reply.started": "2025-09-19T02:02:55.395323Z"
    },
    "scrolled": true
   },
   "outputs": [
    {
     "data": {
      "text/html": [
       "<div>\n",
       "<style scoped>\n",
       "    .dataframe tbody tr th:only-of-type {\n",
       "        vertical-align: middle;\n",
       "    }\n",
       "\n",
       "    .dataframe tbody tr th {\n",
       "        vertical-align: top;\n",
       "    }\n",
       "\n",
       "    .dataframe thead th {\n",
       "        text-align: right;\n",
       "    }\n",
       "</style>\n",
       "<table border=\"1\" class=\"dataframe\">\n",
       "  <thead>\n",
       "    <tr style=\"text-align: right;\">\n",
       "      <th></th>\n",
       "      <th>var_name</th>\n",
       "      <th>table</th>\n",
       "      <th>hierarchy</th>\n",
       "      <th>type</th>\n",
       "      <th>description</th>\n",
       "    </tr>\n",
       "  </thead>\n",
       "  <tbody>\n",
       "    <tr>\n",
       "      <th>21</th>\n",
       "      <td>exp_hier</td>\n",
       "      <td>EXPERIMENT</td>\n",
       "      <td>EXPERIMENT</td>\n",
       "      <td>string</td>\n",
       "      <td>12 digit unique EXPERIMENT identifier (36-base); unique combination of assembly+coord+seq+backbone+stage</td>\n",
       "    </tr>\n",
       "    <tr>\n",
       "      <th>8</th>\n",
       "      <td>vista_id</td>\n",
       "      <td>EXPERIMENT</td>\n",
       "      <td>LOCUS</td>\n",
       "      <td>string</td>\n",
       "      <td>LOCUS identifier (unique assembly+coord); number prefixed with hs (hg38), mm (mm10) or x (other assemblies)</td>\n",
       "    </tr>\n",
       "    <tr>\n",
       "      <th>10</th>\n",
       "      <td>allele_id</td>\n",
       "      <td>EXPERIMENT</td>\n",
       "      <td>ELEMENT</td>\n",
       "      <td>number</td>\n",
       "      <td>ELEMENT identifier (assembly+coord+seq)</td>\n",
       "    </tr>\n",
       "    <tr>\n",
       "      <th>14</th>\n",
       "      <td>backbone</td>\n",
       "      <td>EXPERIMENT</td>\n",
       "      <td>EXPERIMENT</td>\n",
       "      <td>string</td>\n",
       "      <td>Plasmid backbone / transgenic method with which the element was tested</td>\n",
       "    </tr>\n",
       "    <tr>\n",
       "      <th>15</th>\n",
       "      <td>stage</td>\n",
       "      <td>EXPERIMENT</td>\n",
       "      <td>EXPERIMENT</td>\n",
       "      <td>string</td>\n",
       "      <td>Embryonic stage at which the experiment was terminated</td>\n",
       "    </tr>\n",
       "    <tr>\n",
       "      <th>16</th>\n",
       "      <td>curation_status</td>\n",
       "      <td>EXPERIMENT</td>\n",
       "      <td>EXPERIMENT</td>\n",
       "      <td>string</td>\n",
       "      <td>Experiment-level curation outcome (positive or negative; empty for purely allelic curations)</td>\n",
       "    </tr>\n",
       "    <tr>\n",
       "      <th>13</th>\n",
       "      <td>description</td>\n",
       "      <td>EXPERIMENT</td>\n",
       "      <td>ELEMENT</td>\n",
       "      <td>string</td>\n",
       "      <td>Description of the allele, e.g. 'reference' or 'large deletion'</td>\n",
       "    </tr>\n",
       "    <tr>\n",
       "      <th>20</th>\n",
       "      <td>denominator</td>\n",
       "      <td>EXPERIMENT</td>\n",
       "      <td>EXPERIMENT</td>\n",
       "      <td>number</td>\n",
       "      <td>Number of eligible transgenic embryos forming the denominator of numbers in tissue_positive</td>\n",
       "    </tr>\n",
       "    <tr>\n",
       "      <th>18</th>\n",
       "      <td>tissue</td>\n",
       "      <td>EXPERIMENT</td>\n",
       "      <td>EXPERIMENT</td>\n",
       "      <td>string</td>\n",
       "      <td>Semicolon-separated list of abbreviations of tissue names (see tissue.dictionary.csv)</td>\n",
       "    </tr>\n",
       "    <tr>\n",
       "      <th>19</th>\n",
       "      <td>tissue_positive</td>\n",
       "      <td>EXPERIMENT</td>\n",
       "      <td>EXPERIMENT</td>\n",
       "      <td>string</td>\n",
       "      <td>Semicolon-separated list of numbers of embryos positive for the tissue</td>\n",
       "    </tr>\n",
       "    <tr>\n",
       "      <th>9</th>\n",
       "      <td>organism</td>\n",
       "      <td>EXPERIMENT</td>\n",
       "      <td>LOCUS</td>\n",
       "      <td>string</td>\n",
       "      <td>Name of the organism, interchangeable with assembly.</td>\n",
       "    </tr>\n",
       "    <tr>\n",
       "      <th>0</th>\n",
       "      <td>assembly</td>\n",
       "      <td>EXPERIMENT</td>\n",
       "      <td>LOCUS</td>\n",
       "      <td>string</td>\n",
       "      <td>Genomic assembly used for mapping purposes (mostly hg38 and mm10)</td>\n",
       "    </tr>\n",
       "    <tr>\n",
       "      <th>1</th>\n",
       "      <td>coord</td>\n",
       "      <td>EXPERIMENT</td>\n",
       "      <td>LOCUS</td>\n",
       "      <td>string</td>\n",
       "      <td>Coordinates in the indicated assembly</td>\n",
       "    </tr>\n",
       "    <tr>\n",
       "      <th>12</th>\n",
       "      <td>strand</td>\n",
       "      <td>EXPERIMENT</td>\n",
       "      <td>ELEMENT</td>\n",
       "      <td>string</td>\n",
       "      <td>Genomic strand</td>\n",
       "    </tr>\n",
       "    <tr>\n",
       "      <th>2</th>\n",
       "      <td>coordinate_hg38</td>\n",
       "      <td>EXPERIMENT</td>\n",
       "      <td>LOCUS</td>\n",
       "      <td>string</td>\n",
       "      <td>Coordinates in hg38 assembly (incl liftover from mm10)</td>\n",
       "    </tr>\n",
       "    <tr>\n",
       "      <th>3</th>\n",
       "      <td>coordinate_mm10</td>\n",
       "      <td>EXPERIMENT</td>\n",
       "      <td>LOCUS</td>\n",
       "      <td>string</td>\n",
       "      <td>Coordinates in mm10 assembly (incl liftover from hg38)</td>\n",
       "    </tr>\n",
       "    <tr>\n",
       "      <th>4</th>\n",
       "      <td>bracket_hg38</td>\n",
       "      <td>EXPERIMENT</td>\n",
       "      <td>LOCUS</td>\n",
       "      <td>string</td>\n",
       "      <td>Genes flanking (bracketing) a given locus in hg38</td>\n",
       "    </tr>\n",
       "    <tr>\n",
       "      <th>5</th>\n",
       "      <td>bracket_mm10</td>\n",
       "      <td>EXPERIMENT</td>\n",
       "      <td>LOCUS</td>\n",
       "      <td>string</td>\n",
       "      <td>Genes flanking (bracketing) a given locus in mm10</td>\n",
       "    </tr>\n",
       "    <tr>\n",
       "      <th>6</th>\n",
       "      <td>seq_hg38</td>\n",
       "      <td>EXPERIMENT</td>\n",
       "      <td>LOCUS</td>\n",
       "      <td>string</td>\n",
       "      <td>Reference sequence for a given locus in hg38</td>\n",
       "    </tr>\n",
       "    <tr>\n",
       "      <th>7</th>\n",
       "      <td>seq_mm10</td>\n",
       "      <td>EXPERIMENT</td>\n",
       "      <td>LOCUS</td>\n",
       "      <td>string</td>\n",
       "      <td>Reference sequence for a given locus in mm10</td>\n",
       "    </tr>\n",
       "    <tr>\n",
       "      <th>17</th>\n",
       "      <td>external_note</td>\n",
       "      <td>EXPERIMENT</td>\n",
       "      <td>EXPERIMENT</td>\n",
       "      <td>string</td>\n",
       "      <td>Comments on the curation outcome</td>\n",
       "    </tr>\n",
       "    <tr>\n",
       "      <th>11</th>\n",
       "      <td>NaN</td>\n",
       "      <td>EXPERIMENT</td>\n",
       "      <td>ELEMENT</td>\n",
       "      <td>string</td>\n",
       "      <td>DNA sequence</td>\n",
       "    </tr>\n",
       "  </tbody>\n",
       "</table>\n",
       "</div>"
      ],
      "text/plain": [
       "           var_name       table   hierarchy    type  \\\n",
       "21         exp_hier  EXPERIMENT  EXPERIMENT  string   \n",
       "8          vista_id  EXPERIMENT       LOCUS  string   \n",
       "10        allele_id  EXPERIMENT     ELEMENT  number   \n",
       "14         backbone  EXPERIMENT  EXPERIMENT  string   \n",
       "15            stage  EXPERIMENT  EXPERIMENT  string   \n",
       "16  curation_status  EXPERIMENT  EXPERIMENT  string   \n",
       "13      description  EXPERIMENT     ELEMENT  string   \n",
       "20      denominator  EXPERIMENT  EXPERIMENT  number   \n",
       "18           tissue  EXPERIMENT  EXPERIMENT  string   \n",
       "19  tissue_positive  EXPERIMENT  EXPERIMENT  string   \n",
       "9          organism  EXPERIMENT       LOCUS  string   \n",
       "0          assembly  EXPERIMENT       LOCUS  string   \n",
       "1             coord  EXPERIMENT       LOCUS  string   \n",
       "12           strand  EXPERIMENT     ELEMENT  string   \n",
       "2   coordinate_hg38  EXPERIMENT       LOCUS  string   \n",
       "3   coordinate_mm10  EXPERIMENT       LOCUS  string   \n",
       "4      bracket_hg38  EXPERIMENT       LOCUS  string   \n",
       "5      bracket_mm10  EXPERIMENT       LOCUS  string   \n",
       "6          seq_hg38  EXPERIMENT       LOCUS  string   \n",
       "7          seq_mm10  EXPERIMENT       LOCUS  string   \n",
       "17    external_note  EXPERIMENT  EXPERIMENT  string   \n",
       "11              NaN  EXPERIMENT     ELEMENT  string   \n",
       "\n",
       "                                                                                                    description  \n",
       "21     12 digit unique EXPERIMENT identifier (36-base); unique combination of assembly+coord+seq+backbone+stage  \n",
       "8   LOCUS identifier (unique assembly+coord); number prefixed with hs (hg38), mm (mm10) or x (other assemblies)  \n",
       "10                                                                      ELEMENT identifier (assembly+coord+seq)  \n",
       "14                                       Plasmid backbone / transgenic method with which the element was tested  \n",
       "15                                                       Embryonic stage at which the experiment was terminated  \n",
       "16                 Experiment-level curation outcome (positive or negative; empty for purely allelic curations)  \n",
       "13                                              Description of the allele, e.g. 'reference' or 'large deletion'  \n",
       "20                  Number of eligible transgenic embryos forming the denominator of numbers in tissue_positive  \n",
       "18                        Semicolon-separated list of abbreviations of tissue names (see tissue.dictionary.csv)  \n",
       "19                                       Semicolon-separated list of numbers of embryos positive for the tissue  \n",
       "9                                                          Name of the organism, interchangeable with assembly.  \n",
       "0                                             Genomic assembly used for mapping purposes (mostly hg38 and mm10)  \n",
       "1                                                                         Coordinates in the indicated assembly  \n",
       "12                                                                                               Genomic strand  \n",
       "2                                                        Coordinates in hg38 assembly (incl liftover from mm10)  \n",
       "3                                                        Coordinates in mm10 assembly (incl liftover from hg38)  \n",
       "4                                                             Genes flanking (bracketing) a given locus in hg38  \n",
       "5                                                             Genes flanking (bracketing) a given locus in mm10  \n",
       "6                                                                  Reference sequence for a given locus in hg38  \n",
       "7                                                                  Reference sequence for a given locus in mm10  \n",
       "17                                                                             Comments on the curation outcome  \n",
       "11                                                                                                 DNA sequence  "
      ]
     },
     "metadata": {},
     "output_type": "display_data"
    }
   ],
   "source": [
    "# Field description\n",
    "# https://gitlab.com/egsb-mfgl/vista-data/-/raw/main/field_descriptions.tsv\n",
    "# seq --> sequence\n",
    "\n",
    "inputfile = f\"{PROJECT_DIR_d2}papers/39470740/field_descriptions.tsv\"\n",
    "df = pd.read_table(inputfile)\n",
    "df2 = df[df[\"table\"] == \"EXPERIMENT\"].copy()\n",
    "df2[\"var_name\"] = pd.Categorical(df2[\"var_name\"], categories=list(df_info.columns), ordered=True)\n",
    "df2 = df2.sort_values(by=\"var_name\")\n",
    "with pd.option_context(\"display.max_colwidth\", None):\n",
    "    display(df2)"
   ]
  },
  {
   "cell_type": "code",
   "execution_count": 10,
   "id": "790c1fa9-9077-4657-8ae6-274837921d8c",
   "metadata": {
    "execution": {
     "iopub.execute_input": "2025-09-19T02:03:05.235854Z",
     "iopub.status.busy": "2025-09-19T02:03:05.235383Z",
     "iopub.status.idle": "2025-09-19T02:03:06.300839Z",
     "shell.execute_reply": "2025-09-19T02:03:06.299759Z",
     "shell.execute_reply.started": "2025-09-19T02:03:05.235816Z"
    },
    "scrolled": true
   },
   "outputs": [
    {
     "data": {
      "text/plain": [
       "(22,\n",
       " {'ba': 'branchial arch',\n",
       "  'hb': 'hindbrain',\n",
       "  'eye': 'eye',\n",
       "  'fb': 'forebrain',\n",
       "  'nt': 'neural tube',\n",
       "  'mb': 'midbrain',\n",
       "  'nose': 'nose',\n",
       "  'lb': 'limb',\n",
       "  'cn': 'cranial nerve',\n",
       "  'drg': 'dorsal root ganglion',\n",
       "  'ht': 'heart',\n",
       "  'tri': 'trigeminal ganglion',\n",
       "  'som': 'somite',\n",
       "  'gen': 'genital tubercle',\n",
       "  'mel': 'melanocytes',\n",
       "  'tail': 'tail',\n",
       "  'fm': 'facial mesenchyme',\n",
       "  'other': 'other',\n",
       "  'ear': 'ear',\n",
       "  'lv': 'liver',\n",
       "  'bv': 'blood vessels',\n",
       "  'pan': 'pancreas'})"
      ]
     },
     "execution_count": 10,
     "metadata": {},
     "output_type": "execute_result"
    }
   ],
   "source": [
    "# Tissue mapping\n",
    "# https://gitlab.com/egsb-mfgl/vista-data/-/raw/main/tissue.dictionary.csv\n",
    "\n",
    "mapping = {}\n",
    "inputfile = f\"{PROJECT_DIR_d2}papers/39470740/tissue.dictionary.csv\"\n",
    "df = pd.read_csv(inputfile)\n",
    "for _, row in df.iterrows():\n",
    "\tmapping[row[\"tissue.abb\"]] = row[\"tissue.short\"]\n",
    "len(mapping), mapping"
   ]
  },
  {
   "cell_type": "code",
   "execution_count": 11,
   "id": "0d9e8086-9716-47b5-94d1-5c6bef685a89",
   "metadata": {
    "execution": {
     "iopub.execute_input": "2025-09-19T02:03:06.302663Z",
     "iopub.status.busy": "2025-09-19T02:03:06.302150Z",
     "iopub.status.idle": "2025-09-19T02:03:07.357421Z",
     "shell.execute_reply": "2025-09-19T02:03:07.356473Z",
     "shell.execute_reply.started": "2025-09-19T02:03:06.302621Z"
    },
    "scrolled": true
   },
   "outputs": [
    {
     "data": {
      "text/plain": [
       "(Counter({'Human': 2894,\n",
       "          'Mouse': 1723,\n",
       "          'Iberian mole': 5,\n",
       "          'Chimp': 4,\n",
       "          'Burmese python': 2,\n",
       "          'X. tropicalis': 1,\n",
       "          'Lancelet': 1,\n",
       "          'Fugu': 1,\n",
       "          'Coelacanth': 1,\n",
       "          'Elephant shark': 1,\n",
       "          'Speckled rattlesnake': 1,\n",
       "          'Horse': 1,\n",
       "          'Cow': 1,\n",
       "          'Chicken': 1,\n",
       "          'Platypus': 1,\n",
       "          'Megabat': 1,\n",
       "          'Bottlenose Dolphin': 1,\n",
       "          'Sloth': 1,\n",
       "          'Lizard': 1,\n",
       "          'King cobra': 1,\n",
       "          'Boa constrictor': 1,\n",
       "          'Cat': 1,\n",
       "          'D. melanogaster': 1}),\n",
       " Counter({0: 4268,\n",
       "          1: 128,\n",
       "          2: 44,\n",
       "          3: 29,\n",
       "          4: 18,\n",
       "          5: 10,\n",
       "          6: 6,\n",
       "          7: 2,\n",
       "          8: 1,\n",
       "          9: 1,\n",
       "          10: 1,\n",
       "          11: 1,\n",
       "          12: 1,\n",
       "          13: 1,\n",
       "          14: 1,\n",
       "          15: 1,\n",
       "          16: 1,\n",
       "          17: 1,\n",
       "          18: 1,\n",
       "          19: 1,\n",
       "          20: 1,\n",
       "          21: 1,\n",
       "          22: 1,\n",
       "          23: 1,\n",
       "          24: 1,\n",
       "          25: 1,\n",
       "          26: 1,\n",
       "          27: 1,\n",
       "          28: 1,\n",
       "          29: 1,\n",
       "          30: 1,\n",
       "          31: 1,\n",
       "          32: 1,\n",
       "          33: 1,\n",
       "          34: 1,\n",
       "          35: 1,\n",
       "          36: 1,\n",
       "          37: 1,\n",
       "          38: 1,\n",
       "          39: 1,\n",
       "          40: 1,\n",
       "          41: 1,\n",
       "          42: 1,\n",
       "          43: 1,\n",
       "          44: 1,\n",
       "          45: 1,\n",
       "          46: 1,\n",
       "          47: 1,\n",
       "          48: 1,\n",
       "          49: 1,\n",
       "          50: 1,\n",
       "          51: 1,\n",
       "          52: 1,\n",
       "          53: 1,\n",
       "          54: 1,\n",
       "          55: 1,\n",
       "          56: 1,\n",
       "          57: 1,\n",
       "          58: 1,\n",
       "          59: 1,\n",
       "          60: 1,\n",
       "          61: 1,\n",
       "          62: 1,\n",
       "          63: 1,\n",
       "          64: 1,\n",
       "          65: 1,\n",
       "          66: 1,\n",
       "          67: 1,\n",
       "          68: 1,\n",
       "          69: 1,\n",
       "          70: 1,\n",
       "          71: 1,\n",
       "          72: 1,\n",
       "          73: 1,\n",
       "          74: 1,\n",
       "          75: 1,\n",
       "          76: 1,\n",
       "          77: 1,\n",
       "          78: 1,\n",
       "          79: 1,\n",
       "          80: 1,\n",
       "          81: 1,\n",
       "          82: 1,\n",
       "          83: 1,\n",
       "          84: 1,\n",
       "          85: 1,\n",
       "          86: 1,\n",
       "          87: 1,\n",
       "          88: 1,\n",
       "          89: 1,\n",
       "          90: 1,\n",
       "          91: 1,\n",
       "          92: 1,\n",
       "          93: 1,\n",
       "          94: 1,\n",
       "          95: 1,\n",
       "          96: 1,\n",
       "          97: 1,\n",
       "          98: 1,\n",
       "          99: 1,\n",
       "          100: 1,\n",
       "          101: 1,\n",
       "          102: 1,\n",
       "          103: 1,\n",
       "          104: 1,\n",
       "          105: 1,\n",
       "          106: 1,\n",
       "          107: 1,\n",
       "          108: 1,\n",
       "          109: 1,\n",
       "          110: 1,\n",
       "          111: 1,\n",
       "          112: 1,\n",
       "          113: 1,\n",
       "          114: 1,\n",
       "          115: 1,\n",
       "          116: 1,\n",
       "          117: 1,\n",
       "          118: 1,\n",
       "          119: 1,\n",
       "          120: 1,\n",
       "          121: 1,\n",
       "          122: 1,\n",
       "          123: 1,\n",
       "          124: 1,\n",
       "          125: 1,\n",
       "          126: 1,\n",
       "          127: 1,\n",
       "          128: 1,\n",
       "          129: 1,\n",
       "          130: 1,\n",
       "          131: 1,\n",
       "          132: 1,\n",
       "          133: 1,\n",
       "          134: 1,\n",
       "          135: 1,\n",
       "          136: 1,\n",
       "          137: 1,\n",
       "          138: 1,\n",
       "          139: 1,\n",
       "          140: 1,\n",
       "          141: 1,\n",
       "          142: 1,\n",
       "          143: 1,\n",
       "          144: 1,\n",
       "          145: 1,\n",
       "          146: 1,\n",
       "          147: 1,\n",
       "          150: 1}))"
      ]
     },
     "execution_count": 11,
     "metadata": {},
     "output_type": "execute_result"
    }
   ],
   "source": [
    "# Summary statistics\n",
    "# Reference elements are typically assigned a zero (“hs200.0”)\n",
    "\n",
    "Counter(df_info[\"organism\"]), Counter(df_info[\"allele_id\"])"
   ]
  },
  {
   "cell_type": "code",
   "execution_count": 12,
   "id": "11708e6b-0d5f-4932-9fba-9096d72694fc",
   "metadata": {
    "execution": {
     "iopub.execute_input": "2025-09-19T02:03:07.359580Z",
     "iopub.status.busy": "2025-09-19T02:03:07.359131Z",
     "iopub.status.idle": "2025-09-19T02:03:08.296402Z",
     "shell.execute_reply": "2025-09-19T02:03:08.295430Z",
     "shell.execute_reply.started": "2025-09-19T02:03:07.359544Z"
    }
   },
   "outputs": [
    {
     "data": {
      "text/plain": [
       "(Counter({'positive': 1346, 'negative': 1186}),\n",
       " Counter({'hZR': 1994, 'sZH': 519, 'nZH': 13, 'hZTR': 6}),\n",
       " Counter({'e11.5': 2301,\n",
       "          'e12.5': 144,\n",
       "          'e14.5': 30,\n",
       "          'e13.5': 27,\n",
       "          'e9.5': 14,\n",
       "          'e15.5': 12,\n",
       "          'e10.5': 4}))"
      ]
     },
     "execution_count": 12,
     "metadata": {},
     "output_type": "execute_result"
    }
   ],
   "source": [
    "# Criteria: human, ref allele, regardsless of plasmid backbone/transgenic method/embryonic stage\n",
    "\n",
    "df_filtered = df_info[(df_info[\"organism\"]==\"Human\") & (df_info[\"allele_id\"]==0)]\n",
    "Counter(df_filtered[\"curation_status\"]), Counter(df_filtered[\"backbone\"]), Counter(df_filtered[\"stage\"])"
   ]
  },
  {
   "cell_type": "code",
   "execution_count": 10,
   "id": "90b7767b-a1fa-405c-992f-a4ee2ff0db7f",
   "metadata": {
    "execution": {
     "iopub.execute_input": "2025-08-26T04:25:10.283109Z",
     "iopub.status.busy": "2025-08-26T04:25:10.282840Z",
     "iopub.status.idle": "2025-08-26T04:25:13.111531Z",
     "shell.execute_reply": "2025-08-26T04:25:13.111071Z",
     "shell.execute_reply.started": "2025-08-26T04:25:10.283090Z"
    }
   },
   "outputs": [
    {
     "data": {
      "text/plain": [
       "<BedTool(/fs/cbsuhy02/storage/yc2553/yc2553/databases/papers/39470740/elements_hg38.bed)>"
      ]
     },
     "execution_count": 10,
     "metadata": {},
     "output_type": "execute_result"
    }
   ],
   "source": [
    "# Rewrite as a bed file for downstream analysis\n",
    "# It's not included in the folder I give you as you can generate this file using codes below\n",
    "\n",
    "outputfile = f\"{PROJECT_DIR_d2}papers/39470740/elements_hg38.bed\"\n",
    "with DelimitedWriter(outputfile) as dw:\n",
    "\tfor _, row in df_filtered.iterrows():\n",
    "\t\tchrom = row[\"coord\"].split(\":\")[0]\n",
    "\t\tstart, end = row[\"coord\"].split(\":\")[1].split(\"-\")\n",
    "\t\tif row[\"curation_status\"] == \"positive\":\n",
    "\t\t\tlabel = \";\".join([mapping[t] for t in row[\"tissue\"].split(\";\")])\n",
    "\t\telse:\n",
    "\t\t\tlabel = \"negative\"\n",
    "\t\tdw.write([chrom, start, end, label, row[\"vista_id\"]])\n",
    "b = pybedtools.BedTool(outputfile)\n",
    "b.sort().saveas(outputfile)"
   ]
  },
  {
   "cell_type": "markdown",
   "id": "85e901ca-eab0-46f6-94db-7ea9cfac086f",
   "metadata": {},
   "source": [
    "# PRO-cap vs. VISTA elements"
   ]
  },
  {
   "cell_type": "code",
   "execution_count": 13,
   "id": "35bd2f92-1f85-4670-b0b9-8798a5eae84a",
   "metadata": {
    "execution": {
     "iopub.execute_input": "2025-09-19T02:03:38.825275Z",
     "iopub.status.busy": "2025-09-19T02:03:38.824686Z",
     "iopub.status.idle": "2025-09-19T02:03:48.256310Z",
     "shell.execute_reply": "2025-09-19T02:03:48.248317Z",
     "shell.execute_reply.started": "2025-09-19T02:03:38.825232Z"
    }
   },
   "outputs": [],
   "source": [
    "# Only focus on PRO-cap elements found in these samples\n",
    "\n",
    "es2 = set()\n",
    "ds = [\"distal\", \"proximal\"]\n",
    "samples2 = [s for s in groups[\"lineage_differentiation\"] if s in samples]\n",
    "for d in ds:\n",
    "    df = pd.read_table(f\"{PROJECT_DIR_d}PROcap/processed/binary_{p}_{d}.txt\", index_col=0)\n",
    "    es2 |= set(df[df[samples2].sum(axis=1) >= 1].index)"
   ]
  },
  {
   "cell_type": "code",
   "execution_count": 14,
   "id": "7f06c85f-f036-4552-80c9-dad976014e2d",
   "metadata": {
    "execution": {
     "iopub.execute_input": "2025-09-19T02:03:53.796050Z",
     "iopub.status.busy": "2025-09-19T02:03:53.795533Z",
     "iopub.status.idle": "2025-09-19T02:03:57.538704Z",
     "shell.execute_reply": "2025-09-19T02:03:57.537692Z",
     "shell.execute_reply.started": "2025-09-19T02:03:53.796016Z"
    }
   },
   "outputs": [],
   "source": [
    "# Get PRO-cap elements overlapping with any VISTA elements in a given category\n",
    "\n",
    "categories = defaultdict(set)\n",
    "for d in ds:\n",
    "    b1 = pybedtools.BedTool(f\"{PROJECT_DIR_d}PROcap/processed/merged_{p}_{d}.bed.bgz\")\n",
    "    b2 = pybedtools.BedTool(f\"{PROJECT_DIR_d2}papers/39470740/elements_hg38.bed\")\n",
    "    # f: Minimum overlap required as a fraction of A\n",
    "    overlap = b1.intersect(b2, wao=True, f=0.5)\n",
    "    for i in overlap:\n",
    "        if int(i.fields[-1]) > 0:\n",
    "            # PRO-cap elements\n",
    "            e = \"_\".join(i.fields[:3])\n",
    "            if e in es2:\n",
    "                # VISTA category: negative or tissue types\n",
    "                ts = i.fields[-3].split(\";\")\n",
    "                for t in ts:\n",
    "                    categories[t].add(e)"
   ]
  },
  {
   "cell_type": "code",
   "execution_count": 15,
   "id": "53ab3084-b326-4cc1-83a7-37bb3a6ff455",
   "metadata": {
    "execution": {
     "iopub.execute_input": "2025-09-19T02:04:00.395167Z",
     "iopub.status.busy": "2025-09-19T02:04:00.394571Z",
     "iopub.status.idle": "2025-09-19T02:04:00.400043Z",
     "shell.execute_reply": "2025-09-19T02:04:00.399377Z",
     "shell.execute_reply.started": "2025-09-19T02:04:00.395135Z"
    },
    "scrolled": true
   },
   "outputs": [
    {
     "name": "stdout",
     "output_type": "stream",
     "text": [
      "negative 257\n",
      "branchial arch 59\n",
      "facial mesenchyme 31\n",
      "nose 25\n",
      "limb 69\n",
      "neural tube 151\n",
      "eye 36\n",
      "forebrain 189\n",
      "somite 33\n",
      "hindbrain 202\n",
      "heart 138\n",
      "midbrain 206\n",
      "other 85\n",
      "dorsal root ganglion 61\n",
      "trigeminal ganglion 53\n",
      "tail 8\n",
      "cranial nerve 61\n",
      "ear 19\n",
      "blood vessels 22\n",
      "liver 10\n",
      "genital tubercle 7\n",
      "melanocytes 4\n",
      "pancreas 6\n"
     ]
    }
   ],
   "source": [
    "for t in categories:\n",
    "    print(t, len(categories[t]))"
   ]
  },
  {
   "cell_type": "code",
   "execution_count": 16,
   "id": "096c7115-fc90-452f-8681-eb437157588f",
   "metadata": {
    "execution": {
     "iopub.execute_input": "2025-09-19T02:04:07.465084Z",
     "iopub.status.busy": "2025-09-19T02:04:07.464592Z",
     "iopub.status.idle": "2025-09-19T02:04:07.469144Z",
     "shell.execute_reply": "2025-09-19T02:04:07.468359Z",
     "shell.execute_reply.started": "2025-09-19T02:04:07.465057Z"
    }
   },
   "outputs": [],
   "source": [
    "# Focus on relevant tissue types\n",
    "\n",
    "index =  ['pancreas', 'blood vessels', \n",
    "          # Derived from neural crest\n",
    "          'dorsal root ganglion', 'trigeminal ganglion', 'cranial nerve', \n",
    "          # Derived from neural tube\n",
    "          'neural tube', 'forebrain', 'midbrain', 'hindbrain', \n",
    "          'negative'\n",
    "         ]"
   ]
  },
  {
   "cell_type": "code",
   "execution_count": 17,
   "id": "2a2d8bdb-87fa-47f6-b7cb-a5acd0f1c944",
   "metadata": {
    "execution": {
     "iopub.execute_input": "2025-09-19T02:04:13.792821Z",
     "iopub.status.busy": "2025-09-19T02:04:13.792268Z",
     "iopub.status.idle": "2025-09-19T02:04:13.796807Z",
     "shell.execute_reply": "2025-09-19T02:04:13.796025Z",
     "shell.execute_reply.started": "2025-09-19T02:04:13.792794Z"
    }
   },
   "outputs": [],
   "source": [
    "columns = [\"WTC11\", \"PGP-1\", \"SC5\", \n",
    "           \"SC11\", \"SC6\", \"SC9\",\n",
    "           \"SC4\", \n",
    "           \"SC8\", \"SC2\", \n",
    "           \"SC7\", \"SC3\"\n",
    "           ]"
   ]
  },
  {
   "cell_type": "code",
   "execution_count": 20,
   "id": "139abdcd-2578-4ff3-9363-885ef0d986a5",
   "metadata": {
    "execution": {
     "iopub.execute_input": "2025-09-19T02:07:09.168978Z",
     "iopub.status.busy": "2025-09-19T02:07:09.167657Z",
     "iopub.status.idle": "2025-09-19T02:08:35.318223Z",
     "shell.execute_reply": "2025-09-19T02:08:35.317216Z",
     "shell.execute_reply.started": "2025-09-19T02:07:09.168936Z"
    },
    "scrolled": true
   },
   "outputs": [],
   "source": [
    "# Get zscores\n",
    "\n",
    "df_zscore = df_exp[samples2].loc[list(es2)].apply(zscore, axis=1)"
   ]
  },
  {
   "cell_type": "code",
   "execution_count": 21,
   "id": "dde89269-0bd4-4ee1-be46-f157b00e60de",
   "metadata": {
    "execution": {
     "iopub.execute_input": "2025-09-19T02:08:35.320474Z",
     "iopub.status.busy": "2025-09-19T02:08:35.320085Z",
     "iopub.status.idle": "2025-09-19T02:08:35.389442Z",
     "shell.execute_reply": "2025-09-19T02:08:35.388623Z",
     "shell.execute_reply.started": "2025-09-19T02:08:35.320448Z"
    }
   },
   "outputs": [
    {
     "data": {
      "text/html": [
       "<div>\n",
       "<style scoped>\n",
       "    .dataframe tbody tr th:only-of-type {\n",
       "        vertical-align: middle;\n",
       "    }\n",
       "\n",
       "    .dataframe tbody tr th {\n",
       "        vertical-align: top;\n",
       "    }\n",
       "\n",
       "    .dataframe thead th {\n",
       "        text-align: right;\n",
       "    }\n",
       "</style>\n",
       "<table border=\"1\" class=\"dataframe\">\n",
       "  <thead>\n",
       "    <tr style=\"text-align: right;\">\n",
       "      <th></th>\n",
       "      <th>iPSCs (WTC11)</th>\n",
       "      <th>iPSCs (PGP-1)</th>\n",
       "      <th>ESCs (H9)</th>\n",
       "      <th>Endodermal cells</th>\n",
       "      <th>Pancreatic progenitor cells</th>\n",
       "      <th>Insulin producing beta-like cells</th>\n",
       "      <th>Endothelial cells</th>\n",
       "      <th>Neural crest cells</th>\n",
       "      <th>Excitatory cortical neurons</th>\n",
       "      <th>Osteocytes</th>\n",
       "      <th>Astrocytes</th>\n",
       "    </tr>\n",
       "  </thead>\n",
       "  <tbody>\n",
       "    <tr>\n",
       "      <th>Pancreas</th>\n",
       "      <td>-0.408576</td>\n",
       "      <td>-0.435874</td>\n",
       "      <td>-0.694437</td>\n",
       "      <td>-0.101364</td>\n",
       "      <td>1.619753</td>\n",
       "      <td>0.758338</td>\n",
       "      <td>0.120417</td>\n",
       "      <td>-0.593875</td>\n",
       "      <td>-0.760207</td>\n",
       "      <td>-0.022888</td>\n",
       "      <td>0.518713</td>\n",
       "    </tr>\n",
       "    <tr>\n",
       "      <th>Blood vessels</th>\n",
       "      <td>-0.148368</td>\n",
       "      <td>-0.130356</td>\n",
       "      <td>-0.120526</td>\n",
       "      <td>-0.045789</td>\n",
       "      <td>-0.090140</td>\n",
       "      <td>-0.624797</td>\n",
       "      <td>1.750747</td>\n",
       "      <td>0.462625</td>\n",
       "      <td>-0.580718</td>\n",
       "      <td>-0.764649</td>\n",
       "      <td>0.291970</td>\n",
       "    </tr>\n",
       "  </tbody>\n",
       "</table>\n",
       "</div>"
      ],
      "text/plain": [
       "               iPSCs (WTC11)  iPSCs (PGP-1)  ESCs (H9)  Endodermal cells  \\\n",
       "Pancreas           -0.408576      -0.435874  -0.694437         -0.101364   \n",
       "Blood vessels      -0.148368      -0.130356  -0.120526         -0.045789   \n",
       "\n",
       "               Pancreatic progenitor cells  Insulin producing beta-like cells  \\\n",
       "Pancreas                          1.619753                           0.758338   \n",
       "Blood vessels                    -0.090140                          -0.624797   \n",
       "\n",
       "               Endothelial cells  Neural crest cells  \\\n",
       "Pancreas                0.120417           -0.593875   \n",
       "Blood vessels           1.750747            0.462625   \n",
       "\n",
       "               Excitatory cortical neurons  Osteocytes  Astrocytes  \n",
       "Pancreas                         -0.760207   -0.022888    0.518713  \n",
       "Blood vessels                    -0.580718   -0.764649    0.291970  "
      ]
     },
     "execution_count": 21,
     "metadata": {},
     "output_type": "execute_result"
    }
   ],
   "source": [
    "# Generate matrix for heatmap\n",
    "\n",
    "results = []\n",
    "for t in index:\n",
    "    results.append(df_zscore.loc[list(categories[t])][columns].mean())\n",
    "df_heatmap = pd.DataFrame(results, index=[i.capitalize() for i in index])\n",
    "renamed_columns = []\n",
    "for c in columns:\n",
    "    if c in [\"WTC11\", \"PGP-1\"]:\n",
    "        renamed_columns.append(f\"{labels[c][1]} ({c})\")\n",
    "    elif c == \"SC5\":\n",
    "        renamed_columns.append(f\"{labels[c][1]} (H9)\")\n",
    "    else:\n",
    "        renamed_columns.append(labels[c][0].split(\"derived \")[1].capitalize())\n",
    "df_heatmap.columns = renamed_columns\n",
    "df_heatmap.head(2)"
   ]
  },
  {
   "cell_type": "code",
   "execution_count": 22,
   "id": "17f6702f-d89f-4fcc-8c9f-b27e57ac5e36",
   "metadata": {
    "execution": {
     "iopub.execute_input": "2025-09-19T02:08:35.390514Z",
     "iopub.status.busy": "2025-09-19T02:08:35.390261Z",
     "iopub.status.idle": "2025-09-19T02:08:56.416040Z",
     "shell.execute_reply": "2025-09-19T02:08:56.414995Z",
     "shell.execute_reply.started": "2025-09-19T02:08:35.390490Z"
    }
   },
   "outputs": [
    {
     "data": {
      "image/png": "[encoded data removed]",
      "text/plain": [
       "<Figure size 230x200 with 2 Axes>"
      ]
     },
     "metadata": {},
     "output_type": "display_data"
    }
   ],
   "source": [
    "fig, ax = plt.subplots(figsize=(2.3,2))\n",
    "vlims=(-1,0,1)\n",
    "g = sns.heatmap(df_heatmap, vmin=vlims[0], vmax=vlims[-1], \n",
    "                xticklabels=True, cmap=\"bwr\", cbar=False, ax=ax)\n",
    "g.set_xticklabels(g.get_xticklabels(), rotation=45, ha='right')\n",
    "g.tick_params(labelsize=sfontsize)\n",
    "\n",
    "cbar_ax = fig.add_axes([-0.48, 0, 0.2, 0.05])\n",
    "cbar = plt.colorbar(g.collections[0], cax=cbar_ax, orientation=\"horizontal\")\n",
    "cbar.set_ticks(vlims)\n",
    "cbar.set_ticklabels(vlims)\n",
    "cbar.ax.tick_params(labelsize=sfontsize) \n",
    "cbar.set_label(\"Average Z-score\", fontsize=sfontsize)\n",
    "\n",
    "g.set_ylabel(\"VISTA elements \\n($in$ $vivo$ validated)\", fontsize=bfontsize, labelpad=8)\n",
    "line_x = -0.72\n",
    "g.plot([line_x, line_x], [0, 1], transform=g.transAxes, c=\"black\", clip_on=False, lw=lw)\n",
    "g.set_xlabel(\"PRO-cap elements\", fontsize=bfontsize, x=0.4, labelpad=8)\n",
    "line_y = -0.95\n",
    "g.plot([-0.2, 1], [line_y, line_y], transform=g.transAxes, c=\"black\", clip_on=False, lw=lw)\n",
    "\n",
    "plt.savefig(f\"{PROJECT_DIR_o}figures/Fig2e.pdf\", bbox_inches='tight', transparent=True)"
   ]
  },
  {
   "cell_type": "code",
   "execution_count": null,
   "id": "a54a09d9-ca95-42e8-9dc6-c09cae050c6a",
   "metadata": {},
   "outputs": [],
   "source": []
  }
 ],
 "metadata": {
  "kernelspec": {
   "display_name": "Python 3 (ipykernel)",
   "language": "python",
   "name": "python3"
  },
  "language_info": {
   "codemirror_mode": {
    "name": "ipython",
    "version": 3
   },
   "file_extension": ".py",
   "mimetype": "text/x-python",
   "name": "python",
   "nbconvert_exporter": "python",
   "pygments_lexer": "ipython3",
   "version": "3.10.8"
  }
 },
 "nbformat": 4,
 "nbformat_minor": 5
}
